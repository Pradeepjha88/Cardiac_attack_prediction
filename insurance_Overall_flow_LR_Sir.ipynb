{
  "nbformat": 4,
  "nbformat_minor": 0,
  "metadata": {
    "colab": {
      "name": "Overall_flow_LR_Sir.ipynb",
      "provenance": [],
      "collapsed_sections": [],
      "include_colab_link": true
    },
    "kernelspec": {
      "name": "python3",
      "display_name": "Python 3"
    },
    "language_info": {
      "name": "python"
    }
  },
  "cells": [
    {
      "cell_type": "markdown",
      "metadata": {
        "id": "view-in-github",
        "colab_type": "text"
      },
      "source": [
        "<a href=\"https://colab.research.google.com/github/Pradeepjha88/Cardiac_attack_prediction/blob/master/insurance_Overall_flow_LR_Sir.ipynb\" target=\"_parent\"><img src=\"https://colab.research.google.com/assets/colab-badge.svg\" alt=\"Open In Colab\"/></a>"
      ]
    },
    {
      "cell_type": "code",
      "metadata": {
        "id": "6juzCWDFWJNu"
      },
      "source": [
        "import pandas as pd\n",
        "import numpy as np\n",
        "import seaborn as sns \n",
        "import matplotlib.pyplot as plt\n",
        "import matplotlib.pyplot as plt \n",
        "from sklearn.linear_model import LinearRegression"
      ],
      "execution_count": null,
      "outputs": []
    },
    {
      "cell_type": "code",
      "metadata": {
        "id": "0NsIfKJOXcSF"
      },
      "source": [
        "df = pd.read_csv('isurance_pred_regression.csv')"
      ],
      "execution_count": null,
      "outputs": []
    },
    {
      "cell_type": "code",
      "metadata": {
        "colab": {
          "base_uri": "https://localhost:8080/",
          "height": 241
        },
        "id": "hY9UZN_1aMsU",
        "outputId": "3c0a20cd-6360-4eeb-c67a-3a60d15e458a"
      },
      "source": [
        "df.head()"
      ],
      "execution_count": null,
      "outputs": [
        {
          "output_type": "execute_result",
          "data": {
            "text/html": [
              "<div>\n",
              "<style scoped>\n",
              "    .dataframe tbody tr th:only-of-type {\n",
              "        vertical-align: middle;\n",
              "    }\n",
              "\n",
              "    .dataframe tbody tr th {\n",
              "        vertical-align: top;\n",
              "    }\n",
              "\n",
              "    .dataframe thead th {\n",
              "        text-align: right;\n",
              "    }\n",
              "</style>\n",
              "<table border=\"1\" class=\"dataframe\">\n",
              "  <thead>\n",
              "    <tr style=\"text-align: right;\">\n",
              "      <th></th>\n",
              "      <th>id</th>\n",
              "      <th>perc_premium_paid_by_cash_credit</th>\n",
              "      <th>age_in_days</th>\n",
              "      <th>Income</th>\n",
              "      <th>Count_3-6_months_late</th>\n",
              "      <th>Count_6-12_months_late</th>\n",
              "      <th>Count_more_than_12_months_late</th>\n",
              "      <th>application_underwriting_score</th>\n",
              "      <th>no_of_premiums_paid</th>\n",
              "      <th>sourcing_channel</th>\n",
              "      <th>residence_area_type</th>\n",
              "      <th>premium</th>\n",
              "      <th>target</th>\n",
              "    </tr>\n",
              "  </thead>\n",
              "  <tbody>\n",
              "    <tr>\n",
              "      <th>0</th>\n",
              "      <td>110936</td>\n",
              "      <td>0.429</td>\n",
              "      <td>12058</td>\n",
              "      <td>355060</td>\n",
              "      <td>0.0</td>\n",
              "      <td>0.0</td>\n",
              "      <td>0.0</td>\n",
              "      <td>99.02</td>\n",
              "      <td>13</td>\n",
              "      <td>C</td>\n",
              "      <td>Urban</td>\n",
              "      <td>3300</td>\n",
              "      <td>1</td>\n",
              "    </tr>\n",
              "    <tr>\n",
              "      <th>1</th>\n",
              "      <td>41492</td>\n",
              "      <td>0.010</td>\n",
              "      <td>21546</td>\n",
              "      <td>315150</td>\n",
              "      <td>0.0</td>\n",
              "      <td>0.0</td>\n",
              "      <td>0.0</td>\n",
              "      <td>99.89</td>\n",
              "      <td>21</td>\n",
              "      <td>A</td>\n",
              "      <td>Urban</td>\n",
              "      <td>18000</td>\n",
              "      <td>1</td>\n",
              "    </tr>\n",
              "    <tr>\n",
              "      <th>2</th>\n",
              "      <td>31300</td>\n",
              "      <td>0.917</td>\n",
              "      <td>17531</td>\n",
              "      <td>84140</td>\n",
              "      <td>2.0</td>\n",
              "      <td>3.0</td>\n",
              "      <td>1.0</td>\n",
              "      <td>98.69</td>\n",
              "      <td>7</td>\n",
              "      <td>C</td>\n",
              "      <td>Rural</td>\n",
              "      <td>3300</td>\n",
              "      <td>0</td>\n",
              "    </tr>\n",
              "    <tr>\n",
              "      <th>3</th>\n",
              "      <td>19415</td>\n",
              "      <td>0.049</td>\n",
              "      <td>15341</td>\n",
              "      <td>250510</td>\n",
              "      <td>0.0</td>\n",
              "      <td>0.0</td>\n",
              "      <td>0.0</td>\n",
              "      <td>99.57</td>\n",
              "      <td>9</td>\n",
              "      <td>A</td>\n",
              "      <td>Urban</td>\n",
              "      <td>9600</td>\n",
              "      <td>1</td>\n",
              "    </tr>\n",
              "    <tr>\n",
              "      <th>4</th>\n",
              "      <td>99379</td>\n",
              "      <td>0.052</td>\n",
              "      <td>31400</td>\n",
              "      <td>198680</td>\n",
              "      <td>0.0</td>\n",
              "      <td>0.0</td>\n",
              "      <td>0.0</td>\n",
              "      <td>99.87</td>\n",
              "      <td>12</td>\n",
              "      <td>B</td>\n",
              "      <td>Urban</td>\n",
              "      <td>9600</td>\n",
              "      <td>1</td>\n",
              "    </tr>\n",
              "  </tbody>\n",
              "</table>\n",
              "</div>"
            ],
            "text/plain": [
              "       id  perc_premium_paid_by_cash_credit  ...  premium  target\n",
              "0  110936                             0.429  ...     3300       1\n",
              "1   41492                             0.010  ...    18000       1\n",
              "2   31300                             0.917  ...     3300       0\n",
              "3   19415                             0.049  ...     9600       1\n",
              "4   99379                             0.052  ...     9600       1\n",
              "\n",
              "[5 rows x 13 columns]"
            ]
          },
          "metadata": {
            "tags": []
          },
          "execution_count": 154
        }
      ]
    },
    {
      "cell_type": "code",
      "metadata": {
        "colab": {
          "base_uri": "https://localhost:8080/"
        },
        "id": "tEhN4riwg6Y2",
        "outputId": "0a551122-4558-4148-e90e-37455612b86e"
      },
      "source": [
        "df.dtypes"
      ],
      "execution_count": null,
      "outputs": [
        {
          "output_type": "execute_result",
          "data": {
            "text/plain": [
              "id                                    int64\n",
              "perc_premium_paid_by_cash_credit    float64\n",
              "age_in_days                           int64\n",
              "Income                                int64\n",
              "Count_3-6_months_late               float64\n",
              "Count_6-12_months_late              float64\n",
              "Count_more_than_12_months_late      float64\n",
              "application_underwriting_score      float64\n",
              "no_of_premiums_paid                   int64\n",
              "sourcing_channel                     object\n",
              "residence_area_type                  object\n",
              "premium                               int64\n",
              "target                                int64\n",
              "dtype: object"
            ]
          },
          "metadata": {
            "tags": []
          },
          "execution_count": 155
        }
      ]
    },
    {
      "cell_type": "markdown",
      "metadata": {
        "id": "7aFRSHkLk-nJ"
      },
      "source": [
        "# Data type conversion:"
      ]
    },
    {
      "cell_type": "code",
      "metadata": {
        "colab": {
          "base_uri": "https://localhost:8080/",
          "height": 456
        },
        "id": "qAGgsJgWiPtP",
        "outputId": "546a4668-6387-4a12-9b30-388148871924"
      },
      "source": [
        "df"
      ],
      "execution_count": null,
      "outputs": [
        {
          "output_type": "execute_result",
          "data": {
            "text/html": [
              "<div>\n",
              "<style scoped>\n",
              "    .dataframe tbody tr th:only-of-type {\n",
              "        vertical-align: middle;\n",
              "    }\n",
              "\n",
              "    .dataframe tbody tr th {\n",
              "        vertical-align: top;\n",
              "    }\n",
              "\n",
              "    .dataframe thead th {\n",
              "        text-align: right;\n",
              "    }\n",
              "</style>\n",
              "<table border=\"1\" class=\"dataframe\">\n",
              "  <thead>\n",
              "    <tr style=\"text-align: right;\">\n",
              "      <th></th>\n",
              "      <th>id</th>\n",
              "      <th>perc_premium_paid_by_cash_credit</th>\n",
              "      <th>age_in_days</th>\n",
              "      <th>Income</th>\n",
              "      <th>Count_3-6_months_late</th>\n",
              "      <th>Count_6-12_months_late</th>\n",
              "      <th>Count_more_than_12_months_late</th>\n",
              "      <th>application_underwriting_score</th>\n",
              "      <th>no_of_premiums_paid</th>\n",
              "      <th>sourcing_channel</th>\n",
              "      <th>residence_area_type</th>\n",
              "      <th>premium</th>\n",
              "      <th>target</th>\n",
              "    </tr>\n",
              "  </thead>\n",
              "  <tbody>\n",
              "    <tr>\n",
              "      <th>0</th>\n",
              "      <td>110936</td>\n",
              "      <td>0.429</td>\n",
              "      <td>12058</td>\n",
              "      <td>355060</td>\n",
              "      <td>0.0</td>\n",
              "      <td>0.0</td>\n",
              "      <td>0.0</td>\n",
              "      <td>99.02</td>\n",
              "      <td>13</td>\n",
              "      <td>C</td>\n",
              "      <td>Urban</td>\n",
              "      <td>3300</td>\n",
              "      <td>1</td>\n",
              "    </tr>\n",
              "    <tr>\n",
              "      <th>1</th>\n",
              "      <td>41492</td>\n",
              "      <td>0.010</td>\n",
              "      <td>21546</td>\n",
              "      <td>315150</td>\n",
              "      <td>0.0</td>\n",
              "      <td>0.0</td>\n",
              "      <td>0.0</td>\n",
              "      <td>99.89</td>\n",
              "      <td>21</td>\n",
              "      <td>A</td>\n",
              "      <td>Urban</td>\n",
              "      <td>18000</td>\n",
              "      <td>1</td>\n",
              "    </tr>\n",
              "    <tr>\n",
              "      <th>2</th>\n",
              "      <td>31300</td>\n",
              "      <td>0.917</td>\n",
              "      <td>17531</td>\n",
              "      <td>84140</td>\n",
              "      <td>2.0</td>\n",
              "      <td>3.0</td>\n",
              "      <td>1.0</td>\n",
              "      <td>98.69</td>\n",
              "      <td>7</td>\n",
              "      <td>C</td>\n",
              "      <td>Rural</td>\n",
              "      <td>3300</td>\n",
              "      <td>0</td>\n",
              "    </tr>\n",
              "    <tr>\n",
              "      <th>3</th>\n",
              "      <td>19415</td>\n",
              "      <td>0.049</td>\n",
              "      <td>15341</td>\n",
              "      <td>250510</td>\n",
              "      <td>0.0</td>\n",
              "      <td>0.0</td>\n",
              "      <td>0.0</td>\n",
              "      <td>99.57</td>\n",
              "      <td>9</td>\n",
              "      <td>A</td>\n",
              "      <td>Urban</td>\n",
              "      <td>9600</td>\n",
              "      <td>1</td>\n",
              "    </tr>\n",
              "    <tr>\n",
              "      <th>4</th>\n",
              "      <td>99379</td>\n",
              "      <td>0.052</td>\n",
              "      <td>31400</td>\n",
              "      <td>198680</td>\n",
              "      <td>0.0</td>\n",
              "      <td>0.0</td>\n",
              "      <td>0.0</td>\n",
              "      <td>99.87</td>\n",
              "      <td>12</td>\n",
              "      <td>B</td>\n",
              "      <td>Urban</td>\n",
              "      <td>9600</td>\n",
              "      <td>1</td>\n",
              "    </tr>\n",
              "    <tr>\n",
              "      <th>...</th>\n",
              "      <td>...</td>\n",
              "      <td>...</td>\n",
              "      <td>...</td>\n",
              "      <td>...</td>\n",
              "      <td>...</td>\n",
              "      <td>...</td>\n",
              "      <td>...</td>\n",
              "      <td>...</td>\n",
              "      <td>...</td>\n",
              "      <td>...</td>\n",
              "      <td>...</td>\n",
              "      <td>...</td>\n",
              "      <td>...</td>\n",
              "    </tr>\n",
              "    <tr>\n",
              "      <th>79848</th>\n",
              "      <td>48057</td>\n",
              "      <td>0.425</td>\n",
              "      <td>23367</td>\n",
              "      <td>224550</td>\n",
              "      <td>1.0</td>\n",
              "      <td>0.0</td>\n",
              "      <td>0.0</td>\n",
              "      <td>98.70</td>\n",
              "      <td>19</td>\n",
              "      <td>B</td>\n",
              "      <td>Urban</td>\n",
              "      <td>13800</td>\n",
              "      <td>1</td>\n",
              "    </tr>\n",
              "    <tr>\n",
              "      <th>79849</th>\n",
              "      <td>59012</td>\n",
              "      <td>0.704</td>\n",
              "      <td>19356</td>\n",
              "      <td>279150</td>\n",
              "      <td>1.0</td>\n",
              "      <td>0.0</td>\n",
              "      <td>1.0</td>\n",
              "      <td>99.42</td>\n",
              "      <td>12</td>\n",
              "      <td>A</td>\n",
              "      <td>Rural</td>\n",
              "      <td>28500</td>\n",
              "      <td>1</td>\n",
              "    </tr>\n",
              "    <tr>\n",
              "      <th>79850</th>\n",
              "      <td>77050</td>\n",
              "      <td>0.000</td>\n",
              "      <td>23372</td>\n",
              "      <td>305020</td>\n",
              "      <td>0.0</td>\n",
              "      <td>0.0</td>\n",
              "      <td>0.0</td>\n",
              "      <td>98.89</td>\n",
              "      <td>12</td>\n",
              "      <td>A</td>\n",
              "      <td>Rural</td>\n",
              "      <td>9600</td>\n",
              "      <td>1</td>\n",
              "    </tr>\n",
              "    <tr>\n",
              "      <th>79851</th>\n",
              "      <td>67225</td>\n",
              "      <td>0.398</td>\n",
              "      <td>22641</td>\n",
              "      <td>39330</td>\n",
              "      <td>0.0</td>\n",
              "      <td>0.0</td>\n",
              "      <td>0.0</td>\n",
              "      <td>98.68</td>\n",
              "      <td>8</td>\n",
              "      <td>A</td>\n",
              "      <td>Rural</td>\n",
              "      <td>5700</td>\n",
              "      <td>1</td>\n",
              "    </tr>\n",
              "    <tr>\n",
              "      <th>79852</th>\n",
              "      <td>71531</td>\n",
              "      <td>0.550</td>\n",
              "      <td>15709</td>\n",
              "      <td>280140</td>\n",
              "      <td>1.0</td>\n",
              "      <td>0.0</td>\n",
              "      <td>1.0</td>\n",
              "      <td>99.84</td>\n",
              "      <td>8</td>\n",
              "      <td>A</td>\n",
              "      <td>Urban</td>\n",
              "      <td>9600</td>\n",
              "      <td>0</td>\n",
              "    </tr>\n",
              "  </tbody>\n",
              "</table>\n",
              "<p>79853 rows × 13 columns</p>\n",
              "</div>"
            ],
            "text/plain": [
              "           id  perc_premium_paid_by_cash_credit  ...  premium  target\n",
              "0      110936                             0.429  ...     3300       1\n",
              "1       41492                             0.010  ...    18000       1\n",
              "2       31300                             0.917  ...     3300       0\n",
              "3       19415                             0.049  ...     9600       1\n",
              "4       99379                             0.052  ...     9600       1\n",
              "...       ...                               ...  ...      ...     ...\n",
              "79848   48057                             0.425  ...    13800       1\n",
              "79849   59012                             0.704  ...    28500       1\n",
              "79850   77050                             0.000  ...     9600       1\n",
              "79851   67225                             0.398  ...     5700       1\n",
              "79852   71531                             0.550  ...     9600       0\n",
              "\n",
              "[79853 rows x 13 columns]"
            ]
          },
          "metadata": {
            "tags": []
          },
          "execution_count": 156
        }
      ]
    },
    {
      "cell_type": "code",
      "metadata": {
        "id": "-P6FduV1hoRp"
      },
      "source": [
        "df = pd.get_dummies(df,columns=['sourcing_channel','residence_area_type'],drop_first=True)"
      ],
      "execution_count": null,
      "outputs": []
    },
    {
      "cell_type": "markdown",
      "metadata": {
        "id": "3E6u8dVLcVN6"
      },
      "source": [
        "# Checking column > 90% NaN & rows > 50% NaN"
      ]
    },
    {
      "cell_type": "code",
      "metadata": {
        "colab": {
          "base_uri": "https://localhost:8080/"
        },
        "id": "Px81uIjucS8E",
        "outputId": "ba850e05-6090-4f2c-eee0-5053f6344893"
      },
      "source": [
        "df.loc[:,df.columns[df.isnull().sum() / df.shape[0] < 0.9 ]].shape\n"
      ],
      "execution_count": null,
      "outputs": [
        {
          "output_type": "execute_result",
          "data": {
            "text/plain": [
              "(79853, 16)"
            ]
          },
          "metadata": {
            "tags": []
          },
          "execution_count": 158
        }
      ]
    },
    {
      "cell_type": "code",
      "metadata": {
        "colab": {
          "base_uri": "https://localhost:8080/"
        },
        "id": "8ksW67T1mZ7j",
        "outputId": "45747b72-42fa-4bc3-fb9a-c1e3f21d6d1f"
      },
      "source": [
        "# No column having >90% NAN values\n",
        "df.loc[:,df.columns[(df.isnull().sum()) / (df.shape[0]) < 0.9 ]].shape\n"
      ],
      "execution_count": null,
      "outputs": [
        {
          "output_type": "execute_result",
          "data": {
            "text/plain": [
              "(79853, 16)"
            ]
          },
          "metadata": {
            "tags": []
          },
          "execution_count": 159
        }
      ]
    },
    {
      "cell_type": "code",
      "metadata": {
        "colab": {
          "base_uri": "https://localhost:8080/"
        },
        "id": "R2L_1jAVc6Jj",
        "outputId": "e09d5262-857b-4db0-987e-460df676bcee"
      },
      "source": [
        "df[df.isnull().sum(axis=1) <=(df.shape[1] * 0.5) ].shape"
      ],
      "execution_count": null,
      "outputs": [
        {
          "output_type": "execute_result",
          "data": {
            "text/plain": [
              "(79853, 16)"
            ]
          },
          "metadata": {
            "tags": []
          },
          "execution_count": 160
        }
      ]
    },
    {
      "cell_type": "markdown",
      "metadata": {
        "id": "S6Dqk-_8dr1m"
      },
      "source": [
        "# Filling missing values if any"
      ]
    },
    {
      "cell_type": "code",
      "metadata": {
        "colab": {
          "base_uri": "https://localhost:8080/"
        },
        "id": "l04geMw95JJt",
        "outputId": "533f5fdf-d0b2-40e9-b98c-4f63e75b6f90"
      },
      "source": [
        "df.isnull().sum()"
      ],
      "execution_count": null,
      "outputs": [
        {
          "output_type": "execute_result",
          "data": {
            "text/plain": [
              "id                                     0\n",
              "perc_premium_paid_by_cash_credit       0\n",
              "age_in_days                            0\n",
              "Income                                 0\n",
              "Count_3-6_months_late                 97\n",
              "Count_6-12_months_late                97\n",
              "Count_more_than_12_months_late        97\n",
              "application_underwriting_score      2974\n",
              "no_of_premiums_paid                    0\n",
              "premium                                0\n",
              "target                                 0\n",
              "sourcing_channel_B                     0\n",
              "sourcing_channel_C                     0\n",
              "sourcing_channel_D                     0\n",
              "sourcing_channel_E                     0\n",
              "residence_area_type_Urban              0\n",
              "dtype: int64"
            ]
          },
          "metadata": {
            "tags": []
          },
          "execution_count": 161
        }
      ]
    },
    {
      "cell_type": "code",
      "metadata": {
        "colab": {
          "base_uri": "https://localhost:8080/"
        },
        "id": "vCsObTcFjC7X",
        "outputId": "e6627ecd-dd85-4005-968a-f8bff6415031"
      },
      "source": [
        "df['application_underwriting_score'].describe()"
      ],
      "execution_count": null,
      "outputs": [
        {
          "output_type": "execute_result",
          "data": {
            "text/plain": [
              "count    76879.000000\n",
              "mean        99.067291\n",
              "std          0.739799\n",
              "min         91.900000\n",
              "25%         98.810000\n",
              "50%         99.210000\n",
              "75%         99.540000\n",
              "max         99.890000\n",
              "Name: application_underwriting_score, dtype: float64"
            ]
          },
          "metadata": {
            "tags": []
          },
          "execution_count": 162
        }
      ]
    },
    {
      "cell_type": "code",
      "metadata": {
        "id": "_FRJJTF7daje"
      },
      "source": [
        "df['Count_3-6_months_late'].fillna(df['Count_3-6_months_late'].mode()[0],inplace=True)\n",
        "df['Count_6-12_months_late'].fillna(df['Count_6-12_months_late'].mode()[0],inplace=True)\n",
        "df['Count_more_than_12_months_late'].fillna(df['Count_more_than_12_months_late'].mode()[0],inplace=True)\n",
        "df['application_underwriting_score'].fillna(df['application_underwriting_score'].median(),inplace=True)"
      ],
      "execution_count": null,
      "outputs": []
    },
    {
      "cell_type": "code",
      "metadata": {
        "colab": {
          "base_uri": "https://localhost:8080/"
        },
        "id": "aYYj5CkCj--Q",
        "outputId": "2e1ca888-83df-4967-e9eb-e4be22b18339"
      },
      "source": [
        "df.isnull().sum()"
      ],
      "execution_count": null,
      "outputs": [
        {
          "output_type": "execute_result",
          "data": {
            "text/plain": [
              "id                                  0\n",
              "perc_premium_paid_by_cash_credit    0\n",
              "age_in_days                         0\n",
              "Income                              0\n",
              "Count_3-6_months_late               0\n",
              "Count_6-12_months_late              0\n",
              "Count_more_than_12_months_late      0\n",
              "application_underwriting_score      0\n",
              "no_of_premiums_paid                 0\n",
              "premium                             0\n",
              "target                              0\n",
              "sourcing_channel_B                  0\n",
              "sourcing_channel_C                  0\n",
              "sourcing_channel_D                  0\n",
              "sourcing_channel_E                  0\n",
              "residence_area_type_Urban           0\n",
              "dtype: int64"
            ]
          },
          "metadata": {
            "tags": []
          },
          "execution_count": 164
        }
      ]
    },
    {
      "cell_type": "markdown",
      "metadata": {
        "id": "Sv7xg9yKek2m"
      },
      "source": [
        "#Checking columns having all same values/ all different values"
      ]
    },
    {
      "cell_type": "code",
      "metadata": {
        "colab": {
          "base_uri": "https://localhost:8080/"
        },
        "id": "reiCDBQycGlJ",
        "outputId": "b0322efe-639e-4087-e57b-a983e16a533a"
      },
      "source": [
        "(df == df.iloc[0]).all()"
      ],
      "execution_count": null,
      "outputs": [
        {
          "output_type": "execute_result",
          "data": {
            "text/plain": [
              "id                                  False\n",
              "perc_premium_paid_by_cash_credit    False\n",
              "age_in_days                         False\n",
              "Income                              False\n",
              "Count_3-6_months_late               False\n",
              "Count_6-12_months_late              False\n",
              "Count_more_than_12_months_late      False\n",
              "application_underwriting_score      False\n",
              "no_of_premiums_paid                 False\n",
              "premium                             False\n",
              "target                              False\n",
              "sourcing_channel_B                  False\n",
              "sourcing_channel_C                  False\n",
              "sourcing_channel_D                  False\n",
              "sourcing_channel_E                  False\n",
              "residence_area_type_Urban           False\n",
              "dtype: bool"
            ]
          },
          "metadata": {
            "tags": []
          },
          "execution_count": 165
        }
      ]
    },
    {
      "cell_type": "code",
      "metadata": {
        "colab": {
          "base_uri": "https://localhost:8080/"
        },
        "id": "Af_6Oyo5e8fZ",
        "outputId": "391761a4-aa1b-4914-c6d3-2a636c268ddd"
      },
      "source": [
        "df.shape"
      ],
      "execution_count": null,
      "outputs": [
        {
          "output_type": "execute_result",
          "data": {
            "text/plain": [
              "(79853, 16)"
            ]
          },
          "metadata": {
            "tags": []
          },
          "execution_count": 166
        }
      ]
    },
    {
      "cell_type": "code",
      "metadata": {
        "id": "WZvF5esOdwmd",
        "colab": {
          "base_uri": "https://localhost:8080/"
        },
        "outputId": "f9595a42-d5fe-47a4-e2c3-ce3f24d8d7e3"
      },
      "source": [
        "for col in df.columns:\n",
        "    if len(df[col].unique()) == df.shape[0]:\n",
        "        print(\"col\", col)\n",
        "        df.drop(col,inplace=True,axis=1)"
      ],
      "execution_count": null,
      "outputs": [
        {
          "output_type": "stream",
          "text": [
            "col id\n"
          ],
          "name": "stdout"
        }
      ]
    },
    {
      "cell_type": "code",
      "metadata": {
        "id": "mHvNY9MidzEo",
        "colab": {
          "base_uri": "https://localhost:8080/"
        },
        "outputId": "eaa40aca-522a-4c13-df0b-b0f8fff67424"
      },
      "source": [
        "df.shape"
      ],
      "execution_count": null,
      "outputs": [
        {
          "output_type": "execute_result",
          "data": {
            "text/plain": [
              "(79853, 15)"
            ]
          },
          "metadata": {
            "tags": []
          },
          "execution_count": 168
        }
      ]
    },
    {
      "cell_type": "markdown",
      "metadata": {
        "id": "ETkXbF5Redlf"
      },
      "source": [
        "#Check the count of duplicate records and remove duplicate records"
      ]
    },
    {
      "cell_type": "code",
      "metadata": {
        "id": "s6syEYVGegoJ",
        "colab": {
          "base_uri": "https://localhost:8080/"
        },
        "outputId": "bb772317-38ac-40b8-b78d-e8859c03c643"
      },
      "source": [
        "df.duplicated().any().sum()\n",
        "#df.drop_duplicates(inplace = True)"
      ],
      "execution_count": null,
      "outputs": [
        {
          "output_type": "execute_result",
          "data": {
            "text/plain": [
              "0"
            ]
          },
          "metadata": {
            "tags": []
          },
          "execution_count": 169
        }
      ]
    },
    {
      "cell_type": "code",
      "metadata": {
        "colab": {
          "base_uri": "https://localhost:8080/"
        },
        "id": "AHyly4fhgbbY",
        "outputId": "0f1267fc-6df0-4ca2-ee7b-9f79b3d95f16"
      },
      "source": [
        "df.shape"
      ],
      "execution_count": null,
      "outputs": [
        {
          "output_type": "execute_result",
          "data": {
            "text/plain": [
              "(79853, 15)"
            ]
          },
          "metadata": {
            "tags": []
          },
          "execution_count": 170
        }
      ]
    },
    {
      "cell_type": "markdown",
      "metadata": {
        "id": "bDjcxD6d6-Wl"
      },
      "source": [
        "# Splitting data into train test"
      ]
    },
    {
      "cell_type": "code",
      "metadata": {
        "id": "5Ud_rg5T69QN"
      },
      "source": [
        "\n",
        "x = df.loc[:, ~df.columns.isin(['target'])]\n",
        "y = df.loc[:,'target']\n",
        "\n",
        "#We can do FS by different methods like LASO/RIDGE/ENTROPY"
      ],
      "execution_count": null,
      "outputs": []
    },
    {
      "cell_type": "code",
      "metadata": {
        "id": "0nz8GmoFtgrQ"
      },
      "source": [
        "from sklearn.model_selection import train_test_split\n",
        "#train_test_split() to split the dataset into train and test set at random.\n",
        "#test size data set should be 30% data\n",
        "X_train,X_test,Y_train, Y_test = train_test_split(x,y,test_size=0.3,random_state=42)\n",
        "#Creating an linear regression model object\n",
        "#model = LinearRegression()\n",
        "#Training the model using training data set\n",
        "#model.fit(X_train, Y_train) \n",
        "#X_train_predict = model.predict(X_train)\n",
        "#X_test_predict = model.predict(X_test)"
      ],
      "execution_count": null,
      "outputs": []
    },
    {
      "cell_type": "code",
      "metadata": {
        "colab": {
          "base_uri": "https://localhost:8080/"
        },
        "id": "6NZuxCEW_vT6",
        "outputId": "fcf50d73-cb98-4149-c755-2ab9fa7a541d"
      },
      "source": [
        "X_train.shape,X_test.shape"
      ],
      "execution_count": null,
      "outputs": [
        {
          "output_type": "execute_result",
          "data": {
            "text/plain": [
              "((55897, 14), (23956, 14))"
            ]
          },
          "metadata": {
            "tags": []
          },
          "execution_count": 173
        }
      ]
    },
    {
      "cell_type": "code",
      "metadata": {
        "colab": {
          "base_uri": "https://localhost:8080/"
        },
        "id": "49BSt5aMmZJ-",
        "outputId": "18cccd8f-bc18-4c7d-829d-bb611119ccba"
      },
      "source": [
        "Y_train"
      ],
      "execution_count": null,
      "outputs": [
        {
          "output_type": "execute_result",
          "data": {
            "text/plain": [
              "61663    1\n",
              "41631    1\n",
              "16230    1\n",
              "72881    1\n",
              "74337    0\n",
              "        ..\n",
              "6265     1\n",
              "54886    1\n",
              "76820    1\n",
              "860      1\n",
              "15795    1\n",
              "Name: target, Length: 55897, dtype: int64"
            ]
          },
          "metadata": {
            "tags": []
          },
          "execution_count": 174
        }
      ]
    },
    {
      "cell_type": "code",
      "metadata": {
        "colab": {
          "base_uri": "https://localhost:8080/"
        },
        "id": "deW7P-u-AApR",
        "outputId": "34561ce1-18aa-4389-9f99-efc06b773e7c"
      },
      "source": [
        "Y_train.shape, Y_test.shape"
      ],
      "execution_count": null,
      "outputs": [
        {
          "output_type": "execute_result",
          "data": {
            "text/plain": [
              "((55897,), (23956,))"
            ]
          },
          "metadata": {
            "tags": []
          },
          "execution_count": 175
        }
      ]
    },
    {
      "cell_type": "markdown",
      "metadata": {
        "id": "teTVuVfa9S2x"
      },
      "source": [
        "# Seperate Normalization on train/test data"
      ]
    },
    {
      "cell_type": "code",
      "metadata": {
        "id": "ObOfLq9f7qf9"
      },
      "source": [
        "#from sklearn import preprocessing\n",
        "#Normalise training data\n",
        "#x = X_train.values #returns a numpy array\n",
        "#StandardScaler = preprocessing.StandardScaler()\n",
        "#normalized_train_X = StandardScaler.fit_transform(X_train)\n",
        "#normalized_train_X = pd.DataFrame(normalized_train_X,columns=X_train.columns)\n",
        "#normalized_train_X\n",
        "\n"
      ],
      "execution_count": null,
      "outputs": []
    },
    {
      "cell_type": "code",
      "metadata": {
        "id": "S5foSH2V-q4A"
      },
      "source": [
        "#Normalise testing data\n",
        "#x = X_test.values #returns a numpy array\n",
        "#normalized_test_X = StandardScaler.fit_transform(X_test)\n",
        "#normalized_test_X = pd.DataFrame(normalized_test_X,columns=X_test.columns)\n",
        "#normalized_test_X"
      ],
      "execution_count": null,
      "outputs": []
    },
    {
      "cell_type": "markdown",
      "metadata": {
        "id": "G8Zkz6lSF_RS"
      },
      "source": [
        "# Comparing mean and median for outliers"
      ]
    },
    {
      "cell_type": "code",
      "metadata": {
        "colab": {
          "base_uri": "https://localhost:8080/",
          "height": 551
        },
        "id": "AoLRuhgqGB4q",
        "outputId": "805cc9f3-c3c5-4321-ba53-1cb71dc461cb"
      },
      "source": [
        "df.corr()"
      ],
      "execution_count": null,
      "outputs": [
        {
          "output_type": "execute_result",
          "data": {
            "text/html": [
              "<div>\n",
              "<style scoped>\n",
              "    .dataframe tbody tr th:only-of-type {\n",
              "        vertical-align: middle;\n",
              "    }\n",
              "\n",
              "    .dataframe tbody tr th {\n",
              "        vertical-align: top;\n",
              "    }\n",
              "\n",
              "    .dataframe thead th {\n",
              "        text-align: right;\n",
              "    }\n",
              "</style>\n",
              "<table border=\"1\" class=\"dataframe\">\n",
              "  <thead>\n",
              "    <tr style=\"text-align: right;\">\n",
              "      <th></th>\n",
              "      <th>perc_premium_paid_by_cash_credit</th>\n",
              "      <th>age_in_days</th>\n",
              "      <th>Income</th>\n",
              "      <th>Count_3-6_months_late</th>\n",
              "      <th>Count_6-12_months_late</th>\n",
              "      <th>Count_more_than_12_months_late</th>\n",
              "      <th>application_underwriting_score</th>\n",
              "      <th>no_of_premiums_paid</th>\n",
              "      <th>premium</th>\n",
              "      <th>target</th>\n",
              "      <th>sourcing_channel_B</th>\n",
              "      <th>sourcing_channel_C</th>\n",
              "      <th>sourcing_channel_D</th>\n",
              "      <th>sourcing_channel_E</th>\n",
              "      <th>residence_area_type_Urban</th>\n",
              "    </tr>\n",
              "  </thead>\n",
              "  <tbody>\n",
              "    <tr>\n",
              "      <th>perc_premium_paid_by_cash_credit</th>\n",
              "      <td>1.000000</td>\n",
              "      <td>-0.259131</td>\n",
              "      <td>-0.031868</td>\n",
              "      <td>0.213011</td>\n",
              "      <td>0.213953</td>\n",
              "      <td>0.167213</td>\n",
              "      <td>-0.138308</td>\n",
              "      <td>-0.152837</td>\n",
              "      <td>-0.067523</td>\n",
              "      <td>-0.241064</td>\n",
              "      <td>0.019778</td>\n",
              "      <td>0.045189</td>\n",
              "      <td>0.046534</td>\n",
              "      <td>0.014512</td>\n",
              "      <td>-0.001562</td>\n",
              "    </tr>\n",
              "    <tr>\n",
              "      <th>age_in_days</th>\n",
              "      <td>-0.259131</td>\n",
              "      <td>1.000000</td>\n",
              "      <td>0.029308</td>\n",
              "      <td>-0.057874</td>\n",
              "      <td>-0.072439</td>\n",
              "      <td>-0.059114</td>\n",
              "      <td>0.049582</td>\n",
              "      <td>0.176544</td>\n",
              "      <td>0.074070</td>\n",
              "      <td>0.095158</td>\n",
              "      <td>0.011423</td>\n",
              "      <td>-0.151481</td>\n",
              "      <td>-0.130678</td>\n",
              "      <td>-0.030726</td>\n",
              "      <td>0.000684</td>\n",
              "    </tr>\n",
              "    <tr>\n",
              "      <th>Income</th>\n",
              "      <td>-0.031868</td>\n",
              "      <td>0.029308</td>\n",
              "      <td>1.000000</td>\n",
              "      <td>-0.001296</td>\n",
              "      <td>-0.017292</td>\n",
              "      <td>-0.012341</td>\n",
              "      <td>0.062612</td>\n",
              "      <td>0.079078</td>\n",
              "      <td>0.302825</td>\n",
              "      <td>0.016542</td>\n",
              "      <td>0.015270</td>\n",
              "      <td>0.024703</td>\n",
              "      <td>0.039225</td>\n",
              "      <td>0.013132</td>\n",
              "      <td>0.003392</td>\n",
              "    </tr>\n",
              "    <tr>\n",
              "      <th>Count_3-6_months_late</th>\n",
              "      <td>0.213011</td>\n",
              "      <td>-0.057874</td>\n",
              "      <td>-0.001296</td>\n",
              "      <td>1.000000</td>\n",
              "      <td>0.204286</td>\n",
              "      <td>0.296139</td>\n",
              "      <td>-0.083875</td>\n",
              "      <td>0.076435</td>\n",
              "      <td>-0.000819</td>\n",
              "      <td>-0.246427</td>\n",
              "      <td>0.018655</td>\n",
              "      <td>0.031645</td>\n",
              "      <td>0.034018</td>\n",
              "      <td>0.004946</td>\n",
              "      <td>0.001513</td>\n",
              "    </tr>\n",
              "    <tr>\n",
              "      <th>Count_6-12_months_late</th>\n",
              "      <td>0.213953</td>\n",
              "      <td>-0.072439</td>\n",
              "      <td>-0.017292</td>\n",
              "      <td>0.204286</td>\n",
              "      <td>1.000000</td>\n",
              "      <td>0.266337</td>\n",
              "      <td>0.005090</td>\n",
              "      <td>-0.092593</td>\n",
              "      <td>-0.043642</td>\n",
              "      <td>-0.283998</td>\n",
              "      <td>0.008613</td>\n",
              "      <td>0.009052</td>\n",
              "      <td>0.020954</td>\n",
              "      <td>0.002125</td>\n",
              "      <td>-0.000809</td>\n",
              "    </tr>\n",
              "    <tr>\n",
              "      <th>Count_more_than_12_months_late</th>\n",
              "      <td>0.167213</td>\n",
              "      <td>-0.059114</td>\n",
              "      <td>-0.012341</td>\n",
              "      <td>0.296139</td>\n",
              "      <td>0.266337</td>\n",
              "      <td>1.000000</td>\n",
              "      <td>-0.032233</td>\n",
              "      <td>-0.021409</td>\n",
              "      <td>-0.023462</td>\n",
              "      <td>-0.238450</td>\n",
              "      <td>0.008364</td>\n",
              "      <td>0.016211</td>\n",
              "      <td>0.017141</td>\n",
              "      <td>0.002077</td>\n",
              "      <td>-0.001219</td>\n",
              "    </tr>\n",
              "    <tr>\n",
              "      <th>application_underwriting_score</th>\n",
              "      <td>-0.138308</td>\n",
              "      <td>0.049582</td>\n",
              "      <td>0.062612</td>\n",
              "      <td>-0.083875</td>\n",
              "      <td>0.005090</td>\n",
              "      <td>-0.032233</td>\n",
              "      <td>1.000000</td>\n",
              "      <td>-0.269273</td>\n",
              "      <td>0.131042</td>\n",
              "      <td>0.067129</td>\n",
              "      <td>-0.008912</td>\n",
              "      <td>-0.051834</td>\n",
              "      <td>-0.013983</td>\n",
              "      <td>-0.000277</td>\n",
              "      <td>0.005141</td>\n",
              "    </tr>\n",
              "    <tr>\n",
              "      <th>no_of_premiums_paid</th>\n",
              "      <td>-0.152837</td>\n",
              "      <td>0.176544</td>\n",
              "      <td>0.079078</td>\n",
              "      <td>0.076435</td>\n",
              "      <td>-0.092593</td>\n",
              "      <td>-0.021409</td>\n",
              "      <td>-0.269273</td>\n",
              "      <td>1.000000</td>\n",
              "      <td>0.191889</td>\n",
              "      <td>0.022741</td>\n",
              "      <td>0.039574</td>\n",
              "      <td>0.021251</td>\n",
              "      <td>0.011755</td>\n",
              "      <td>0.004145</td>\n",
              "      <td>0.003447</td>\n",
              "    </tr>\n",
              "    <tr>\n",
              "      <th>premium</th>\n",
              "      <td>-0.067523</td>\n",
              "      <td>0.074070</td>\n",
              "      <td>0.302825</td>\n",
              "      <td>-0.000819</td>\n",
              "      <td>-0.043642</td>\n",
              "      <td>-0.023462</td>\n",
              "      <td>0.131042</td>\n",
              "      <td>0.191889</td>\n",
              "      <td>1.000000</td>\n",
              "      <td>0.036420</td>\n",
              "      <td>0.036599</td>\n",
              "      <td>0.064379</td>\n",
              "      <td>0.083873</td>\n",
              "      <td>0.036559</td>\n",
              "      <td>0.031453</td>\n",
              "    </tr>\n",
              "    <tr>\n",
              "      <th>target</th>\n",
              "      <td>-0.241064</td>\n",
              "      <td>0.095158</td>\n",
              "      <td>0.016542</td>\n",
              "      <td>-0.246427</td>\n",
              "      <td>-0.283998</td>\n",
              "      <td>-0.238450</td>\n",
              "      <td>0.067129</td>\n",
              "      <td>0.022741</td>\n",
              "      <td>0.036420</td>\n",
              "      <td>1.000000</td>\n",
              "      <td>-0.004124</td>\n",
              "      <td>-0.021574</td>\n",
              "      <td>-0.028393</td>\n",
              "      <td>-0.004680</td>\n",
              "      <td>0.001625</td>\n",
              "    </tr>\n",
              "    <tr>\n",
              "      <th>sourcing_channel_B</th>\n",
              "      <td>0.019778</td>\n",
              "      <td>0.011423</td>\n",
              "      <td>0.015270</td>\n",
              "      <td>0.018655</td>\n",
              "      <td>0.008613</td>\n",
              "      <td>0.008364</td>\n",
              "      <td>-0.008912</td>\n",
              "      <td>0.039574</td>\n",
              "      <td>0.036599</td>\n",
              "      <td>-0.004124</td>\n",
              "      <td>1.000000</td>\n",
              "      <td>-0.215126</td>\n",
              "      <td>-0.165097</td>\n",
              "      <td>-0.044759</td>\n",
              "      <td>0.002700</td>\n",
              "    </tr>\n",
              "    <tr>\n",
              "      <th>sourcing_channel_C</th>\n",
              "      <td>0.045189</td>\n",
              "      <td>-0.151481</td>\n",
              "      <td>0.024703</td>\n",
              "      <td>0.031645</td>\n",
              "      <td>0.009052</td>\n",
              "      <td>0.016211</td>\n",
              "      <td>-0.051834</td>\n",
              "      <td>0.021251</td>\n",
              "      <td>0.064379</td>\n",
              "      <td>-0.021574</td>\n",
              "      <td>-0.215126</td>\n",
              "      <td>1.000000</td>\n",
              "      <td>-0.136244</td>\n",
              "      <td>-0.036937</td>\n",
              "      <td>-0.000378</td>\n",
              "    </tr>\n",
              "    <tr>\n",
              "      <th>sourcing_channel_D</th>\n",
              "      <td>0.046534</td>\n",
              "      <td>-0.130678</td>\n",
              "      <td>0.039225</td>\n",
              "      <td>0.034018</td>\n",
              "      <td>0.020954</td>\n",
              "      <td>0.017141</td>\n",
              "      <td>-0.013983</td>\n",
              "      <td>0.011755</td>\n",
              "      <td>0.083873</td>\n",
              "      <td>-0.028393</td>\n",
              "      <td>-0.165097</td>\n",
              "      <td>-0.136244</td>\n",
              "      <td>1.000000</td>\n",
              "      <td>-0.028347</td>\n",
              "      <td>-0.000094</td>\n",
              "    </tr>\n",
              "    <tr>\n",
              "      <th>sourcing_channel_E</th>\n",
              "      <td>0.014512</td>\n",
              "      <td>-0.030726</td>\n",
              "      <td>0.013132</td>\n",
              "      <td>0.004946</td>\n",
              "      <td>0.002125</td>\n",
              "      <td>0.002077</td>\n",
              "      <td>-0.000277</td>\n",
              "      <td>0.004145</td>\n",
              "      <td>0.036559</td>\n",
              "      <td>-0.004680</td>\n",
              "      <td>-0.044759</td>\n",
              "      <td>-0.036937</td>\n",
              "      <td>-0.028347</td>\n",
              "      <td>1.000000</td>\n",
              "      <td>-0.008377</td>\n",
              "    </tr>\n",
              "    <tr>\n",
              "      <th>residence_area_type_Urban</th>\n",
              "      <td>-0.001562</td>\n",
              "      <td>0.000684</td>\n",
              "      <td>0.003392</td>\n",
              "      <td>0.001513</td>\n",
              "      <td>-0.000809</td>\n",
              "      <td>-0.001219</td>\n",
              "      <td>0.005141</td>\n",
              "      <td>0.003447</td>\n",
              "      <td>0.031453</td>\n",
              "      <td>0.001625</td>\n",
              "      <td>0.002700</td>\n",
              "      <td>-0.000378</td>\n",
              "      <td>-0.000094</td>\n",
              "      <td>-0.008377</td>\n",
              "      <td>1.000000</td>\n",
              "    </tr>\n",
              "  </tbody>\n",
              "</table>\n",
              "</div>"
            ],
            "text/plain": [
              "                                  perc_premium_paid_by_cash_credit  ...  residence_area_type_Urban\n",
              "perc_premium_paid_by_cash_credit                          1.000000  ...                  -0.001562\n",
              "age_in_days                                              -0.259131  ...                   0.000684\n",
              "Income                                                   -0.031868  ...                   0.003392\n",
              "Count_3-6_months_late                                     0.213011  ...                   0.001513\n",
              "Count_6-12_months_late                                    0.213953  ...                  -0.000809\n",
              "Count_more_than_12_months_late                            0.167213  ...                  -0.001219\n",
              "application_underwriting_score                           -0.138308  ...                   0.005141\n",
              "no_of_premiums_paid                                      -0.152837  ...                   0.003447\n",
              "premium                                                  -0.067523  ...                   0.031453\n",
              "target                                                   -0.241064  ...                   0.001625\n",
              "sourcing_channel_B                                        0.019778  ...                   0.002700\n",
              "sourcing_channel_C                                        0.045189  ...                  -0.000378\n",
              "sourcing_channel_D                                        0.046534  ...                  -0.000094\n",
              "sourcing_channel_E                                        0.014512  ...                  -0.008377\n",
              "residence_area_type_Urban                                -0.001562  ...                   1.000000\n",
              "\n",
              "[15 rows x 15 columns]"
            ]
          },
          "metadata": {
            "tags": []
          },
          "execution_count": 178
        }
      ]
    },
    {
      "cell_type": "code",
      "metadata": {
        "id": "nM_5HfUKGZ8S"
      },
      "source": [
        ""
      ],
      "execution_count": null,
      "outputs": []
    },
    {
      "cell_type": "code",
      "metadata": {
        "colab": {
          "base_uri": "https://localhost:8080/",
          "height": 963
        },
        "id": "Kkyb1i5bAQ7E",
        "outputId": "8a044ea8-6742-467f-b39e-d5253713522d"
      },
      "source": [
        "plt.figure(figsize=(15, 15))\n",
        "\n",
        "for i, col in enumerate(X_train.columns,1):  \n",
        "    plt.subplot(5,3, i)\n",
        "    plt.boxplot(df[col])\n",
        "    plt.xlabel(col)\n",
        "plt.tight_layout()"
      ],
      "execution_count": null,
      "outputs": [
        {
          "output_type": "display_data",
          "data": {
            "image/png": "[encoded data removed]",
            "text/plain": [
              "<Figure size 1080x1080 with 14 Axes>"
            ]
          },
          "metadata": {
            "tags": [],
            "needs_background": "light"
          }
        }
      ]
    },
    {
      "cell_type": "code",
      "metadata": {
        "id": "VXlV2bZfF1In"
      },
      "source": [
        ""
      ],
      "execution_count": null,
      "outputs": []
    },
    {
      "cell_type": "code",
      "metadata": {
        "colab": {
          "base_uri": "https://localhost:8080/"
        },
        "id": "gp2FNDJvw_7v",
        "outputId": "bcdb74a6-bdb0-4e65-f61b-50877d26a1e9"
      },
      "source": [
        "Y_train"
      ],
      "execution_count": null,
      "outputs": [
        {
          "output_type": "execute_result",
          "data": {
            "text/plain": [
              "61663    1\n",
              "41631    1\n",
              "16230    1\n",
              "72881    1\n",
              "74337    0\n",
              "        ..\n",
              "6265     1\n",
              "54886    1\n",
              "76820    1\n",
              "860      1\n",
              "15795    1\n",
              "Name: target, Length: 55897, dtype: int64"
            ]
          },
          "metadata": {
            "tags": []
          },
          "execution_count": 180
        }
      ]
    },
    {
      "cell_type": "code",
      "metadata": {
        "id": "AMJrulXzGPgu"
      },
      "source": [
        "def impute_outliers(X_train,Y_train):\n",
        "    for col in X_train.columns:\n",
        "        min_l, max_l = calc_limits_IQR(X_train,col)\n",
        "        \n",
        "        X_train.loc[X_train[col] > max_l, col] = max_l\n",
        "        X_train.loc[X_train[col] < min_l, col] = min_l\n",
        "      \n",
        "    Y_train.loc[Y_train > max_l] = max_l\n",
        "    Y_train.loc[Y_train < min_l] = min_l\n",
        "    return X_train,Y_train"
      ],
      "execution_count": null,
      "outputs": []
    },
    {
      "cell_type": "code",
      "metadata": {
        "id": "6ssywd6TIAhC"
      },
      "source": [
        "X_train_impute,Y_train_impute = impute_outliers(X_train.copy(),Y_train.copy())"
      ],
      "execution_count": null,
      "outputs": []
    },
    {
      "cell_type": "code",
      "metadata": {
        "colab": {
          "base_uri": "https://localhost:8080/",
          "height": 963
        },
        "id": "xEvlyeGauj1z",
        "outputId": "f47840b8-ded7-471e-9905-cdda4b503b53"
      },
      "source": [
        "plt.figure(figsize=(15, 15))\n",
        "\n",
        "for i, col in enumerate(X_train.columns,1):  \n",
        "    plt.subplot(5,3, i)\n",
        "    plt.boxplot(df[col])\n",
        "    plt.xlabel(col)\n",
        "plt.tight_layout()"
      ],
      "execution_count": null,
      "outputs": [
        {
          "output_type": "display_data",
          "data": {
            "image/png": "[encoded data removed]",
            "text/plain": [
              "<Figure size 1080x1080 with 14 Axes>"
            ]
          },
          "metadata": {
            "tags": [],
            "needs_background": "light"
          }
        }
      ]
    },
    {
      "cell_type": "markdown",
      "metadata": {
        "id": "CeuGG9kkypEb"
      },
      "source": [
        "# Feature selection by using proper method according to the data"
      ]
    },
    {
      "cell_type": "markdown",
      "metadata": {
        "id": "zqkJPhmIKa9e"
      },
      "source": [
        "##Using Lasso"
      ]
    },
    {
      "cell_type": "code",
      "metadata": {
        "colab": {
          "base_uri": "https://localhost:8080/"
        },
        "id": "-uY-as-Uy1AV",
        "outputId": "76205ba5-c182-458e-f1a6-371c97dc806c"
      },
      "source": [
        "from sklearn.linear_model import Lasso\n",
        "lasso = Lasso(alpha=.01)\n",
        "lasso.fit(X_train, Y_train)\n",
        "lasso.coef_\n"
      ],
      "execution_count": null,
      "outputs": [
        {
          "output_type": "execute_result",
          "data": {
            "text/plain": [
              "array([-2.26731388e-02,  2.98302975e-06,  1.87746801e-09, -4.87765312e-02,\n",
              "       -8.01207122e-02, -4.46825057e-03,  0.00000000e+00, -0.00000000e+00,\n",
              "        4.96975172e-07, -0.00000000e+00, -0.00000000e+00, -0.00000000e+00,\n",
              "       -0.00000000e+00,  0.00000000e+00])"
            ]
          },
          "metadata": {
            "tags": []
          },
          "execution_count": 184
        }
      ]
    },
    {
      "cell_type": "code",
      "metadata": {
        "colab": {
          "base_uri": "https://localhost:8080/"
        },
        "id": "1-m2whCXG7fN",
        "outputId": "95bbc5ef-1f46-4246-b24d-53324a7ae02e"
      },
      "source": [
        "len(lasso.coef_[abs(lasso.coef_)>0])"
      ],
      "execution_count": null,
      "outputs": [
        {
          "output_type": "execute_result",
          "data": {
            "text/plain": [
              "7"
            ]
          },
          "metadata": {
            "tags": []
          },
          "execution_count": 185
        }
      ]
    },
    {
      "cell_type": "code",
      "metadata": {
        "id": "VyqCE_dkHB60"
      },
      "source": [
        "feature_selected = pd.DataFrame(X_train,columns=X_train.columns[abs(lasso.coef_)>0])"
      ],
      "execution_count": null,
      "outputs": []
    },
    {
      "cell_type": "code",
      "metadata": {
        "colab": {
          "base_uri": "https://localhost:8080/"
        },
        "id": "ITDud-ksHNtz",
        "outputId": "7f13930f-c4af-4fc5-8723-b5adf7735a25"
      },
      "source": [
        "feature_selected.columns"
      ],
      "execution_count": null,
      "outputs": [
        {
          "output_type": "execute_result",
          "data": {
            "text/plain": [
              "Index(['perc_premium_paid_by_cash_credit', 'age_in_days', 'Income',\n",
              "       'Count_3-6_months_late', 'Count_6-12_months_late',\n",
              "       'Count_more_than_12_months_late', 'premium'],\n",
              "      dtype='object')"
            ]
          },
          "metadata": {
            "tags": []
          },
          "execution_count": 187
        }
      ]
    },
    {
      "cell_type": "code",
      "metadata": {
        "id": "XbgjdAvEogVl"
      },
      "source": [
        "from sklearn.linear_model import Lasso\n",
        "lasso = Lasso()\n",
        "lasso.fit(X_train,Y_train)\n",
        "train_score=lasso.score(X_train,Y_train)\n",
        "test_score=lasso.score(X_test,Y_test)\n",
        "coeff_used = np.sum(lasso.coef_!=0)"
      ],
      "execution_count": null,
      "outputs": []
    },
    {
      "cell_type": "code",
      "metadata": {
        "colab": {
          "base_uri": "https://localhost:8080/"
        },
        "id": "GjgWMOzQo6-M",
        "outputId": "99f40acd-b096-469b-8ad2-1525f7716636"
      },
      "source": [
        "coeff_used"
      ],
      "execution_count": null,
      "outputs": [
        {
          "output_type": "execute_result",
          "data": {
            "text/plain": [
              "3"
            ]
          },
          "metadata": {
            "tags": []
          },
          "execution_count": 189
        }
      ]
    },
    {
      "cell_type": "markdown",
      "metadata": {
        "id": "eS3K1u_OKsQI"
      },
      "source": [
        "##Using Entropy"
      ]
    },
    {
      "cell_type": "code",
      "metadata": {
        "colab": {
          "base_uri": "https://localhost:8080/"
        },
        "id": "usutYiPzIHQq",
        "outputId": "b2b06c27-b48b-4a46-cc03-366c47080efa"
      },
      "source": [
        "from sklearn.tree import DecisionTreeClassifier\n",
        "model_dt = DecisionTreeClassifier(criterion = 'entropy')\n",
        "model_dt.fit(X_train,Y_train)"
      ],
      "execution_count": null,
      "outputs": [
        {
          "output_type": "execute_result",
          "data": {
            "text/plain": [
              "DecisionTreeClassifier(ccp_alpha=0.0, class_weight=None, criterion='entropy',\n",
              "                       max_depth=None, max_features=None, max_leaf_nodes=None,\n",
              "                       min_impurity_decrease=0.0, min_impurity_split=None,\n",
              "                       min_samples_leaf=1, min_samples_split=2,\n",
              "                       min_weight_fraction_leaf=0.0, presort='deprecated',\n",
              "                       random_state=None, splitter='best')"
            ]
          },
          "metadata": {
            "tags": []
          },
          "execution_count": 190
        }
      ]
    },
    {
      "cell_type": "code",
      "metadata": {
        "colab": {
          "base_uri": "https://localhost:8080/"
        },
        "id": "Dowc47V3IVRj",
        "outputId": "954feeb2-0b34-4280-e09c-5f7f70b05122"
      },
      "source": [
        "model_dt.feature_importances_"
      ],
      "execution_count": null,
      "outputs": [
        {
          "output_type": "execute_result",
          "data": {
            "text/plain": [
              "array([0.17793607, 0.15785292, 0.16492502, 0.03928322, 0.10647376,\n",
              "       0.02190554, 0.12894948, 0.07996512, 0.06695188, 0.01335178,\n",
              "       0.01329213, 0.00961392, 0.00226726, 0.0172319 ])"
            ]
          },
          "metadata": {
            "tags": []
          },
          "execution_count": 191
        }
      ]
    },
    {
      "cell_type": "code",
      "metadata": {
        "colab": {
          "base_uri": "https://localhost:8080/"
        },
        "id": "E5CHwVltJCyx",
        "outputId": "0e8fa197-b43d-4693-958b-60b7a29c8049"
      },
      "source": [
        "m = max(model_dt.feature_importances_)\n",
        "for imp, col in zip(model_dt.feature_importances_,X_train.columns):\n",
        "    print(col,\"                        \", imp/m*100)"
      ],
      "execution_count": null,
      "outputs": [
        {
          "output_type": "stream",
          "text": [
            "perc_premium_paid_by_cash_credit                          100.0\n",
            "age_in_days                          88.7132830041946\n",
            "Income                          92.68779987210911\n",
            "Count_3-6_months_late                          22.077155743502818\n",
            "Count_6-12_months_late                          59.838210436178954\n",
            "Count_more_than_12_months_late                          12.310904264960671\n",
            "application_underwriting_score                          72.46955689984372\n",
            "no_of_premiums_paid                          44.9403675473768\n",
            "premium                          37.62693251159806\n",
            "sourcing_channel_B                          7.503695089229049\n",
            "sourcing_channel_C                          7.470170960364526\n",
            "sourcing_channel_D                          5.403017551344414\n",
            "sourcing_channel_E                          1.2741995371941555\n",
            "residence_area_type_Urban                          9.684321162964668\n"
          ],
          "name": "stdout"
        }
      ]
    },
    {
      "cell_type": "code",
      "metadata": {
        "colab": {
          "base_uri": "https://localhost:8080/"
        },
        "id": "ZZ92LCPqJgsu",
        "outputId": "781b57b3-0275-4f6b-9396-1a7d8533bec0"
      },
      "source": [
        "len(model_dt.feature_importances_[abs(model_dt.feature_importances_)>0.040])"
      ],
      "execution_count": null,
      "outputs": [
        {
          "output_type": "execute_result",
          "data": {
            "text/plain": [
              "7"
            ]
          },
          "metadata": {
            "tags": []
          },
          "execution_count": 193
        }
      ]
    },
    {
      "cell_type": "markdown",
      "metadata": {
        "id": "QVKt6fjYKBV3"
      },
      "source": [
        ""
      ]
    },
    {
      "cell_type": "code",
      "metadata": {
        "id": "VQVhHRJRJ83c"
      },
      "source": [
        "feature_selected_entropy = pd.DataFrame(X_train,columns=X_train.columns[abs(model_dt.feature_importances_)>0.040])"
      ],
      "execution_count": null,
      "outputs": []
    },
    {
      "cell_type": "code",
      "metadata": {
        "colab": {
          "base_uri": "https://localhost:8080/",
          "height": 456
        },
        "id": "GpojAVINKQjA",
        "outputId": "3b8d0bff-58a3-4452-bcfc-ee89914a4b63"
      },
      "source": [
        "feature_selected_entropy"
      ],
      "execution_count": null,
      "outputs": [
        {
          "output_type": "execute_result",
          "data": {
            "text/html": [
              "<div>\n",
              "<style scoped>\n",
              "    .dataframe tbody tr th:only-of-type {\n",
              "        vertical-align: middle;\n",
              "    }\n",
              "\n",
              "    .dataframe tbody tr th {\n",
              "        vertical-align: top;\n",
              "    }\n",
              "\n",
              "    .dataframe thead th {\n",
              "        text-align: right;\n",
              "    }\n",
              "</style>\n",
              "<table border=\"1\" class=\"dataframe\">\n",
              "  <thead>\n",
              "    <tr style=\"text-align: right;\">\n",
              "      <th></th>\n",
              "      <th>perc_premium_paid_by_cash_credit</th>\n",
              "      <th>age_in_days</th>\n",
              "      <th>Income</th>\n",
              "      <th>Count_6-12_months_late</th>\n",
              "      <th>application_underwriting_score</th>\n",
              "      <th>no_of_premiums_paid</th>\n",
              "      <th>premium</th>\n",
              "    </tr>\n",
              "  </thead>\n",
              "  <tbody>\n",
              "    <tr>\n",
              "      <th>61663</th>\n",
              "      <td>0.329</td>\n",
              "      <td>23373</td>\n",
              "      <td>82600</td>\n",
              "      <td>0.0</td>\n",
              "      <td>99.13</td>\n",
              "      <td>10</td>\n",
              "      <td>1200</td>\n",
              "    </tr>\n",
              "    <tr>\n",
              "      <th>41631</th>\n",
              "      <td>0.024</td>\n",
              "      <td>27020</td>\n",
              "      <td>750120</td>\n",
              "      <td>0.0</td>\n",
              "      <td>99.75</td>\n",
              "      <td>6</td>\n",
              "      <td>11700</td>\n",
              "    </tr>\n",
              "    <tr>\n",
              "      <th>16230</th>\n",
              "      <td>0.692</td>\n",
              "      <td>17170</td>\n",
              "      <td>90080</td>\n",
              "      <td>0.0</td>\n",
              "      <td>98.93</td>\n",
              "      <td>6</td>\n",
              "      <td>1200</td>\n",
              "    </tr>\n",
              "    <tr>\n",
              "      <th>72881</th>\n",
              "      <td>0.122</td>\n",
              "      <td>24465</td>\n",
              "      <td>25750</td>\n",
              "      <td>0.0</td>\n",
              "      <td>94.70</td>\n",
              "      <td>7</td>\n",
              "      <td>1200</td>\n",
              "    </tr>\n",
              "    <tr>\n",
              "      <th>74337</th>\n",
              "      <td>1.000</td>\n",
              "      <td>18620</td>\n",
              "      <td>122730</td>\n",
              "      <td>2.0</td>\n",
              "      <td>99.22</td>\n",
              "      <td>9</td>\n",
              "      <td>5400</td>\n",
              "    </tr>\n",
              "    <tr>\n",
              "      <th>...</th>\n",
              "      <td>...</td>\n",
              "      <td>...</td>\n",
              "      <td>...</td>\n",
              "      <td>...</td>\n",
              "      <td>...</td>\n",
              "      <td>...</td>\n",
              "      <td>...</td>\n",
              "    </tr>\n",
              "    <tr>\n",
              "      <th>6265</th>\n",
              "      <td>0.281</td>\n",
              "      <td>11689</td>\n",
              "      <td>187640</td>\n",
              "      <td>0.0</td>\n",
              "      <td>98.48</td>\n",
              "      <td>10</td>\n",
              "      <td>3300</td>\n",
              "    </tr>\n",
              "    <tr>\n",
              "      <th>54886</th>\n",
              "      <td>0.408</td>\n",
              "      <td>14610</td>\n",
              "      <td>202280</td>\n",
              "      <td>0.0</td>\n",
              "      <td>98.45</td>\n",
              "      <td>19</td>\n",
              "      <td>11700</td>\n",
              "    </tr>\n",
              "    <tr>\n",
              "      <th>76820</th>\n",
              "      <td>0.066</td>\n",
              "      <td>18265</td>\n",
              "      <td>270040</td>\n",
              "      <td>0.0</td>\n",
              "      <td>98.90</td>\n",
              "      <td>12</td>\n",
              "      <td>18000</td>\n",
              "    </tr>\n",
              "    <tr>\n",
              "      <th>860</th>\n",
              "      <td>0.420</td>\n",
              "      <td>12420</td>\n",
              "      <td>122610</td>\n",
              "      <td>0.0</td>\n",
              "      <td>98.91</td>\n",
              "      <td>11</td>\n",
              "      <td>5400</td>\n",
              "    </tr>\n",
              "    <tr>\n",
              "      <th>15795</th>\n",
              "      <td>0.000</td>\n",
              "      <td>14608</td>\n",
              "      <td>102030</td>\n",
              "      <td>0.0</td>\n",
              "      <td>99.22</td>\n",
              "      <td>6</td>\n",
              "      <td>5400</td>\n",
              "    </tr>\n",
              "  </tbody>\n",
              "</table>\n",
              "<p>55897 rows × 7 columns</p>\n",
              "</div>"
            ],
            "text/plain": [
              "       perc_premium_paid_by_cash_credit  ...  premium\n",
              "61663                             0.329  ...     1200\n",
              "41631                             0.024  ...    11700\n",
              "16230                             0.692  ...     1200\n",
              "72881                             0.122  ...     1200\n",
              "74337                             1.000  ...     5400\n",
              "...                                 ...  ...      ...\n",
              "6265                              0.281  ...     3300\n",
              "54886                             0.408  ...    11700\n",
              "76820                             0.066  ...    18000\n",
              "860                               0.420  ...     5400\n",
              "15795                             0.000  ...     5400\n",
              "\n",
              "[55897 rows x 7 columns]"
            ]
          },
          "metadata": {
            "tags": []
          },
          "execution_count": 195
        }
      ]
    },
    {
      "cell_type": "markdown",
      "metadata": {
        "id": "9PmCc7IryhG6"
      },
      "source": [
        "# Linear Regression "
      ]
    },
    {
      "cell_type": "code",
      "metadata": {
        "id": "T1wnUDGhyeDo"
      },
      "source": [
        "a = df[['perc_premium_paid_by_cash_credit', 'age_in_days', 'Income',\n",
        "       'Count_3-6_months_late', 'Count_6-12_months_late',\n",
        "       'Count_more_than_12_months_late', 'premium']]\n",
        "b = df['target']"
      ],
      "execution_count": null,
      "outputs": []
    },
    {
      "cell_type": "code",
      "metadata": {
        "id": "jCo4UlUgPUfc"
      },
      "source": [
        "X_train,X_test,Y_train, Y_test = train_test_split(a,b,test_size=0.3,random_state=42)\n"
      ],
      "execution_count": null,
      "outputs": []
    },
    {
      "cell_type": "code",
      "metadata": {
        "colab": {
          "base_uri": "https://localhost:8080/",
          "height": 456
        },
        "id": "emo0Z0cZ3JpF",
        "outputId": "2fc52773-7001-4c0e-a55c-4cac9957d34d"
      },
      "source": [
        "from sklearn import preprocessing\n",
        "#Normalise training data\n",
        "x = X_train.values #returns a numpy array\n",
        "StandardScaler = preprocessing.StandardScaler()\n",
        "normalized_train_X = StandardScaler.fit_transform(X_train)\n",
        "normalized_train_X = pd.DataFrame(normalized_train_X,columns=X_train.columns)\n",
        "normalized_train_X\n"
      ],
      "execution_count": null,
      "outputs": [
        {
          "output_type": "execute_result",
          "data": {
            "text/html": [
              "<div>\n",
              "<style scoped>\n",
              "    .dataframe tbody tr th:only-of-type {\n",
              "        vertical-align: middle;\n",
              "    }\n",
              "\n",
              "    .dataframe tbody tr th {\n",
              "        vertical-align: top;\n",
              "    }\n",
              "\n",
              "    .dataframe thead th {\n",
              "        text-align: right;\n",
              "    }\n",
              "</style>\n",
              "<table border=\"1\" class=\"dataframe\">\n",
              "  <thead>\n",
              "    <tr style=\"text-align: right;\">\n",
              "      <th></th>\n",
              "      <th>perc_premium_paid_by_cash_credit</th>\n",
              "      <th>age_in_days</th>\n",
              "      <th>Income</th>\n",
              "      <th>Count_3-6_months_late</th>\n",
              "      <th>Count_6-12_months_late</th>\n",
              "      <th>Count_more_than_12_months_late</th>\n",
              "      <th>premium</th>\n",
              "    </tr>\n",
              "  </thead>\n",
              "  <tbody>\n",
              "    <tr>\n",
              "      <th>0</th>\n",
              "      <td>0.047311</td>\n",
              "      <td>0.875211</td>\n",
              "      <td>-0.229813</td>\n",
              "      <td>-0.356927</td>\n",
              "      <td>-0.178947</td>\n",
              "      <td>-0.191357</td>\n",
              "      <td>-1.035577</td>\n",
              "    </tr>\n",
              "    <tr>\n",
              "      <th>1</th>\n",
              "      <td>-0.864991</td>\n",
              "      <td>1.576422</td>\n",
              "      <td>0.981632</td>\n",
              "      <td>-0.356927</td>\n",
              "      <td>-0.178947</td>\n",
              "      <td>-0.191357</td>\n",
              "      <td>0.082971</td>\n",
              "    </tr>\n",
              "    <tr>\n",
              "      <th>2</th>\n",
              "      <td>1.133100</td>\n",
              "      <td>-0.317445</td>\n",
              "      <td>-0.216238</td>\n",
              "      <td>-0.356927</td>\n",
              "      <td>-0.178947</td>\n",
              "      <td>-0.191357</td>\n",
              "      <td>-1.035577</td>\n",
              "    </tr>\n",
              "    <tr>\n",
              "      <th>3</th>\n",
              "      <td>-0.571858</td>\n",
              "      <td>1.085170</td>\n",
              "      <td>-0.332987</td>\n",
              "      <td>-0.356927</td>\n",
              "      <td>-0.178947</td>\n",
              "      <td>-0.191357</td>\n",
              "      <td>-1.035577</td>\n",
              "    </tr>\n",
              "    <tr>\n",
              "      <th>4</th>\n",
              "      <td>2.054376</td>\n",
              "      <td>-0.038652</td>\n",
              "      <td>-0.156983</td>\n",
              "      <td>-0.356927</td>\n",
              "      <td>4.433740</td>\n",
              "      <td>-0.191357</td>\n",
              "      <td>-0.588158</td>\n",
              "    </tr>\n",
              "    <tr>\n",
              "      <th>...</th>\n",
              "      <td>...</td>\n",
              "      <td>...</td>\n",
              "      <td>...</td>\n",
              "      <td>...</td>\n",
              "      <td>...</td>\n",
              "      <td>...</td>\n",
              "      <td>...</td>\n",
              "    </tr>\n",
              "    <tr>\n",
              "      <th>55892</th>\n",
              "      <td>-0.096264</td>\n",
              "      <td>-1.371280</td>\n",
              "      <td>-0.039182</td>\n",
              "      <td>-0.356927</td>\n",
              "      <td>-0.178947</td>\n",
              "      <td>-0.191357</td>\n",
              "      <td>-0.811867</td>\n",
              "    </tr>\n",
              "    <tr>\n",
              "      <th>55893</th>\n",
              "      <td>0.283612</td>\n",
              "      <td>-0.809658</td>\n",
              "      <td>-0.012613</td>\n",
              "      <td>-0.356927</td>\n",
              "      <td>-0.178947</td>\n",
              "      <td>-0.191357</td>\n",
              "      <td>0.082971</td>\n",
              "    </tr>\n",
              "    <tr>\n",
              "      <th>55894</th>\n",
              "      <td>-0.739363</td>\n",
              "      <td>-0.106908</td>\n",
              "      <td>0.110361</td>\n",
              "      <td>-0.356927</td>\n",
              "      <td>-0.178947</td>\n",
              "      <td>-0.191357</td>\n",
              "      <td>0.754101</td>\n",
              "    </tr>\n",
              "    <tr>\n",
              "      <th>55895</th>\n",
              "      <td>0.319506</td>\n",
              "      <td>-1.230731</td>\n",
              "      <td>-0.157201</td>\n",
              "      <td>-0.356927</td>\n",
              "      <td>-0.178947</td>\n",
              "      <td>-0.191357</td>\n",
              "      <td>-0.588158</td>\n",
              "    </tr>\n",
              "    <tr>\n",
              "      <th>55896</th>\n",
              "      <td>-0.936779</td>\n",
              "      <td>-0.810042</td>\n",
              "      <td>-0.194551</td>\n",
              "      <td>-0.356927</td>\n",
              "      <td>-0.178947</td>\n",
              "      <td>-0.191357</td>\n",
              "      <td>-0.588158</td>\n",
              "    </tr>\n",
              "  </tbody>\n",
              "</table>\n",
              "<p>55897 rows × 7 columns</p>\n",
              "</div>"
            ],
            "text/plain": [
              "       perc_premium_paid_by_cash_credit  ...   premium\n",
              "0                              0.047311  ... -1.035577\n",
              "1                             -0.864991  ...  0.082971\n",
              "2                              1.133100  ... -1.035577\n",
              "3                             -0.571858  ... -1.035577\n",
              "4                              2.054376  ... -0.588158\n",
              "...                                 ...  ...       ...\n",
              "55892                         -0.096264  ... -0.811867\n",
              "55893                          0.283612  ...  0.082971\n",
              "55894                         -0.739363  ...  0.754101\n",
              "55895                          0.319506  ... -0.588158\n",
              "55896                         -0.936779  ... -0.588158\n",
              "\n",
              "[55897 rows x 7 columns]"
            ]
          },
          "metadata": {
            "tags": []
          },
          "execution_count": 198
        }
      ]
    },
    {
      "cell_type": "code",
      "metadata": {
        "colab": {
          "base_uri": "https://localhost:8080/",
          "height": 456
        },
        "id": "0wHFcpzd3YIe",
        "outputId": "30a3452e-27d0-4876-b924-48f28164d4c7"
      },
      "source": [
        "#Normalise testing data\n",
        "x = X_test.values #returns a numpy array\n",
        "normalized_test_X = StandardScaler.fit_transform(X_test)\n",
        "normalized_test_X = pd.DataFrame(normalized_test_X,columns=X_test.columns)\n",
        "normalized_test_X"
      ],
      "execution_count": null,
      "outputs": [
        {
          "output_type": "execute_result",
          "data": {
            "text/html": [
              "<div>\n",
              "<style scoped>\n",
              "    .dataframe tbody tr th:only-of-type {\n",
              "        vertical-align: middle;\n",
              "    }\n",
              "\n",
              "    .dataframe tbody tr th {\n",
              "        vertical-align: top;\n",
              "    }\n",
              "\n",
              "    .dataframe thead th {\n",
              "        text-align: right;\n",
              "    }\n",
              "</style>\n",
              "<table border=\"1\" class=\"dataframe\">\n",
              "  <thead>\n",
              "    <tr style=\"text-align: right;\">\n",
              "      <th></th>\n",
              "      <th>perc_premium_paid_by_cash_credit</th>\n",
              "      <th>age_in_days</th>\n",
              "      <th>Income</th>\n",
              "      <th>Count_3-6_months_late</th>\n",
              "      <th>Count_6-12_months_late</th>\n",
              "      <th>Count_more_than_12_months_late</th>\n",
              "      <th>premium</th>\n",
              "    </tr>\n",
              "  </thead>\n",
              "  <tbody>\n",
              "    <tr>\n",
              "      <th>0</th>\n",
              "      <td>-0.570554</td>\n",
              "      <td>-0.403665</td>\n",
              "      <td>-0.081152</td>\n",
              "      <td>-0.365091</td>\n",
              "      <td>-0.179185</td>\n",
              "      <td>-0.194516</td>\n",
              "      <td>0.303926</td>\n",
              "    </tr>\n",
              "    <tr>\n",
              "      <th>1</th>\n",
              "      <td>-0.879821</td>\n",
              "      <td>0.855020</td>\n",
              "      <td>-0.118249</td>\n",
              "      <td>-0.365091</td>\n",
              "      <td>-0.179185</td>\n",
              "      <td>-0.194516</td>\n",
              "      <td>-0.363783</td>\n",
              "    </tr>\n",
              "    <tr>\n",
              "      <th>2</th>\n",
              "      <td>-0.844137</td>\n",
              "      <td>0.574313</td>\n",
              "      <td>-0.312815</td>\n",
              "      <td>-0.365091</td>\n",
              "      <td>-0.179185</td>\n",
              "      <td>-0.194516</td>\n",
              "      <td>-0.363783</td>\n",
              "    </tr>\n",
              "    <tr>\n",
              "      <th>3</th>\n",
              "      <td>-0.505132</td>\n",
              "      <td>-1.032625</td>\n",
              "      <td>0.185442</td>\n",
              "      <td>-0.365091</td>\n",
              "      <td>-0.179185</td>\n",
              "      <td>-0.194516</td>\n",
              "      <td>1.416774</td>\n",
              "    </tr>\n",
              "    <tr>\n",
              "      <th>4</th>\n",
              "      <td>2.031452</td>\n",
              "      <td>-1.519605</td>\n",
              "      <td>-0.465418</td>\n",
              "      <td>-0.365091</td>\n",
              "      <td>-0.179185</td>\n",
              "      <td>-0.194516</td>\n",
              "      <td>-0.808922</td>\n",
              "    </tr>\n",
              "    <tr>\n",
              "      <th>...</th>\n",
              "      <td>...</td>\n",
              "      <td>...</td>\n",
              "      <td>...</td>\n",
              "      <td>...</td>\n",
              "      <td>...</td>\n",
              "      <td>...</td>\n",
              "      <td>...</td>\n",
              "    </tr>\n",
              "    <tr>\n",
              "      <th>23951</th>\n",
              "      <td>1.882766</td>\n",
              "      <td>0.434438</td>\n",
              "      <td>-0.326052</td>\n",
              "      <td>1.055656</td>\n",
              "      <td>-0.179185</td>\n",
              "      <td>-0.194516</td>\n",
              "      <td>-0.586352</td>\n",
              "    </tr>\n",
              "    <tr>\n",
              "      <th>23952</th>\n",
              "      <td>-0.585423</td>\n",
              "      <td>0.574505</td>\n",
              "      <td>-0.091717</td>\n",
              "      <td>-0.365091</td>\n",
              "      <td>-0.179185</td>\n",
              "      <td>-0.194516</td>\n",
              "      <td>-0.363783</td>\n",
              "    </tr>\n",
              "    <tr>\n",
              "      <th>23953</th>\n",
              "      <td>-0.942269</td>\n",
              "      <td>0.504854</td>\n",
              "      <td>-0.134869</td>\n",
              "      <td>1.055656</td>\n",
              "      <td>-0.179185</td>\n",
              "      <td>-0.194516</td>\n",
              "      <td>0.526496</td>\n",
              "    </tr>\n",
              "    <tr>\n",
              "      <th>23954</th>\n",
              "      <td>-0.734109</td>\n",
              "      <td>0.155262</td>\n",
              "      <td>0.531660</td>\n",
              "      <td>-0.365091</td>\n",
              "      <td>-0.179185</td>\n",
              "      <td>-0.194516</td>\n",
              "      <td>0.526496</td>\n",
              "    </tr>\n",
              "    <tr>\n",
              "      <th>23955</th>\n",
              "      <td>-0.867926</td>\n",
              "      <td>-0.751726</td>\n",
              "      <td>-0.481503</td>\n",
              "      <td>-0.365091</td>\n",
              "      <td>-0.179185</td>\n",
              "      <td>-0.194516</td>\n",
              "      <td>-1.031491</td>\n",
              "    </tr>\n",
              "  </tbody>\n",
              "</table>\n",
              "<p>23956 rows × 7 columns</p>\n",
              "</div>"
            ],
            "text/plain": [
              "       perc_premium_paid_by_cash_credit  ...   premium\n",
              "0                             -0.570554  ...  0.303926\n",
              "1                             -0.879821  ... -0.363783\n",
              "2                             -0.844137  ... -0.363783\n",
              "3                             -0.505132  ...  1.416774\n",
              "4                              2.031452  ... -0.808922\n",
              "...                                 ...  ...       ...\n",
              "23951                          1.882766  ... -0.586352\n",
              "23952                         -0.585423  ... -0.363783\n",
              "23953                         -0.942269  ...  0.526496\n",
              "23954                         -0.734109  ...  0.526496\n",
              "23955                         -0.867926  ... -1.031491\n",
              "\n",
              "[23956 rows x 7 columns]"
            ]
          },
          "metadata": {
            "tags": []
          },
          "execution_count": 199
        }
      ]
    },
    {
      "cell_type": "code",
      "metadata": {
        "colab": {
          "base_uri": "https://localhost:8080/"
        },
        "id": "CNLDcePk0gMb",
        "outputId": "e6de02fa-b372-4293-ab36-866c6682dae4"
      },
      "source": [
        "from sklearn.metrics import mean_absolute_error, mean_squared_error,r2_score\n",
        "model = LinearRegression()\n",
        "model.fit(normalized_train_X,Y_train)\n",
        "train_predict = model.predict(normalized_train_X)\n",
        "test_predict = model.predict(normalized_test_X)\n",
        "print(\"MSE\")\n",
        "print(\"Train : \",mean_squared_error(Y_train,train_predict))\n",
        "print(\"Test  : \",mean_squared_error(Y_test,test_predict))"
      ],
      "execution_count": null,
      "outputs": [
        {
          "output_type": "stream",
          "text": [
            "MSE\n",
            "Train :  0.0493898984687832\n",
            "Test  :  0.05015189395100495\n"
          ],
          "name": "stdout"
        }
      ]
    },
    {
      "cell_type": "code",
      "metadata": {
        "id": "O0FGaSQx1orN"
      },
      "source": [
        ""
      ],
      "execution_count": null,
      "outputs": []
    },
    {
      "cell_type": "code",
      "metadata": {
        "colab": {
          "base_uri": "https://localhost:8080/"
        },
        "id": "eN1XSjbC25lv",
        "outputId": "a8065e07-1f3d-4bbf-dc49-b805b971d4fc"
      },
      "source": [
        "#Train and predict the Y_train for the feature \"premium\"\n",
        "premium_model = LinearRegression()\n",
        "premium_model.fit(normalized_train_X[['premium']], Y_train)\n",
        "premium_predictd = premium_model.predict(normalized_train_X[['premium']])\n",
        "test_predict = model.predict(normalized_test_X)\n",
        "\n",
        "\n",
        "print(\"Train : \",mean_squared_error(Y_train,premium_predictd))\n",
        "print(\"Test  : \",mean_squared_error(Y_test,test_predict))\n",
        "#premium_df = pd.DataFrame(list(zip(Y_train, premium_predictd)), columns = ['Actual premium','Predicted premium'])\n",
        "#premium_df.head()"
      ],
      "execution_count": null,
      "outputs": [
        {
          "output_type": "stream",
          "text": [
            "Train :  0.05796569071890223\n",
            "Test  :  0.05015189395100495\n"
          ],
          "name": "stdout"
        }
      ]
    },
    {
      "cell_type": "code",
      "metadata": {
        "id": "KAyHPnhK2g1H"
      },
      "source": [
        ""
      ],
      "execution_count": null,
      "outputs": []
    },
    {
      "cell_type": "code",
      "metadata": {
        "colab": {
          "base_uri": "https://localhost:8080/"
        },
        "id": "1_llCvJS7OlH",
        "outputId": "519c9338-c378-44ee-bf29-1103aa5daf2e"
      },
      "source": [
        "Y_train.index"
      ],
      "execution_count": null,
      "outputs": [
        {
          "output_type": "execute_result",
          "data": {
            "text/plain": [
              "Int64Index([61663, 41631, 16230, 72881, 74337, 47973, 55748, 46927,  1005,\n",
              "            60850,\n",
              "            ...\n",
              "            41090, 16023, 60263, 44131, 37194,  6265, 54886, 76820,   860,\n",
              "            15795],\n",
              "           dtype='int64', length=55897)"
            ]
          },
          "metadata": {
            "tags": []
          },
          "execution_count": 473
        }
      ]
    },
    {
      "cell_type": "code",
      "metadata": {
        "colab": {
          "base_uri": "https://localhost:8080/"
        },
        "id": "nqRMzQK36LoP",
        "outputId": "1d7df18d-5f7f-46b5-f2e7-db8ca28d155d"
      },
      "source": [
        "df['premium']"
      ],
      "execution_count": null,
      "outputs": [
        {
          "output_type": "execute_result",
          "data": {
            "text/plain": [
              "0         3300\n",
              "1        18000\n",
              "2         3300\n",
              "3         9600\n",
              "4         9600\n",
              "         ...  \n",
              "79848    13800\n",
              "79849    28500\n",
              "79850     9600\n",
              "79851     5700\n",
              "79852     9600\n",
              "Name: premium, Length: 79853, dtype: int64"
            ]
          },
          "metadata": {
            "tags": []
          },
          "execution_count": 474
        }
      ]
    },
    {
      "cell_type": "code",
      "metadata": {
        "colab": {
          "base_uri": "https://localhost:8080/"
        },
        "id": "DqamQcbWu4Cz",
        "outputId": "68b15133-3e01-43da-b119-6d2f1ab55824"
      },
      "source": [
        "print(\"Intercept value:\", model.intercept_)\n",
        "print(\"Coefficient values:\", model.coef_)"
      ],
      "execution_count": null,
      "outputs": [
        {
          "output_type": "stream",
          "text": [
            "Intercept value: 3.637978807091713e-12\n",
            "Coefficient values: [-4.79671769e-13  1.31838984e-16 -1.38777878e-17 -2.65393135e-13\n",
            " -1.78576000e-13 -8.92836166e-14  1.00000000e+00]\n"
          ],
          "name": "stdout"
        }
      ]
    },
    {
      "cell_type": "code",
      "metadata": {
        "colab": {
          "base_uri": "https://localhost:8080/",
          "height": 266
        },
        "id": "_H3fbpQcvYiT",
        "outputId": "1dcc2e08-6112-4037-a31c-bdc1ed804d7e"
      },
      "source": [
        "coef_df = pd.DataFrame(list(zip(X_train.columns,model.coef_)), columns = ['Features','Predicted Coeff'])\n",
        "coef_df\n",
        "#print(\"Features train data:\\n\",X_train.smoker)"
      ],
      "execution_count": null,
      "outputs": [
        {
          "output_type": "execute_result",
          "data": {
            "text/html": [
              "<div>\n",
              "<style scoped>\n",
              "    .dataframe tbody tr th:only-of-type {\n",
              "        vertical-align: middle;\n",
              "    }\n",
              "\n",
              "    .dataframe tbody tr th {\n",
              "        vertical-align: top;\n",
              "    }\n",
              "\n",
              "    .dataframe thead th {\n",
              "        text-align: right;\n",
              "    }\n",
              "</style>\n",
              "<table border=\"1\" class=\"dataframe\">\n",
              "  <thead>\n",
              "    <tr style=\"text-align: right;\">\n",
              "      <th></th>\n",
              "      <th>Features</th>\n",
              "      <th>Predicted Coeff</th>\n",
              "    </tr>\n",
              "  </thead>\n",
              "  <tbody>\n",
              "    <tr>\n",
              "      <th>0</th>\n",
              "      <td>perc_premium_paid_by_cash_credit</td>\n",
              "      <td>-4.796718e-13</td>\n",
              "    </tr>\n",
              "    <tr>\n",
              "      <th>1</th>\n",
              "      <td>age_in_days</td>\n",
              "      <td>1.318390e-16</td>\n",
              "    </tr>\n",
              "    <tr>\n",
              "      <th>2</th>\n",
              "      <td>Income</td>\n",
              "      <td>-1.387779e-17</td>\n",
              "    </tr>\n",
              "    <tr>\n",
              "      <th>3</th>\n",
              "      <td>Count_3-6_months_late</td>\n",
              "      <td>-2.653931e-13</td>\n",
              "    </tr>\n",
              "    <tr>\n",
              "      <th>4</th>\n",
              "      <td>Count_6-12_months_late</td>\n",
              "      <td>-1.785760e-13</td>\n",
              "    </tr>\n",
              "    <tr>\n",
              "      <th>5</th>\n",
              "      <td>Count_more_than_12_months_late</td>\n",
              "      <td>-8.928362e-14</td>\n",
              "    </tr>\n",
              "    <tr>\n",
              "      <th>6</th>\n",
              "      <td>application_underwriting_score</td>\n",
              "      <td>1.000000e+00</td>\n",
              "    </tr>\n",
              "  </tbody>\n",
              "</table>\n",
              "</div>"
            ],
            "text/plain": [
              "                           Features  Predicted Coeff\n",
              "0  perc_premium_paid_by_cash_credit    -4.796718e-13\n",
              "1                       age_in_days     1.318390e-16\n",
              "2                            Income    -1.387779e-17\n",
              "3             Count_3-6_months_late    -2.653931e-13\n",
              "4            Count_6-12_months_late    -1.785760e-13\n",
              "5    Count_more_than_12_months_late    -8.928362e-14\n",
              "6    application_underwriting_score     1.000000e+00"
            ]
          },
          "metadata": {
            "tags": []
          },
          "execution_count": 476
        }
      ]
    },
    {
      "cell_type": "code",
      "metadata": {
        "id": "gGgsEx0ov6dg",
        "colab": {
          "base_uri": "https://localhost:8080/",
          "height": 374
        },
        "outputId": "d61204f9-8799-43eb-bd93-efac47784d7d"
      },
      "source": [
        "Y_train_predict = model.predict(X_train)\n",
        "Y_train_predict[0:5]\n",
        "Y_test_predict = model.predict(X_test)"
      ],
      "execution_count": null,
      "outputs": [
        {
          "output_type": "error",
          "ename": "ValueError",
          "evalue": "ignored",
          "traceback": [
            "\u001b[0;31m---------------------------------------------------------------------------\u001b[0m",
            "\u001b[0;31mValueError\u001b[0m                                Traceback (most recent call last)",
            "\u001b[0;32m<ipython-input-477-64e7f77c4809>\u001b[0m in \u001b[0;36m<module>\u001b[0;34m()\u001b[0m\n\u001b[0;32m----> 1\u001b[0;31m \u001b[0mY_train_predict\u001b[0m \u001b[0;34m=\u001b[0m \u001b[0mmodel\u001b[0m\u001b[0;34m.\u001b[0m\u001b[0mpredict\u001b[0m\u001b[0;34m(\u001b[0m\u001b[0mX_train\u001b[0m\u001b[0;34m)\u001b[0m\u001b[0;34m\u001b[0m\u001b[0;34m\u001b[0m\u001b[0m\n\u001b[0m\u001b[1;32m      2\u001b[0m \u001b[0mY_train_predict\u001b[0m\u001b[0;34m[\u001b[0m\u001b[0;36m0\u001b[0m\u001b[0;34m:\u001b[0m\u001b[0;36m5\u001b[0m\u001b[0;34m]\u001b[0m\u001b[0;34m\u001b[0m\u001b[0;34m\u001b[0m\u001b[0m\n\u001b[1;32m      3\u001b[0m \u001b[0mY_test_predict\u001b[0m \u001b[0;34m=\u001b[0m \u001b[0mmodel\u001b[0m\u001b[0;34m.\u001b[0m\u001b[0mpredict\u001b[0m\u001b[0;34m(\u001b[0m\u001b[0mX_test\u001b[0m\u001b[0;34m)\u001b[0m\u001b[0;34m\u001b[0m\u001b[0;34m\u001b[0m\u001b[0m\n",
            "\u001b[0;32m/usr/local/lib/python3.7/dist-packages/sklearn/linear_model/_base.py\u001b[0m in \u001b[0;36mpredict\u001b[0;34m(self, X)\u001b[0m\n\u001b[1;32m    223\u001b[0m             \u001b[0mReturns\u001b[0m \u001b[0mpredicted\u001b[0m \u001b[0mvalues\u001b[0m\u001b[0;34m.\u001b[0m\u001b[0;34m\u001b[0m\u001b[0;34m\u001b[0m\u001b[0m\n\u001b[1;32m    224\u001b[0m         \"\"\"\n\u001b[0;32m--> 225\u001b[0;31m         \u001b[0;32mreturn\u001b[0m \u001b[0mself\u001b[0m\u001b[0;34m.\u001b[0m\u001b[0m_decision_function\u001b[0m\u001b[0;34m(\u001b[0m\u001b[0mX\u001b[0m\u001b[0;34m)\u001b[0m\u001b[0;34m\u001b[0m\u001b[0;34m\u001b[0m\u001b[0m\n\u001b[0m\u001b[1;32m    226\u001b[0m \u001b[0;34m\u001b[0m\u001b[0m\n\u001b[1;32m    227\u001b[0m     \u001b[0m_preprocess_data\u001b[0m \u001b[0;34m=\u001b[0m \u001b[0mstaticmethod\u001b[0m\u001b[0;34m(\u001b[0m\u001b[0m_preprocess_data\u001b[0m\u001b[0;34m)\u001b[0m\u001b[0;34m\u001b[0m\u001b[0;34m\u001b[0m\u001b[0m\n",
            "\u001b[0;32m/usr/local/lib/python3.7/dist-packages/sklearn/linear_model/_base.py\u001b[0m in \u001b[0;36m_decision_function\u001b[0;34m(self, X)\u001b[0m\n\u001b[1;32m    207\u001b[0m         \u001b[0mX\u001b[0m \u001b[0;34m=\u001b[0m \u001b[0mcheck_array\u001b[0m\u001b[0;34m(\u001b[0m\u001b[0mX\u001b[0m\u001b[0;34m,\u001b[0m \u001b[0maccept_sparse\u001b[0m\u001b[0;34m=\u001b[0m\u001b[0;34m[\u001b[0m\u001b[0;34m'csr'\u001b[0m\u001b[0;34m,\u001b[0m \u001b[0;34m'csc'\u001b[0m\u001b[0;34m,\u001b[0m \u001b[0;34m'coo'\u001b[0m\u001b[0;34m]\u001b[0m\u001b[0;34m)\u001b[0m\u001b[0;34m\u001b[0m\u001b[0;34m\u001b[0m\u001b[0m\n\u001b[1;32m    208\u001b[0m         return safe_sparse_dot(X, self.coef_.T,\n\u001b[0;32m--> 209\u001b[0;31m                                dense_output=True) + self.intercept_\n\u001b[0m\u001b[1;32m    210\u001b[0m \u001b[0;34m\u001b[0m\u001b[0m\n\u001b[1;32m    211\u001b[0m     \u001b[0;32mdef\u001b[0m \u001b[0mpredict\u001b[0m\u001b[0;34m(\u001b[0m\u001b[0mself\u001b[0m\u001b[0;34m,\u001b[0m \u001b[0mX\u001b[0m\u001b[0;34m)\u001b[0m\u001b[0;34m:\u001b[0m\u001b[0;34m\u001b[0m\u001b[0;34m\u001b[0m\u001b[0m\n",
            "\u001b[0;32m/usr/local/lib/python3.7/dist-packages/sklearn/utils/extmath.py\u001b[0m in \u001b[0;36msafe_sparse_dot\u001b[0;34m(a, b, dense_output)\u001b[0m\n\u001b[1;32m    149\u001b[0m             \u001b[0mret\u001b[0m \u001b[0;34m=\u001b[0m \u001b[0mnp\u001b[0m\u001b[0;34m.\u001b[0m\u001b[0mdot\u001b[0m\u001b[0;34m(\u001b[0m\u001b[0ma\u001b[0m\u001b[0;34m,\u001b[0m \u001b[0mb\u001b[0m\u001b[0;34m)\u001b[0m\u001b[0;34m\u001b[0m\u001b[0;34m\u001b[0m\u001b[0m\n\u001b[1;32m    150\u001b[0m     \u001b[0;32melse\u001b[0m\u001b[0;34m:\u001b[0m\u001b[0;34m\u001b[0m\u001b[0;34m\u001b[0m\u001b[0m\n\u001b[0;32m--> 151\u001b[0;31m         \u001b[0mret\u001b[0m \u001b[0;34m=\u001b[0m \u001b[0ma\u001b[0m \u001b[0;34m@\u001b[0m \u001b[0mb\u001b[0m\u001b[0;34m\u001b[0m\u001b[0;34m\u001b[0m\u001b[0m\n\u001b[0m\u001b[1;32m    152\u001b[0m \u001b[0;34m\u001b[0m\u001b[0m\n\u001b[1;32m    153\u001b[0m     if (sparse.issparse(a) and sparse.issparse(b)\n",
            "\u001b[0;31mValueError\u001b[0m: matmul: Input operand 1 has a mismatch in its core dimension 0, with gufunc signature (n?,k),(k,m?)->(n?,m?) (size 7 is different from 14)"
          ]
        }
      ]
    },
    {
      "cell_type": "code",
      "metadata": {
        "id": "t_947s4owwEi"
      },
      "source": [
        "from math import sqrt\n",
        "from sklearn.metrics import mean_squared_error\n",
        "#np.sqrt(mean_squared_error(Y_train, Y_train_predict))\n",
        "#MSE for Train data set\n",
        "print(\"MSE:\",np.sqrt(mean_squared_error(Y_train, Y_train_predict)))\n",
        "print(\"MSE only for Smoker:\", np.sqrt(mean_squared_error(Y_train,smoker_model.predict(X_train[['smoker_yes']]))))"
      ],
      "execution_count": null,
      "outputs": []
    },
    {
      "cell_type": "code",
      "metadata": {
        "id": "3foikr4S2koF"
      },
      "source": [
        "#MSE for Test data set\n",
        "print(\"MSE:\",np.sqrt(mean_squared_error(Y_test, Y_test_predict)))\n",
        "print(\"MSE only for Smoker:\", np.sqrt(mean_squared_error(Y_test,smoker_model.predict(X_test[['smoker_yes']]))))"
      ],
      "execution_count": null,
      "outputs": []
    },
    {
      "cell_type": "code",
      "metadata": {
        "id": "Zv0VnXNVzLwk"
      },
      "source": [
        "\n"
      ],
      "execution_count": null,
      "outputs": []
    }
  ]
}