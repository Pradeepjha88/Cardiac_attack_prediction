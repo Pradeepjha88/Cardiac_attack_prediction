{
  "nbformat": 4,
  "nbformat_minor": 0,
  "metadata": {
    "colab": {
      "name": "question_c.ipynb",
      "provenance": [],
      "collapsed_sections": [],
      "include_colab_link": true
    },
    "kernelspec": {
      "name": "python3",
      "display_name": "Python 3"
    }
  },
  "cells": [
    {
      "cell_type": "markdown",
      "metadata": {
        "id": "view-in-github",
        "colab_type": "text"
      },
      "source": [
        "<a href=\"https://colab.research.google.com/github/Pradeepjha88/Cardiac_attack_prediction/blob/master/question_c.ipynb\" target=\"_parent\"><img src=\"https://colab.research.google.com/assets/colab-badge.svg\" alt=\"Open In Colab\"/></a>"
      ]
    },
    {
      "cell_type": "code",
      "metadata": {
        "id": "QAHHhYt-GeZP",
        "colab": {
          "base_uri": "https://localhost:8080/"
        },
        "outputId": "3de6e31a-0c96-4de8-8592-71265e00d3bf"
      },
      "source": [
        "import pandas as pd\n",
        "from statsmodels.tsa.seasonal import seasonal_decompose\n",
        "from dateutil.parser import parse\n",
        "import matplotlib.pyplot as plt\n",
        "from statsmodels.tsa.stattools import adfuller\n",
        "import random\n"
      ],
      "execution_count": null,
      "outputs": [
        {
          "output_type": "stream",
          "text": [
            "/usr/local/lib/python3.7/dist-packages/statsmodels/tools/_testing.py:19: FutureWarning: pandas.util.testing is deprecated. Use the functions in the public API at pandas.testing instead.\n",
            "  import pandas.util.testing as tm\n"
          ],
          "name": "stderr"
        }
      ]
    },
    {
      "cell_type": "markdown",
      "metadata": {
        "id": "EojjK5yvADdS"
      },
      "source": [
        "# Read the CSV file\n",
        "\n"
      ]
    },
    {
      "cell_type": "code",
      "metadata": {
        "id": "ZX_85kOqGq08"
      },
      "source": [
        "df = pd.read_csv(\"/content/avocado.csv\")"
      ],
      "execution_count": null,
      "outputs": []
    },
    {
      "cell_type": "markdown",
      "metadata": {
        "id": "bazVeEfzKr9R"
      },
      "source": [
        "# Check the columns in dataframe"
      ]
    },
    {
      "cell_type": "code",
      "metadata": {
        "colab": {
          "base_uri": "https://localhost:8080/"
        },
        "id": "5aY4Mr7BG8PW",
        "outputId": "3e3f150b-5617-48b5-a41f-3a115223a90f"
      },
      "source": [
        "df.columns"
      ],
      "execution_count": null,
      "outputs": [
        {
          "output_type": "execute_result",
          "data": {
            "text/plain": [
              "Index(['Unnamed: 0', 'Date', 'AveragePrice', 'Total Volume', '4046', '4225',\n",
              "       '4770', 'Total Bags', 'Small Bags', 'Large Bags', 'XLarge Bags', 'type',\n",
              "       'year', 'region'],\n",
              "      dtype='object')"
            ]
          },
          "metadata": {
            "tags": []
          },
          "execution_count": 5
        }
      ]
    },
    {
      "cell_type": "markdown",
      "metadata": {
        "id": "HnMcH4V6KuNb"
      },
      "source": [
        "# Parse Date column and make the date as index"
      ]
    },
    {
      "cell_type": "code",
      "metadata": {
        "id": "WKX8UiQhG9l_"
      },
      "source": [
        "df = pd.read_csv(\"/content/avocado.csv\", parse_dates=['Date'], index_col='Date')"
      ],
      "execution_count": null,
      "outputs": []
    },
    {
      "cell_type": "markdown",
      "metadata": {
        "id": "1V5rL_Q9AiZV"
      },
      "source": [
        "# Remove unnecessary column\n"
      ]
    },
    {
      "cell_type": "code",
      "metadata": {
        "id": "z62KrsCAApKR"
      },
      "source": [
        "df.drop('Unnamed: 0', axis=1, inplace=True)"
      ],
      "execution_count": null,
      "outputs": []
    },
    {
      "cell_type": "code",
      "metadata": {
        "colab": {
          "base_uri": "https://localhost:8080/",
          "height": 141
        },
        "id": "sNHT1e7GAyYt",
        "outputId": "07d4afb3-4ef9-4e43-d81b-d1164708878d"
      },
      "source": [
        "df.head(2)"
      ],
      "execution_count": null,
      "outputs": [
        {
          "output_type": "execute_result",
          "data": {
            "text/html": [
              "<div>\n",
              "<style scoped>\n",
              "    .dataframe tbody tr th:only-of-type {\n",
              "        vertical-align: middle;\n",
              "    }\n",
              "\n",
              "    .dataframe tbody tr th {\n",
              "        vertical-align: top;\n",
              "    }\n",
              "\n",
              "    .dataframe thead th {\n",
              "        text-align: right;\n",
              "    }\n",
              "</style>\n",
              "<table border=\"1\" class=\"dataframe\">\n",
              "  <thead>\n",
              "    <tr style=\"text-align: right;\">\n",
              "      <th></th>\n",
              "      <th>AveragePrice</th>\n",
              "      <th>Total Volume</th>\n",
              "      <th>4046</th>\n",
              "      <th>4225</th>\n",
              "      <th>4770</th>\n",
              "      <th>Total Bags</th>\n",
              "      <th>Small Bags</th>\n",
              "      <th>Large Bags</th>\n",
              "      <th>XLarge Bags</th>\n",
              "      <th>type</th>\n",
              "      <th>year</th>\n",
              "      <th>region</th>\n",
              "    </tr>\n",
              "    <tr>\n",
              "      <th>Date</th>\n",
              "      <th></th>\n",
              "      <th></th>\n",
              "      <th></th>\n",
              "      <th></th>\n",
              "      <th></th>\n",
              "      <th></th>\n",
              "      <th></th>\n",
              "      <th></th>\n",
              "      <th></th>\n",
              "      <th></th>\n",
              "      <th></th>\n",
              "      <th></th>\n",
              "    </tr>\n",
              "  </thead>\n",
              "  <tbody>\n",
              "    <tr>\n",
              "      <th>2015-12-27</th>\n",
              "      <td>1.33</td>\n",
              "      <td>64236.62</td>\n",
              "      <td>1036.74</td>\n",
              "      <td>54454.85</td>\n",
              "      <td>48.16</td>\n",
              "      <td>8696.87</td>\n",
              "      <td>8603.62</td>\n",
              "      <td>93.25</td>\n",
              "      <td>0.0</td>\n",
              "      <td>conventional</td>\n",
              "      <td>2015</td>\n",
              "      <td>Albany</td>\n",
              "    </tr>\n",
              "    <tr>\n",
              "      <th>2015-12-20</th>\n",
              "      <td>1.35</td>\n",
              "      <td>54876.98</td>\n",
              "      <td>674.28</td>\n",
              "      <td>44638.81</td>\n",
              "      <td>58.33</td>\n",
              "      <td>9505.56</td>\n",
              "      <td>9408.07</td>\n",
              "      <td>97.49</td>\n",
              "      <td>0.0</td>\n",
              "      <td>conventional</td>\n",
              "      <td>2015</td>\n",
              "      <td>Albany</td>\n",
              "    </tr>\n",
              "  </tbody>\n",
              "</table>\n",
              "</div>"
            ],
            "text/plain": [
              "            AveragePrice  Total Volume     4046  ...          type  year  region\n",
              "Date                                             ...                            \n",
              "2015-12-27          1.33      64236.62  1036.74  ...  conventional  2015  Albany\n",
              "2015-12-20          1.35      54876.98   674.28  ...  conventional  2015  Albany\n",
              "\n",
              "[2 rows x 12 columns]"
            ]
          },
          "metadata": {
            "tags": []
          },
          "execution_count": 8
        }
      ]
    },
    {
      "cell_type": "markdown",
      "metadata": {
        "id": "wYBJTvy6BkFW"
      },
      "source": [
        "# Create new feature Total Price\n",
        "Total Price = Total Volume * AveragePrice\n",
        "\n",
        "\n",
        "\n"
      ]
    },
    {
      "cell_type": "code",
      "metadata": {
        "id": "lftKB01ZB_hh"
      },
      "source": [
        "df['TotalPrice'] = df['Total Volume'] * df['AveragePrice']"
      ],
      "execution_count": null,
      "outputs": []
    },
    {
      "cell_type": "code",
      "metadata": {
        "colab": {
          "base_uri": "https://localhost:8080/",
          "height": 332
        },
        "id": "DoVdxbeXDxEh",
        "outputId": "9e5b8e35-1b0c-4c6c-d205-2cd8cf45015a"
      },
      "source": [
        "df.head()"
      ],
      "execution_count": null,
      "outputs": [
        {
          "output_type": "execute_result",
          "data": {
            "text/html": [
              "<div>\n",
              "<style scoped>\n",
              "    .dataframe tbody tr th:only-of-type {\n",
              "        vertical-align: middle;\n",
              "    }\n",
              "\n",
              "    .dataframe tbody tr th {\n",
              "        vertical-align: top;\n",
              "    }\n",
              "\n",
              "    .dataframe thead th {\n",
              "        text-align: right;\n",
              "    }\n",
              "</style>\n",
              "<table border=\"1\" class=\"dataframe\">\n",
              "  <thead>\n",
              "    <tr style=\"text-align: right;\">\n",
              "      <th></th>\n",
              "      <th>AveragePrice</th>\n",
              "      <th>Total Volume</th>\n",
              "      <th>4046</th>\n",
              "      <th>4225</th>\n",
              "      <th>4770</th>\n",
              "      <th>Total Bags</th>\n",
              "      <th>Small Bags</th>\n",
              "      <th>Large Bags</th>\n",
              "      <th>XLarge Bags</th>\n",
              "      <th>type</th>\n",
              "      <th>year</th>\n",
              "      <th>region</th>\n",
              "      <th>TotalPrice</th>\n",
              "    </tr>\n",
              "    <tr>\n",
              "      <th>Date</th>\n",
              "      <th></th>\n",
              "      <th></th>\n",
              "      <th></th>\n",
              "      <th></th>\n",
              "      <th></th>\n",
              "      <th></th>\n",
              "      <th></th>\n",
              "      <th></th>\n",
              "      <th></th>\n",
              "      <th></th>\n",
              "      <th></th>\n",
              "      <th></th>\n",
              "      <th></th>\n",
              "    </tr>\n",
              "  </thead>\n",
              "  <tbody>\n",
              "    <tr>\n",
              "      <th>2015-12-27</th>\n",
              "      <td>1.33</td>\n",
              "      <td>64236.62</td>\n",
              "      <td>1036.74</td>\n",
              "      <td>54454.85</td>\n",
              "      <td>48.16</td>\n",
              "      <td>8696.87</td>\n",
              "      <td>8603.62</td>\n",
              "      <td>93.25</td>\n",
              "      <td>0.0</td>\n",
              "      <td>conventional</td>\n",
              "      <td>2015</td>\n",
              "      <td>Albany</td>\n",
              "      <td>85434.7046</td>\n",
              "    </tr>\n",
              "    <tr>\n",
              "      <th>2015-12-20</th>\n",
              "      <td>1.35</td>\n",
              "      <td>54876.98</td>\n",
              "      <td>674.28</td>\n",
              "      <td>44638.81</td>\n",
              "      <td>58.33</td>\n",
              "      <td>9505.56</td>\n",
              "      <td>9408.07</td>\n",
              "      <td>97.49</td>\n",
              "      <td>0.0</td>\n",
              "      <td>conventional</td>\n",
              "      <td>2015</td>\n",
              "      <td>Albany</td>\n",
              "      <td>74083.9230</td>\n",
              "    </tr>\n",
              "    <tr>\n",
              "      <th>2015-12-13</th>\n",
              "      <td>0.93</td>\n",
              "      <td>118220.22</td>\n",
              "      <td>794.70</td>\n",
              "      <td>109149.67</td>\n",
              "      <td>130.50</td>\n",
              "      <td>8145.35</td>\n",
              "      <td>8042.21</td>\n",
              "      <td>103.14</td>\n",
              "      <td>0.0</td>\n",
              "      <td>conventional</td>\n",
              "      <td>2015</td>\n",
              "      <td>Albany</td>\n",
              "      <td>109944.8046</td>\n",
              "    </tr>\n",
              "    <tr>\n",
              "      <th>2015-12-06</th>\n",
              "      <td>1.08</td>\n",
              "      <td>78992.15</td>\n",
              "      <td>1132.00</td>\n",
              "      <td>71976.41</td>\n",
              "      <td>72.58</td>\n",
              "      <td>5811.16</td>\n",
              "      <td>5677.40</td>\n",
              "      <td>133.76</td>\n",
              "      <td>0.0</td>\n",
              "      <td>conventional</td>\n",
              "      <td>2015</td>\n",
              "      <td>Albany</td>\n",
              "      <td>85311.5220</td>\n",
              "    </tr>\n",
              "    <tr>\n",
              "      <th>2015-11-29</th>\n",
              "      <td>1.28</td>\n",
              "      <td>51039.60</td>\n",
              "      <td>941.48</td>\n",
              "      <td>43838.39</td>\n",
              "      <td>75.78</td>\n",
              "      <td>6183.95</td>\n",
              "      <td>5986.26</td>\n",
              "      <td>197.69</td>\n",
              "      <td>0.0</td>\n",
              "      <td>conventional</td>\n",
              "      <td>2015</td>\n",
              "      <td>Albany</td>\n",
              "      <td>65330.6880</td>\n",
              "    </tr>\n",
              "  </tbody>\n",
              "</table>\n",
              "</div>"
            ],
            "text/plain": [
              "            AveragePrice  Total Volume     4046  ...  year  region   TotalPrice\n",
              "Date                                             ...                           \n",
              "2015-12-27          1.33      64236.62  1036.74  ...  2015  Albany   85434.7046\n",
              "2015-12-20          1.35      54876.98   674.28  ...  2015  Albany   74083.9230\n",
              "2015-12-13          0.93     118220.22   794.70  ...  2015  Albany  109944.8046\n",
              "2015-12-06          1.08      78992.15  1132.00  ...  2015  Albany   85311.5220\n",
              "2015-11-29          1.28      51039.60   941.48  ...  2015  Albany   65330.6880\n",
              "\n",
              "[5 rows x 13 columns]"
            ]
          },
          "metadata": {
            "tags": []
          },
          "execution_count": 10
        }
      ]
    },
    {
      "cell_type": "markdown",
      "metadata": {
        "id": "j45IbCBhEtza"
      },
      "source": [
        "# Check and fill the null values (IF ANY)\n",
        "\n",
        "- Rolling Average\n",
        "\n",
        "- Backword / Forward *Fill*"
      ]
    },
    {
      "cell_type": "code",
      "metadata": {
        "colab": {
          "base_uri": "https://localhost:8080/"
        },
        "id": "fZPq03JGKkfs",
        "outputId": "7f51f618-1ddc-4a3c-df61-37591079a225"
      },
      "source": [
        "df.isnull().sum()"
      ],
      "execution_count": null,
      "outputs": [
        {
          "output_type": "execute_result",
          "data": {
            "text/plain": [
              "AveragePrice    0\n",
              "Total Volume    0\n",
              "4046            0\n",
              "4225            0\n",
              "4770            0\n",
              "Total Bags      0\n",
              "Small Bags      0\n",
              "Large Bags      0\n",
              "XLarge Bags     0\n",
              "type            0\n",
              "year            0\n",
              "region          0\n",
              "TotalPrice      0\n",
              "dtype: int64"
            ]
          },
          "metadata": {
            "tags": []
          },
          "execution_count": 11
        }
      ]
    },
    {
      "cell_type": "markdown",
      "metadata": {
        "id": "Kbod1g8MK2nG"
      },
      "source": [
        "# Print and check the dates"
      ]
    },
    {
      "cell_type": "code",
      "metadata": {
        "colab": {
          "base_uri": "https://localhost:8080/"
        },
        "id": "PMbl-FttKqOJ",
        "outputId": "cc0f14a4-2085-40a5-c9d0-d87e01944038"
      },
      "source": [
        "df.index"
      ],
      "execution_count": null,
      "outputs": [
        {
          "output_type": "execute_result",
          "data": {
            "text/plain": [
              "DatetimeIndex(['2015-12-27', '2015-12-20', '2015-12-13', '2015-12-06',\n",
              "               '2015-11-29', '2015-11-22', '2015-11-15', '2015-11-08',\n",
              "               '2015-11-01', '2015-10-25',\n",
              "               ...\n",
              "               '2018-03-11', '2018-03-04', '2018-02-25', '2018-02-18',\n",
              "               '2018-02-11', '2018-02-04', '2018-01-28', '2018-01-21',\n",
              "               '2018-01-14', '2018-01-07'],\n",
              "              dtype='datetime64[ns]', name='Date', length=18249, freq=None)"
            ]
          },
          "metadata": {
            "tags": []
          },
          "execution_count": 12
        }
      ]
    },
    {
      "cell_type": "code",
      "metadata": {
        "colab": {
          "base_uri": "https://localhost:8080/"
        },
        "id": "BumnWiM_MBAz",
        "outputId": "422351a2-6841-4cbe-e1e8-946a71c43654"
      },
      "source": [
        "period = df.index.nunique()\n",
        "period"
      ],
      "execution_count": null,
      "outputs": [
        {
          "output_type": "execute_result",
          "data": {
            "text/plain": [
              "169"
            ]
          },
          "metadata": {
            "tags": []
          },
          "execution_count": 13
        }
      ]
    },
    {
      "cell_type": "code",
      "metadata": {
        "colab": {
          "base_uri": "https://localhost:8080/"
        },
        "id": "44KWlxruLDMy",
        "outputId": "e74176a2-634e-433f-fdbb-6fd0810db4cc"
      },
      "source": [
        "pd.date_range('2007-01-01', freq='MS', periods=period)"
      ],
      "execution_count": null,
      "outputs": [
        {
          "output_type": "execute_result",
          "data": {
            "text/plain": [
              "DatetimeIndex(['2007-01-01', '2007-02-01', '2007-03-01', '2007-04-01',\n",
              "               '2007-05-01', '2007-06-01', '2007-07-01', '2007-08-01',\n",
              "               '2007-09-01', '2007-10-01',\n",
              "               ...\n",
              "               '2020-04-01', '2020-05-01', '2020-06-01', '2020-07-01',\n",
              "               '2020-08-01', '2020-09-01', '2020-10-01', '2020-11-01',\n",
              "               '2020-12-01', '2021-01-01'],\n",
              "              dtype='datetime64[ns]', length=169, freq='MS')"
            ]
          },
          "metadata": {
            "tags": []
          },
          "execution_count": 14
        }
      ]
    },
    {
      "cell_type": "code",
      "metadata": {
        "colab": {
          "base_uri": "https://localhost:8080/"
        },
        "id": "fEjv2z-ZHLXT",
        "outputId": "b02a5934-20b9-47c4-f552-72b96103d2b3"
      },
      "source": [
        "df.value_counts()"
      ],
      "execution_count": null,
      "outputs": [
        {
          "output_type": "execute_result",
          "data": {
            "text/plain": [
              "AveragePrice  Total Volume  4046        4225        4770     Total Bags  Small Bags  Large Bags  XLarge Bags  type          year  region               TotalPrice  \n",
              "3.25          16700.94      2325.93     11142.85    0.00     3232.16     3232.16     0.00        0.00         organic       2016  SanFrancisco         5.427805e+04    1\n",
              "1.18          2208596.12    1051836.46  479599.90   7659.28  669500.48   562989.08   106461.22   50.18        conventional  2018  Plains               2.606143e+06    1\n",
              "              1102213.13    129351.87   659069.49   4321.42  309470.35   304382.22   5088.13     0.00         conventional  2018  BaltimoreWashington  1.300611e+06    1\n",
              "              1192210.54    16098.34    913022.98   801.09   262288.13   214317.49   47970.64    0.00         conventional  2015  NewYork              1.406808e+06    1\n",
              "              1338129.89    19919.91    1025372.06  2849.43  289988.49   228539.44   61449.05    0.00         conventional  2015  NewYork              1.578993e+06    1\n",
              "                                                                                                                                                                      ..\n",
              "1.56          3291.61       33.31       127.31      0.00     3130.99     3130.99     0.00        0.00         organic       2015  BuffaloRochester     5.134912e+03    1\n",
              "              2747.19       353.56      83.28       0.00     2310.35     2310.35     0.00        0.00         organic       2015  NewOrleansMobile     4.285616e+03    1\n",
              "              2644.90       225.97      110.98      0.00     2307.95     2304.62     3.33        0.00         organic       2017  Pittsburgh           4.126044e+03    1\n",
              "              2568.19       428.01      30.18       0.00     2110.00     2110.00     0.00        0.00         organic       2015  NewOrleansMobile     4.006376e+03    1\n",
              "0.44          64057.04      223.84      4748.88     0.00     59084.32    638.68      58445.64    0.00         organic       2017  CincinnatiDayton     2.818510e+04    1\n",
              "Length: 18249, dtype: int64"
            ]
          },
          "metadata": {
            "tags": []
          },
          "execution_count": 15
        }
      ]
    },
    {
      "cell_type": "markdown",
      "metadata": {
        "id": "T6tAu3a2FdFs"
      },
      "source": [
        "# Create Time Series\n",
        "Features: Date, Total Price\n",
        "\n",
        "Take by region = TotalUS   "
      ]
    },
    {
      "cell_type": "code",
      "metadata": {
        "colab": {
          "base_uri": "https://localhost:8080/"
        },
        "id": "-GekhjtIGx70",
        "outputId": "2d657077-6d19-4d7e-ce79-8d46cc401123"
      },
      "source": [
        "df.region.unique()"
      ],
      "execution_count": null,
      "outputs": [
        {
          "output_type": "execute_result",
          "data": {
            "text/plain": [
              "array(['Albany', 'Atlanta', 'BaltimoreWashington', 'Boise', 'Boston',\n",
              "       'BuffaloRochester', 'California', 'Charlotte', 'Chicago',\n",
              "       'CincinnatiDayton', 'Columbus', 'DallasFtWorth', 'Denver',\n",
              "       'Detroit', 'GrandRapids', 'GreatLakes', 'HarrisburgScranton',\n",
              "       'HartfordSpringfield', 'Houston', 'Indianapolis', 'Jacksonville',\n",
              "       'LasVegas', 'LosAngeles', 'Louisville', 'MiamiFtLauderdale',\n",
              "       'Midsouth', 'Nashville', 'NewOrleansMobile', 'NewYork',\n",
              "       'Northeast', 'NorthernNewEngland', 'Orlando', 'Philadelphia',\n",
              "       'PhoenixTucson', 'Pittsburgh', 'Plains', 'Portland',\n",
              "       'RaleighGreensboro', 'RichmondNorfolk', 'Roanoke', 'Sacramento',\n",
              "       'SanDiego', 'SanFrancisco', 'Seattle', 'SouthCarolina',\n",
              "       'SouthCentral', 'Southeast', 'Spokane', 'StLouis', 'Syracuse',\n",
              "       'Tampa', 'TotalUS', 'West', 'WestTexNewMexico'], dtype=object)"
            ]
          },
          "metadata": {
            "tags": []
          },
          "execution_count": 16
        }
      ]
    },
    {
      "cell_type": "code",
      "metadata": {
        "colab": {
          "base_uri": "https://localhost:8080/",
          "height": 414
        },
        "id": "KKlQplJ9Fx3E",
        "outputId": "4e107342-a51f-4553-ad8c-6b10596cb080"
      },
      "source": [
        "df1 = df.loc[(df['region']=='TotalUS')].reset_index()\n",
        "df1"
      ],
      "execution_count": null,
      "outputs": [
        {
          "output_type": "execute_result",
          "data": {
            "text/html": [
              "<div>\n",
              "<style scoped>\n",
              "    .dataframe tbody tr th:only-of-type {\n",
              "        vertical-align: middle;\n",
              "    }\n",
              "\n",
              "    .dataframe tbody tr th {\n",
              "        vertical-align: top;\n",
              "    }\n",
              "\n",
              "    .dataframe thead th {\n",
              "        text-align: right;\n",
              "    }\n",
              "</style>\n",
              "<table border=\"1\" class=\"dataframe\">\n",
              "  <thead>\n",
              "    <tr style=\"text-align: right;\">\n",
              "      <th></th>\n",
              "      <th>Date</th>\n",
              "      <th>AveragePrice</th>\n",
              "      <th>Total Volume</th>\n",
              "      <th>4046</th>\n",
              "      <th>4225</th>\n",
              "      <th>4770</th>\n",
              "      <th>Total Bags</th>\n",
              "      <th>Small Bags</th>\n",
              "      <th>Large Bags</th>\n",
              "      <th>XLarge Bags</th>\n",
              "      <th>type</th>\n",
              "      <th>year</th>\n",
              "      <th>region</th>\n",
              "      <th>TotalPrice</th>\n",
              "    </tr>\n",
              "  </thead>\n",
              "  <tbody>\n",
              "    <tr>\n",
              "      <th>0</th>\n",
              "      <td>2015-12-27</td>\n",
              "      <td>0.95</td>\n",
              "      <td>27297983.67</td>\n",
              "      <td>9626901.09</td>\n",
              "      <td>10197890.05</td>\n",
              "      <td>1184340.09</td>\n",
              "      <td>6288852.44</td>\n",
              "      <td>4850404.09</td>\n",
              "      <td>1252626.31</td>\n",
              "      <td>185822.04</td>\n",
              "      <td>conventional</td>\n",
              "      <td>2015</td>\n",
              "      <td>TotalUS</td>\n",
              "      <td>2.593308e+07</td>\n",
              "    </tr>\n",
              "    <tr>\n",
              "      <th>1</th>\n",
              "      <td>2015-12-20</td>\n",
              "      <td>0.98</td>\n",
              "      <td>25083647.17</td>\n",
              "      <td>8710021.76</td>\n",
              "      <td>9329861.85</td>\n",
              "      <td>1201020.01</td>\n",
              "      <td>5842743.55</td>\n",
              "      <td>4618389.66</td>\n",
              "      <td>1025048.77</td>\n",
              "      <td>199305.12</td>\n",
              "      <td>conventional</td>\n",
              "      <td>2015</td>\n",
              "      <td>TotalUS</td>\n",
              "      <td>2.458197e+07</td>\n",
              "    </tr>\n",
              "    <tr>\n",
              "      <th>2</th>\n",
              "      <td>2015-12-13</td>\n",
              "      <td>0.93</td>\n",
              "      <td>28041335.38</td>\n",
              "      <td>9855053.66</td>\n",
              "      <td>10805838.91</td>\n",
              "      <td>1016163.17</td>\n",
              "      <td>6364279.64</td>\n",
              "      <td>4964462.13</td>\n",
              "      <td>1371440.28</td>\n",
              "      <td>28377.23</td>\n",
              "      <td>conventional</td>\n",
              "      <td>2015</td>\n",
              "      <td>TotalUS</td>\n",
              "      <td>2.607844e+07</td>\n",
              "    </tr>\n",
              "    <tr>\n",
              "      <th>3</th>\n",
              "      <td>2015-12-06</td>\n",
              "      <td>0.89</td>\n",
              "      <td>28800396.57</td>\n",
              "      <td>9405464.36</td>\n",
              "      <td>12160838.62</td>\n",
              "      <td>931830.63</td>\n",
              "      <td>6302262.96</td>\n",
              "      <td>5005077.36</td>\n",
              "      <td>1233956.21</td>\n",
              "      <td>63229.39</td>\n",
              "      <td>conventional</td>\n",
              "      <td>2015</td>\n",
              "      <td>TotalUS</td>\n",
              "      <td>2.563235e+07</td>\n",
              "    </tr>\n",
              "    <tr>\n",
              "      <th>4</th>\n",
              "      <td>2015-11-29</td>\n",
              "      <td>0.99</td>\n",
              "      <td>22617999.38</td>\n",
              "      <td>8094803.56</td>\n",
              "      <td>9003178.41</td>\n",
              "      <td>731008.41</td>\n",
              "      <td>4789009.00</td>\n",
              "      <td>3901953.04</td>\n",
              "      <td>856560.34</td>\n",
              "      <td>30495.62</td>\n",
              "      <td>conventional</td>\n",
              "      <td>2015</td>\n",
              "      <td>TotalUS</td>\n",
              "      <td>2.239182e+07</td>\n",
              "    </tr>\n",
              "    <tr>\n",
              "      <th>...</th>\n",
              "      <td>...</td>\n",
              "      <td>...</td>\n",
              "      <td>...</td>\n",
              "      <td>...</td>\n",
              "      <td>...</td>\n",
              "      <td>...</td>\n",
              "      <td>...</td>\n",
              "      <td>...</td>\n",
              "      <td>...</td>\n",
              "      <td>...</td>\n",
              "      <td>...</td>\n",
              "      <td>...</td>\n",
              "      <td>...</td>\n",
              "      <td>...</td>\n",
              "    </tr>\n",
              "    <tr>\n",
              "      <th>333</th>\n",
              "      <td>2018-02-04</td>\n",
              "      <td>1.53</td>\n",
              "      <td>1384683.41</td>\n",
              "      <td>117922.52</td>\n",
              "      <td>287724.61</td>\n",
              "      <td>1703.52</td>\n",
              "      <td>977084.84</td>\n",
              "      <td>774695.74</td>\n",
              "      <td>201878.69</td>\n",
              "      <td>510.41</td>\n",
              "      <td>organic</td>\n",
              "      <td>2018</td>\n",
              "      <td>TotalUS</td>\n",
              "      <td>2.118566e+06</td>\n",
              "    </tr>\n",
              "    <tr>\n",
              "      <th>334</th>\n",
              "      <td>2018-01-28</td>\n",
              "      <td>1.61</td>\n",
              "      <td>1336979.09</td>\n",
              "      <td>118616.17</td>\n",
              "      <td>280080.34</td>\n",
              "      <td>1270.61</td>\n",
              "      <td>936859.49</td>\n",
              "      <td>796104.27</td>\n",
              "      <td>140652.84</td>\n",
              "      <td>102.38</td>\n",
              "      <td>organic</td>\n",
              "      <td>2018</td>\n",
              "      <td>TotalUS</td>\n",
              "      <td>2.152536e+06</td>\n",
              "    </tr>\n",
              "    <tr>\n",
              "      <th>335</th>\n",
              "      <td>2018-01-21</td>\n",
              "      <td>1.63</td>\n",
              "      <td>1283987.65</td>\n",
              "      <td>108705.28</td>\n",
              "      <td>259172.13</td>\n",
              "      <td>1490.02</td>\n",
              "      <td>914409.26</td>\n",
              "      <td>710654.40</td>\n",
              "      <td>203526.59</td>\n",
              "      <td>228.27</td>\n",
              "      <td>organic</td>\n",
              "      <td>2018</td>\n",
              "      <td>TotalUS</td>\n",
              "      <td>2.092900e+06</td>\n",
              "    </tr>\n",
              "    <tr>\n",
              "      <th>336</th>\n",
              "      <td>2018-01-14</td>\n",
              "      <td>1.59</td>\n",
              "      <td>1476651.08</td>\n",
              "      <td>145680.62</td>\n",
              "      <td>323669.83</td>\n",
              "      <td>1580.01</td>\n",
              "      <td>1005593.78</td>\n",
              "      <td>858772.69</td>\n",
              "      <td>146808.97</td>\n",
              "      <td>12.12</td>\n",
              "      <td>organic</td>\n",
              "      <td>2018</td>\n",
              "      <td>TotalUS</td>\n",
              "      <td>2.347875e+06</td>\n",
              "    </tr>\n",
              "    <tr>\n",
              "      <th>337</th>\n",
              "      <td>2018-01-07</td>\n",
              "      <td>1.51</td>\n",
              "      <td>1517332.70</td>\n",
              "      <td>129541.43</td>\n",
              "      <td>296490.29</td>\n",
              "      <td>1289.07</td>\n",
              "      <td>1089861.24</td>\n",
              "      <td>915452.78</td>\n",
              "      <td>174381.57</td>\n",
              "      <td>26.89</td>\n",
              "      <td>organic</td>\n",
              "      <td>2018</td>\n",
              "      <td>TotalUS</td>\n",
              "      <td>2.291172e+06</td>\n",
              "    </tr>\n",
              "  </tbody>\n",
              "</table>\n",
              "<p>338 rows × 14 columns</p>\n",
              "</div>"
            ],
            "text/plain": [
              "          Date  AveragePrice  Total Volume  ...  year   region    TotalPrice\n",
              "0   2015-12-27          0.95   27297983.67  ...  2015  TotalUS  2.593308e+07\n",
              "1   2015-12-20          0.98   25083647.17  ...  2015  TotalUS  2.458197e+07\n",
              "2   2015-12-13          0.93   28041335.38  ...  2015  TotalUS  2.607844e+07\n",
              "3   2015-12-06          0.89   28800396.57  ...  2015  TotalUS  2.563235e+07\n",
              "4   2015-11-29          0.99   22617999.38  ...  2015  TotalUS  2.239182e+07\n",
              "..         ...           ...           ...  ...   ...      ...           ...\n",
              "333 2018-02-04          1.53    1384683.41  ...  2018  TotalUS  2.118566e+06\n",
              "334 2018-01-28          1.61    1336979.09  ...  2018  TotalUS  2.152536e+06\n",
              "335 2018-01-21          1.63    1283987.65  ...  2018  TotalUS  2.092900e+06\n",
              "336 2018-01-14          1.59    1476651.08  ...  2018  TotalUS  2.347875e+06\n",
              "337 2018-01-07          1.51    1517332.70  ...  2018  TotalUS  2.291172e+06\n",
              "\n",
              "[338 rows x 14 columns]"
            ]
          },
          "metadata": {
            "tags": []
          },
          "execution_count": 17
        }
      ]
    },
    {
      "cell_type": "code",
      "metadata": {
        "colab": {
          "base_uri": "https://localhost:8080/",
          "height": 414
        },
        "id": "l5ou35_VIWEN",
        "outputId": "53da347f-515b-405b-8e3e-080fadd35bae"
      },
      "source": [
        "ts = df1[['Date', 'TotalPrice']]\n",
        "ts"
      ],
      "execution_count": null,
      "outputs": [
        {
          "output_type": "execute_result",
          "data": {
            "text/html": [
              "<div>\n",
              "<style scoped>\n",
              "    .dataframe tbody tr th:only-of-type {\n",
              "        vertical-align: middle;\n",
              "    }\n",
              "\n",
              "    .dataframe tbody tr th {\n",
              "        vertical-align: top;\n",
              "    }\n",
              "\n",
              "    .dataframe thead th {\n",
              "        text-align: right;\n",
              "    }\n",
              "</style>\n",
              "<table border=\"1\" class=\"dataframe\">\n",
              "  <thead>\n",
              "    <tr style=\"text-align: right;\">\n",
              "      <th></th>\n",
              "      <th>Date</th>\n",
              "      <th>TotalPrice</th>\n",
              "    </tr>\n",
              "  </thead>\n",
              "  <tbody>\n",
              "    <tr>\n",
              "      <th>0</th>\n",
              "      <td>2015-12-27</td>\n",
              "      <td>2.593308e+07</td>\n",
              "    </tr>\n",
              "    <tr>\n",
              "      <th>1</th>\n",
              "      <td>2015-12-20</td>\n",
              "      <td>2.458197e+07</td>\n",
              "    </tr>\n",
              "    <tr>\n",
              "      <th>2</th>\n",
              "      <td>2015-12-13</td>\n",
              "      <td>2.607844e+07</td>\n",
              "    </tr>\n",
              "    <tr>\n",
              "      <th>3</th>\n",
              "      <td>2015-12-06</td>\n",
              "      <td>2.563235e+07</td>\n",
              "    </tr>\n",
              "    <tr>\n",
              "      <th>4</th>\n",
              "      <td>2015-11-29</td>\n",
              "      <td>2.239182e+07</td>\n",
              "    </tr>\n",
              "    <tr>\n",
              "      <th>...</th>\n",
              "      <td>...</td>\n",
              "      <td>...</td>\n",
              "    </tr>\n",
              "    <tr>\n",
              "      <th>333</th>\n",
              "      <td>2018-02-04</td>\n",
              "      <td>2.118566e+06</td>\n",
              "    </tr>\n",
              "    <tr>\n",
              "      <th>334</th>\n",
              "      <td>2018-01-28</td>\n",
              "      <td>2.152536e+06</td>\n",
              "    </tr>\n",
              "    <tr>\n",
              "      <th>335</th>\n",
              "      <td>2018-01-21</td>\n",
              "      <td>2.092900e+06</td>\n",
              "    </tr>\n",
              "    <tr>\n",
              "      <th>336</th>\n",
              "      <td>2018-01-14</td>\n",
              "      <td>2.347875e+06</td>\n",
              "    </tr>\n",
              "    <tr>\n",
              "      <th>337</th>\n",
              "      <td>2018-01-07</td>\n",
              "      <td>2.291172e+06</td>\n",
              "    </tr>\n",
              "  </tbody>\n",
              "</table>\n",
              "<p>338 rows × 2 columns</p>\n",
              "</div>"
            ],
            "text/plain": [
              "          Date    TotalPrice\n",
              "0   2015-12-27  2.593308e+07\n",
              "1   2015-12-20  2.458197e+07\n",
              "2   2015-12-13  2.607844e+07\n",
              "3   2015-12-06  2.563235e+07\n",
              "4   2015-11-29  2.239182e+07\n",
              "..         ...           ...\n",
              "333 2018-02-04  2.118566e+06\n",
              "334 2018-01-28  2.152536e+06\n",
              "335 2018-01-21  2.092900e+06\n",
              "336 2018-01-14  2.347875e+06\n",
              "337 2018-01-07  2.291172e+06\n",
              "\n",
              "[338 rows x 2 columns]"
            ]
          },
          "metadata": {
            "tags": []
          },
          "execution_count": 18
        }
      ]
    },
    {
      "cell_type": "markdown",
      "metadata": {
        "id": "TZlb07-qM4uh"
      },
      "source": [
        "# Vizualize the TS"
      ]
    },
    {
      "cell_type": "code",
      "metadata": {
        "id": "R8L15wR_HJq5"
      },
      "source": [
        "from statsmodels.tsa.seasonal import seasonal_decompose\n",
        "from dateutil.parser import parse\n",
        "import matplotlib.pyplot as plt"
      ],
      "execution_count": null,
      "outputs": []
    },
    {
      "cell_type": "markdown",
      "metadata": {
        "id": "tJTAu-gQM_ic"
      },
      "source": [
        "# Decompose TS & Vizualize Components of TS"
      ]
    },
    {
      "cell_type": "code",
      "metadata": {
        "colab": {
          "base_uri": "https://localhost:8080/",
          "height": 387
        },
        "id": "dkm1Ie8PMoc4",
        "outputId": "9e144a6e-a017-46fe-dbc9-d2fde65c5752"
      },
      "source": [
        "# Multiplicative Decomposition \n",
        "\n",
        "result_mul = seasonal_decompose(ts['TotalPrice'], model='multiplicative', extrapolate_trend='freq')\n",
        "\n",
        "# Additive Decomposition\n",
        "result_add = seasonal_decompose(ts['TotalPrice'], model='additive', extrapolate_trend='freq')\n",
        "\n",
        "# Plot\n",
        "plt.rcParams.update({'figure.figsize': (5,5)})\n",
        "result_mul.plot().suptitle('Multiplicative Decompose', fontsize=22)\n",
        "result_add.plot().suptitle('Additive Decompose', fontsize=22)\n",
        "plt.show()"
      ],
      "execution_count": null,
      "outputs": [
        {
          "output_type": "error",
          "ename": "AttributeError",
          "evalue": "ignored",
          "traceback": [
            "\u001b[0;31m---------------------------------------------------------------------------\u001b[0m",
            "\u001b[0;31mAttributeError\u001b[0m                            Traceback (most recent call last)",
            "\u001b[0;32m<ipython-input-24-1909c38d425b>\u001b[0m in \u001b[0;36m<module>\u001b[0;34m()\u001b[0m\n\u001b[1;32m      1\u001b[0m \u001b[0;31m# Multiplicative Decomposition\u001b[0m\u001b[0;34m\u001b[0m\u001b[0;34m\u001b[0m\u001b[0;34m\u001b[0m\u001b[0m\n\u001b[1;32m      2\u001b[0m \u001b[0;34m\u001b[0m\u001b[0m\n\u001b[0;32m----> 3\u001b[0;31m \u001b[0mresult_mul\u001b[0m \u001b[0;34m=\u001b[0m \u001b[0mseasonal_decompose\u001b[0m\u001b[0;34m(\u001b[0m\u001b[0mts\u001b[0m\u001b[0;34m[\u001b[0m\u001b[0;34m'TotalPrice'\u001b[0m\u001b[0;34m]\u001b[0m\u001b[0;34m,\u001b[0m \u001b[0mmodel\u001b[0m\u001b[0;34m=\u001b[0m\u001b[0;34m'multiplicative'\u001b[0m\u001b[0;34m,\u001b[0m \u001b[0mextrapolate_trend\u001b[0m\u001b[0;34m=\u001b[0m\u001b[0;34m'freq'\u001b[0m\u001b[0;34m)\u001b[0m\u001b[0;34m\u001b[0m\u001b[0;34m\u001b[0m\u001b[0m\n\u001b[0m\u001b[1;32m      4\u001b[0m \u001b[0;34m\u001b[0m\u001b[0m\n\u001b[1;32m      5\u001b[0m \u001b[0;31m# Additive Decomposition\u001b[0m\u001b[0;34m\u001b[0m\u001b[0;34m\u001b[0m\u001b[0;34m\u001b[0m\u001b[0m\n",
            "\u001b[0;32m/usr/local/lib/python3.7/dist-packages/statsmodels/tsa/seasonal.py\u001b[0m in \u001b[0;36mseasonal_decompose\u001b[0;34m(x, model, filt, freq, two_sided, extrapolate_trend)\u001b[0m\n\u001b[1;32m    106\u001b[0m     \"\"\"\n\u001b[1;32m    107\u001b[0m     \u001b[0;32mif\u001b[0m \u001b[0mfreq\u001b[0m \u001b[0;32mis\u001b[0m \u001b[0;32mNone\u001b[0m\u001b[0;34m:\u001b[0m\u001b[0;34m\u001b[0m\u001b[0;34m\u001b[0m\u001b[0m\n\u001b[0;32m--> 108\u001b[0;31m         \u001b[0m_pandas_wrapper\u001b[0m\u001b[0;34m,\u001b[0m \u001b[0mpfreq\u001b[0m \u001b[0;34m=\u001b[0m \u001b[0m_maybe_get_pandas_wrapper_freq\u001b[0m\u001b[0;34m(\u001b[0m\u001b[0mx\u001b[0m\u001b[0;34m)\u001b[0m\u001b[0;34m\u001b[0m\u001b[0;34m\u001b[0m\u001b[0m\n\u001b[0m\u001b[1;32m    109\u001b[0m     \u001b[0;32melse\u001b[0m\u001b[0;34m:\u001b[0m\u001b[0;34m\u001b[0m\u001b[0;34m\u001b[0m\u001b[0m\n\u001b[1;32m    110\u001b[0m         \u001b[0m_pandas_wrapper\u001b[0m \u001b[0;34m=\u001b[0m \u001b[0m_maybe_get_pandas_wrapper\u001b[0m\u001b[0;34m(\u001b[0m\u001b[0mx\u001b[0m\u001b[0;34m)\u001b[0m\u001b[0;34m\u001b[0m\u001b[0;34m\u001b[0m\u001b[0m\n",
            "\u001b[0;32m/usr/local/lib/python3.7/dist-packages/statsmodels/tsa/filters/_utils.py\u001b[0m in \u001b[0;36m_maybe_get_pandas_wrapper_freq\u001b[0;34m(X, trim)\u001b[0m\n\u001b[1;32m     46\u001b[0m         \u001b[0mindex\u001b[0m \u001b[0;34m=\u001b[0m \u001b[0mX\u001b[0m\u001b[0;34m.\u001b[0m\u001b[0mindex\u001b[0m\u001b[0;34m\u001b[0m\u001b[0;34m\u001b[0m\u001b[0m\n\u001b[1;32m     47\u001b[0m         \u001b[0mfunc\u001b[0m \u001b[0;34m=\u001b[0m \u001b[0m_get_pandas_wrapper\u001b[0m\u001b[0;34m(\u001b[0m\u001b[0mX\u001b[0m\u001b[0;34m,\u001b[0m \u001b[0mtrim\u001b[0m\u001b[0;34m)\u001b[0m\u001b[0;34m\u001b[0m\u001b[0;34m\u001b[0m\u001b[0m\n\u001b[0;32m---> 48\u001b[0;31m         \u001b[0mfreq\u001b[0m \u001b[0;34m=\u001b[0m \u001b[0mindex\u001b[0m\u001b[0;34m.\u001b[0m\u001b[0minferred_freq\u001b[0m\u001b[0;34m\u001b[0m\u001b[0;34m\u001b[0m\u001b[0m\n\u001b[0m\u001b[1;32m     49\u001b[0m         \u001b[0;32mreturn\u001b[0m \u001b[0mfunc\u001b[0m\u001b[0;34m,\u001b[0m \u001b[0mfreq\u001b[0m\u001b[0;34m\u001b[0m\u001b[0;34m\u001b[0m\u001b[0m\n\u001b[1;32m     50\u001b[0m     \u001b[0;32melse\u001b[0m\u001b[0;34m:\u001b[0m\u001b[0;34m\u001b[0m\u001b[0;34m\u001b[0m\u001b[0m\n",
            "\u001b[0;31mAttributeError\u001b[0m: 'RangeIndex' object has no attribute 'inferred_freq'"
          ]
        }
      ]
    },
    {
      "cell_type": "markdown",
      "metadata": {
        "id": "NoOI4GpJQC_A"
      },
      "source": [
        "# Check the Stationarity"
      ]
    },
    {
      "cell_type": "code",
      "metadata": {
        "colab": {
          "base_uri": "https://localhost:8080/"
        },
        "id": "qoqu19WRHlyK",
        "outputId": "c74034c4-0946-409f-9cb9-b438740b1e36"
      },
      "source": [
        "random.seed(7)\n",
        "#Augmented Dickey–Fuller test / ADF Test\n",
        "result = adfuller(ts.TotalPrice.values, autolag='AIC')\n",
        "print(f'ADF Statistic: {result[0]}')\n",
        "print(f'p-value: {result[1]}')\n",
        "for key, value in result[4].items():\n",
        "    print('Critial Values:')\n",
        "    print(f'   {key}, {value}')"
      ],
      "execution_count": null,
      "outputs": [
        {
          "output_type": "stream",
          "text": [
            "ADF Statistic: -1.9696861650307085\n",
            "p-value: 0.30002074281127333\n",
            "Critial Values:\n",
            "   1%, -3.4936021509366793\n",
            "Critial Values:\n",
            "   5%, -2.8892174239808703\n",
            "Critial Values:\n",
            "   10%, -2.58153320754717\n"
          ],
          "name": "stdout"
        }
      ]
    },
    {
      "cell_type": "markdown",
      "metadata": {
        "id": "Ofr1IbSXTujW"
      },
      "source": [
        "### Conclusion of ADF test :: TS is non stationary"
      ]
    },
    {
      "cell_type": "markdown",
      "metadata": {
        "id": "4GVkYeBzT0Tw"
      },
      "source": [
        "# Make the TS Stationary\n",
        "\n",
        "####  use atleast 3 methods for making the TS stationary \n",
        "\n",
        "Then check the stationarity of TS using ADF test\n",
        "\n"
      ]
    },
    {
      "cell_type": "code",
      "metadata": {
        "id": "s5NV7QkkIXRu"
      },
      "source": [
        "ts['RA'] = ts.TotalPrice.rolling(12,min_periods=2).mean()"
      ],
      "execution_count": null,
      "outputs": []
    },
    {
      "cell_type": "code",
      "metadata": {
        "colab": {
          "base_uri": "https://localhost:8080/",
          "height": 369
        },
        "id": "FG2l-hQkIaWr",
        "outputId": "3ba54508-c2a2-4fd1-a0a4-6033dc001ffd"
      },
      "source": [
        "ts['TotalPrice'].plot(),ts['RA'].plot()"
      ],
      "execution_count": null,
      "outputs": [
        {
          "output_type": "execute_result",
          "data": {
            "text/plain": [
              "(<matplotlib.axes._subplots.AxesSubplot at 0x7fc6175be8d0>,\n",
              " <matplotlib.axes._subplots.AxesSubplot at 0x7fc6175be8d0>)"
            ]
          },
          "metadata": {
            "tags": []
          },
          "execution_count": 51
        },
        {
          "output_type": "display_data",
          "data": {
            "image/png": "[encoded data removed]",
            "text/plain": [
              "<Figure size 360x360 with 1 Axes>"
            ]
          },
          "metadata": {
            "tags": [],
            "needs_background": "light"
          }
        }
      ]
    },
    {
      "cell_type": "code",
      "metadata": {
        "id": "M0J1CSsYIcFi"
      },
      "source": [
        "ts['RA_detrend'] = ts.TotalPrice - ts.RA"
      ],
      "execution_count": null,
      "outputs": []
    },
    {
      "cell_type": "code",
      "metadata": {
        "colab": {
          "base_uri": "https://localhost:8080/",
          "height": 351
        },
        "id": "UE65KFT6I-Vs",
        "outputId": "b76a5536-fa08-42ce-de80-9c16e7b2340d"
      },
      "source": [
        "ts.RA_detrend.plot()"
      ],
      "execution_count": null,
      "outputs": [
        {
          "output_type": "execute_result",
          "data": {
            "text/plain": [
              "<matplotlib.axes._subplots.AxesSubplot at 0x7fc6174674d0>"
            ]
          },
          "metadata": {
            "tags": []
          },
          "execution_count": 53
        },
        {
          "output_type": "display_data",
          "data": {
            "image/png": "[encoded data removed]",
            "text/plain": [
              "<Figure size 360x360 with 1 Axes>"
            ]
          },
          "metadata": {
            "tags": [],
            "needs_background": "light"
          }
        }
      ]
    },
    {
      "cell_type": "code",
      "metadata": {
        "colab": {
          "base_uri": "https://localhost:8080/"
        },
        "id": "_swXLz1GIqlL",
        "outputId": "84a60cd9-239d-4115-be09-a2df225a63f9"
      },
      "source": [
        "ts['RA_detrend'].head()"
      ],
      "execution_count": null,
      "outputs": [
        {
          "output_type": "execute_result",
          "data": {
            "text/plain": [
              "Date\n",
              "2007-01-01       NaN\n",
              "2007-02-01     550.0\n",
              "2007-03-01    1100.0\n",
              "2007-04-01    1650.0\n",
              "2007-05-01    2200.0\n",
              "Name: RA_detrend, dtype: float64"
            ]
          },
          "metadata": {
            "tags": []
          },
          "execution_count": 54
        }
      ]
    },
    {
      "cell_type": "code",
      "metadata": {
        "colab": {
          "base_uri": "https://localhost:8080/"
        },
        "id": "8f8nhDaRIfZ7",
        "outputId": "c11db069-da9d-42ab-880e-c5bdc7f37381"
      },
      "source": [
        "random.seed(7)\n",
        "#Augmented Dickey–Fuller test / ADF Test\n",
        "result = adfuller(ts.TotalPrice.values, autolag='AIC')\n",
        "print(f'ADF Statistic: {result[0]}')\n",
        "print(f'p-value: {result[1]}')\n",
        "for key, value in result[4].items():\n",
        "    print('Critial Values:')\n",
        "    print(f'   {key}, {value}')"
      ],
      "execution_count": null,
      "outputs": [
        {
          "output_type": "stream",
          "text": [
            "ADF Statistic: -8.339525450161846\n",
            "p-value: 3.2040791239779225e-13\n",
            "Critial Values:\n",
            "   1%, -3.4942202045135513\n",
            "Critial Values:\n",
            "   5%, -2.889485291005291\n",
            "Critial Values:\n",
            "   10%, -2.5816762131519275\n"
          ],
          "name": "stdout"
        }
      ]
    },
    {
      "cell_type": "code",
      "metadata": {
        "id": "DOvrVVm3i53p"
      },
      "source": [
        "from statsmodels.tsa.arima_model import ARIMA"
      ],
      "execution_count": null,
      "outputs": []
    },
    {
      "cell_type": "code",
      "metadata": {
        "id": "f0ffLUd0IkmA"
      },
      "source": [
        "from sklearn.metrics import mean_squared_error"
      ],
      "execution_count": null,
      "outputs": []
    },
    {
      "cell_type": "code",
      "metadata": {
        "id": "jX0wKUkIJnuE"
      },
      "source": [
        "def ts_train_test_split(X, per=0.90):\n",
        "    size = int(len(X) * per)\n",
        "    train, test = X[0:size], X[size:len(X)]\n",
        "    return train,test"
      ],
      "execution_count": null,
      "outputs": []
    },
    {
      "cell_type": "code",
      "metadata": {
        "id": "-321GNgBJuWY"
      },
      "source": [
        "train,test = ts_train_test_split(ts.loc['2015-12-27':,'RA_detrend'],per=0.70)"
      ],
      "execution_count": null,
      "outputs": []
    },
    {
      "cell_type": "code",
      "metadata": {
        "colab": {
          "base_uri": "https://localhost:8080/"
        },
        "id": "0XSdUtKDJ14s",
        "outputId": "13cbbc64-8df5-43c5-bdda-bab7ddd3a510"
      },
      "source": [
        "len(train),len(test)"
      ],
      "execution_count": null,
      "outputs": [
        {
          "output_type": "execute_result",
          "data": {
            "text/plain": [
              "(83, 36)"
            ]
          },
          "metadata": {
            "tags": []
          },
          "execution_count": 29
        }
      ]
    },
    {
      "cell_type": "code",
      "metadata": {
        "colab": {
          "base_uri": "https://localhost:8080/"
        },
        "id": "eE_jh9sJJ6gD",
        "outputId": "e6933cb7-ca38-4d04-8585-ad67f99892a9"
      },
      "source": [
        "# for \n",
        "model = ARIMA(train, order=(2,1,1)) # order is p,d,q\n",
        "model_fit = model.fit()\n",
        "output = model_fit.predict(start=,end=118,dynamic=True)\n",
        "print(\"RMSE is = \", mean_squared_error(test,output)**0.5)"
      ],
      "execution_count": null,
      "outputs": [
        {
          "output_type": "stream",
          "text": [
            "/usr/local/lib/python3.7/dist-packages/statsmodels/tsa/arima_model.py:472: FutureWarning: \n",
            "statsmodels.tsa.arima_model.ARMA and statsmodels.tsa.arima_model.ARIMA have\n",
            "been deprecated in favor of statsmodels.tsa.arima.model.ARIMA (note the .\n",
            "between arima and model) and\n",
            "statsmodels.tsa.SARIMAX. These will be removed after the 0.12 release.\n",
            "\n",
            "statsmodels.tsa.arima.model.ARIMA makes use of the statespace framework and\n",
            "is both well tested and maintained.\n",
            "\n",
            "To silence this warning and continue using ARMA and ARIMA until they are\n",
            "removed, use:\n",
            "\n",
            "import warnings\n",
            "warnings.filterwarnings('ignore', 'statsmodels.tsa.arima_model.ARMA',\n",
            "                        FutureWarning)\n",
            "warnings.filterwarnings('ignore', 'statsmodels.tsa.arima_model.ARIMA',\n",
            "                        FutureWarning)\n",
            "\n",
            "  warnings.warn(ARIMA_DEPRECATION_WARN, FutureWarning)\n",
            "/usr/local/lib/python3.7/dist-packages/statsmodels/tsa/base/tsa_model.py:527: ValueWarning: No frequency information was provided, so inferred frequency MS will be used.\n",
            "  % freq, ValueWarning)\n",
            "/usr/local/lib/python3.7/dist-packages/statsmodels/tsa/base/tsa_model.py:527: ValueWarning: No frequency information was provided, so inferred frequency MS will be used.\n",
            "  % freq, ValueWarning)\n"
          ],
          "name": "stderr"
        },
        {
          "output_type": "stream",
          "text": [
            "RMSE is =  1781.9434500258253\n"
          ],
          "name": "stdout"
        },
        {
          "output_type": "stream",
          "text": [
            "/usr/local/lib/python3.7/dist-packages/statsmodels/tsa/arima_model.py:472: FutureWarning: \n",
            "statsmodels.tsa.arima_model.ARMA and statsmodels.tsa.arima_model.ARIMA have\n",
            "been deprecated in favor of statsmodels.tsa.arima.model.ARIMA (note the .\n",
            "between arima and model) and\n",
            "statsmodels.tsa.SARIMAX. These will be removed after the 0.12 release.\n",
            "\n",
            "statsmodels.tsa.arima.model.ARIMA makes use of the statespace framework and\n",
            "is both well tested and maintained.\n",
            "\n",
            "To silence this warning and continue using ARMA and ARIMA until they are\n",
            "removed, use:\n",
            "\n",
            "import warnings\n",
            "warnings.filterwarnings('ignore', 'statsmodels.tsa.arima_model.ARMA',\n",
            "                        FutureWarning)\n",
            "warnings.filterwarnings('ignore', 'statsmodels.tsa.arima_model.ARIMA',\n",
            "                        FutureWarning)\n",
            "\n",
            "  warnings.warn(ARIMA_DEPRECATION_WARN, FutureWarning)\n"
          ],
          "name": "stderr"
        }
      ]
    },
    {
      "cell_type": "code",
      "metadata": {
        "colab": {
          "base_uri": "https://localhost:8080/"
        },
        "id": "s9aMW5jYJ9zv",
        "outputId": "81896768-f35b-4a32-a6f4-cfba060db417"
      },
      "source": [
        "output_1 = model_fit.forecast(len(test))\n",
        "print(\"RMSE is = \", mean_squared_error(test,output_1[0])**0.5)"
      ],
      "execution_count": null,
      "outputs": [
        {
          "output_type": "stream",
          "text": [
            "RMSE is =  1705.8248611943504\n"
          ],
          "name": "stdout"
        }
      ]
    },
    {
      "cell_type": "code",
      "metadata": {
        "colab": {
          "base_uri": "https://localhost:8080/"
        },
        "id": "rdgWOO0UJ_OC",
        "outputId": "9a49301e-f056-4ad5-ae97-4065dbe5ac28"
      },
      "source": [
        "print('expected=',test)"
      ],
      "execution_count": null,
      "outputs": [
        {
          "output_type": "stream",
          "text": [
            "expected= Date\n",
            "2014-01-01   -2200.0\n",
            "2014-02-01   -1200.0\n",
            "2014-03-01    -200.0\n",
            "2014-04-01     800.0\n",
            "2014-05-01    1800.0\n",
            "2014-06-01    2800.0\n",
            "2014-07-01   -1700.0\n",
            "2014-08-01    -700.0\n",
            "2014-09-01     300.0\n",
            "2014-10-01    1300.0\n",
            "2014-11-01    2300.0\n",
            "2014-12-01    3300.0\n",
            "2015-01-01   -2200.0\n",
            "2015-02-01   -1200.0\n",
            "2015-03-01    -200.0\n",
            "2015-04-01     800.0\n",
            "2015-05-01    1800.0\n",
            "2015-06-01    2800.0\n",
            "2015-07-01   -1700.0\n",
            "2015-08-01    -700.0\n",
            "2015-09-01     300.0\n",
            "2015-10-01    1300.0\n",
            "2015-11-01    2300.0\n",
            "2015-12-01    3300.0\n",
            "2016-01-01   -2200.0\n",
            "2016-02-01   -1200.0\n",
            "2016-03-01    -200.0\n",
            "2016-04-01     800.0\n",
            "2016-05-01    1800.0\n",
            "2016-06-01    2800.0\n",
            "2016-07-01   -1700.0\n",
            "2016-08-01    -700.0\n",
            "2016-09-01     300.0\n",
            "2016-10-01    1300.0\n",
            "2016-11-01    2300.0\n",
            "2016-12-01    3300.0\n",
            "Name: RA_detrend, dtype: float64\n"
          ],
          "name": "stdout"
        }
      ]
    },
    {
      "cell_type": "code",
      "metadata": {
        "colab": {
          "base_uri": "https://localhost:8080/"
        },
        "id": "SXRCbq2xwGtu",
        "outputId": "a4a9325d-e4cf-40a6-ed2f-dcb8f45ad75c"
      },
      "source": [
        "print('predicted=',output)"
      ],
      "execution_count": null,
      "outputs": [
        {
          "output_type": "stream",
          "text": [
            "predicted= 2014-01-01    -725.946488\n",
            "2014-02-01    -845.765062\n",
            "2014-03-01    -531.070119\n",
            "2014-04-01     -26.973021\n",
            "2014-05-01    1145.934084\n",
            "2014-06-01    1725.970466\n",
            "2014-07-01     672.381291\n",
            "2014-08-01     717.958684\n",
            "2014-09-01     636.338566\n",
            "2014-10-01     639.919161\n",
            "2014-11-01     633.596130\n",
            "2014-12-01     633.877369\n",
            "2015-01-01     633.387528\n",
            "2015-02-01     633.409613\n",
            "2015-03-01     633.371666\n",
            "2015-04-01     633.373400\n",
            "2015-05-01     633.370460\n",
            "2015-06-01     633.370596\n",
            "2015-07-01     633.370368\n",
            "2015-08-01     633.370379\n",
            "2015-09-01     633.370361\n",
            "2015-10-01     633.370362\n",
            "2015-11-01     633.370361\n",
            "2015-12-01     633.370361\n",
            "2016-01-01     633.370361\n",
            "2016-02-01     633.370361\n",
            "2016-03-01     633.370361\n",
            "2016-04-01     633.370361\n",
            "2016-05-01     633.370361\n",
            "2016-06-01     633.370361\n",
            "2016-07-01     633.370361\n",
            "2016-08-01     633.370361\n",
            "2016-09-01     633.370361\n",
            "2016-10-01     633.370361\n",
            "2016-11-01     633.370361\n",
            "2016-12-01     633.370361\n",
            "Freq: MS, dtype: float64\n"
          ],
          "name": "stdout"
        }
      ]
    },
    {
      "cell_type": "code",
      "metadata": {
        "colab": {
          "base_uri": "https://localhost:8080/"
        },
        "id": "oDlRhtOPA4aM",
        "outputId": "fc5f7c8a-9347-446c-f2ad-b5e365f24115"
      },
      "source": [
        "len(output_1), len(output_1[0])"
      ],
      "execution_count": null,
      "outputs": [
        {
          "output_type": "execute_result",
          "data": {
            "text/plain": [
              "(3, 36)"
            ]
          },
          "metadata": {
            "tags": []
          },
          "execution_count": 27
        }
      ]
    },
    {
      "cell_type": "code",
      "metadata": {
        "colab": {
          "base_uri": "https://localhost:8080/"
        },
        "id": "fDFx4XoZvu9-",
        "outputId": "6e40b825-8afd-450a-b4ba-96f52b967151"
      },
      "source": [
        "output_1"
      ],
      "execution_count": null,
      "outputs": [
        {
          "output_type": "execute_result",
          "data": {
            "text/plain": [
              "(array([-725.94648837, -845.76506223, -531.0701192 ,  -26.9730212 ,\n",
              "        1145.93408394, 1725.97046638,  672.38129059,  717.95868393,\n",
              "         636.33856564,  639.91916096,  633.59613047,  633.87736912,\n",
              "         633.38752774,  633.40961344,  633.37166554,  633.37339961,\n",
              "         633.37045978,  633.3705959 ,  633.37036815,  633.37037884,\n",
              "         633.37036119,  633.37036203,  633.37036066,  633.37036073,\n",
              "         633.37036062,  633.37036063,  633.37036062,  633.37036062,\n",
              "         633.37036062,  633.37036062,  633.37036062,  633.37036062,\n",
              "         633.37036062,  633.37036062,  633.37036062,  633.37036062]),\n",
              " array([ 870.38667836,  877.81427851,  936.16468479, 1027.3079761 ,\n",
              "        1127.74232302, 1127.8034299 , 1382.36410099, 1382.36416167,\n",
              "        1383.74954214, 1383.74954216, 1383.7578464 , 1383.7578464 ,\n",
              "        1383.7578962 , 1383.7578962 , 1383.7578965 , 1383.7578965 ,\n",
              "        1383.7578965 , 1383.7578965 , 1383.7578965 , 1383.7578965 ,\n",
              "        1383.7578965 , 1383.7578965 , 1383.7578965 , 1383.7578965 ,\n",
              "        1383.7578965 , 1383.7578965 , 1383.7578965 , 1383.7578965 ,\n",
              "        1383.7578965 , 1383.7578965 , 1383.7578965 , 1383.7578965 ,\n",
              "        1383.7578965 , 1383.7578965 , 1383.7578965 , 1383.7578965 ]),\n",
              " array([[-2431.87303058,   979.98005384],\n",
              "        [-2566.24943323,   874.71930876],\n",
              "        [-2365.919185  ,  1303.7789466 ],\n",
              "        [-2040.45965539,  1986.51361299],\n",
              "        [-1064.40025302,  3356.26842091],\n",
              "        [ -484.48363785,  3936.42457062],\n",
              "        [-2037.00256087,  3381.76514205],\n",
              "        [-1991.42528646,  3427.34265432],\n",
              "        [-2075.76070058,  3348.43783186],\n",
              "        [-2072.18010529,  3352.01842721],\n",
              "        [-2078.51941179,  3345.71167273],\n",
              "        [-2078.23817315,  3345.99291139],\n",
              "        [-2078.72811214,  3345.50316762],\n",
              "        [-2078.70602644,  3345.52525332],\n",
              "        [-2078.74397493,  3345.487306  ],\n",
              "        [-2078.74224086,  3345.48904007],\n",
              "        [-2078.74518069,  3345.48610025],\n",
              "        [-2078.74504457,  3345.48623637],\n",
              "        [-2078.74527232,  3345.48600862],\n",
              "        [-2078.74526163,  3345.48601931],\n",
              "        [-2078.74527928,  3345.48600166],\n",
              "        [-2078.74527844,  3345.4860025 ],\n",
              "        [-2078.7452798 ,  3345.48600113],\n",
              "        [-2078.74527974,  3345.4860012 ],\n",
              "        [-2078.74527984,  3345.48600109],\n",
              "        [-2078.74527984,  3345.4860011 ],\n",
              "        [-2078.74527985,  3345.48600109],\n",
              "        [-2078.74527985,  3345.48600109],\n",
              "        [-2078.74527985,  3345.48600109],\n",
              "        [-2078.74527985,  3345.48600109],\n",
              "        [-2078.74527985,  3345.48600109],\n",
              "        [-2078.74527985,  3345.48600109],\n",
              "        [-2078.74527985,  3345.48600109],\n",
              "        [-2078.74527985,  3345.48600109],\n",
              "        [-2078.74527985,  3345.48600109],\n",
              "        [-2078.74527985,  3345.48600109]]))"
            ]
          },
          "metadata": {
            "tags": []
          },
          "execution_count": 80
        }
      ]
    },
    {
      "cell_type": "code",
      "metadata": {
        "colab": {
          "base_uri": "https://localhost:8080/",
          "height": 283
        },
        "id": "JMbPYEGeC2XF",
        "outputId": "fa873f59-0444-4371-8467-2606b896731f"
      },
      "source": [
        "plt.plot(output_1[0])"
      ],
      "execution_count": null,
      "outputs": [
        {
          "output_type": "execute_result",
          "data": {
            "text/plain": [
              "[<matplotlib.lines.Line2D at 0x7efcdf276690>]"
            ]
          },
          "metadata": {
            "tags": []
          },
          "execution_count": 28
        },
        {
          "output_type": "display_data",
          "data": {
            "image/png": "[encoded data removed]",
            "text/plain": [
              "<Figure size 432x288 with 1 Axes>"
            ]
          },
          "metadata": {
            "tags": [],
            "needs_background": "light"
          }
        }
      ]
    },
    {
      "cell_type": "markdown",
      "metadata": {
        "id": "p_8Jd5UagrPn"
      },
      "source": [
        "# Auot ARIMA"
      ]
    },
    {
      "cell_type": "code",
      "metadata": {
        "colab": {
          "base_uri": "https://localhost:8080/"
        },
        "id": "qiOH8VVzgwpJ",
        "outputId": "22af83ab-aea7-430c-ecb8-07a315096ea2"
      },
      "source": [
        "!pip install pmdarima"
      ],
      "execution_count": null,
      "outputs": [
        {
          "output_type": "stream",
          "text": [
            "Collecting pmdarima\n",
            "\u001b[?25l  Downloading https://files.pythonhosted.org/packages/f4/c2/2a94bce6bba1deac3c0b16dbb14f28de0b9035e3211919cae8448455aa65/pmdarima-1.8.2-cp37-cp37m-manylinux1_x86_64.whl (1.5MB)\n",
            "\r\u001b[K     |▎                               | 10kB 13.8MB/s eta 0:00:01\r\u001b[K     |▌                               | 20kB 19.4MB/s eta 0:00:01\r\u001b[K     |▊                               | 30kB 22.8MB/s eta 0:00:01\r\u001b[K     |█                               | 40kB 24.0MB/s eta 0:00:01\r\u001b[K     |█▏                              | 51kB 26.3MB/s eta 0:00:01\r\u001b[K     |█▍                              | 61kB 28.1MB/s eta 0:00:01\r\u001b[K     |█▋                              | 71kB 25.0MB/s eta 0:00:01\r\u001b[K     |█▉                              | 81kB 26.0MB/s eta 0:00:01\r\u001b[K     |██                              | 92kB 26.7MB/s eta 0:00:01\r\u001b[K     |██▎                             | 102kB 27.1MB/s eta 0:00:01\r\u001b[K     |██▌                             | 112kB 27.1MB/s eta 0:00:01\r\u001b[K     |██▊                             | 122kB 27.1MB/s eta 0:00:01\r\u001b[K     |███                             | 133kB 27.1MB/s eta 0:00:01\r\u001b[K     |███▏                            | 143kB 27.1MB/s eta 0:00:01\r\u001b[K     |███▍                            | 153kB 27.1MB/s eta 0:00:01\r\u001b[K     |███▋                            | 163kB 27.1MB/s eta 0:00:01\r\u001b[K     |███▉                            | 174kB 27.1MB/s eta 0:00:01\r\u001b[K     |████                            | 184kB 27.1MB/s eta 0:00:01\r\u001b[K     |████▎                           | 194kB 27.1MB/s eta 0:00:01\r\u001b[K     |████▌                           | 204kB 27.1MB/s eta 0:00:01\r\u001b[K     |████▊                           | 215kB 27.1MB/s eta 0:00:01\r\u001b[K     |█████                           | 225kB 27.1MB/s eta 0:00:01\r\u001b[K     |█████▏                          | 235kB 27.1MB/s eta 0:00:01\r\u001b[K     |█████▍                          | 245kB 27.1MB/s eta 0:00:01\r\u001b[K     |█████▋                          | 256kB 27.1MB/s eta 0:00:01\r\u001b[K     |█████▉                          | 266kB 27.1MB/s eta 0:00:01\r\u001b[K     |██████                          | 276kB 27.1MB/s eta 0:00:01\r\u001b[K     |██████▎                         | 286kB 27.1MB/s eta 0:00:01\r\u001b[K     |██████▌                         | 296kB 27.1MB/s eta 0:00:01\r\u001b[K     |██████▊                         | 307kB 27.1MB/s eta 0:00:01\r\u001b[K     |███████                         | 317kB 27.1MB/s eta 0:00:01\r\u001b[K     |███████▏                        | 327kB 27.1MB/s eta 0:00:01\r\u001b[K     |███████▍                        | 337kB 27.1MB/s eta 0:00:01\r\u001b[K     |███████▋                        | 348kB 27.1MB/s eta 0:00:01\r\u001b[K     |███████▉                        | 358kB 27.1MB/s eta 0:00:01\r\u001b[K     |████████                        | 368kB 27.1MB/s eta 0:00:01\r\u001b[K     |████████▎                       | 378kB 27.1MB/s eta 0:00:01\r\u001b[K     |████████▌                       | 389kB 27.1MB/s eta 0:00:01\r\u001b[K     |████████▊                       | 399kB 27.1MB/s eta 0:00:01\r\u001b[K     |█████████                       | 409kB 27.1MB/s eta 0:00:01\r\u001b[K     |█████████▎                      | 419kB 27.1MB/s eta 0:00:01\r\u001b[K     |█████████▌                      | 430kB 27.1MB/s eta 0:00:01\r\u001b[K     |█████████▊                      | 440kB 27.1MB/s eta 0:00:01\r\u001b[K     |██████████                      | 450kB 27.1MB/s eta 0:00:01\r\u001b[K     |██████████▏                     | 460kB 27.1MB/s eta 0:00:01\r\u001b[K     |██████████▍                     | 471kB 27.1MB/s eta 0:00:01\r\u001b[K     |██████████▋                     | 481kB 27.1MB/s eta 0:00:01\r\u001b[K     |██████████▉                     | 491kB 27.1MB/s eta 0:00:01\r\u001b[K     |███████████                     | 501kB 27.1MB/s eta 0:00:01\r\u001b[K     |███████████▎                    | 512kB 27.1MB/s eta 0:00:01\r\u001b[K     |███████████▌                    | 522kB 27.1MB/s eta 0:00:01\r\u001b[K     |███████████▊                    | 532kB 27.1MB/s eta 0:00:01\r\u001b[K     |████████████                    | 542kB 27.1MB/s eta 0:00:01\r\u001b[K     |████████████▏                   | 552kB 27.1MB/s eta 0:00:01\r\u001b[K     |████████████▍                   | 563kB 27.1MB/s eta 0:00:01\r\u001b[K     |████████████▋                   | 573kB 27.1MB/s eta 0:00:01\r\u001b[K     |████████████▉                   | 583kB 27.1MB/s eta 0:00:01\r\u001b[K     |█████████████                   | 593kB 27.1MB/s eta 0:00:01\r\u001b[K     |█████████████▎                  | 604kB 27.1MB/s eta 0:00:01\r\u001b[K     |█████████████▌                  | 614kB 27.1MB/s eta 0:00:01\r\u001b[K     |█████████████▊                  | 624kB 27.1MB/s eta 0:00:01\r\u001b[K     |██████████████                  | 634kB 27.1MB/s eta 0:00:01\r\u001b[K     |██████████████▏                 | 645kB 27.1MB/s eta 0:00:01\r\u001b[K     |██████████████▍                 | 655kB 27.1MB/s eta 0:00:01\r\u001b[K     |██████████████▋                 | 665kB 27.1MB/s eta 0:00:01\r\u001b[K     |██████████████▉                 | 675kB 27.1MB/s eta 0:00:01\r\u001b[K     |███████████████                 | 686kB 27.1MB/s eta 0:00:01\r\u001b[K     |███████████████▎                | 696kB 27.1MB/s eta 0:00:01\r\u001b[K     |███████████████▌                | 706kB 27.1MB/s eta 0:00:01\r\u001b[K     |███████████████▊                | 716kB 27.1MB/s eta 0:00:01\r\u001b[K     |████████████████                | 727kB 27.1MB/s eta 0:00:01\r\u001b[K     |████████████████▏               | 737kB 27.1MB/s eta 0:00:01\r\u001b[K     |████████████████▍               | 747kB 27.1MB/s eta 0:00:01\r\u001b[K     |████████████████▋               | 757kB 27.1MB/s eta 0:00:01\r\u001b[K     |████████████████▉               | 768kB 27.1MB/s eta 0:00:01\r\u001b[K     |█████████████████               | 778kB 27.1MB/s eta 0:00:01\r\u001b[K     |█████████████████▎              | 788kB 27.1MB/s eta 0:00:01\r\u001b[K     |█████████████████▌              | 798kB 27.1MB/s eta 0:00:01\r\u001b[K     |█████████████████▊              | 808kB 27.1MB/s eta 0:00:01\r\u001b[K     |██████████████████              | 819kB 27.1MB/s eta 0:00:01\r\u001b[K     |██████████████████▎             | 829kB 27.1MB/s eta 0:00:01\r\u001b[K     |██████████████████▌             | 839kB 27.1MB/s eta 0:00:01\r\u001b[K     |██████████████████▊             | 849kB 27.1MB/s eta 0:00:01\r\u001b[K     |███████████████████             | 860kB 27.1MB/s eta 0:00:01\r\u001b[K     |███████████████████▏            | 870kB 27.1MB/s eta 0:00:01\r\u001b[K     |███████████████████▍            | 880kB 27.1MB/s eta 0:00:01\r\u001b[K     |███████████████████▋            | 890kB 27.1MB/s eta 0:00:01\r\u001b[K     |███████████████████▉            | 901kB 27.1MB/s eta 0:00:01\r\u001b[K     |████████████████████            | 911kB 27.1MB/s eta 0:00:01\r\u001b[K     |████████████████████▎           | 921kB 27.1MB/s eta 0:00:01\r\u001b[K     |████████████████████▌           | 931kB 27.1MB/s eta 0:00:01\r\u001b[K     |████████████████████▊           | 942kB 27.1MB/s eta 0:00:01\r\u001b[K     |█████████████████████           | 952kB 27.1MB/s eta 0:00:01\r\u001b[K     |█████████████████████▏          | 962kB 27.1MB/s eta 0:00:01\r\u001b[K     |█████████████████████▍          | 972kB 27.1MB/s eta 0:00:01\r\u001b[K     |█████████████████████▋          | 983kB 27.1MB/s eta 0:00:01\r\u001b[K     |█████████████████████▉          | 993kB 27.1MB/s eta 0:00:01\r\u001b[K     |██████████████████████          | 1.0MB 27.1MB/s eta 0:00:01\r\u001b[K     |██████████████████████▎         | 1.0MB 27.1MB/s eta 0:00:01\r\u001b[K     |██████████████████████▌         | 1.0MB 27.1MB/s eta 0:00:01\r\u001b[K     |██████████████████████▊         | 1.0MB 27.1MB/s eta 0:00:01\r\u001b[K     |███████████████████████         | 1.0MB 27.1MB/s eta 0:00:01\r\u001b[K     |███████████████████████▏        | 1.1MB 27.1MB/s eta 0:00:01\r\u001b[K     |███████████████████████▍        | 1.1MB 27.1MB/s eta 0:00:01\r\u001b[K     |███████████████████████▋        | 1.1MB 27.1MB/s eta 0:00:01\r\u001b[K     |███████████████████████▉        | 1.1MB 27.1MB/s eta 0:00:01\r\u001b[K     |████████████████████████        | 1.1MB 27.1MB/s eta 0:00:01\r\u001b[K     |████████████████████████▎       | 1.1MB 27.1MB/s eta 0:00:01\r\u001b[K     |████████████████████████▌       | 1.1MB 27.1MB/s eta 0:00:01\r\u001b[K     |████████████████████████▊       | 1.1MB 27.1MB/s eta 0:00:01\r\u001b[K     |█████████████████████████       | 1.1MB 27.1MB/s eta 0:00:01\r\u001b[K     |█████████████████████████▏      | 1.1MB 27.1MB/s eta 0:00:01\r\u001b[K     |█████████████████████████▍      | 1.2MB 27.1MB/s eta 0:00:01\r\u001b[K     |█████████████████████████▋      | 1.2MB 27.1MB/s eta 0:00:01\r\u001b[K     |█████████████████████████▉      | 1.2MB 27.1MB/s eta 0:00:01\r\u001b[K     |██████████████████████████      | 1.2MB 27.1MB/s eta 0:00:01\r\u001b[K     |██████████████████████████▎     | 1.2MB 27.1MB/s eta 0:00:01\r\u001b[K     |██████████████████████████▌     | 1.2MB 27.1MB/s eta 0:00:01\r\u001b[K     |██████████████████████████▊     | 1.2MB 27.1MB/s eta 0:00:01\r\u001b[K     |███████████████████████████     | 1.2MB 27.1MB/s eta 0:00:01\r\u001b[K     |███████████████████████████▎    | 1.2MB 27.1MB/s eta 0:00:01\r\u001b[K     |███████████████████████████▌    | 1.2MB 27.1MB/s eta 0:00:01\r\u001b[K     |███████████████████████████▊    | 1.3MB 27.1MB/s eta 0:00:01\r\u001b[K     |████████████████████████████    | 1.3MB 27.1MB/s eta 0:00:01\r\u001b[K     |████████████████████████████▏   | 1.3MB 27.1MB/s eta 0:00:01\r\u001b[K     |████████████████████████████▍   | 1.3MB 27.1MB/s eta 0:00:01\r\u001b[K     |████████████████████████████▋   | 1.3MB 27.1MB/s eta 0:00:01\r\u001b[K     |████████████████████████████▉   | 1.3MB 27.1MB/s eta 0:00:01\r\u001b[K     |█████████████████████████████   | 1.3MB 27.1MB/s eta 0:00:01\r\u001b[K     |█████████████████████████████▎  | 1.3MB 27.1MB/s eta 0:00:01\r\u001b[K     |█████████████████████████████▌  | 1.3MB 27.1MB/s eta 0:00:01\r\u001b[K     |█████████████████████████████▊  | 1.4MB 27.1MB/s eta 0:00:01\r\u001b[K     |██████████████████████████████  | 1.4MB 27.1MB/s eta 0:00:01\r\u001b[K     |██████████████████████████████▏ | 1.4MB 27.1MB/s eta 0:00:01\r\u001b[K     |██████████████████████████████▍ | 1.4MB 27.1MB/s eta 0:00:01\r\u001b[K     |██████████████████████████████▋ | 1.4MB 27.1MB/s eta 0:00:01\r\u001b[K     |██████████████████████████████▉ | 1.4MB 27.1MB/s eta 0:00:01\r\u001b[K     |███████████████████████████████ | 1.4MB 27.1MB/s eta 0:00:01\r\u001b[K     |███████████████████████████████▎| 1.4MB 27.1MB/s eta 0:00:01\r\u001b[K     |███████████████████████████████▌| 1.4MB 27.1MB/s eta 0:00:01\r\u001b[K     |███████████████████████████████▊| 1.4MB 27.1MB/s eta 0:00:01\r\u001b[K     |████████████████████████████████| 1.5MB 27.1MB/s eta 0:00:01\r\u001b[K     |████████████████████████████████| 1.5MB 27.1MB/s \n",
            "\u001b[?25hRequirement already satisfied: scipy>=1.3.2 in /usr/local/lib/python3.7/dist-packages (from pmdarima) (1.4.1)\n",
            "Requirement already satisfied: numpy~=1.19.0 in /usr/local/lib/python3.7/dist-packages (from pmdarima) (1.19.5)\n",
            "Collecting statsmodels!=0.12.0,>=0.11\n",
            "\u001b[?25l  Downloading https://files.pythonhosted.org/packages/da/69/8eef30a6237c54f3c0b524140e2975f4b1eea3489b45eb3339574fc8acee/statsmodels-0.12.2-cp37-cp37m-manylinux1_x86_64.whl (9.5MB)\n",
            "\u001b[K     |████████████████████████████████| 9.5MB 39.9MB/s \n",
            "\u001b[?25hRequirement already satisfied: setuptools!=50.0.0,>=38.6.0 in /usr/local/lib/python3.7/dist-packages (from pmdarima) (57.0.0)\n",
            "Requirement already satisfied: scikit-learn>=0.22 in /usr/local/lib/python3.7/dist-packages (from pmdarima) (0.22.2.post1)\n",
            "Requirement already satisfied: pandas>=0.19 in /usr/local/lib/python3.7/dist-packages (from pmdarima) (1.1.5)\n",
            "Requirement already satisfied: urllib3 in /usr/local/lib/python3.7/dist-packages (from pmdarima) (1.24.3)\n",
            "Requirement already satisfied: Cython!=0.29.18,>=0.29 in /usr/local/lib/python3.7/dist-packages (from pmdarima) (0.29.23)\n",
            "Requirement already satisfied: joblib>=0.11 in /usr/local/lib/python3.7/dist-packages (from pmdarima) (1.0.1)\n",
            "Requirement already satisfied: patsy>=0.5 in /usr/local/lib/python3.7/dist-packages (from statsmodels!=0.12.0,>=0.11->pmdarima) (0.5.1)\n",
            "Requirement already satisfied: pytz>=2017.2 in /usr/local/lib/python3.7/dist-packages (from pandas>=0.19->pmdarima) (2018.9)\n",
            "Requirement already satisfied: python-dateutil>=2.7.3 in /usr/local/lib/python3.7/dist-packages (from pandas>=0.19->pmdarima) (2.8.1)\n",
            "Requirement already satisfied: six in /usr/local/lib/python3.7/dist-packages (from patsy>=0.5->statsmodels!=0.12.0,>=0.11->pmdarima) (1.15.0)\n",
            "Installing collected packages: statsmodels, pmdarima\n",
            "  Found existing installation: statsmodels 0.10.2\n",
            "    Uninstalling statsmodels-0.10.2:\n",
            "      Successfully uninstalled statsmodels-0.10.2\n",
            "Successfully installed pmdarima-1.8.2 statsmodels-0.12.2\n"
          ],
          "name": "stdout"
        }
      ]
    },
    {
      "cell_type": "markdown",
      "metadata": {
        "id": "VynZFxZX8se4"
      },
      "source": [
        "## Sample Example of Auto ARIMA"
      ]
    },
    {
      "cell_type": "code",
      "metadata": {
        "id": "K0-7r-4m9eMO"
      },
      "source": [
        "import pmdarima as pm\n",
        "from pmdarima.model_selection import train_test_split\n",
        "import numpy as np\n",
        "import matplotlib.pyplot as plt"
      ],
      "execution_count": null,
      "outputs": []
    },
    {
      "cell_type": "markdown",
      "metadata": {
        "id": "ACtxZMaHkPKx"
      },
      "source": [
        "# Apply AUTO ARIMA to Sales Data"
      ]
    },
    {
      "cell_type": "code",
      "metadata": {
        "id": "4V30BmSFiK_V"
      },
      "source": [
        "y = df.Sales.values\n",
        "# y = df.RA_detrend.values[1:]"
      ],
      "execution_count": null,
      "outputs": []
    },
    {
      "cell_type": "code",
      "metadata": {
        "id": "2h2CpBB69C3Q"
      },
      "source": [
        "import pmdarima as pm\n",
        "from pmdarima.model_selection import train_test_split\n",
        "import numpy as np\n",
        "import matplotlib.pyplot as plt"
      ],
      "execution_count": null,
      "outputs": []
    },
    {
      "cell_type": "code",
      "metadata": {
        "colab": {
          "base_uri": "https://localhost:8080/",
          "height": 560
        },
        "id": "ZABesbvWj7QZ",
        "outputId": "92565d45-4821-44ce-e413-6dfc99376e11"
      },
      "source": [
        "train, test = train_test_split(y, train_size=83)\n",
        "\n",
        "# Fit your model\n",
        "model = pm.auto_arima(train, start_p=4,start_q=4,seasonal=True, trace = True) #seasonal =False\n",
        "\n",
        "# make your forecasts\n",
        "forecasts = model.predict(test.shape[0])  # predict N steps into the future\n",
        "\n",
        "# Visualize the forecasts (blue=train, green=forecasts)\n",
        "\n",
        "x = np.arange(y.shape[0])\n",
        "plt.plot(x[:83], train, c='blue')\n",
        "plt.plot(x[83:], forecasts, c='green')\n",
        "plt.show()"
      ],
      "execution_count": null,
      "outputs": [
        {
          "output_type": "stream",
          "text": [
            "Performing stepwise search to minimize aic\n",
            " ARIMA(4,1,4)(0,0,0)[0] intercept   : AIC=1434.795, Time=4.93 sec\n",
            " ARIMA(0,1,0)(0,0,0)[0] intercept   : AIC=1497.871, Time=0.09 sec\n",
            " ARIMA(1,1,0)(0,0,0)[0] intercept   : AIC=1497.256, Time=0.23 sec\n",
            " ARIMA(0,1,1)(0,0,0)[0] intercept   : AIC=inf, Time=0.74 sec\n",
            " ARIMA(0,1,0)(0,0,0)[0]             : AIC=1496.287, Time=0.08 sec\n",
            " ARIMA(3,1,4)(0,0,0)[0] intercept   : AIC=1453.496, Time=3.19 sec\n",
            " ARIMA(4,1,3)(0,0,0)[0] intercept   : AIC=1430.503, Time=2.64 sec\n",
            " ARIMA(3,1,3)(0,0,0)[0] intercept   : AIC=1454.459, Time=2.70 sec\n",
            " ARIMA(4,1,2)(0,0,0)[0] intercept   : AIC=inf, Time=3.36 sec\n",
            " ARIMA(5,1,3)(0,0,0)[0] intercept   : AIC=1301.187, Time=2.78 sec\n",
            " ARIMA(5,1,2)(0,0,0)[0] intercept   : AIC=1312.285, Time=3.44 sec\n",
            " ARIMA(5,1,4)(0,0,0)[0] intercept   : AIC=inf, Time=5.04 sec\n",
            " ARIMA(5,1,3)(0,0,0)[0]             : AIC=1324.503, Time=1.65 sec\n",
            "\n",
            "Best model:  ARIMA(5,1,3)(0,0,0)[0] intercept\n",
            "Total fit time: 31.004 seconds\n"
          ],
          "name": "stdout"
        },
        {
          "output_type": "display_data",
          "data": {
            "image/png": "[encoded data removed]",
            "text/plain": [
              "<Figure size 432x288 with 1 Axes>"
            ]
          },
          "metadata": {
            "tags": [],
            "needs_background": "light"
          }
        }
      ]
    },
    {
      "cell_type": "code",
      "metadata": {
        "id": "_GW3z4PEkVst"
      },
      "source": [
        ""
      ],
      "execution_count": null,
      "outputs": []
    },
    {
      "cell_type": "markdown",
      "metadata": {
        "id": "7fUU381nMI9e"
      },
      "source": [
        "### Sequential Split for Time series Forecasting"
      ]
    },
    {
      "cell_type": "code",
      "metadata": {
        "id": "18Wn-GTwLk4W"
      },
      "source": [
        "size = int(len(X) * 0.66)\n",
        "train, test = X[0:size], X[size:len(X)]\n",
        "history = [x for x in train]"
      ],
      "execution_count": null,
      "outputs": []
    },
    {
      "cell_type": "code",
      "metadata": {
        "colab": {
          "base_uri": "https://localhost:8080/"
        },
        "id": "H8w8P6MfLk4X",
        "outputId": "482f4223-7d4c-4f94-f709-c3c31b4d225c"
      },
      "source": [
        "predictions = list()\n",
        "for t in range(len(test)):\n",
        "\tmodel = ARIMA(history, order=(2,1,0))#5,1,0 #5,1,1, 4,1,0, 2,1,0\n",
        "\tmodel_fit = model.fit(disp=0)\n",
        "\toutput = model_fit.forecast()\n",
        "\tyhat = output[0]\n",
        "\tpredictions.append(yhat)\n",
        "\tobs = test[t]\n",
        "\thistory.append(obs)\n",
        "\tprint('predicted=%f, expected=%f' % (yhat, obs))"
      ],
      "execution_count": null,
      "outputs": [
        {
          "output_type": "stream",
          "text": [
            "predicted=207.311437, expected=171.660000\n",
            "predicted=170.531283, expected=165.000000\n",
            "predicted=166.928452, expected=173.490000\n",
            "predicted=174.312190, expected=171.760000\n",
            "predicted=170.975496, expected=180.950000\n",
            "predicted=181.388608, expected=184.460000\n",
            "predicted=183.900448, expected=180.290000\n",
            "predicted=179.825158, expected=182.660000\n",
            "predicted=183.026951, expected=176.730000\n",
            "predicted=176.291360, expected=171.510000\n",
            "predicted=171.685876, expected=174.240000\n",
            "predicted=174.683504, expected=174.940000\n",
            "predicted=174.716111, expected=179.730000\n",
            "predicted=179.825016, expected=178.370000\n",
            "predicted=177.924363, expected=190.000000\n",
            "predicted=190.506600, expected=190.500000\n",
            "predicted=189.687626, expected=188.390000\n",
            "predicted=188.253506, expected=193.900000\n",
            "predicted=194.236358, expected=191.630000\n",
            "predicted=191.145974, expected=199.000000\n",
            "predicted=199.401834, expected=205.550000\n",
            "predicted=205.297295, expected=209.980000\n",
            "predicted=209.734456, expected=205.970000\n",
            "predicted=205.526468, expected=201.920000\n",
            "predicted=202.040156, expected=204.300000\n",
            "predicted=204.678179, expected=209.550000\n",
            "predicted=209.602638, expected=219.050000\n",
            "predicted=219.118390, expected=216.880000\n",
            "predicted=216.154558, expected=211.150000\n",
            "predicted=211.087944, expected=219.190000\n",
            "predicted=219.958299, expected=215.900000\n",
            "predicted=215.223255, expected=217.710000\n",
            "predicted=218.039606, expected=222.600000\n",
            "predicted=222.687498, expected=215.830000\n",
            "predicted=215.265216, expected=219.790000\n",
            "predicted=220.436915, expected=218.060000\n",
            "predicted=217.755695, expected=217.860000\n",
            "predicted=218.005235, expected=222.300000\n",
            "predicted=222.494620, expected=218.930000\n",
            "predicted=218.542333, expected=221.160000\n",
            "predicted=221.500000, expected=220.420000\n",
            "predicted=220.275923, expected=214.520000\n",
            "predicted=214.414496, expected=225.460000\n",
            "predicted=226.215513, expected=223.640000\n",
            "predicted=222.867864, expected=222.210000\n",
            "predicted=222.339588, expected=227.960000\n",
            "predicted=228.251120, expected=230.780000\n",
            "predicted=230.494099, expected=230.050000\n",
            "predicted=229.880626, expected=227.250000\n",
            "predicted=227.276643, expected=227.950000\n",
            "predicted=228.216441, expected=224.790000\n",
            "predicted=224.701315, expected=223.820000\n",
            "predicted=224.060605, expected=221.000000\n",
            "predicted=221.030908, expected=219.750000\n",
            "predicted=219.949620, expected=216.820000\n",
            "predicted=216.858488, expected=220.780000\n",
            "predicted=221.121678, expected=220.240000\n",
            "predicted=219.980964, expected=218.500000\n",
            "predicted=218.524275, expected=217.790000\n",
            "predicted=217.923836, expected=222.150000\n",
            "predicted=222.346825, expected=225.750000\n",
            "predicted=225.575563, expected=223.520000\n",
            "predicted=223.242758, expected=224.940000\n",
            "predicted=225.176386, expected=218.010000\n",
            "predicted=217.766876, expected=220.950000\n",
            "predicted=221.539413, expected=221.850000\n",
            "predicted=221.700028, expected=226.230000\n",
            "predicted=226.314421, expected=228.990000\n",
            "predicted=228.800936, expected=228.410000\n",
            "predicted=228.250340, expected=226.510000\n",
            "predicted=226.547015, expected=223.250000\n",
            "predicted=223.338811, expected=220.150000\n",
            "predicted=220.329172, expected=219.010000\n",
            "predicted=219.224986, expected=217.150000\n",
            "predicted=217.207253, expected=216.600000\n",
            "predicted=216.739493, expected=214.650000\n",
            "predicted=214.659742, expected=214.100000\n",
            "predicted=214.240864, expected=216.800000\n",
            "predicted=216.934197, expected=218.100000\n",
            "predicted=217.976844, expected=213.440000\n",
            "predicted=213.250036, expected=211.750000\n",
            "predicted=212.047635, expected=209.220000\n",
            "predicted=209.282781, expected=210.155000\n",
            "predicted=210.369063, expected=207.700000\n",
            "predicted=207.582676, expected=207.360000\n",
            "predicted=207.529689, expected=207.280000\n"
          ],
          "name": "stdout"
        }
      ]
    },
    {
      "cell_type": "markdown",
      "metadata": {
        "id": "FJX6i3x5NfzB"
      },
      "source": [
        "## NOTE of CAUTION ::\n",
        "\n",
        "Trying out different values of p,d,q may sometime give value errors / non stationarity errors / overflow warnings , etc.\n",
        "\n",
        "In that case use different the p,d,q values \n",
        "\n",
        "### Sample Value Error message ::\n",
        "\n",
        "\n",
        "ValueError: The computed initial AR coefficients are not stationary\n",
        "You should induce stationarity, choose a different model order, or you can\n",
        "pass your own start_params."
      ]
    },
    {
      "cell_type": "markdown",
      "metadata": {
        "id": "fxUIZWcsOafQ"
      },
      "source": [
        "# Hints For checking p,d,q values\n",
        "\n",
        "- If TS is stationary d=0\n",
        "\n",
        "- If TS is non-stationary d=1 (99%)\n",
        "\n",
        "- Atleast find 2 p,d,q combinations and compare their RMSE\n",
        "\n",
        "- Try out AUTO ARIMA"
      ]
    },
    {
      "cell_type": "code",
      "metadata": {
        "colab": {
          "base_uri": "https://localhost:8080/"
        },
        "id": "mFfAHvv3Lk4Y",
        "outputId": "05181c9d-e0a5-4e30-9b25-d8ee8902faff"
      },
      "source": [
        "error = mean_squared_error(test, predictions)\n",
        "print('Test MSE: %.3f' % error)"
      ],
      "execution_count": null,
      "outputs": [
        {
          "output_type": "stream",
          "text": [
            "Test MSE: 31.973\n"
          ],
          "name": "stdout"
        }
      ]
    },
    {
      "cell_type": "code",
      "metadata": {
        "colab": {
          "base_uri": "https://localhost:8080/",
          "height": 283
        },
        "id": "LVz2L3DCLk4a",
        "outputId": "4c57ed39-9ba4-4050-9608-11e3ab5f5010"
      },
      "source": [
        "# plot\n",
        "pyplot.plot(test.values)\n",
        "pyplot.plot(predictions, color='red')\n",
        "# pyplot.show()"
      ],
      "execution_count": null,
      "outputs": [
        {
          "output_type": "execute_result",
          "data": {
            "text/plain": [
              "[<matplotlib.lines.Line2D at 0x7fad91857b90>]"
            ]
          },
          "metadata": {
            "tags": []
          },
          "execution_count": 21
        },
        {
          "output_type": "display_data",
          "data": {
            "image/png": "[encoded data removed]",
            "text/plain": [
              "<Figure size 432x288 with 1 Axes>"
            ]
          },
          "metadata": {
            "tags": [],
            "needs_background": "light"
          }
        }
      ]
    }
  ]
}