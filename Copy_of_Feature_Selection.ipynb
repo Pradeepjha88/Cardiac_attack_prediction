{
  "nbformat": 4,
  "nbformat_minor": 0,
  "metadata": {
    "colab": {
      "name": "Copy of Feature_Selection.ipynb",
      "provenance": [],
      "collapsed_sections": [],
      "include_colab_link": true
    },
    "kernelspec": {
      "display_name": "Python 3",
      "language": "python",
      "name": "python3"
    },
    "language_info": {
      "codemirror_mode": {
        "name": "ipython",
        "version": 3
      },
      "file_extension": ".py",
      "mimetype": "text/x-python",
      "name": "python",
      "nbconvert_exporter": "python",
      "pygments_lexer": "ipython3",
      "version": "3.7.6"
    }
  },
  "cells": [
    {
      "cell_type": "markdown",
      "metadata": {
        "id": "view-in-github",
        "colab_type": "text"
      },
      "source": [
        "<a href=\"https://colab.research.google.com/github/Pradeepjha88/Cardiac_attack_prediction/blob/master/Copy_of_Feature_Selection.ipynb\" target=\"_parent\"><img src=\"https://colab.research.google.com/assets/colab-badge.svg\" alt=\"Open In Colab\"/></a>"
      ]
    },
    {
      "cell_type": "code",
      "metadata": {
        "colab": {
          "base_uri": "https://localhost:8080/",
          "height": 226
        },
        "id": "nZG5-1K8ayBt",
        "outputId": "06c0d9fb-8f81-442f-91ed-cd4e75454725"
      },
      "source": [
        "import pandas as pd\n",
        "df = pd.read_csv(\"cleaned_76hd.csv\")\n",
        "df.head()"
      ],
      "execution_count": null,
      "outputs": [
        {
          "output_type": "execute_result",
          "data": {
            "text/html": [
              "<div>\n",
              "<style scoped>\n",
              "    .dataframe tbody tr th:only-of-type {\n",
              "        vertical-align: middle;\n",
              "    }\n",
              "\n",
              "    .dataframe tbody tr th {\n",
              "        vertical-align: top;\n",
              "    }\n",
              "\n",
              "    .dataframe thead th {\n",
              "        text-align: right;\n",
              "    }\n",
              "</style>\n",
              "<table border=\"1\" class=\"dataframe\">\n",
              "  <thead>\n",
              "    <tr style=\"text-align: right;\">\n",
              "      <th></th>\n",
              "      <th>V1</th>\n",
              "      <th>V3</th>\n",
              "      <th>V4</th>\n",
              "      <th>V9</th>\n",
              "      <th>V10</th>\n",
              "      <th>V11</th>\n",
              "      <th>V12</th>\n",
              "      <th>V14</th>\n",
              "      <th>V15</th>\n",
              "      <th>V16</th>\n",
              "      <th>V18</th>\n",
              "      <th>V19</th>\n",
              "      <th>V20</th>\n",
              "      <th>V21</th>\n",
              "      <th>V22</th>\n",
              "      <th>V23</th>\n",
              "      <th>V24</th>\n",
              "      <th>V25</th>\n",
              "      <th>V26</th>\n",
              "      <th>V27</th>\n",
              "      <th>V28</th>\n",
              "      <th>V29</th>\n",
              "      <th>V30</th>\n",
              "      <th>V31</th>\n",
              "      <th>V32</th>\n",
              "      <th>V33</th>\n",
              "      <th>V34</th>\n",
              "      <th>V35</th>\n",
              "      <th>V37</th>\n",
              "      <th>V38</th>\n",
              "      <th>V39</th>\n",
              "      <th>V40</th>\n",
              "      <th>V41</th>\n",
              "      <th>V43</th>\n",
              "      <th>V44</th>\n",
              "      <th>V51</th>\n",
              "      <th>V55</th>\n",
              "      <th>V56</th>\n",
              "      <th>V57</th>\n",
              "      <th>V58</th>\n",
              "    </tr>\n",
              "  </thead>\n",
              "  <tbody>\n",
              "    <tr>\n",
              "      <th>0</th>\n",
              "      <td>0.000000</td>\n",
              "      <td>0.708333</td>\n",
              "      <td>1.0</td>\n",
              "      <td>0.000000</td>\n",
              "      <td>0.723618</td>\n",
              "      <td>0.003953</td>\n",
              "      <td>0.244292</td>\n",
              "      <td>0.505051</td>\n",
              "      <td>0.370370</td>\n",
              "      <td>1.0</td>\n",
              "      <td>1.0</td>\n",
              "      <td>0.181818</td>\n",
              "      <td>0.045455</td>\n",
              "      <td>0.024691</td>\n",
              "      <td>0.964286</td>\n",
              "      <td>0.0</td>\n",
              "      <td>0.0</td>\n",
              "      <td>0.0</td>\n",
              "      <td>0.0</td>\n",
              "      <td>0.0</td>\n",
              "      <td>0.0</td>\n",
              "      <td>0.659091</td>\n",
              "      <td>0.400000</td>\n",
              "      <td>0.058140</td>\n",
              "      <td>0.603053</td>\n",
              "      <td>0.133333</td>\n",
              "      <td>0.716216</td>\n",
              "      <td>0.615385</td>\n",
              "      <td>0.772727</td>\n",
              "      <td>0.0</td>\n",
              "      <td>0.0</td>\n",
              "      <td>0.370968</td>\n",
              "      <td>1.0</td>\n",
              "      <td>0.637037</td>\n",
              "      <td>0.000000</td>\n",
              "      <td>0.75</td>\n",
              "      <td>0.035714</td>\n",
              "      <td>0.185185</td>\n",
              "      <td>0.964286</td>\n",
              "      <td>0.0</td>\n",
              "    </tr>\n",
              "    <tr>\n",
              "      <th>1</th>\n",
              "      <td>0.003367</td>\n",
              "      <td>0.791667</td>\n",
              "      <td>1.0</td>\n",
              "      <td>0.023256</td>\n",
              "      <td>0.798995</td>\n",
              "      <td>0.003953</td>\n",
              "      <td>0.365297</td>\n",
              "      <td>0.404040</td>\n",
              "      <td>0.740741</td>\n",
              "      <td>0.0</td>\n",
              "      <td>1.0</td>\n",
              "      <td>0.181818</td>\n",
              "      <td>0.090909</td>\n",
              "      <td>0.049383</td>\n",
              "      <td>0.964286</td>\n",
              "      <td>0.0</td>\n",
              "      <td>1.0</td>\n",
              "      <td>0.0</td>\n",
              "      <td>0.0</td>\n",
              "      <td>0.0</td>\n",
              "      <td>0.0</td>\n",
              "      <td>0.583333</td>\n",
              "      <td>0.400000</td>\n",
              "      <td>0.058140</td>\n",
              "      <td>0.282443</td>\n",
              "      <td>0.160000</td>\n",
              "      <td>0.513514</td>\n",
              "      <td>0.615385</td>\n",
              "      <td>0.818182</td>\n",
              "      <td>1.0</td>\n",
              "      <td>0.0</td>\n",
              "      <td>0.241935</td>\n",
              "      <td>0.5</td>\n",
              "      <td>0.685185</td>\n",
              "      <td>1.000000</td>\n",
              "      <td>0.00</td>\n",
              "      <td>0.035714</td>\n",
              "      <td>0.049383</td>\n",
              "      <td>0.964286</td>\n",
              "      <td>1.0</td>\n",
              "    </tr>\n",
              "    <tr>\n",
              "      <th>2</th>\n",
              "      <td>0.006734</td>\n",
              "      <td>0.791667</td>\n",
              "      <td>1.0</td>\n",
              "      <td>0.023256</td>\n",
              "      <td>0.597990</td>\n",
              "      <td>0.003953</td>\n",
              "      <td>0.235160</td>\n",
              "      <td>0.202020</td>\n",
              "      <td>0.648148</td>\n",
              "      <td>0.0</td>\n",
              "      <td>1.0</td>\n",
              "      <td>0.181818</td>\n",
              "      <td>0.045455</td>\n",
              "      <td>0.222222</td>\n",
              "      <td>0.964286</td>\n",
              "      <td>0.0</td>\n",
              "      <td>1.0</td>\n",
              "      <td>0.0</td>\n",
              "      <td>0.0</td>\n",
              "      <td>0.0</td>\n",
              "      <td>0.0</td>\n",
              "      <td>0.507576</td>\n",
              "      <td>0.400000</td>\n",
              "      <td>0.040698</td>\n",
              "      <td>0.442748</td>\n",
              "      <td>0.253333</td>\n",
              "      <td>0.378378</td>\n",
              "      <td>0.519231</td>\n",
              "      <td>0.727273</td>\n",
              "      <td>1.0</td>\n",
              "      <td>0.0</td>\n",
              "      <td>0.419355</td>\n",
              "      <td>0.5</td>\n",
              "      <td>0.555556</td>\n",
              "      <td>0.666667</td>\n",
              "      <td>1.00</td>\n",
              "      <td>0.035714</td>\n",
              "      <td>0.234568</td>\n",
              "      <td>0.964286</td>\n",
              "      <td>1.0</td>\n",
              "    </tr>\n",
              "    <tr>\n",
              "      <th>3</th>\n",
              "      <td>0.010101</td>\n",
              "      <td>0.166667</td>\n",
              "      <td>1.0</td>\n",
              "      <td>0.015504</td>\n",
              "      <td>0.648241</td>\n",
              "      <td>0.000000</td>\n",
              "      <td>0.283105</td>\n",
              "      <td>0.000000</td>\n",
              "      <td>0.000000</td>\n",
              "      <td>0.0</td>\n",
              "      <td>1.0</td>\n",
              "      <td>0.000000</td>\n",
              "      <td>0.045455</td>\n",
              "      <td>0.148148</td>\n",
              "      <td>0.964286</td>\n",
              "      <td>0.0</td>\n",
              "      <td>1.0</td>\n",
              "      <td>0.0</td>\n",
              "      <td>0.0</td>\n",
              "      <td>0.0</td>\n",
              "      <td>0.0</td>\n",
              "      <td>0.848485</td>\n",
              "      <td>0.866667</td>\n",
              "      <td>0.081395</td>\n",
              "      <td>0.885496</td>\n",
              "      <td>0.293333</td>\n",
              "      <td>0.750000</td>\n",
              "      <td>0.403846</td>\n",
              "      <td>0.709091</td>\n",
              "      <td>0.0</td>\n",
              "      <td>0.0</td>\n",
              "      <td>0.564516</td>\n",
              "      <td>1.0</td>\n",
              "      <td>0.618519</td>\n",
              "      <td>0.000000</td>\n",
              "      <td>0.00</td>\n",
              "      <td>0.035714</td>\n",
              "      <td>0.037037</td>\n",
              "      <td>0.964286</td>\n",
              "      <td>0.0</td>\n",
              "    </tr>\n",
              "    <tr>\n",
              "      <th>4</th>\n",
              "      <td>0.016835</td>\n",
              "      <td>0.250000</td>\n",
              "      <td>0.0</td>\n",
              "      <td>0.007752</td>\n",
              "      <td>0.648241</td>\n",
              "      <td>0.003953</td>\n",
              "      <td>0.178082</td>\n",
              "      <td>0.000000</td>\n",
              "      <td>0.000000</td>\n",
              "      <td>0.0</td>\n",
              "      <td>1.0</td>\n",
              "      <td>0.181818</td>\n",
              "      <td>0.045455</td>\n",
              "      <td>0.074074</td>\n",
              "      <td>0.964286</td>\n",
              "      <td>0.0</td>\n",
              "      <td>0.0</td>\n",
              "      <td>0.0</td>\n",
              "      <td>0.0</td>\n",
              "      <td>0.0</td>\n",
              "      <td>0.0</td>\n",
              "      <td>0.393939</td>\n",
              "      <td>0.000000</td>\n",
              "      <td>0.034884</td>\n",
              "      <td>0.770992</td>\n",
              "      <td>0.206667</td>\n",
              "      <td>0.513514</td>\n",
              "      <td>0.461538</td>\n",
              "      <td>0.781818</td>\n",
              "      <td>0.0</td>\n",
              "      <td>0.0</td>\n",
              "      <td>0.225806</td>\n",
              "      <td>0.0</td>\n",
              "      <td>0.148148</td>\n",
              "      <td>0.000000</td>\n",
              "      <td>0.00</td>\n",
              "      <td>0.035714</td>\n",
              "      <td>0.209877</td>\n",
              "      <td>0.964286</td>\n",
              "      <td>0.0</td>\n",
              "    </tr>\n",
              "  </tbody>\n",
              "</table>\n",
              "</div>"
            ],
            "text/plain": [
              "         V1        V3   V4        V9  ...       V55       V56       V57  V58\n",
              "0  0.000000  0.708333  1.0  0.000000  ...  0.035714  0.185185  0.964286  0.0\n",
              "1  0.003367  0.791667  1.0  0.023256  ...  0.035714  0.049383  0.964286  1.0\n",
              "2  0.006734  0.791667  1.0  0.023256  ...  0.035714  0.234568  0.964286  1.0\n",
              "3  0.010101  0.166667  1.0  0.015504  ...  0.035714  0.037037  0.964286  0.0\n",
              "4  0.016835  0.250000  0.0  0.007752  ...  0.035714  0.209877  0.964286  0.0\n",
              "\n",
              "[5 rows x 40 columns]"
            ]
          },
          "metadata": {
            "tags": []
          },
          "execution_count": 1
        }
      ]
    },
    {
      "cell_type": "code",
      "metadata": {
        "id": "bJUJL79AayB3",
        "scrolled": true,
        "colab": {
          "base_uri": "https://localhost:8080/",
          "height": 226
        },
        "outputId": "b81e7bf5-2d1a-410b-f22c-8de8a78b6821"
      },
      "source": [
        "# Find the correlation between every pair of columns\n",
        "# Correlation: \n",
        "# +1 to -1\n",
        "# +1 highest positive correlation\n",
        "# -1 highest negative correlation\n",
        "# 0 there is no correlation or two variables are independent of each other\n",
        "df.corr().head() "
      ],
      "execution_count": null,
      "outputs": [
        {
          "output_type": "execute_result",
          "data": {
            "text/html": [
              "<div>\n",
              "<style scoped>\n",
              "    .dataframe tbody tr th:only-of-type {\n",
              "        vertical-align: middle;\n",
              "    }\n",
              "\n",
              "    .dataframe tbody tr th {\n",
              "        vertical-align: top;\n",
              "    }\n",
              "\n",
              "    .dataframe thead th {\n",
              "        text-align: right;\n",
              "    }\n",
              "</style>\n",
              "<table border=\"1\" class=\"dataframe\">\n",
              "  <thead>\n",
              "    <tr style=\"text-align: right;\">\n",
              "      <th></th>\n",
              "      <th>V1</th>\n",
              "      <th>V3</th>\n",
              "      <th>V4</th>\n",
              "      <th>V9</th>\n",
              "      <th>V10</th>\n",
              "      <th>V11</th>\n",
              "      <th>V12</th>\n",
              "      <th>V14</th>\n",
              "      <th>V15</th>\n",
              "      <th>V16</th>\n",
              "      <th>V18</th>\n",
              "      <th>V19</th>\n",
              "      <th>V20</th>\n",
              "      <th>V21</th>\n",
              "      <th>V22</th>\n",
              "      <th>V23</th>\n",
              "      <th>V24</th>\n",
              "      <th>V25</th>\n",
              "      <th>V26</th>\n",
              "      <th>V27</th>\n",
              "      <th>V28</th>\n",
              "      <th>V29</th>\n",
              "      <th>V30</th>\n",
              "      <th>V31</th>\n",
              "      <th>V32</th>\n",
              "      <th>V33</th>\n",
              "      <th>V34</th>\n",
              "      <th>V35</th>\n",
              "      <th>V37</th>\n",
              "      <th>V38</th>\n",
              "      <th>V39</th>\n",
              "      <th>V40</th>\n",
              "      <th>V41</th>\n",
              "      <th>V43</th>\n",
              "      <th>V44</th>\n",
              "      <th>V51</th>\n",
              "      <th>V55</th>\n",
              "      <th>V56</th>\n",
              "      <th>V57</th>\n",
              "      <th>V58</th>\n",
              "    </tr>\n",
              "  </thead>\n",
              "  <tbody>\n",
              "    <tr>\n",
              "      <th>V1</th>\n",
              "      <td>1.000000</td>\n",
              "      <td>-0.008107</td>\n",
              "      <td>-0.091995</td>\n",
              "      <td>-0.078076</td>\n",
              "      <td>0.014990</td>\n",
              "      <td>-0.080611</td>\n",
              "      <td>-0.017334</td>\n",
              "      <td>-0.165844</td>\n",
              "      <td>-0.123840</td>\n",
              "      <td>-0.041998</td>\n",
              "      <td>0.035855</td>\n",
              "      <td>-0.153098</td>\n",
              "      <td>0.039704</td>\n",
              "      <td>-0.049586</td>\n",
              "      <td>0.182372</td>\n",
              "      <td>-0.004792</td>\n",
              "      <td>-0.073313</td>\n",
              "      <td>0.031607</td>\n",
              "      <td>0.227200</td>\n",
              "      <td>-0.010278</td>\n",
              "      <td>-0.079700</td>\n",
              "      <td>-0.048944</td>\n",
              "      <td>-0.112105</td>\n",
              "      <td>-0.107179</td>\n",
              "      <td>-0.078175</td>\n",
              "      <td>-0.053959</td>\n",
              "      <td>-0.047629</td>\n",
              "      <td>-0.174304</td>\n",
              "      <td>-0.072421</td>\n",
              "      <td>0.007664</td>\n",
              "      <td>-0.030824</td>\n",
              "      <td>-0.169844</td>\n",
              "      <td>-0.064889</td>\n",
              "      <td>-0.014391</td>\n",
              "      <td>0.049432</td>\n",
              "      <td>-0.072629</td>\n",
              "      <td>0.026147</td>\n",
              "      <td>-0.088656</td>\n",
              "      <td>0.197500</td>\n",
              "      <td>-0.020331</td>\n",
              "    </tr>\n",
              "    <tr>\n",
              "      <th>V3</th>\n",
              "      <td>-0.008107</td>\n",
              "      <td>1.000000</td>\n",
              "      <td>-0.091125</td>\n",
              "      <td>0.024249</td>\n",
              "      <td>0.208996</td>\n",
              "      <td>0.029618</td>\n",
              "      <td>0.210434</td>\n",
              "      <td>-0.126901</td>\n",
              "      <td>0.043642</td>\n",
              "      <td>0.104400</td>\n",
              "      <td>0.023530</td>\n",
              "      <td>0.130642</td>\n",
              "      <td>-0.105593</td>\n",
              "      <td>-0.056316</td>\n",
              "      <td>-0.007443</td>\n",
              "      <td>0.116750</td>\n",
              "      <td>0.027747</td>\n",
              "      <td>0.119223</td>\n",
              "      <td>0.009818</td>\n",
              "      <td>0.061414</td>\n",
              "      <td>0.015274</td>\n",
              "      <td>-0.420575</td>\n",
              "      <td>0.046291</td>\n",
              "      <td>-0.081706</td>\n",
              "      <td>-0.373203</td>\n",
              "      <td>0.014797</td>\n",
              "      <td>0.086857</td>\n",
              "      <td>0.140505</td>\n",
              "      <td>0.045308</td>\n",
              "      <td>0.082731</td>\n",
              "      <td>0.044944</td>\n",
              "      <td>0.192410</td>\n",
              "      <td>0.154615</td>\n",
              "      <td>0.070107</td>\n",
              "      <td>0.350576</td>\n",
              "      <td>0.090986</td>\n",
              "      <td>-0.085886</td>\n",
              "      <td>-0.026954</td>\n",
              "      <td>-0.022362</td>\n",
              "      <td>0.204405</td>\n",
              "    </tr>\n",
              "    <tr>\n",
              "      <th>V4</th>\n",
              "      <td>-0.091995</td>\n",
              "      <td>-0.091125</td>\n",
              "      <td>1.000000</td>\n",
              "      <td>0.008215</td>\n",
              "      <td>-0.050778</td>\n",
              "      <td>0.023165</td>\n",
              "      <td>-0.200173</td>\n",
              "      <td>0.323899</td>\n",
              "      <td>0.224247</td>\n",
              "      <td>0.054396</td>\n",
              "      <td>-0.069923</td>\n",
              "      <td>0.042139</td>\n",
              "      <td>-0.026119</td>\n",
              "      <td>0.050682</td>\n",
              "      <td>-0.005919</td>\n",
              "      <td>-0.090437</td>\n",
              "      <td>0.053635</td>\n",
              "      <td>-0.048239</td>\n",
              "      <td>-0.049828</td>\n",
              "      <td>-0.016234</td>\n",
              "      <td>0.003172</td>\n",
              "      <td>0.299711</td>\n",
              "      <td>0.052688</td>\n",
              "      <td>0.054221</td>\n",
              "      <td>-0.044921</td>\n",
              "      <td>-0.200259</td>\n",
              "      <td>0.070908</td>\n",
              "      <td>-0.015825</td>\n",
              "      <td>0.027339</td>\n",
              "      <td>0.184397</td>\n",
              "      <td>0.064933</td>\n",
              "      <td>0.100021</td>\n",
              "      <td>0.040742</td>\n",
              "      <td>0.069551</td>\n",
              "      <td>0.079915</td>\n",
              "      <td>0.377250</td>\n",
              "      <td>-0.020349</td>\n",
              "      <td>0.074306</td>\n",
              "      <td>-0.024989</td>\n",
              "      <td>0.309349</td>\n",
              "    </tr>\n",
              "    <tr>\n",
              "      <th>V9</th>\n",
              "      <td>-0.078076</td>\n",
              "      <td>0.024249</td>\n",
              "      <td>0.008215</td>\n",
              "      <td>1.000000</td>\n",
              "      <td>-0.604720</td>\n",
              "      <td>0.986245</td>\n",
              "      <td>-0.083575</td>\n",
              "      <td>0.031397</td>\n",
              "      <td>-0.093732</td>\n",
              "      <td>-0.048552</td>\n",
              "      <td>-0.120393</td>\n",
              "      <td>0.394762</td>\n",
              "      <td>0.202462</td>\n",
              "      <td>0.614717</td>\n",
              "      <td>-0.986774</td>\n",
              "      <td>-0.027611</td>\n",
              "      <td>-0.062567</td>\n",
              "      <td>-0.046010</td>\n",
              "      <td>-0.025086</td>\n",
              "      <td>0.277825</td>\n",
              "      <td>0.996317</td>\n",
              "      <td>-0.060130</td>\n",
              "      <td>0.165376</td>\n",
              "      <td>0.957290</td>\n",
              "      <td>-0.323916</td>\n",
              "      <td>0.519383</td>\n",
              "      <td>-0.335379</td>\n",
              "      <td>0.328292</td>\n",
              "      <td>-0.670927</td>\n",
              "      <td>-0.043241</td>\n",
              "      <td>0.655066</td>\n",
              "      <td>0.068722</td>\n",
              "      <td>-0.085752</td>\n",
              "      <td>-0.258224</td>\n",
              "      <td>-0.055908</td>\n",
              "      <td>-0.067737</td>\n",
              "      <td>0.208776</td>\n",
              "      <td>0.575218</td>\n",
              "      <td>-0.855301</td>\n",
              "      <td>0.144038</td>\n",
              "    </tr>\n",
              "    <tr>\n",
              "      <th>V10</th>\n",
              "      <td>0.014990</td>\n",
              "      <td>0.208996</td>\n",
              "      <td>-0.050778</td>\n",
              "      <td>-0.604720</td>\n",
              "      <td>1.000000</td>\n",
              "      <td>-0.590895</td>\n",
              "      <td>0.173419</td>\n",
              "      <td>-0.033284</td>\n",
              "      <td>0.110312</td>\n",
              "      <td>0.138625</td>\n",
              "      <td>0.127396</td>\n",
              "      <td>-0.145529</td>\n",
              "      <td>-0.212148</td>\n",
              "      <td>-0.417836</td>\n",
              "      <td>0.598812</td>\n",
              "      <td>-0.044958</td>\n",
              "      <td>-0.007236</td>\n",
              "      <td>0.038458</td>\n",
              "      <td>-0.037183</td>\n",
              "      <td>-0.182059</td>\n",
              "      <td>-0.603455</td>\n",
              "      <td>-0.119066</td>\n",
              "      <td>-0.091950</td>\n",
              "      <td>-0.616095</td>\n",
              "      <td>0.164194</td>\n",
              "      <td>-0.278701</td>\n",
              "      <td>0.577061</td>\n",
              "      <td>0.093342</td>\n",
              "      <td>0.749812</td>\n",
              "      <td>0.089766</td>\n",
              "      <td>-0.396604</td>\n",
              "      <td>0.122010</td>\n",
              "      <td>0.170457</td>\n",
              "      <td>0.270446</td>\n",
              "      <td>0.105767</td>\n",
              "      <td>0.148721</td>\n",
              "      <td>-0.205701</td>\n",
              "      <td>-0.383840</td>\n",
              "      <td>0.512534</td>\n",
              "      <td>0.039983</td>\n",
              "    </tr>\n",
              "  </tbody>\n",
              "</table>\n",
              "</div>"
            ],
            "text/plain": [
              "           V1        V3        V4  ...       V56       V57       V58\n",
              "V1   1.000000 -0.008107 -0.091995  ... -0.088656  0.197500 -0.020331\n",
              "V3  -0.008107  1.000000 -0.091125  ... -0.026954 -0.022362  0.204405\n",
              "V4  -0.091995 -0.091125  1.000000  ...  0.074306 -0.024989  0.309349\n",
              "V9  -0.078076  0.024249  0.008215  ...  0.575218 -0.855301  0.144038\n",
              "V10  0.014990  0.208996 -0.050778  ... -0.383840  0.512534  0.039983\n",
              "\n",
              "[5 rows x 40 columns]"
            ]
          },
          "metadata": {
            "tags": []
          },
          "execution_count": 2
        }
      ]
    },
    {
      "cell_type": "code",
      "metadata": {
        "colab": {
          "base_uri": "https://localhost:8080/",
          "height": 292
        },
        "id": "fq_MXPuGayB8",
        "outputId": "422edd64-2206-4f13-bdd0-3249d47571ae"
      },
      "source": [
        "import matplotlib.pyplot as plt\n",
        "plt.matshow(df.corr())\n",
        "plt.figure(figsize=(10,6))\n",
        "plt.show()\n",
        "# df.corr()"
      ],
      "execution_count": null,
      "outputs": [
        {
          "output_type": "display_data",
          "data": {
            "image/png": "[encoded data removed]",
            "text/plain": [
              "<Figure size 288x288 with 1 Axes>"
            ]
          },
          "metadata": {
            "tags": [],
            "needs_background": "light"
          }
        },
        {
          "output_type": "display_data",
          "data": {
            "text/plain": [
              "<Figure size 720x432 with 0 Axes>"
            ]
          },
          "metadata": {
            "tags": []
          }
        }
      ]
    },
    {
      "cell_type": "code",
      "metadata": {
        "colab": {
          "base_uri": "https://localhost:8080/",
          "height": 52
        },
        "id": "i5BZy1Wy5vVn",
        "outputId": "3b1fa30b-240c-4308-f2c0-b1d6a3fcc3a3"
      },
      "source": [
        "# Print all thos columns which have \n",
        "#absolute correlation with target column (V58) > 0.3\n",
        "corr = df.corr()\n",
        "corr_target = abs(corr['V58'])\n",
        "# print(corr_target.sort_values() )\n",
        "print(df.columns[corr_target > 0.3][:-1])\n",
        "\n",
        "df.columns[abs(df.corr()['V58']) > 0.3][:-1]"
      ],
      "execution_count": null,
      "outputs": [
        {
          "output_type": "stream",
          "text": [
            "Index(['V4', 'V32', 'V38', 'V40', 'V41', 'V44', 'V51'], dtype='object')\n"
          ],
          "name": "stdout"
        },
        {
          "output_type": "execute_result",
          "data": {
            "text/plain": [
              "Index(['V4', 'V32', 'V38', 'V40', 'V41', 'V44', 'V51'], dtype='object')"
            ]
          },
          "metadata": {
            "tags": []
          },
          "execution_count": 7
        }
      ]
    },
    {
      "cell_type": "code",
      "metadata": {
        "id": "fTZWepl0ayCD",
        "outputId": "cb08ec1f-afec-4370-b6c6-dba40c68ca37"
      },
      "source": [
        "df.columns"
      ],
      "execution_count": null,
      "outputs": [
        {
          "output_type": "execute_result",
          "data": {
            "text/plain": [
              "Index(['V1', 'V3', 'V4', 'V8', 'V9', 'V10', 'V11', 'V12', 'V13', 'V14', 'V15',\n",
              "       'V16', 'V18', 'V19', 'V20', 'V21', 'V22', 'V23', 'V24', 'V25', 'V26',\n",
              "       'V27', 'V28', 'V29', 'V30', 'V31', 'V32', 'V33', 'V34', 'V35', 'V36',\n",
              "       'V37', 'V38', 'V39', 'V40', 'V41', 'V42', 'V43', 'V44', 'V50', 'V51',\n",
              "       'V54', 'V55', 'V56', 'V57', 'V58'],\n",
              "      dtype='object')"
            ]
          },
          "metadata": {
            "tags": []
          },
          "execution_count": 20
        }
      ]
    },
    {
      "cell_type": "code",
      "metadata": {
        "id": "FAqUyqp9ayCJ",
        "outputId": "0f4c51ba-753e-4f20-b4ce-eabb71e47ad5"
      },
      "source": [
        "#Boxplot\n",
        "# these are used to find the outlier / extreme values in each column\n",
        "df[['V9','V10','V11']].boxplot()"
      ],
      "execution_count": null,
      "outputs": [
        {
          "output_type": "execute_result",
          "data": {
            "text/plain": [
              "<matplotlib.axes._subplots.AxesSubplot at 0x7f5e7d9575c0>"
            ]
          },
          "metadata": {
            "tags": []
          },
          "execution_count": 21
        },
        {
          "output_type": "display_data",
          "data": {
            "image/png": "[encoded data removed]",
            "text/plain": [
              "<Figure size 432x288 with 1 Axes>"
            ]
          },
          "metadata": {
            "tags": [],
            "needs_background": "light"
          }
        }
      ]
    },
    {
      "cell_type": "code",
      "metadata": {
        "id": "hZqNAWtbayCP",
        "outputId": "785f05ad-f6a0-413f-d4c5-028cf7ba20ae"
      },
      "source": [
        "# Scatter plt\n",
        "# it is used to find correlation between two variables\n",
        "df.plot.scatter(x='V1',y='V3')"
      ],
      "execution_count": null,
      "outputs": [
        {
          "output_type": "execute_result",
          "data": {
            "text/plain": [
              "<matplotlib.axes._subplots.AxesSubplot at 0x7f0712b6eb00>"
            ]
          },
          "metadata": {
            "tags": []
          },
          "execution_count": 8
        },
        {
          "output_type": "display_data",
          "data": {
            "image/png": "[encoded data removed]",
            "text/plain": [
              "<Figure size 432x288 with 1 Axes>"
            ]
          },
          "metadata": {
            "tags": [],
            "needs_background": "light"
          }
        }
      ]
    },
    {
      "cell_type": "code",
      "metadata": {
        "id": "KjsTooKtayCU",
        "outputId": "a273a7aa-7593-4c82-f287-596e6625a877"
      },
      "source": [
        "df.plot.scatter(x='V9',y='V10')"
      ],
      "execution_count": null,
      "outputs": [
        {
          "output_type": "execute_result",
          "data": {
            "text/plain": [
              "<matplotlib.axes._subplots.AxesSubplot at 0x7f0712ac4588>"
            ]
          },
          "metadata": {
            "tags": []
          },
          "execution_count": 9
        },
        {
          "output_type": "display_data",
          "data": {
            "image/png": "[encoded data removed]",
            "text/plain": [
              "<Figure size 432x288 with 1 Axes>"
            ]
          },
          "metadata": {
            "tags": [],
            "needs_background": "light"
          }
        }
      ]
    },
    {
      "cell_type": "code",
      "metadata": {
        "id": "VmHKdYddayCa",
        "outputId": "e957a20e-5b0c-4328-ec29-83a627b318e9"
      },
      "source": [
        "df.plot.scatter(x='V10',y='V11')"
      ],
      "execution_count": null,
      "outputs": [
        {
          "output_type": "execute_result",
          "data": {
            "text/plain": [
              "<matplotlib.axes._subplots.AxesSubplot at 0x7f0712ab3780>"
            ]
          },
          "metadata": {
            "tags": []
          },
          "execution_count": 10
        },
        {
          "output_type": "display_data",
          "data": {
            "image/png": "[encoded data removed]",
            "text/plain": [
              "<Figure size 432x288 with 1 Axes>"
            ]
          },
          "metadata": {
            "tags": [],
            "needs_background": "light"
          }
        }
      ]
    },
    {
      "cell_type": "code",
      "metadata": {
        "id": "G-x6c5VtayCh",
        "outputId": "603e179f-2ac8-42e2-a7fc-a3fe913e1a1a"
      },
      "source": [
        "# Histogram\n",
        "# TO check the distribution of data\n",
        "df['V43'].hist()"
      ],
      "execution_count": null,
      "outputs": [
        {
          "output_type": "execute_result",
          "data": {
            "text/plain": [
              "<matplotlib.axes._subplots.AxesSubplot at 0x7f4da0060d30>"
            ]
          },
          "metadata": {
            "tags": []
          },
          "execution_count": 6
        },
        {
          "output_type": "display_data",
          "data": {
            "image/png": "[encoded data removed]",
            "text/plain": [
              "<Figure size 432x288 with 1 Axes>"
            ]
          },
          "metadata": {
            "tags": [],
            "needs_background": "light"
          }
        }
      ]
    },
    {
      "cell_type": "code",
      "metadata": {
        "id": "1QIE7zjEayCl",
        "outputId": "f999f777-e9e3-4489-8e4a-0ebb6243ee89"
      },
      "source": [
        "df['V30'].hist()"
      ],
      "execution_count": null,
      "outputs": [
        {
          "output_type": "execute_result",
          "data": {
            "text/plain": [
              "<matplotlib.axes._subplots.AxesSubplot at 0x7fe0150bcfd0>"
            ]
          },
          "metadata": {
            "tags": []
          },
          "execution_count": 6
        },
        {
          "output_type": "display_data",
          "data": {
            "image/png": "[encoded data removed]",
            "text/plain": [
              "<Figure size 432x288 with 1 Axes>"
            ]
          },
          "metadata": {
            "tags": [],
            "needs_background": "light"
          }
        }
      ]
    },
    {
      "cell_type": "code",
      "metadata": {
        "id": "YJgIA-SWayCp",
        "outputId": "65a67fe3-3e86-420b-f13c-7904899ba1ae"
      },
      "source": [
        "df.plot.scatter(x='V22',y='V58')"
      ],
      "execution_count": null,
      "outputs": [
        {
          "output_type": "execute_result",
          "data": {
            "text/plain": [
              "<matplotlib.axes._subplots.AxesSubplot at 0x7f0712a2dc18>"
            ]
          },
          "metadata": {
            "tags": []
          },
          "execution_count": 12
        },
        {
          "output_type": "display_data",
          "data": {
            "image/png": "[encoded data removed]",
            "text/plain": [
              "<Figure size 432x288 with 1 Axes>"
            ]
          },
          "metadata": {
            "tags": [],
            "needs_background": "light"
          }
        }
      ]
    },
    {
      "cell_type": "code",
      "metadata": {
        "id": "lI_V49GPayCu",
        "outputId": "bef01ed5-c6ca-48e8-e088-7c52002da525"
      },
      "source": [
        "df.plot.scatter(x='V56',y='V57')"
      ],
      "execution_count": null,
      "outputs": [
        {
          "output_type": "execute_result",
          "data": {
            "text/plain": [
              "<matplotlib.axes._subplots.AxesSubplot at 0x7f0712990e48>"
            ]
          },
          "metadata": {
            "tags": []
          },
          "execution_count": 13
        },
        {
          "output_type": "display_data",
          "data": {
            "image/png": "[encoded data removed]",
            "text/plain": [
              "<Figure size 432x288 with 1 Axes>"
            ]
          },
          "metadata": {
            "tags": [],
            "needs_background": "light"
          }
        }
      ]
    },
    {
      "cell_type": "code",
      "metadata": {
        "id": "rRA0kCBhayCz",
        "outputId": "ca57d031-b00a-4b7c-b209-3f0cd7104e8a"
      },
      "source": [
        "cor = df.corr()\n",
        "#Correlation with output variable\n",
        "cor_target = abs(cor[\"V58\"])\n",
        "print(cor_target)"
      ],
      "execution_count": null,
      "outputs": [
        {
          "output_type": "stream",
          "text": [
            "V1     0.020331\n",
            "V3     0.204405\n",
            "V4     0.309349\n",
            "V8     0.065434\n",
            "V9     0.144038\n",
            "V10    0.039983\n",
            "V11    0.112136\n",
            "V12    0.099745\n",
            "V13    0.090890\n",
            "V14    0.085525\n",
            "V15    0.088660\n",
            "V16    0.001277\n",
            "V18    0.071976\n",
            "V19    0.183453\n",
            "V20    0.052685\n",
            "V21    0.007952\n",
            "V22    0.119330\n",
            "V23    0.165533\n",
            "V24    0.110801\n",
            "V25    0.143824\n",
            "V26    0.064526\n",
            "V27    0.019151\n",
            "V28    0.113564\n",
            "V29    0.247064\n",
            "V30    0.260546\n",
            "V31    0.066130\n",
            "V32    0.410762\n",
            "V33    0.062453\n",
            "V34    0.139876\n",
            "V35    0.089957\n",
            "V36    0.102718\n",
            "V37    0.015849\n",
            "V38    0.406703\n",
            "V39    0.163591\n",
            "V40    0.424634\n",
            "V41    0.320719\n",
            "V42    0.112146\n",
            "V43    0.045519\n",
            "V44    0.450304\n",
            "V50    0.065434\n",
            "V51    0.503341\n",
            "V54    0.097688\n",
            "V55    0.074246\n",
            "V56    0.055929\n",
            "V57    0.136242\n",
            "V58    1.000000\n",
            "Name: V58, dtype: float64\n"
          ],
          "name": "stdout"
        }
      ]
    },
    {
      "cell_type": "code",
      "metadata": {
        "id": "tORrVmyyayC3",
        "outputId": "53786e10-67d1-41f4-b346-0ea07ff18493"
      },
      "source": [
        "#Selecting highly correlated features\n",
        "relevant_features = cor_target[cor_target>0.2]\n",
        "relevant_features"
      ],
      "execution_count": null,
      "outputs": [
        {
          "output_type": "execute_result",
          "data": {
            "text/plain": [
              "V3     0.204405\n",
              "V4     0.309349\n",
              "V29    0.247064\n",
              "V30    0.260546\n",
              "V32    0.410762\n",
              "V38    0.406703\n",
              "V40    0.424634\n",
              "V41    0.320719\n",
              "V44    0.450304\n",
              "V51    0.503341\n",
              "V58    1.000000\n",
              "Name: V58, dtype: float64"
            ]
          },
          "metadata": {
            "tags": []
          },
          "execution_count": 19
        }
      ]
    },
    {
      "cell_type": "code",
      "metadata": {
        "id": "L-nR_WlxayC7"
      },
      "source": [
        "# Separate Input features X and Class variable Y\n",
        "X = df.iloc[:,:-1]\n",
        "Y = df.iloc[:,-1]"
      ],
      "execution_count": null,
      "outputs": []
    },
    {
      "cell_type": "code",
      "metadata": {
        "id": "Z8pnhsknayC_"
      },
      "source": [
        "from sklearn.model_selection import train_test_split\n",
        "# Split Training and Testing Data\n",
        "X_train,X_test,Y_train,Y_test = train_test_split(X,Y,test_size = 0.25, random_state=1)"
      ],
      "execution_count": null,
      "outputs": []
    },
    {
      "cell_type": "code",
      "metadata": {
        "colab": {
          "base_uri": "https://localhost:8080/",
          "height": 468
        },
        "id": "FUjTr-MrayDE",
        "outputId": "ba66b2f0-dbe4-470d-ea74-097a6f4b458f"
      },
      "source": [
        "from sklearn.decomposition import PCA# Make an instance of the Model\n",
        "# Principle COmponent Analysis\n",
        "pca = PCA(0.95)\n",
        "pca.fit(X_train)\n",
        "X_train = pca.transform(X_train)\n",
        "X_test = pca.transform(X_test)\n",
        "print(X_train.shape)\n",
        "X_train[:5]"
      ],
      "execution_count": null,
      "outputs": [
        {
          "output_type": "stream",
          "text": [
            "(211, 21)\n"
          ],
          "name": "stdout"
        },
        {
          "output_type": "execute_result",
          "data": {
            "text/plain": [
              "array([[-0.91097359,  0.41429698, -0.39635717,  0.15205053, -0.22201778,\n",
              "         0.03916557,  0.13171279, -0.10048158, -0.27036022, -0.07539364,\n",
              "        -0.1984106 ,  0.04350049,  0.19806877, -0.30644461, -0.35637445,\n",
              "        -0.09330851,  0.08689634,  0.14540468,  0.10981325,  0.15293385,\n",
              "        -0.05406917],\n",
              "       [-0.6648444 , -0.61297324,  0.24325392, -0.2569509 ,  0.28162555,\n",
              "        -0.55755795, -0.29101774,  0.56980522,  0.6522183 ,  0.22501934,\n",
              "        -0.41280988,  0.3626176 , -0.51766723, -0.1997082 ,  0.00564332,\n",
              "        -0.46384919, -0.02268064, -0.08692214,  0.0295154 ,  0.05050875,\n",
              "         0.01171918],\n",
              "       [ 0.30811971,  0.05479825, -0.49765676, -0.34555092,  0.76809046,\n",
              "        -0.05585473,  0.62069928,  0.09148509,  0.13694984, -0.11110066,\n",
              "        -0.06690613, -0.24052988,  0.17415659, -0.14403592,  0.43146299,\n",
              "         0.23067176,  0.64130381, -0.02985563, -0.20901871, -0.00466421,\n",
              "         0.09591965],\n",
              "       [-0.91016315, -0.13592486,  0.11564033,  0.61658445, -0.09445695,\n",
              "        -0.20000911, -0.03239463, -0.48973791, -0.05114856,  0.12077716,\n",
              "         0.01205755, -0.15521219, -0.12777721,  0.27437338,  0.21134437,\n",
              "        -0.21169689,  0.26277769,  0.21707479, -0.12071527, -0.14324272,\n",
              "         0.19119761],\n",
              "       [-0.29491046,  0.72300513, -0.07497529,  0.77350482, -0.44644751,\n",
              "         0.65847424, -0.5823003 ,  0.3596254 ,  0.97835685,  0.03354881,\n",
              "        -0.00843699,  0.36696877,  0.53697572, -0.27891776, -0.07431967,\n",
              "        -0.12979418,  0.06547368, -0.10629114,  0.81562756, -0.10801897,\n",
              "         0.5871563 ]])"
            ]
          },
          "metadata": {
            "tags": []
          },
          "execution_count": 24
        }
      ]
    },
    {
      "cell_type": "code",
      "metadata": {
        "colab": {
          "base_uri": "https://localhost:8080/",
          "height": 468
        },
        "id": "7b6bbKezgp-E",
        "outputId": "84641aac-4f0a-40ce-c872-66de0bc57509"
      },
      "source": [
        "pca = PCA()\n",
        "pca.fit(X_train)\n",
        "X_train = pca.transform(X_train)\n",
        "X_test = pca.transform(X_test)\n",
        "print(X_train.shape)\n",
        "X_train[:5]"
      ],
      "execution_count": null,
      "outputs": [
        {
          "output_type": "stream",
          "text": [
            "(211, 21)\n"
          ],
          "name": "stdout"
        },
        {
          "output_type": "execute_result",
          "data": {
            "text/plain": [
              "array([[-0.91097359,  0.41429698, -0.39635717,  0.15205053, -0.22201778,\n",
              "         0.03916557,  0.13171279, -0.10048158, -0.27036022, -0.07539364,\n",
              "        -0.1984106 ,  0.04350049,  0.19806877, -0.30644461, -0.35637445,\n",
              "        -0.09330851,  0.08689634,  0.14540468,  0.10981325,  0.15293385,\n",
              "        -0.05406917],\n",
              "       [-0.6648444 , -0.61297324,  0.24325392, -0.2569509 ,  0.28162555,\n",
              "        -0.55755795, -0.29101774,  0.56980522,  0.6522183 ,  0.22501934,\n",
              "        -0.41280988,  0.3626176 , -0.51766723, -0.1997082 ,  0.00564332,\n",
              "        -0.46384919, -0.02268064, -0.08692214,  0.0295154 ,  0.05050875,\n",
              "         0.01171918],\n",
              "       [ 0.30811971,  0.05479825, -0.49765676, -0.34555092,  0.76809046,\n",
              "        -0.05585473,  0.62069928,  0.09148509,  0.13694984, -0.11110066,\n",
              "        -0.06690613, -0.24052988,  0.17415659, -0.14403592,  0.43146299,\n",
              "         0.23067176,  0.64130381, -0.02985563, -0.20901871, -0.00466421,\n",
              "         0.09591965],\n",
              "       [-0.91016315, -0.13592486,  0.11564033,  0.61658445, -0.09445695,\n",
              "        -0.20000911, -0.03239463, -0.48973791, -0.05114856,  0.12077716,\n",
              "         0.01205755, -0.15521219, -0.12777721,  0.27437338,  0.21134437,\n",
              "        -0.21169689,  0.26277769,  0.21707479, -0.12071527, -0.14324272,\n",
              "         0.19119761],\n",
              "       [-0.29491046,  0.72300513, -0.07497529,  0.77350482, -0.44644751,\n",
              "         0.65847424, -0.5823003 ,  0.3596254 ,  0.97835685,  0.03354881,\n",
              "        -0.00843699,  0.36696877,  0.53697572, -0.27891776, -0.07431967,\n",
              "        -0.12979418,  0.06547368, -0.10629114,  0.81562756, -0.10801897,\n",
              "         0.5871563 ]])"
            ]
          },
          "metadata": {
            "tags": []
          },
          "execution_count": 25
        }
      ]
    },
    {
      "cell_type": "code",
      "metadata": {
        "id": "frJ6JSG0ayDH"
      },
      "source": [
        "\"\"\"\n",
        "\n",
        "RFE  reccursive feature elimination\n",
        "\n",
        "Lasso and Ridge regression\n",
        "\"\"\""
      ],
      "execution_count": null,
      "outputs": []
    },
    {
      "cell_type": "code",
      "metadata": {
        "id": "UHAkwkkGJ9xQ"
      },
      "source": [
        "# Separate Input features X and Class variable Y\n",
        "X = df.iloc[:,:-1]\n",
        "Y = df.iloc[:,-1]"
      ],
      "execution_count": null,
      "outputs": []
    },
    {
      "cell_type": "code",
      "metadata": {
        "id": "in7QHnhpJyoa"
      },
      "source": [
        "from sklearn.model_selection import train_test_split\n",
        "X_train, X_test, y_train, y_test = train_test_split(X, Y, \\\n",
        "                                                    test_size=0.30, random_state=7)"
      ],
      "execution_count": null,
      "outputs": []
    },
    {
      "cell_type": "markdown",
      "metadata": {
        "id": "DWqrMnzmJQdf"
      },
      "source": [
        "# LASSO (L1)\n",
        "#\"Least Absolute Shrinkage and Selection Operator\"\n",
        "\n",
        "COntrols high value of coefficients\n",
        "\n",
        "It results in 0 coefficient for those features which are not important"
      ]
    },
    {
      "cell_type": "code",
      "metadata": {
        "colab": {
          "base_uri": "https://localhost:8080/"
        },
        "id": "yNxDadakGGK_",
        "outputId": "aff4e8a0-1ccc-4e7a-c0bd-cca8fa5379df"
      },
      "source": [
        "\n",
        "from sklearn.linear_model import Lasso\n",
        "lasso = Lasso(alpha=.01)\n",
        "lasso.fit(X_train, y_train)\n",
        "lasso.coef_"
      ],
      "execution_count": null,
      "outputs": [
        {
          "output_type": "execute_result",
          "data": {
            "text/plain": [
              "array([ 0.        ,  0.        ,  0.11465978,  0.        , -0.        ,\n",
              "        0.        ,  0.        , -0.        , -0.        , -0.        ,\n",
              "        0.01855337,  0.        ,  0.        , -0.        , -0.        ,\n",
              "       -0.03066738,  0.        ,  0.        , -0.03977729, -0.        ,\n",
              "        0.        , -0.        ,  0.18881929,  0.        , -0.35334449,\n",
              "        0.        , -0.        ,  0.        , -0.        ,  0.16354999,\n",
              "        0.        ,  0.01082045,  0.0437792 , -0.        ,  0.41749142,\n",
              "        0.23032557,  0.        ,  0.        , -0.0915163 ])"
            ]
          },
          "metadata": {
            "tags": []
          },
          "execution_count": 12
        }
      ]
    },
    {
      "cell_type": "code",
      "metadata": {
        "colab": {
          "base_uri": "https://localhost:8080/",
          "height": 225
        },
        "id": "VX6OEc8vIeFA",
        "outputId": "9363a21e-eb44-4c11-91fe-d3be6bca72cd"
      },
      "source": [
        "# Ridge (L2)\n",
        "# Penalty is Sum of squares of coefficient\n",
        "from sklearn.linear_model import Ridge\n",
        "ridge = Ridge(alpha=1000)\n",
        "ridge.fit(X_train,y_train)\n",
        "ridge.coef_"
      ],
      "execution_count": null,
      "outputs": [
        {
          "output_type": "execute_result",
          "data": {
            "text/plain": [
              "array([-1.76566554e-05,  4.66893489e-03,  1.42341207e-02,  5.39116272e-04,\n",
              "        1.80410583e-03,  1.05237600e-04,  1.34633765e-03,  1.08260759e-03,\n",
              "        8.99309253e-04,  5.10211204e-04,  1.17744635e-03,  7.44967705e-04,\n",
              "        2.19539394e-03,  1.95941354e-03,  2.33557231e-04, -1.16682447e-03,\n",
              "       -1.63000647e-03, -3.11052696e-03,  6.44764175e-03,  5.72378340e-03,\n",
              "       -2.44527484e-03, -7.69879252e-05,  1.54740896e-03, -4.49160069e-03,\n",
              "        7.01891454e-03,  1.02021123e-03, -7.42037350e-03, -6.04498034e-04,\n",
              "       -1.95149587e-03,  1.33901327e-03,  1.31317139e-03, -1.03598738e-03,\n",
              "        1.53544570e-02,  2.20015137e-03,  6.58726724e-03,  8.04340087e-03,\n",
              "        1.34303201e-03,  1.01357313e-03,  1.29627140e-02, -5.58446252e-04,\n",
              "        2.05539583e-02,  1.09496555e-03,  6.04872949e-04, -2.73712734e-04,\n",
              "       -2.17715773e-03])"
            ]
          },
          "metadata": {
            "tags": []
          },
          "execution_count": 18
        }
      ]
    },
    {
      "cell_type": "markdown",
      "metadata": {
        "id": "kJNBBtt36GVr"
      },
      "source": [
        "# RFE"
      ]
    },
    {
      "cell_type": "code",
      "metadata": {
        "id": "ZqkKOZHWVQEH"
      },
      "source": [
        "from sklearn.feature_selection import RFE"
      ],
      "execution_count": null,
      "outputs": []
    },
    {
      "cell_type": "code",
      "metadata": {
        "id": "QQc2bLCc6GVt"
      },
      "source": [
        "from sklearn.tree import DecisionTreeClassifier"
      ],
      "execution_count": null,
      "outputs": []
    },
    {
      "cell_type": "code",
      "metadata": {
        "id": "C-51IM-y6GVu"
      },
      "source": [
        "model_dt = DecisionTreeClassifier()"
      ],
      "execution_count": null,
      "outputs": []
    },
    {
      "cell_type": "code",
      "metadata": {
        "id": "zircomeK6GVu"
      },
      "source": [
        "rfe = RFE(estimator=model_dt, n_features_to_select=1, step=1)"
      ],
      "execution_count": null,
      "outputs": []
    },
    {
      "cell_type": "code",
      "metadata": {
        "colab": {
          "base_uri": "https://localhost:8080/"
        },
        "id": "ZNJB66vQ6xgp",
        "outputId": "2ba048e5-74b9-45c8-c323-794158552151"
      },
      "source": [
        "y_train.head()"
      ],
      "execution_count": null,
      "outputs": [
        {
          "output_type": "execute_result",
          "data": {
            "text/plain": [
              "168    1.0\n",
              "8      1.0\n",
              "28     0.0\n",
              "27     0.0\n",
              "52     1.0\n",
              "Name: V58, dtype: float64"
            ]
          },
          "metadata": {
            "tags": []
          },
          "execution_count": 9
        }
      ]
    },
    {
      "cell_type": "code",
      "metadata": {
        "colab": {
          "base_uri": "https://localhost:8080/"
        },
        "id": "32iESTM66GVv",
        "outputId": "6609a554-dc33-47e5-e6be-756492d0ce9e"
      },
      "source": [
        "rfe.fit(X_train,y_train)"
      ],
      "execution_count": null,
      "outputs": [
        {
          "output_type": "execute_result",
          "data": {
            "text/plain": [
              "RFE(estimator=DecisionTreeClassifier(ccp_alpha=0.0, class_weight=None,\n",
              "                                     criterion='gini', max_depth=None,\n",
              "                                     max_features=None, max_leaf_nodes=None,\n",
              "                                     min_impurity_decrease=0.0,\n",
              "                                     min_impurity_split=None,\n",
              "                                     min_samples_leaf=1, min_samples_split=2,\n",
              "                                     min_weight_fraction_leaf=0.0,\n",
              "                                     presort='deprecated', random_state=None,\n",
              "                                     splitter='best'),\n",
              "    n_features_to_select=1, step=1, verbose=0)"
            ]
          },
          "metadata": {
            "tags": []
          },
          "execution_count": 10
        }
      ]
    },
    {
      "cell_type": "code",
      "metadata": {
        "colab": {
          "base_uri": "https://localhost:8080/"
        },
        "id": "-OjsBF3O6GVx",
        "outputId": "83fb8779-4d04-409f-8e53-30a7c93f13cc"
      },
      "source": [
        "rfe.ranking_"
      ],
      "execution_count": null,
      "outputs": [
        {
          "output_type": "execute_result",
          "data": {
            "text/plain": [
              "array([38, 13,  8,  3,  9, 19,  6, 18, 16, 21, 24, 35, 29, 23, 28, 27, 30,\n",
              "       32, 34, 39, 37,  2,  4, 12, 15, 20, 22, 11, 10, 25, 14, 17, 26,  1,\n",
              "        7,  5, 31, 33, 36])"
            ]
          },
          "metadata": {
            "tags": []
          },
          "execution_count": 11
        }
      ]
    },
    {
      "cell_type": "code",
      "metadata": {
        "id": "eNjRHUkQ6GVx",
        "outputId": "72d10820-5865-4ecd-b25a-0dbea85c6dd1"
      },
      "source": [
        "X.columns"
      ],
      "execution_count": null,
      "outputs": [
        {
          "output_type": "execute_result",
          "data": {
            "text/plain": [
              "Index(['V1', 'V3', 'V4', 'V8', 'V9', 'V10', 'V11', 'V12', 'V13', 'V14', 'V15',\n",
              "       'V16', 'V18', 'V19', 'V20', 'V21', 'V22', 'V23', 'V24', 'V25', 'V26',\n",
              "       'V27', 'V28', 'V29', 'V30', 'V31', 'V32', 'V33', 'V34', 'V35', 'V36',\n",
              "       'V37', 'V38', 'V39', 'V40', 'V41', 'V42', 'V43', 'V44', 'V50', 'V51',\n",
              "       'V54', 'V55', 'V56', 'V57'],\n",
              "      dtype='object')"
            ]
          },
          "metadata": {
            "tags": []
          },
          "execution_count": 18
        }
      ]
    },
    {
      "cell_type": "code",
      "metadata": {
        "id": "KSnNKpc66GVy",
        "outputId": "16209b28-36b0-478a-dd89-3d7a02605be0"
      },
      "source": [
        "for rank, col in zip(rfe.ranking_,X.columns):\n",
        "    print(rank, col)"
      ],
      "execution_count": null,
      "outputs": [
        {
          "output_type": "stream",
          "text": [
            "6 V1\n",
            "18 V3\n",
            "24 V4\n",
            "23 V8\n",
            "3 V9\n",
            "4 V10\n",
            "19 V11\n",
            "1 V12\n",
            "26 V13\n",
            "28 V14\n",
            "29 V15\n",
            "31 V16\n",
            "30 V18\n",
            "16 V19\n",
            "41 V20\n",
            "13 V21\n",
            "32 V22\n",
            "34 V23\n",
            "35 V24\n",
            "38 V25\n",
            "42 V26\n",
            "44 V27\n",
            "45 V28\n",
            "14 V29\n",
            "11 V30\n",
            "27 V31\n",
            "8 V32\n",
            "10 V33\n",
            "12 V34\n",
            "5 V35\n",
            "17 V36\n",
            "20 V37\n",
            "21 V38\n",
            "25 V39\n",
            "2 V40\n",
            "7 V41\n",
            "22 V42\n",
            "15 V43\n",
            "9 V44\n",
            "33 V50\n",
            "36 V51\n",
            "37 V54\n",
            "39 V55\n",
            "40 V56\n",
            "43 V57\n"
          ],
          "name": "stdout"
        }
      ]
    },
    {
      "cell_type": "markdown",
      "metadata": {
        "id": "AGloBntO6GV4"
      },
      "source": [
        "# Gini Index Based Feature Selection"
      ]
    },
    {
      "cell_type": "code",
      "metadata": {
        "id": "7229Md4s6GV5",
        "outputId": "acebaaa8-280c-4f61-c9c7-249afc93d41c"
      },
      "source": [
        "model_dt = DecisionTreeClassifier()\n",
        "model_dt.fit(X_train,Y_train)"
      ],
      "execution_count": null,
      "outputs": [
        {
          "output_type": "execute_result",
          "data": {
            "text/plain": [
              "DecisionTreeClassifier(ccp_alpha=0.0, class_weight=None, criterion='gini',\n",
              "                       max_depth=None, max_features=None, max_leaf_nodes=None,\n",
              "                       min_impurity_decrease=0.0, min_impurity_split=None,\n",
              "                       min_samples_leaf=1, min_samples_split=2,\n",
              "                       min_weight_fraction_leaf=0.0, presort='deprecated',\n",
              "                       random_state=None, splitter='best')"
            ]
          },
          "metadata": {
            "tags": []
          },
          "execution_count": 20
        }
      ]
    },
    {
      "cell_type": "code",
      "metadata": {
        "id": "JemGDras6GV6",
        "outputId": "979a0886-92f5-4054-c6be-88cff2cec2ae"
      },
      "source": [
        "model_dt.feature_importances_"
      ],
      "execution_count": null,
      "outputs": [
        {
          "output_type": "execute_result",
          "data": {
            "text/plain": [
              "array([0.06268554, 0.02275341, 0.        , 0.        , 0.26685315,\n",
              "       0.02275341, 0.        , 0.04075882, 0.        , 0.01422088,\n",
              "       0.        , 0.        , 0.        , 0.02528157, 0.        ,\n",
              "       0.01659103, 0.        , 0.        , 0.        , 0.        ,\n",
              "       0.        , 0.        , 0.        , 0.03739198, 0.0240066 ,\n",
              "       0.01264079, 0.06651663, 0.01828399, 0.03996817, 0.03871241,\n",
              "       0.0404582 , 0.        , 0.        , 0.        , 0.14353428,\n",
              "       0.04266265, 0.        , 0.00540395, 0.04627068, 0.        ,\n",
              "       0.        , 0.        , 0.01225184, 0.        , 0.        ])"
            ]
          },
          "metadata": {
            "tags": []
          },
          "execution_count": 22
        }
      ]
    },
    {
      "cell_type": "code",
      "metadata": {
        "id": "jYdjpMkw6GV6",
        "outputId": "ac5c01df-31fe-477c-d962-75f4b02098db"
      },
      "source": [
        "m = max(model_dt.feature_importances_)\n",
        "for imp, col in zip(model_dt.feature_importances_,X.columns):\n",
        "    print(col, imp/m*100)"
      ],
      "execution_count": null,
      "outputs": [
        {
          "output_type": "stream",
          "text": [
            "V1 13.064502647792917\n",
            "V3 20.265270017731343\n",
            "V4 16.88150721885093\n",
            "V8 0.0\n",
            "V9 100.0\n",
            "V10 0.0\n",
            "V11 0.0\n",
            "V12 21.322474243566045\n",
            "V13 0.0\n",
            "V14 0.0\n",
            "V15 0.0\n",
            "V16 0.0\n",
            "V18 0.0\n",
            "V19 0.0\n",
            "V20 0.0\n",
            "V21 32.2977790989168\n",
            "V22 0.0\n",
            "V23 0.0\n",
            "V24 0.0\n",
            "V25 6.459555819783358\n",
            "V26 0.0\n",
            "V27 0.0\n",
            "V28 0.0\n",
            "V29 33.0166392570339\n",
            "V30 0.0\n",
            "V31 22.63043500978851\n",
            "V32 20.456225589396084\n",
            "V33 0.0\n",
            "V34 0.0\n",
            "V35 23.57536311942563\n",
            "V36 8.741130432242521\n",
            "V37 0.0\n",
            "V38 0.0\n",
            "V39 0.0\n",
            "V40 57.82903256105818\n",
            "V41 22.82705043830988\n",
            "V42 0.0\n",
            "V43 30.684009211301465\n",
            "V44 20.882281668846183\n",
            "V50 0.0\n",
            "V51 39.0498767430519\n",
            "V54 0.0\n",
            "V55 0.0\n",
            "V56 4.689524210851107\n",
            "V57 0.0\n"
          ],
          "name": "stdout"
        }
      ]
    },
    {
      "cell_type": "markdown",
      "metadata": {
        "id": "lkHjksmn6GV8"
      },
      "source": [
        "# Entropy Based Feature Selection"
      ]
    },
    {
      "cell_type": "code",
      "metadata": {
        "id": "nzPR5she6GV9",
        "outputId": "00a8bad8-c3b7-4db5-fdba-0eae4a7b9e01"
      },
      "source": [
        "model_dt = DecisionTreeClassifier(criterion = 'entropy')\n",
        "model_dt.fit(X_train,Y_train)"
      ],
      "execution_count": null,
      "outputs": [
        {
          "output_type": "execute_result",
          "data": {
            "text/plain": [
              "DecisionTreeClassifier(ccp_alpha=0.0, class_weight=None, criterion='entropy',\n",
              "                       max_depth=None, max_features=None, max_leaf_nodes=None,\n",
              "                       min_impurity_decrease=0.0, min_impurity_split=None,\n",
              "                       min_samples_leaf=1, min_samples_split=2,\n",
              "                       min_weight_fraction_leaf=0.0, presort='deprecated',\n",
              "                       random_state=None, splitter='best')"
            ]
          },
          "metadata": {
            "tags": []
          },
          "execution_count": 27
        }
      ]
    },
    {
      "cell_type": "code",
      "metadata": {
        "id": "5g81E-q-6GV-",
        "outputId": "570e382b-e35d-4bfb-8dd9-9d596abb000f"
      },
      "source": [
        "model_dt.feature_importances_"
      ],
      "execution_count": null,
      "outputs": [
        {
          "output_type": "execute_result",
          "data": {
            "text/plain": [
              "array([0.0264104 , 0.04096703, 0.03412662, 0.        , 0.20215389,\n",
              "       0.        , 0.        , 0.04310421, 0.        , 0.        ,\n",
              "       0.        , 0.        , 0.        , 0.        , 0.        ,\n",
              "       0.06529122, 0.        , 0.        , 0.        , 0.01305824,\n",
              "       0.        , 0.        , 0.        , 0.06674442, 0.        ,\n",
              "       0.0457483 , 0.04135305, 0.        , 0.        , 0.04765851,\n",
              "       0.01767053, 0.        , 0.        , 0.        , 0.11690364,\n",
              "       0.04614577, 0.        , 0.06202892, 0.04221434, 0.        ,\n",
              "       0.07894084, 0.        , 0.        , 0.00948006, 0.        ])"
            ]
          },
          "metadata": {
            "tags": []
          },
          "execution_count": 28
        }
      ]
    },
    {
      "cell_type": "code",
      "metadata": {
        "id": "1LSQZTaW6GWA",
        "outputId": "11c29a87-6515-4c68-83c4-30828489ae2a"
      },
      "source": [
        "m = max(model_dt.feature_importances_)\n",
        "for imp, col in zip(model_dt.feature_importances_,X.columns):\n",
        "    print(col, imp/m*100)"
      ],
      "execution_count": null,
      "outputs": [
        {
          "output_type": "stream",
          "text": [
            "V1 13.064502647792917\n",
            "V3 20.265270017731343\n",
            "V4 16.88150721885093\n",
            "V8 0.0\n",
            "V9 100.0\n",
            "V10 0.0\n",
            "V11 0.0\n",
            "V12 21.322474243566045\n",
            "V13 0.0\n",
            "V14 0.0\n",
            "V15 0.0\n",
            "V16 0.0\n",
            "V18 0.0\n",
            "V19 0.0\n",
            "V20 0.0\n",
            "V21 32.2977790989168\n",
            "V22 0.0\n",
            "V23 0.0\n",
            "V24 0.0\n",
            "V25 6.459555819783358\n",
            "V26 0.0\n",
            "V27 0.0\n",
            "V28 0.0\n",
            "V29 33.0166392570339\n",
            "V30 0.0\n",
            "V31 22.63043500978851\n",
            "V32 20.456225589396084\n",
            "V33 0.0\n",
            "V34 0.0\n",
            "V35 23.57536311942563\n",
            "V36 8.741130432242521\n",
            "V37 0.0\n",
            "V38 0.0\n",
            "V39 0.0\n",
            "V40 57.82903256105818\n",
            "V41 22.82705043830988\n",
            "V42 0.0\n",
            "V43 30.684009211301465\n",
            "V44 20.882281668846183\n",
            "V50 0.0\n",
            "V51 39.0498767430519\n",
            "V54 0.0\n",
            "V55 0.0\n",
            "V56 4.689524210851107\n",
            "V57 0.0\n"
          ],
          "name": "stdout"
        }
      ]
    },
    {
      "cell_type": "code",
      "metadata": {
        "id": "bIezXqPS6GWB"
      },
      "source": [
        ""
      ],
      "execution_count": null,
      "outputs": []
    }
  ]
}