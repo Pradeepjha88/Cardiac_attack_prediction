{
  "nbformat": 4,
  "nbformat_minor": 0,
  "metadata": {
    "kernelspec": {
      "display_name": "Python 3",
      "language": "python",
      "name": "python3"
    },
    "language_info": {
      "codemirror_mode": {
        "name": "ipython",
        "version": 3
      },
      "file_extension": ".py",
      "mimetype": "text/x-python",
      "name": "python",
      "nbconvert_exporter": "python",
      "pygments_lexer": "ipython3",
      "version": "3.7.6"
    },
    "colab": {
      "name": "TS_with_Pandas.ipynb",
      "provenance": [],
      "include_colab_link": true
    }
  },
  "cells": [
    {
      "cell_type": "markdown",
      "metadata": {
        "id": "view-in-github",
        "colab_type": "text"
      },
      "source": [
        "<a href=\"https://colab.research.google.com/github/Pradeepjha88/Cardiac_attack_prediction/blob/master/TS_with_Pandas.ipynb\" target=\"_parent\"><img src=\"https://colab.research.google.com/assets/colab-badge.svg\" alt=\"Open In Colab\"/></a>"
      ]
    },
    {
      "cell_type": "code",
      "metadata": {
        "id": "IHKYmzECszSQ"
      },
      "source": [
        "import pandas as pd"
      ],
      "execution_count": 2,
      "outputs": []
    },
    {
      "cell_type": "markdown",
      "metadata": {
        "id": "K9moZ9l7s548"
      },
      "source": [
        "# New Section"
      ]
    },
    {
      "cell_type": "code",
      "metadata": {
        "id": "W-fOXxOPszSV",
        "outputId": "384c448d-480b-4b28-e142-bb75e1023bf2",
        "colab": {
          "base_uri": "https://localhost:8080/",
          "height": 375
        }
      },
      "source": [
        "df=pd.read_csv(\"HistoricalQuotes.csv\")"
      ],
      "execution_count": 3,
      "outputs": [
        {
          "output_type": "error",
          "ename": "FileNotFoundError",
          "evalue": "ignored",
          "traceback": [
            "\u001b[0;31m---------------------------------------------------------------------------\u001b[0m",
            "\u001b[0;31mFileNotFoundError\u001b[0m                         Traceback (most recent call last)",
            "\u001b[0;32m<ipython-input-3-01419a59425d>\u001b[0m in \u001b[0;36m<module>\u001b[0;34m()\u001b[0m\n\u001b[0;32m----> 1\u001b[0;31m \u001b[0mdf\u001b[0m\u001b[0;34m=\u001b[0m\u001b[0mpd\u001b[0m\u001b[0;34m.\u001b[0m\u001b[0mread_csv\u001b[0m\u001b[0;34m(\u001b[0m\u001b[0;34m\"HistoricalQuotes.csv\"\u001b[0m\u001b[0;34m)\u001b[0m\u001b[0;34m\u001b[0m\u001b[0;34m\u001b[0m\u001b[0m\n\u001b[0m",
            "\u001b[0;32m/usr/local/lib/python3.7/dist-packages/pandas/io/parsers.py\u001b[0m in \u001b[0;36mread_csv\u001b[0;34m(filepath_or_buffer, sep, delimiter, header, names, index_col, usecols, squeeze, prefix, mangle_dupe_cols, dtype, engine, converters, true_values, false_values, skipinitialspace, skiprows, skipfooter, nrows, na_values, keep_default_na, na_filter, verbose, skip_blank_lines, parse_dates, infer_datetime_format, keep_date_col, date_parser, dayfirst, cache_dates, iterator, chunksize, compression, thousands, decimal, lineterminator, quotechar, quoting, doublequote, escapechar, comment, encoding, dialect, error_bad_lines, warn_bad_lines, delim_whitespace, low_memory, memory_map, float_precision)\u001b[0m\n\u001b[1;32m    686\u001b[0m     )\n\u001b[1;32m    687\u001b[0m \u001b[0;34m\u001b[0m\u001b[0m\n\u001b[0;32m--> 688\u001b[0;31m     \u001b[0;32mreturn\u001b[0m \u001b[0m_read\u001b[0m\u001b[0;34m(\u001b[0m\u001b[0mfilepath_or_buffer\u001b[0m\u001b[0;34m,\u001b[0m \u001b[0mkwds\u001b[0m\u001b[0;34m)\u001b[0m\u001b[0;34m\u001b[0m\u001b[0;34m\u001b[0m\u001b[0m\n\u001b[0m\u001b[1;32m    689\u001b[0m \u001b[0;34m\u001b[0m\u001b[0m\n\u001b[1;32m    690\u001b[0m \u001b[0;34m\u001b[0m\u001b[0m\n",
            "\u001b[0;32m/usr/local/lib/python3.7/dist-packages/pandas/io/parsers.py\u001b[0m in \u001b[0;36m_read\u001b[0;34m(filepath_or_buffer, kwds)\u001b[0m\n\u001b[1;32m    452\u001b[0m \u001b[0;34m\u001b[0m\u001b[0m\n\u001b[1;32m    453\u001b[0m     \u001b[0;31m# Create the parser.\u001b[0m\u001b[0;34m\u001b[0m\u001b[0;34m\u001b[0m\u001b[0;34m\u001b[0m\u001b[0m\n\u001b[0;32m--> 454\u001b[0;31m     \u001b[0mparser\u001b[0m \u001b[0;34m=\u001b[0m \u001b[0mTextFileReader\u001b[0m\u001b[0;34m(\u001b[0m\u001b[0mfp_or_buf\u001b[0m\u001b[0;34m,\u001b[0m \u001b[0;34m**\u001b[0m\u001b[0mkwds\u001b[0m\u001b[0;34m)\u001b[0m\u001b[0;34m\u001b[0m\u001b[0;34m\u001b[0m\u001b[0m\n\u001b[0m\u001b[1;32m    455\u001b[0m \u001b[0;34m\u001b[0m\u001b[0m\n\u001b[1;32m    456\u001b[0m     \u001b[0;32mif\u001b[0m \u001b[0mchunksize\u001b[0m \u001b[0;32mor\u001b[0m \u001b[0miterator\u001b[0m\u001b[0;34m:\u001b[0m\u001b[0;34m\u001b[0m\u001b[0;34m\u001b[0m\u001b[0m\n",
            "\u001b[0;32m/usr/local/lib/python3.7/dist-packages/pandas/io/parsers.py\u001b[0m in \u001b[0;36m__init__\u001b[0;34m(self, f, engine, **kwds)\u001b[0m\n\u001b[1;32m    946\u001b[0m             \u001b[0mself\u001b[0m\u001b[0;34m.\u001b[0m\u001b[0moptions\u001b[0m\u001b[0;34m[\u001b[0m\u001b[0;34m\"has_index_names\"\u001b[0m\u001b[0;34m]\u001b[0m \u001b[0;34m=\u001b[0m \u001b[0mkwds\u001b[0m\u001b[0;34m[\u001b[0m\u001b[0;34m\"has_index_names\"\u001b[0m\u001b[0;34m]\u001b[0m\u001b[0;34m\u001b[0m\u001b[0;34m\u001b[0m\u001b[0m\n\u001b[1;32m    947\u001b[0m \u001b[0;34m\u001b[0m\u001b[0m\n\u001b[0;32m--> 948\u001b[0;31m         \u001b[0mself\u001b[0m\u001b[0;34m.\u001b[0m\u001b[0m_make_engine\u001b[0m\u001b[0;34m(\u001b[0m\u001b[0mself\u001b[0m\u001b[0;34m.\u001b[0m\u001b[0mengine\u001b[0m\u001b[0;34m)\u001b[0m\u001b[0;34m\u001b[0m\u001b[0;34m\u001b[0m\u001b[0m\n\u001b[0m\u001b[1;32m    949\u001b[0m \u001b[0;34m\u001b[0m\u001b[0m\n\u001b[1;32m    950\u001b[0m     \u001b[0;32mdef\u001b[0m \u001b[0mclose\u001b[0m\u001b[0;34m(\u001b[0m\u001b[0mself\u001b[0m\u001b[0;34m)\u001b[0m\u001b[0;34m:\u001b[0m\u001b[0;34m\u001b[0m\u001b[0;34m\u001b[0m\u001b[0m\n",
            "\u001b[0;32m/usr/local/lib/python3.7/dist-packages/pandas/io/parsers.py\u001b[0m in \u001b[0;36m_make_engine\u001b[0;34m(self, engine)\u001b[0m\n\u001b[1;32m   1178\u001b[0m     \u001b[0;32mdef\u001b[0m \u001b[0m_make_engine\u001b[0m\u001b[0;34m(\u001b[0m\u001b[0mself\u001b[0m\u001b[0;34m,\u001b[0m \u001b[0mengine\u001b[0m\u001b[0;34m=\u001b[0m\u001b[0;34m\"c\"\u001b[0m\u001b[0;34m)\u001b[0m\u001b[0;34m:\u001b[0m\u001b[0;34m\u001b[0m\u001b[0;34m\u001b[0m\u001b[0m\n\u001b[1;32m   1179\u001b[0m         \u001b[0;32mif\u001b[0m \u001b[0mengine\u001b[0m \u001b[0;34m==\u001b[0m \u001b[0;34m\"c\"\u001b[0m\u001b[0;34m:\u001b[0m\u001b[0;34m\u001b[0m\u001b[0;34m\u001b[0m\u001b[0m\n\u001b[0;32m-> 1180\u001b[0;31m             \u001b[0mself\u001b[0m\u001b[0;34m.\u001b[0m\u001b[0m_engine\u001b[0m \u001b[0;34m=\u001b[0m \u001b[0mCParserWrapper\u001b[0m\u001b[0;34m(\u001b[0m\u001b[0mself\u001b[0m\u001b[0;34m.\u001b[0m\u001b[0mf\u001b[0m\u001b[0;34m,\u001b[0m \u001b[0;34m**\u001b[0m\u001b[0mself\u001b[0m\u001b[0;34m.\u001b[0m\u001b[0moptions\u001b[0m\u001b[0;34m)\u001b[0m\u001b[0;34m\u001b[0m\u001b[0;34m\u001b[0m\u001b[0m\n\u001b[0m\u001b[1;32m   1181\u001b[0m         \u001b[0;32melse\u001b[0m\u001b[0;34m:\u001b[0m\u001b[0;34m\u001b[0m\u001b[0;34m\u001b[0m\u001b[0m\n\u001b[1;32m   1182\u001b[0m             \u001b[0;32mif\u001b[0m \u001b[0mengine\u001b[0m \u001b[0;34m==\u001b[0m \u001b[0;34m\"python\"\u001b[0m\u001b[0;34m:\u001b[0m\u001b[0;34m\u001b[0m\u001b[0;34m\u001b[0m\u001b[0m\n",
            "\u001b[0;32m/usr/local/lib/python3.7/dist-packages/pandas/io/parsers.py\u001b[0m in \u001b[0;36m__init__\u001b[0;34m(self, src, **kwds)\u001b[0m\n\u001b[1;32m   2008\u001b[0m         \u001b[0mkwds\u001b[0m\u001b[0;34m[\u001b[0m\u001b[0;34m\"usecols\"\u001b[0m\u001b[0;34m]\u001b[0m \u001b[0;34m=\u001b[0m \u001b[0mself\u001b[0m\u001b[0;34m.\u001b[0m\u001b[0musecols\u001b[0m\u001b[0;34m\u001b[0m\u001b[0;34m\u001b[0m\u001b[0m\n\u001b[1;32m   2009\u001b[0m \u001b[0;34m\u001b[0m\u001b[0m\n\u001b[0;32m-> 2010\u001b[0;31m         \u001b[0mself\u001b[0m\u001b[0;34m.\u001b[0m\u001b[0m_reader\u001b[0m \u001b[0;34m=\u001b[0m \u001b[0mparsers\u001b[0m\u001b[0;34m.\u001b[0m\u001b[0mTextReader\u001b[0m\u001b[0;34m(\u001b[0m\u001b[0msrc\u001b[0m\u001b[0;34m,\u001b[0m \u001b[0;34m**\u001b[0m\u001b[0mkwds\u001b[0m\u001b[0;34m)\u001b[0m\u001b[0;34m\u001b[0m\u001b[0;34m\u001b[0m\u001b[0m\n\u001b[0m\u001b[1;32m   2011\u001b[0m         \u001b[0mself\u001b[0m\u001b[0;34m.\u001b[0m\u001b[0munnamed_cols\u001b[0m \u001b[0;34m=\u001b[0m \u001b[0mself\u001b[0m\u001b[0;34m.\u001b[0m\u001b[0m_reader\u001b[0m\u001b[0;34m.\u001b[0m\u001b[0munnamed_cols\u001b[0m\u001b[0;34m\u001b[0m\u001b[0;34m\u001b[0m\u001b[0m\n\u001b[1;32m   2012\u001b[0m \u001b[0;34m\u001b[0m\u001b[0m\n",
            "\u001b[0;32mpandas/_libs/parsers.pyx\u001b[0m in \u001b[0;36mpandas._libs.parsers.TextReader.__cinit__\u001b[0;34m()\u001b[0m\n",
            "\u001b[0;32mpandas/_libs/parsers.pyx\u001b[0m in \u001b[0;36mpandas._libs.parsers.TextReader._setup_parser_source\u001b[0;34m()\u001b[0m\n",
            "\u001b[0;31mFileNotFoundError\u001b[0m: [Errno 2] No such file or directory: 'HistoricalQuotes.csv'"
          ]
        }
      ]
    },
    {
      "cell_type": "code",
      "metadata": {
        "id": "ClxkSP5yszSX",
        "outputId": "9d98ad2e-dcb0-4c18-ee9f-4a446a09eb84"
      },
      "source": [
        "df"
      ],
      "execution_count": null,
      "outputs": [
        {
          "output_type": "execute_result",
          "data": {
            "text/html": [
              "<div>\n",
              "<style scoped>\n",
              "    .dataframe tbody tr th:only-of-type {\n",
              "        vertical-align: middle;\n",
              "    }\n",
              "\n",
              "    .dataframe tbody tr th {\n",
              "        vertical-align: top;\n",
              "    }\n",
              "\n",
              "    .dataframe thead th {\n",
              "        text-align: right;\n",
              "    }\n",
              "</style>\n",
              "<table border=\"1\" class=\"dataframe\">\n",
              "  <thead>\n",
              "    <tr style=\"text-align: right;\">\n",
              "      <th></th>\n",
              "      <th>date</th>\n",
              "      <th>close</th>\n",
              "      <th>volume</th>\n",
              "      <th>open</th>\n",
              "      <th>high</th>\n",
              "      <th>low</th>\n",
              "    </tr>\n",
              "  </thead>\n",
              "  <tbody>\n",
              "    <tr>\n",
              "      <th>0</th>\n",
              "      <td>2019/08/10</td>\n",
              "      <td>200.99</td>\n",
              "      <td>24,619,446</td>\n",
              "      <td>201.230</td>\n",
              "      <td>202.760</td>\n",
              "      <td>199.29</td>\n",
              "    </tr>\n",
              "    <tr>\n",
              "      <th>1</th>\n",
              "      <td>2019/08/09</td>\n",
              "      <td>200.99</td>\n",
              "      <td>24619750.0000</td>\n",
              "      <td>201.300</td>\n",
              "      <td>202.760</td>\n",
              "      <td>199.29</td>\n",
              "    </tr>\n",
              "    <tr>\n",
              "      <th>2</th>\n",
              "      <td>2019/08/08</td>\n",
              "      <td>203.43</td>\n",
              "      <td>27009520.0000</td>\n",
              "      <td>200.200</td>\n",
              "      <td>203.530</td>\n",
              "      <td>199.39</td>\n",
              "    </tr>\n",
              "    <tr>\n",
              "      <th>3</th>\n",
              "      <td>2019/08/07</td>\n",
              "      <td>199.04</td>\n",
              "      <td>33364400.0000</td>\n",
              "      <td>195.410</td>\n",
              "      <td>199.560</td>\n",
              "      <td>193.82</td>\n",
              "    </tr>\n",
              "    <tr>\n",
              "      <th>4</th>\n",
              "      <td>2019/08/06</td>\n",
              "      <td>197.00</td>\n",
              "      <td>35824790.0000</td>\n",
              "      <td>196.310</td>\n",
              "      <td>198.067</td>\n",
              "      <td>194.04</td>\n",
              "    </tr>\n",
              "    <tr>\n",
              "      <th>...</th>\n",
              "      <td>...</td>\n",
              "      <td>...</td>\n",
              "      <td>...</td>\n",
              "      <td>...</td>\n",
              "      <td>...</td>\n",
              "      <td>...</td>\n",
              "    </tr>\n",
              "    <tr>\n",
              "      <th>248</th>\n",
              "      <td>2018/08/15</td>\n",
              "      <td>210.24</td>\n",
              "      <td>28595230.0000</td>\n",
              "      <td>209.220</td>\n",
              "      <td>210.740</td>\n",
              "      <td>208.33</td>\n",
              "    </tr>\n",
              "    <tr>\n",
              "      <th>249</th>\n",
              "      <td>2018/08/14</td>\n",
              "      <td>209.75</td>\n",
              "      <td>20679270.0000</td>\n",
              "      <td>210.155</td>\n",
              "      <td>210.560</td>\n",
              "      <td>208.26</td>\n",
              "    </tr>\n",
              "    <tr>\n",
              "      <th>250</th>\n",
              "      <td>2018/08/13</td>\n",
              "      <td>208.87</td>\n",
              "      <td>25864510.0000</td>\n",
              "      <td>207.700</td>\n",
              "      <td>210.952</td>\n",
              "      <td>207.70</td>\n",
              "    </tr>\n",
              "    <tr>\n",
              "      <th>251</th>\n",
              "      <td>2018/08/10</td>\n",
              "      <td>207.53</td>\n",
              "      <td>24592460.0000</td>\n",
              "      <td>207.360</td>\n",
              "      <td>209.100</td>\n",
              "      <td>206.67</td>\n",
              "    </tr>\n",
              "    <tr>\n",
              "      <th>252</th>\n",
              "      <td>2018/08/09</td>\n",
              "      <td>208.88</td>\n",
              "      <td>23389530.0000</td>\n",
              "      <td>207.280</td>\n",
              "      <td>209.780</td>\n",
              "      <td>207.20</td>\n",
              "    </tr>\n",
              "  </tbody>\n",
              "</table>\n",
              "<p>253 rows × 6 columns</p>\n",
              "</div>"
            ],
            "text/plain": [
              "           date   close         volume     open     high     low\n",
              "0    2019/08/10  200.99     24,619,446  201.230  202.760  199.29\n",
              "1    2019/08/09  200.99  24619750.0000  201.300  202.760  199.29\n",
              "2    2019/08/08  203.43  27009520.0000  200.200  203.530  199.39\n",
              "3    2019/08/07  199.04  33364400.0000  195.410  199.560  193.82\n",
              "4    2019/08/06  197.00  35824790.0000  196.310  198.067  194.04\n",
              "..          ...     ...            ...      ...      ...     ...\n",
              "248  2018/08/15  210.24  28595230.0000  209.220  210.740  208.33\n",
              "249  2018/08/14  209.75  20679270.0000  210.155  210.560  208.26\n",
              "250  2018/08/13  208.87  25864510.0000  207.700  210.952  207.70\n",
              "251  2018/08/10  207.53  24592460.0000  207.360  209.100  206.67\n",
              "252  2018/08/09  208.88  23389530.0000  207.280  209.780  207.20\n",
              "\n",
              "[253 rows x 6 columns]"
            ]
          },
          "metadata": {
            "tags": []
          },
          "execution_count": 4
        }
      ]
    },
    {
      "cell_type": "code",
      "metadata": {
        "id": "-aASc9B3szSb",
        "outputId": "a243f9bd-e37d-4bb6-fa8c-1561f2a63fcf"
      },
      "source": [
        "df.head()"
      ],
      "execution_count": null,
      "outputs": [
        {
          "output_type": "execute_result",
          "data": {
            "text/html": [
              "<div>\n",
              "<style scoped>\n",
              "    .dataframe tbody tr th:only-of-type {\n",
              "        vertical-align: middle;\n",
              "    }\n",
              "\n",
              "    .dataframe tbody tr th {\n",
              "        vertical-align: top;\n",
              "    }\n",
              "\n",
              "    .dataframe thead th {\n",
              "        text-align: right;\n",
              "    }\n",
              "</style>\n",
              "<table border=\"1\" class=\"dataframe\">\n",
              "  <thead>\n",
              "    <tr style=\"text-align: right;\">\n",
              "      <th></th>\n",
              "      <th>date</th>\n",
              "      <th>close</th>\n",
              "      <th>volume</th>\n",
              "      <th>open</th>\n",
              "      <th>high</th>\n",
              "      <th>low</th>\n",
              "    </tr>\n",
              "  </thead>\n",
              "  <tbody>\n",
              "    <tr>\n",
              "      <th>0</th>\n",
              "      <td>2019/08/10</td>\n",
              "      <td>200.99</td>\n",
              "      <td>24,619,446</td>\n",
              "      <td>201.23</td>\n",
              "      <td>202.760</td>\n",
              "      <td>199.29</td>\n",
              "    </tr>\n",
              "    <tr>\n",
              "      <th>1</th>\n",
              "      <td>2019/08/09</td>\n",
              "      <td>200.99</td>\n",
              "      <td>24619750.0000</td>\n",
              "      <td>201.30</td>\n",
              "      <td>202.760</td>\n",
              "      <td>199.29</td>\n",
              "    </tr>\n",
              "    <tr>\n",
              "      <th>2</th>\n",
              "      <td>2019/08/08</td>\n",
              "      <td>203.43</td>\n",
              "      <td>27009520.0000</td>\n",
              "      <td>200.20</td>\n",
              "      <td>203.530</td>\n",
              "      <td>199.39</td>\n",
              "    </tr>\n",
              "    <tr>\n",
              "      <th>3</th>\n",
              "      <td>2019/08/07</td>\n",
              "      <td>199.04</td>\n",
              "      <td>33364400.0000</td>\n",
              "      <td>195.41</td>\n",
              "      <td>199.560</td>\n",
              "      <td>193.82</td>\n",
              "    </tr>\n",
              "    <tr>\n",
              "      <th>4</th>\n",
              "      <td>2019/08/06</td>\n",
              "      <td>197.00</td>\n",
              "      <td>35824790.0000</td>\n",
              "      <td>196.31</td>\n",
              "      <td>198.067</td>\n",
              "      <td>194.04</td>\n",
              "    </tr>\n",
              "  </tbody>\n",
              "</table>\n",
              "</div>"
            ],
            "text/plain": [
              "         date   close         volume    open     high     low\n",
              "0  2019/08/10  200.99     24,619,446  201.23  202.760  199.29\n",
              "1  2019/08/09  200.99  24619750.0000  201.30  202.760  199.29\n",
              "2  2019/08/08  203.43  27009520.0000  200.20  203.530  199.39\n",
              "3  2019/08/07  199.04  33364400.0000  195.41  199.560  193.82\n",
              "4  2019/08/06  197.00  35824790.0000  196.31  198.067  194.04"
            ]
          },
          "metadata": {
            "tags": []
          },
          "execution_count": 5
        }
      ]
    },
    {
      "cell_type": "code",
      "metadata": {
        "id": "RnsxjJ-3szSc",
        "outputId": "3610c977-c945-4979-9d8f-bc2a87253707"
      },
      "source": [
        "type(df.date[0])"
      ],
      "execution_count": null,
      "outputs": [
        {
          "output_type": "execute_result",
          "data": {
            "text/plain": [
              "str"
            ]
          },
          "metadata": {
            "tags": []
          },
          "execution_count": 6
        }
      ]
    },
    {
      "cell_type": "code",
      "metadata": {
        "id": "IQkDcW5XszSd"
      },
      "source": [
        "df=pd.read_csv(\"HistoricalQuotes.csv\", parse_dates=[\"date\"])"
      ],
      "execution_count": null,
      "outputs": []
    },
    {
      "cell_type": "code",
      "metadata": {
        "id": "D2MpeHL1szSd",
        "outputId": "6aa77a22-2c66-40da-cc6a-f47819e64474"
      },
      "source": [
        "type(df.date[0])"
      ],
      "execution_count": null,
      "outputs": [
        {
          "output_type": "execute_result",
          "data": {
            "text/plain": [
              "pandas._libs.tslibs.timestamps.Timestamp"
            ]
          },
          "metadata": {
            "tags": []
          },
          "execution_count": 8
        }
      ]
    },
    {
      "cell_type": "code",
      "metadata": {
        "id": "Mp4kzPKZszSe",
        "outputId": "a9da5876-f6c5-4ddd-da6f-0887d50f5abb"
      },
      "source": [
        "df.head()"
      ],
      "execution_count": null,
      "outputs": [
        {
          "output_type": "execute_result",
          "data": {
            "text/html": [
              "<div>\n",
              "<style scoped>\n",
              "    .dataframe tbody tr th:only-of-type {\n",
              "        vertical-align: middle;\n",
              "    }\n",
              "\n",
              "    .dataframe tbody tr th {\n",
              "        vertical-align: top;\n",
              "    }\n",
              "\n",
              "    .dataframe thead th {\n",
              "        text-align: right;\n",
              "    }\n",
              "</style>\n",
              "<table border=\"1\" class=\"dataframe\">\n",
              "  <thead>\n",
              "    <tr style=\"text-align: right;\">\n",
              "      <th></th>\n",
              "      <th>date</th>\n",
              "      <th>close</th>\n",
              "      <th>volume</th>\n",
              "      <th>open</th>\n",
              "      <th>high</th>\n",
              "      <th>low</th>\n",
              "    </tr>\n",
              "  </thead>\n",
              "  <tbody>\n",
              "    <tr>\n",
              "      <th>0</th>\n",
              "      <td>2019-08-10</td>\n",
              "      <td>200.99</td>\n",
              "      <td>24,619,446</td>\n",
              "      <td>201.23</td>\n",
              "      <td>202.760</td>\n",
              "      <td>199.29</td>\n",
              "    </tr>\n",
              "    <tr>\n",
              "      <th>1</th>\n",
              "      <td>2019-08-09</td>\n",
              "      <td>200.99</td>\n",
              "      <td>24619750.0000</td>\n",
              "      <td>201.30</td>\n",
              "      <td>202.760</td>\n",
              "      <td>199.29</td>\n",
              "    </tr>\n",
              "    <tr>\n",
              "      <th>2</th>\n",
              "      <td>2019-08-08</td>\n",
              "      <td>203.43</td>\n",
              "      <td>27009520.0000</td>\n",
              "      <td>200.20</td>\n",
              "      <td>203.530</td>\n",
              "      <td>199.39</td>\n",
              "    </tr>\n",
              "    <tr>\n",
              "      <th>3</th>\n",
              "      <td>2019-08-07</td>\n",
              "      <td>199.04</td>\n",
              "      <td>33364400.0000</td>\n",
              "      <td>195.41</td>\n",
              "      <td>199.560</td>\n",
              "      <td>193.82</td>\n",
              "    </tr>\n",
              "    <tr>\n",
              "      <th>4</th>\n",
              "      <td>2019-08-06</td>\n",
              "      <td>197.00</td>\n",
              "      <td>35824790.0000</td>\n",
              "      <td>196.31</td>\n",
              "      <td>198.067</td>\n",
              "      <td>194.04</td>\n",
              "    </tr>\n",
              "  </tbody>\n",
              "</table>\n",
              "</div>"
            ],
            "text/plain": [
              "        date   close         volume    open     high     low\n",
              "0 2019-08-10  200.99     24,619,446  201.23  202.760  199.29\n",
              "1 2019-08-09  200.99  24619750.0000  201.30  202.760  199.29\n",
              "2 2019-08-08  203.43  27009520.0000  200.20  203.530  199.39\n",
              "3 2019-08-07  199.04  33364400.0000  195.41  199.560  193.82\n",
              "4 2019-08-06  197.00  35824790.0000  196.31  198.067  194.04"
            ]
          },
          "metadata": {
            "tags": []
          },
          "execution_count": 9
        }
      ]
    },
    {
      "cell_type": "code",
      "metadata": {
        "id": "GSVrIbKBszSf"
      },
      "source": [
        "df=pd.read_csv(\"HistoricalQuotes.csv\", parse_dates=[\"date\"], index_col=['date'])"
      ],
      "execution_count": null,
      "outputs": []
    },
    {
      "cell_type": "code",
      "metadata": {
        "id": "mNlq2S9FszSf"
      },
      "source": [
        "df.volume = df.volume.str.replace(\",\",\"\").astype(float)"
      ],
      "execution_count": null,
      "outputs": []
    },
    {
      "cell_type": "code",
      "metadata": {
        "id": "hY1rC5caszSg"
      },
      "source": [
        "df.sort_index(inplace=True)"
      ],
      "execution_count": null,
      "outputs": []
    },
    {
      "cell_type": "code",
      "metadata": {
        "id": "BSiGmUvQszSg",
        "outputId": "489127fd-975a-48d2-d953-84f793abc7bc"
      },
      "source": [
        "df.index"
      ],
      "execution_count": null,
      "outputs": [
        {
          "output_type": "execute_result",
          "data": {
            "text/plain": [
              "DatetimeIndex(['2018-08-09', '2018-08-10', '2018-08-13', '2018-08-14',\n",
              "               '2018-08-15', '2018-08-16', '2018-08-17', '2018-08-20',\n",
              "               '2018-08-21', '2018-08-22',\n",
              "               ...\n",
              "               '2019-07-30', '2019-07-31', '2019-08-01', '2019-08-02',\n",
              "               '2019-08-05', '2019-08-06', '2019-08-07', '2019-08-08',\n",
              "               '2019-08-09', '2019-08-10'],\n",
              "              dtype='datetime64[ns]', name='date', length=253, freq=None)"
            ]
          },
          "metadata": {
            "tags": []
          },
          "execution_count": 53
        }
      ]
    },
    {
      "cell_type": "code",
      "metadata": {
        "scrolled": true,
        "id": "ufXomddaszSg",
        "outputId": "6493fd77-e745-4371-85d5-70fdbcf9ea18"
      },
      "source": [
        "df['2019-08']"
      ],
      "execution_count": null,
      "outputs": [
        {
          "output_type": "execute_result",
          "data": {
            "text/html": [
              "<div>\n",
              "<style scoped>\n",
              "    .dataframe tbody tr th:only-of-type {\n",
              "        vertical-align: middle;\n",
              "    }\n",
              "\n",
              "    .dataframe tbody tr th {\n",
              "        vertical-align: top;\n",
              "    }\n",
              "\n",
              "    .dataframe thead th {\n",
              "        text-align: right;\n",
              "    }\n",
              "</style>\n",
              "<table border=\"1\" class=\"dataframe\">\n",
              "  <thead>\n",
              "    <tr style=\"text-align: right;\">\n",
              "      <th></th>\n",
              "      <th>close</th>\n",
              "      <th>volume</th>\n",
              "      <th>open</th>\n",
              "      <th>high</th>\n",
              "      <th>low</th>\n",
              "    </tr>\n",
              "    <tr>\n",
              "      <th>date</th>\n",
              "      <th></th>\n",
              "      <th></th>\n",
              "      <th></th>\n",
              "      <th></th>\n",
              "      <th></th>\n",
              "    </tr>\n",
              "  </thead>\n",
              "  <tbody>\n",
              "    <tr>\n",
              "      <th>2019-08-01</th>\n",
              "      <td>208.43</td>\n",
              "      <td>54017920.0000</td>\n",
              "      <td>213.90</td>\n",
              "      <td>218.030</td>\n",
              "      <td>206.7435</td>\n",
              "    </tr>\n",
              "    <tr>\n",
              "      <th>2019-08-02</th>\n",
              "      <td>204.02</td>\n",
              "      <td>40862120.0000</td>\n",
              "      <td>205.53</td>\n",
              "      <td>206.430</td>\n",
              "      <td>201.6300</td>\n",
              "    </tr>\n",
              "    <tr>\n",
              "      <th>2019-08-05</th>\n",
              "      <td>193.34</td>\n",
              "      <td>52392970.0000</td>\n",
              "      <td>197.99</td>\n",
              "      <td>198.649</td>\n",
              "      <td>192.5800</td>\n",
              "    </tr>\n",
              "    <tr>\n",
              "      <th>2019-08-06</th>\n",
              "      <td>197.00</td>\n",
              "      <td>35824790.0000</td>\n",
              "      <td>196.31</td>\n",
              "      <td>198.067</td>\n",
              "      <td>194.0400</td>\n",
              "    </tr>\n",
              "    <tr>\n",
              "      <th>2019-08-07</th>\n",
              "      <td>199.04</td>\n",
              "      <td>33364400.0000</td>\n",
              "      <td>195.41</td>\n",
              "      <td>199.560</td>\n",
              "      <td>193.8200</td>\n",
              "    </tr>\n",
              "    <tr>\n",
              "      <th>2019-08-08</th>\n",
              "      <td>203.43</td>\n",
              "      <td>27009520.0000</td>\n",
              "      <td>200.20</td>\n",
              "      <td>203.530</td>\n",
              "      <td>199.3900</td>\n",
              "    </tr>\n",
              "    <tr>\n",
              "      <th>2019-08-09</th>\n",
              "      <td>200.99</td>\n",
              "      <td>24619750.0000</td>\n",
              "      <td>201.30</td>\n",
              "      <td>202.760</td>\n",
              "      <td>199.2900</td>\n",
              "    </tr>\n",
              "    <tr>\n",
              "      <th>2019-08-10</th>\n",
              "      <td>200.99</td>\n",
              "      <td>24,619,446</td>\n",
              "      <td>201.23</td>\n",
              "      <td>202.760</td>\n",
              "      <td>199.2900</td>\n",
              "    </tr>\n",
              "  </tbody>\n",
              "</table>\n",
              "</div>"
            ],
            "text/plain": [
              "             close         volume    open     high       low\n",
              "date                                                        \n",
              "2019-08-01  208.43  54017920.0000  213.90  218.030  206.7435\n",
              "2019-08-02  204.02  40862120.0000  205.53  206.430  201.6300\n",
              "2019-08-05  193.34  52392970.0000  197.99  198.649  192.5800\n",
              "2019-08-06  197.00  35824790.0000  196.31  198.067  194.0400\n",
              "2019-08-07  199.04  33364400.0000  195.41  199.560  193.8200\n",
              "2019-08-08  203.43  27009520.0000  200.20  203.530  199.3900\n",
              "2019-08-09  200.99  24619750.0000  201.30  202.760  199.2900\n",
              "2019-08-10  200.99     24,619,446  201.23  202.760  199.2900"
            ]
          },
          "metadata": {
            "tags": []
          },
          "execution_count": 16
        }
      ]
    },
    {
      "cell_type": "code",
      "metadata": {
        "id": "4_DO4MdtszSh",
        "outputId": "77fbdf7c-6b33-4991-9cce-dc967d9e17d5"
      },
      "source": [
        "df['2019-08'].close"
      ],
      "execution_count": null,
      "outputs": [
        {
          "output_type": "execute_result",
          "data": {
            "text/plain": [
              "date\n",
              "2019-08-01    208.43\n",
              "2019-08-02    204.02\n",
              "2019-08-05    193.34\n",
              "2019-08-06    197.00\n",
              "2019-08-07    199.04\n",
              "2019-08-08    203.43\n",
              "2019-08-09    200.99\n",
              "2019-08-10    200.99\n",
              "Name: close, dtype: float64"
            ]
          },
          "metadata": {
            "tags": []
          },
          "execution_count": 17
        }
      ]
    },
    {
      "cell_type": "code",
      "metadata": {
        "id": "PksvCrDxszSh",
        "outputId": "78a3e848-085d-4357-cb2e-30a9c1e45378"
      },
      "source": [
        "df['2018'].close"
      ],
      "execution_count": null,
      "outputs": [
        {
          "output_type": "execute_result",
          "data": {
            "text/plain": [
              "date\n",
              "2018-08-09    208.88\n",
              "2018-08-10    207.53\n",
              "2018-08-13    208.87\n",
              "2018-08-14    209.75\n",
              "2018-08-15    210.24\n",
              "               ...  \n",
              "2018-12-24    146.83\n",
              "2018-12-26    157.17\n",
              "2018-12-27    156.15\n",
              "2018-12-28    156.23\n",
              "2018-12-31    157.74\n",
              "Name: close, Length: 99, dtype: float64"
            ]
          },
          "metadata": {
            "tags": []
          },
          "execution_count": 26
        }
      ]
    },
    {
      "cell_type": "code",
      "metadata": {
        "id": "-1MbQAATszSi",
        "outputId": "4ed19c82-52fb-4281-d7e9-422f42c4fea7"
      },
      "source": [
        "df['2019-08'].close.mean()"
      ],
      "execution_count": null,
      "outputs": [
        {
          "output_type": "execute_result",
          "data": {
            "text/plain": [
              "200.905"
            ]
          },
          "metadata": {
            "tags": []
          },
          "execution_count": 18
        }
      ]
    },
    {
      "cell_type": "code",
      "metadata": {
        "id": "QK5hyxtdszSk",
        "outputId": "9e9cc598-5370-4b90-b0a3-bc4d406362fa"
      },
      "source": [
        "df['2019-08'].close.median()"
      ],
      "execution_count": null,
      "outputs": [
        {
          "output_type": "execute_result",
          "data": {
            "text/plain": [
              "200.99"
            ]
          },
          "metadata": {
            "tags": []
          },
          "execution_count": 19
        }
      ]
    },
    {
      "cell_type": "code",
      "metadata": {
        "id": "88iZh3vwszSk",
        "outputId": "acd5ab0b-d546-4ce2-eea5-4b1f7d1113a0"
      },
      "source": [
        "df['2019-08'].close.mode()"
      ],
      "execution_count": null,
      "outputs": [
        {
          "output_type": "execute_result",
          "data": {
            "text/plain": [
              "0    200.99\n",
              "dtype: float64"
            ]
          },
          "metadata": {
            "tags": []
          },
          "execution_count": 20
        }
      ]
    },
    {
      "cell_type": "code",
      "metadata": {
        "id": "3RFOY76CszSl",
        "outputId": "5d75d07f-af27-4e31-db98-2313e09ec692"
      },
      "source": [
        "df.loc['2019-08-02']"
      ],
      "execution_count": null,
      "outputs": [
        {
          "output_type": "execute_result",
          "data": {
            "text/plain": [
              "close            204.02\n",
              "volume    40862120.0000\n",
              "open             205.53\n",
              "high             206.43\n",
              "low              201.63\n",
              "Name: 2019-08-02 00:00:00, dtype: object"
            ]
          },
          "metadata": {
            "tags": []
          },
          "execution_count": 25
        }
      ]
    },
    {
      "cell_type": "code",
      "metadata": {
        "id": "XMTf9KRFszSm",
        "outputId": "d66d2785-3453-4502-9e13-620a08413d10"
      },
      "source": [
        "df['2019-07-09':'2019-08-09'] # Time :: count ticks from midnight 1/1/1971"
      ],
      "execution_count": null,
      "outputs": [
        {
          "output_type": "execute_result",
          "data": {
            "text/html": [
              "<div>\n",
              "<style scoped>\n",
              "    .dataframe tbody tr th:only-of-type {\n",
              "        vertical-align: middle;\n",
              "    }\n",
              "\n",
              "    .dataframe tbody tr th {\n",
              "        vertical-align: top;\n",
              "    }\n",
              "\n",
              "    .dataframe thead th {\n",
              "        text-align: right;\n",
              "    }\n",
              "</style>\n",
              "<table border=\"1\" class=\"dataframe\">\n",
              "  <thead>\n",
              "    <tr style=\"text-align: right;\">\n",
              "      <th></th>\n",
              "      <th>close</th>\n",
              "      <th>volume</th>\n",
              "      <th>open</th>\n",
              "      <th>high</th>\n",
              "      <th>low</th>\n",
              "    </tr>\n",
              "    <tr>\n",
              "      <th>date</th>\n",
              "      <th></th>\n",
              "      <th></th>\n",
              "      <th></th>\n",
              "      <th></th>\n",
              "      <th></th>\n",
              "    </tr>\n",
              "  </thead>\n",
              "  <tbody>\n",
              "    <tr>\n",
              "      <th>2019-07-09</th>\n",
              "      <td>201.24</td>\n",
              "      <td>20578020.0000</td>\n",
              "      <td>199.20</td>\n",
              "      <td>201.5100</td>\n",
              "      <td>198.8100</td>\n",
              "    </tr>\n",
              "    <tr>\n",
              "      <th>2019-07-10</th>\n",
              "      <td>203.23</td>\n",
              "      <td>17897140.0000</td>\n",
              "      <td>201.85</td>\n",
              "      <td>203.7300</td>\n",
              "      <td>201.5600</td>\n",
              "    </tr>\n",
              "    <tr>\n",
              "      <th>2019-07-11</th>\n",
              "      <td>201.75</td>\n",
              "      <td>20191840.0000</td>\n",
              "      <td>203.31</td>\n",
              "      <td>204.3900</td>\n",
              "      <td>201.7100</td>\n",
              "    </tr>\n",
              "    <tr>\n",
              "      <th>2019-07-12</th>\n",
              "      <td>203.30</td>\n",
              "      <td>17595210.0000</td>\n",
              "      <td>202.45</td>\n",
              "      <td>204.0000</td>\n",
              "      <td>202.2000</td>\n",
              "    </tr>\n",
              "    <tr>\n",
              "      <th>2019-07-15</th>\n",
              "      <td>205.21</td>\n",
              "      <td>16947420.0000</td>\n",
              "      <td>204.09</td>\n",
              "      <td>205.8700</td>\n",
              "      <td>204.0000</td>\n",
              "    </tr>\n",
              "    <tr>\n",
              "      <th>2019-07-16</th>\n",
              "      <td>204.50</td>\n",
              "      <td>16866820.0000</td>\n",
              "      <td>204.59</td>\n",
              "      <td>206.1100</td>\n",
              "      <td>203.5000</td>\n",
              "    </tr>\n",
              "    <tr>\n",
              "      <th>2019-07-17</th>\n",
              "      <td>203.35</td>\n",
              "      <td>14107450.0000</td>\n",
              "      <td>204.05</td>\n",
              "      <td>205.0915</td>\n",
              "      <td>203.2700</td>\n",
              "    </tr>\n",
              "    <tr>\n",
              "      <th>2019-07-18</th>\n",
              "      <td>205.66</td>\n",
              "      <td>18582160.0000</td>\n",
              "      <td>204.00</td>\n",
              "      <td>205.8800</td>\n",
              "      <td>203.7000</td>\n",
              "    </tr>\n",
              "    <tr>\n",
              "      <th>2019-07-19</th>\n",
              "      <td>202.59</td>\n",
              "      <td>20929310.0000</td>\n",
              "      <td>205.79</td>\n",
              "      <td>206.5000</td>\n",
              "      <td>202.3600</td>\n",
              "    </tr>\n",
              "    <tr>\n",
              "      <th>2019-07-22</th>\n",
              "      <td>207.22</td>\n",
              "      <td>22277930.0000</td>\n",
              "      <td>203.65</td>\n",
              "      <td>207.2300</td>\n",
              "      <td>203.6100</td>\n",
              "    </tr>\n",
              "    <tr>\n",
              "      <th>2019-07-23</th>\n",
              "      <td>208.84</td>\n",
              "      <td>18355210.0000</td>\n",
              "      <td>208.46</td>\n",
              "      <td>208.9100</td>\n",
              "      <td>207.2900</td>\n",
              "    </tr>\n",
              "    <tr>\n",
              "      <th>2019-07-24</th>\n",
              "      <td>208.67</td>\n",
              "      <td>14991570.0000</td>\n",
              "      <td>207.67</td>\n",
              "      <td>209.1500</td>\n",
              "      <td>207.1700</td>\n",
              "    </tr>\n",
              "    <tr>\n",
              "      <th>2019-07-25</th>\n",
              "      <td>207.02</td>\n",
              "      <td>13909560.0000</td>\n",
              "      <td>208.89</td>\n",
              "      <td>209.2400</td>\n",
              "      <td>206.7300</td>\n",
              "    </tr>\n",
              "    <tr>\n",
              "      <th>2019-07-26</th>\n",
              "      <td>207.74</td>\n",
              "      <td>17618870.0000</td>\n",
              "      <td>207.48</td>\n",
              "      <td>209.7300</td>\n",
              "      <td>207.1400</td>\n",
              "    </tr>\n",
              "    <tr>\n",
              "      <th>2019-07-29</th>\n",
              "      <td>209.68</td>\n",
              "      <td>21673390.0000</td>\n",
              "      <td>208.46</td>\n",
              "      <td>210.6400</td>\n",
              "      <td>208.4400</td>\n",
              "    </tr>\n",
              "    <tr>\n",
              "      <th>2019-07-30</th>\n",
              "      <td>208.78</td>\n",
              "      <td>33935720.0000</td>\n",
              "      <td>208.76</td>\n",
              "      <td>210.1600</td>\n",
              "      <td>207.3100</td>\n",
              "    </tr>\n",
              "    <tr>\n",
              "      <th>2019-07-31</th>\n",
              "      <td>213.04</td>\n",
              "      <td>69281360.0000</td>\n",
              "      <td>216.42</td>\n",
              "      <td>221.3700</td>\n",
              "      <td>211.3000</td>\n",
              "    </tr>\n",
              "    <tr>\n",
              "      <th>2019-08-01</th>\n",
              "      <td>208.43</td>\n",
              "      <td>54017920.0000</td>\n",
              "      <td>213.90</td>\n",
              "      <td>218.0300</td>\n",
              "      <td>206.7435</td>\n",
              "    </tr>\n",
              "    <tr>\n",
              "      <th>2019-08-02</th>\n",
              "      <td>204.02</td>\n",
              "      <td>40862120.0000</td>\n",
              "      <td>205.53</td>\n",
              "      <td>206.4300</td>\n",
              "      <td>201.6300</td>\n",
              "    </tr>\n",
              "    <tr>\n",
              "      <th>2019-08-05</th>\n",
              "      <td>193.34</td>\n",
              "      <td>52392970.0000</td>\n",
              "      <td>197.99</td>\n",
              "      <td>198.6490</td>\n",
              "      <td>192.5800</td>\n",
              "    </tr>\n",
              "    <tr>\n",
              "      <th>2019-08-06</th>\n",
              "      <td>197.00</td>\n",
              "      <td>35824790.0000</td>\n",
              "      <td>196.31</td>\n",
              "      <td>198.0670</td>\n",
              "      <td>194.0400</td>\n",
              "    </tr>\n",
              "    <tr>\n",
              "      <th>2019-08-07</th>\n",
              "      <td>199.04</td>\n",
              "      <td>33364400.0000</td>\n",
              "      <td>195.41</td>\n",
              "      <td>199.5600</td>\n",
              "      <td>193.8200</td>\n",
              "    </tr>\n",
              "    <tr>\n",
              "      <th>2019-08-08</th>\n",
              "      <td>203.43</td>\n",
              "      <td>27009520.0000</td>\n",
              "      <td>200.20</td>\n",
              "      <td>203.5300</td>\n",
              "      <td>199.3900</td>\n",
              "    </tr>\n",
              "    <tr>\n",
              "      <th>2019-08-09</th>\n",
              "      <td>200.99</td>\n",
              "      <td>24619750.0000</td>\n",
              "      <td>201.30</td>\n",
              "      <td>202.7600</td>\n",
              "      <td>199.2900</td>\n",
              "    </tr>\n",
              "  </tbody>\n",
              "</table>\n",
              "</div>"
            ],
            "text/plain": [
              "             close         volume    open      high       low\n",
              "date                                                         \n",
              "2019-07-09  201.24  20578020.0000  199.20  201.5100  198.8100\n",
              "2019-07-10  203.23  17897140.0000  201.85  203.7300  201.5600\n",
              "2019-07-11  201.75  20191840.0000  203.31  204.3900  201.7100\n",
              "2019-07-12  203.30  17595210.0000  202.45  204.0000  202.2000\n",
              "2019-07-15  205.21  16947420.0000  204.09  205.8700  204.0000\n",
              "2019-07-16  204.50  16866820.0000  204.59  206.1100  203.5000\n",
              "2019-07-17  203.35  14107450.0000  204.05  205.0915  203.2700\n",
              "2019-07-18  205.66  18582160.0000  204.00  205.8800  203.7000\n",
              "2019-07-19  202.59  20929310.0000  205.79  206.5000  202.3600\n",
              "2019-07-22  207.22  22277930.0000  203.65  207.2300  203.6100\n",
              "2019-07-23  208.84  18355210.0000  208.46  208.9100  207.2900\n",
              "2019-07-24  208.67  14991570.0000  207.67  209.1500  207.1700\n",
              "2019-07-25  207.02  13909560.0000  208.89  209.2400  206.7300\n",
              "2019-07-26  207.74  17618870.0000  207.48  209.7300  207.1400\n",
              "2019-07-29  209.68  21673390.0000  208.46  210.6400  208.4400\n",
              "2019-07-30  208.78  33935720.0000  208.76  210.1600  207.3100\n",
              "2019-07-31  213.04  69281360.0000  216.42  221.3700  211.3000\n",
              "2019-08-01  208.43  54017920.0000  213.90  218.0300  206.7435\n",
              "2019-08-02  204.02  40862120.0000  205.53  206.4300  201.6300\n",
              "2019-08-05  193.34  52392970.0000  197.99  198.6490  192.5800\n",
              "2019-08-06  197.00  35824790.0000  196.31  198.0670  194.0400\n",
              "2019-08-07  199.04  33364400.0000  195.41  199.5600  193.8200\n",
              "2019-08-08  203.43  27009520.0000  200.20  203.5300  199.3900\n",
              "2019-08-09  200.99  24619750.0000  201.30  202.7600  199.2900"
            ]
          },
          "metadata": {
            "tags": []
          },
          "execution_count": 29
        }
      ]
    },
    {
      "cell_type": "code",
      "metadata": {
        "id": "z0aCR1AnszSn",
        "outputId": "21c9f500-19bd-410a-a8cc-1bd74dc5feb4"
      },
      "source": [
        "list(df.close.resample(\"M\"))"
      ],
      "execution_count": null,
      "outputs": [
        {
          "output_type": "execute_result",
          "data": {
            "text/plain": [
              "[(Timestamp('2018-08-31 00:00:00', freq='M'),\n",
              "  date\n",
              "  2018-08-09    208.88\n",
              "  2018-08-10    207.53\n",
              "  2018-08-13    208.87\n",
              "  2018-08-14    209.75\n",
              "  2018-08-15    210.24\n",
              "  2018-08-16    213.32\n",
              "  2018-08-17    217.58\n",
              "  2018-08-20    215.46\n",
              "  2018-08-21    215.04\n",
              "  2018-08-22    215.05\n",
              "  2018-08-23    215.49\n",
              "  2018-08-24    216.16\n",
              "  2018-08-27    217.94\n",
              "  2018-08-28    219.70\n",
              "  2018-08-29    222.98\n",
              "  2018-08-30    225.03\n",
              "  2018-08-31    227.63\n",
              "  Name: close, dtype: float64),\n",
              " (Timestamp('2018-09-30 00:00:00', freq='M'),\n",
              "  date\n",
              "  2018-09-04    228.36\n",
              "  2018-09-05    226.87\n",
              "  2018-09-06    223.10\n",
              "  2018-09-07    221.30\n",
              "  2018-09-10    218.33\n",
              "  2018-09-11    223.85\n",
              "  2018-09-12    221.07\n",
              "  2018-09-13    226.41\n",
              "  2018-09-14    223.84\n",
              "  2018-09-17    217.88\n",
              "  2018-09-18    218.24\n",
              "  2018-09-19    218.37\n",
              "  2018-09-20    220.03\n",
              "  2018-09-21    217.66\n",
              "  2018-09-24    220.79\n",
              "  2018-09-25    222.19\n",
              "  2018-09-26    220.42\n",
              "  2018-09-27    224.95\n",
              "  2018-09-28    225.74\n",
              "  Name: close, dtype: float64),\n",
              " (Timestamp('2018-10-31 00:00:00', freq='M'),\n",
              "  date\n",
              "  2018-10-01    227.26\n",
              "  2018-10-02    229.28\n",
              "  2018-10-03    232.07\n",
              "  2018-10-04    227.99\n",
              "  2018-10-05    224.29\n",
              "  2018-10-08    223.77\n",
              "  2018-10-09    226.87\n",
              "  2018-10-10    216.36\n",
              "  2018-10-11    214.45\n",
              "  2018-10-12    222.11\n",
              "  2018-10-15    217.36\n",
              "  2018-10-16    222.15\n",
              "  2018-10-17    221.19\n",
              "  2018-10-18    216.02\n",
              "  2018-10-19    219.31\n",
              "  2018-10-22    220.65\n",
              "  2018-10-23    222.73\n",
              "  2018-10-24    215.09\n",
              "  2018-10-25    219.80\n",
              "  2018-10-26    216.30\n",
              "  2018-10-29    212.24\n",
              "  2018-10-30    213.30\n",
              "  2018-10-31    218.86\n",
              "  Name: close, dtype: float64),\n",
              " (Timestamp('2018-11-30 00:00:00', freq='M'),\n",
              "  date\n",
              "  2018-11-01    222.22\n",
              "  2018-11-02    207.48\n",
              "  2018-11-05    201.59\n",
              "  2018-11-06    203.77\n",
              "  2018-11-07    209.95\n",
              "  2018-11-08    208.49\n",
              "  2018-11-09    204.47\n",
              "  2018-11-12    194.17\n",
              "  2018-11-13    192.23\n",
              "  2018-11-14    186.80\n",
              "  2018-11-15    191.41\n",
              "  2018-11-16    193.53\n",
              "  2018-11-19    185.86\n",
              "  2018-11-20    176.98\n",
              "  2018-11-21    176.78\n",
              "  2018-11-23    172.29\n",
              "  2018-11-26    174.62\n",
              "  2018-11-27    174.24\n",
              "  2018-11-28    180.94\n",
              "  2018-11-29    179.55\n",
              "  2018-11-30    178.58\n",
              "  Name: close, dtype: float64),\n",
              " (Timestamp('2018-12-31 00:00:00', freq='M'),\n",
              "  date\n",
              "  2018-12-03    184.82\n",
              "  2018-12-04    176.69\n",
              "  2018-12-06    174.72\n",
              "  2018-12-07    168.49\n",
              "  2018-12-10    169.60\n",
              "  2018-12-11    168.63\n",
              "  2018-12-12    169.10\n",
              "  2018-12-13    170.95\n",
              "  2018-12-14    165.48\n",
              "  2018-12-17    163.94\n",
              "  2018-12-18    166.07\n",
              "  2018-12-19    160.89\n",
              "  2018-12-20    156.83\n",
              "  2018-12-21    150.73\n",
              "  2018-12-24    146.83\n",
              "  2018-12-26    157.17\n",
              "  2018-12-27    156.15\n",
              "  2018-12-28    156.23\n",
              "  2018-12-31    157.74\n",
              "  Name: close, dtype: float64),\n",
              " (Timestamp('2019-01-31 00:00:00', freq='M'),\n",
              "  date\n",
              "  2019-01-02    157.92\n",
              "  2019-01-03    142.19\n",
              "  2019-01-04    148.26\n",
              "  2019-01-07    147.93\n",
              "  2019-01-08    150.75\n",
              "  2019-01-09    153.31\n",
              "  2019-01-10    153.80\n",
              "  2019-01-11    152.29\n",
              "  2019-01-14    150.00\n",
              "  2019-01-15    153.07\n",
              "  2019-01-16    154.94\n",
              "  2019-01-17    155.86\n",
              "  2019-01-18    156.82\n",
              "  2019-01-22    153.30\n",
              "  2019-01-23    153.92\n",
              "  2019-01-24    152.70\n",
              "  2019-01-25    157.76\n",
              "  2019-01-28    156.30\n",
              "  2019-01-29    154.68\n",
              "  2019-01-30    165.25\n",
              "  2019-01-31    166.44\n",
              "  Name: close, dtype: float64),\n",
              " (Timestamp('2019-02-28 00:00:00', freq='M'),\n",
              "  date\n",
              "  2019-02-01    166.52\n",
              "  2019-02-04    171.25\n",
              "  2019-02-05    174.18\n",
              "  2019-02-06    174.24\n",
              "  2019-02-07    170.94\n",
              "  2019-02-08    170.41\n",
              "  2019-02-11    169.43\n",
              "  2019-02-12    170.89\n",
              "  2019-02-13    170.18\n",
              "  2019-02-14    170.80\n",
              "  2019-02-15    170.42\n",
              "  2019-02-19    170.93\n",
              "  2019-02-20    172.03\n",
              "  2019-02-21    171.06\n",
              "  2019-02-22    172.97\n",
              "  2019-02-25    174.23\n",
              "  2019-02-26    174.33\n",
              "  2019-02-27    174.87\n",
              "  2019-02-28    173.15\n",
              "  Name: close, dtype: float64),\n",
              " (Timestamp('2019-03-31 00:00:00', freq='M'),\n",
              "  date\n",
              "  2019-03-01    174.97\n",
              "  2019-03-04    175.85\n",
              "  2019-03-05    175.53\n",
              "  2019-03-06    174.52\n",
              "  2019-03-07    172.50\n",
              "  2019-03-08    172.91\n",
              "  2019-03-11    178.90\n",
              "  2019-03-12    180.91\n",
              "  2019-03-13    181.71\n",
              "  2019-03-14    183.73\n",
              "  2019-03-15    186.12\n",
              "  2019-03-18    188.02\n",
              "  2019-03-19    186.53\n",
              "  2019-03-20    188.16\n",
              "  2019-03-21    195.09\n",
              "  2019-03-22    191.05\n",
              "  2019-03-25    188.74\n",
              "  2019-03-26    186.79\n",
              "  2019-03-27    188.47\n",
              "  2019-03-28    188.72\n",
              "  2019-03-29    189.95\n",
              "  Name: close, dtype: float64),\n",
              " (Timestamp('2019-04-30 00:00:00', freq='M'),\n",
              "  date\n",
              "  2019-04-01    191.24\n",
              "  2019-04-02    194.02\n",
              "  2019-04-03    195.35\n",
              "  2019-04-04    195.69\n",
              "  2019-04-05    197.00\n",
              "  2019-04-08    200.10\n",
              "  2019-04-09    199.50\n",
              "  2019-04-10    200.62\n",
              "  2019-04-11    198.95\n",
              "  2019-04-12    198.87\n",
              "  2019-04-15    199.23\n",
              "  2019-04-16    199.25\n",
              "  2019-04-17    203.13\n",
              "  2019-04-18    203.86\n",
              "  2019-04-22    204.53\n",
              "  2019-04-23    207.48\n",
              "  2019-04-24    207.16\n",
              "  2019-04-25    205.28\n",
              "  2019-04-26    204.30\n",
              "  2019-04-29    204.61\n",
              "  2019-04-30    200.67\n",
              "  Name: close, dtype: float64),\n",
              " (Timestamp('2019-05-31 00:00:00', freq='M'),\n",
              "  date\n",
              "  2019-05-01    210.52\n",
              "  2019-05-02    209.15\n",
              "  2019-05-03    211.75\n",
              "  2019-05-06    208.48\n",
              "  2019-05-07    202.86\n",
              "  2019-05-08    202.90\n",
              "  2019-05-09    200.72\n",
              "  2019-05-10    197.18\n",
              "  2019-05-13    185.72\n",
              "  2019-05-14    188.66\n",
              "  2019-05-15    190.92\n",
              "  2019-05-16    190.08\n",
              "  2019-05-17    189.00\n",
              "  2019-05-20    183.09\n",
              "  2019-05-21    186.60\n",
              "  2019-05-22    182.78\n",
              "  2019-05-23    179.66\n",
              "  2019-05-24    178.97\n",
              "  2019-05-28    178.23\n",
              "  2019-05-29    177.38\n",
              "  2019-05-30    178.30\n",
              "  2019-05-31    175.07\n",
              "  Name: close, dtype: float64),\n",
              " (Timestamp('2019-06-30 00:00:00', freq='M'),\n",
              "  date\n",
              "  2019-06-03    173.30\n",
              "  2019-06-04    179.64\n",
              "  2019-06-05    182.54\n",
              "  2019-06-06    185.22\n",
              "  2019-06-07    190.15\n",
              "  2019-06-10    192.58\n",
              "  2019-06-11    194.81\n",
              "  2019-06-12    194.19\n",
              "  2019-06-13    194.15\n",
              "  2019-06-14    192.74\n",
              "  2019-06-17    193.89\n",
              "  2019-06-18    198.45\n",
              "  2019-06-19    197.87\n",
              "  2019-06-20    199.46\n",
              "  2019-06-21    198.78\n",
              "  2019-06-24    198.58\n",
              "  2019-06-25    195.57\n",
              "  2019-06-26    199.80\n",
              "  2019-06-27    199.74\n",
              "  2019-06-28    197.92\n",
              "  Name: close, dtype: float64),\n",
              " (Timestamp('2019-07-31 00:00:00', freq='M'),\n",
              "  date\n",
              "  2019-07-01    201.55\n",
              "  2019-07-02    202.73\n",
              "  2019-07-03    204.41\n",
              "  2019-07-05    204.23\n",
              "  2019-07-08    200.02\n",
              "  2019-07-09    201.24\n",
              "  2019-07-10    203.23\n",
              "  2019-07-11    201.75\n",
              "  2019-07-12    203.30\n",
              "  2019-07-15    205.21\n",
              "  2019-07-16    204.50\n",
              "  2019-07-17    203.35\n",
              "  2019-07-18    205.66\n",
              "  2019-07-19    202.59\n",
              "  2019-07-22    207.22\n",
              "  2019-07-23    208.84\n",
              "  2019-07-24    208.67\n",
              "  2019-07-25    207.02\n",
              "  2019-07-26    207.74\n",
              "  2019-07-29    209.68\n",
              "  2019-07-30    208.78\n",
              "  2019-07-31    213.04\n",
              "  Name: close, dtype: float64),\n",
              " (Timestamp('2019-08-31 00:00:00', freq='M'),\n",
              "  date\n",
              "  2019-08-01    208.43\n",
              "  2019-08-02    204.02\n",
              "  2019-08-05    193.34\n",
              "  2019-08-06    197.00\n",
              "  2019-08-07    199.04\n",
              "  2019-08-08    203.43\n",
              "  2019-08-09    200.99\n",
              "  2019-08-10    200.99\n",
              "  Name: close, dtype: float64)]"
            ]
          },
          "metadata": {
            "tags": []
          },
          "execution_count": 24
        }
      ]
    },
    {
      "cell_type": "code",
      "metadata": {
        "id": "SbPqpPKoszSp",
        "outputId": "a92b5099-e9f6-4372-a3ce-bcfce01ef9ea"
      },
      "source": [
        "for month_data in list(df.resample(\"M\")):\n",
        "    s = pd.DataFrame(month_data)\n",
        "    print(type(month_data),type(s))"
      ],
      "execution_count": null,
      "outputs": [
        {
          "output_type": "stream",
          "text": [
            "<class 'tuple'> <class 'pandas.core.frame.DataFrame'>\n",
            "<class 'tuple'> <class 'pandas.core.frame.DataFrame'>\n",
            "<class 'tuple'> <class 'pandas.core.frame.DataFrame'>\n",
            "<class 'tuple'> <class 'pandas.core.frame.DataFrame'>\n",
            "<class 'tuple'> <class 'pandas.core.frame.DataFrame'>\n",
            "<class 'tuple'> <class 'pandas.core.frame.DataFrame'>\n",
            "<class 'tuple'> <class 'pandas.core.frame.DataFrame'>\n",
            "<class 'tuple'> <class 'pandas.core.frame.DataFrame'>\n",
            "<class 'tuple'> <class 'pandas.core.frame.DataFrame'>\n",
            "<class 'tuple'> <class 'pandas.core.frame.DataFrame'>\n",
            "<class 'tuple'> <class 'pandas.core.frame.DataFrame'>\n",
            "<class 'tuple'> <class 'pandas.core.frame.DataFrame'>\n",
            "<class 'tuple'> <class 'pandas.core.frame.DataFrame'>\n"
          ],
          "name": "stdout"
        }
      ]
    },
    {
      "cell_type": "code",
      "metadata": {
        "id": "GjcsG-eBszSr",
        "outputId": "dc478e81-9c7b-43f8-d6ff-7fcbbf1910cf"
      },
      "source": [
        "df.close.resample(\"Q\").mean()"
      ],
      "execution_count": null,
      "outputs": [
        {
          "output_type": "execute_result",
          "data": {
            "text/plain": [
              "date\n",
              "2018-09-30    219.056944\n",
              "2018-12-31    193.912063\n",
              "2019-03-31    169.663770\n",
              "2019-06-30    194.892698\n",
              "2019-09-30    204.066667\n",
              "Freq: Q-DEC, Name: close, dtype: float64"
            ]
          },
          "metadata": {
            "tags": []
          },
          "execution_count": 35
        }
      ]
    },
    {
      "cell_type": "code",
      "metadata": {
        "id": "ClobyLvfszSr",
        "outputId": "7dda80bb-5b32-48c4-85fe-8035f472f552"
      },
      "source": [
        "%matplotlib inline\n",
        "df.close.resample(\"M\").median().plot()"
      ],
      "execution_count": null,
      "outputs": [
        {
          "output_type": "execute_result",
          "data": {
            "text/plain": [
              "<matplotlib.axes._subplots.AxesSubplot at 0x2b14f37fd08>"
            ]
          },
          "metadata": {
            "tags": []
          },
          "execution_count": 40
        },
        {
          "output_type": "display_data",
          "data": {
            "image/png": "[encoded data removed]",
            "text/plain": [
              "<Figure size 432x288 with 1 Axes>"
            ]
          },
          "metadata": {
            "tags": [],
            "needs_background": "light"
          }
        }
      ]
    },
    {
      "cell_type": "code",
      "metadata": {
        "id": "y65blBGZszSs",
        "outputId": "d636b08d-6c0e-4216-8edb-259e1788f04d"
      },
      "source": [
        "df.close.resample(\"W\").mean().plot()"
      ],
      "execution_count": null,
      "outputs": [
        {
          "output_type": "execute_result",
          "data": {
            "text/plain": [
              "<matplotlib.axes._subplots.AxesSubplot at 0x1f482c36908>"
            ]
          },
          "metadata": {
            "tags": []
          },
          "execution_count": 26
        },
        {
          "output_type": "display_data",
          "data": {
            "image/png": "[encoded data removed]",
            "text/plain": [
              "<Figure size 432x288 with 1 Axes>"
            ]
          },
          "metadata": {
            "tags": [],
            "needs_background": "light"
          }
        }
      ]
    },
    {
      "cell_type": "code",
      "metadata": {
        "id": "dRSnie1xszSt",
        "outputId": "7f4888d1-4b8e-426b-aa3e-c14b30581446"
      },
      "source": [
        "df.close.resample(\"D\").mean().plot()"
      ],
      "execution_count": null,
      "outputs": [
        {
          "output_type": "execute_result",
          "data": {
            "text/plain": [
              "<matplotlib.axes._subplots.AxesSubplot at 0x2b14e558888>"
            ]
          },
          "metadata": {
            "tags": []
          },
          "execution_count": 36
        },
        {
          "output_type": "display_data",
          "data": {
            "image/png": "[encoded data removed]",
            "text/plain": [
              "<Figure size 432x288 with 1 Axes>"
            ]
          },
          "metadata": {
            "tags": [],
            "needs_background": "light"
          }
        }
      ]
    },
    {
      "cell_type": "code",
      "metadata": {
        "id": "2044JG0EszSu",
        "outputId": "6c691535-9c7e-49fb-b9a9-c8abaa0333be"
      },
      "source": [
        "df.close.resample(\"B\").mean().plot()"
      ],
      "execution_count": null,
      "outputs": [
        {
          "output_type": "execute_result",
          "data": {
            "text/plain": [
              "<matplotlib.axes._subplots.AxesSubplot at 0x1f482e5f4c8>"
            ]
          },
          "metadata": {
            "tags": []
          },
          "execution_count": 28
        },
        {
          "output_type": "display_data",
          "data": {
            "image/png": "[encoded data removed]",
            "text/plain": [
              "<Figure size 432x288 with 1 Axes>"
            ]
          },
          "metadata": {
            "tags": [],
            "needs_background": "light"
          }
        }
      ]
    },
    {
      "cell_type": "code",
      "metadata": {
        "id": "cEksXSXoszSv",
        "outputId": "2a75d4ac-3ff5-4513-c7b4-c71dc07379cd"
      },
      "source": [
        "Quarterly_resampled_data = df.open.resample('Q').mean().plot()"
      ],
      "execution_count": null,
      "outputs": [
        {
          "output_type": "display_data",
          "data": {
            "image/png": "[encoded data removed]",
            "text/plain": [
              "<Figure size 432x288 with 1 Axes>"
            ]
          },
          "metadata": {
            "tags": [],
            "needs_background": "light"
          }
        }
      ]
    },
    {
      "cell_type": "code",
      "metadata": {
        "id": "eimCywvjszSw",
        "outputId": "a91f8469-57af-460d-adfb-a7c6c7f7044f"
      },
      "source": [
        "period = 15\n",
        "pd.date_range('2019-02', freq='MS', periods=period)"
      ],
      "execution_count": null,
      "outputs": [
        {
          "output_type": "execute_result",
          "data": {
            "text/plain": [
              "DatetimeIndex(['2019-02-01', '2019-03-01', '2019-04-01', '2019-05-01',\n",
              "               '2019-06-01', '2019-07-01', '2019-08-01', '2019-09-01',\n",
              "               '2019-10-01', '2019-11-01', '2019-12-01', '2020-01-01',\n",
              "               '2020-02-01', '2020-03-01', '2020-04-01'],\n",
              "              dtype='datetime64[ns]', freq='MS')"
            ]
          },
          "metadata": {
            "tags": []
          },
          "execution_count": 44
        }
      ]
    },
    {
      "cell_type": "code",
      "metadata": {
        "id": "BmeUAoyhszSx",
        "outputId": "1aa7a7f7-1de2-4186-9e07-7cb95f2832f9"
      },
      "source": [
        "dr = pd.date_range('2019-02', '2020-08',freq='MS')\n",
        "print(dr)\n",
        "len(dr)"
      ],
      "execution_count": null,
      "outputs": [
        {
          "output_type": "stream",
          "text": [
            "DatetimeIndex(['2019-02-01', '2019-03-01', '2019-04-01', '2019-05-01',\n",
            "               '2019-06-01', '2019-07-01', '2019-08-01', '2019-09-01',\n",
            "               '2019-10-01', '2019-11-01', '2019-12-01', '2020-01-01',\n",
            "               '2020-02-01', '2020-03-01', '2020-04-01', '2020-05-01',\n",
            "               '2020-06-01', '2020-07-01', '2020-08-01'],\n",
            "              dtype='datetime64[ns]', freq='MS')\n"
          ],
          "name": "stdout"
        },
        {
          "output_type": "execute_result",
          "data": {
            "text/plain": [
              "19"
            ]
          },
          "metadata": {
            "tags": []
          },
          "execution_count": 46
        }
      ]
    },
    {
      "cell_type": "code",
      "metadata": {
        "id": "4xsRUaUZszSz",
        "outputId": "b8a9425f-7175-4c78-c854-3dd26e93c4c9"
      },
      "source": [
        "pd.date_range('2019-01', freq='B', periods=20)"
      ],
      "execution_count": null,
      "outputs": [
        {
          "output_type": "execute_result",
          "data": {
            "text/plain": [
              "DatetimeIndex(['2019-01-01', '2019-01-02', '2019-01-03', '2019-01-04',\n",
              "               '2019-01-07', '2019-01-08', '2019-01-09', '2019-01-10',\n",
              "               '2019-01-11', '2019-01-14', '2019-01-15', '2019-01-16',\n",
              "               '2019-01-17', '2019-01-18', '2019-01-21', '2019-01-22',\n",
              "               '2019-01-23', '2019-01-24', '2019-01-25', '2019-01-28'],\n",
              "              dtype='datetime64[ns]', freq='B')"
            ]
          },
          "metadata": {
            "tags": []
          },
          "execution_count": 43
        }
      ]
    },
    {
      "cell_type": "code",
      "metadata": {
        "id": "Z3xGaAjsszS1",
        "outputId": "ea4377fc-b2d9-4547-8365-c33ca109cad9"
      },
      "source": [
        "pd.date_range('2019-01', '2019-08',freq='B')"
      ],
      "execution_count": null,
      "outputs": [
        {
          "output_type": "execute_result",
          "data": {
            "text/plain": [
              "DatetimeIndex(['2019-01-01', '2019-01-02', '2019-01-03', '2019-01-04',\n",
              "               '2019-01-07', '2019-01-08', '2019-01-09', '2019-01-10',\n",
              "               '2019-01-11', '2019-01-14',\n",
              "               ...\n",
              "               '2019-07-19', '2019-07-22', '2019-07-23', '2019-07-24',\n",
              "               '2019-07-25', '2019-07-26', '2019-07-29', '2019-07-30',\n",
              "               '2019-07-31', '2019-08-01'],\n",
              "              dtype='datetime64[ns]', length=153, freq='B')"
            ]
          },
          "metadata": {
            "tags": []
          },
          "execution_count": 47
        }
      ]
    },
    {
      "cell_type": "code",
      "metadata": {
        "id": "2OLZTcPKszS3"
      },
      "source": [
        "period = 15\n",
        "x=pd.Series(range(period), index=pd.date_range('2019', freq='MS', periods=period))"
      ],
      "execution_count": null,
      "outputs": []
    },
    {
      "cell_type": "code",
      "metadata": {
        "id": "q2wXB82iszS3",
        "outputId": "2188491f-ba5f-47a1-fcf4-c3d7394c5af9"
      },
      "source": [
        "x"
      ],
      "execution_count": null,
      "outputs": [
        {
          "output_type": "execute_result",
          "data": {
            "text/plain": [
              "2019-01-01     0\n",
              "2019-02-01     1\n",
              "2019-03-01     2\n",
              "2019-04-01     3\n",
              "2019-05-01     4\n",
              "2019-06-01     5\n",
              "2019-07-01     6\n",
              "2019-08-01     7\n",
              "2019-09-01     8\n",
              "2019-10-01     9\n",
              "2019-11-01    10\n",
              "2019-12-01    11\n",
              "2020-01-01    12\n",
              "2020-02-01    13\n",
              "2020-03-01    14\n",
              "Freq: MS, dtype: int64"
            ]
          },
          "metadata": {
            "tags": []
          },
          "execution_count": 45
        }
      ]
    },
    {
      "cell_type": "code",
      "metadata": {
        "id": "xhUzne2iszS4",
        "outputId": "18cf01b1-49a8-4abe-c77a-42e4d5915411"
      },
      "source": [
        "mx=pd.Series(range(3), index=pd.date_range('2019', freq='D', periods=3))\n",
        "x"
      ],
      "execution_count": null,
      "outputs": [
        {
          "output_type": "execute_result",
          "data": {
            "text/plain": [
              "2019-01-01    0\n",
              "2019-01-02    1\n",
              "2019-01-03    2\n",
              "Freq: D, dtype: int64"
            ]
          },
          "metadata": {
            "tags": []
          },
          "execution_count": 24
        }
      ]
    },
    {
      "cell_type": "code",
      "metadata": {
        "id": "ucRQbkjVszS5",
        "outputId": "830fa3eb-34ab-44bf-de55-5dc82eafd4a4"
      },
      "source": [
        "df.open.resample('Y').mean().plot()"
      ],
      "execution_count": null,
      "outputs": [
        {
          "output_type": "execute_result",
          "data": {
            "text/plain": [
              "<matplotlib.axes._subplots.AxesSubplot at 0x7fb6f3bbf400>"
            ]
          },
          "metadata": {
            "tags": []
          },
          "execution_count": 29
        },
        {
          "output_type": "display_data",
          "data": {
            "image/png": "[encoded data removed]",
            "text/plain": [
              "<matplotlib.figure.Figure at 0x7fb6f3affda0>"
            ]
          },
          "metadata": {
            "tags": []
          }
        }
      ]
    },
    {
      "cell_type": "code",
      "metadata": {
        "id": "WbdZZKa_szS5",
        "outputId": "6169224c-2047-4305-f898-aacc27416289"
      },
      "source": [
        "df.open.resample('M').mean().plot()"
      ],
      "execution_count": null,
      "outputs": [
        {
          "output_type": "execute_result",
          "data": {
            "text/plain": [
              "<matplotlib.axes._subplots.AxesSubplot at 0x7fb6f3aff080>"
            ]
          },
          "metadata": {
            "tags": []
          },
          "execution_count": 30
        },
        {
          "output_type": "display_data",
          "data": {
            "image/png": "[encoded data removed]",
            "text/plain": [
              "<matplotlib.figure.Figure at 0x7fb6f3a95898>"
            ]
          },
          "metadata": {
            "tags": []
          }
        }
      ]
    },
    {
      "cell_type": "code",
      "metadata": {
        "id": "PAZN2kJVszS6",
        "outputId": "3057aa58-5b51-4a1d-a55d-766437f6d47f"
      },
      "source": [
        "df.open.resample('M').mean().plot(kind=\"bar\")"
      ],
      "execution_count": null,
      "outputs": [
        {
          "output_type": "execute_result",
          "data": {
            "text/plain": [
              "<matplotlib.axes._subplots.AxesSubplot at 0x1f483103388>"
            ]
          },
          "metadata": {
            "tags": []
          },
          "execution_count": 46
        },
        {
          "output_type": "display_data",
          "data": {
            "image/png": "[encoded data removed]",
            "text/plain": [
              "<Figure size 432x288 with 1 Axes>"
            ]
          },
          "metadata": {
            "tags": [],
            "needs_background": "light"
          }
        }
      ]
    },
    {
      "cell_type": "code",
      "metadata": {
        "id": "gIWCu4LAszS7"
      },
      "source": [
        "rng=pd.date_range(start=\"2018-08-09\", end=\"2019/08/09\",freq=\"B\")"
      ],
      "execution_count": null,
      "outputs": []
    },
    {
      "cell_type": "code",
      "metadata": {
        "id": "1KjY80BpszS7",
        "outputId": "20601c3c-9a81-4d92-dcd9-55bc620f17cf"
      },
      "source": [
        "rng"
      ],
      "execution_count": null,
      "outputs": [
        {
          "output_type": "execute_result",
          "data": {
            "text/plain": [
              "DatetimeIndex(['2018-08-09', '2018-08-10', '2018-08-13', '2018-08-14',\n",
              "               '2018-08-15', '2018-08-16', '2018-08-17', '2018-08-20',\n",
              "               '2018-08-21', '2018-08-22',\n",
              "               ...\n",
              "               '2019-07-29', '2019-07-30', '2019-07-31', '2019-08-01',\n",
              "               '2019-08-02', '2019-08-05', '2019-08-06', '2019-08-07',\n",
              "               '2019-08-08', '2019-08-09'],\n",
              "              dtype='datetime64[ns]', length=262, freq='B')"
            ]
          },
          "metadata": {
            "tags": []
          },
          "execution_count": 33
        }
      ]
    },
    {
      "cell_type": "code",
      "metadata": {
        "id": "oTbjXzs_szS8",
        "outputId": "482f3674-de30-4537-c2b2-85353864e2ff"
      },
      "source": [
        "df[\"2018-12-09\" :\"2018-08-09\"]"
      ],
      "execution_count": null,
      "outputs": [
        {
          "output_type": "execute_result",
          "data": {
            "text/html": [
              "<div>\n",
              "<style scoped>\n",
              "    .dataframe tbody tr th:only-of-type {\n",
              "        vertical-align: middle;\n",
              "    }\n",
              "\n",
              "    .dataframe tbody tr th {\n",
              "        vertical-align: top;\n",
              "    }\n",
              "\n",
              "    .dataframe thead th {\n",
              "        text-align: right;\n",
              "    }\n",
              "</style>\n",
              "<table border=\"1\" class=\"dataframe\">\n",
              "  <thead>\n",
              "    <tr style=\"text-align: right;\">\n",
              "      <th></th>\n",
              "      <th>close</th>\n",
              "      <th>volume</th>\n",
              "      <th>open</th>\n",
              "      <th>high</th>\n",
              "      <th>low</th>\n",
              "    </tr>\n",
              "    <tr>\n",
              "      <th>date</th>\n",
              "      <th></th>\n",
              "      <th></th>\n",
              "      <th></th>\n",
              "      <th></th>\n",
              "      <th></th>\n",
              "    </tr>\n",
              "  </thead>\n",
              "  <tbody>\n",
              "    <tr>\n",
              "      <th>2018-12-07</th>\n",
              "      <td>168.49</td>\n",
              "      <td>41678680.0000</td>\n",
              "      <td>173.490</td>\n",
              "      <td>174.4900</td>\n",
              "      <td>168.3000</td>\n",
              "    </tr>\n",
              "    <tr>\n",
              "      <th>2018-12-06</th>\n",
              "      <td>174.72</td>\n",
              "      <td>42704910.0000</td>\n",
              "      <td>171.760</td>\n",
              "      <td>174.7800</td>\n",
              "      <td>170.4200</td>\n",
              "    </tr>\n",
              "    <tr>\n",
              "      <th>2018-12-04</th>\n",
              "      <td>176.69</td>\n",
              "      <td>41141250.0000</td>\n",
              "      <td>180.950</td>\n",
              "      <td>182.3899</td>\n",
              "      <td>176.2700</td>\n",
              "    </tr>\n",
              "    <tr>\n",
              "      <th>2018-12-03</th>\n",
              "      <td>184.82</td>\n",
              "      <td>40537700.0000</td>\n",
              "      <td>184.460</td>\n",
              "      <td>184.9400</td>\n",
              "      <td>181.2100</td>\n",
              "    </tr>\n",
              "    <tr>\n",
              "      <th>2018-11-30</th>\n",
              "      <td>178.58</td>\n",
              "      <td>39424260.0000</td>\n",
              "      <td>180.290</td>\n",
              "      <td>180.3300</td>\n",
              "      <td>177.0300</td>\n",
              "    </tr>\n",
              "    <tr>\n",
              "      <th>2018-11-29</th>\n",
              "      <td>179.55</td>\n",
              "      <td>41523580.0000</td>\n",
              "      <td>182.660</td>\n",
              "      <td>182.8000</td>\n",
              "      <td>177.7000</td>\n",
              "    </tr>\n",
              "    <tr>\n",
              "      <th>2018-11-28</th>\n",
              "      <td>180.94</td>\n",
              "      <td>45941750.0000</td>\n",
              "      <td>176.730</td>\n",
              "      <td>181.2900</td>\n",
              "      <td>174.9300</td>\n",
              "    </tr>\n",
              "    <tr>\n",
              "      <th>2018-11-27</th>\n",
              "      <td>174.24</td>\n",
              "      <td>41156140.0000</td>\n",
              "      <td>171.510</td>\n",
              "      <td>174.7700</td>\n",
              "      <td>170.8800</td>\n",
              "    </tr>\n",
              "    <tr>\n",
              "      <th>2018-11-26</th>\n",
              "      <td>174.62</td>\n",
              "      <td>44662320.0000</td>\n",
              "      <td>174.240</td>\n",
              "      <td>174.9500</td>\n",
              "      <td>170.2600</td>\n",
              "    </tr>\n",
              "    <tr>\n",
              "      <th>2018-11-23</th>\n",
              "      <td>172.29</td>\n",
              "      <td>23623970.0000</td>\n",
              "      <td>174.940</td>\n",
              "      <td>176.5950</td>\n",
              "      <td>172.1000</td>\n",
              "    </tr>\n",
              "    <tr>\n",
              "      <th>2018-11-21</th>\n",
              "      <td>176.78</td>\n",
              "      <td>31096240.0000</td>\n",
              "      <td>179.730</td>\n",
              "      <td>180.2700</td>\n",
              "      <td>176.5500</td>\n",
              "    </tr>\n",
              "    <tr>\n",
              "      <th>2018-11-20</th>\n",
              "      <td>176.98</td>\n",
              "      <td>67678680.0000</td>\n",
              "      <td>178.370</td>\n",
              "      <td>181.4700</td>\n",
              "      <td>175.5100</td>\n",
              "    </tr>\n",
              "    <tr>\n",
              "      <th>2018-11-19</th>\n",
              "      <td>185.86</td>\n",
              "      <td>41626820.0000</td>\n",
              "      <td>190.000</td>\n",
              "      <td>190.7000</td>\n",
              "      <td>184.9900</td>\n",
              "    </tr>\n",
              "    <tr>\n",
              "      <th>2018-11-16</th>\n",
              "      <td>193.53</td>\n",
              "      <td>36191330.0000</td>\n",
              "      <td>190.500</td>\n",
              "      <td>194.9695</td>\n",
              "      <td>189.4600</td>\n",
              "    </tr>\n",
              "    <tr>\n",
              "      <th>2018-11-15</th>\n",
              "      <td>191.41</td>\n",
              "      <td>46271660.0000</td>\n",
              "      <td>188.390</td>\n",
              "      <td>191.9700</td>\n",
              "      <td>186.9000</td>\n",
              "    </tr>\n",
              "    <tr>\n",
              "      <th>2018-11-14</th>\n",
              "      <td>186.80</td>\n",
              "      <td>60547340.0000</td>\n",
              "      <td>193.900</td>\n",
              "      <td>194.4800</td>\n",
              "      <td>185.9300</td>\n",
              "    </tr>\n",
              "    <tr>\n",
              "      <th>2018-11-13</th>\n",
              "      <td>192.23</td>\n",
              "      <td>46725710.0000</td>\n",
              "      <td>191.630</td>\n",
              "      <td>197.1800</td>\n",
              "      <td>191.4501</td>\n",
              "    </tr>\n",
              "    <tr>\n",
              "      <th>2018-11-12</th>\n",
              "      <td>194.17</td>\n",
              "      <td>50991030.0000</td>\n",
              "      <td>199.000</td>\n",
              "      <td>199.8500</td>\n",
              "      <td>193.7900</td>\n",
              "    </tr>\n",
              "    <tr>\n",
              "      <th>2018-11-09</th>\n",
              "      <td>204.47</td>\n",
              "      <td>34317760.0000</td>\n",
              "      <td>205.550</td>\n",
              "      <td>206.0100</td>\n",
              "      <td>202.2500</td>\n",
              "    </tr>\n",
              "    <tr>\n",
              "      <th>2018-11-08</th>\n",
              "      <td>208.49</td>\n",
              "      <td>25289270.0000</td>\n",
              "      <td>209.980</td>\n",
              "      <td>210.1200</td>\n",
              "      <td>206.7500</td>\n",
              "    </tr>\n",
              "    <tr>\n",
              "      <th>2018-11-07</th>\n",
              "      <td>209.95</td>\n",
              "      <td>33291640.0000</td>\n",
              "      <td>205.970</td>\n",
              "      <td>210.0600</td>\n",
              "      <td>204.1300</td>\n",
              "    </tr>\n",
              "    <tr>\n",
              "      <th>2018-11-06</th>\n",
              "      <td>203.77</td>\n",
              "      <td>31774720.0000</td>\n",
              "      <td>201.920</td>\n",
              "      <td>204.7200</td>\n",
              "      <td>201.6900</td>\n",
              "    </tr>\n",
              "    <tr>\n",
              "      <th>2018-11-05</th>\n",
              "      <td>201.59</td>\n",
              "      <td>66072170.0000</td>\n",
              "      <td>204.300</td>\n",
              "      <td>204.3900</td>\n",
              "      <td>198.1700</td>\n",
              "    </tr>\n",
              "    <tr>\n",
              "      <th>2018-11-02</th>\n",
              "      <td>207.48</td>\n",
              "      <td>91046560.0000</td>\n",
              "      <td>209.550</td>\n",
              "      <td>213.6500</td>\n",
              "      <td>205.4300</td>\n",
              "    </tr>\n",
              "    <tr>\n",
              "      <th>2018-11-01</th>\n",
              "      <td>222.22</td>\n",
              "      <td>52954070.0000</td>\n",
              "      <td>219.050</td>\n",
              "      <td>222.3600</td>\n",
              "      <td>216.8100</td>\n",
              "    </tr>\n",
              "    <tr>\n",
              "      <th>2018-10-31</th>\n",
              "      <td>218.86</td>\n",
              "      <td>38016810.0000</td>\n",
              "      <td>216.880</td>\n",
              "      <td>220.4500</td>\n",
              "      <td>216.6200</td>\n",
              "    </tr>\n",
              "    <tr>\n",
              "      <th>2018-10-30</th>\n",
              "      <td>213.30</td>\n",
              "      <td>36487930.0000</td>\n",
              "      <td>211.150</td>\n",
              "      <td>215.1800</td>\n",
              "      <td>209.2700</td>\n",
              "    </tr>\n",
              "    <tr>\n",
              "      <th>2018-10-29</th>\n",
              "      <td>212.24</td>\n",
              "      <td>45713690.0000</td>\n",
              "      <td>219.190</td>\n",
              "      <td>219.6900</td>\n",
              "      <td>206.0900</td>\n",
              "    </tr>\n",
              "    <tr>\n",
              "      <th>2018-10-26</th>\n",
              "      <td>216.30</td>\n",
              "      <td>47191700.0000</td>\n",
              "      <td>215.900</td>\n",
              "      <td>220.1900</td>\n",
              "      <td>212.6700</td>\n",
              "    </tr>\n",
              "    <tr>\n",
              "      <th>2018-10-25</th>\n",
              "      <td>219.80</td>\n",
              "      <td>29027340.0000</td>\n",
              "      <td>217.710</td>\n",
              "      <td>221.3800</td>\n",
              "      <td>216.7500</td>\n",
              "    </tr>\n",
              "    <tr>\n",
              "      <th>...</th>\n",
              "      <td>...</td>\n",
              "      <td>...</td>\n",
              "      <td>...</td>\n",
              "      <td>...</td>\n",
              "      <td>...</td>\n",
              "    </tr>\n",
              "    <tr>\n",
              "      <th>2018-09-20</th>\n",
              "      <td>220.03</td>\n",
              "      <td>26388050.0000</td>\n",
              "      <td>220.240</td>\n",
              "      <td>222.2800</td>\n",
              "      <td>219.1500</td>\n",
              "    </tr>\n",
              "    <tr>\n",
              "      <th>2018-09-19</th>\n",
              "      <td>218.37</td>\n",
              "      <td>26869880.0000</td>\n",
              "      <td>218.500</td>\n",
              "      <td>219.6200</td>\n",
              "      <td>215.3000</td>\n",
              "    </tr>\n",
              "    <tr>\n",
              "      <th>2018-09-18</th>\n",
              "      <td>218.24</td>\n",
              "      <td>31495630.0000</td>\n",
              "      <td>217.790</td>\n",
              "      <td>221.8500</td>\n",
              "      <td>217.1200</td>\n",
              "    </tr>\n",
              "    <tr>\n",
              "      <th>2018-09-17</th>\n",
              "      <td>217.88</td>\n",
              "      <td>36810120.0000</td>\n",
              "      <td>222.150</td>\n",
              "      <td>222.9500</td>\n",
              "      <td>217.2700</td>\n",
              "    </tr>\n",
              "    <tr>\n",
              "      <th>2018-09-14</th>\n",
              "      <td>223.84</td>\n",
              "      <td>31801970.0000</td>\n",
              "      <td>225.750</td>\n",
              "      <td>226.8400</td>\n",
              "      <td>222.5220</td>\n",
              "    </tr>\n",
              "    <tr>\n",
              "      <th>2018-09-13</th>\n",
              "      <td>226.41</td>\n",
              "      <td>41411350.0000</td>\n",
              "      <td>223.520</td>\n",
              "      <td>228.3500</td>\n",
              "      <td>222.5700</td>\n",
              "    </tr>\n",
              "    <tr>\n",
              "      <th>2018-09-12</th>\n",
              "      <td>221.07</td>\n",
              "      <td>49118510.0000</td>\n",
              "      <td>224.940</td>\n",
              "      <td>225.0000</td>\n",
              "      <td>219.8400</td>\n",
              "    </tr>\n",
              "    <tr>\n",
              "      <th>2018-09-11</th>\n",
              "      <td>223.85</td>\n",
              "      <td>35644510.0000</td>\n",
              "      <td>218.010</td>\n",
              "      <td>224.2990</td>\n",
              "      <td>216.5600</td>\n",
              "    </tr>\n",
              "    <tr>\n",
              "      <th>2018-09-10</th>\n",
              "      <td>218.33</td>\n",
              "      <td>39194720.0000</td>\n",
              "      <td>220.950</td>\n",
              "      <td>221.8500</td>\n",
              "      <td>216.4700</td>\n",
              "    </tr>\n",
              "    <tr>\n",
              "      <th>2018-09-07</th>\n",
              "      <td>221.30</td>\n",
              "      <td>37418910.0000</td>\n",
              "      <td>221.850</td>\n",
              "      <td>225.3700</td>\n",
              "      <td>220.7100</td>\n",
              "    </tr>\n",
              "    <tr>\n",
              "      <th>2018-09-06</th>\n",
              "      <td>223.10</td>\n",
              "      <td>34121240.0000</td>\n",
              "      <td>226.230</td>\n",
              "      <td>227.3500</td>\n",
              "      <td>221.3000</td>\n",
              "    </tr>\n",
              "    <tr>\n",
              "      <th>2018-09-05</th>\n",
              "      <td>226.87</td>\n",
              "      <td>33290830.0000</td>\n",
              "      <td>228.990</td>\n",
              "      <td>229.6700</td>\n",
              "      <td>225.1000</td>\n",
              "    </tr>\n",
              "    <tr>\n",
              "      <th>2018-09-04</th>\n",
              "      <td>228.36</td>\n",
              "      <td>27363960.0000</td>\n",
              "      <td>228.410</td>\n",
              "      <td>229.1800</td>\n",
              "      <td>226.6300</td>\n",
              "    </tr>\n",
              "    <tr>\n",
              "      <th>2018-08-31</th>\n",
              "      <td>227.63</td>\n",
              "      <td>43177540.0000</td>\n",
              "      <td>226.510</td>\n",
              "      <td>228.8700</td>\n",
              "      <td>226.0000</td>\n",
              "    </tr>\n",
              "    <tr>\n",
              "      <th>2018-08-30</th>\n",
              "      <td>225.03</td>\n",
              "      <td>48696960.0000</td>\n",
              "      <td>223.250</td>\n",
              "      <td>228.2600</td>\n",
              "      <td>222.4000</td>\n",
              "    </tr>\n",
              "    <tr>\n",
              "      <th>2018-08-29</th>\n",
              "      <td>222.98</td>\n",
              "      <td>27074260.0000</td>\n",
              "      <td>220.150</td>\n",
              "      <td>223.4900</td>\n",
              "      <td>219.4100</td>\n",
              "    </tr>\n",
              "    <tr>\n",
              "      <th>2018-08-28</th>\n",
              "      <td>219.70</td>\n",
              "      <td>22751390.0000</td>\n",
              "      <td>219.010</td>\n",
              "      <td>220.5400</td>\n",
              "      <td>218.9200</td>\n",
              "    </tr>\n",
              "    <tr>\n",
              "      <th>2018-08-27</th>\n",
              "      <td>217.94</td>\n",
              "      <td>20400770.0000</td>\n",
              "      <td>217.150</td>\n",
              "      <td>218.7400</td>\n",
              "      <td>216.3300</td>\n",
              "    </tr>\n",
              "    <tr>\n",
              "      <th>2018-08-24</th>\n",
              "      <td>216.16</td>\n",
              "      <td>18457720.0000</td>\n",
              "      <td>216.600</td>\n",
              "      <td>216.9000</td>\n",
              "      <td>215.1100</td>\n",
              "    </tr>\n",
              "    <tr>\n",
              "      <th>2018-08-23</th>\n",
              "      <td>215.49</td>\n",
              "      <td>18505780.0000</td>\n",
              "      <td>214.650</td>\n",
              "      <td>217.0500</td>\n",
              "      <td>214.6000</td>\n",
              "    </tr>\n",
              "    <tr>\n",
              "      <th>2018-08-22</th>\n",
              "      <td>215.05</td>\n",
              "      <td>18965930.0000</td>\n",
              "      <td>214.100</td>\n",
              "      <td>216.3600</td>\n",
              "      <td>213.8400</td>\n",
              "    </tr>\n",
              "    <tr>\n",
              "      <th>2018-08-21</th>\n",
              "      <td>215.04</td>\n",
              "      <td>25682700.0000</td>\n",
              "      <td>216.800</td>\n",
              "      <td>217.1900</td>\n",
              "      <td>214.0250</td>\n",
              "    </tr>\n",
              "    <tr>\n",
              "      <th>2018-08-20</th>\n",
              "      <td>215.46</td>\n",
              "      <td>30149410.0000</td>\n",
              "      <td>218.100</td>\n",
              "      <td>219.1800</td>\n",
              "      <td>215.1100</td>\n",
              "    </tr>\n",
              "    <tr>\n",
              "      <th>2018-08-17</th>\n",
              "      <td>217.58</td>\n",
              "      <td>35034410.0000</td>\n",
              "      <td>213.440</td>\n",
              "      <td>217.9500</td>\n",
              "      <td>213.1600</td>\n",
              "    </tr>\n",
              "    <tr>\n",
              "      <th>2018-08-16</th>\n",
              "      <td>213.32</td>\n",
              "      <td>27595310.0000</td>\n",
              "      <td>211.750</td>\n",
              "      <td>213.8121</td>\n",
              "      <td>211.4700</td>\n",
              "    </tr>\n",
              "    <tr>\n",
              "      <th>2018-08-15</th>\n",
              "      <td>210.24</td>\n",
              "      <td>28595230.0000</td>\n",
              "      <td>209.220</td>\n",
              "      <td>210.7400</td>\n",
              "      <td>208.3300</td>\n",
              "    </tr>\n",
              "    <tr>\n",
              "      <th>2018-08-14</th>\n",
              "      <td>209.75</td>\n",
              "      <td>20679270.0000</td>\n",
              "      <td>210.155</td>\n",
              "      <td>210.5600</td>\n",
              "      <td>208.2600</td>\n",
              "    </tr>\n",
              "    <tr>\n",
              "      <th>2018-08-13</th>\n",
              "      <td>208.87</td>\n",
              "      <td>25864510.0000</td>\n",
              "      <td>207.700</td>\n",
              "      <td>210.9520</td>\n",
              "      <td>207.7000</td>\n",
              "    </tr>\n",
              "    <tr>\n",
              "      <th>2018-08-10</th>\n",
              "      <td>207.53</td>\n",
              "      <td>24592460.0000</td>\n",
              "      <td>207.360</td>\n",
              "      <td>209.1000</td>\n",
              "      <td>206.6700</td>\n",
              "    </tr>\n",
              "    <tr>\n",
              "      <th>2018-08-09</th>\n",
              "      <td>208.88</td>\n",
              "      <td>23389530.0000</td>\n",
              "      <td>207.280</td>\n",
              "      <td>209.7800</td>\n",
              "      <td>207.2000</td>\n",
              "    </tr>\n",
              "  </tbody>\n",
              "</table>\n",
              "<p>84 rows × 5 columns</p>\n",
              "</div>"
            ],
            "text/plain": [
              "             close         volume     open      high       low\n",
              "date                                                          \n",
              "2018-12-07  168.49  41678680.0000  173.490  174.4900  168.3000\n",
              "2018-12-06  174.72  42704910.0000  171.760  174.7800  170.4200\n",
              "2018-12-04  176.69  41141250.0000  180.950  182.3899  176.2700\n",
              "2018-12-03  184.82  40537700.0000  184.460  184.9400  181.2100\n",
              "2018-11-30  178.58  39424260.0000  180.290  180.3300  177.0300\n",
              "2018-11-29  179.55  41523580.0000  182.660  182.8000  177.7000\n",
              "2018-11-28  180.94  45941750.0000  176.730  181.2900  174.9300\n",
              "2018-11-27  174.24  41156140.0000  171.510  174.7700  170.8800\n",
              "2018-11-26  174.62  44662320.0000  174.240  174.9500  170.2600\n",
              "2018-11-23  172.29  23623970.0000  174.940  176.5950  172.1000\n",
              "2018-11-21  176.78  31096240.0000  179.730  180.2700  176.5500\n",
              "2018-11-20  176.98  67678680.0000  178.370  181.4700  175.5100\n",
              "2018-11-19  185.86  41626820.0000  190.000  190.7000  184.9900\n",
              "2018-11-16  193.53  36191330.0000  190.500  194.9695  189.4600\n",
              "2018-11-15  191.41  46271660.0000  188.390  191.9700  186.9000\n",
              "2018-11-14  186.80  60547340.0000  193.900  194.4800  185.9300\n",
              "2018-11-13  192.23  46725710.0000  191.630  197.1800  191.4501\n",
              "2018-11-12  194.17  50991030.0000  199.000  199.8500  193.7900\n",
              "2018-11-09  204.47  34317760.0000  205.550  206.0100  202.2500\n",
              "2018-11-08  208.49  25289270.0000  209.980  210.1200  206.7500\n",
              "2018-11-07  209.95  33291640.0000  205.970  210.0600  204.1300\n",
              "2018-11-06  203.77  31774720.0000  201.920  204.7200  201.6900\n",
              "2018-11-05  201.59  66072170.0000  204.300  204.3900  198.1700\n",
              "2018-11-02  207.48  91046560.0000  209.550  213.6500  205.4300\n",
              "2018-11-01  222.22  52954070.0000  219.050  222.3600  216.8100\n",
              "2018-10-31  218.86  38016810.0000  216.880  220.4500  216.6200\n",
              "2018-10-30  213.30  36487930.0000  211.150  215.1800  209.2700\n",
              "2018-10-29  212.24  45713690.0000  219.190  219.6900  206.0900\n",
              "2018-10-26  216.30  47191700.0000  215.900  220.1900  212.6700\n",
              "2018-10-25  219.80  29027340.0000  217.710  221.3800  216.7500\n",
              "...            ...            ...      ...       ...       ...\n",
              "2018-09-20  220.03  26388050.0000  220.240  222.2800  219.1500\n",
              "2018-09-19  218.37  26869880.0000  218.500  219.6200  215.3000\n",
              "2018-09-18  218.24  31495630.0000  217.790  221.8500  217.1200\n",
              "2018-09-17  217.88  36810120.0000  222.150  222.9500  217.2700\n",
              "2018-09-14  223.84  31801970.0000  225.750  226.8400  222.5220\n",
              "2018-09-13  226.41  41411350.0000  223.520  228.3500  222.5700\n",
              "2018-09-12  221.07  49118510.0000  224.940  225.0000  219.8400\n",
              "2018-09-11  223.85  35644510.0000  218.010  224.2990  216.5600\n",
              "2018-09-10  218.33  39194720.0000  220.950  221.8500  216.4700\n",
              "2018-09-07  221.30  37418910.0000  221.850  225.3700  220.7100\n",
              "2018-09-06  223.10  34121240.0000  226.230  227.3500  221.3000\n",
              "2018-09-05  226.87  33290830.0000  228.990  229.6700  225.1000\n",
              "2018-09-04  228.36  27363960.0000  228.410  229.1800  226.6300\n",
              "2018-08-31  227.63  43177540.0000  226.510  228.8700  226.0000\n",
              "2018-08-30  225.03  48696960.0000  223.250  228.2600  222.4000\n",
              "2018-08-29  222.98  27074260.0000  220.150  223.4900  219.4100\n",
              "2018-08-28  219.70  22751390.0000  219.010  220.5400  218.9200\n",
              "2018-08-27  217.94  20400770.0000  217.150  218.7400  216.3300\n",
              "2018-08-24  216.16  18457720.0000  216.600  216.9000  215.1100\n",
              "2018-08-23  215.49  18505780.0000  214.650  217.0500  214.6000\n",
              "2018-08-22  215.05  18965930.0000  214.100  216.3600  213.8400\n",
              "2018-08-21  215.04  25682700.0000  216.800  217.1900  214.0250\n",
              "2018-08-20  215.46  30149410.0000  218.100  219.1800  215.1100\n",
              "2018-08-17  217.58  35034410.0000  213.440  217.9500  213.1600\n",
              "2018-08-16  213.32  27595310.0000  211.750  213.8121  211.4700\n",
              "2018-08-15  210.24  28595230.0000  209.220  210.7400  208.3300\n",
              "2018-08-14  209.75  20679270.0000  210.155  210.5600  208.2600\n",
              "2018-08-13  208.87  25864510.0000  207.700  210.9520  207.7000\n",
              "2018-08-10  207.53  24592460.0000  207.360  209.1000  206.6700\n",
              "2018-08-09  208.88  23389530.0000  207.280  209.7800  207.2000\n",
              "\n",
              "[84 rows x 5 columns]"
            ]
          },
          "metadata": {
            "tags": []
          },
          "execution_count": 34
        }
      ]
    },
    {
      "cell_type": "code",
      "metadata": {
        "id": "I3rjjV6tszS8",
        "outputId": "2d539f16-9dca-43b6-e261-0f9b4ad08ed6"
      },
      "source": [
        "%matplotlib inline\n",
        "df[\"2019-08-01\" :\"2018-09-01\"].close.mean()"
      ],
      "execution_count": null,
      "outputs": [
        {
          "output_type": "execute_result",
          "data": {
            "text/plain": [
              "191.20864628820956"
            ]
          },
          "metadata": {
            "tags": []
          },
          "execution_count": 35
        }
      ]
    },
    {
      "cell_type": "code",
      "metadata": {
        "id": "Mzoz4Ef2szS9"
      },
      "source": [
        "rng=pd.date_range(start=\"2018-08-09\", periods=100,freq=\"B\")"
      ],
      "execution_count": null,
      "outputs": []
    },
    {
      "cell_type": "code",
      "metadata": {
        "id": "d1bD-GVTszS9",
        "outputId": "a4c073d2-8065-4cba-e416-74ba7bb32d4f"
      },
      "source": [
        "rng"
      ],
      "execution_count": null,
      "outputs": [
        {
          "output_type": "execute_result",
          "data": {
            "text/plain": [
              "DatetimeIndex(['2018-08-09', '2018-08-10', '2018-08-13', '2018-08-14',\n",
              "               '2018-08-15', '2018-08-16', '2018-08-17', '2018-08-20',\n",
              "               '2018-08-21', '2018-08-22', '2018-08-23', '2018-08-24',\n",
              "               '2018-08-27', '2018-08-28', '2018-08-29', '2018-08-30',\n",
              "               '2018-08-31', '2018-09-03', '2018-09-04', '2018-09-05',\n",
              "               '2018-09-06', '2018-09-07', '2018-09-10', '2018-09-11',\n",
              "               '2018-09-12', '2018-09-13', '2018-09-14', '2018-09-17',\n",
              "               '2018-09-18', '2018-09-19', '2018-09-20', '2018-09-21',\n",
              "               '2018-09-24', '2018-09-25', '2018-09-26', '2018-09-27',\n",
              "               '2018-09-28', '2018-10-01', '2018-10-02', '2018-10-03',\n",
              "               '2018-10-04', '2018-10-05', '2018-10-08', '2018-10-09',\n",
              "               '2018-10-10', '2018-10-11', '2018-10-12', '2018-10-15',\n",
              "               '2018-10-16', '2018-10-17', '2018-10-18', '2018-10-19',\n",
              "               '2018-10-22', '2018-10-23', '2018-10-24', '2018-10-25',\n",
              "               '2018-10-26', '2018-10-29', '2018-10-30', '2018-10-31',\n",
              "               '2018-11-01', '2018-11-02', '2018-11-05', '2018-11-06',\n",
              "               '2018-11-07', '2018-11-08', '2018-11-09', '2018-11-12',\n",
              "               '2018-11-13', '2018-11-14', '2018-11-15', '2018-11-16',\n",
              "               '2018-11-19', '2018-11-20', '2018-11-21', '2018-11-22',\n",
              "               '2018-11-23', '2018-11-26', '2018-11-27', '2018-11-28',\n",
              "               '2018-11-29', '2018-11-30', '2018-12-03', '2018-12-04',\n",
              "               '2018-12-05', '2018-12-06', '2018-12-07', '2018-12-10',\n",
              "               '2018-12-11', '2018-12-12', '2018-12-13', '2018-12-14',\n",
              "               '2018-12-17', '2018-12-18', '2018-12-19', '2018-12-20',\n",
              "               '2018-12-21', '2018-12-24', '2018-12-25', '2018-12-26'],\n",
              "              dtype='datetime64[ns]', freq='B')"
            ]
          },
          "metadata": {
            "tags": []
          },
          "execution_count": 37
        }
      ]
    },
    {
      "cell_type": "code",
      "metadata": {
        "id": "8TdT9qdgszS-",
        "outputId": "318d3efd-5209-4885-f98a-b90c295edb42"
      },
      "source": [
        "rng=pd.date_range(start=\"2018-08-09\", end=\"2019/08/09\",freq=\"H\")\n",
        "rng"
      ],
      "execution_count": null,
      "outputs": [
        {
          "output_type": "execute_result",
          "data": {
            "text/plain": [
              "DatetimeIndex(['2018-08-09 00:00:00', '2018-08-09 01:00:00',\n",
              "               '2018-08-09 02:00:00', '2018-08-09 03:00:00',\n",
              "               '2018-08-09 04:00:00', '2018-08-09 05:00:00',\n",
              "               '2018-08-09 06:00:00', '2018-08-09 07:00:00',\n",
              "               '2018-08-09 08:00:00', '2018-08-09 09:00:00',\n",
              "               ...\n",
              "               '2019-08-08 15:00:00', '2019-08-08 16:00:00',\n",
              "               '2019-08-08 17:00:00', '2019-08-08 18:00:00',\n",
              "               '2019-08-08 19:00:00', '2019-08-08 20:00:00',\n",
              "               '2019-08-08 21:00:00', '2019-08-08 22:00:00',\n",
              "               '2019-08-08 23:00:00', '2019-08-09 00:00:00'],\n",
              "              dtype='datetime64[ns]', length=8761, freq='H')"
            ]
          },
          "metadata": {
            "tags": []
          },
          "execution_count": 38
        }
      ]
    },
    {
      "cell_type": "code",
      "metadata": {
        "id": "mguzyf4oszS_",
        "outputId": "2be61b46-0bb5-45a2-971a-2bbc8b5edace"
      },
      "source": [
        "import numpy as np\n",
        "rng=pd.date_range(start=\"2018-08-09\", end=\"2019/08/09\",freq=\"H\")\n",
        "rng\n",
        "x=np.random.randint(1,10,len(rng))\n",
        "print(x)"
      ],
      "execution_count": null,
      "outputs": [
        {
          "output_type": "stream",
          "text": [
            "[9 3 7 ... 1 1 3]\n"
          ],
          "name": "stdout"
        }
      ]
    },
    {
      "cell_type": "code",
      "metadata": {
        "id": "SPzjWlo0szS_"
      },
      "source": [
        "ts=pd.Series(np.random.randint(1,10,len(rng)), index=rng)"
      ],
      "execution_count": null,
      "outputs": []
    },
    {
      "cell_type": "code",
      "metadata": {
        "id": "qRDAE1gXszTA",
        "outputId": "140f3041-1f73-4d39-9256-1b3e23e40d77"
      },
      "source": [
        "ts"
      ],
      "execution_count": null,
      "outputs": [
        {
          "output_type": "execute_result",
          "data": {
            "text/plain": [
              "2018-08-09 00:00:00    2\n",
              "2018-08-09 01:00:00    1\n",
              "2018-08-09 02:00:00    9\n",
              "2018-08-09 03:00:00    8\n",
              "2018-08-09 04:00:00    8\n",
              "2018-08-09 05:00:00    5\n",
              "2018-08-09 06:00:00    5\n",
              "2018-08-09 07:00:00    4\n",
              "2018-08-09 08:00:00    8\n",
              "2018-08-09 09:00:00    1\n",
              "2018-08-09 10:00:00    7\n",
              "2018-08-09 11:00:00    3\n",
              "2018-08-09 12:00:00    1\n",
              "2018-08-09 13:00:00    6\n",
              "2018-08-09 14:00:00    8\n",
              "2018-08-09 15:00:00    5\n",
              "2018-08-09 16:00:00    6\n",
              "2018-08-09 17:00:00    3\n",
              "2018-08-09 18:00:00    6\n",
              "2018-08-09 19:00:00    9\n",
              "2018-08-09 20:00:00    7\n",
              "2018-08-09 21:00:00    6\n",
              "2018-08-09 22:00:00    3\n",
              "2018-08-09 23:00:00    3\n",
              "2018-08-10 00:00:00    8\n",
              "2018-08-10 01:00:00    8\n",
              "2018-08-10 02:00:00    7\n",
              "2018-08-10 03:00:00    1\n",
              "2018-08-10 04:00:00    7\n",
              "2018-08-10 05:00:00    9\n",
              "                      ..\n",
              "2019-08-07 19:00:00    7\n",
              "2019-08-07 20:00:00    8\n",
              "2019-08-07 21:00:00    2\n",
              "2019-08-07 22:00:00    3\n",
              "2019-08-07 23:00:00    7\n",
              "2019-08-08 00:00:00    2\n",
              "2019-08-08 01:00:00    8\n",
              "2019-08-08 02:00:00    6\n",
              "2019-08-08 03:00:00    3\n",
              "2019-08-08 04:00:00    7\n",
              "2019-08-08 05:00:00    3\n",
              "2019-08-08 06:00:00    7\n",
              "2019-08-08 07:00:00    3\n",
              "2019-08-08 08:00:00    4\n",
              "2019-08-08 09:00:00    1\n",
              "2019-08-08 10:00:00    5\n",
              "2019-08-08 11:00:00    2\n",
              "2019-08-08 12:00:00    2\n",
              "2019-08-08 13:00:00    5\n",
              "2019-08-08 14:00:00    5\n",
              "2019-08-08 15:00:00    5\n",
              "2019-08-08 16:00:00    4\n",
              "2019-08-08 17:00:00    7\n",
              "2019-08-08 18:00:00    8\n",
              "2019-08-08 19:00:00    9\n",
              "2019-08-08 20:00:00    9\n",
              "2019-08-08 21:00:00    6\n",
              "2019-08-08 22:00:00    4\n",
              "2019-08-08 23:00:00    1\n",
              "2019-08-09 00:00:00    4\n",
              "Freq: H, Length: 8761, dtype: int64"
            ]
          },
          "metadata": {
            "tags": []
          },
          "execution_count": 41
        }
      ]
    },
    {
      "cell_type": "code",
      "metadata": {
        "id": "s9pF1c0yszTA"
      },
      "source": [
        "import numpy as np"
      ],
      "execution_count": null,
      "outputs": []
    },
    {
      "cell_type": "code",
      "metadata": {
        "id": "g4B3DHnTszTA",
        "outputId": "a68c2c71-534b-47de-8fb2-7e286bba2f86"
      },
      "source": [
        "frame = pd.DataFrame({'Humidity':np.arange(50,64)})\n",
        "\n",
        "frame.loc[[3,7,10,11],'Humidity'] = np.nan\n",
        "frame['RA'] = frame.Humidity.rolling(4,min_periods=2).mean() \n",
        "# print(frame, frame.Humidity.rolling(4,min_periods=1).mean())\n",
        "frame"
      ],
      "execution_count": null,
      "outputs": [
        {
          "output_type": "execute_result",
          "data": {
            "text/html": [
              "<div>\n",
              "<style scoped>\n",
              "    .dataframe tbody tr th:only-of-type {\n",
              "        vertical-align: middle;\n",
              "    }\n",
              "\n",
              "    .dataframe tbody tr th {\n",
              "        vertical-align: top;\n",
              "    }\n",
              "\n",
              "    .dataframe thead th {\n",
              "        text-align: right;\n",
              "    }\n",
              "</style>\n",
              "<table border=\"1\" class=\"dataframe\">\n",
              "  <thead>\n",
              "    <tr style=\"text-align: right;\">\n",
              "      <th></th>\n",
              "      <th>Humidity</th>\n",
              "      <th>RA</th>\n",
              "    </tr>\n",
              "  </thead>\n",
              "  <tbody>\n",
              "    <tr>\n",
              "      <th>0</th>\n",
              "      <td>50.0</td>\n",
              "      <td>NaN</td>\n",
              "    </tr>\n",
              "    <tr>\n",
              "      <th>1</th>\n",
              "      <td>51.0</td>\n",
              "      <td>50.500000</td>\n",
              "    </tr>\n",
              "    <tr>\n",
              "      <th>2</th>\n",
              "      <td>52.0</td>\n",
              "      <td>51.000000</td>\n",
              "    </tr>\n",
              "    <tr>\n",
              "      <th>3</th>\n",
              "      <td>NaN</td>\n",
              "      <td>51.000000</td>\n",
              "    </tr>\n",
              "    <tr>\n",
              "      <th>4</th>\n",
              "      <td>54.0</td>\n",
              "      <td>52.333333</td>\n",
              "    </tr>\n",
              "    <tr>\n",
              "      <th>5</th>\n",
              "      <td>55.0</td>\n",
              "      <td>53.666667</td>\n",
              "    </tr>\n",
              "    <tr>\n",
              "      <th>6</th>\n",
              "      <td>56.0</td>\n",
              "      <td>55.000000</td>\n",
              "    </tr>\n",
              "    <tr>\n",
              "      <th>7</th>\n",
              "      <td>NaN</td>\n",
              "      <td>55.000000</td>\n",
              "    </tr>\n",
              "    <tr>\n",
              "      <th>8</th>\n",
              "      <td>58.0</td>\n",
              "      <td>56.333333</td>\n",
              "    </tr>\n",
              "    <tr>\n",
              "      <th>9</th>\n",
              "      <td>59.0</td>\n",
              "      <td>57.666667</td>\n",
              "    </tr>\n",
              "    <tr>\n",
              "      <th>10</th>\n",
              "      <td>NaN</td>\n",
              "      <td>58.500000</td>\n",
              "    </tr>\n",
              "    <tr>\n",
              "      <th>11</th>\n",
              "      <td>NaN</td>\n",
              "      <td>58.500000</td>\n",
              "    </tr>\n",
              "    <tr>\n",
              "      <th>12</th>\n",
              "      <td>62.0</td>\n",
              "      <td>60.500000</td>\n",
              "    </tr>\n",
              "    <tr>\n",
              "      <th>13</th>\n",
              "      <td>63.0</td>\n",
              "      <td>62.500000</td>\n",
              "    </tr>\n",
              "  </tbody>\n",
              "</table>\n",
              "</div>"
            ],
            "text/plain": [
              "    Humidity         RA\n",
              "0       50.0        NaN\n",
              "1       51.0  50.500000\n",
              "2       52.0  51.000000\n",
              "3        NaN  51.000000\n",
              "4       54.0  52.333333\n",
              "5       55.0  53.666667\n",
              "6       56.0  55.000000\n",
              "7        NaN  55.000000\n",
              "8       58.0  56.333333\n",
              "9       59.0  57.666667\n",
              "10       NaN  58.500000\n",
              "11       NaN  58.500000\n",
              "12      62.0  60.500000\n",
              "13      63.0  62.500000"
            ]
          },
          "metadata": {
            "tags": []
          },
          "execution_count": 56
        }
      ]
    },
    {
      "cell_type": "code",
      "metadata": {
        "scrolled": true,
        "id": "x5ZA524MszTB",
        "outputId": "1a90b26c-2233-4bc1-d0d1-1e763b5b2d9b"
      },
      "source": [
        "frame = pd.DataFrame({'Humidity':np.arange(50,64)})\n",
        "\n",
        "frame.loc[[3,7,10,11],'Humidity'] = np.nan\n",
        "frame['Humidity_RA'] = frame.Humidity.rolling(4,min_periods=1).mean()\n",
        "frame['Humidity_w_4'] = frame.Humidity.fillna(frame.Humidity.rolling(4,min_periods=1).mean())\n",
        "frame['Humidity_w_4_c'] = frame.Humidity.fillna(frame.Humidity.rolling(4,center=True,min_periods=1).mean())\n",
        "frame['Humidity_w_2'] = frame.Humidity.fillna(frame.Humidity.rolling(2,min_periods=1).mean())\n",
        "frame['Humidity_w_2_c'] = frame.Humidity.fillna(frame.Humidity.rolling(2,center=True,min_periods=1).mean())\n",
        "#center='True'\n",
        "frame"
      ],
      "execution_count": null,
      "outputs": [
        {
          "output_type": "execute_result",
          "data": {
            "text/html": [
              "<div>\n",
              "<style scoped>\n",
              "    .dataframe tbody tr th:only-of-type {\n",
              "        vertical-align: middle;\n",
              "    }\n",
              "\n",
              "    .dataframe tbody tr th {\n",
              "        vertical-align: top;\n",
              "    }\n",
              "\n",
              "    .dataframe thead th {\n",
              "        text-align: right;\n",
              "    }\n",
              "</style>\n",
              "<table border=\"1\" class=\"dataframe\">\n",
              "  <thead>\n",
              "    <tr style=\"text-align: right;\">\n",
              "      <th></th>\n",
              "      <th>Humidity</th>\n",
              "      <th>Humidity_RA</th>\n",
              "      <th>Humidity_w_4</th>\n",
              "      <th>Humidity_w_4_c</th>\n",
              "      <th>Humidity_w_2</th>\n",
              "      <th>Humidity_w_2_c</th>\n",
              "    </tr>\n",
              "  </thead>\n",
              "  <tbody>\n",
              "    <tr>\n",
              "      <th>0</th>\n",
              "      <td>50.0</td>\n",
              "      <td>50.000000</td>\n",
              "      <td>50.0</td>\n",
              "      <td>50.000000</td>\n",
              "      <td>50.0</td>\n",
              "      <td>50.0</td>\n",
              "    </tr>\n",
              "    <tr>\n",
              "      <th>1</th>\n",
              "      <td>51.0</td>\n",
              "      <td>50.500000</td>\n",
              "      <td>51.0</td>\n",
              "      <td>51.000000</td>\n",
              "      <td>51.0</td>\n",
              "      <td>51.0</td>\n",
              "    </tr>\n",
              "    <tr>\n",
              "      <th>2</th>\n",
              "      <td>52.0</td>\n",
              "      <td>51.000000</td>\n",
              "      <td>52.0</td>\n",
              "      <td>52.000000</td>\n",
              "      <td>52.0</td>\n",
              "      <td>52.0</td>\n",
              "    </tr>\n",
              "    <tr>\n",
              "      <th>3</th>\n",
              "      <td>NaN</td>\n",
              "      <td>51.000000</td>\n",
              "      <td>51.0</td>\n",
              "      <td>52.333333</td>\n",
              "      <td>52.0</td>\n",
              "      <td>52.0</td>\n",
              "    </tr>\n",
              "    <tr>\n",
              "      <th>4</th>\n",
              "      <td>54.0</td>\n",
              "      <td>52.333333</td>\n",
              "      <td>54.0</td>\n",
              "      <td>54.000000</td>\n",
              "      <td>54.0</td>\n",
              "      <td>54.0</td>\n",
              "    </tr>\n",
              "    <tr>\n",
              "      <th>5</th>\n",
              "      <td>55.0</td>\n",
              "      <td>53.666667</td>\n",
              "      <td>55.0</td>\n",
              "      <td>55.000000</td>\n",
              "      <td>55.0</td>\n",
              "      <td>55.0</td>\n",
              "    </tr>\n",
              "    <tr>\n",
              "      <th>6</th>\n",
              "      <td>56.0</td>\n",
              "      <td>55.000000</td>\n",
              "      <td>56.0</td>\n",
              "      <td>56.000000</td>\n",
              "      <td>56.0</td>\n",
              "      <td>56.0</td>\n",
              "    </tr>\n",
              "    <tr>\n",
              "      <th>7</th>\n",
              "      <td>NaN</td>\n",
              "      <td>55.000000</td>\n",
              "      <td>55.0</td>\n",
              "      <td>56.333333</td>\n",
              "      <td>56.0</td>\n",
              "      <td>56.0</td>\n",
              "    </tr>\n",
              "    <tr>\n",
              "      <th>8</th>\n",
              "      <td>58.0</td>\n",
              "      <td>56.333333</td>\n",
              "      <td>58.0</td>\n",
              "      <td>58.000000</td>\n",
              "      <td>58.0</td>\n",
              "      <td>58.0</td>\n",
              "    </tr>\n",
              "    <tr>\n",
              "      <th>9</th>\n",
              "      <td>59.0</td>\n",
              "      <td>57.666667</td>\n",
              "      <td>59.0</td>\n",
              "      <td>59.000000</td>\n",
              "      <td>59.0</td>\n",
              "      <td>59.0</td>\n",
              "    </tr>\n",
              "    <tr>\n",
              "      <th>10</th>\n",
              "      <td>NaN</td>\n",
              "      <td>58.500000</td>\n",
              "      <td>58.5</td>\n",
              "      <td>58.500000</td>\n",
              "      <td>59.0</td>\n",
              "      <td>59.0</td>\n",
              "    </tr>\n",
              "    <tr>\n",
              "      <th>11</th>\n",
              "      <td>NaN</td>\n",
              "      <td>58.500000</td>\n",
              "      <td>58.5</td>\n",
              "      <td>60.500000</td>\n",
              "      <td>NaN</td>\n",
              "      <td>NaN</td>\n",
              "    </tr>\n",
              "    <tr>\n",
              "      <th>12</th>\n",
              "      <td>62.0</td>\n",
              "      <td>60.500000</td>\n",
              "      <td>62.0</td>\n",
              "      <td>62.000000</td>\n",
              "      <td>62.0</td>\n",
              "      <td>62.0</td>\n",
              "    </tr>\n",
              "    <tr>\n",
              "      <th>13</th>\n",
              "      <td>63.0</td>\n",
              "      <td>62.500000</td>\n",
              "      <td>63.0</td>\n",
              "      <td>63.000000</td>\n",
              "      <td>63.0</td>\n",
              "      <td>63.0</td>\n",
              "    </tr>\n",
              "  </tbody>\n",
              "</table>\n",
              "</div>"
            ],
            "text/plain": [
              "    Humidity  Humidity_RA  Humidity_w_4  Humidity_w_4_c  Humidity_w_2  \\\n",
              "0       50.0    50.000000          50.0       50.000000          50.0   \n",
              "1       51.0    50.500000          51.0       51.000000          51.0   \n",
              "2       52.0    51.000000          52.0       52.000000          52.0   \n",
              "3        NaN    51.000000          51.0       52.333333          52.0   \n",
              "4       54.0    52.333333          54.0       54.000000          54.0   \n",
              "5       55.0    53.666667          55.0       55.000000          55.0   \n",
              "6       56.0    55.000000          56.0       56.000000          56.0   \n",
              "7        NaN    55.000000          55.0       56.333333          56.0   \n",
              "8       58.0    56.333333          58.0       58.000000          58.0   \n",
              "9       59.0    57.666667          59.0       59.000000          59.0   \n",
              "10       NaN    58.500000          58.5       58.500000          59.0   \n",
              "11       NaN    58.500000          58.5       60.500000           NaN   \n",
              "12      62.0    60.500000          62.0       62.000000          62.0   \n",
              "13      63.0    62.500000          63.0       63.000000          63.0   \n",
              "\n",
              "    Humidity_w_2_c  \n",
              "0             50.0  \n",
              "1             51.0  \n",
              "2             52.0  \n",
              "3             52.0  \n",
              "4             54.0  \n",
              "5             55.0  \n",
              "6             56.0  \n",
              "7             56.0  \n",
              "8             58.0  \n",
              "9             59.0  \n",
              "10            59.0  \n",
              "11             NaN  \n",
              "12            62.0  \n",
              "13            63.0  "
            ]
          },
          "metadata": {
            "tags": []
          },
          "execution_count": 24
        }
      ]
    },
    {
      "cell_type": "code",
      "metadata": {
        "id": "CSwTu-JrszTC",
        "outputId": "760b4bbd-a944-4920-efc3-9ae238cb88f7"
      },
      "source": [
        "frame = pd.DataFrame({'Humidity':np.arange(50,64)})\n",
        "\n",
        "frame.loc[[0,7,10,11],'Humidity'] = np.nan\n",
        "# print(frame)\n",
        "frame['Humidity_inter'] = frame['Humidity'].interpolate(method='linear',limit_direction='both')\n",
        "frame"
      ],
      "execution_count": null,
      "outputs": [
        {
          "output_type": "execute_result",
          "data": {
            "text/html": [
              "<div>\n",
              "<style scoped>\n",
              "    .dataframe tbody tr th:only-of-type {\n",
              "        vertical-align: middle;\n",
              "    }\n",
              "\n",
              "    .dataframe tbody tr th {\n",
              "        vertical-align: top;\n",
              "    }\n",
              "\n",
              "    .dataframe thead th {\n",
              "        text-align: right;\n",
              "    }\n",
              "</style>\n",
              "<table border=\"1\" class=\"dataframe\">\n",
              "  <thead>\n",
              "    <tr style=\"text-align: right;\">\n",
              "      <th></th>\n",
              "      <th>Humidity</th>\n",
              "      <th>Humidity_inter</th>\n",
              "    </tr>\n",
              "  </thead>\n",
              "  <tbody>\n",
              "    <tr>\n",
              "      <th>0</th>\n",
              "      <td>NaN</td>\n",
              "      <td>51.0</td>\n",
              "    </tr>\n",
              "    <tr>\n",
              "      <th>1</th>\n",
              "      <td>51.0</td>\n",
              "      <td>51.0</td>\n",
              "    </tr>\n",
              "    <tr>\n",
              "      <th>2</th>\n",
              "      <td>52.0</td>\n",
              "      <td>52.0</td>\n",
              "    </tr>\n",
              "    <tr>\n",
              "      <th>3</th>\n",
              "      <td>53.0</td>\n",
              "      <td>53.0</td>\n",
              "    </tr>\n",
              "    <tr>\n",
              "      <th>4</th>\n",
              "      <td>54.0</td>\n",
              "      <td>54.0</td>\n",
              "    </tr>\n",
              "    <tr>\n",
              "      <th>5</th>\n",
              "      <td>55.0</td>\n",
              "      <td>55.0</td>\n",
              "    </tr>\n",
              "    <tr>\n",
              "      <th>6</th>\n",
              "      <td>56.0</td>\n",
              "      <td>56.0</td>\n",
              "    </tr>\n",
              "    <tr>\n",
              "      <th>7</th>\n",
              "      <td>NaN</td>\n",
              "      <td>57.0</td>\n",
              "    </tr>\n",
              "    <tr>\n",
              "      <th>8</th>\n",
              "      <td>58.0</td>\n",
              "      <td>58.0</td>\n",
              "    </tr>\n",
              "    <tr>\n",
              "      <th>9</th>\n",
              "      <td>59.0</td>\n",
              "      <td>59.0</td>\n",
              "    </tr>\n",
              "    <tr>\n",
              "      <th>10</th>\n",
              "      <td>NaN</td>\n",
              "      <td>60.0</td>\n",
              "    </tr>\n",
              "    <tr>\n",
              "      <th>11</th>\n",
              "      <td>NaN</td>\n",
              "      <td>61.0</td>\n",
              "    </tr>\n",
              "    <tr>\n",
              "      <th>12</th>\n",
              "      <td>62.0</td>\n",
              "      <td>62.0</td>\n",
              "    </tr>\n",
              "    <tr>\n",
              "      <th>13</th>\n",
              "      <td>63.0</td>\n",
              "      <td>63.0</td>\n",
              "    </tr>\n",
              "  </tbody>\n",
              "</table>\n",
              "</div>"
            ],
            "text/plain": [
              "    Humidity  Humidity_inter\n",
              "0        NaN            51.0\n",
              "1       51.0            51.0\n",
              "2       52.0            52.0\n",
              "3       53.0            53.0\n",
              "4       54.0            54.0\n",
              "5       55.0            55.0\n",
              "6       56.0            56.0\n",
              "7        NaN            57.0\n",
              "8       58.0            58.0\n",
              "9       59.0            59.0\n",
              "10       NaN            60.0\n",
              "11       NaN            61.0\n",
              "12      62.0            62.0\n",
              "13      63.0            63.0"
            ]
          },
          "metadata": {
            "tags": []
          },
          "execution_count": 21
        }
      ]
    },
    {
      "cell_type": "code",
      "metadata": {
        "id": "8oY832XRszTD",
        "outputId": "835a2145-5751-4716-b01b-43b68813042f"
      },
      "source": [
        "frame = pd.DataFrame({'Humidity':np.arange(50,64)})\n",
        "\n",
        "frame.loc[[3,7,10,11],'Humidity'] = np.nan\n",
        "# print(frame)\n",
        "frame['Humidity_backfill'] = frame['Humidity'].fillna(value=None, method='backfill', axis=None, limit=None, downcast=None)\n",
        "frame"
      ],
      "execution_count": null,
      "outputs": [
        {
          "output_type": "execute_result",
          "data": {
            "text/html": [
              "<div>\n",
              "<style scoped>\n",
              "    .dataframe tbody tr th:only-of-type {\n",
              "        vertical-align: middle;\n",
              "    }\n",
              "\n",
              "    .dataframe tbody tr th {\n",
              "        vertical-align: top;\n",
              "    }\n",
              "\n",
              "    .dataframe thead th {\n",
              "        text-align: right;\n",
              "    }\n",
              "</style>\n",
              "<table border=\"1\" class=\"dataframe\">\n",
              "  <thead>\n",
              "    <tr style=\"text-align: right;\">\n",
              "      <th></th>\n",
              "      <th>Humidity</th>\n",
              "      <th>Humidity_backfill</th>\n",
              "    </tr>\n",
              "  </thead>\n",
              "  <tbody>\n",
              "    <tr>\n",
              "      <th>0</th>\n",
              "      <td>50.0</td>\n",
              "      <td>50.0</td>\n",
              "    </tr>\n",
              "    <tr>\n",
              "      <th>1</th>\n",
              "      <td>51.0</td>\n",
              "      <td>51.0</td>\n",
              "    </tr>\n",
              "    <tr>\n",
              "      <th>2</th>\n",
              "      <td>52.0</td>\n",
              "      <td>52.0</td>\n",
              "    </tr>\n",
              "    <tr>\n",
              "      <th>3</th>\n",
              "      <td>NaN</td>\n",
              "      <td>54.0</td>\n",
              "    </tr>\n",
              "    <tr>\n",
              "      <th>4</th>\n",
              "      <td>54.0</td>\n",
              "      <td>54.0</td>\n",
              "    </tr>\n",
              "    <tr>\n",
              "      <th>5</th>\n",
              "      <td>55.0</td>\n",
              "      <td>55.0</td>\n",
              "    </tr>\n",
              "    <tr>\n",
              "      <th>6</th>\n",
              "      <td>56.0</td>\n",
              "      <td>56.0</td>\n",
              "    </tr>\n",
              "    <tr>\n",
              "      <th>7</th>\n",
              "      <td>NaN</td>\n",
              "      <td>58.0</td>\n",
              "    </tr>\n",
              "    <tr>\n",
              "      <th>8</th>\n",
              "      <td>58.0</td>\n",
              "      <td>58.0</td>\n",
              "    </tr>\n",
              "    <tr>\n",
              "      <th>9</th>\n",
              "      <td>59.0</td>\n",
              "      <td>59.0</td>\n",
              "    </tr>\n",
              "    <tr>\n",
              "      <th>10</th>\n",
              "      <td>NaN</td>\n",
              "      <td>62.0</td>\n",
              "    </tr>\n",
              "    <tr>\n",
              "      <th>11</th>\n",
              "      <td>NaN</td>\n",
              "      <td>62.0</td>\n",
              "    </tr>\n",
              "    <tr>\n",
              "      <th>12</th>\n",
              "      <td>62.0</td>\n",
              "      <td>62.0</td>\n",
              "    </tr>\n",
              "    <tr>\n",
              "      <th>13</th>\n",
              "      <td>63.0</td>\n",
              "      <td>63.0</td>\n",
              "    </tr>\n",
              "  </tbody>\n",
              "</table>\n",
              "</div>"
            ],
            "text/plain": [
              "    Humidity  Humidity_backfill\n",
              "0       50.0               50.0\n",
              "1       51.0               51.0\n",
              "2       52.0               52.0\n",
              "3        NaN               54.0\n",
              "4       54.0               54.0\n",
              "5       55.0               55.0\n",
              "6       56.0               56.0\n",
              "7        NaN               58.0\n",
              "8       58.0               58.0\n",
              "9       59.0               59.0\n",
              "10       NaN               62.0\n",
              "11       NaN               62.0\n",
              "12      62.0               62.0\n",
              "13      63.0               63.0"
            ]
          },
          "metadata": {
            "tags": []
          },
          "execution_count": 25
        }
      ]
    },
    {
      "cell_type": "code",
      "metadata": {
        "id": "1LpoEIF_szTE",
        "outputId": "590a5749-949b-4244-9ee7-c610a0654690"
      },
      "source": [
        "frame = pd.DataFrame({'Humidity':np.arange(50,64)})\n",
        "\n",
        "frame.loc[[3,7,10,11],'Humidity'] = np.nan\n",
        "# print(frame)\n",
        "frame['Humidity_ffill'] = frame['Humidity'].fillna(method='ffill')#value=None, method='ffill', axis=None, limit=None, downcast=None)\n",
        "frame"
      ],
      "execution_count": null,
      "outputs": [
        {
          "output_type": "execute_result",
          "data": {
            "text/html": [
              "<div>\n",
              "<style scoped>\n",
              "    .dataframe tbody tr th:only-of-type {\n",
              "        vertical-align: middle;\n",
              "    }\n",
              "\n",
              "    .dataframe tbody tr th {\n",
              "        vertical-align: top;\n",
              "    }\n",
              "\n",
              "    .dataframe thead th {\n",
              "        text-align: right;\n",
              "    }\n",
              "</style>\n",
              "<table border=\"1\" class=\"dataframe\">\n",
              "  <thead>\n",
              "    <tr style=\"text-align: right;\">\n",
              "      <th></th>\n",
              "      <th>Humidity</th>\n",
              "      <th>Humidity_ffill</th>\n",
              "    </tr>\n",
              "  </thead>\n",
              "  <tbody>\n",
              "    <tr>\n",
              "      <th>0</th>\n",
              "      <td>50.0</td>\n",
              "      <td>50.0</td>\n",
              "    </tr>\n",
              "    <tr>\n",
              "      <th>1</th>\n",
              "      <td>51.0</td>\n",
              "      <td>51.0</td>\n",
              "    </tr>\n",
              "    <tr>\n",
              "      <th>2</th>\n",
              "      <td>52.0</td>\n",
              "      <td>52.0</td>\n",
              "    </tr>\n",
              "    <tr>\n",
              "      <th>3</th>\n",
              "      <td>NaN</td>\n",
              "      <td>52.0</td>\n",
              "    </tr>\n",
              "    <tr>\n",
              "      <th>4</th>\n",
              "      <td>54.0</td>\n",
              "      <td>54.0</td>\n",
              "    </tr>\n",
              "    <tr>\n",
              "      <th>5</th>\n",
              "      <td>55.0</td>\n",
              "      <td>55.0</td>\n",
              "    </tr>\n",
              "    <tr>\n",
              "      <th>6</th>\n",
              "      <td>56.0</td>\n",
              "      <td>56.0</td>\n",
              "    </tr>\n",
              "    <tr>\n",
              "      <th>7</th>\n",
              "      <td>NaN</td>\n",
              "      <td>56.0</td>\n",
              "    </tr>\n",
              "    <tr>\n",
              "      <th>8</th>\n",
              "      <td>58.0</td>\n",
              "      <td>58.0</td>\n",
              "    </tr>\n",
              "    <tr>\n",
              "      <th>9</th>\n",
              "      <td>59.0</td>\n",
              "      <td>59.0</td>\n",
              "    </tr>\n",
              "    <tr>\n",
              "      <th>10</th>\n",
              "      <td>NaN</td>\n",
              "      <td>59.0</td>\n",
              "    </tr>\n",
              "    <tr>\n",
              "      <th>11</th>\n",
              "      <td>NaN</td>\n",
              "      <td>59.0</td>\n",
              "    </tr>\n",
              "    <tr>\n",
              "      <th>12</th>\n",
              "      <td>62.0</td>\n",
              "      <td>62.0</td>\n",
              "    </tr>\n",
              "    <tr>\n",
              "      <th>13</th>\n",
              "      <td>63.0</td>\n",
              "      <td>63.0</td>\n",
              "    </tr>\n",
              "  </tbody>\n",
              "</table>\n",
              "</div>"
            ],
            "text/plain": [
              "    Humidity  Humidity_ffill\n",
              "0       50.0            50.0\n",
              "1       51.0            51.0\n",
              "2       52.0            52.0\n",
              "3        NaN            52.0\n",
              "4       54.0            54.0\n",
              "5       55.0            55.0\n",
              "6       56.0            56.0\n",
              "7        NaN            56.0\n",
              "8       58.0            58.0\n",
              "9       59.0            59.0\n",
              "10       NaN            59.0\n",
              "11       NaN            59.0\n",
              "12      62.0            62.0\n",
              "13      63.0            63.0"
            ]
          },
          "metadata": {
            "tags": []
          },
          "execution_count": 27
        }
      ]
    },
    {
      "cell_type": "code",
      "metadata": {
        "id": "nD2YYD24szTE"
      },
      "source": [
        "# n=5 # number of points to be checked before and after \n",
        "# # Find local peaks\n",
        "# df['min'] = df.iloc[argrelextrema(df.data.values, np.less_equal, order=n)[0]]['data']\n",
        "# df['max'] = df.iloc[argrelextrema(df.data.values, np.greater_equal, order=n)[0]]['data']"
      ],
      "execution_count": null,
      "outputs": []
    },
    {
      "cell_type": "code",
      "metadata": {
        "id": "sVJzIYraszTF",
        "outputId": "71979400-434b-47c6-fd7c-626e926db7a2"
      },
      "source": [
        "frame_new = pd.DataFrame({'Price':np.arange(50,100)})\n",
        "frame_new.loc[[12,4,45,46,47,34,33],'Price'] = np.nan\n",
        "frame_new"
      ],
      "execution_count": null,
      "outputs": [
        {
          "output_type": "execute_result",
          "data": {
            "text/html": [
              "<div>\n",
              "<style scoped>\n",
              "    .dataframe tbody tr th:only-of-type {\n",
              "        vertical-align: middle;\n",
              "    }\n",
              "\n",
              "    .dataframe tbody tr th {\n",
              "        vertical-align: top;\n",
              "    }\n",
              "\n",
              "    .dataframe thead th {\n",
              "        text-align: right;\n",
              "    }\n",
              "</style>\n",
              "<table border=\"1\" class=\"dataframe\">\n",
              "  <thead>\n",
              "    <tr style=\"text-align: right;\">\n",
              "      <th></th>\n",
              "      <th>Price</th>\n",
              "    </tr>\n",
              "  </thead>\n",
              "  <tbody>\n",
              "    <tr>\n",
              "      <th>0</th>\n",
              "      <td>50.0</td>\n",
              "    </tr>\n",
              "    <tr>\n",
              "      <th>1</th>\n",
              "      <td>51.0</td>\n",
              "    </tr>\n",
              "    <tr>\n",
              "      <th>2</th>\n",
              "      <td>52.0</td>\n",
              "    </tr>\n",
              "    <tr>\n",
              "      <th>3</th>\n",
              "      <td>53.0</td>\n",
              "    </tr>\n",
              "    <tr>\n",
              "      <th>4</th>\n",
              "      <td>NaN</td>\n",
              "    </tr>\n",
              "    <tr>\n",
              "      <th>5</th>\n",
              "      <td>55.0</td>\n",
              "    </tr>\n",
              "    <tr>\n",
              "      <th>6</th>\n",
              "      <td>56.0</td>\n",
              "    </tr>\n",
              "    <tr>\n",
              "      <th>7</th>\n",
              "      <td>57.0</td>\n",
              "    </tr>\n",
              "    <tr>\n",
              "      <th>8</th>\n",
              "      <td>58.0</td>\n",
              "    </tr>\n",
              "    <tr>\n",
              "      <th>9</th>\n",
              "      <td>59.0</td>\n",
              "    </tr>\n",
              "    <tr>\n",
              "      <th>10</th>\n",
              "      <td>60.0</td>\n",
              "    </tr>\n",
              "    <tr>\n",
              "      <th>11</th>\n",
              "      <td>61.0</td>\n",
              "    </tr>\n",
              "    <tr>\n",
              "      <th>12</th>\n",
              "      <td>NaN</td>\n",
              "    </tr>\n",
              "    <tr>\n",
              "      <th>13</th>\n",
              "      <td>63.0</td>\n",
              "    </tr>\n",
              "    <tr>\n",
              "      <th>14</th>\n",
              "      <td>64.0</td>\n",
              "    </tr>\n",
              "    <tr>\n",
              "      <th>15</th>\n",
              "      <td>65.0</td>\n",
              "    </tr>\n",
              "    <tr>\n",
              "      <th>16</th>\n",
              "      <td>66.0</td>\n",
              "    </tr>\n",
              "    <tr>\n",
              "      <th>17</th>\n",
              "      <td>67.0</td>\n",
              "    </tr>\n",
              "    <tr>\n",
              "      <th>18</th>\n",
              "      <td>68.0</td>\n",
              "    </tr>\n",
              "    <tr>\n",
              "      <th>19</th>\n",
              "      <td>69.0</td>\n",
              "    </tr>\n",
              "    <tr>\n",
              "      <th>20</th>\n",
              "      <td>70.0</td>\n",
              "    </tr>\n",
              "    <tr>\n",
              "      <th>21</th>\n",
              "      <td>71.0</td>\n",
              "    </tr>\n",
              "    <tr>\n",
              "      <th>22</th>\n",
              "      <td>72.0</td>\n",
              "    </tr>\n",
              "    <tr>\n",
              "      <th>23</th>\n",
              "      <td>73.0</td>\n",
              "    </tr>\n",
              "    <tr>\n",
              "      <th>24</th>\n",
              "      <td>74.0</td>\n",
              "    </tr>\n",
              "    <tr>\n",
              "      <th>25</th>\n",
              "      <td>75.0</td>\n",
              "    </tr>\n",
              "    <tr>\n",
              "      <th>26</th>\n",
              "      <td>76.0</td>\n",
              "    </tr>\n",
              "    <tr>\n",
              "      <th>27</th>\n",
              "      <td>77.0</td>\n",
              "    </tr>\n",
              "    <tr>\n",
              "      <th>28</th>\n",
              "      <td>78.0</td>\n",
              "    </tr>\n",
              "    <tr>\n",
              "      <th>29</th>\n",
              "      <td>79.0</td>\n",
              "    </tr>\n",
              "    <tr>\n",
              "      <th>30</th>\n",
              "      <td>80.0</td>\n",
              "    </tr>\n",
              "    <tr>\n",
              "      <th>31</th>\n",
              "      <td>81.0</td>\n",
              "    </tr>\n",
              "    <tr>\n",
              "      <th>32</th>\n",
              "      <td>82.0</td>\n",
              "    </tr>\n",
              "    <tr>\n",
              "      <th>33</th>\n",
              "      <td>NaN</td>\n",
              "    </tr>\n",
              "    <tr>\n",
              "      <th>34</th>\n",
              "      <td>NaN</td>\n",
              "    </tr>\n",
              "    <tr>\n",
              "      <th>35</th>\n",
              "      <td>85.0</td>\n",
              "    </tr>\n",
              "    <tr>\n",
              "      <th>36</th>\n",
              "      <td>86.0</td>\n",
              "    </tr>\n",
              "    <tr>\n",
              "      <th>37</th>\n",
              "      <td>87.0</td>\n",
              "    </tr>\n",
              "    <tr>\n",
              "      <th>38</th>\n",
              "      <td>88.0</td>\n",
              "    </tr>\n",
              "    <tr>\n",
              "      <th>39</th>\n",
              "      <td>89.0</td>\n",
              "    </tr>\n",
              "    <tr>\n",
              "      <th>40</th>\n",
              "      <td>90.0</td>\n",
              "    </tr>\n",
              "    <tr>\n",
              "      <th>41</th>\n",
              "      <td>91.0</td>\n",
              "    </tr>\n",
              "    <tr>\n",
              "      <th>42</th>\n",
              "      <td>92.0</td>\n",
              "    </tr>\n",
              "    <tr>\n",
              "      <th>43</th>\n",
              "      <td>93.0</td>\n",
              "    </tr>\n",
              "    <tr>\n",
              "      <th>44</th>\n",
              "      <td>94.0</td>\n",
              "    </tr>\n",
              "    <tr>\n",
              "      <th>45</th>\n",
              "      <td>NaN</td>\n",
              "    </tr>\n",
              "    <tr>\n",
              "      <th>46</th>\n",
              "      <td>NaN</td>\n",
              "    </tr>\n",
              "    <tr>\n",
              "      <th>47</th>\n",
              "      <td>NaN</td>\n",
              "    </tr>\n",
              "    <tr>\n",
              "      <th>48</th>\n",
              "      <td>98.0</td>\n",
              "    </tr>\n",
              "    <tr>\n",
              "      <th>49</th>\n",
              "      <td>99.0</td>\n",
              "    </tr>\n",
              "  </tbody>\n",
              "</table>\n",
              "</div>"
            ],
            "text/plain": [
              "    Price\n",
              "0    50.0\n",
              "1    51.0\n",
              "2    52.0\n",
              "3    53.0\n",
              "4     NaN\n",
              "5    55.0\n",
              "6    56.0\n",
              "7    57.0\n",
              "8    58.0\n",
              "9    59.0\n",
              "10   60.0\n",
              "11   61.0\n",
              "12    NaN\n",
              "13   63.0\n",
              "14   64.0\n",
              "15   65.0\n",
              "16   66.0\n",
              "17   67.0\n",
              "18   68.0\n",
              "19   69.0\n",
              "20   70.0\n",
              "21   71.0\n",
              "22   72.0\n",
              "23   73.0\n",
              "24   74.0\n",
              "25   75.0\n",
              "26   76.0\n",
              "27   77.0\n",
              "28   78.0\n",
              "29   79.0\n",
              "30   80.0\n",
              "31   81.0\n",
              "32   82.0\n",
              "33    NaN\n",
              "34    NaN\n",
              "35   85.0\n",
              "36   86.0\n",
              "37   87.0\n",
              "38   88.0\n",
              "39   89.0\n",
              "40   90.0\n",
              "41   91.0\n",
              "42   92.0\n",
              "43   93.0\n",
              "44   94.0\n",
              "45    NaN\n",
              "46    NaN\n",
              "47    NaN\n",
              "48   98.0\n",
              "49   99.0"
            ]
          },
          "metadata": {
            "tags": []
          },
          "execution_count": 58
        }
      ]
    },
    {
      "cell_type": "code",
      "metadata": {
        "id": "NE1Mo6leszTF"
      },
      "source": [
        ""
      ],
      "execution_count": null,
      "outputs": []
    }
  ]
}