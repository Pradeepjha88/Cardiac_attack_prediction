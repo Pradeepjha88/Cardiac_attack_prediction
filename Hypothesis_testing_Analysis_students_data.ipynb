{
  "nbformat": 4,
  "nbformat_minor": 0,
  "metadata": {
    "colab": {
      "name": "Hypothesis_testing_Analysis_students_data.ipynb",
      "provenance": [],
      "collapsed_sections": [],
      "include_colab_link": true
    },
    "kernelspec": {
      "name": "python3",
      "display_name": "Python 3"
    }
  },
  "cells": [
    {
      "cell_type": "markdown",
      "metadata": {
        "id": "view-in-github",
        "colab_type": "text"
      },
      "source": [
        "<a href=\"https://colab.research.google.com/github/Pradeepjha88/Cardiac_attack_prediction/blob/master/Hypothesis_testing_Analysis_students_data.ipynb\" target=\"_parent\"><img src=\"https://colab.research.google.com/assets/colab-badge.svg\" alt=\"Open In Colab\"/></a>"
      ]
    },
    {
      "cell_type": "code",
      "metadata": {
        "id": "jOfCCq_w_cDR"
      },
      "source": [
        "import pandas as pd"
      ],
      "execution_count": null,
      "outputs": []
    },
    {
      "cell_type": "code",
      "metadata": {
        "id": "M9tPHkmpDP3O"
      },
      "source": [
        "df = pd.read_csv(\"student-mat.csv\")"
      ],
      "execution_count": null,
      "outputs": []
    },
    {
      "cell_type": "code",
      "metadata": {
        "colab": {
          "base_uri": "https://localhost:8080/"
        },
        "id": "EdjLyoHwDY9V",
        "outputId": "1e1e9ba1-1b6d-459a-9a31-be232b266e12"
      },
      "source": [
        "df.columns"
      ],
      "execution_count": null,
      "outputs": [
        {
          "output_type": "execute_result",
          "data": {
            "text/plain": [
              "Index(['school', 'sex', 'age', 'address', 'famsize', 'Pstatus', 'Medu', 'Fedu',\n",
              "       'Mjob', 'Fjob', 'reason', 'guardian', 'traveltime', 'studytime',\n",
              "       'failures', 'schoolsup', 'famsup', 'paid', 'activities', 'nursery',\n",
              "       'higher', 'internet', 'romantic', 'famrel', 'freetime', 'goout', 'Dalc',\n",
              "       'Walc', 'health', 'absences', 'G1', 'G2', 'G3'],\n",
              "      dtype='object')"
            ]
          },
          "metadata": {
            "tags": []
          },
          "execution_count": 4
        }
      ]
    },
    {
      "cell_type": "code",
      "metadata": {
        "colab": {
          "base_uri": "https://localhost:8080/"
        },
        "id": "PCzLmGM_FCjC",
        "outputId": "039cf9e4-1ed8-4ee4-f273-6a99c0e14427"
      },
      "source": [
        "df['Total_Grades'] = df['G1'] + df['G2'] + df['G3']\n",
        "df['Total_Grades'].describe()"
      ],
      "execution_count": null,
      "outputs": [
        {
          "output_type": "execute_result",
          "data": {
            "text/plain": [
              "count    395.000000\n",
              "mean      32.037975\n",
              "std       11.090357\n",
              "min        4.000000\n",
              "25%       25.000000\n",
              "50%       32.000000\n",
              "75%       40.000000\n",
              "max       58.000000\n",
              "Name: Total_Grades, dtype: float64"
            ]
          },
          "metadata": {
            "tags": []
          },
          "execution_count": 5
        }
      ]
    },
    {
      "cell_type": "code",
      "metadata": {
        "colab": {
          "base_uri": "https://localhost:8080/"
        },
        "id": "HBOOJmkzaBLw",
        "outputId": "a7e7b888-ea30-4fd6-cf22-7257b5d594eb"
      },
      "source": [
        "df['traveltime'].value_counts()"
      ],
      "execution_count": null,
      "outputs": [
        {
          "output_type": "execute_result",
          "data": {
            "text/plain": [
              "1    257\n",
              "2    107\n",
              "3     23\n",
              "4      8\n",
              "Name: traveltime, dtype: int64"
            ]
          },
          "metadata": {
            "tags": []
          },
          "execution_count": 6
        }
      ]
    },
    {
      "cell_type": "code",
      "metadata": {
        "colab": {
          "base_uri": "https://localhost:8080/"
        },
        "id": "PAW8k7ZpFImc",
        "outputId": "9d44b710-4038-4515-b64d-26395072c77b"
      },
      "source": [
        "df_g = df[df['sex'] == 'F']\n",
        "df_g.shape"
      ],
      "execution_count": null,
      "outputs": [
        {
          "output_type": "execute_result",
          "data": {
            "text/plain": [
              "(208, 34)"
            ]
          },
          "metadata": {
            "tags": []
          },
          "execution_count": 7
        }
      ]
    },
    {
      "cell_type": "code",
      "metadata": {
        "colab": {
          "base_uri": "https://localhost:8080/"
        },
        "id": "R50su5oLGlwu",
        "outputId": "d2a9b189-3a3a-40d2-8820-3b8dfd183732"
      },
      "source": [
        "df_b = df[df['sex'] == 'M']\n",
        "df_b.shape"
      ],
      "execution_count": null,
      "outputs": [
        {
          "output_type": "execute_result",
          "data": {
            "text/plain": [
              "(187, 34)"
            ]
          },
          "metadata": {
            "tags": []
          },
          "execution_count": 8
        }
      ]
    },
    {
      "cell_type": "code",
      "metadata": {
        "id": "qy24obVLGz5y"
      },
      "source": [
        "import seaborn as sb\n",
        "from matplotlib import pyplot as plt"
      ],
      "execution_count": null,
      "outputs": []
    },
    {
      "cell_type": "code",
      "metadata": {
        "colab": {
          "base_uri": "https://localhost:8080/",
          "height": 282
        },
        "id": "wc_azySbG9xz",
        "outputId": "be785450-0ebe-4abd-e7f1-8ba68a1f79c3"
      },
      "source": [
        "sb.violinplot(x = \"traveltime\", y = \"Total_Grades\", data=df_g)\n",
        "plt.show()"
      ],
      "execution_count": null,
      "outputs": [
        {
          "output_type": "display_data",
          "data": {
            "image/png": "[encoded data removed]",
            "text/plain": [
              "<Figure size 432x288 with 1 Axes>"
            ]
          },
          "metadata": {
            "tags": [],
            "needs_background": "light"
          }
        }
      ]
    },
    {
      "cell_type": "code",
      "metadata": {
        "colab": {
          "base_uri": "https://localhost:8080/",
          "height": 279
        },
        "id": "NxHYWH2FHFwr",
        "outputId": "b05ebd5b-cc9f-4385-9d1c-f844a3c004a2"
      },
      "source": [
        "sb.violinplot(x = \"traveltime\", y = \"Total_Grades\", data=df_b)\n",
        "plt.show()"
      ],
      "execution_count": null,
      "outputs": [
        {
          "output_type": "display_data",
          "data": {
            "image/png": "[encoded data removed]",
            "text/plain": [
              "<Figure size 432x288 with 1 Axes>"
            ]
          },
          "metadata": {
            "tags": [],
            "needs_background": "light"
          }
        }
      ]
    },
    {
      "cell_type": "code",
      "metadata": {
        "id": "XruA61cpHJAd"
      },
      "source": [
        "from scipy.stats import ttest_ind"
      ],
      "execution_count": null,
      "outputs": []
    },
    {
      "cell_type": "code",
      "metadata": {
        "colab": {
          "base_uri": "https://localhost:8080/"
        },
        "id": "ns9XAOUXSUjG",
        "outputId": "5955740b-548d-4af3-f260-0d086af6fd2f"
      },
      "source": [
        "ttest_ind(df_g['Total_Grades'], df_b['Total_Grades'], equal_var=False)"
      ],
      "execution_count": null,
      "outputs": [
        {
          "output_type": "execute_result",
          "data": {
            "text/plain": [
              "Ttest_indResult(statistic=-2.0108259205612837, pvalue=0.04504083323001287)"
            ]
          },
          "metadata": {
            "tags": []
          },
          "execution_count": 13
        }
      ]
    },
    {
      "cell_type": "markdown",
      "metadata": {
        "id": "PtPg4b3FcTgh"
      },
      "source": [
        "#### Conclusion:\n",
        "\n",
        "Because here p-value = 0.045 which is less than 0.05.\n",
        "\n",
        "We reject the null hypothesis that both groups average value of 'total grades' is same\n",
        "\n",
        "OR \n",
        "\n",
        "We conclude that both groups have different average value of 'total grades'\n",
        "\n",
        "OR\n",
        "\n",
        "Conclusion:: Boys and Girls have different average values for total grades.\n",
        "\n",
        "Ref ::\n",
        "https://docs.scipy.org/doc/scipy/reference/generated/scipy.stats.ttest_ind.html#scipy.stats.ttest_ind"
      ]
    },
    {
      "cell_type": "code",
      "metadata": {
        "colab": {
          "base_uri": "https://localhost:8080/"
        },
        "id": "XeUzb6VeSfzi",
        "outputId": "73c5d67c-e011-4cfe-f047-6376f539779f"
      },
      "source": [
        "ttest_ind(df_g.loc[df_g['traveltime']==1,'Total_Grades'], df_b.loc[df_b['traveltime']==1,'Total_Grades'], equal_var=False)"
      ],
      "execution_count": null,
      "outputs": [
        {
          "output_type": "execute_result",
          "data": {
            "text/plain": [
              "Ttest_indResult(statistic=-2.344603304428741, pvalue=0.019871790530242364)"
            ]
          },
          "metadata": {
            "tags": []
          },
          "execution_count": 14
        }
      ]
    },
    {
      "cell_type": "code",
      "metadata": {
        "colab": {
          "base_uri": "https://localhost:8080/"
        },
        "id": "eL6jbBenS8GK",
        "outputId": "df23446e-4f57-4461-e892-aa3e2a0c7c89"
      },
      "source": [
        "ttest_ind(df_g.loc[df_g['traveltime']==2,'Total_Grades'], df_b.loc[df_b['traveltime']==2,'Total_Grades'], equal_var=False)"
      ],
      "execution_count": null,
      "outputs": [
        {
          "output_type": "execute_result",
          "data": {
            "text/plain": [
              "Ttest_indResult(statistic=-0.7846158926800821, pvalue=0.4344867032369447)"
            ]
          },
          "metadata": {
            "tags": []
          },
          "execution_count": 15
        }
      ]
    },
    {
      "cell_type": "code",
      "metadata": {
        "colab": {
          "base_uri": "https://localhost:8080/"
        },
        "id": "S-goi_HiTF7O",
        "outputId": "42169c91-5c81-4886-d01c-b9bfefb74b78"
      },
      "source": [
        "ttest_ind(df_g.loc[df_g['traveltime']==3,'Total_Grades'], df_b.loc[df_b['traveltime']==3,'Total_Grades'], equal_var=False)"
      ],
      "execution_count": null,
      "outputs": [
        {
          "output_type": "execute_result",
          "data": {
            "text/plain": [
              "Ttest_indResult(statistic=0.20425282805943507, pvalue=0.8402217158577179)"
            ]
          },
          "metadata": {
            "tags": []
          },
          "execution_count": 16
        }
      ]
    },
    {
      "cell_type": "code",
      "metadata": {
        "colab": {
          "base_uri": "https://localhost:8080/"
        },
        "id": "78DN0sXgTKaI",
        "outputId": "085cb6c2-2d78-451d-dd6a-8d4d979c909c"
      },
      "source": [
        "ttest_ind(df_g.loc[df_g['traveltime']==4,'Total_Grades'], df_b.loc[df_b['traveltime']==4,'Total_Grades'], equal_var=False)"
      ],
      "execution_count": null,
      "outputs": [
        {
          "output_type": "execute_result",
          "data": {
            "text/plain": [
              "Ttest_indResult(statistic=0.6042691353411971, pvalue=0.5679856683012361)"
            ]
          },
          "metadata": {
            "tags": []
          },
          "execution_count": 19
        }
      ]
    },
    {
      "cell_type": "code",
      "metadata": {
        "id": "G98bjvm_ddgi"
      },
      "source": [
        ""
      ],
      "execution_count": null,
      "outputs": []
    },
    {
      "cell_type": "code",
      "metadata": {
        "id": "fLPZNLm8ddVZ"
      },
      "source": [
        ""
      ],
      "execution_count": null,
      "outputs": []
    },
    {
      "cell_type": "markdown",
      "metadata": {
        "id": "m-B7Q5B8djBB"
      },
      "source": [
        "# WRONG t-test\n",
        "\n",
        "Don't perform t test on CATEGORICAL variables"
      ]
    },
    {
      "cell_type": "code",
      "metadata": {
        "colab": {
          "base_uri": "https://localhost:8080/"
        },
        "id": "VMPLiXfwTNnL",
        "outputId": "882e6a08-7e42-470e-c583-f92f54568db4"
      },
      "source": [
        "ttest_ind(df_g['traveltime'], df_b['traveltime'], equal_var=False)"
      ],
      "execution_count": null,
      "outputs": [
        {
          "output_type": "execute_result",
          "data": {
            "text/plain": [
              "Ttest_indResult(statistic=-1.1766488493992366, pvalue=0.2400940642446063)"
            ]
          },
          "metadata": {
            "tags": []
          },
          "execution_count": 17
        }
      ]
    },
    {
      "cell_type": "code",
      "metadata": {
        "id": "aeyarJ24dhaR"
      },
      "source": [
        ""
      ],
      "execution_count": null,
      "outputs": []
    },
    {
      "cell_type": "markdown",
      "metadata": {
        "id": "ZiTvmDvA4Yma"
      },
      "source": [
        "# ANOVA (ANalysis Of VAriance)"
      ]
    },
    {
      "cell_type": "markdown",
      "metadata": {
        "id": "AThLWFTW4fVm"
      },
      "source": [
        "## One Way ANOVA\n",
        "\n",
        "Lets check by using one-way ANOVA test on travel time and total grades"
      ]
    },
    {
      "cell_type": "code",
      "metadata": {
        "id": "U69lz1xs4ZhN"
      },
      "source": [
        "from scipy import stats"
      ],
      "execution_count": null,
      "outputs": []
    },
    {
      "cell_type": "code",
      "metadata": {
        "colab": {
          "base_uri": "https://localhost:8080/"
        },
        "id": "3oDYsUqf4aMW",
        "outputId": "4bc38102-6122-4bc9-b8f9-fc39f6d62759"
      },
      "source": [
        "df['famsize'].unique()"
      ],
      "execution_count": null,
      "outputs": [
        {
          "output_type": "execute_result",
          "data": {
            "text/plain": [
              "array(['GT3', 'LE3'], dtype=object)"
            ]
          },
          "metadata": {
            "tags": []
          },
          "execution_count": 27
        }
      ]
    },
    {
      "cell_type": "code",
      "metadata": {
        "colab": {
          "base_uri": "https://localhost:8080/"
        },
        "id": "Db-MSdAI45UN",
        "outputId": "e125c8f8-d89f-4886-ebcb-61b1978c90f2"
      },
      "source": [
        "df['Total_Grades'].describe()"
      ],
      "execution_count": null,
      "outputs": [
        {
          "output_type": "execute_result",
          "data": {
            "text/plain": [
              "count    395.000000\n",
              "mean      32.037975\n",
              "std       11.090357\n",
              "min        4.000000\n",
              "25%       25.000000\n",
              "50%       32.000000\n",
              "75%       40.000000\n",
              "max       58.000000\n",
              "Name: Total_Grades, dtype: float64"
            ]
          },
          "metadata": {
            "tags": []
          },
          "execution_count": 20
        }
      ]
    },
    {
      "cell_type": "code",
      "metadata": {
        "id": "vi9q1D1X4-3B"
      },
      "source": [
        "F, p = stats.f_oneway(df.loc[df['famsize']=='GT3','Total_Grades'],\n",
        "            df.loc[df['famsize']=='LE3','Total_Grades'])"
      ],
      "execution_count": null,
      "outputs": []
    },
    {
      "cell_type": "code",
      "metadata": {
        "colab": {
          "base_uri": "https://localhost:8080/"
        },
        "id": "gE-wNbSE5dXQ",
        "outputId": "e3f84e28-16e9-4f16-abd3-1bb80032f561"
      },
      "source": [
        "# Seeing if the overall model is significant\n",
        "print('F-Statistic=%.3f, p=%.3f' % (F, p))"
      ],
      "execution_count": null,
      "outputs": [
        {
          "output_type": "stream",
          "text": [
            "F-Statistic=2.697, p=0.101\n"
          ],
          "name": "stdout"
        }
      ]
    },
    {
      "cell_type": "markdown",
      "metadata": {
        "id": "qMycmJAQ5shG"
      },
      "source": [
        "We see that p-value > 0.05. Hence, we can ACCEPT the Null Hypothesis – there are differences among different family size groups."
      ]
    },
    {
      "cell_type": "markdown",
      "metadata": {
        "id": "C9OaE2zc6SRy"
      },
      "source": [
        "# TWO Way ANOVA"
      ]
    },
    {
      "cell_type": "code",
      "metadata": {
        "colab": {
          "base_uri": "https://localhost:8080/"
        },
        "id": "e2oIToRM5o5A",
        "outputId": "15555626-3a75-4b76-e8fc-9b9fed18a69a"
      },
      "source": [
        "from statsmodels.formula.api import ols\n",
        "from statsmodels.stats.anova import anova_lm"
      ],
      "execution_count": null,
      "outputs": [
        {
          "output_type": "stream",
          "text": [
            "/usr/local/lib/python3.7/dist-packages/statsmodels/tools/_testing.py:19: FutureWarning: pandas.util.testing is deprecated. Use the functions in the public API at pandas.testing instead.\n",
            "  import pandas.util.testing as tm\n"
          ],
          "name": "stderr"
        }
      ]
    },
    {
      "cell_type": "code",
      "metadata": {
        "colab": {
          "base_uri": "https://localhost:8080/",
          "height": 494
        },
        "id": "7ff-ZUfQ8IYs",
        "outputId": "50571b51-a096-48ec-ffb2-29a0089d103e"
      },
      "source": [
        "#Approach 2 - Check the interaction of groups\n",
        "formula = 'Total_Grades ~ C(famsize) *C(sex)'\n",
        "model = ols(formula, df).fit()\n",
        "model.summary()"
      ],
      "execution_count": null,
      "outputs": [
        {
          "output_type": "execute_result",
          "data": {
            "text/html": [
              "<table class=\"simpletable\">\n",
              "<caption>OLS Regression Results</caption>\n",
              "<tr>\n",
              "  <th>Dep. Variable:</th>      <td>Total_Grades</td>   <th>  R-squared:         </th> <td>   0.021</td>\n",
              "</tr>\n",
              "<tr>\n",
              "  <th>Model:</th>                   <td>OLS</td>       <th>  Adj. R-squared:    </th> <td>   0.013</td>\n",
              "</tr>\n",
              "<tr>\n",
              "  <th>Method:</th>             <td>Least Squares</td>  <th>  F-statistic:       </th> <td>   2.767</td>\n",
              "</tr>\n",
              "<tr>\n",
              "  <th>Date:</th>             <td>Tue, 15 Jun 2021</td> <th>  Prob (F-statistic):</th>  <td>0.0416</td> \n",
              "</tr>\n",
              "<tr>\n",
              "  <th>Time:</th>                 <td>04:36:45</td>     <th>  Log-Likelihood:    </th> <td> -1506.2</td>\n",
              "</tr>\n",
              "<tr>\n",
              "  <th>No. Observations:</th>      <td>   395</td>      <th>  AIC:               </th> <td>   3020.</td>\n",
              "</tr>\n",
              "<tr>\n",
              "  <th>Df Residuals:</th>          <td>   391</td>      <th>  BIC:               </th> <td>   3036.</td>\n",
              "</tr>\n",
              "<tr>\n",
              "  <th>Df Model:</th>              <td>     3</td>      <th>                     </th>     <td> </td>   \n",
              "</tr>\n",
              "<tr>\n",
              "  <th>Covariance Type:</th>      <td>nonrobust</td>    <th>                     </th>     <td> </td>   \n",
              "</tr>\n",
              "</table>\n",
              "<table class=\"simpletable\">\n",
              "<tr>\n",
              "                <td></td>                   <th>coef</th>     <th>std err</th>      <th>t</th>      <th>P>|t|</th>  <th>[0.025</th>    <th>0.975]</th>  \n",
              "</tr>\n",
              "<tr>\n",
              "  <th>Intercept</th>                     <td>   30.0705</td> <td>    0.882</td> <td>   34.093</td> <td> 0.000</td> <td>   28.336</td> <td>   31.805</td>\n",
              "</tr>\n",
              "<tr>\n",
              "  <th>C(famsize)[T.LE3]</th>             <td>    3.6218</td> <td>    1.764</td> <td>    2.053</td> <td> 0.041</td> <td>    0.154</td> <td>    7.090</td>\n",
              "</tr>\n",
              "<tr>\n",
              "  <th>C(sex)[T.M]</th>                   <td>    3.1135</td> <td>    1.322</td> <td>    2.354</td> <td> 0.019</td> <td>    0.513</td> <td>    5.713</td>\n",
              "</tr>\n",
              "<tr>\n",
              "  <th>C(famsize)[T.LE3]:C(sex)[T.M]</th> <td>   -3.5155</td> <td>    2.458</td> <td>   -1.430</td> <td> 0.153</td> <td>   -8.347</td> <td>    1.316</td>\n",
              "</tr>\n",
              "</table>\n",
              "<table class=\"simpletable\">\n",
              "<tr>\n",
              "  <th>Omnibus:</th>       <td> 3.347</td> <th>  Durbin-Watson:     </th> <td>   2.031</td>\n",
              "</tr>\n",
              "<tr>\n",
              "  <th>Prob(Omnibus):</th> <td> 0.188</td> <th>  Jarque-Bera (JB):  </th> <td>   2.992</td>\n",
              "</tr>\n",
              "<tr>\n",
              "  <th>Skew:</th>          <td>-0.136</td> <th>  Prob(JB):          </th> <td>   0.224</td>\n",
              "</tr>\n",
              "<tr>\n",
              "  <th>Kurtosis:</th>      <td> 2.671</td> <th>  Cond. No.          </th> <td>    6.37</td>\n",
              "</tr>\n",
              "</table><br/><br/>Warnings:<br/>[1] Standard Errors assume that the covariance matrix of the errors is correctly specified."
            ],
            "text/plain": [
              "<class 'statsmodels.iolib.summary.Summary'>\n",
              "\"\"\"\n",
              "                            OLS Regression Results                            \n",
              "==============================================================================\n",
              "Dep. Variable:           Total_Grades   R-squared:                       0.021\n",
              "Model:                            OLS   Adj. R-squared:                  0.013\n",
              "Method:                 Least Squares   F-statistic:                     2.767\n",
              "Date:                Tue, 15 Jun 2021   Prob (F-statistic):             0.0416\n",
              "Time:                        04:36:45   Log-Likelihood:                -1506.2\n",
              "No. Observations:                 395   AIC:                             3020.\n",
              "Df Residuals:                     391   BIC:                             3036.\n",
              "Df Model:                           3                                         \n",
              "Covariance Type:            nonrobust                                         \n",
              "=================================================================================================\n",
              "                                    coef    std err          t      P>|t|      [0.025      0.975]\n",
              "-------------------------------------------------------------------------------------------------\n",
              "Intercept                        30.0705      0.882     34.093      0.000      28.336      31.805\n",
              "C(famsize)[T.LE3]                 3.6218      1.764      2.053      0.041       0.154       7.090\n",
              "C(sex)[T.M]                       3.1135      1.322      2.354      0.019       0.513       5.713\n",
              "C(famsize)[T.LE3]:C(sex)[T.M]    -3.5155      2.458     -1.430      0.153      -8.347       1.316\n",
              "==============================================================================\n",
              "Omnibus:                        3.347   Durbin-Watson:                   2.031\n",
              "Prob(Omnibus):                  0.188   Jarque-Bera (JB):                2.992\n",
              "Skew:                          -0.136   Prob(JB):                        0.224\n",
              "Kurtosis:                       2.671   Cond. No.                         6.37\n",
              "==============================================================================\n",
              "\n",
              "Warnings:\n",
              "[1] Standard Errors assume that the covariance matrix of the errors is correctly specified.\n",
              "\"\"\""
            ]
          },
          "metadata": {
            "tags": []
          },
          "execution_count": 31
        }
      ]
    },
    {
      "cell_type": "markdown",
      "metadata": {
        "id": "zpbllvL799JX"
      },
      "source": [
        "# Conclusion\n",
        "\n",
        "p value of C(famsize)[T.LE3]:C(sex)[T.M]\tis 0.153 which is greater than 0.05 so,\n",
        "\n",
        "we conclude that family size and gender doesn't affect the total results"
      ]
    },
    {
      "cell_type": "code",
      "metadata": {
        "id": "PxvlZqhd9Zar"
      },
      "source": [
        ""
      ],
      "execution_count": null,
      "outputs": []
    }
  ]
}