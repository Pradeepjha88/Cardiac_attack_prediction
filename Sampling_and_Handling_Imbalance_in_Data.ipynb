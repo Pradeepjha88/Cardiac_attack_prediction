{
  "nbformat": 4,
  "nbformat_minor": 0,
  "metadata": {
    "colab": {
      "name": "Sampling and Handling Imbalance in Data.ipynb",
      "provenance": [],
      "collapsed_sections": [],
      "include_colab_link": true
    },
    "kernelspec": {
      "name": "python3",
      "display_name": "Python 3"
    },
    "language_info": {
      "name": "python"
    }
  },
  "cells": [
    {
      "cell_type": "markdown",
      "metadata": {
        "id": "view-in-github",
        "colab_type": "text"
      },
      "source": [
        "<a href=\"https://colab.research.google.com/github/Pradeepjha88/Cardiac_attack_prediction/blob/master/Sampling_and_Handling_Imbalance_in_Data.ipynb\" target=\"_parent\"><img src=\"https://colab.research.google.com/assets/colab-badge.svg\" alt=\"Open In Colab\"/></a>"
      ]
    },
    {
      "cell_type": "code",
      "metadata": {
        "id": "PZVltxAcTYxU"
      },
      "source": [
        "import pandas as pd"
      ],
      "execution_count": null,
      "outputs": []
    },
    {
      "cell_type": "code",
      "metadata": {
        "id": "AnTug3RuTfvr"
      },
      "source": [
        "df = pd.read_csv(\"clean_cervical.csv\")"
      ],
      "execution_count": null,
      "outputs": []
    },
    {
      "cell_type": "code",
      "metadata": {
        "colab": {
          "base_uri": "https://localhost:8080/"
        },
        "id": "yo1OiKddTrcz",
        "outputId": "c6e8bac5-e11f-4e0f-d60d-6e348e71a297"
      },
      "source": [
        "df.shape"
      ],
      "execution_count": null,
      "outputs": [
        {
          "output_type": "execute_result",
          "data": {
            "text/plain": [
              "(858, 33)"
            ]
          },
          "metadata": {
            "tags": []
          },
          "execution_count": 3
        }
      ]
    },
    {
      "cell_type": "code",
      "metadata": {
        "colab": {
          "base_uri": "https://localhost:8080/",
          "height": 226
        },
        "id": "nH9GHdNJTsqo",
        "outputId": "75e409c0-325a-43eb-dc2c-2d8c093f39d4"
      },
      "source": [
        "df.head()"
      ],
      "execution_count": null,
      "outputs": [
        {
          "output_type": "execute_result",
          "data": {
            "text/html": [
              "<div>\n",
              "<style scoped>\n",
              "    .dataframe tbody tr th:only-of-type {\n",
              "        vertical-align: middle;\n",
              "    }\n",
              "\n",
              "    .dataframe tbody tr th {\n",
              "        vertical-align: top;\n",
              "    }\n",
              "\n",
              "    .dataframe thead th {\n",
              "        text-align: right;\n",
              "    }\n",
              "</style>\n",
              "<table border=\"1\" class=\"dataframe\">\n",
              "  <thead>\n",
              "    <tr style=\"text-align: right;\">\n",
              "      <th></th>\n",
              "      <th>V1</th>\n",
              "      <th>V2</th>\n",
              "      <th>V3</th>\n",
              "      <th>V4</th>\n",
              "      <th>V5</th>\n",
              "      <th>V6</th>\n",
              "      <th>V7</th>\n",
              "      <th>V8</th>\n",
              "      <th>V9</th>\n",
              "      <th>V10</th>\n",
              "      <th>V11</th>\n",
              "      <th>V12</th>\n",
              "      <th>V13</th>\n",
              "      <th>V14</th>\n",
              "      <th>V15</th>\n",
              "      <th>V16</th>\n",
              "      <th>V17</th>\n",
              "      <th>V18</th>\n",
              "      <th>V19</th>\n",
              "      <th>V20</th>\n",
              "      <th>V21</th>\n",
              "      <th>V22</th>\n",
              "      <th>V23</th>\n",
              "      <th>V24</th>\n",
              "      <th>V25</th>\n",
              "      <th>V26</th>\n",
              "      <th>V27</th>\n",
              "      <th>V28</th>\n",
              "      <th>V29</th>\n",
              "      <th>V30</th>\n",
              "      <th>V31</th>\n",
              "      <th>V32</th>\n",
              "      <th>Cancer</th>\n",
              "    </tr>\n",
              "  </thead>\n",
              "  <tbody>\n",
              "    <tr>\n",
              "      <th>0</th>\n",
              "      <td>18</td>\n",
              "      <td>4</td>\n",
              "      <td>15</td>\n",
              "      <td>1</td>\n",
              "      <td>0</td>\n",
              "      <td>0.0</td>\n",
              "      <td>0.0</td>\n",
              "      <td>0</td>\n",
              "      <td>0.0</td>\n",
              "      <td>0</td>\n",
              "      <td>0.0</td>\n",
              "      <td>0</td>\n",
              "      <td>0</td>\n",
              "      <td>0</td>\n",
              "      <td>0</td>\n",
              "      <td>0</td>\n",
              "      <td>0</td>\n",
              "      <td>0</td>\n",
              "      <td>0</td>\n",
              "      <td>0</td>\n",
              "      <td>0</td>\n",
              "      <td>0</td>\n",
              "      <td>0</td>\n",
              "      <td>0</td>\n",
              "      <td>0</td>\n",
              "      <td>0</td>\n",
              "      <td>1</td>\n",
              "      <td>1</td>\n",
              "      <td>0</td>\n",
              "      <td>0</td>\n",
              "      <td>0</td>\n",
              "      <td>0</td>\n",
              "      <td>0</td>\n",
              "    </tr>\n",
              "    <tr>\n",
              "      <th>1</th>\n",
              "      <td>15</td>\n",
              "      <td>1</td>\n",
              "      <td>14</td>\n",
              "      <td>1</td>\n",
              "      <td>0</td>\n",
              "      <td>0.0</td>\n",
              "      <td>0.0</td>\n",
              "      <td>0</td>\n",
              "      <td>0.0</td>\n",
              "      <td>0</td>\n",
              "      <td>0.0</td>\n",
              "      <td>0</td>\n",
              "      <td>0</td>\n",
              "      <td>0</td>\n",
              "      <td>0</td>\n",
              "      <td>0</td>\n",
              "      <td>0</td>\n",
              "      <td>0</td>\n",
              "      <td>0</td>\n",
              "      <td>0</td>\n",
              "      <td>0</td>\n",
              "      <td>0</td>\n",
              "      <td>0</td>\n",
              "      <td>0</td>\n",
              "      <td>0</td>\n",
              "      <td>0</td>\n",
              "      <td>1</td>\n",
              "      <td>1</td>\n",
              "      <td>0</td>\n",
              "      <td>0</td>\n",
              "      <td>0</td>\n",
              "      <td>0</td>\n",
              "      <td>0</td>\n",
              "    </tr>\n",
              "    <tr>\n",
              "      <th>2</th>\n",
              "      <td>34</td>\n",
              "      <td>1</td>\n",
              "      <td>15</td>\n",
              "      <td>1</td>\n",
              "      <td>0</td>\n",
              "      <td>0.0</td>\n",
              "      <td>0.0</td>\n",
              "      <td>0</td>\n",
              "      <td>0.0</td>\n",
              "      <td>0</td>\n",
              "      <td>0.0</td>\n",
              "      <td>0</td>\n",
              "      <td>0</td>\n",
              "      <td>0</td>\n",
              "      <td>0</td>\n",
              "      <td>0</td>\n",
              "      <td>0</td>\n",
              "      <td>0</td>\n",
              "      <td>0</td>\n",
              "      <td>0</td>\n",
              "      <td>0</td>\n",
              "      <td>0</td>\n",
              "      <td>0</td>\n",
              "      <td>0</td>\n",
              "      <td>0</td>\n",
              "      <td>0</td>\n",
              "      <td>1</td>\n",
              "      <td>1</td>\n",
              "      <td>0</td>\n",
              "      <td>0</td>\n",
              "      <td>0</td>\n",
              "      <td>0</td>\n",
              "      <td>0</td>\n",
              "    </tr>\n",
              "    <tr>\n",
              "      <th>3</th>\n",
              "      <td>52</td>\n",
              "      <td>5</td>\n",
              "      <td>16</td>\n",
              "      <td>4</td>\n",
              "      <td>1</td>\n",
              "      <td>37.0</td>\n",
              "      <td>37.0</td>\n",
              "      <td>1</td>\n",
              "      <td>3.0</td>\n",
              "      <td>0</td>\n",
              "      <td>0.0</td>\n",
              "      <td>0</td>\n",
              "      <td>0</td>\n",
              "      <td>0</td>\n",
              "      <td>0</td>\n",
              "      <td>0</td>\n",
              "      <td>0</td>\n",
              "      <td>0</td>\n",
              "      <td>0</td>\n",
              "      <td>0</td>\n",
              "      <td>0</td>\n",
              "      <td>0</td>\n",
              "      <td>0</td>\n",
              "      <td>0</td>\n",
              "      <td>0</td>\n",
              "      <td>0</td>\n",
              "      <td>1</td>\n",
              "      <td>1</td>\n",
              "      <td>1</td>\n",
              "      <td>0</td>\n",
              "      <td>1</td>\n",
              "      <td>0</td>\n",
              "      <td>0</td>\n",
              "    </tr>\n",
              "    <tr>\n",
              "      <th>4</th>\n",
              "      <td>46</td>\n",
              "      <td>3</td>\n",
              "      <td>21</td>\n",
              "      <td>4</td>\n",
              "      <td>0</td>\n",
              "      <td>0.0</td>\n",
              "      <td>0.0</td>\n",
              "      <td>1</td>\n",
              "      <td>15.0</td>\n",
              "      <td>0</td>\n",
              "      <td>0.0</td>\n",
              "      <td>0</td>\n",
              "      <td>0</td>\n",
              "      <td>0</td>\n",
              "      <td>0</td>\n",
              "      <td>0</td>\n",
              "      <td>0</td>\n",
              "      <td>0</td>\n",
              "      <td>0</td>\n",
              "      <td>0</td>\n",
              "      <td>0</td>\n",
              "      <td>0</td>\n",
              "      <td>0</td>\n",
              "      <td>0</td>\n",
              "      <td>0</td>\n",
              "      <td>0</td>\n",
              "      <td>1</td>\n",
              "      <td>1</td>\n",
              "      <td>0</td>\n",
              "      <td>0</td>\n",
              "      <td>0</td>\n",
              "      <td>0</td>\n",
              "      <td>0</td>\n",
              "    </tr>\n",
              "  </tbody>\n",
              "</table>\n",
              "</div>"
            ],
            "text/plain": [
              "   V1  V2  V3  V4  V5    V6    V7  ...  V27  V28  V29  V30  V31  V32  Cancer\n",
              "0  18   4  15   1   0   0.0   0.0  ...    1    1    0    0    0    0       0\n",
              "1  15   1  14   1   0   0.0   0.0  ...    1    1    0    0    0    0       0\n",
              "2  34   1  15   1   0   0.0   0.0  ...    1    1    0    0    0    0       0\n",
              "3  52   5  16   4   1  37.0  37.0  ...    1    1    1    0    1    0       0\n",
              "4  46   3  21   4   0   0.0   0.0  ...    1    1    0    0    0    0       0\n",
              "\n",
              "[5 rows x 33 columns]"
            ]
          },
          "metadata": {
            "tags": []
          },
          "execution_count": 4
        }
      ]
    },
    {
      "cell_type": "markdown",
      "metadata": {
        "id": "y5PBIIO9UexT"
      },
      "source": [
        "# Normalization"
      ]
    },
    {
      "cell_type": "code",
      "metadata": {
        "id": "6vq9NyQbUsPy"
      },
      "source": [
        "X = df.drop('Cancer',axis=1) # Features / known variables / X\n",
        "Y = df['Cancer'] # Target / unknown variable  / Y"
      ],
      "execution_count": null,
      "outputs": []
    },
    {
      "cell_type": "code",
      "metadata": {
        "id": "oVOKRZ-2Tvkz"
      },
      "source": [
        "from sklearn import preprocessing\n",
        "x = X.values #returns a numpy array\n",
        "standard_scaler = preprocessing.StandardScaler()\n",
        "x_scaled_std = standard_scaler.fit_transform(x)\n",
        "X = pd.DataFrame(x_scaled_std,columns=X.columns)"
      ],
      "execution_count": null,
      "outputs": []
    },
    {
      "cell_type": "code",
      "metadata": {
        "colab": {
          "base_uri": "https://localhost:8080/",
          "height": 226
        },
        "id": "OPe130dtVahL",
        "outputId": "7d6d5604-e20a-4ff2-92bf-97ec4b3e38cb"
      },
      "source": [
        "X.head()"
      ],
      "execution_count": null,
      "outputs": [
        {
          "output_type": "execute_result",
          "data": {
            "text/html": [
              "<div>\n",
              "<style scoped>\n",
              "    .dataframe tbody tr th:only-of-type {\n",
              "        vertical-align: middle;\n",
              "    }\n",
              "\n",
              "    .dataframe tbody tr th {\n",
              "        vertical-align: top;\n",
              "    }\n",
              "\n",
              "    .dataframe thead th {\n",
              "        text-align: right;\n",
              "    }\n",
              "</style>\n",
              "<table border=\"1\" class=\"dataframe\">\n",
              "  <thead>\n",
              "    <tr style=\"text-align: right;\">\n",
              "      <th></th>\n",
              "      <th>V1</th>\n",
              "      <th>V2</th>\n",
              "      <th>V3</th>\n",
              "      <th>V4</th>\n",
              "      <th>V5</th>\n",
              "      <th>V6</th>\n",
              "      <th>V7</th>\n",
              "      <th>V8</th>\n",
              "      <th>V9</th>\n",
              "      <th>V10</th>\n",
              "      <th>V11</th>\n",
              "      <th>V12</th>\n",
              "      <th>V13</th>\n",
              "      <th>V14</th>\n",
              "      <th>V15</th>\n",
              "      <th>V16</th>\n",
              "      <th>V17</th>\n",
              "      <th>V18</th>\n",
              "      <th>V19</th>\n",
              "      <th>V20</th>\n",
              "      <th>V21</th>\n",
              "      <th>V22</th>\n",
              "      <th>V23</th>\n",
              "      <th>V24</th>\n",
              "      <th>V25</th>\n",
              "      <th>V26</th>\n",
              "      <th>V27</th>\n",
              "      <th>V28</th>\n",
              "      <th>V29</th>\n",
              "      <th>V30</th>\n",
              "      <th>V31</th>\n",
              "      <th>V32</th>\n",
              "    </tr>\n",
              "  </thead>\n",
              "  <tbody>\n",
              "    <tr>\n",
              "      <th>0</th>\n",
              "      <td>-1.038563</td>\n",
              "      <td>0.905429</td>\n",
              "      <td>-0.707799</td>\n",
              "      <td>-0.831711</td>\n",
              "      <td>-0.409081</td>\n",
              "      <td>-0.295999</td>\n",
              "      <td>-0.202021</td>\n",
              "      <td>-1.479727</td>\n",
              "      <td>-0.548529</td>\n",
              "      <td>-0.327256</td>\n",
              "      <td>-0.245209</td>\n",
              "      <td>-0.318453</td>\n",
              "      <td>-0.292857</td>\n",
              "      <td>-0.232495</td>\n",
              "      <td>0.0</td>\n",
              "      <td>-0.068439</td>\n",
              "      <td>-0.229697</td>\n",
              "      <td>-0.146385</td>\n",
              "      <td>-0.034159</td>\n",
              "      <td>-0.034159</td>\n",
              "      <td>-0.034159</td>\n",
              "      <td>0.0</td>\n",
              "      <td>-0.146385</td>\n",
              "      <td>-0.034159</td>\n",
              "      <td>-0.048337</td>\n",
              "      <td>-0.289093</td>\n",
              "      <td>-0.193344</td>\n",
              "      <td>-0.188669</td>\n",
              "      <td>-0.146385</td>\n",
              "      <td>-0.10296</td>\n",
              "      <td>-0.146385</td>\n",
              "      <td>-0.169638</td>\n",
              "    </tr>\n",
              "    <tr>\n",
              "      <th>1</th>\n",
              "      <td>-1.391796</td>\n",
              "      <td>-0.919610</td>\n",
              "      <td>-1.065450</td>\n",
              "      <td>-0.831711</td>\n",
              "      <td>-0.409081</td>\n",
              "      <td>-0.295999</td>\n",
              "      <td>-0.202021</td>\n",
              "      <td>-1.479727</td>\n",
              "      <td>-0.548529</td>\n",
              "      <td>-0.327256</td>\n",
              "      <td>-0.245209</td>\n",
              "      <td>-0.318453</td>\n",
              "      <td>-0.292857</td>\n",
              "      <td>-0.232495</td>\n",
              "      <td>0.0</td>\n",
              "      <td>-0.068439</td>\n",
              "      <td>-0.229697</td>\n",
              "      <td>-0.146385</td>\n",
              "      <td>-0.034159</td>\n",
              "      <td>-0.034159</td>\n",
              "      <td>-0.034159</td>\n",
              "      <td>0.0</td>\n",
              "      <td>-0.146385</td>\n",
              "      <td>-0.034159</td>\n",
              "      <td>-0.048337</td>\n",
              "      <td>-0.289093</td>\n",
              "      <td>-0.193344</td>\n",
              "      <td>-0.188669</td>\n",
              "      <td>-0.146385</td>\n",
              "      <td>-0.10296</td>\n",
              "      <td>-0.146385</td>\n",
              "      <td>-0.169638</td>\n",
              "    </tr>\n",
              "    <tr>\n",
              "      <th>2</th>\n",
              "      <td>0.845342</td>\n",
              "      <td>-0.919610</td>\n",
              "      <td>-0.707799</td>\n",
              "      <td>-0.831711</td>\n",
              "      <td>-0.409081</td>\n",
              "      <td>-0.295999</td>\n",
              "      <td>-0.202021</td>\n",
              "      <td>-1.479727</td>\n",
              "      <td>-0.548529</td>\n",
              "      <td>-0.327256</td>\n",
              "      <td>-0.245209</td>\n",
              "      <td>-0.318453</td>\n",
              "      <td>-0.292857</td>\n",
              "      <td>-0.232495</td>\n",
              "      <td>0.0</td>\n",
              "      <td>-0.068439</td>\n",
              "      <td>-0.229697</td>\n",
              "      <td>-0.146385</td>\n",
              "      <td>-0.034159</td>\n",
              "      <td>-0.034159</td>\n",
              "      <td>-0.034159</td>\n",
              "      <td>0.0</td>\n",
              "      <td>-0.146385</td>\n",
              "      <td>-0.034159</td>\n",
              "      <td>-0.048337</td>\n",
              "      <td>-0.289093</td>\n",
              "      <td>-0.193344</td>\n",
              "      <td>-0.188669</td>\n",
              "      <td>-0.146385</td>\n",
              "      <td>-0.10296</td>\n",
              "      <td>-0.146385</td>\n",
              "      <td>-0.169638</td>\n",
              "    </tr>\n",
              "    <tr>\n",
              "      <th>3</th>\n",
              "      <td>2.964736</td>\n",
              "      <td>1.513776</td>\n",
              "      <td>-0.350148</td>\n",
              "      <td>1.260982</td>\n",
              "      <td>2.444506</td>\n",
              "      <td>8.821219</td>\n",
              "      <td>16.547162</td>\n",
              "      <td>0.675800</td>\n",
              "      <td>0.285780</td>\n",
              "      <td>-0.327256</td>\n",
              "      <td>-0.245209</td>\n",
              "      <td>-0.318453</td>\n",
              "      <td>-0.292857</td>\n",
              "      <td>-0.232495</td>\n",
              "      <td>0.0</td>\n",
              "      <td>-0.068439</td>\n",
              "      <td>-0.229697</td>\n",
              "      <td>-0.146385</td>\n",
              "      <td>-0.034159</td>\n",
              "      <td>-0.034159</td>\n",
              "      <td>-0.034159</td>\n",
              "      <td>0.0</td>\n",
              "      <td>-0.146385</td>\n",
              "      <td>-0.034159</td>\n",
              "      <td>-0.048337</td>\n",
              "      <td>-0.289093</td>\n",
              "      <td>-0.193344</td>\n",
              "      <td>-0.188669</td>\n",
              "      <td>6.831301</td>\n",
              "      <td>-0.10296</td>\n",
              "      <td>6.831301</td>\n",
              "      <td>-0.169638</td>\n",
              "    </tr>\n",
              "    <tr>\n",
              "      <th>4</th>\n",
              "      <td>2.258271</td>\n",
              "      <td>0.297083</td>\n",
              "      <td>1.438107</td>\n",
              "      <td>1.260982</td>\n",
              "      <td>-0.409081</td>\n",
              "      <td>-0.295999</td>\n",
              "      <td>-0.202021</td>\n",
              "      <td>0.675800</td>\n",
              "      <td>3.623015</td>\n",
              "      <td>-0.327256</td>\n",
              "      <td>-0.245209</td>\n",
              "      <td>-0.318453</td>\n",
              "      <td>-0.292857</td>\n",
              "      <td>-0.232495</td>\n",
              "      <td>0.0</td>\n",
              "      <td>-0.068439</td>\n",
              "      <td>-0.229697</td>\n",
              "      <td>-0.146385</td>\n",
              "      <td>-0.034159</td>\n",
              "      <td>-0.034159</td>\n",
              "      <td>-0.034159</td>\n",
              "      <td>0.0</td>\n",
              "      <td>-0.146385</td>\n",
              "      <td>-0.034159</td>\n",
              "      <td>-0.048337</td>\n",
              "      <td>-0.289093</td>\n",
              "      <td>-0.193344</td>\n",
              "      <td>-0.188669</td>\n",
              "      <td>-0.146385</td>\n",
              "      <td>-0.10296</td>\n",
              "      <td>-0.146385</td>\n",
              "      <td>-0.169638</td>\n",
              "    </tr>\n",
              "  </tbody>\n",
              "</table>\n",
              "</div>"
            ],
            "text/plain": [
              "         V1        V2        V3  ...      V30       V31       V32\n",
              "0 -1.038563  0.905429 -0.707799  ... -0.10296 -0.146385 -0.169638\n",
              "1 -1.391796 -0.919610 -1.065450  ... -0.10296 -0.146385 -0.169638\n",
              "2  0.845342 -0.919610 -0.707799  ... -0.10296 -0.146385 -0.169638\n",
              "3  2.964736  1.513776 -0.350148  ... -0.10296  6.831301 -0.169638\n",
              "4  2.258271  0.297083  1.438107  ... -0.10296 -0.146385 -0.169638\n",
              "\n",
              "[5 rows x 32 columns]"
            ]
          },
          "metadata": {
            "tags": []
          },
          "execution_count": 8
        }
      ]
    },
    {
      "cell_type": "markdown",
      "metadata": {
        "id": "gyzbJip_WISM"
      },
      "source": [
        "# Check the target distribution"
      ]
    },
    {
      "cell_type": "code",
      "metadata": {
        "colab": {
          "base_uri": "https://localhost:8080/"
        },
        "id": "WsimyvsdVbhg",
        "outputId": "44ff6d9d-713a-42d6-bfc6-ccda1b9bd7bb"
      },
      "source": [
        "Y.value_counts()"
      ],
      "execution_count": null,
      "outputs": [
        {
          "output_type": "execute_result",
          "data": {
            "text/plain": [
              "0    756\n",
              "1    102\n",
              "Name: Cancer, dtype: int64"
            ]
          },
          "metadata": {
            "tags": []
          },
          "execution_count": 9
        }
      ]
    },
    {
      "cell_type": "code",
      "metadata": {
        "colab": {
          "base_uri": "https://localhost:8080/"
        },
        "id": "Ko0v3R07WaZg",
        "outputId": "fb0daf26-1503-4158-d2ab-0c86cd82434d"
      },
      "source": [
        "Y[Y==0].shape[0] / Y.shape[0]"
      ],
      "execution_count": null,
      "outputs": [
        {
          "output_type": "execute_result",
          "data": {
            "text/plain": [
              "0.8811188811188811"
            ]
          },
          "metadata": {
            "tags": []
          },
          "execution_count": 11
        }
      ]
    },
    {
      "cell_type": "code",
      "metadata": {
        "colab": {
          "base_uri": "https://localhost:8080/"
        },
        "id": "qZldWVNWWi2z",
        "outputId": "45893a1c-fc0b-4d97-9419-33061a0d7ebd"
      },
      "source": [
        "Y[Y==1].shape[0] / Y.shape[0]"
      ],
      "execution_count": null,
      "outputs": [
        {
          "output_type": "execute_result",
          "data": {
            "text/plain": [
              "0.11888111888111888"
            ]
          },
          "metadata": {
            "tags": []
          },
          "execution_count": 12
        }
      ]
    },
    {
      "cell_type": "code",
      "metadata": {
        "colab": {
          "base_uri": "https://localhost:8080/",
          "height": 283
        },
        "id": "lg52DgBPWM9W",
        "outputId": "a034663a-152b-4fe9-bef4-1e425be4c209"
      },
      "source": [
        "Y.hist()"
      ],
      "execution_count": null,
      "outputs": [
        {
          "output_type": "execute_result",
          "data": {
            "text/plain": [
              "<matplotlib.axes._subplots.AxesSubplot at 0x7fdbd7cd4bd0>"
            ]
          },
          "metadata": {
            "tags": []
          },
          "execution_count": 10
        },
        {
          "output_type": "display_data",
          "data": {
            "image/png": "[encoded data removed]",
            "text/plain": [
              "<Figure size 432x288 with 1 Axes>"
            ]
          },
          "metadata": {
            "tags": [],
            "needs_background": "light"
          }
        }
      ]
    },
    {
      "cell_type": "markdown",
      "metadata": {
        "id": "cZu1iIl_WvBz"
      },
      "source": [
        "### Conclusion ::\n",
        "\n",
        "There is high imbalance in the target column i..e cancer.\n",
        "\n",
        "There are 88% healthy patients and 12% cancer patients\n"
      ]
    },
    {
      "cell_type": "markdown",
      "metadata": {
        "id": "kZnA99sGW8Sc"
      },
      "source": [
        "# Solution to High Imbalance Problem\n",
        "\n",
        "## Sampling\n",
        "\n",
        "#### 1. Under-sampling\n",
        "\n",
        "#### 2. Over Sampling\n",
        "\n",
        "Statistical methods of sampling --> univariate and bivariate / multivariate"
      ]
    },
    {
      "cell_type": "markdown",
      "metadata": {
        "id": "OVzTbRNmeZpj"
      },
      "source": [
        "## 1. Undersampling\n",
        "\n",
        "The class which has more rows , will be undersampled. And number of rows of large class will be made same as small class"
      ]
    },
    {
      "cell_type": "code",
      "metadata": {
        "colab": {
          "base_uri": "https://localhost:8080/"
        },
        "id": "SVFUu8LHWPki",
        "outputId": "0b27c1da-00dd-4f58-b7a0-16e27e3f6fa9"
      },
      "source": [
        "X.shape,Y.shape"
      ],
      "execution_count": null,
      "outputs": [
        {
          "output_type": "execute_result",
          "data": {
            "text/plain": [
              "((858, 32), (858,))"
            ]
          },
          "metadata": {
            "tags": []
          },
          "execution_count": 17
        }
      ]
    },
    {
      "cell_type": "code",
      "metadata": {
        "id": "0JE3cT_LeVP6"
      },
      "source": [
        "X_0 = X.loc[Y==0]\n",
        "X_1 = X.loc[Y==1]"
      ],
      "execution_count": null,
      "outputs": []
    },
    {
      "cell_type": "code",
      "metadata": {
        "colab": {
          "base_uri": "https://localhost:8080/"
        },
        "id": "HFfpv0_9fXoR",
        "outputId": "c5d3ad6d-63bf-41d3-d8dd-8d11e6907e5c"
      },
      "source": [
        "X_0.shape,X_1.shape"
      ],
      "execution_count": null,
      "outputs": [
        {
          "output_type": "execute_result",
          "data": {
            "text/plain": [
              "((756, 32), (102, 32))"
            ]
          },
          "metadata": {
            "tags": []
          },
          "execution_count": 19
        }
      ]
    },
    {
      "cell_type": "code",
      "metadata": {
        "id": "AK7Eqr7ufZ8Q"
      },
      "source": [
        "X_0 = X_0.sample(X_1.shape[0],random_state=7) # random_state is seed "
      ],
      "execution_count": null,
      "outputs": []
    },
    {
      "cell_type": "code",
      "metadata": {
        "colab": {
          "base_uri": "https://localhost:8080/"
        },
        "id": "H7zZ5XWKfvlu",
        "outputId": "b6e0572e-7713-4143-f4bd-dcd1d59f37c9"
      },
      "source": [
        "X_0.shape,X_1.shape"
      ],
      "execution_count": null,
      "outputs": [
        {
          "output_type": "execute_result",
          "data": {
            "text/plain": [
              "((102, 32), (102, 32))"
            ]
          },
          "metadata": {
            "tags": []
          },
          "execution_count": 21
        }
      ]
    },
    {
      "cell_type": "code",
      "metadata": {
        "id": "HbpkQWlufyWY"
      },
      "source": [
        "X_bal = pd.concat([X_0,X_1],axis=0)"
      ],
      "execution_count": null,
      "outputs": []
    },
    {
      "cell_type": "code",
      "metadata": {
        "colab": {
          "base_uri": "https://localhost:8080/"
        },
        "id": "Kh0-ThUVgQYq",
        "outputId": "b541e5e5-3ad0-408d-e0e4-f8cc9cd663e4"
      },
      "source": [
        "X_bal.shape"
      ],
      "execution_count": null,
      "outputs": [
        {
          "output_type": "execute_result",
          "data": {
            "text/plain": [
              "(204, 32)"
            ]
          },
          "metadata": {
            "tags": []
          },
          "execution_count": 23
        }
      ]
    },
    {
      "cell_type": "code",
      "metadata": {
        "id": "7KTrOAragRk6"
      },
      "source": [
        "Y_bal = Y.loc[X_bal.index]"
      ],
      "execution_count": null,
      "outputs": []
    },
    {
      "cell_type": "code",
      "metadata": {
        "colab": {
          "base_uri": "https://localhost:8080/"
        },
        "id": "C4vtPpfmgY5J",
        "outputId": "3fbafd09-c20f-4d79-cd68-e65448f115d5"
      },
      "source": [
        "Y_bal.shape"
      ],
      "execution_count": null,
      "outputs": [
        {
          "output_type": "execute_result",
          "data": {
            "text/plain": [
              "(204,)"
            ]
          },
          "metadata": {
            "tags": []
          },
          "execution_count": 25
        }
      ]
    },
    {
      "cell_type": "code",
      "metadata": {
        "colab": {
          "base_uri": "https://localhost:8080/"
        },
        "id": "uZN9zxKwgaXE",
        "outputId": "5ccad687-cc37-4b3e-f6a0-7d5ec155ec1e"
      },
      "source": [
        "Y_bal.value_counts()"
      ],
      "execution_count": null,
      "outputs": [
        {
          "output_type": "execute_result",
          "data": {
            "text/plain": [
              "1    102\n",
              "0    102\n",
              "Name: Cancer, dtype: int64"
            ]
          },
          "metadata": {
            "tags": []
          },
          "execution_count": 26
        }
      ]
    },
    {
      "cell_type": "code",
      "metadata": {
        "colab": {
          "base_uri": "https://localhost:8080/",
          "height": 283
        },
        "id": "VUn6Kogugfdp",
        "outputId": "70ab288f-9900-4e81-f3e9-661586dce403"
      },
      "source": [
        "Y_bal.hist()"
      ],
      "execution_count": null,
      "outputs": [
        {
          "output_type": "execute_result",
          "data": {
            "text/plain": [
              "<matplotlib.axes._subplots.AxesSubplot at 0x7fdbd76600d0>"
            ]
          },
          "metadata": {
            "tags": []
          },
          "execution_count": 27
        },
        {
          "output_type": "display_data",
          "data": {
            "image/png": "[encoded data removed]",
            "text/plain": [
              "<Figure size 432x288 with 1 Axes>"
            ]
          },
          "metadata": {
            "tags": [],
            "needs_background": "light"
          }
        }
      ]
    },
    {
      "cell_type": "markdown",
      "metadata": {
        "id": "ieVtwQa-re3T"
      },
      "source": [
        "# Oversampling\n",
        "\n",
        "### SMOTE algorithm\n",
        "\n",
        "Synthetic Minority Oversampling TEchniques\n",
        "\n",
        "Algorithm:\n",
        "\n",
        "Select two random samples from minority class. \n",
        "Average them to create new sample.\n",
        "\n",
        "Repeat this multiple times ( as many times required )\n",
        "\n",
        "Problem:: \n",
        "\n",
        "1. This is synthetic data and NOT real data\n",
        "\n",
        "2. Cannot work on Categorical columns (efficiently)\n",
        "\n",
        "To install imblearn use::\n",
        "\n",
        "https://anaconda.org/conda-forge/imbalanced-learn"
      ]
    },
    {
      "cell_type": "code",
      "metadata": {
        "colab": {
          "base_uri": "https://localhost:8080/"
        },
        "id": "av-dOyJmgiRy",
        "outputId": "3322f249-37f6-41f1-9d70-521c862c8c98"
      },
      "source": [
        "from imblearn.over_sampling import SMOTE"
      ],
      "execution_count": null,
      "outputs": [
        {
          "output_type": "stream",
          "text": [
            "/usr/local/lib/python3.7/dist-packages/sklearn/externals/six.py:31: FutureWarning: The module is deprecated in version 0.21 and will be removed in version 0.23 since we've dropped support for Python 2.7. Please rely on the official version of six (https://pypi.org/project/six/).\n",
            "  \"(https://pypi.org/project/six/).\", FutureWarning)\n",
            "/usr/local/lib/python3.7/dist-packages/sklearn/utils/deprecation.py:144: FutureWarning: The sklearn.neighbors.base module is  deprecated in version 0.22 and will be removed in version 0.24. The corresponding classes / functions should instead be imported from sklearn.neighbors. Anything that cannot be imported from sklearn.neighbors is now part of the private API.\n",
            "  warnings.warn(message, FutureWarning)\n"
          ],
          "name": "stderr"
        }
      ]
    },
    {
      "cell_type": "code",
      "metadata": {
        "colab": {
          "base_uri": "https://localhost:8080/"
        },
        "id": "nB7QnSSisiOM",
        "outputId": "4cfd66aa-e91f-4eb6-cef8-3aa66659958d"
      },
      "source": [
        "sm = SMOTE(random_state=7) #k_neighbours\n",
        "X_train_res, Y_train_res = sm.fit_sample(X, Y)"
      ],
      "execution_count": null,
      "outputs": [
        {
          "output_type": "stream",
          "text": [
            "/usr/local/lib/python3.7/dist-packages/sklearn/utils/deprecation.py:87: FutureWarning: Function safe_indexing is deprecated; safe_indexing is deprecated in version 0.22 and will be removed in version 0.24.\n",
            "  warnings.warn(msg, category=FutureWarning)\n"
          ],
          "name": "stderr"
        }
      ]
    },
    {
      "cell_type": "code",
      "metadata": {
        "colab": {
          "base_uri": "https://localhost:8080/"
        },
        "id": "8iYztwt1sfLV",
        "outputId": "29891b94-96b7-467a-d72c-4fd4261b24b7"
      },
      "source": [
        "X_train_res.shape, Y_train_res.shape"
      ],
      "execution_count": null,
      "outputs": [
        {
          "output_type": "execute_result",
          "data": {
            "text/plain": [
              "((1512, 32), (1512,))"
            ]
          },
          "metadata": {
            "tags": []
          },
          "execution_count": 30
        }
      ]
    },
    {
      "cell_type": "code",
      "metadata": {
        "colab": {
          "base_uri": "https://localhost:8080/"
        },
        "id": "b079KKpKvAu6",
        "outputId": "668a11e5-41b2-440b-a0a9-a50eede6aa99"
      },
      "source": [
        "len(Y_train_res[Y_train_res==0]),len(Y_train_res[Y_train_res==1]) "
      ],
      "execution_count": null,
      "outputs": [
        {
          "output_type": "execute_result",
          "data": {
            "text/plain": [
              "(756, 756)"
            ]
          },
          "metadata": {
            "tags": []
          },
          "execution_count": 33
        }
      ]
    },
    {
      "cell_type": "code",
      "metadata": {
        "id": "pASbsd2AvDfG"
      },
      "source": [
        ""
      ],
      "execution_count": null,
      "outputs": []
    }
  ]
}