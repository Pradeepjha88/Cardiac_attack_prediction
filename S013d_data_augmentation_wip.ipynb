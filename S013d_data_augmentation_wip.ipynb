{
  "nbformat": 4,
  "nbformat_minor": 0,
  "metadata": {
    "kernelspec": {
      "display_name": "Python 3",
      "language": "python",
      "name": "python3"
    },
    "language_info": {
      "codemirror_mode": {
        "name": "ipython",
        "version": 3
      },
      "file_extension": ".py",
      "mimetype": "text/x-python",
      "name": "python",
      "nbconvert_exporter": "python",
      "pygments_lexer": "ipython3",
      "version": "3.8.10"
    },
    "colab": {
      "name": "S013d_data_augmentation_wip.ipynb",
      "provenance": [],
      "include_colab_link": true
    }
  },
  "cells": [
    {
      "cell_type": "markdown",
      "metadata": {
        "id": "view-in-github",
        "colab_type": "text"
      },
      "source": [
        "<a href=\"https://colab.research.google.com/github/Pradeepjha88/Cardiac_attack_prediction/blob/master/S013d_data_augmentation_wip.ipynb\" target=\"_parent\"><img src=\"https://colab.research.google.com/assets/colab-badge.svg\" alt=\"Open In Colab\"/></a>"
      ]
    },
    {
      "cell_type": "code",
      "metadata": {
        "id": "9SUqgY0KAobW"
      },
      "source": [
        "#!/usr/bin/env python\n",
        "# -*- coding: utf-8 -*-"
      ],
      "execution_count": null,
      "outputs": []
    },
    {
      "cell_type": "markdown",
      "metadata": {
        "id": "IdPM2i6ZAoba"
      },
      "source": [
        "\n",
        "# Deep Neural Networks\n",
        "\n",
        "## Session 13d\n",
        "## Data Augmentation\n",
        "\n",
        "<img src='../../images/prasami_color_tutorials_small.png' width='400' alt=\"By Pramod Sharma : pramod.sharma@prasami.com\" align=\"left\"/>"
      ]
    },
    {
      "cell_type": "code",
      "metadata": {
        "id": "PSyXmxpdAobb"
      },
      "source": [
        "# Lets import some libraries\n",
        "import os\n",
        "\n",
        "import numpy as np\n",
        "\n",
        "import cupy as cp\n",
        "\n",
        "import pandas as pd\n",
        "\n",
        "import matplotlib.pyplot as plt\n",
        "\n",
        "from sklearn import datasets\n",
        "\n",
        "from sklearn.preprocessing import StandardScaler, OneHotEncoder\n",
        "\n",
        "from sklearn.model_selection import train_test_split\n",
        "\n",
        "from sklearn.metrics import accuracy_score, confusion_matrix\n",
        "\n",
        "%matplotlib inline"
      ],
      "execution_count": null,
      "outputs": []
    },
    {
      "cell_type": "code",
      "metadata": {
        "id": "i2AHUf4UAobb"
      },
      "source": [
        "# Some basic parameters\n",
        "\n",
        "inpDir = '../input' # location where input data is stored\n",
        "outDir = '../output' # location to store outputs\n",
        "\n",
        "RANDOM_STATE = 24 # for initialization ----- REMEMBER: to remove at the time of promotion to production\n",
        "cp.random.seed(RANDOM_STATE) # Set Random Seed for reproducible results\n",
        "\n",
        "EPOCHS = 20000  # number of cycles to run\n",
        "\n",
        "ALPHA = 0.1  # learning rate\n",
        "\n",
        "TEST_SIZE = 0.2 # What fraction we want to keep for testing\n",
        "\n",
        "# Set parameters for decoration of plots\n",
        "params = {'legend.fontsize' : 'large',\n",
        "          'figure.figsize'  : (12,9),\n",
        "          'axes.labelsize'  : 'x-large',\n",
        "          'axes.titlesize'  :'x-large',\n",
        "          'xtick.labelsize' :'large',\n",
        "          'ytick.labelsize' :'large',\n",
        "         }\n",
        "CMAP = plt.cm.brg\n",
        "\n",
        "plt.rcParams.update(params) # update rcParams"
      ],
      "execution_count": null,
      "outputs": []
    },
    {
      "cell_type": "markdown",
      "metadata": {
        "id": "0VHByyxkAobc"
      },
      "source": [
        "## Generate Data Set\n",
        "<div style=\"font-family: Arial; font-size:1.1em;\">\n",
        "For this exercise, we will be using a iris dataset.\n",
        "     </div>"
      ]
    },
    {
      "cell_type": "code",
      "metadata": {
        "id": "bKzVJGZcAobd",
        "outputId": "5f25077b-2b3c-4366-f936-a99bcaa1b41f"
      },
      "source": [
        "iris = datasets.load_iris()\n",
        "X = iris.data  # we only take the first two features.\n",
        "y = iris.target\n",
        "X.shape, y.shape"
      ],
      "execution_count": null,
      "outputs": [
        {
          "output_type": "execute_result",
          "data": {
            "text/plain": [
              "((150, 4), (150,))"
            ]
          },
          "metadata": {
            "tags": []
          },
          "execution_count": 4
        }
      ]
    },
    {
      "cell_type": "code",
      "metadata": {
        "id": "ACodK96RAobh",
        "outputId": "15c0f1c2-7b60-4c22-d579-f1627daf2af1"
      },
      "source": [
        "cols = ['sepal_length', 'sepal_width', 'petal_length', 'petal_width']\n",
        "data_df = pd.DataFrame(X, columns=cols)\n",
        "data_df['labels'] = y\n",
        "data_df.head()"
      ],
      "execution_count": null,
      "outputs": [
        {
          "output_type": "execute_result",
          "data": {
            "text/html": [
              "<div>\n",
              "<style scoped>\n",
              "    .dataframe tbody tr th:only-of-type {\n",
              "        vertical-align: middle;\n",
              "    }\n",
              "\n",
              "    .dataframe tbody tr th {\n",
              "        vertical-align: top;\n",
              "    }\n",
              "\n",
              "    .dataframe thead th {\n",
              "        text-align: right;\n",
              "    }\n",
              "</style>\n",
              "<table border=\"1\" class=\"dataframe\">\n",
              "  <thead>\n",
              "    <tr style=\"text-align: right;\">\n",
              "      <th></th>\n",
              "      <th>sepal_length</th>\n",
              "      <th>sepal_width</th>\n",
              "      <th>petal_length</th>\n",
              "      <th>petal_width</th>\n",
              "      <th>labels</th>\n",
              "    </tr>\n",
              "  </thead>\n",
              "  <tbody>\n",
              "    <tr>\n",
              "      <th>0</th>\n",
              "      <td>5.1</td>\n",
              "      <td>3.5</td>\n",
              "      <td>1.4</td>\n",
              "      <td>0.2</td>\n",
              "      <td>0</td>\n",
              "    </tr>\n",
              "    <tr>\n",
              "      <th>1</th>\n",
              "      <td>4.9</td>\n",
              "      <td>3.0</td>\n",
              "      <td>1.4</td>\n",
              "      <td>0.2</td>\n",
              "      <td>0</td>\n",
              "    </tr>\n",
              "    <tr>\n",
              "      <th>2</th>\n",
              "      <td>4.7</td>\n",
              "      <td>3.2</td>\n",
              "      <td>1.3</td>\n",
              "      <td>0.2</td>\n",
              "      <td>0</td>\n",
              "    </tr>\n",
              "    <tr>\n",
              "      <th>3</th>\n",
              "      <td>4.6</td>\n",
              "      <td>3.1</td>\n",
              "      <td>1.5</td>\n",
              "      <td>0.2</td>\n",
              "      <td>0</td>\n",
              "    </tr>\n",
              "    <tr>\n",
              "      <th>4</th>\n",
              "      <td>5.0</td>\n",
              "      <td>3.6</td>\n",
              "      <td>1.4</td>\n",
              "      <td>0.2</td>\n",
              "      <td>0</td>\n",
              "    </tr>\n",
              "  </tbody>\n",
              "</table>\n",
              "</div>"
            ],
            "text/plain": [
              "   sepal_length  sepal_width  petal_length  petal_width  labels\n",
              "0           5.1          3.5           1.4          0.2       0\n",
              "1           4.9          3.0           1.4          0.2       0\n",
              "2           4.7          3.2           1.3          0.2       0\n",
              "3           4.6          3.1           1.5          0.2       0\n",
              "4           5.0          3.6           1.4          0.2       0"
            ]
          },
          "metadata": {
            "tags": []
          },
          "execution_count": 5
        }
      ]
    },
    {
      "cell_type": "code",
      "metadata": {
        "id": "ZvkmJF-dAobj",
        "outputId": "16d26252-00dd-4c13-f742-002b3ad47115"
      },
      "source": [
        "data_df['labels'].unique()"
      ],
      "execution_count": null,
      "outputs": [
        {
          "output_type": "execute_result",
          "data": {
            "text/plain": [
              "array([0, 1, 2])"
            ]
          },
          "metadata": {
            "tags": []
          },
          "execution_count": 6
        }
      ]
    },
    {
      "cell_type": "code",
      "metadata": {
        "id": "qa_UsTV1Aobk",
        "outputId": "c3b3f612-4f9e-4b52-9aed-30895a2a3048"
      },
      "source": [
        "noise = np.random.randn(data_df.shape[0],data_df.shape[1])\n",
        "noise[:3]"
      ],
      "execution_count": null,
      "outputs": [
        {
          "output_type": "execute_result",
          "data": {
            "text/plain": [
              "array([[ 0.21449384, -0.10387854,  0.77090015,  0.91315039, -0.24997101],\n",
              "       [-1.30151086,  2.2982066 , -1.48549736,  0.16788326,  0.08374352],\n",
              "       [-2.01000451,  1.08255258,  0.37411376, -1.1078289 , -0.76838756]])"
            ]
          },
          "metadata": {
            "tags": []
          },
          "execution_count": 7
        }
      ]
    },
    {
      "cell_type": "code",
      "metadata": {
        "id": "Si5ySJrqAobl",
        "outputId": "add6447b-3fae-4cfc-b553-c563f2c531b4"
      },
      "source": [
        "more_data_df = data_df.copy()\n",
        "\n",
        "for i, col in enumerate(more_data_df.columns[0:4]):\n",
        "    print ('Processing column :{}'.format(col))\n",
        "    mult_factor = (more_data_df[col].max() - more_data_df[col].min())/ 50.0 # one fiftieth of the difference\n",
        "    more_data_df[col] = more_data_df[col] + noise[:, i] * mult_factor"
      ],
      "execution_count": null,
      "outputs": [
        {
          "output_type": "stream",
          "text": [
            "Processing column :sepal_length\n",
            "Processing column :sepal_width\n",
            "Processing column :petal_length\n",
            "Processing column :petal_width\n"
          ],
          "name": "stdout"
        }
      ]
    },
    {
      "cell_type": "code",
      "metadata": {
        "id": "UGRJ-N1nAobn",
        "outputId": "e0b67910-6aab-4f1a-ba3b-4d909a8f23a3"
      },
      "source": [
        "more_data_df.shape"
      ],
      "execution_count": null,
      "outputs": [
        {
          "output_type": "execute_result",
          "data": {
            "text/plain": [
              "(150, 5)"
            ]
          },
          "metadata": {
            "tags": []
          },
          "execution_count": 9
        }
      ]
    },
    {
      "cell_type": "markdown",
      "metadata": {
        "id": "cac6qZzAAobn"
      },
      "source": [
        "## Plotting samples"
      ]
    },
    {
      "cell_type": "code",
      "metadata": {
        "id": "BvUJEXJ_Aobo",
        "outputId": "77da9e6a-1670-4863-e613-a1b79c58cdc4"
      },
      "source": [
        "# Plot the data\n",
        "plt.scatter(X[:,0], X[:,1], s=20, c=y, cmap=CMAP)\n",
        "\n",
        "plt.grid()"
      ],
      "execution_count": null,
      "outputs": [
        {
          "output_type": "display_data",
          "data": {
            "image/png": "[encoded data removed]",
            "text/plain": [
              "<Figure size 864x648 with 1 Axes>"
            ]
          },
          "metadata": {
            "tags": [],
            "needs_background": "light"
          }
        }
      ]
    },
    {
      "cell_type": "code",
      "metadata": {
        "id": "pMLFaevuAobp",
        "outputId": "88723837-46b7-421b-b83f-42cdc677a31b"
      },
      "source": [
        "# Plot the data\n",
        "plt.scatter(more_data_df['sepal_length'], more_data_df['sepal_width'],\n",
        "            s=20, c=more_data_df['labels'], cmap=CMAP)\n",
        "\n",
        "plt.grid()"
      ],
      "execution_count": null,
      "outputs": [
        {
          "output_type": "display_data",
          "data": {
            "image/png": "[encoded data removed]",
            "text/plain": [
              "<Figure size 864x648 with 1 Axes>"
            ]
          },
          "metadata": {
            "tags": [],
            "needs_background": "light"
          }
        }
      ]
    },
    {
      "cell_type": "code",
      "metadata": {
        "id": "f8iNISywAobq",
        "outputId": "03f89c18-8877-407d-8f80-216457b3a2c8"
      },
      "source": [
        "aug_data_df = pd.concat([data_df, more_data_df])\n",
        "aug_data_df.shape"
      ],
      "execution_count": null,
      "outputs": [
        {
          "output_type": "execute_result",
          "data": {
            "text/plain": [
              "(300, 5)"
            ]
          },
          "metadata": {
            "tags": []
          },
          "execution_count": 12
        }
      ]
    },
    {
      "cell_type": "code",
      "metadata": {
        "id": "0jEhrnDVAobr",
        "outputId": "fbae6d41-dc04-4f2e-c363-1ac3cd700891"
      },
      "source": [
        "# Plot the data\n",
        "# Plot the data\n",
        "plt.scatter(aug_data_df['sepal_length'], aug_data_df['sepal_width'],\n",
        "            s=20, c=aug_data_df['labels'], cmap=CMAP)\n",
        "\n",
        "plt.grid()"
      ],
      "execution_count": null,
      "outputs": [
        {
          "output_type": "display_data",
          "data": {
            "image/png": "[encoded data removed]",
            "text/plain": [
              "<Figure size 864x648 with 1 Axes>"
            ]
          },
          "metadata": {
            "tags": [],
            "needs_background": "light"
          }
        }
      ]
    },
    {
      "cell_type": "code",
      "metadata": {
        "id": "uGK7v-RbAobs",
        "outputId": "eac615e1-55f3-47ba-b44f-0bb8269467d3"
      },
      "source": [
        "y = aug_data_df['labels'].values\n",
        "X = aug_data_df.drop('labels', axis=1).values\n",
        "X.shape, y.shape"
      ],
      "execution_count": null,
      "outputs": [
        {
          "output_type": "execute_result",
          "data": {
            "text/plain": [
              "((300, 4), (300,))"
            ]
          },
          "metadata": {
            "tags": []
          },
          "execution_count": 14
        }
      ]
    },
    {
      "cell_type": "code",
      "metadata": {
        "id": "ta1rLhEeAobt",
        "outputId": "0c178545-d48b-41e4-af9e-5fe4a8bdf986"
      },
      "source": [
        "#  Split the data in training and test sets to measure performance of the model.\n",
        "X_train, X_test, y_train, y_test = train_test_split(X, y, test_size=0.2, random_state=RANDOM_STATE )\n",
        "\n",
        "print (X_train.shape, y_train.shape, X_test.shape, y_test.shape)"
      ],
      "execution_count": null,
      "outputs": [
        {
          "output_type": "stream",
          "text": [
            "(240, 4) (240,) (60, 4) (60,)\n"
          ],
          "name": "stdout"
        }
      ]
    },
    {
      "cell_type": "code",
      "metadata": {
        "id": "LFQKfRe8Aobv"
      },
      "source": [
        "one_hot = OneHotEncoder(sparse=False)\n",
        "y_train = one_hot.fit_transform(y_train.reshape(-1, 1))\n",
        "y_test = one_hot.transform(y_test.reshape(-1, 1))"
      ],
      "execution_count": null,
      "outputs": []
    },
    {
      "cell_type": "code",
      "metadata": {
        "id": "EKLxZ594Aobv",
        "outputId": "5089bc3e-1698-4ee9-eef2-e54cc4c364e3"
      },
      "source": [
        "y_train.shape, y_test.shape"
      ],
      "execution_count": null,
      "outputs": [
        {
          "output_type": "execute_result",
          "data": {
            "text/plain": [
              "((240, 3), (60, 3))"
            ]
          },
          "metadata": {
            "tags": []
          },
          "execution_count": 17
        }
      ]
    },
    {
      "cell_type": "code",
      "metadata": {
        "id": "zvkWcwbkAobv",
        "outputId": "a3eb64a2-e755-4baa-de87-222c3f5446f0"
      },
      "source": [
        "y_train[:5]"
      ],
      "execution_count": null,
      "outputs": [
        {
          "output_type": "execute_result",
          "data": {
            "text/plain": [
              "array([[0., 1., 0.],\n",
              "       [1., 0., 0.],\n",
              "       [0., 0., 1.],\n",
              "       [1., 0., 0.],\n",
              "       [0., 1., 0.]])"
            ]
          },
          "metadata": {
            "tags": []
          },
          "execution_count": 18
        }
      ]
    },
    {
      "cell_type": "code",
      "metadata": {
        "id": "Vh0ZV4WLAobw"
      },
      "source": [
        "def fn_softmax(z):\n",
        "    \n",
        "    '''\n",
        "    Args:\n",
        "        z : a matrix of z values of shape (m, n_output)\n",
        "    returns:\n",
        "        Softmax values of z\n",
        "    \n",
        "    '''\n",
        "    exp_scores = np.exp(z - np.max(z)) # to avoid softmax to go exceptionally high\n",
        "\n",
        "    return exp_scores / np.sum(exp_scores, axis=1, keepdims=True)\n",
        "    "
      ],
      "execution_count": null,
      "outputs": []
    },
    {
      "cell_type": "markdown",
      "metadata": {
        "id": "j-g_fMPaAobw"
      },
      "source": [
        "## Loss Function"
      ]
    },
    {
      "cell_type": "code",
      "metadata": {
        "id": "lmdRY8X3Aobx"
      },
      "source": [
        "# Helper function to evaluate the total loss on the dataset\n",
        "\n",
        "def calculate_loss(model, X, y):\n",
        "    '''\n",
        "    Args:\n",
        "        model: dictionay object containing weights and biases\n",
        "        X: Feature Matrix\n",
        "        y: Labels array\n",
        "    Returns:\n",
        "        Average loss\n",
        "    '''\n",
        "    \n",
        "    # extract weights and losses from the model\n",
        "    W1, b1, W2, b2 = model['W1'], model['b1'], model['W2'], model['b2']\n",
        "    \n",
        "    # Forward propagation to calculate our predictions\n",
        "    # Layer 1\n",
        "    z1 = X.dot(W1) + b1\n",
        "    \n",
        "    # Tanh activation\n",
        "    a1 = np.tanh(z1)\n",
        "    \n",
        "    # Layer 2\n",
        "    z2 = a1.dot(W2) + b2\n",
        "    \n",
        "    # softmax activation\n",
        "    a2 = fn_softmax(z2)\n",
        "    assert (a2.shape == y.shape),\"Shape of activations and labels do not match\"\n",
        "    \n",
        "    # Calculating the loss\n",
        "    # Cross entropy = -ground truth x log (predicted)\n",
        "    loss = - (y* np.log(a2) + (1 - y) *np.log(1 - a2))\n",
        "    cost = np.sum( loss ) / num_examples\n",
        "    \n",
        "    return  cost"
      ],
      "execution_count": null,
      "outputs": []
    },
    {
      "cell_type": "markdown",
      "metadata": {
        "id": "ilGF3zDxAob0"
      },
      "source": [
        "## Predict Function\n",
        "<p style=\"font-family: Arial; font-size:1.2em;color:black;\">\n",
        "For predictions, we will simply be using the forward propagation. No need to iterate or calculate the back propagation for supervised learning.\n",
        "</p>"
      ]
    },
    {
      "cell_type": "code",
      "metadata": {
        "id": "h5IK9S9NAob0"
      },
      "source": [
        "# Helper function to predict an output (0 or 1)\n",
        "\n",
        "def predict(model, X):\n",
        "    '''\n",
        "     Args:\n",
        "         model\n",
        "         X: input features\n",
        "    Returns:\n",
        "        Predictions against the instances\n",
        "         \n",
        "    '''\n",
        "    W1, b1, W2, b2 = model['W1'], model['b1'], model['W2'], model['b2']\n",
        "    \n",
        "    # Forward propagation\n",
        "    z1 = X.dot(W1) + b1\n",
        "    \n",
        "    a1 = np.tanh(z1)\n",
        "    \n",
        "    z2 = a1.dot(W2) + b2\n",
        "    \n",
        "    # use softmax\n",
        "    a2 = fn_softmax(z2)\n",
        "    \n",
        "    return a2\n",
        "    #return np.argmax(a2, axis=1) # pick with one with highest probabilities"
      ],
      "execution_count": null,
      "outputs": []
    },
    {
      "cell_type": "markdown",
      "metadata": {
        "id": "ztYLhSvVAob1"
      },
      "source": [
        "## The Model"
      ]
    },
    {
      "cell_type": "code",
      "metadata": {
        "id": "gWPGTeoWAob1"
      },
      "source": [
        "# prepare the Model\n",
        "\n",
        "def build_model(nn_hdim, X, y, X_t, y_t,\n",
        "                epochs = EPOCHS, \n",
        "                alpha = ALPHA,\n",
        "                print_loss=False):\n",
        "    \n",
        "    '''\n",
        "    Args:\n",
        "        nn_hdim : Number of nodes in the hidden layer\n",
        "        X : Training features\n",
        "        y : Trainig targets (labels)\n",
        "        X_t:Test features\n",
        "        y_t:Test targets (labels)\n",
        "        epochs : Number of passes through the training data for gradient descent\n",
        "        alpha : learning rate\n",
        "        print_loss : If True, print the loss every nnn iterations\n",
        "        \n",
        "    Returns:\n",
        "        Model: Dictionary object containing weights and biases\n",
        "    '''\n",
        "    # set Random Seed\n",
        "    np.random.seed(RANDOM_STATE)\n",
        "    \n",
        "    # Initialize the parameters to random values. We need to learn these.\n",
        "    # Weights\n",
        "    W1 = np.random.randn(nn_input_dim, nn_hdim) / np.sqrt(nn_input_dim)\n",
        "    W2 = np.random.randn(nn_hdim, nn_output_dim) / np.sqrt(nn_hdim)\n",
        "    # Bias\n",
        "    b1 = np.zeros((1, nn_hdim))\n",
        "    b2 = np.zeros((1, nn_output_dim))\n",
        "\n",
        "    # Model as a Dict object to be return\n",
        "    model = {}\n",
        "    \n",
        "    \n",
        "    \n",
        "    curr_loss = 0\n",
        "    ct_loss = 0\n",
        "    loss = []\n",
        "    epoch = []\n",
        "    t_loss = []\n",
        "        \n",
        "    # Gradient descent. For each batch...\n",
        "    for i in range(0, epochs):\n",
        "        \n",
        "        ##########################\n",
        "        #   Forward propagation  #\n",
        "        ##########################\n",
        "        \n",
        "        # Layer 1\n",
        "        z1 = X.dot(W1) + b1\n",
        "        a1 = np.tanh(z1)  # tanh activation function for layer 1\n",
        "        \n",
        "        # Layer 2\n",
        "        z2 = a1.dot(W2) + b2\n",
        "\n",
        "        a2 = fn_softmax(z2)\n",
        "        \n",
        "        #######################\n",
        "        #   Back propagation  #\n",
        "        #######################\n",
        "        # Layer 2\n",
        "        dz2 = a2 -y # dL/db = dL/dz = (a-y)\n",
        "        \n",
        "        dW2 = (a1.T).dot(dz2)\n",
        "        assert(W2.shape == dW2.shape), 'Shape of W2 {} and dW2 {} do not match'.format(W2.shape, dW2.shape)\n",
        "        \n",
        "        db2 = np.sum(dz2, axis=0, keepdims=True) # db2 is sum along axis 0\n",
        "        assert(b2.shape == db2.shape), 'Shape of b2 {} and db2 {} do not match'.format(b2.shape, db2.shape)\n",
        "            \n",
        "        dz1 = dz2.dot(W2.T) * (1 - np.power(a1, 2))  #derivative of tanh is (1−tanh(x)**2)\n",
        "        #                                            '*' indicates element wise multiplication\n",
        "        assert(z1.shape == dz1.shape), 'Shape of z1 {} and dz1 {} do not match'.format(W2.shape, dW2.shape)\n",
        "        \n",
        "        dW1 = np.dot(X.T, dz1)\n",
        "        assert(W1.shape == dW1.shape), 'Shape of W1 {} and dW1 {} do not match'.format(W1.shape, dW1.shape)\n",
        "        db1 = np.sum(dz1, axis=0, keepdims=True) \n",
        "        assert(b1.shape == db1.shape), 'Shape of b1 {} and db1 {} do not match'.format(b1.shape, db1.shape)\n",
        "        \n",
        "        # Gradient descent parameter update\n",
        "        W1 += -alpha * dW1/num_examples\n",
        "        b1 += -alpha * db1/num_examples\n",
        "        W2 += -alpha * dW2/num_examples\n",
        "        b2 += -alpha * db2/num_examples\n",
        "        \n",
        "        # Assign new parameters to the model\n",
        "        model = { 'W1': W1, 'b1': b1, 'W2': W2, 'b2': b2}\n",
        "        \n",
        "        if i % 100:\n",
        "            curr_loss = calculate_loss(model, X, y)\n",
        "            loss.append(curr_loss)\n",
        "            ct_loss = calculate_loss(model, X_t, y_t)\n",
        "            t_loss.append(ct_loss)\n",
        "            epoch.append(i)\n",
        "        \n",
        "        # Print the loss.\n",
        "        if print_loss and i % 1000 == 0:\n",
        "            print(\"Loss after iteration %i: %f, %f\" %(i, curr_loss, ct_loss))\n",
        "            \n",
        "    curr_loss = calculate_loss(model, X, y)\n",
        "    loss.append(curr_loss)\n",
        "    ct_loss = calculate_loss(model, X_t, y_t)\n",
        "    t_loss.append(ct_loss)\n",
        "    epoch.append(i)\n",
        "    print(\"Loss after iteration %i: %f, %f\" %(i, curr_loss, ct_loss))\n",
        "    \n",
        "    loss_hist['epoch'] = epoch\n",
        "    loss_hist['Loss'] = loss\n",
        "    loss_hist['Test_loss'] = t_loss\n",
        "    return model"
      ],
      "execution_count": null,
      "outputs": []
    },
    {
      "cell_type": "code",
      "metadata": {
        "id": "t64hs-3bAob7",
        "outputId": "cfae1930-98e7-4dfc-aa59-19c6702148ff"
      },
      "source": [
        "y_train.shape"
      ],
      "execution_count": null,
      "outputs": [
        {
          "output_type": "execute_result",
          "data": {
            "text/plain": [
              "(240, 3)"
            ]
          },
          "metadata": {
            "tags": []
          },
          "execution_count": 23
        }
      ]
    },
    {
      "cell_type": "code",
      "metadata": {
        "id": "cU8ANuxnAob8"
      },
      "source": [
        "num_examples = X_train.shape[0] # training set size\n",
        "nn_input_dim = X_train.shape[1] # input layer dimensionality\n",
        "nn_output_dim = 3 # output layer dimensionality\n",
        "\n",
        "# lists to facilitate plotting \n",
        "loss_hist = {}\n"
      ],
      "execution_count": null,
      "outputs": []
    },
    {
      "cell_type": "code",
      "metadata": {
        "id": "TM5CMOIEAob9",
        "outputId": "90a74144-bedc-4f08-8fd5-505fbf921bb7"
      },
      "source": [
        "# Build a model\n",
        "model = build_model(4, X_train, y_train, X_test, y_test,\n",
        "                    epochs = EPOCHS, \n",
        "                    alpha = ALPHA, \n",
        "                    print_loss=True)"
      ],
      "execution_count": null,
      "outputs": [
        {
          "output_type": "stream",
          "text": [
            "Loss after iteration 0: 0.000000, 0.000000\n",
            "Loss after iteration 1000: 0.204597, 0.033205\n",
            "Loss after iteration 2000: 0.155761, 0.022756\n",
            "Loss after iteration 3000: 0.142034, 0.019762\n",
            "Loss after iteration 4000: 0.134983, 0.018244\n",
            "Loss after iteration 5000: 0.130482, 0.017322\n",
            "Loss after iteration 6000: 0.127196, 0.016710\n",
            "Loss after iteration 7000: 0.124570, 0.016279\n",
            "Loss after iteration 8000: 0.122328, 0.015961\n",
            "Loss after iteration 9000: 0.120322, 0.015718\n",
            "Loss after iteration 10000: 0.118471, 0.015525\n",
            "Loss after iteration 11000: 0.116743, 0.015368\n",
            "Loss after iteration 12000: 0.115135, 0.015239\n",
            "Loss after iteration 13000: 0.113663, 0.015132\n",
            "Loss after iteration 14000: 0.112341, 0.015042\n",
            "Loss after iteration 15000: 0.111173, 0.014966\n",
            "Loss after iteration 16000: 0.110154, 0.014901\n",
            "Loss after iteration 17000: 0.109269, 0.014844\n",
            "Loss after iteration 18000: 0.108497, 0.014793\n",
            "Loss after iteration 19000: 0.107818, 0.014747\n",
            "Loss after iteration 19999: 0.107216, 0.014704\n"
          ],
          "name": "stdout"
        }
      ]
    },
    {
      "cell_type": "code",
      "metadata": {
        "id": "n7zw9NlYAob-"
      },
      "source": [
        "def fn_make_predicitions(pred_func, X):\n",
        "    y_pred = pred_func(X)\n",
        "    return y_pred"
      ],
      "execution_count": null,
      "outputs": []
    },
    {
      "cell_type": "code",
      "metadata": {
        "id": "bFlrgrAHAob-",
        "outputId": "266294d9-5f63-459e-a61a-bf34d7396aef"
      },
      "source": [
        "y_pred = fn_make_predicitions(lambda x: predict(model, x), X_train)\n",
        "\n",
        "y_pred.shape"
      ],
      "execution_count": null,
      "outputs": [
        {
          "output_type": "execute_result",
          "data": {
            "text/plain": [
              "(240, 3)"
            ]
          },
          "metadata": {
            "tags": []
          },
          "execution_count": 27
        }
      ]
    },
    {
      "cell_type": "code",
      "metadata": {
        "id": "VUR3ZJ7wAob_",
        "outputId": "04071d1d-d6b2-4b45-cfdb-956fb2976b3a"
      },
      "source": [
        "y_pred[:5].round(2)"
      ],
      "execution_count": null,
      "outputs": [
        {
          "output_type": "execute_result",
          "data": {
            "text/plain": [
              "array([[0.  , 1.  , 0.  ],\n",
              "       [1.  , 0.  , 0.  ],\n",
              "       [0.  , 0.01, 0.99],\n",
              "       [1.  , 0.  , 0.  ],\n",
              "       [0.  , 0.99, 0.01]])"
            ]
          },
          "metadata": {
            "tags": []
          },
          "execution_count": 28
        }
      ]
    },
    {
      "cell_type": "code",
      "metadata": {
        "id": "gXg4qFkXAob_",
        "outputId": "b25e00f8-d528-421d-b6d8-fdc88a7efeba"
      },
      "source": [
        "y_train[:5]"
      ],
      "execution_count": null,
      "outputs": [
        {
          "output_type": "execute_result",
          "data": {
            "text/plain": [
              "array([[0., 1., 0.],\n",
              "       [1., 0., 0.],\n",
              "       [0., 0., 1.],\n",
              "       [1., 0., 0.],\n",
              "       [0., 1., 0.]])"
            ]
          },
          "metadata": {
            "tags": []
          },
          "execution_count": 29
        }
      ]
    },
    {
      "cell_type": "code",
      "metadata": {
        "scrolled": true,
        "id": "bH2tXGmRAob_",
        "outputId": "b3517e4b-f1c9-442a-e579-7f6b13feb48e"
      },
      "source": [
        "print('Accruacy score on Train Data :', accuracy_score(y_train.argmax(axis=1), y_pred.argmax(axis=1)))"
      ],
      "execution_count": null,
      "outputs": [
        {
          "output_type": "stream",
          "text": [
            "Accruacy score on Train Data : 0.975\n"
          ],
          "name": "stdout"
        }
      ]
    },
    {
      "cell_type": "code",
      "metadata": {
        "id": "HKDYu7OYAocA",
        "outputId": "19e6140d-5d5f-43de-c350-197ee6f9d788"
      },
      "source": [
        "confusion_matrix(y_train.argmax(axis=1), y_pred.argmax(axis=1))"
      ],
      "execution_count": null,
      "outputs": [
        {
          "output_type": "execute_result",
          "data": {
            "text/plain": [
              "array([[80,  0,  0],\n",
              "       [ 0, 76,  2],\n",
              "       [ 0,  4, 78]])"
            ]
          },
          "metadata": {
            "tags": []
          },
          "execution_count": 31
        }
      ]
    },
    {
      "cell_type": "code",
      "metadata": {
        "id": "yW9wQISxAocA",
        "outputId": "7aa51535-6621-4e6f-9a69-d83d1c7ac23e"
      },
      "source": [
        "y_pred = fn_make_predicitions(lambda x: predict(model, x), X_test)\n",
        "\n",
        "print('Accruacy score on Test Data :', accuracy_score(y_test.argmax(axis=1), y_pred.argmax(axis=1)))"
      ],
      "execution_count": null,
      "outputs": [
        {
          "output_type": "stream",
          "text": [
            "Accruacy score on Test Data : 0.9833333333333333\n"
          ],
          "name": "stdout"
        }
      ]
    },
    {
      "cell_type": "code",
      "metadata": {
        "id": "n1OmBXJzAocA",
        "outputId": "a6176ed0-acee-40dc-cfa4-d31a3aab9e70"
      },
      "source": [
        "confusion_matrix(y_test.argmax(axis=1), y_pred.argmax(axis=1))"
      ],
      "execution_count": null,
      "outputs": [
        {
          "output_type": "execute_result",
          "data": {
            "text/plain": [
              "array([[20,  0,  0],\n",
              "       [ 0, 21,  1],\n",
              "       [ 0,  0, 18]])"
            ]
          },
          "metadata": {
            "tags": []
          },
          "execution_count": 33
        }
      ]
    },
    {
      "cell_type": "code",
      "metadata": {
        "id": "ZknuUKR2AocB",
        "outputId": "42b79a2c-8dd1-4913-f5e0-a654c531ef84"
      },
      "source": [
        "loss_df = pd.DataFrame(loss_hist)\n",
        "\n",
        "fig, axes = plt.subplots(1,2 , figsize = (15,6))\n",
        "\n",
        "l_range = 100\n",
        "\n",
        "ax = axes[0]\n",
        "\n",
        "loss_df.plot(x = 'epoch', y = ['Loss','Test_loss'], ax = ax)\n",
        "loss = loss_df['Loss'].values\n",
        "\n",
        "# little beautification\n",
        "txtstr = \"Loss: \\n  Start : {:7.4f}\\n   End : {:7.4f}\".format(loss[0],loss[-1]) #text to plot\n",
        "# properties  matplotlib.patch.Patch \n",
        "props = dict(boxstyle='round', facecolor='wheat', alpha=0.5)\n",
        "\n",
        "# place a text box in upper left in axes coords\n",
        "\n",
        "ax.text(0.4, 0.95, txtstr, transform=ax.transAxes, fontsize=14,\n",
        "        verticalalignment='top', bbox=props)\n",
        "\n",
        "ax.set_xlabel(\"Epochs\")\n",
        "ax.set_ylabel(\"Loss\")\n",
        "ax.set_title('Overall')\n",
        "ax.grid();\n",
        "\n",
        "ax = axes[1]\n",
        "\n",
        "loss_df[-l_range:].plot(x = 'epoch', y = ['Loss','Test_loss'], ax = ax)\n",
        "\n",
        "# little beautification\n",
        "txtstr = \"Loss: \\n  Start : {:7.4f}\\n   End : {:7.4f}\".format(loss[-l_range],loss[-1]) #text to plot\n",
        "# properties  matplotlib.patch.Patch \n",
        "props = dict(boxstyle='round', facecolor='wheat', alpha=0.5)\n",
        "\n",
        "# place a text box in upper left in axes coords\n",
        "\n",
        "ax.text(0.4, 0.95, txtstr, transform=ax.transAxes, fontsize=14,\n",
        "        verticalalignment='top', bbox=props)\n",
        "\n",
        "ax.set_xlabel(\"Epochs\")\n",
        "ax.set_ylabel(\"Loss\")\n",
        "ax.set_title('Last {} records'.format(l_range))\n",
        "ax.grid();\n",
        "plt.tight_layout()"
      ],
      "execution_count": null,
      "outputs": [
        {
          "output_type": "display_data",
          "data": {
            "image/png": "[encoded data removed]",
            "text/plain": [
              "<Figure size 1080x432 with 2 Axes>"
            ]
          },
          "metadata": {
            "tags": [],
            "needs_background": "light"
          }
        }
      ]
    },
    {
      "cell_type": "code",
      "metadata": {
        "id": "Os4NUJD3AocC"
      },
      "source": [
        ""
      ],
      "execution_count": null,
      "outputs": []
    }
  ]
}