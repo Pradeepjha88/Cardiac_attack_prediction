{
  "nbformat": 4,
  "nbformat_minor": 0,
  "metadata": {
    "kernelspec": {
      "display_name": "Python 3",
      "language": "python",
      "name": "python3"
    },
    "language_info": {
      "codemirror_mode": {
        "name": "ipython",
        "version": 3
      },
      "file_extension": ".py",
      "mimetype": "text/x-python",
      "name": "python",
      "nbconvert_exporter": "python",
      "pygments_lexer": "ipython3",
      "version": "3.7.6"
    },
    "colab": {
      "name": "Monte_Carlo_Simulation.ipynb",
      "provenance": [],
      "include_colab_link": true
    }
  },
  "cells": [
    {
      "cell_type": "markdown",
      "metadata": {
        "id": "view-in-github",
        "colab_type": "text"
      },
      "source": [
        "<a href=\"https://colab.research.google.com/github/Pradeepjha88/Cardiac_attack_prediction/blob/master/Monte_Carlo_Simulation.ipynb\" target=\"_parent\"><img src=\"https://colab.research.google.com/assets/colab-badge.svg\" alt=\"Open In Colab\"/></a>"
      ]
    },
    {
      "cell_type": "code",
      "metadata": {
        "id": "LRxpgp12eZ6z"
      },
      "source": [
        "import random\n",
        "import numpy as np\n",
        "import matplotlib.pyplot as plt"
      ],
      "execution_count": null,
      "outputs": []
    },
    {
      "cell_type": "code",
      "metadata": {
        "id": "4u_zHVR7eZ63"
      },
      "source": [
        "#Coin flip function :\n",
        "\n",
        "#0 --> Heads\n",
        "#1 --> Tails\n",
        "\n",
        "def coin_flip():\n",
        "#     l0 = [0]*96\n",
        "#     l1 = [1]*4\n",
        "    l0 = [0]*51\n",
        "    l1 = [1]*49\n",
        "    l1.extend(l0)\n",
        "    return random.choice(l1)\n",
        "#     return random.randint(0,1)"
      ],
      "execution_count": null,
      "outputs": []
    },
    {
      "cell_type": "code",
      "metadata": {
        "id": "AXvdR4LKeZ64"
      },
      "source": [
        "#Monte Carlo Simulation :\n",
        "\n",
        "#Empty list to store the probability values.\n",
        "list1 = []\n",
        "\n",
        "def monte_carlo(n):\n",
        "    results = 0\n",
        "    for i in range(n):\n",
        "        flip_result = coin_flip()\n",
        "        results = results + flip_result\n",
        "        \n",
        "        #Calculating probability value :\n",
        "        prob_value = results/(i+1)\n",
        "        \n",
        "        #Append the probability values to the list :\n",
        "        list1.append(prob_value)\n",
        "\n",
        "        #Plot the results :\n",
        "        plt.axhline(y=0.5, color='r', linestyle='-')\n",
        "        plt.xlabel(\"Iterations\")\n",
        "        plt.ylabel(\"Probability\")\n",
        "        plt.plot(list1)\n",
        "#         plt.close()\n",
        "    return results/n"
      ],
      "execution_count": null,
      "outputs": []
    },
    {
      "cell_type": "code",
      "metadata": {
        "id": "5f7ha4A4eZ65",
        "outputId": "0b12f5ac-8216-4734-ded6-8429d55684f8"
      },
      "source": [
        "answer = monte_carlo(5000)\n",
        "print(\"Final value :\",answer)"
      ],
      "execution_count": null,
      "outputs": [
        {
          "output_type": "stream",
          "text": [
            "Final value : 0.504\n"
          ],
          "name": "stdout"
        },
        {
          "output_type": "display_data",
          "data": {
            "image/png": "[encoded data removed]",
            "text/plain": [
              "<Figure size 432x288 with 1 Axes>"
            ]
          },
          "metadata": {
            "tags": [],
            "needs_background": "light"
          }
        }
      ]
    },
    {
      "cell_type": "code",
      "metadata": {
        "id": "rAkVxVBQeZ67"
      },
      "source": [
        ""
      ],
      "execution_count": null,
      "outputs": []
    }
  ]
}