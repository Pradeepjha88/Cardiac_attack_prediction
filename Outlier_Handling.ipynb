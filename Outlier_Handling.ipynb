{
  "nbformat": 4,
  "nbformat_minor": 0,
  "metadata": {
    "kernelspec": {
      "display_name": "Python 3",
      "language": "python",
      "name": "python3"
    },
    "language_info": {
      "codemirror_mode": {
        "name": "ipython",
        "version": 3
      },
      "file_extension": ".py",
      "mimetype": "text/x-python",
      "name": "python",
      "nbconvert_exporter": "python",
      "pygments_lexer": "ipython3",
      "version": "3.7.6"
    },
    "colab": {
      "name": "Outlier_Handling.ipynb",
      "provenance": [],
      "collapsed_sections": [
        "6rlv98leY0Zl",
        "dGC2TFbiY0aE"
      ],
      "include_colab_link": true
    }
  },
  "cells": [
    {
      "cell_type": "markdown",
      "metadata": {
        "id": "view-in-github",
        "colab_type": "text"
      },
      "source": [
        "<a href=\"https://colab.research.google.com/github/Pradeepjha88/Cardiac_attack_prediction/blob/master/Outlier_Handling.ipynb\" target=\"_parent\"><img src=\"https://colab.research.google.com/assets/colab-badge.svg\" alt=\"Open In Colab\"/></a>"
      ]
    },
    {
      "cell_type": "markdown",
      "metadata": {
        "id": "SusN5qUOY0Y6"
      },
      "source": [
        "# Outlier Handling in Data\n",
        "\n",
        "What's an outlier ??\n",
        "  - extreme values\n",
        "  - anamolies (sometimes)\n",
        "  \n",
        "\n",
        "Why it is imp?\n",
        "\n",
        "Genuine vs Bad Outliers\n",
        "\n",
        "How to find outliers in single feature in Structured Data?\n",
        "\n",
        "How to tackle outliers in single feature in Structured Data?\n",
        "\n",
        "How to find and remove Outliers in multi-feature environment in Structured Data?\n",
        "\n",
        "How to detect and treat outliers in Time Series data?\n"
      ]
    },
    {
      "cell_type": "markdown",
      "metadata": {
        "id": "VnQuJOtXY0ZI"
      },
      "source": [
        "# Why Outlier detection is IMP?\n",
        "\n",
        "It affects stats of data. (like mean, std dev, etc)\n",
        "\n",
        "Features of data detected by a machine learning algorithm might not reflect the real data\n",
        "\n"
      ]
    },
    {
      "cell_type": "code",
      "metadata": {
        "id": "KqMk1cuiY0ZL"
      },
      "source": [
        "import numpy as np"
      ],
      "execution_count": null,
      "outputs": []
    },
    {
      "cell_type": "code",
      "metadata": {
        "colab": {
          "base_uri": "https://localhost:8080/"
        },
        "id": "8-ebwZiUY0ZM",
        "outputId": "26b0f9c6-958e-4144-f8b4-eb700b306368"
      },
      "source": [
        "sample = np.array([10,25,3,5,6,19,21,23,15])\n",
        "np.mean(sample), np.std(sample)"
      ],
      "execution_count": null,
      "outputs": [
        {
          "output_type": "execute_result",
          "data": {
            "text/plain": [
              "(14.11111111111111, 7.880276989554286)"
            ]
          },
          "metadata": {
            "tags": []
          },
          "execution_count": 2
        }
      ]
    },
    {
      "cell_type": "code",
      "metadata": {
        "colab": {
          "base_uri": "https://localhost:8080/"
        },
        "id": "gwBkdnjWY0ZQ",
        "outputId": "480ed7e9-96bc-485e-950c-fcf999de4c70"
      },
      "source": [
        "sample = np.array([10,25,3,5,6,19,21,23,15,100,200])\n",
        "np.mean(sample), np.std(sample)"
      ],
      "execution_count": null,
      "outputs": [
        {
          "output_type": "execute_result",
          "data": {
            "text/plain": [
              "(38.81818181818182, 57.02920811752866)"
            ]
          },
          "metadata": {
            "tags": []
          },
          "execution_count": 3
        }
      ]
    },
    {
      "cell_type": "code",
      "metadata": {
        "id": "upNGiIFiY0ZR",
        "outputId": "8779f887-d9f1-4847-c236-f5e407813cba"
      },
      "source": [
        "sample = np.array([65,54,56,78,80,55,66,70])\n",
        "print(np.mean(sample), np.std(sample))\n",
        "sample = np.array([65,54,56,78,80,55,66,70,1,2])\n",
        "print(np.mean(sample), np.std(sample))"
      ],
      "execution_count": null,
      "outputs": [
        {
          "output_type": "stream",
          "text": [
            "65.5 9.486832980505138\n",
            "52.7 26.9705394829247\n"
          ],
          "name": "stdout"
        }
      ]
    },
    {
      "cell_type": "markdown",
      "metadata": {
        "id": "bWa-lY9JY0ZS"
      },
      "source": [
        "# Genuine vs Bad Outliers\n",
        "\n",
        "### Genuine outliers\n",
        "\n",
        "There can be genuine outliers\n",
        "\n",
        "Ex. in salaries of employees CEO salary will be exceptionally different\n",
        "\n",
        "### Bad Outliers \n",
        "\n",
        "Outliers due to errors / wrong data / due to fraud\n",
        "\n",
        "## Conclusion :: we don't ALWAYS REMOVE outliers"
      ]
    },
    {
      "cell_type": "markdown",
      "metadata": {
        "id": "M9OaK8hOY0ZT"
      },
      "source": [
        "# How to find outliers in single feature?\n",
        "\n",
        "## Manual\n",
        "Using visual inspection of Box plots\n",
        "\n",
        "## Can be Automated\n",
        "Using Inter Quartile Range (IQR) to automate the detection\n",
        "\n",
        "Using Z-score [z = (x - mu) / sigma] (abs zscore <= 3)"
      ]
    },
    {
      "cell_type": "code",
      "metadata": {
        "id": "ZRQJOge4Y0ZT"
      },
      "source": [
        "import pandas as pd\n",
        "import numpy as np"
      ],
      "execution_count": null,
      "outputs": []
    },
    {
      "cell_type": "code",
      "metadata": {
        "id": "SeCU_tCaY0ZU"
      },
      "source": [
        "df = pd.read_csv(\"house_price_prediction.csv\")"
      ],
      "execution_count": null,
      "outputs": []
    },
    {
      "cell_type": "code",
      "metadata": {
        "colab": {
          "base_uri": "https://localhost:8080/"
        },
        "id": "VdfEuy3eY0ZU",
        "outputId": "92615587-5fa5-4b05-90bc-b3496bae837a"
      },
      "source": [
        "df.columns"
      ],
      "execution_count": null,
      "outputs": [
        {
          "output_type": "execute_result",
          "data": {
            "text/plain": [
              "Index(['id', 'date', 'price', 'bedrooms', 'sqft_living', 'sqft_lot', 'floors',\n",
              "       'waterfront', 'condition', 'grade', 'sqft_above', 'sqft_basement',\n",
              "       'yr_built', 'yr_renovated', 'zipcode', 'lat', 'long', 'sqft_living15',\n",
              "       'sqft_lot15'],\n",
              "      dtype='object')"
            ]
          },
          "metadata": {
            "tags": []
          },
          "execution_count": 11
        }
      ]
    },
    {
      "cell_type": "code",
      "metadata": {
        "id": "vweliGSDY0ZV"
      },
      "source": [
        "df.drop(['id', 'date','lat', 'long','yr_renovated'], axis=1, inplace=True)"
      ],
      "execution_count": null,
      "outputs": []
    },
    {
      "cell_type": "code",
      "metadata": {
        "colab": {
          "base_uri": "https://localhost:8080/"
        },
        "id": "BOTbIC4XY0ZV",
        "outputId": "b019d516-6c30-472b-f89d-6fdfcc438bf4"
      },
      "source": [
        "df.shape"
      ],
      "execution_count": null,
      "outputs": [
        {
          "output_type": "execute_result",
          "data": {
            "text/plain": [
              "(17210, 14)"
            ]
          },
          "metadata": {
            "tags": []
          },
          "execution_count": 14
        }
      ]
    },
    {
      "cell_type": "code",
      "metadata": {
        "colab": {
          "base_uri": "https://localhost:8080/"
        },
        "id": "g54h_pbIY0ZW",
        "outputId": "20527748-8937-4703-e382-11b047b3e2e8"
      },
      "source": [
        "df.columns"
      ],
      "execution_count": null,
      "outputs": [
        {
          "output_type": "execute_result",
          "data": {
            "text/plain": [
              "Index(['price', 'bedrooms', 'sqft_living', 'sqft_lot', 'floors', 'waterfront',\n",
              "       'condition', 'grade', 'sqft_above', 'sqft_basement', 'yr_built',\n",
              "       'zipcode', 'sqft_living15', 'sqft_lot15'],\n",
              "      dtype='object')"
            ]
          },
          "metadata": {
            "tags": []
          },
          "execution_count": 15
        }
      ]
    },
    {
      "cell_type": "code",
      "metadata": {
        "colab": {
          "base_uri": "https://localhost:8080/"
        },
        "id": "qYeNzsaHY0ZW",
        "outputId": "b93e7a82-80e1-4627-fcb9-5f1a52a7161c"
      },
      "source": [
        "df['price'].describe()"
      ],
      "execution_count": null,
      "outputs": [
        {
          "output_type": "execute_result",
          "data": {
            "text/plain": [
              "count    1.721000e+04\n",
              "mean     5.391069e+05\n",
              "std      3.674218e+05\n",
              "min      7.800000e+04\n",
              "25%      3.200000e+05\n",
              "50%      4.500000e+05\n",
              "75%      6.400000e+05\n",
              "max      7.700000e+06\n",
              "Name: price, dtype: float64"
            ]
          },
          "metadata": {
            "tags": []
          },
          "execution_count": 16
        }
      ]
    },
    {
      "cell_type": "markdown",
      "metadata": {
        "id": "GkKK_slRqTfT"
      },
      "source": [
        "# Log transform \n",
        "\n",
        "the data with very high variations should be log transformed\n",
        "\n",
        "## Specially it is applied on target variables"
      ]
    },
    {
      "cell_type": "code",
      "metadata": {
        "id": "CMoNuDqfY0ZX"
      },
      "source": [
        "df['price'] = np.log(df['price'])"
      ],
      "execution_count": null,
      "outputs": []
    },
    {
      "cell_type": "code",
      "metadata": {
        "colab": {
          "base_uri": "https://localhost:8080/"
        },
        "id": "9xicNQdbY0ZX",
        "outputId": "3896543b-a35e-4048-a272-f00277e0061c"
      },
      "source": [
        "df['price'].describe()"
      ],
      "execution_count": null,
      "outputs": [
        {
          "output_type": "execute_result",
          "data": {
            "text/plain": [
              "count    17210.000000\n",
              "mean        13.044580\n",
              "std          0.528797\n",
              "min         11.264464\n",
              "25%         12.676076\n",
              "50%         13.017003\n",
              "75%         13.369223\n",
              "max         15.856731\n",
              "Name: price, dtype: float64"
            ]
          },
          "metadata": {
            "tags": []
          },
          "execution_count": 18
        }
      ]
    },
    {
      "cell_type": "code",
      "metadata": {
        "colab": {
          "base_uri": "https://localhost:8080/",
          "height": 283
        },
        "id": "KiMq1xIcY0ZY",
        "outputId": "893e6783-bb04-4fd8-c07f-aa65f1554887"
      },
      "source": [
        "df[['price']].boxplot() # NEVER remove / impute outlier in target column"
      ],
      "execution_count": null,
      "outputs": [
        {
          "output_type": "execute_result",
          "data": {
            "text/plain": [
              "<matplotlib.axes._subplots.AxesSubplot at 0x7fb9e5c5e150>"
            ]
          },
          "metadata": {
            "tags": []
          },
          "execution_count": 20
        },
        {
          "output_type": "display_data",
          "data": {
            "image/png": "[encoded data removed]",
            "text/plain": [
              "<Figure size 432x288 with 1 Axes>"
            ]
          },
          "metadata": {
            "tags": [],
            "needs_background": "light"
          }
        }
      ]
    },
    {
      "cell_type": "code",
      "metadata": {
        "colab": {
          "base_uri": "https://localhost:8080/",
          "height": 284
        },
        "id": "4PyqE7XcY0ZY",
        "outputId": "fe6a0df2-4ef1-47e9-89b7-d22641cd6498"
      },
      "source": [
        "df[['sqft_living']].boxplot()"
      ],
      "execution_count": null,
      "outputs": [
        {
          "output_type": "execute_result",
          "data": {
            "text/plain": [
              "<matplotlib.axes._subplots.AxesSubplot at 0x7fb9e5792790>"
            ]
          },
          "metadata": {
            "tags": []
          },
          "execution_count": 21
        },
        {
          "output_type": "display_data",
          "data": {
            "image/png": "[encoded data removed]",
            "text/plain": [
              "<Figure size 432x288 with 1 Axes>"
            ]
          },
          "metadata": {
            "tags": [],
            "needs_background": "light"
          }
        }
      ]
    },
    {
      "cell_type": "code",
      "metadata": {
        "colab": {
          "base_uri": "https://localhost:8080/",
          "height": 315
        },
        "id": "78Nfo40uY0ZZ",
        "outputId": "95cacb6b-1983-4124-ea38-3cc913aa49a5"
      },
      "source": [
        "df[['sqft_living']].hist()"
      ],
      "execution_count": null,
      "outputs": [
        {
          "output_type": "execute_result",
          "data": {
            "text/plain": [
              "array([[<matplotlib.axes._subplots.AxesSubplot object at 0x7fb9e5751e10>]],\n",
              "      dtype=object)"
            ]
          },
          "metadata": {
            "tags": []
          },
          "execution_count": 22
        },
        {
          "output_type": "display_data",
          "data": {
            "image/png": "[encoded data removed]",
            "text/plain": [
              "<Figure size 432x288 with 1 Axes>"
            ]
          },
          "metadata": {
            "tags": [],
            "needs_background": "light"
          }
        }
      ]
    },
    {
      "cell_type": "code",
      "metadata": {
        "colab": {
          "base_uri": "https://localhost:8080/"
        },
        "id": "Ojsv-urCY0Za",
        "outputId": "1dac2772-1acc-4786-886e-ed7a9af75616"
      },
      "source": [
        "df['sqft_lot'].describe()"
      ],
      "execution_count": null,
      "outputs": [
        {
          "output_type": "execute_result",
          "data": {
            "text/plain": [
              "count    1.721000e+04\n",
              "mean     1.513545e+04\n",
              "std      4.260361e+04\n",
              "min      5.200000e+02\n",
              "25%      5.034000e+03\n",
              "50%      7.620000e+03\n",
              "75%      1.070075e+04\n",
              "max      1.651359e+06\n",
              "Name: sqft_lot, dtype: float64"
            ]
          },
          "metadata": {
            "tags": []
          },
          "execution_count": 23
        }
      ]
    },
    {
      "cell_type": "code",
      "metadata": {
        "id": "K2hIyQbnY0Za"
      },
      "source": [
        "df['sqft_lot']= np.log(df['sqft_lot'])"
      ],
      "execution_count": null,
      "outputs": []
    },
    {
      "cell_type": "code",
      "metadata": {
        "colab": {
          "base_uri": "https://localhost:8080/",
          "height": 283
        },
        "id": "kh4nFKzdY0Za",
        "outputId": "9c56a012-06ba-4535-8d26-cdd853cb3b54"
      },
      "source": [
        "df[['sqft_lot']].boxplot()"
      ],
      "execution_count": null,
      "outputs": [
        {
          "output_type": "execute_result",
          "data": {
            "text/plain": [
              "<matplotlib.axes._subplots.AxesSubplot at 0x7fb9e5636a50>"
            ]
          },
          "metadata": {
            "tags": []
          },
          "execution_count": 25
        },
        {
          "output_type": "display_data",
          "data": {
            "image/png": "[encoded data removed]",
            "text/plain": [
              "<Figure size 432x288 with 1 Axes>"
            ]
          },
          "metadata": {
            "tags": [],
            "needs_background": "light"
          }
        }
      ]
    },
    {
      "cell_type": "code",
      "metadata": {
        "colab": {
          "base_uri": "https://localhost:8080/",
          "height": 282
        },
        "id": "TX7BPMhRY0Zb",
        "outputId": "29137a86-5430-47c7-d4a5-80700e54b392"
      },
      "source": [
        "df[['condition']].boxplot()"
      ],
      "execution_count": null,
      "outputs": [
        {
          "output_type": "execute_result",
          "data": {
            "text/plain": [
              "<matplotlib.axes._subplots.AxesSubplot at 0x7fb9e5635dd0>"
            ]
          },
          "metadata": {
            "tags": []
          },
          "execution_count": 26
        },
        {
          "output_type": "display_data",
          "data": {
            "image/png": "[encoded data removed]",
            "text/plain": [
              "<Figure size 432x288 with 1 Axes>"
            ]
          },
          "metadata": {
            "tags": [],
            "needs_background": "light"
          }
        }
      ]
    },
    {
      "cell_type": "code",
      "metadata": {
        "colab": {
          "base_uri": "https://localhost:8080/",
          "height": 282
        },
        "id": "zaNcpHQXY0Zb",
        "outputId": "180ce76d-365c-4ac6-edde-250c2188d561"
      },
      "source": [
        "df[['grade']].boxplot()"
      ],
      "execution_count": null,
      "outputs": [
        {
          "output_type": "execute_result",
          "data": {
            "text/plain": [
              "<matplotlib.axes._subplots.AxesSubplot at 0x7fb9e55adf90>"
            ]
          },
          "metadata": {
            "tags": []
          },
          "execution_count": 27
        },
        {
          "output_type": "display_data",
          "data": {
            "image/png": "[encoded data removed]",
            "text/plain": [
              "<Figure size 432x288 with 1 Axes>"
            ]
          },
          "metadata": {
            "tags": [],
            "needs_background": "light"
          }
        }
      ]
    },
    {
      "cell_type": "code",
      "metadata": {
        "id": "80QnrELUY0Zc"
      },
      "source": [
        "import matplotlib.pyplot as plt"
      ],
      "execution_count": null,
      "outputs": []
    },
    {
      "cell_type": "code",
      "metadata": {
        "colab": {
          "base_uri": "https://localhost:8080/",
          "height": 675
        },
        "id": "ZwWJv9dFY0Zc",
        "outputId": "468befa7-a36b-4d8b-d79e-5ea9c6af0a7a"
      },
      "source": [
        "plt.figure(figsize=(15, 15))\n",
        "\n",
        "for i, col in enumerate(df.columns,1):\n",
        "    plt.subplot(5,3, i)\n",
        "    plt.boxplot(df[col])\n",
        "    plt.xlabel(col)\n",
        "plt.tight_layout()"
      ],
      "execution_count": null,
      "outputs": [
        {
          "output_type": "display_data",
          "data": {
            "image/png": "[encoded data removed]",
            "text/plain": [
              "<Figure size 1080x1080 with 14 Axes>"
            ]
          },
          "metadata": {
            "tags": [],
            "needs_background": "light"
          }
        }
      ]
    },
    {
      "cell_type": "code",
      "metadata": {
        "colab": {
          "base_uri": "https://localhost:8080/",
          "height": 675
        },
        "id": "BXN4aPOqY0Zc",
        "outputId": "cf2de5d8-0f51-44e2-c6bf-f98c43a26282"
      },
      "source": [
        "plt.figure(figsize=(15, 15))\n",
        "\n",
        "for i, col in enumerate(df.columns,1):\n",
        "    plt.subplot(5,3, i)\n",
        "    df[col].hist()\n",
        "    plt.xlabel(col)\n",
        "plt.tight_layout()"
      ],
      "execution_count": null,
      "outputs": [
        {
          "output_type": "display_data",
          "data": {
            "image/png": "[encoded data removed]",
            "text/plain": [
              "<Figure size 1080x1080 with 14 Axes>"
            ]
          },
          "metadata": {
            "tags": [],
            "needs_background": "light"
          }
        }
      ]
    },
    {
      "cell_type": "markdown",
      "metadata": {
        "id": "aZCGZEV0Y0Zd"
      },
      "source": [
        "# IQR for getting valid limits"
      ]
    },
    {
      "cell_type": "code",
      "metadata": {
        "id": "n_Cq3TUeY0Ze"
      },
      "source": [
        "# For condition column remove outliers\n",
        "# Find Q1 and Q3 and IQR= Q3-Q1 \n",
        "# min_val = Q1 - 1.5 * IQR\n",
        "# max_val = Q3 + 1.5 * IQR\n",
        "\n",
        "def calc_limits_IQR(df, column):\n",
        "    q1,q3 = df[column].quantile([0.25,0.75])\n",
        "    iqr = q3 - q1\n",
        "    min_val = q1 - (1.5 * iqr)\n",
        "    max_val = q3 + (1.5 * iqr)\n",
        "    return min_val, max_val"
      ],
      "execution_count": null,
      "outputs": []
    },
    {
      "cell_type": "markdown",
      "metadata": {
        "id": "eBeR2Tm_Y0Zf"
      },
      "source": [
        "# Impute Outliers\n",
        "\n",
        "Substitute values of outliers with min / max valid values\n",
        "\n",
        "\n",
        "\n",
        "1. select one column\n",
        "\n",
        "2. for that find min and max valid value\n",
        "\n",
        "3. if for one row value in column > max value then replace value in that row with max value \n",
        "\n",
        "Hint :: Use loc"
      ]
    },
    {
      "cell_type": "code",
      "metadata": {
        "id": "POn1QoGJY0Zg"
      },
      "source": [
        "# Separate Input features X and Class variable Y\n",
        "X = df.loc[:, ~df.columns.isin(['price'])]\n",
        "Y = df.loc[:,'price']"
      ],
      "execution_count": null,
      "outputs": []
    },
    {
      "cell_type": "code",
      "metadata": {
        "id": "O-lLfmyttTp0"
      },
      "source": [
        "Y = df.loc[:,'price']\n",
        "X = df.drop(['price'],axis=1)"
      ],
      "execution_count": null,
      "outputs": []
    },
    {
      "cell_type": "code",
      "metadata": {
        "id": "nbEMfHaBY0Zh"
      },
      "source": [
        "from sklearn.model_selection import train_test_split"
      ],
      "execution_count": null,
      "outputs": []
    },
    {
      "cell_type": "code",
      "metadata": {
        "id": "3_v6nuoVY0Zi"
      },
      "source": [
        "X_train, X_test, Y_train, Y_test = train_test_split(X,Y,test_size = 0.25, random_state=7)"
      ],
      "execution_count": null,
      "outputs": []
    },
    {
      "cell_type": "markdown",
      "metadata": {
        "id": "zHxd-mGntvfj"
      },
      "source": [
        "## IMPUTE outliers of ONLY training data"
      ]
    },
    {
      "cell_type": "code",
      "metadata": {
        "id": "S8EHvUM2Y0Zi"
      },
      "source": [
        "#output df_impute\n",
        "\n",
        "def impute_outliers(X_train,Y_train):\n",
        "    for col in X_train.columns:\n",
        "        min_l, max_l = calc_limits_IQR(X_train,col)\n",
        "        X_train.loc[X_train[col] > max_l, col] = max_l\n",
        "        X_train.loc[X_train[col] < min_l, col] = min_l\n",
        "    return X_train,Y_train"
      ],
      "execution_count": null,
      "outputs": []
    },
    {
      "cell_type": "code",
      "metadata": {
        "colab": {
          "base_uri": "https://localhost:8080/",
          "height": 315
        },
        "id": "8vUI_JpTY0Zj",
        "outputId": "d31c3dd2-faad-4140-a582-d9d232770620"
      },
      "source": [
        "X_train.describe() "
      ],
      "execution_count": null,
      "outputs": [
        {
          "output_type": "execute_result",
          "data": {
            "text/html": [
              "<div>\n",
              "<style scoped>\n",
              "    .dataframe tbody tr th:only-of-type {\n",
              "        vertical-align: middle;\n",
              "    }\n",
              "\n",
              "    .dataframe tbody tr th {\n",
              "        vertical-align: top;\n",
              "    }\n",
              "\n",
              "    .dataframe thead th {\n",
              "        text-align: right;\n",
              "    }\n",
              "</style>\n",
              "<table border=\"1\" class=\"dataframe\">\n",
              "  <thead>\n",
              "    <tr style=\"text-align: right;\">\n",
              "      <th></th>\n",
              "      <th>bedrooms</th>\n",
              "      <th>sqft_living</th>\n",
              "      <th>sqft_lot</th>\n",
              "      <th>floors</th>\n",
              "      <th>waterfront</th>\n",
              "      <th>condition</th>\n",
              "      <th>grade</th>\n",
              "      <th>sqft_above</th>\n",
              "      <th>sqft_basement</th>\n",
              "      <th>yr_built</th>\n",
              "      <th>zipcode</th>\n",
              "      <th>sqft_living15</th>\n",
              "      <th>sqft_lot15</th>\n",
              "    </tr>\n",
              "  </thead>\n",
              "  <tbody>\n",
              "    <tr>\n",
              "      <th>count</th>\n",
              "      <td>12907.000000</td>\n",
              "      <td>12907.000000</td>\n",
              "      <td>12907.000000</td>\n",
              "      <td>12907.000000</td>\n",
              "      <td>12907.000000</td>\n",
              "      <td>12907.000000</td>\n",
              "      <td>12907.000000</td>\n",
              "      <td>12907.000000</td>\n",
              "      <td>12907.000000</td>\n",
              "      <td>12907.000000</td>\n",
              "      <td>12907.000000</td>\n",
              "      <td>12907.000000</td>\n",
              "      <td>12907.000000</td>\n",
              "    </tr>\n",
              "    <tr>\n",
              "      <th>mean</th>\n",
              "      <td>3.375223</td>\n",
              "      <td>2078.340900</td>\n",
              "      <td>8.979911</td>\n",
              "      <td>1.500814</td>\n",
              "      <td>0.008213</td>\n",
              "      <td>3.412722</td>\n",
              "      <td>7.657628</td>\n",
              "      <td>1785.846053</td>\n",
              "      <td>292.494848</td>\n",
              "      <td>1971.317890</td>\n",
              "      <td>98077.793213</td>\n",
              "      <td>1985.921670</td>\n",
              "      <td>12647.641202</td>\n",
              "    </tr>\n",
              "    <tr>\n",
              "      <th>std</th>\n",
              "      <td>0.936699</td>\n",
              "      <td>922.798376</td>\n",
              "      <td>0.897201</td>\n",
              "      <td>0.543636</td>\n",
              "      <td>0.090254</td>\n",
              "      <td>0.650456</td>\n",
              "      <td>1.165855</td>\n",
              "      <td>824.070485</td>\n",
              "      <td>445.464865</td>\n",
              "      <td>29.444951</td>\n",
              "      <td>53.621589</td>\n",
              "      <td>682.761228</td>\n",
              "      <td>27458.773815</td>\n",
              "    </tr>\n",
              "    <tr>\n",
              "      <th>min</th>\n",
              "      <td>1.000000</td>\n",
              "      <td>380.000000</td>\n",
              "      <td>6.411818</td>\n",
              "      <td>1.000000</td>\n",
              "      <td>0.000000</td>\n",
              "      <td>1.000000</td>\n",
              "      <td>3.000000</td>\n",
              "      <td>380.000000</td>\n",
              "      <td>0.000000</td>\n",
              "      <td>1900.000000</td>\n",
              "      <td>98001.000000</td>\n",
              "      <td>399.000000</td>\n",
              "      <td>659.000000</td>\n",
              "    </tr>\n",
              "    <tr>\n",
              "      <th>25%</th>\n",
              "      <td>3.000000</td>\n",
              "      <td>1420.000000</td>\n",
              "      <td>8.522579</td>\n",
              "      <td>1.000000</td>\n",
              "      <td>0.000000</td>\n",
              "      <td>3.000000</td>\n",
              "      <td>7.000000</td>\n",
              "      <td>1190.000000</td>\n",
              "      <td>0.000000</td>\n",
              "      <td>1952.000000</td>\n",
              "      <td>98033.000000</td>\n",
              "      <td>1490.000000</td>\n",
              "      <td>5100.000000</td>\n",
              "    </tr>\n",
              "    <tr>\n",
              "      <th>50%</th>\n",
              "      <td>3.000000</td>\n",
              "      <td>1910.000000</td>\n",
              "      <td>8.938532</td>\n",
              "      <td>1.500000</td>\n",
              "      <td>0.000000</td>\n",
              "      <td>3.000000</td>\n",
              "      <td>7.000000</td>\n",
              "      <td>1560.000000</td>\n",
              "      <td>0.000000</td>\n",
              "      <td>1975.000000</td>\n",
              "      <td>98065.000000</td>\n",
              "      <td>1840.000000</td>\n",
              "      <td>7615.000000</td>\n",
              "    </tr>\n",
              "    <tr>\n",
              "      <th>75%</th>\n",
              "      <td>4.000000</td>\n",
              "      <td>2550.000000</td>\n",
              "      <td>9.273315</td>\n",
              "      <td>2.000000</td>\n",
              "      <td>0.000000</td>\n",
              "      <td>4.000000</td>\n",
              "      <td>8.000000</td>\n",
              "      <td>2210.000000</td>\n",
              "      <td>560.000000</td>\n",
              "      <td>1997.000000</td>\n",
              "      <td>98118.000000</td>\n",
              "      <td>2360.000000</td>\n",
              "      <td>10080.000000</td>\n",
              "    </tr>\n",
              "    <tr>\n",
              "      <th>max</th>\n",
              "      <td>33.000000</td>\n",
              "      <td>13540.000000</td>\n",
              "      <td>14.317109</td>\n",
              "      <td>3.500000</td>\n",
              "      <td>1.000000</td>\n",
              "      <td>5.000000</td>\n",
              "      <td>13.000000</td>\n",
              "      <td>9410.000000</td>\n",
              "      <td>4820.000000</td>\n",
              "      <td>2015.000000</td>\n",
              "      <td>98199.000000</td>\n",
              "      <td>5790.000000</td>\n",
              "      <td>871200.000000</td>\n",
              "    </tr>\n",
              "  </tbody>\n",
              "</table>\n",
              "</div>"
            ],
            "text/plain": [
              "           bedrooms   sqft_living  ...  sqft_living15     sqft_lot15\n",
              "count  12907.000000  12907.000000  ...   12907.000000   12907.000000\n",
              "mean       3.375223   2078.340900  ...    1985.921670   12647.641202\n",
              "std        0.936699    922.798376  ...     682.761228   27458.773815\n",
              "min        1.000000    380.000000  ...     399.000000     659.000000\n",
              "25%        3.000000   1420.000000  ...    1490.000000    5100.000000\n",
              "50%        3.000000   1910.000000  ...    1840.000000    7615.000000\n",
              "75%        4.000000   2550.000000  ...    2360.000000   10080.000000\n",
              "max       33.000000  13540.000000  ...    5790.000000  871200.000000\n",
              "\n",
              "[8 rows x 13 columns]"
            ]
          },
          "metadata": {
            "tags": []
          },
          "execution_count": 36
        }
      ]
    },
    {
      "cell_type": "code",
      "metadata": {
        "id": "G4urt1vlY0Zk"
      },
      "source": [
        "X_train_impute,Y_train_impute = impute_outliers(X_train.copy(),Y_train.copy())"
      ],
      "execution_count": null,
      "outputs": []
    },
    {
      "cell_type": "code",
      "metadata": {
        "scrolled": true,
        "colab": {
          "base_uri": "https://localhost:8080/",
          "height": 315
        },
        "id": "UKxMX2-VY0Zk",
        "outputId": "00f86451-85ea-4949-ccec-8b95f24fb493"
      },
      "source": [
        "X_train_impute.describe()"
      ],
      "execution_count": null,
      "outputs": [
        {
          "output_type": "execute_result",
          "data": {
            "text/html": [
              "<div>\n",
              "<style scoped>\n",
              "    .dataframe tbody tr th:only-of-type {\n",
              "        vertical-align: middle;\n",
              "    }\n",
              "\n",
              "    .dataframe tbody tr th {\n",
              "        vertical-align: top;\n",
              "    }\n",
              "\n",
              "    .dataframe thead th {\n",
              "        text-align: right;\n",
              "    }\n",
              "</style>\n",
              "<table border=\"1\" class=\"dataframe\">\n",
              "  <thead>\n",
              "    <tr style=\"text-align: right;\">\n",
              "      <th></th>\n",
              "      <th>bedrooms</th>\n",
              "      <th>sqft_living</th>\n",
              "      <th>sqft_lot</th>\n",
              "      <th>floors</th>\n",
              "      <th>waterfront</th>\n",
              "      <th>condition</th>\n",
              "      <th>grade</th>\n",
              "      <th>sqft_above</th>\n",
              "      <th>sqft_basement</th>\n",
              "      <th>yr_built</th>\n",
              "      <th>zipcode</th>\n",
              "      <th>sqft_living15</th>\n",
              "      <th>sqft_lot15</th>\n",
              "    </tr>\n",
              "  </thead>\n",
              "  <tbody>\n",
              "    <tr>\n",
              "      <th>count</th>\n",
              "      <td>12907.000000</td>\n",
              "      <td>12907.000000</td>\n",
              "      <td>12907.000000</td>\n",
              "      <td>12907.000000</td>\n",
              "      <td>12907.0</td>\n",
              "      <td>12907.000000</td>\n",
              "      <td>12907.000000</td>\n",
              "      <td>12907.000000</td>\n",
              "      <td>12907.000000</td>\n",
              "      <td>12907.000000</td>\n",
              "      <td>12907.000000</td>\n",
              "      <td>12907.000000</td>\n",
              "      <td>12907.000000</td>\n",
              "    </tr>\n",
              "    <tr>\n",
              "      <th>mean</th>\n",
              "      <td>3.365228</td>\n",
              "      <td>2056.197877</td>\n",
              "      <td>8.938984</td>\n",
              "      <td>1.500814</td>\n",
              "      <td>0.0</td>\n",
              "      <td>3.413303</td>\n",
              "      <td>7.599558</td>\n",
              "      <td>1767.740064</td>\n",
              "      <td>284.549004</td>\n",
              "      <td>1971.317890</td>\n",
              "      <td>98077.793213</td>\n",
              "      <td>1974.561091</td>\n",
              "      <td>8276.595491</td>\n",
              "    </tr>\n",
              "    <tr>\n",
              "      <th>std</th>\n",
              "      <td>0.849121</td>\n",
              "      <td>841.790926</td>\n",
              "      <td>0.711776</td>\n",
              "      <td>0.543636</td>\n",
              "      <td>0.0</td>\n",
              "      <td>0.648520</td>\n",
              "      <td>0.994019</td>\n",
              "      <td>763.098987</td>\n",
              "      <td>417.551078</td>\n",
              "      <td>29.444951</td>\n",
              "      <td>53.621589</td>\n",
              "      <td>646.746612</td>\n",
              "      <td>4364.724689</td>\n",
              "    </tr>\n",
              "    <tr>\n",
              "      <th>min</th>\n",
              "      <td>1.500000</td>\n",
              "      <td>380.000000</td>\n",
              "      <td>7.396474</td>\n",
              "      <td>1.000000</td>\n",
              "      <td>0.0</td>\n",
              "      <td>1.500000</td>\n",
              "      <td>5.500000</td>\n",
              "      <td>380.000000</td>\n",
              "      <td>0.000000</td>\n",
              "      <td>1900.000000</td>\n",
              "      <td>98001.000000</td>\n",
              "      <td>399.000000</td>\n",
              "      <td>659.000000</td>\n",
              "    </tr>\n",
              "    <tr>\n",
              "      <th>25%</th>\n",
              "      <td>3.000000</td>\n",
              "      <td>1420.000000</td>\n",
              "      <td>8.522579</td>\n",
              "      <td>1.000000</td>\n",
              "      <td>0.0</td>\n",
              "      <td>3.000000</td>\n",
              "      <td>7.000000</td>\n",
              "      <td>1190.000000</td>\n",
              "      <td>0.000000</td>\n",
              "      <td>1952.000000</td>\n",
              "      <td>98033.000000</td>\n",
              "      <td>1490.000000</td>\n",
              "      <td>5100.000000</td>\n",
              "    </tr>\n",
              "    <tr>\n",
              "      <th>50%</th>\n",
              "      <td>3.000000</td>\n",
              "      <td>1910.000000</td>\n",
              "      <td>8.938532</td>\n",
              "      <td>1.500000</td>\n",
              "      <td>0.0</td>\n",
              "      <td>3.000000</td>\n",
              "      <td>7.000000</td>\n",
              "      <td>1560.000000</td>\n",
              "      <td>0.000000</td>\n",
              "      <td>1975.000000</td>\n",
              "      <td>98065.000000</td>\n",
              "      <td>1840.000000</td>\n",
              "      <td>7615.000000</td>\n",
              "    </tr>\n",
              "    <tr>\n",
              "      <th>75%</th>\n",
              "      <td>4.000000</td>\n",
              "      <td>2550.000000</td>\n",
              "      <td>9.273315</td>\n",
              "      <td>2.000000</td>\n",
              "      <td>0.0</td>\n",
              "      <td>4.000000</td>\n",
              "      <td>8.000000</td>\n",
              "      <td>2210.000000</td>\n",
              "      <td>560.000000</td>\n",
              "      <td>1997.000000</td>\n",
              "      <td>98118.000000</td>\n",
              "      <td>2360.000000</td>\n",
              "      <td>10080.000000</td>\n",
              "    </tr>\n",
              "    <tr>\n",
              "      <th>max</th>\n",
              "      <td>5.500000</td>\n",
              "      <td>4245.000000</td>\n",
              "      <td>10.399420</td>\n",
              "      <td>3.500000</td>\n",
              "      <td>0.0</td>\n",
              "      <td>5.000000</td>\n",
              "      <td>9.500000</td>\n",
              "      <td>3740.000000</td>\n",
              "      <td>1400.000000</td>\n",
              "      <td>2015.000000</td>\n",
              "      <td>98199.000000</td>\n",
              "      <td>3665.000000</td>\n",
              "      <td>17550.000000</td>\n",
              "    </tr>\n",
              "  </tbody>\n",
              "</table>\n",
              "</div>"
            ],
            "text/plain": [
              "           bedrooms   sqft_living  ...  sqft_living15    sqft_lot15\n",
              "count  12907.000000  12907.000000  ...   12907.000000  12907.000000\n",
              "mean       3.365228   2056.197877  ...    1974.561091   8276.595491\n",
              "std        0.849121    841.790926  ...     646.746612   4364.724689\n",
              "min        1.500000    380.000000  ...     399.000000    659.000000\n",
              "25%        3.000000   1420.000000  ...    1490.000000   5100.000000\n",
              "50%        3.000000   1910.000000  ...    1840.000000   7615.000000\n",
              "75%        4.000000   2550.000000  ...    2360.000000  10080.000000\n",
              "max        5.500000   4245.000000  ...    3665.000000  17550.000000\n",
              "\n",
              "[8 rows x 13 columns]"
            ]
          },
          "metadata": {
            "tags": []
          },
          "execution_count": 40
        }
      ]
    },
    {
      "cell_type": "code",
      "metadata": {
        "id": "1J5r7nsgY0Zl",
        "outputId": "0df39824-8373-4414-d9c1-bff077e5073a"
      },
      "source": [
        "id(X_train),id(X_train_impute)"
      ],
      "execution_count": null,
      "outputs": [
        {
          "output_type": "execute_result",
          "data": {
            "text/plain": [
              "(1452752685192, 1452753028744)"
            ]
          },
          "metadata": {
            "tags": []
          },
          "execution_count": 33
        }
      ]
    },
    {
      "cell_type": "markdown",
      "metadata": {
        "id": "6rlv98leY0Zl"
      },
      "source": [
        "# Remove Outliers\n",
        "\n",
        "Remove the rows which have outlier values for a particular feature"
      ]
    },
    {
      "cell_type": "code",
      "metadata": {
        "id": "ADRY1mbEY0Zm"
      },
      "source": [
        "#output df_removal\n",
        "\n",
        "def remove_outliers(X_train,Y_train):\n",
        "    print(\"Initial shape= \", X_train.shape)\n",
        "    \n",
        "    for col in X_train.columns:\n",
        "        min_l, max_l = calc_limits_IQR(X_train,col)\n",
        "        idx = X_train.index[((X_train[col] <= max_l) & (X_train[col] >= min_l))]\n",
        "        X_train =  X_train.loc[idx]\n",
        "        Y_train = Y_train.loc[idx]\n",
        "        print(\"After col=\",col,\" shape is \", X_train.shape)\n",
        "    return X_train,Y_train"
      ],
      "execution_count": null,
      "outputs": []
    },
    {
      "cell_type": "code",
      "metadata": {
        "id": "8MPQ3sxMY0Zn",
        "outputId": "e71b2d99-33a7-459c-d7cc-e0c3e1f7335b"
      },
      "source": [
        "X_train_remove,Y_train_remove = remove_outliers(X_train.copy(),Y_train.copy())"
      ],
      "execution_count": null,
      "outputs": [
        {
          "output_type": "stream",
          "text": [
            "Initial shape=  (12907, 13)\n",
            "After col= bedrooms  shape is  (12607, 13)\n",
            "After col= sqft_living  shape is  (12277, 13)\n",
            "After col= sqft_lot  shape is  (10818, 13)\n",
            "After col= floors  shape is  (10818, 13)\n",
            "After col= waterfront  shape is  (10756, 13)\n",
            "After col= condition  shape is  (10745, 13)\n",
            "After col= grade  shape is  (10111, 13)\n",
            "After col= sqft_above  shape is  (9920, 13)\n",
            "After col= sqft_basement  shape is  (9806, 13)\n",
            "After col= yr_built  shape is  (9806, 13)\n",
            "After col= zipcode  shape is  (9806, 13)\n",
            "After col= sqft_living15  shape is  (9723, 13)\n",
            "After col= sqft_lot15  shape is  (9339, 13)\n"
          ],
          "name": "stdout"
        }
      ]
    },
    {
      "cell_type": "code",
      "metadata": {
        "id": "RSSUvSxbY0Zo",
        "outputId": "7f4e2ca7-b133-4747-b7b8-b0553581ca18"
      },
      "source": [
        "X_train_remove.describe()"
      ],
      "execution_count": null,
      "outputs": [
        {
          "output_type": "execute_result",
          "data": {
            "text/html": [
              "<div>\n",
              "<style scoped>\n",
              "    .dataframe tbody tr th:only-of-type {\n",
              "        vertical-align: middle;\n",
              "    }\n",
              "\n",
              "    .dataframe tbody tr th {\n",
              "        vertical-align: top;\n",
              "    }\n",
              "\n",
              "    .dataframe thead th {\n",
              "        text-align: right;\n",
              "    }\n",
              "</style>\n",
              "<table border=\"1\" class=\"dataframe\">\n",
              "  <thead>\n",
              "    <tr style=\"text-align: right;\">\n",
              "      <th></th>\n",
              "      <th>bedrooms</th>\n",
              "      <th>sqft_living</th>\n",
              "      <th>sqft_lot</th>\n",
              "      <th>floors</th>\n",
              "      <th>waterfront</th>\n",
              "      <th>condition</th>\n",
              "      <th>grade</th>\n",
              "      <th>sqft_above</th>\n",
              "      <th>sqft_basement</th>\n",
              "      <th>yr_built</th>\n",
              "      <th>zipcode</th>\n",
              "      <th>sqft_living15</th>\n",
              "      <th>sqft_lot15</th>\n",
              "    </tr>\n",
              "  </thead>\n",
              "  <tbody>\n",
              "    <tr>\n",
              "      <th>count</th>\n",
              "      <td>9339.000000</td>\n",
              "      <td>9339.000000</td>\n",
              "      <td>9339.000000</td>\n",
              "      <td>9339.000000</td>\n",
              "      <td>9339.0</td>\n",
              "      <td>9339.000000</td>\n",
              "      <td>9339.000000</td>\n",
              "      <td>9339.000000</td>\n",
              "      <td>9339.000000</td>\n",
              "      <td>9339.000000</td>\n",
              "      <td>9339.000000</td>\n",
              "      <td>9339.000000</td>\n",
              "      <td>9339.000000</td>\n",
              "    </tr>\n",
              "    <tr>\n",
              "      <th>mean</th>\n",
              "      <td>3.306136</td>\n",
              "      <td>1856.834672</td>\n",
              "      <td>8.822109</td>\n",
              "      <td>1.405343</td>\n",
              "      <td>0.0</td>\n",
              "      <td>3.449941</td>\n",
              "      <td>7.373166</td>\n",
              "      <td>1595.943035</td>\n",
              "      <td>260.891637</td>\n",
              "      <td>1967.220473</td>\n",
              "      <td>98080.425527</td>\n",
              "      <td>1829.698148</td>\n",
              "      <td>7202.397794</td>\n",
              "    </tr>\n",
              "    <tr>\n",
              "      <th>std</th>\n",
              "      <td>0.769948</td>\n",
              "      <td>618.138960</td>\n",
              "      <td>0.464646</td>\n",
              "      <td>0.487015</td>\n",
              "      <td>0.0</td>\n",
              "      <td>0.661597</td>\n",
              "      <td>0.806546</td>\n",
              "      <td>575.791954</td>\n",
              "      <td>378.156504</td>\n",
              "      <td>29.113888</td>\n",
              "      <td>54.832855</td>\n",
              "      <td>495.399720</td>\n",
              "      <td>2715.252962</td>\n",
              "    </tr>\n",
              "    <tr>\n",
              "      <th>min</th>\n",
              "      <td>2.000000</td>\n",
              "      <td>560.000000</td>\n",
              "      <td>7.424165</td>\n",
              "      <td>1.000000</td>\n",
              "      <td>0.0</td>\n",
              "      <td>2.000000</td>\n",
              "      <td>6.000000</td>\n",
              "      <td>480.000000</td>\n",
              "      <td>0.000000</td>\n",
              "      <td>1900.000000</td>\n",
              "      <td>98001.000000</td>\n",
              "      <td>620.000000</td>\n",
              "      <td>955.000000</td>\n",
              "    </tr>\n",
              "    <tr>\n",
              "      <th>25%</th>\n",
              "      <td>3.000000</td>\n",
              "      <td>1390.000000</td>\n",
              "      <td>8.517193</td>\n",
              "      <td>1.000000</td>\n",
              "      <td>0.0</td>\n",
              "      <td>3.000000</td>\n",
              "      <td>7.000000</td>\n",
              "      <td>1160.000000</td>\n",
              "      <td>0.000000</td>\n",
              "      <td>1949.000000</td>\n",
              "      <td>98033.000000</td>\n",
              "      <td>1460.000000</td>\n",
              "      <td>5015.500000</td>\n",
              "    </tr>\n",
              "    <tr>\n",
              "      <th>50%</th>\n",
              "      <td>3.000000</td>\n",
              "      <td>1810.000000</td>\n",
              "      <td>8.882531</td>\n",
              "      <td>1.000000</td>\n",
              "      <td>0.0</td>\n",
              "      <td>3.000000</td>\n",
              "      <td>7.000000</td>\n",
              "      <td>1460.000000</td>\n",
              "      <td>0.000000</td>\n",
              "      <td>1968.000000</td>\n",
              "      <td>98065.000000</td>\n",
              "      <td>1760.000000</td>\n",
              "      <td>7255.000000</td>\n",
              "    </tr>\n",
              "    <tr>\n",
              "      <th>75%</th>\n",
              "      <td>4.000000</td>\n",
              "      <td>2270.000000</td>\n",
              "      <td>9.130972</td>\n",
              "      <td>2.000000</td>\n",
              "      <td>0.0</td>\n",
              "      <td>4.000000</td>\n",
              "      <td>8.000000</td>\n",
              "      <td>1950.000000</td>\n",
              "      <td>530.000000</td>\n",
              "      <td>1991.000000</td>\n",
              "      <td>98119.000000</td>\n",
              "      <td>2150.000000</td>\n",
              "      <td>8867.500000</td>\n",
              "    </tr>\n",
              "    <tr>\n",
              "      <th>max</th>\n",
              "      <td>5.000000</td>\n",
              "      <td>4170.000000</td>\n",
              "      <td>10.324826</td>\n",
              "      <td>3.000000</td>\n",
              "      <td>0.0</td>\n",
              "      <td>5.000000</td>\n",
              "      <td>9.000000</td>\n",
              "      <td>3250.000000</td>\n",
              "      <td>1400.000000</td>\n",
              "      <td>2015.000000</td>\n",
              "      <td>98199.000000</td>\n",
              "      <td>3270.000000</td>\n",
              "      <td>15375.000000</td>\n",
              "    </tr>\n",
              "  </tbody>\n",
              "</table>\n",
              "</div>"
            ],
            "text/plain": [
              "          bedrooms  sqft_living     sqft_lot       floors  waterfront  \\\n",
              "count  9339.000000  9339.000000  9339.000000  9339.000000      9339.0   \n",
              "mean      3.306136  1856.834672     8.822109     1.405343         0.0   \n",
              "std       0.769948   618.138960     0.464646     0.487015         0.0   \n",
              "min       2.000000   560.000000     7.424165     1.000000         0.0   \n",
              "25%       3.000000  1390.000000     8.517193     1.000000         0.0   \n",
              "50%       3.000000  1810.000000     8.882531     1.000000         0.0   \n",
              "75%       4.000000  2270.000000     9.130972     2.000000         0.0   \n",
              "max       5.000000  4170.000000    10.324826     3.000000         0.0   \n",
              "\n",
              "         condition        grade   sqft_above  sqft_basement     yr_built  \\\n",
              "count  9339.000000  9339.000000  9339.000000    9339.000000  9339.000000   \n",
              "mean      3.449941     7.373166  1595.943035     260.891637  1967.220473   \n",
              "std       0.661597     0.806546   575.791954     378.156504    29.113888   \n",
              "min       2.000000     6.000000   480.000000       0.000000  1900.000000   \n",
              "25%       3.000000     7.000000  1160.000000       0.000000  1949.000000   \n",
              "50%       3.000000     7.000000  1460.000000       0.000000  1968.000000   \n",
              "75%       4.000000     8.000000  1950.000000     530.000000  1991.000000   \n",
              "max       5.000000     9.000000  3250.000000    1400.000000  2015.000000   \n",
              "\n",
              "            zipcode  sqft_living15    sqft_lot15  \n",
              "count   9339.000000    9339.000000   9339.000000  \n",
              "mean   98080.425527    1829.698148   7202.397794  \n",
              "std       54.832855     495.399720   2715.252962  \n",
              "min    98001.000000     620.000000    955.000000  \n",
              "25%    98033.000000    1460.000000   5015.500000  \n",
              "50%    98065.000000    1760.000000   7255.000000  \n",
              "75%    98119.000000    2150.000000   8867.500000  \n",
              "max    98199.000000    3270.000000  15375.000000  "
            ]
          },
          "metadata": {
            "tags": []
          },
          "execution_count": 39
        }
      ]
    },
    {
      "cell_type": "markdown",
      "metadata": {
        "id": "iuIYYY1vY0Zo"
      },
      "source": [
        "# Z score for Removing outliers"
      ]
    },
    {
      "cell_type": "code",
      "metadata": {
        "id": "9EKW1i8AY0Zp",
        "outputId": "aafb0e35-52f0-4273-88d0-dca7d0a7f008"
      },
      "source": [
        "X_train.describe()"
      ],
      "execution_count": null,
      "outputs": [
        {
          "output_type": "execute_result",
          "data": {
            "text/html": [
              "<div>\n",
              "<style scoped>\n",
              "    .dataframe tbody tr th:only-of-type {\n",
              "        vertical-align: middle;\n",
              "    }\n",
              "\n",
              "    .dataframe tbody tr th {\n",
              "        vertical-align: top;\n",
              "    }\n",
              "\n",
              "    .dataframe thead th {\n",
              "        text-align: right;\n",
              "    }\n",
              "</style>\n",
              "<table border=\"1\" class=\"dataframe\">\n",
              "  <thead>\n",
              "    <tr style=\"text-align: right;\">\n",
              "      <th></th>\n",
              "      <th>bedrooms</th>\n",
              "      <th>sqft_living</th>\n",
              "      <th>sqft_lot</th>\n",
              "      <th>floors</th>\n",
              "      <th>waterfront</th>\n",
              "      <th>condition</th>\n",
              "      <th>grade</th>\n",
              "      <th>sqft_above</th>\n",
              "      <th>sqft_basement</th>\n",
              "      <th>yr_built</th>\n",
              "      <th>zipcode</th>\n",
              "      <th>sqft_living15</th>\n",
              "      <th>sqft_lot15</th>\n",
              "    </tr>\n",
              "  </thead>\n",
              "  <tbody>\n",
              "    <tr>\n",
              "      <th>count</th>\n",
              "      <td>17210.000000</td>\n",
              "      <td>17210.000000</td>\n",
              "      <td>17210.000000</td>\n",
              "      <td>17210.000000</td>\n",
              "      <td>17210.000000</td>\n",
              "      <td>17210.000000</td>\n",
              "      <td>17210.000000</td>\n",
              "      <td>17210.000000</td>\n",
              "      <td>17210.000000</td>\n",
              "      <td>17210.000000</td>\n",
              "      <td>17210.000000</td>\n",
              "      <td>17210.000000</td>\n",
              "      <td>17210.000000</td>\n",
              "    </tr>\n",
              "    <tr>\n",
              "      <th>mean</th>\n",
              "      <td>3.373213</td>\n",
              "      <td>2080.172051</td>\n",
              "      <td>8.986503</td>\n",
              "      <td>1.498605</td>\n",
              "      <td>0.008077</td>\n",
              "      <td>3.409587</td>\n",
              "      <td>7.661941</td>\n",
              "      <td>1788.108077</td>\n",
              "      <td>292.063974</td>\n",
              "      <td>1971.285880</td>\n",
              "      <td>98077.903661</td>\n",
              "      <td>1987.480244</td>\n",
              "      <td>12785.612028</td>\n",
              "    </tr>\n",
              "    <tr>\n",
              "      <th>std</th>\n",
              "      <td>0.927616</td>\n",
              "      <td>917.995097</td>\n",
              "      <td>0.905788</td>\n",
              "      <td>0.542192</td>\n",
              "      <td>0.089509</td>\n",
              "      <td>0.646909</td>\n",
              "      <td>1.170044</td>\n",
              "      <td>824.994890</td>\n",
              "      <td>443.397892</td>\n",
              "      <td>29.378191</td>\n",
              "      <td>53.554500</td>\n",
              "      <td>684.866281</td>\n",
              "      <td>27294.470122</td>\n",
              "    </tr>\n",
              "    <tr>\n",
              "      <th>min</th>\n",
              "      <td>1.000000</td>\n",
              "      <td>370.000000</td>\n",
              "      <td>6.253829</td>\n",
              "      <td>1.000000</td>\n",
              "      <td>0.000000</td>\n",
              "      <td>1.000000</td>\n",
              "      <td>3.000000</td>\n",
              "      <td>370.000000</td>\n",
              "      <td>0.000000</td>\n",
              "      <td>1900.000000</td>\n",
              "      <td>98001.000000</td>\n",
              "      <td>399.000000</td>\n",
              "      <td>659.000000</td>\n",
              "    </tr>\n",
              "    <tr>\n",
              "      <th>25%</th>\n",
              "      <td>3.000000</td>\n",
              "      <td>1420.000000</td>\n",
              "      <td>8.523970</td>\n",
              "      <td>1.000000</td>\n",
              "      <td>0.000000</td>\n",
              "      <td>3.000000</td>\n",
              "      <td>7.000000</td>\n",
              "      <td>1190.000000</td>\n",
              "      <td>0.000000</td>\n",
              "      <td>1952.000000</td>\n",
              "      <td>98033.000000</td>\n",
              "      <td>1490.000000</td>\n",
              "      <td>5100.000000</td>\n",
              "    </tr>\n",
              "    <tr>\n",
              "      <th>50%</th>\n",
              "      <td>3.000000</td>\n",
              "      <td>1910.000000</td>\n",
              "      <td>8.938532</td>\n",
              "      <td>1.500000</td>\n",
              "      <td>0.000000</td>\n",
              "      <td>3.000000</td>\n",
              "      <td>7.000000</td>\n",
              "      <td>1560.000000</td>\n",
              "      <td>0.000000</td>\n",
              "      <td>1975.000000</td>\n",
              "      <td>98065.000000</td>\n",
              "      <td>1840.000000</td>\n",
              "      <td>7620.000000</td>\n",
              "    </tr>\n",
              "    <tr>\n",
              "      <th>75%</th>\n",
              "      <td>4.000000</td>\n",
              "      <td>2550.000000</td>\n",
              "      <td>9.278069</td>\n",
              "      <td>2.000000</td>\n",
              "      <td>0.000000</td>\n",
              "      <td>4.000000</td>\n",
              "      <td>8.000000</td>\n",
              "      <td>2210.000000</td>\n",
              "      <td>560.000000</td>\n",
              "      <td>1997.000000</td>\n",
              "      <td>98118.000000</td>\n",
              "      <td>2368.250000</td>\n",
              "      <td>10092.000000</td>\n",
              "    </tr>\n",
              "    <tr>\n",
              "      <th>max</th>\n",
              "      <td>33.000000</td>\n",
              "      <td>13540.000000</td>\n",
              "      <td>14.317109</td>\n",
              "      <td>3.500000</td>\n",
              "      <td>1.000000</td>\n",
              "      <td>5.000000</td>\n",
              "      <td>13.000000</td>\n",
              "      <td>9410.000000</td>\n",
              "      <td>4820.000000</td>\n",
              "      <td>2015.000000</td>\n",
              "      <td>98199.000000</td>\n",
              "      <td>6210.000000</td>\n",
              "      <td>871200.000000</td>\n",
              "    </tr>\n",
              "  </tbody>\n",
              "</table>\n",
              "</div>"
            ],
            "text/plain": [
              "           bedrooms   sqft_living      sqft_lot        floors    waterfront  \\\n",
              "count  17210.000000  17210.000000  17210.000000  17210.000000  17210.000000   \n",
              "mean       3.373213   2080.172051      8.986503      1.498605      0.008077   \n",
              "std        0.927616    917.995097      0.905788      0.542192      0.089509   \n",
              "min        1.000000    370.000000      6.253829      1.000000      0.000000   \n",
              "25%        3.000000   1420.000000      8.523970      1.000000      0.000000   \n",
              "50%        3.000000   1910.000000      8.938532      1.500000      0.000000   \n",
              "75%        4.000000   2550.000000      9.278069      2.000000      0.000000   \n",
              "max       33.000000  13540.000000     14.317109      3.500000      1.000000   \n",
              "\n",
              "          condition         grade    sqft_above  sqft_basement      yr_built  \\\n",
              "count  17210.000000  17210.000000  17210.000000   17210.000000  17210.000000   \n",
              "mean       3.409587      7.661941   1788.108077     292.063974   1971.285880   \n",
              "std        0.646909      1.170044    824.994890     443.397892     29.378191   \n",
              "min        1.000000      3.000000    370.000000       0.000000   1900.000000   \n",
              "25%        3.000000      7.000000   1190.000000       0.000000   1952.000000   \n",
              "50%        3.000000      7.000000   1560.000000       0.000000   1975.000000   \n",
              "75%        4.000000      8.000000   2210.000000     560.000000   1997.000000   \n",
              "max        5.000000     13.000000   9410.000000    4820.000000   2015.000000   \n",
              "\n",
              "            zipcode  sqft_living15     sqft_lot15  \n",
              "count  17210.000000   17210.000000   17210.000000  \n",
              "mean   98077.903661    1987.480244   12785.612028  \n",
              "std       53.554500     684.866281   27294.470122  \n",
              "min    98001.000000     399.000000     659.000000  \n",
              "25%    98033.000000    1490.000000    5100.000000  \n",
              "50%    98065.000000    1840.000000    7620.000000  \n",
              "75%    98118.000000    2368.250000   10092.000000  \n",
              "max    98199.000000    6210.000000  871200.000000  "
            ]
          },
          "metadata": {
            "tags": []
          },
          "execution_count": 109
        }
      ]
    },
    {
      "cell_type": "code",
      "metadata": {
        "id": "AwEk3awdY0Zp"
      },
      "source": [
        "from scipy import stats\n",
        "def remove_outliers_zscore(X_train,Y_train):\n",
        "    for col in X_train.columns:\n",
        "        idx = X_train.index[abs(stats.zscore(X_train[col])) <= 3]\n",
        "        X_train =  X_train.loc[idx]\n",
        "        Y_train = Y_train.loc[idx]\n",
        "        print(\"After col=\",col,\" shape is \", X_train.shape)\n",
        "    return X_train,Y_train"
      ],
      "execution_count": null,
      "outputs": []
    },
    {
      "cell_type": "code",
      "metadata": {
        "id": "3n4W5putY0Zq",
        "outputId": "e394df57-cdb6-4281-d314-969ce89fee1b"
      },
      "source": [
        "X_train_z, Y_train_z = remove_outliers_zscore(X_train.copy(),Y_train.copy())"
      ],
      "execution_count": null,
      "outputs": [
        {
          "output_type": "stream",
          "text": [
            "After col= bedrooms  shape is  (12871, 13)\n",
            "After col= sqft_living  shape is  (12720, 13)\n",
            "After col= sqft_lot  shape is  (12514, 13)\n",
            "After col= floors  shape is  (12510, 13)\n",
            "After col= waterfront  shape is  (12420, 13)\n",
            "After col= condition  shape is  (12406, 13)\n",
            "After col= grade  shape is  (12212, 13)\n",
            "After col= sqft_above  shape is  (12101, 13)\n",
            "After col= sqft_basement  shape is  (11981, 13)\n",
            "After col= yr_built  shape is  (11981, 13)\n",
            "After col= zipcode  shape is  (11981, 13)\n",
            "After col= sqft_living15  shape is  (11903, 13)\n",
            "After col= sqft_lot15  shape is  (11773, 13)\n"
          ],
          "name": "stdout"
        }
      ]
    },
    {
      "cell_type": "code",
      "metadata": {
        "id": "IwT-Kc3WY0Zq",
        "outputId": "3ddb5b20-539b-49d3-8f5a-8d65f216011d"
      },
      "source": [
        "X_train_z.describe()"
      ],
      "execution_count": null,
      "outputs": [
        {
          "output_type": "execute_result",
          "data": {
            "text/html": [
              "<div>\n",
              "<style scoped>\n",
              "    .dataframe tbody tr th:only-of-type {\n",
              "        vertical-align: middle;\n",
              "    }\n",
              "\n",
              "    .dataframe tbody tr th {\n",
              "        vertical-align: top;\n",
              "    }\n",
              "\n",
              "    .dataframe thead th {\n",
              "        text-align: right;\n",
              "    }\n",
              "</style>\n",
              "<table border=\"1\" class=\"dataframe\">\n",
              "  <thead>\n",
              "    <tr style=\"text-align: right;\">\n",
              "      <th></th>\n",
              "      <th>bedrooms</th>\n",
              "      <th>sqft_living</th>\n",
              "      <th>sqft_lot</th>\n",
              "      <th>floors</th>\n",
              "      <th>waterfront</th>\n",
              "      <th>condition</th>\n",
              "      <th>grade</th>\n",
              "      <th>sqft_above</th>\n",
              "      <th>sqft_basement</th>\n",
              "      <th>yr_built</th>\n",
              "      <th>zipcode</th>\n",
              "      <th>sqft_living15</th>\n",
              "      <th>sqft_lot15</th>\n",
              "    </tr>\n",
              "  </thead>\n",
              "  <tbody>\n",
              "    <tr>\n",
              "      <th>count</th>\n",
              "      <td>11773.000000</td>\n",
              "      <td>11773.000000</td>\n",
              "      <td>11773.000000</td>\n",
              "      <td>11773.000000</td>\n",
              "      <td>11773.0</td>\n",
              "      <td>11773.000000</td>\n",
              "      <td>11773.000000</td>\n",
              "      <td>11773.000000</td>\n",
              "      <td>11773.000000</td>\n",
              "      <td>11773.000000</td>\n",
              "      <td>11773.000000</td>\n",
              "      <td>11773.000000</td>\n",
              "      <td>11773.000000</td>\n",
              "    </tr>\n",
              "    <tr>\n",
              "      <th>mean</th>\n",
              "      <td>3.322008</td>\n",
              "      <td>1937.902319</td>\n",
              "      <td>8.854036</td>\n",
              "      <td>1.484923</td>\n",
              "      <td>0.0</td>\n",
              "      <td>3.418330</td>\n",
              "      <td>7.518984</td>\n",
              "      <td>1675.215323</td>\n",
              "      <td>262.686996</td>\n",
              "      <td>1970.430477</td>\n",
              "      <td>98079.662278</td>\n",
              "      <td>1897.214644</td>\n",
              "      <td>8624.655058</td>\n",
              "    </tr>\n",
              "    <tr>\n",
              "      <th>std</th>\n",
              "      <td>0.846946</td>\n",
              "      <td>719.424831</td>\n",
              "      <td>0.732132</td>\n",
              "      <td>0.542891</td>\n",
              "      <td>0.0</td>\n",
              "      <td>0.646794</td>\n",
              "      <td>0.979964</td>\n",
              "      <td>673.469139</td>\n",
              "      <td>388.597937</td>\n",
              "      <td>29.505594</td>\n",
              "      <td>53.988765</td>\n",
              "      <td>575.487945</td>\n",
              "      <td>7157.030252</td>\n",
              "    </tr>\n",
              "    <tr>\n",
              "      <th>min</th>\n",
              "      <td>1.000000</td>\n",
              "      <td>380.000000</td>\n",
              "      <td>6.458338</td>\n",
              "      <td>1.000000</td>\n",
              "      <td>0.0</td>\n",
              "      <td>2.000000</td>\n",
              "      <td>5.000000</td>\n",
              "      <td>380.000000</td>\n",
              "      <td>0.000000</td>\n",
              "      <td>1900.000000</td>\n",
              "      <td>98001.000000</td>\n",
              "      <td>460.000000</td>\n",
              "      <td>659.000000</td>\n",
              "    </tr>\n",
              "    <tr>\n",
              "      <th>25%</th>\n",
              "      <td>3.000000</td>\n",
              "      <td>1390.000000</td>\n",
              "      <td>8.517193</td>\n",
              "      <td>1.000000</td>\n",
              "      <td>0.0</td>\n",
              "      <td>3.000000</td>\n",
              "      <td>7.000000</td>\n",
              "      <td>1170.000000</td>\n",
              "      <td>0.000000</td>\n",
              "      <td>1951.000000</td>\n",
              "      <td>98033.000000</td>\n",
              "      <td>1460.000000</td>\n",
              "      <td>5000.000000</td>\n",
              "    </tr>\n",
              "    <tr>\n",
              "      <th>50%</th>\n",
              "      <td>3.000000</td>\n",
              "      <td>1840.000000</td>\n",
              "      <td>8.898092</td>\n",
              "      <td>1.000000</td>\n",
              "      <td>0.0</td>\n",
              "      <td>3.000000</td>\n",
              "      <td>7.000000</td>\n",
              "      <td>1500.000000</td>\n",
              "      <td>0.000000</td>\n",
              "      <td>1974.000000</td>\n",
              "      <td>98072.000000</td>\n",
              "      <td>1790.000000</td>\n",
              "      <td>7398.000000</td>\n",
              "    </tr>\n",
              "    <tr>\n",
              "      <th>75%</th>\n",
              "      <td>4.000000</td>\n",
              "      <td>2400.000000</td>\n",
              "      <td>9.197762</td>\n",
              "      <td>2.000000</td>\n",
              "      <td>0.0</td>\n",
              "      <td>4.000000</td>\n",
              "      <td>8.000000</td>\n",
              "      <td>2070.000000</td>\n",
              "      <td>520.000000</td>\n",
              "      <td>1996.000000</td>\n",
              "      <td>98118.000000</td>\n",
              "      <td>2260.000000</td>\n",
              "      <td>9600.000000</td>\n",
              "    </tr>\n",
              "    <tr>\n",
              "      <th>max</th>\n",
              "      <td>6.000000</td>\n",
              "      <td>4750.000000</td>\n",
              "      <td>11.614055</td>\n",
              "      <td>3.000000</td>\n",
              "      <td>0.0</td>\n",
              "      <td>5.000000</td>\n",
              "      <td>10.000000</td>\n",
              "      <td>3860.000000</td>\n",
              "      <td>1525.000000</td>\n",
              "      <td>2015.000000</td>\n",
              "      <td>98199.000000</td>\n",
              "      <td>3715.000000</td>\n",
              "      <td>54520.000000</td>\n",
              "    </tr>\n",
              "  </tbody>\n",
              "</table>\n",
              "</div>"
            ],
            "text/plain": [
              "           bedrooms   sqft_living      sqft_lot        floors  waterfront  \\\n",
              "count  11773.000000  11773.000000  11773.000000  11773.000000     11773.0   \n",
              "mean       3.322008   1937.902319      8.854036      1.484923         0.0   \n",
              "std        0.846946    719.424831      0.732132      0.542891         0.0   \n",
              "min        1.000000    380.000000      6.458338      1.000000         0.0   \n",
              "25%        3.000000   1390.000000      8.517193      1.000000         0.0   \n",
              "50%        3.000000   1840.000000      8.898092      1.000000         0.0   \n",
              "75%        4.000000   2400.000000      9.197762      2.000000         0.0   \n",
              "max        6.000000   4750.000000     11.614055      3.000000         0.0   \n",
              "\n",
              "          condition         grade    sqft_above  sqft_basement      yr_built  \\\n",
              "count  11773.000000  11773.000000  11773.000000   11773.000000  11773.000000   \n",
              "mean       3.418330      7.518984   1675.215323     262.686996   1970.430477   \n",
              "std        0.646794      0.979964    673.469139     388.597937     29.505594   \n",
              "min        2.000000      5.000000    380.000000       0.000000   1900.000000   \n",
              "25%        3.000000      7.000000   1170.000000       0.000000   1951.000000   \n",
              "50%        3.000000      7.000000   1500.000000       0.000000   1974.000000   \n",
              "75%        4.000000      8.000000   2070.000000     520.000000   1996.000000   \n",
              "max        5.000000     10.000000   3860.000000    1525.000000   2015.000000   \n",
              "\n",
              "            zipcode  sqft_living15    sqft_lot15  \n",
              "count  11773.000000   11773.000000  11773.000000  \n",
              "mean   98079.662278    1897.214644   8624.655058  \n",
              "std       53.988765     575.487945   7157.030252  \n",
              "min    98001.000000     460.000000    659.000000  \n",
              "25%    98033.000000    1460.000000   5000.000000  \n",
              "50%    98072.000000    1790.000000   7398.000000  \n",
              "75%    98118.000000    2260.000000   9600.000000  \n",
              "max    98199.000000    3715.000000  54520.000000  "
            ]
          },
          "metadata": {
            "tags": []
          },
          "execution_count": 42
        }
      ]
    },
    {
      "cell_type": "markdown",
      "metadata": {
        "id": "4EcdaLhFY0Zr"
      },
      "source": [
        "# Multi Variate Outlier Handling\n",
        "\n",
        "#### Unsupervised Methods\n",
        "1. sklearn.ensemble.IsolationForest \n",
        "2. sklearn.neighbors.LocalOutlierFactor \n",
        "3. DBScan\n"
      ]
    },
    {
      "cell_type": "code",
      "metadata": {
        "id": "L_KYFicmY0Zs"
      },
      "source": [
        "from sklearn.ensemble import IsolationForest"
      ],
      "execution_count": null,
      "outputs": []
    },
    {
      "cell_type": "code",
      "metadata": {
        "id": "D1R4c7iCY0Zt"
      },
      "source": [
        "labels = IsolationForest(n_estimators=50, random_state=7).fit_predict(X_train)"
      ],
      "execution_count": null,
      "outputs": []
    },
    {
      "cell_type": "code",
      "metadata": {
        "id": "LFoNdyvtY0Zt",
        "outputId": "551e3392-f6da-4697-a508-b149349145fe"
      },
      "source": [
        "unique, counts = np.unique(labels, return_counts=True)\n",
        "dict(zip(unique, counts))"
      ],
      "execution_count": null,
      "outputs": [
        {
          "output_type": "execute_result",
          "data": {
            "text/plain": [
              "{-1: 1919, 1: 15291}"
            ]
          },
          "metadata": {
            "tags": []
          },
          "execution_count": 64
        }
      ]
    },
    {
      "cell_type": "code",
      "metadata": {
        "id": "AGYOQw58Y0Zw"
      },
      "source": [
        "labels = IsolationForest(n_estimators=150, random_state=7).fit_predict(X_train)"
      ],
      "execution_count": null,
      "outputs": []
    },
    {
      "cell_type": "code",
      "metadata": {
        "id": "jTih3KtEY0Zx",
        "outputId": "233591b7-d182-4d14-d53b-f83f8dfed141"
      },
      "source": [
        "unique, counts = np.unique(labels, return_counts=True)\n",
        "dict(zip(unique, counts))"
      ],
      "execution_count": null,
      "outputs": [
        {
          "output_type": "execute_result",
          "data": {
            "text/plain": [
              "{-1: 1756, 1: 15454}"
            ]
          },
          "metadata": {
            "tags": []
          },
          "execution_count": 66
        }
      ]
    },
    {
      "cell_type": "markdown",
      "metadata": {
        "id": "-QQ_LPAPY0Zy"
      },
      "source": [
        "# Apply linear regression on all variants of the data"
      ]
    },
    {
      "cell_type": "code",
      "metadata": {
        "id": "0WTKCSQmY0Zy"
      },
      "source": [
        "from sklearn.linear_model import LinearRegression"
      ],
      "execution_count": null,
      "outputs": []
    },
    {
      "cell_type": "code",
      "metadata": {
        "id": "36bg-F7YY0Zz"
      },
      "source": [
        "from sklearn.metrics import mean_squared_error\n",
        "from math import sqrt"
      ],
      "execution_count": null,
      "outputs": []
    },
    {
      "cell_type": "code",
      "metadata": {
        "id": "I0npP6ETY0Z0",
        "outputId": "67fecc73-61cf-44f8-bec2-86d7aced64e7"
      },
      "source": [
        "reg = LinearRegression().fit(X_train, Y_train)\n",
        "Y_pred = reg.predict(X_test)\n",
        "rmse=sqrt(mean_squared_error(Y_test.values,Y_pred))\n",
        "print(rmse)"
      ],
      "execution_count": null,
      "outputs": [
        {
          "output_type": "stream",
          "text": [
            "0.3130119784702681\n"
          ],
          "name": "stdout"
        }
      ]
    },
    {
      "cell_type": "code",
      "metadata": {
        "id": "LgmqbO0fY0Z0",
        "outputId": "cb426452-e814-431c-af89-b4f42a5aecdb"
      },
      "source": [
        "reg = LinearRegression().fit(X_train_impute,Y_train_impute)\n",
        "Y_pred_impute = reg.predict(X_test)\n",
        "rmse=sqrt(mean_squared_error(Y_test.values,Y_pred_impute))\n",
        "print(rmse)"
      ],
      "execution_count": null,
      "outputs": [
        {
          "output_type": "stream",
          "text": [
            "0.34394712337532996\n"
          ],
          "name": "stdout"
        }
      ]
    },
    {
      "cell_type": "code",
      "metadata": {
        "id": "tkjH064CY0Z2",
        "outputId": "cc5b3053-09e1-4ed3-9628-eb42c8edd121"
      },
      "source": [
        "reg = LinearRegression().fit(X_train_remove, Y_train_remove)\n",
        "Y_pred_remove = reg.predict(X_test)\n",
        "rmse=sqrt(mean_squared_error(Y_test.values,Y_pred_remove))\n",
        "print(rmse)"
      ],
      "execution_count": null,
      "outputs": [
        {
          "output_type": "stream",
          "text": [
            "0.4212657565153671\n"
          ],
          "name": "stdout"
        }
      ]
    },
    {
      "cell_type": "code",
      "metadata": {
        "id": "T4vH-Jj5Y0Z2",
        "outputId": "963384e1-39fa-4656-be63-ee8d079e725d"
      },
      "source": [
        "reg = LinearRegression().fit(X_train_z, Y_train_z)\n",
        "Y_pred_z = reg.predict(X_test)\n",
        "rmse=sqrt(mean_squared_error(Y_test.values,Y_pred))\n",
        "print(rmse)"
      ],
      "execution_count": null,
      "outputs": [
        {
          "output_type": "stream",
          "text": [
            "0.3130119784702681\n"
          ],
          "name": "stdout"
        }
      ]
    },
    {
      "cell_type": "code",
      "metadata": {
        "id": "LWg35GB1Y0Z3"
      },
      "source": [
        "res = pd.DataFrame([Y_test.values,Y_pred,Y_pred_impute,Y_pred_remove,Y_pred_z])\n",
        "res = res.T\n",
        "res.columns = ['Y_test','Y_pred','Y_impute_pred','Y_remove_pred','Y_z_pred']"
      ],
      "execution_count": null,
      "outputs": []
    },
    {
      "cell_type": "code",
      "metadata": {
        "id": "YoBpJnMpY0Z3",
        "outputId": "d709b2ab-c1ac-4723-f340-c0cec8e87dcc"
      },
      "source": [
        "res.describe()"
      ],
      "execution_count": null,
      "outputs": [
        {
          "output_type": "execute_result",
          "data": {
            "text/html": [
              "<div>\n",
              "<style scoped>\n",
              "    .dataframe tbody tr th:only-of-type {\n",
              "        vertical-align: middle;\n",
              "    }\n",
              "\n",
              "    .dataframe tbody tr th {\n",
              "        vertical-align: top;\n",
              "    }\n",
              "\n",
              "    .dataframe thead th {\n",
              "        text-align: right;\n",
              "    }\n",
              "</style>\n",
              "<table border=\"1\" class=\"dataframe\">\n",
              "  <thead>\n",
              "    <tr style=\"text-align: right;\">\n",
              "      <th></th>\n",
              "      <th>Y_test</th>\n",
              "      <th>Y_pred</th>\n",
              "      <th>Y_impute_pred</th>\n",
              "      <th>Y_remove_pred</th>\n",
              "      <th>Y_z_pred</th>\n",
              "    </tr>\n",
              "  </thead>\n",
              "  <tbody>\n",
              "    <tr>\n",
              "      <th>count</th>\n",
              "      <td>4303.000000</td>\n",
              "      <td>4303.000000</td>\n",
              "      <td>4303.000000</td>\n",
              "      <td>4303.000000</td>\n",
              "      <td>4303.000000</td>\n",
              "    </tr>\n",
              "    <tr>\n",
              "      <th>mean</th>\n",
              "      <td>13.046477</td>\n",
              "      <td>13.047158</td>\n",
              "      <td>13.092335</td>\n",
              "      <td>12.985754</td>\n",
              "      <td>13.054993</td>\n",
              "    </tr>\n",
              "    <tr>\n",
              "      <th>std</th>\n",
              "      <td>0.530592</td>\n",
              "      <td>0.425610</td>\n",
              "      <td>0.502346</td>\n",
              "      <td>0.514584</td>\n",
              "      <td>0.451270</td>\n",
              "    </tr>\n",
              "    <tr>\n",
              "      <th>min</th>\n",
              "      <td>11.314475</td>\n",
              "      <td>11.865249</td>\n",
              "      <td>11.760039</td>\n",
              "      <td>9.307272</td>\n",
              "      <td>11.716833</td>\n",
              "    </tr>\n",
              "    <tr>\n",
              "      <th>25%</th>\n",
              "      <td>12.676076</td>\n",
              "      <td>12.747579</td>\n",
              "      <td>12.740730</td>\n",
              "      <td>12.695914</td>\n",
              "      <td>12.739476</td>\n",
              "    </tr>\n",
              "    <tr>\n",
              "      <th>50%</th>\n",
              "      <td>13.022543</td>\n",
              "      <td>12.977651</td>\n",
              "      <td>13.002977</td>\n",
              "      <td>12.945066</td>\n",
              "      <td>12.977387</td>\n",
              "    </tr>\n",
              "    <tr>\n",
              "      <th>75%</th>\n",
              "      <td>13.377393</td>\n",
              "      <td>13.256472</td>\n",
              "      <td>13.336159</td>\n",
              "      <td>13.242739</td>\n",
              "      <td>13.276394</td>\n",
              "    </tr>\n",
              "    <tr>\n",
              "      <th>max</th>\n",
              "      <td>15.492607</td>\n",
              "      <td>15.439426</td>\n",
              "      <td>16.047006</td>\n",
              "      <td>15.649921</td>\n",
              "      <td>15.688872</td>\n",
              "    </tr>\n",
              "  </tbody>\n",
              "</table>\n",
              "</div>"
            ],
            "text/plain": [
              "            Y_test       Y_pred  Y_impute_pred  Y_remove_pred     Y_z_pred\n",
              "count  4303.000000  4303.000000    4303.000000    4303.000000  4303.000000\n",
              "mean     13.046477    13.047158      13.092335      12.985754    13.054993\n",
              "std       0.530592     0.425610       0.502346       0.514584     0.451270\n",
              "min      11.314475    11.865249      11.760039       9.307272    11.716833\n",
              "25%      12.676076    12.747579      12.740730      12.695914    12.739476\n",
              "50%      13.022543    12.977651      13.002977      12.945066    12.977387\n",
              "75%      13.377393    13.256472      13.336159      13.242739    13.276394\n",
              "max      15.492607    15.439426      16.047006      15.649921    15.688872"
            ]
          },
          "metadata": {
            "tags": []
          },
          "execution_count": 70
        }
      ]
    },
    {
      "cell_type": "code",
      "metadata": {
        "id": "PsqYigSpY0Z4",
        "outputId": "1e4ab489-8d5d-42fd-8dad-aaed6154b947"
      },
      "source": [
        "res[['Y_test','Y_pred']].plot()"
      ],
      "execution_count": null,
      "outputs": [
        {
          "output_type": "execute_result",
          "data": {
            "text/plain": [
              "<matplotlib.axes._subplots.AxesSubplot at 0x1523cfd28c8>"
            ]
          },
          "metadata": {
            "tags": []
          },
          "execution_count": 64
        },
        {
          "output_type": "display_data",
          "data": {
            "image/png": "[encoded data removed]",
            "text/plain": [
              "<Figure size 432x288 with 1 Axes>"
            ]
          },
          "metadata": {
            "tags": [],
            "needs_background": "light"
          }
        }
      ]
    },
    {
      "cell_type": "code",
      "metadata": {
        "id": "Fxg-LDrwY0Z4",
        "outputId": "fe257ee6-2ab6-47aa-a793-8d89d18d41b1"
      },
      "source": [
        "res[['Y_test','Y_impute_pred']].plot()"
      ],
      "execution_count": null,
      "outputs": [
        {
          "output_type": "execute_result",
          "data": {
            "text/plain": [
              "<matplotlib.axes._subplots.AxesSubplot at 0x1523ecdaa08>"
            ]
          },
          "metadata": {
            "tags": []
          },
          "execution_count": 68
        },
        {
          "output_type": "display_data",
          "data": {
            "image/png": "[encoded data removed]",
            "text/plain": [
              "<Figure size 432x288 with 1 Axes>"
            ]
          },
          "metadata": {
            "tags": [],
            "needs_background": "light"
          }
        }
      ]
    },
    {
      "cell_type": "code",
      "metadata": {
        "id": "H4kdmjBjY0Z5",
        "outputId": "7509d885-c0db-41af-825c-86813b3471e9"
      },
      "source": [
        "res[['Y_test','Y_remove_pred']].plot()"
      ],
      "execution_count": null,
      "outputs": [
        {
          "output_type": "execute_result",
          "data": {
            "text/plain": [
              "<matplotlib.axes._subplots.AxesSubplot at 0x1523ee1e148>"
            ]
          },
          "metadata": {
            "tags": []
          },
          "execution_count": 69
        },
        {
          "output_type": "display_data",
          "data": {
            "image/png": "[encoded data removed]",
            "text/plain": [
              "<Figure size 432x288 with 1 Axes>"
            ]
          },
          "metadata": {
            "tags": [],
            "needs_background": "light"
          }
        }
      ]
    },
    {
      "cell_type": "code",
      "metadata": {
        "id": "cEoeoiUAY0aB",
        "outputId": "857292ac-90e8-4762-e166-05ac53b0eb64"
      },
      "source": [
        "res[['Y_test','Y_z_pred']].plot()"
      ],
      "execution_count": null,
      "outputs": [
        {
          "output_type": "execute_result",
          "data": {
            "text/plain": [
              "<matplotlib.axes._subplots.AxesSubplot at 0x1523ec641c8>"
            ]
          },
          "metadata": {
            "tags": []
          },
          "execution_count": 65
        },
        {
          "output_type": "display_data",
          "data": {
            "image/png": "[encoded data removed]",
            "text/plain": [
              "<Figure size 432x288 with 1 Axes>"
            ]
          },
          "metadata": {
            "tags": [],
            "needs_background": "light"
          }
        }
      ]
    },
    {
      "cell_type": "code",
      "metadata": {
        "id": "7bfh8ObfY0aD",
        "outputId": "3685d9a0-f867-4cdd-9f64-938908e4818a"
      },
      "source": [
        "res.plot()"
      ],
      "execution_count": null,
      "outputs": [
        {
          "output_type": "execute_result",
          "data": {
            "text/plain": [
              "<matplotlib.axes._subplots.AxesSubplot at 0x1524079f5c8>"
            ]
          },
          "metadata": {
            "tags": []
          },
          "execution_count": 71
        },
        {
          "output_type": "display_data",
          "data": {
            "image/png": "[encoded data removed]",
            "text/plain": [
              "<Figure size 432x288 with 1 Axes>"
            ]
          },
          "metadata": {
            "tags": [],
            "needs_background": "light"
          }
        }
      ]
    },
    {
      "cell_type": "markdown",
      "metadata": {
        "id": "dGC2TFbiY0aE"
      },
      "source": [
        "# Outliers in Time Series\n",
        "\n",
        "Difficult problem\n",
        "\n",
        "Unique handling (No standardization)\n",
        "\n",
        "Methods\n",
        "1. Based on quantiles\n",
        "2. Median Absolute Deviation\n",
        "3. ARIMA or Prophet Fit , etc"
      ]
    }
  ]
}