{
  "nbformat": 4,
  "nbformat_minor": 0,
  "metadata": {
    "colab": {
      "name": "Copy of Feature_Selection.ipynb",
      "provenance": [],
      "collapsed_sections": [],
      "include_colab_link": true
    },
    "kernelspec": {
      "display_name": "Python 3",
      "language": "python",
      "name": "python3"
    },
    "language_info": {
      "codemirror_mode": {
        "name": "ipython",
        "version": 3
      },
      "file_extension": ".py",
      "mimetype": "text/x-python",
      "name": "python",
      "nbconvert_exporter": "python",
      "pygments_lexer": "ipython3",
      "version": "3.7.6"
    }
  },
  "cells": [
    {
      "cell_type": "markdown",
      "metadata": {
        "id": "view-in-github",
        "colab_type": "text"
      },
      "source": [
        "<a href=\"https://colab.research.google.com/github/Pradeepjha88/Cardiac_attack_prediction/blob/master/Feature_Selection.ipynb\" target=\"_parent\"><img src=\"https://colab.research.google.com/assets/colab-badge.svg\" alt=\"Open In Colab\"/></a>"
      ]
    },
    {
      "cell_type": "code",
      "metadata": {
        "colab": {
          "base_uri": "https://localhost:8080/",
          "height": 226
        },
        "id": "nZG5-1K8ayBt",
        "outputId": "06c0d9fb-8f81-442f-91ed-cd4e75454725"
      },
      "source": [
        "import pandas as pd\n",
        "df = pd.read_csv(\"cleaned_76hd.csv\")\n",
        "df.head()"
      ],
      "execution_count": null,
      "outputs": [
        {
          "output_type": "execute_result",
          "data": {
            "text/html": [
              "<div>\n",
              "<style scoped>\n",
              "    .dataframe tbody tr th:only-of-type {\n",
              "        vertical-align: middle;\n",
              "    }\n",
              "\n",
              "    .dataframe tbody tr th {\n",
              "        vertical-align: top;\n",
              "    }\n",
              "\n",
              "    .dataframe thead th {\n",
              "        text-align: right;\n",
              "    }\n",
              "</style>\n",
              "<table border=\"1\" class=\"dataframe\">\n",
              "  <thead>\n",
              "    <tr style=\"text-align: right;\">\n",
              "      <th></th>\n",
              "      <th>V1</th>\n",
              "      <th>V3</th>\n",
              "      <th>V4</th>\n",
              "      <th>V9</th>\n",
              "      <th>V10</th>\n",
              "      <th>V11</th>\n",
              "      <th>V12</th>\n",
              "      <th>V14</th>\n",
              "      <th>V15</th>\n",
              "      <th>V16</th>\n",
              "      <th>V18</th>\n",
              "      <th>V19</th>\n",
              "      <th>V20</th>\n",
              "      <th>V21</th>\n",
              "      <th>V22</th>\n",
              "      <th>V23</th>\n",
              "      <th>V24</th>\n",
              "      <th>V25</th>\n",
              "      <th>V26</th>\n",
              "      <th>V27</th>\n",
              "      <th>V28</th>\n",
              "      <th>V29</th>\n",
              "      <th>V30</th>\n",
              "      <th>V31</th>\n",
              "      <th>V32</th>\n",
              "      <th>V33</th>\n",
              "      <th>V34</th>\n",
              "      <th>V35</th>\n",
              "      <th>V37</th>\n",
              "      <th>V38</th>\n",
              "      <th>V39</th>\n",
              "      <th>V40</th>\n",
              "      <th>V41</th>\n",
              "      <th>V43</th>\n",
              "      <th>V44</th>\n",
              "      <th>V51</th>\n",
              "      <th>V55</th>\n",
              "      <th>V56</th>\n",
              "      <th>V57</th>\n",
              "      <th>V58</th>\n",
              "    </tr>\n",
              "  </thead>\n",
              "  <tbody>\n",
              "    <tr>\n",
              "      <th>0</th>\n",
              "      <td>0.000000</td>\n",
              "      <td>0.708333</td>\n",
              "      <td>1.0</td>\n",
              "      <td>0.000000</td>\n",
              "      <td>0.723618</td>\n",
              "      <td>0.003953</td>\n",
              "      <td>0.244292</td>\n",
              "      <td>0.505051</td>\n",
              "      <td>0.370370</td>\n",
              "      <td>1.0</td>\n",
              "      <td>1.0</td>\n",
              "      <td>0.181818</td>\n",
              "      <td>0.045455</td>\n",
              "      <td>0.024691</td>\n",
              "      <td>0.964286</td>\n",
              "      <td>0.0</td>\n",
              "      <td>0.0</td>\n",
              "      <td>0.0</td>\n",
              "      <td>0.0</td>\n",
              "      <td>0.0</td>\n",
              "      <td>0.0</td>\n",
              "      <td>0.659091</td>\n",
              "      <td>0.400000</td>\n",
              "      <td>0.058140</td>\n",
              "      <td>0.603053</td>\n",
              "      <td>0.133333</td>\n",
              "      <td>0.716216</td>\n",
              "      <td>0.615385</td>\n",
              "      <td>0.772727</td>\n",
              "      <td>0.0</td>\n",
              "      <td>0.0</td>\n",
              "      <td>0.370968</td>\n",
              "      <td>1.0</td>\n",
              "      <td>0.637037</td>\n",
              "      <td>0.000000</td>\n",
              "      <td>0.75</td>\n",
              "      <td>0.035714</td>\n",
              "      <td>0.185185</td>\n",
              "      <td>0.964286</td>\n",
              "      <td>0.0</td>\n",
              "    </tr>\n",
              "    <tr>\n",
              "      <th>1</th>\n",
              "      <td>0.003367</td>\n",
              "      <td>0.791667</td>\n",
              "      <td>1.0</td>\n",
              "      <td>0.023256</td>\n",
              "      <td>0.798995</td>\n",
              "      <td>0.003953</td>\n",
              "      <td>0.365297</td>\n",
              "      <td>0.404040</td>\n",
              "      <td>0.740741</td>\n",
              "      <td>0.0</td>\n",
              "      <td>1.0</td>\n",
              "      <td>0.181818</td>\n",
              "      <td>0.090909</td>\n",
              "      <td>0.049383</td>\n",
              "      <td>0.964286</td>\n",
              "      <td>0.0</td>\n",
              "      <td>1.0</td>\n",
              "      <td>0.0</td>\n",
              "      <td>0.0</td>\n",
              "      <td>0.0</td>\n",
              "      <td>0.0</td>\n",
              "      <td>0.583333</td>\n",
              "      <td>0.400000</td>\n",
              "      <td>0.058140</td>\n",
              "      <td>0.282443</td>\n",
              "      <td>0.160000</td>\n",
              "      <td>0.513514</td>\n",
              "      <td>0.615385</td>\n",
              "      <td>0.818182</td>\n",
              "      <td>1.0</td>\n",
              "      <td>0.0</td>\n",
              "      <td>0.241935</td>\n",
              "      <td>0.5</td>\n",
              "      <td>0.685185</td>\n",
              "      <td>1.000000</td>\n",
              "      <td>0.00</td>\n",
              "      <td>0.035714</td>\n",
              "      <td>0.049383</td>\n",
              "      <td>0.964286</td>\n",
              "      <td>1.0</td>\n",
              "    </tr>\n",
              "    <tr>\n",
              "      <th>2</th>\n",
              "      <td>0.006734</td>\n",
              "      <td>0.791667</td>\n",
              "      <td>1.0</td>\n",
              "      <td>0.023256</td>\n",
              "      <td>0.597990</td>\n",
              "      <td>0.003953</td>\n",
              "      <td>0.235160</td>\n",
              "      <td>0.202020</td>\n",
              "      <td>0.648148</td>\n",
              "      <td>0.0</td>\n",
              "      <td>1.0</td>\n",
              "      <td>0.181818</td>\n",
              "      <td>0.045455</td>\n",
              "      <td>0.222222</td>\n",
              "      <td>0.964286</td>\n",
              "      <td>0.0</td>\n",
              "      <td>1.0</td>\n",
              "      <td>0.0</td>\n",
              "      <td>0.0</td>\n",
              "      <td>0.0</td>\n",
              "      <td>0.0</td>\n",
              "      <td>0.507576</td>\n",
              "      <td>0.400000</td>\n",
              "      <td>0.040698</td>\n",
              "      <td>0.442748</td>\n",
              "      <td>0.253333</td>\n",
              "      <td>0.378378</td>\n",
              "      <td>0.519231</td>\n",
              "      <td>0.727273</td>\n",
              "      <td>1.0</td>\n",
              "      <td>0.0</td>\n",
              "      <td>0.419355</td>\n",
              "      <td>0.5</td>\n",
              "      <td>0.555556</td>\n",
              "      <td>0.666667</td>\n",
              "      <td>1.00</td>\n",
              "      <td>0.035714</td>\n",
              "      <td>0.234568</td>\n",
              "      <td>0.964286</td>\n",
              "      <td>1.0</td>\n",
              "    </tr>\n",
              "    <tr>\n",
              "      <th>3</th>\n",
              "      <td>0.010101</td>\n",
              "      <td>0.166667</td>\n",
              "      <td>1.0</td>\n",
              "      <td>0.015504</td>\n",
              "      <td>0.648241</td>\n",
              "      <td>0.000000</td>\n",
              "      <td>0.283105</td>\n",
              "      <td>0.000000</td>\n",
              "      <td>0.000000</td>\n",
              "      <td>0.0</td>\n",
              "      <td>1.0</td>\n",
              "      <td>0.000000</td>\n",
              "      <td>0.045455</td>\n",
              "      <td>0.148148</td>\n",
              "      <td>0.964286</td>\n",
              "      <td>0.0</td>\n",
              "      <td>1.0</td>\n",
              "      <td>0.0</td>\n",
              "      <td>0.0</td>\n",
              "      <td>0.0</td>\n",
              "      <td>0.0</td>\n",
              "      <td>0.848485</td>\n",
              "      <td>0.866667</td>\n",
              "      <td>0.081395</td>\n",
              "      <td>0.885496</td>\n",
              "      <td>0.293333</td>\n",
              "      <td>0.750000</td>\n",
              "      <td>0.403846</td>\n",
              "      <td>0.709091</td>\n",
              "      <td>0.0</td>\n",
              "      <td>0.0</td>\n",
              "      <td>0.564516</td>\n",
              "      <td>1.0</td>\n",
              "      <td>0.618519</td>\n",
              "      <td>0.000000</td>\n",
              "      <td>0.00</td>\n",
              "      <td>0.035714</td>\n",
              "      <td>0.037037</td>\n",
              "      <td>0.964286</td>\n",
              "      <td>0.0</td>\n",
              "    </tr>\n",
              "    <tr>\n",
              "      <th>4</th>\n",
              "      <td>0.016835</td>\n",
              "      <td>0.250000</td>\n",
              "      <td>0.0</td>\n",
              "      <td>0.007752</td>\n",
              "      <td>0.648241</td>\n",
              "      <td>0.003953</td>\n",
              "      <td>0.178082</td>\n",
              "      <td>0.000000</td>\n",
              "      <td>0.000000</td>\n",
              "      <td>0.0</td>\n",
              "      <td>1.0</td>\n",
              "      <td>0.181818</td>\n",
              "      <td>0.045455</td>\n",
              "      <td>0.074074</td>\n",
              "      <td>0.964286</td>\n",
              "      <td>0.0</td>\n",
              "      <td>0.0</td>\n",
              "      <td>0.0</td>\n",
              "      <td>0.0</td>\n",
              "      <td>0.0</td>\n",
              "      <td>0.0</td>\n",
              "      <td>0.393939</td>\n",
              "      <td>0.000000</td>\n",
              "      <td>0.034884</td>\n",
              "      <td>0.770992</td>\n",
              "      <td>0.206667</td>\n",
              "      <td>0.513514</td>\n",
              "      <td>0.461538</td>\n",
              "      <td>0.781818</td>\n",
              "      <td>0.0</td>\n",
              "      <td>0.0</td>\n",
              "      <td>0.225806</td>\n",
              "      <td>0.0</td>\n",
              "      <td>0.148148</td>\n",
              "      <td>0.000000</td>\n",
              "      <td>0.00</td>\n",
              "      <td>0.035714</td>\n",
              "      <td>0.209877</td>\n",
              "      <td>0.964286</td>\n",
              "      <td>0.0</td>\n",
              "    </tr>\n",
              "  </tbody>\n",
              "</table>\n",
              "</div>"
            ],
            "text/plain": [
              "         V1        V3   V4        V9  ...       V55       V56       V57  V58\n",
              "0  0.000000  0.708333  1.0  0.000000  ...  0.035714  0.185185  0.964286  0.0\n",
              "1  0.003367  0.791667  1.0  0.023256  ...  0.035714  0.049383  0.964286  1.0\n",
              "2  0.006734  0.791667  1.0  0.023256  ...  0.035714  0.234568  0.964286  1.0\n",
              "3  0.010101  0.166667  1.0  0.015504  ...  0.035714  0.037037  0.964286  0.0\n",
              "4  0.016835  0.250000  0.0  0.007752  ...  0.035714  0.209877  0.964286  0.0\n",
              "\n",
              "[5 rows x 40 columns]"
            ]
          },
          "metadata": {
            "tags": []
          },
          "execution_count": 1
        }
      ]
    },
    {
      "cell_type": "code",
      "metadata": {
        "id": "bJUJL79AayB3",
        "scrolled": true,
        "colab": {
          "base_uri": "https://localhost:8080/",
          "height": 226
        },
        "outputId": "b81e7bf5-2d1a-410b-f22c-8de8a78b6821"
      },
      "source": [
        "# Find the correlation between every pair of columns\n",
        "# Correlation: \n",
        "# +1 to -1\n",
        "# +1 highest positive correlation\n",
        "# -1 highest negative correlation\n",
        "# 0 there is no correlation or two variables are independent of each other\n",
        "df.corr().head() "
      ],
      "execution_count": null,
      "outputs": [
        {
          "output_type": "execute_result",
          "data": {
            "text/html": [
              "<div>\n",
              "<style scoped>\n",
              "    .dataframe tbody tr th:only-of-type {\n",
              "        vertical-align: middle;\n",
              "    }\n",
              "\n",
              "    .dataframe tbody tr th {\n",
              "        vertical-align: top;\n",
              "    }\n",
              "\n",
              "    .dataframe thead th {\n",
              "        text-align: right;\n",
              "    }\n",
              "</style>\n",
              "<table border=\"1\" class=\"dataframe\">\n",
              "  <thead>\n",
              "    <tr style=\"text-align: right;\">\n",
              "      <th></th>\n",
              "      <th>V1</th>\n",
              "      <th>V3</th>\n",
              "      <th>V4</th>\n",
              "      <th>V9</th>\n",
              "      <th>V10</th>\n",
              "      <th>V11</th>\n",
              "      <th>V12</th>\n",
              "      <th>V14</th>\n",
              "      <th>V15</th>\n",
              "      <th>V16</th>\n",
              "      <th>V18</th>\n",
              "      <th>V19</th>\n",
              "      <th>V20</th>\n",
              "      <th>V21</th>\n",
              "      <th>V22</th>\n",
              "      <th>V23</th>\n",
              "      <th>V24</th>\n",
              "      <th>V25</th>\n",
              "      <th>V26</th>\n",
              "      <th>V27</th>\n",
              "      <th>V28</th>\n",
              "      <th>V29</th>\n",
              "      <th>V30</th>\n",
              "      <th>V31</th>\n",
              "      <th>V32</th>\n",
              "      <th>V33</th>\n",
              "      <th>V34</th>\n",
              "      <th>V35</th>\n",
              "      <th>V37</th>\n",
              "      <th>V38</th>\n",
              "      <th>V39</th>\n",
              "      <th>V40</th>\n",
              "      <th>V41</th>\n",
              "      <th>V43</th>\n",
              "      <th>V44</th>\n",
              "      <th>V51</th>\n",
              "      <th>V55</th>\n",
              "      <th>V56</th>\n",
              "      <th>V57</th>\n",
              "      <th>V58</th>\n",
              "    </tr>\n",
              "  </thead>\n",
              "  <tbody>\n",
              "    <tr>\n",
              "      <th>V1</th>\n",
              "      <td>1.000000</td>\n",
              "      <td>-0.008107</td>\n",
              "      <td>-0.091995</td>\n",
              "      <td>-0.078076</td>\n",
              "      <td>0.014990</td>\n",
              "      <td>-0.080611</td>\n",
              "      <td>-0.017334</td>\n",
              "      <td>-0.165844</td>\n",
              "      <td>-0.123840</td>\n",
              "      <td>-0.041998</td>\n",
              "      <td>0.035855</td>\n",
              "      <td>-0.153098</td>\n",
              "      <td>0.039704</td>\n",
              "      <td>-0.049586</td>\n",
              "      <td>0.182372</td>\n",
              "      <td>-0.004792</td>\n",
              "      <td>-0.073313</td>\n",
              "      <td>0.031607</td>\n",
              "      <td>0.227200</td>\n",
              "      <td>-0.010278</td>\n",
              "      <td>-0.079700</td>\n",
              "      <td>-0.048944</td>\n",
              "      <td>-0.112105</td>\n",
              "      <td>-0.107179</td>\n",
              "      <td>-0.078175</td>\n",
              "      <td>-0.053959</td>\n",
              "      <td>-0.047629</td>\n",
              "      <td>-0.174304</td>\n",
              "      <td>-0.072421</td>\n",
              "      <td>0.007664</td>\n",
              "      <td>-0.030824</td>\n",
              "      <td>-0.169844</td>\n",
              "      <td>-0.064889</td>\n",
              "      <td>-0.014391</td>\n",
              "      <td>0.049432</td>\n",
              "      <td>-0.072629</td>\n",
              "      <td>0.026147</td>\n",
              "      <td>-0.088656</td>\n",
              "      <td>0.197500</td>\n",
              "      <td>-0.020331</td>\n",
              "    </tr>\n",
              "    <tr>\n",
              "      <th>V3</th>\n",
              "      <td>-0.008107</td>\n",
              "      <td>1.000000</td>\n",
              "      <td>-0.091125</td>\n",
              "      <td>0.024249</td>\n",
              "      <td>0.208996</td>\n",
              "      <td>0.029618</td>\n",
              "      <td>0.210434</td>\n",
              "      <td>-0.126901</td>\n",
              "      <td>0.043642</td>\n",
              "      <td>0.104400</td>\n",
              "      <td>0.023530</td>\n",
              "      <td>0.130642</td>\n",
              "      <td>-0.105593</td>\n",
              "      <td>-0.056316</td>\n",
              "      <td>-0.007443</td>\n",
              "      <td>0.116750</td>\n",
              "      <td>0.027747</td>\n",
              "      <td>0.119223</td>\n",
              "      <td>0.009818</td>\n",
              "      <td>0.061414</td>\n",
              "      <td>0.015274</td>\n",
              "      <td>-0.420575</td>\n",
              "      <td>0.046291</td>\n",
              "      <td>-0.081706</td>\n",
              "      <td>-0.373203</td>\n",
              "      <td>0.014797</td>\n",
              "      <td>0.086857</td>\n",
              "      <td>0.140505</td>\n",
              "      <td>0.045308</td>\n",
              "      <td>0.082731</td>\n",
              "      <td>0.044944</td>\n",
              "      <td>0.192410</td>\n",
              "      <td>0.154615</td>\n",
              "      <td>0.070107</td>\n",
              "      <td>0.350576</td>\n",
              "      <td>0.090986</td>\n",
              "      <td>-0.085886</td>\n",
              "      <td>-0.026954</td>\n",
              "      <td>-0.022362</td>\n",
              "      <td>0.204405</td>\n",
              "    </tr>\n",
              "    <tr>\n",
              "      <th>V4</th>\n",
              "      <td>-0.091995</td>\n",
              "      <td>-0.091125</td>\n",
              "      <td>1.000000</td>\n",
              "      <td>0.008215</td>\n",
              "      <td>-0.050778</td>\n",
              "      <td>0.023165</td>\n",
              "      <td>-0.200173</td>\n",
              "      <td>0.323899</td>\n",
              "      <td>0.224247</td>\n",
              "      <td>0.054396</td>\n",
              "      <td>-0.069923</td>\n",
              "      <td>0.042139</td>\n",
              "      <td>-0.026119</td>\n",
              "      <td>0.050682</td>\n",
              "      <td>-0.005919</td>\n",
              "      <td>-0.090437</td>\n",
              "      <td>0.053635</td>\n",
              "      <td>-0.048239</td>\n",
              "      <td>-0.049828</td>\n",
              "      <td>-0.016234</td>\n",
              "      <td>0.003172</td>\n",
              "      <td>0.299711</td>\n",
              "      <td>0.052688</td>\n",
              "      <td>0.054221</td>\n",
              "      <td>-0.044921</td>\n",
              "      <td>-0.200259</td>\n",
              "      <td>0.070908</td>\n",
              "      <td>-0.015825</td>\n",
              "      <td>0.027339</td>\n",
              "      <td>0.184397</td>\n",
              "      <td>0.064933</td>\n",
              "      <td>0.100021</td>\n",
              "      <td>0.040742</td>\n",
              "      <td>0.069551</td>\n",
              "      <td>0.079915</td>\n",
              "      <td>0.377250</td>\n",
              "      <td>-0.020349</td>\n",
              "      <td>0.074306</td>\n",
              "      <td>-0.024989</td>\n",
              "      <td>0.309349</td>\n",
              "    </tr>\n",
              "    <tr>\n",
              "      <th>V9</th>\n",
              "      <td>-0.078076</td>\n",
              "      <td>0.024249</td>\n",
              "      <td>0.008215</td>\n",
              "      <td>1.000000</td>\n",
              "      <td>-0.604720</td>\n",
              "      <td>0.986245</td>\n",
              "      <td>-0.083575</td>\n",
              "      <td>0.031397</td>\n",
              "      <td>-0.093732</td>\n",
              "      <td>-0.048552</td>\n",
              "      <td>-0.120393</td>\n",
              "      <td>0.394762</td>\n",
              "      <td>0.202462</td>\n",
              "      <td>0.614717</td>\n",
              "      <td>-0.986774</td>\n",
              "      <td>-0.027611</td>\n",
              "      <td>-0.062567</td>\n",
              "      <td>-0.046010</td>\n",
              "      <td>-0.025086</td>\n",
              "      <td>0.277825</td>\n",
              "      <td>0.996317</td>\n",
              "      <td>-0.060130</td>\n",
              "      <td>0.165376</td>\n",
              "      <td>0.957290</td>\n",
              "      <td>-0.323916</td>\n",
              "      <td>0.519383</td>\n",
              "      <td>-0.335379</td>\n",
              "      <td>0.328292</td>\n",
              "      <td>-0.670927</td>\n",
              "      <td>-0.043241</td>\n",
              "      <td>0.655066</td>\n",
              "      <td>0.068722</td>\n",
              "      <td>-0.085752</td>\n",
              "      <td>-0.258224</td>\n",
              "      <td>-0.055908</td>\n",
              "      <td>-0.067737</td>\n",
              "      <td>0.208776</td>\n",
              "      <td>0.575218</td>\n",
              "      <td>-0.855301</td>\n",
              "      <td>0.144038</td>\n",
              "    </tr>\n",
              "    <tr>\n",
              "      <th>V10</th>\n",
              "      <td>0.014990</td>\n",
              "      <td>0.208996</td>\n",
              "      <td>-0.050778</td>\n",
              "      <td>-0.604720</td>\n",
              "      <td>1.000000</td>\n",
              "      <td>-0.590895</td>\n",
              "      <td>0.173419</td>\n",
              "      <td>-0.033284</td>\n",
              "      <td>0.110312</td>\n",
              "      <td>0.138625</td>\n",
              "      <td>0.127396</td>\n",
              "      <td>-0.145529</td>\n",
              "      <td>-0.212148</td>\n",
              "      <td>-0.417836</td>\n",
              "      <td>0.598812</td>\n",
              "      <td>-0.044958</td>\n",
              "      <td>-0.007236</td>\n",
              "      <td>0.038458</td>\n",
              "      <td>-0.037183</td>\n",
              "      <td>-0.182059</td>\n",
              "      <td>-0.603455</td>\n",
              "      <td>-0.119066</td>\n",
              "      <td>-0.091950</td>\n",
              "      <td>-0.616095</td>\n",
              "      <td>0.164194</td>\n",
              "      <td>-0.278701</td>\n",
              "      <td>0.577061</td>\n",
              "      <td>0.093342</td>\n",
              "      <td>0.749812</td>\n",
              "      <td>0.089766</td>\n",
              "      <td>-0.396604</td>\n",
              "      <td>0.122010</td>\n",
              "      <td>0.170457</td>\n",
              "      <td>0.270446</td>\n",
              "      <td>0.105767</td>\n",
              "      <td>0.148721</td>\n",
              "      <td>-0.205701</td>\n",
              "      <td>-0.383840</td>\n",
              "      <td>0.512534</td>\n",
              "      <td>0.039983</td>\n",
              "    </tr>\n",
              "  </tbody>\n",
              "</table>\n",
              "</div>"
            ],
            "text/plain": [
              "           V1        V3        V4  ...       V56       V57       V58\n",
              "V1   1.000000 -0.008107 -0.091995  ... -0.088656  0.197500 -0.020331\n",
              "V3  -0.008107  1.000000 -0.091125  ... -0.026954 -0.022362  0.204405\n",
              "V4  -0.091995 -0.091125  1.000000  ...  0.074306 -0.024989  0.309349\n",
              "V9  -0.078076  0.024249  0.008215  ...  0.575218 -0.855301  0.144038\n",
              "V10  0.014990  0.208996 -0.050778  ... -0.383840  0.512534  0.039983\n",
              "\n",
              "[5 rows x 40 columns]"
            ]
          },
          "metadata": {
            "tags": []
          },
          "execution_count": 2
        }
      ]
    },
    {
      "cell_type": "markdown",
      "metadata": {
        "id": "uLa6cfjps5uj"
      },
      "source": [
        "# Correlation Matrix Plot\n",
        "\n",
        "## Observations to be done\n",
        "\n",
        "1. Collinearity between features\n",
        "\n",
        "If there are multiple cells with very light / very dark color then there is multi collinearity\n",
        "\n",
        "2. Correlation with the Target Variable\n",
        "\n",
        "Check the colors of target column / row."
      ]
    },
    {
      "cell_type": "code",
      "metadata": {
        "colab": {
          "base_uri": "https://localhost:8080/",
          "height": 293
        },
        "id": "fq_MXPuGayB8",
        "outputId": "84c8b0f0-75d8-4a42-e81c-ca0b83938d50"
      },
      "source": [
        "import matplotlib.pyplot as plt\n",
        "plt.matshow(df.corr())\n",
        "plt.figure(figsize=(10,6))\n",
        "plt.show()\n",
        "# df.corr()"
      ],
      "execution_count": null,
      "outputs": [
        {
          "output_type": "display_data",
          "data": {
            "image/png": "[encoded data removed]",
            "text/plain": [
              "<Figure size 288x288 with 1 Axes>"
            ]
          },
          "metadata": {
            "tags": [],
            "needs_background": "light"
          }
        },
        {
          "output_type": "display_data",
          "data": {
            "text/plain": [
              "<Figure size 720x432 with 0 Axes>"
            ]
          },
          "metadata": {
            "tags": []
          }
        }
      ]
    },
    {
      "cell_type": "markdown",
      "metadata": {
        "id": "oNwbUAH0tu9l"
      },
      "source": [
        "# Correlation of features to Target \n",
        "\n",
        "- This is crude feature selection method\n",
        "\n",
        "- Feature selection can be improved with much better methods"
      ]
    },
    {
      "cell_type": "code",
      "metadata": {
        "colab": {
          "base_uri": "https://localhost:8080/"
        },
        "id": "i5BZy1Wy5vVn",
        "outputId": "0517ad89-cd5d-495b-d26f-3db85c55a2f7"
      },
      "source": [
        "# Print all thos columns which have \n",
        "#absolute correlation with target column (V58) > 0.3\n",
        "corr = df.corr()\n",
        "corr_target = abs(corr['V58'])\n",
        "# print(corr_target.sort_values() )\n",
        "print(df.columns[corr_target > 0.3][:-1])\n",
        "\n",
        "df.columns[abs(df.corr()['V58']) > 0.3][:-1]"
      ],
      "execution_count": null,
      "outputs": [
        {
          "output_type": "stream",
          "text": [
            "Index(['V4', 'V32', 'V38', 'V40', 'V41', 'V44', 'V51'], dtype='object')\n"
          ],
          "name": "stdout"
        },
        {
          "output_type": "execute_result",
          "data": {
            "text/plain": [
              "Index(['V4', 'V32', 'V38', 'V40', 'V41', 'V44', 'V51'], dtype='object')"
            ]
          },
          "metadata": {
            "tags": []
          },
          "execution_count": 14
        }
      ]
    },
    {
      "cell_type": "code",
      "metadata": {
        "id": "fTZWepl0ayCD",
        "colab": {
          "base_uri": "https://localhost:8080/"
        },
        "outputId": "c95b079c-65cb-4804-e890-a5ec213c80ea"
      },
      "source": [
        "df.columns"
      ],
      "execution_count": null,
      "outputs": [
        {
          "output_type": "execute_result",
          "data": {
            "text/plain": [
              "Index(['V1', 'V3', 'V4', 'V9', 'V10', 'V11', 'V12', 'V14', 'V15', 'V16', 'V18',\n",
              "       'V19', 'V20', 'V21', 'V22', 'V23', 'V24', 'V25', 'V26', 'V27', 'V28',\n",
              "       'V29', 'V30', 'V31', 'V32', 'V33', 'V34', 'V35', 'V37', 'V38', 'V39',\n",
              "       'V40', 'V41', 'V43', 'V44', 'V51', 'V55', 'V56', 'V57', 'V58'],\n",
              "      dtype='object')"
            ]
          },
          "metadata": {
            "tags": []
          },
          "execution_count": 12
        }
      ]
    },
    {
      "cell_type": "code",
      "metadata": {
        "id": "rRA0kCBhayCz",
        "colab": {
          "base_uri": "https://localhost:8080/"
        },
        "outputId": "16a67734-fc10-4439-f0b9-7159950a4aba"
      },
      "source": [
        "cor = df.corr()\n",
        "#Correlation with output variable\n",
        "cor_target = abs(cor[\"V58\"])\n",
        "print(cor_target)"
      ],
      "execution_count": null,
      "outputs": [
        {
          "output_type": "stream",
          "text": [
            "V1     0.020331\n",
            "V3     0.204405\n",
            "V4     0.309349\n",
            "V9     0.144038\n",
            "V10    0.039983\n",
            "V11    0.112136\n",
            "V12    0.099745\n",
            "V14    0.085525\n",
            "V15    0.088660\n",
            "V16    0.001277\n",
            "V18    0.071976\n",
            "V19    0.183453\n",
            "V20    0.052685\n",
            "V21    0.007952\n",
            "V22    0.119330\n",
            "V23    0.165533\n",
            "V24    0.110801\n",
            "V25    0.143824\n",
            "V26    0.064526\n",
            "V27    0.019151\n",
            "V28    0.113564\n",
            "V29    0.247064\n",
            "V30    0.260546\n",
            "V31    0.066130\n",
            "V32    0.410762\n",
            "V33    0.062453\n",
            "V34    0.139876\n",
            "V35    0.089957\n",
            "V37    0.015849\n",
            "V38    0.406703\n",
            "V39    0.163591\n",
            "V40    0.424634\n",
            "V41    0.320719\n",
            "V43    0.045519\n",
            "V44    0.450304\n",
            "V51    0.503341\n",
            "V55    0.074246\n",
            "V56    0.055929\n",
            "V57    0.136242\n",
            "V58    1.000000\n",
            "Name: V58, dtype: float64\n"
          ],
          "name": "stdout"
        }
      ]
    },
    {
      "cell_type": "code",
      "metadata": {
        "id": "tORrVmyyayC3",
        "outputId": "53786e10-67d1-41f4-b346-0ea07ff18493"
      },
      "source": [
        "#Selecting highly correlated features\n",
        "relevant_features = cor_target[cor_target>0.2]\n",
        "relevant_features"
      ],
      "execution_count": null,
      "outputs": [
        {
          "output_type": "execute_result",
          "data": {
            "text/plain": [
              "V3     0.204405\n",
              "V4     0.309349\n",
              "V29    0.247064\n",
              "V30    0.260546\n",
              "V32    0.410762\n",
              "V38    0.406703\n",
              "V40    0.424634\n",
              "V41    0.320719\n",
              "V44    0.450304\n",
              "V51    0.503341\n",
              "V58    1.000000\n",
              "Name: V58, dtype: float64"
            ]
          },
          "metadata": {
            "tags": []
          },
          "execution_count": 19
        }
      ]
    },
    {
      "cell_type": "markdown",
      "metadata": {
        "id": "gxBsUNhCw8X0"
      },
      "source": [
        "# Feature Selection using PCA\n",
        "\n",
        "Principle Component Analysis\n",
        "\n",
        "- Its unsupervised "
      ]
    },
    {
      "cell_type": "markdown",
      "metadata": {
        "id": "FG7goLJIBnEm"
      },
      "source": [
        "### Demo of PCA"
      ]
    },
    {
      "cell_type": "code",
      "metadata": {
        "id": "4obaMolbBj0c"
      },
      "source": [
        "import numpy as np\n",
        "from sklearn.decomposition import PCA"
      ],
      "execution_count": null,
      "outputs": []
    },
    {
      "cell_type": "code",
      "metadata": {
        "id": "0jF5Kj8OBrW3"
      },
      "source": [
        "x1 = np.arange(10).reshape(-1,1)\n",
        "x2 = np.random.randint(1,100,10).reshape(-1,1)\n",
        "\n",
        "X = np.concatenate([x1,x2],axis=1)"
      ],
      "execution_count": null,
      "outputs": []
    },
    {
      "cell_type": "code",
      "metadata": {
        "colab": {
          "base_uri": "https://localhost:8080/"
        },
        "id": "C6xsveIrCIM5",
        "outputId": "7d7fd95f-b4a6-4657-e8a0-04096bcbadb6"
      },
      "source": [
        "X"
      ],
      "execution_count": null,
      "outputs": [
        {
          "output_type": "execute_result",
          "data": {
            "text/plain": [
              "array([[ 0, 82],\n",
              "       [ 1, 61],\n",
              "       [ 2,  4],\n",
              "       [ 3, 62],\n",
              "       [ 4, 54],\n",
              "       [ 5, 20],\n",
              "       [ 6, 20],\n",
              "       [ 7, 20],\n",
              "       [ 8, 47],\n",
              "       [ 9, 64]])"
            ]
          },
          "metadata": {
            "tags": []
          },
          "execution_count": 39
        }
      ]
    },
    {
      "cell_type": "code",
      "metadata": {
        "colab": {
          "base_uri": "https://localhost:8080/"
        },
        "id": "AO8DBkDmCLrr",
        "outputId": "1bbec627-55f6-496f-b373-02afe2d6f1a5"
      },
      "source": [
        "pca = PCA(1)\n",
        "pca.fit(X)\n",
        "X_pca = pca.transform(X)\n",
        "X_pca\n",
        "pca.components_ "
      ],
      "execution_count": null,
      "outputs": [
        {
          "output_type": "execute_result",
          "data": {
            "text/plain": [
              "array([[ 0.02923294, -0.99957263]])"
            ]
          },
          "metadata": {
            "tags": []
          },
          "execution_count": 40
        }
      ]
    },
    {
      "cell_type": "code",
      "metadata": {
        "colab": {
          "base_uri": "https://localhost:8080/"
        },
        "id": "TNTu3AxXFrRR",
        "outputId": "7d249463-37ff-4926-9d68-d81e8a632beb"
      },
      "source": [
        "pca.inverse_transform(X_pca)"
      ],
      "execution_count": null,
      "outputs": [
        {
          "output_type": "execute_result",
          "data": {
            "text/plain": [
              "array([[ 3.36824511, 82.09850582],\n",
              "       [ 3.98272911, 61.08723123],\n",
              "       [ 5.64914929,  4.10672098],\n",
              "       [ 3.95521779, 62.02793577],\n",
              "       [ 4.18983595, 54.00555184],\n",
              "       [ 5.1841858 , 20.00538659],\n",
              "       [ 5.18504036, 19.97616615],\n",
              "       [ 5.18589493, 19.9469457 ],\n",
              "       [ 4.39779736, 46.89465199],\n",
              "       [ 3.90190429, 63.85090394]])"
            ]
          },
          "metadata": {
            "tags": []
          },
          "execution_count": 41
        }
      ]
    },
    {
      "cell_type": "markdown",
      "metadata": {
        "id": "N7HwOxjcD_2P"
      },
      "source": [
        "### PCA on Actual Data"
      ]
    },
    {
      "cell_type": "code",
      "metadata": {
        "id": "L-nR_WlxayC7"
      },
      "source": [
        "# Separate Input features X and Class variable Y\n",
        "X = df.iloc[:,:-1]\n",
        "Y = df.iloc[:,-1]"
      ],
      "execution_count": null,
      "outputs": []
    },
    {
      "cell_type": "code",
      "metadata": {
        "id": "Z8pnhsknayC_"
      },
      "source": [
        "from sklearn.model_selection import train_test_split\n",
        "# Split Training and Testing Data\n",
        "X_train,X_test,Y_train,Y_test = train_test_split(X,Y,test_size = 0.25, random_state=1)"
      ],
      "execution_count": null,
      "outputs": []
    },
    {
      "cell_type": "code",
      "metadata": {
        "colab": {
          "base_uri": "https://localhost:8080/"
        },
        "id": "FUjTr-MrayDE",
        "outputId": "2093aed7-c166-4d37-b0a3-b24ca4fef862"
      },
      "source": [
        "from sklearn.decomposition import PCA# Make an instance of the Model\n",
        "# Principle COmponent Analysis\n",
        "pca = PCA(0.95,random_state=7)  # PCA(10) --> ONLY select 10 components (Don't use such a way)\n",
        "pca.fit(X_train)\n",
        "X_train_95 = pca.transform(X_train)\n",
        "X_test_95 = pca.transform(X_test)\n",
        "print(X_train_95.shape)\n",
        "X_train_95[:5]"
      ],
      "execution_count": null,
      "outputs": [
        {
          "output_type": "stream",
          "text": [
            "(211, 20)\n"
          ],
          "name": "stdout"
        },
        {
          "output_type": "execute_result",
          "data": {
            "text/plain": [
              "array([[-0.91926501,  0.39568353, -0.40733178,  0.15178861, -0.22555568,\n",
              "         0.031345  ,  0.14127232, -0.05398215, -0.27905421, -0.07974116,\n",
              "        -0.20455986,  0.01536375,  0.19033496, -0.36228476, -0.29453373,\n",
              "        -0.12991857,  0.19291293,  0.05847915,  0.04465583, -0.18915627],\n",
              "       [-0.66262125, -0.61145478,  0.28786786, -0.25184167,  0.29110947,\n",
              "        -0.54693795, -0.29886928,  0.4815123 ,  0.70923298,  0.24449273,\n",
              "        -0.4187867 ,  0.39522059, -0.47780987, -0.18967547,  0.05269308,\n",
              "        -0.45791438, -0.08712062,  0.11372976, -0.0267072 ,  0.04361385],\n",
              "       [ 0.28794032,  0.01743964, -0.46293893, -0.3589533 ,  0.782313  ,\n",
              "        -0.00343367,  0.58898854,  0.05204753,  0.14805923, -0.13782447,\n",
              "        -0.06867291, -0.28943292,  0.12594973, -0.07777664,  0.58112967,\n",
              "         0.15423641,  0.305516  , -0.17895635, -0.16348366, -0.07236578],\n",
              "       [-0.91129359, -0.13966677,  0.13672967,  0.61833316, -0.09679293,\n",
              "        -0.18248994, -0.02101647, -0.48300646, -0.11968218,  0.12419451,\n",
              "         0.01326611, -0.14356754, -0.12755037,  0.30984513,  0.20188637,\n",
              "        -0.25432782,  0.16297174, -0.27669112,  0.02572377,  0.08232679],\n",
              "       [-0.29483655,  0.71894243, -0.12177857,  0.77748266, -0.46814682,\n",
              "         0.64665842, -0.57928483,  0.24066425,  1.02614595, -0.00153717,\n",
              "        -0.02210756,  0.32596151,  0.53194241, -0.30885618, -0.05149517,\n",
              "        -0.09689006,  0.40819258,  0.50171599,  0.21188579,  0.72551734]])"
            ]
          },
          "metadata": {
            "tags": []
          },
          "execution_count": 54
        }
      ]
    },
    {
      "cell_type": "code",
      "metadata": {
        "colab": {
          "base_uri": "https://localhost:8080/"
        },
        "id": "zk1oJVnKDkDC",
        "outputId": "3cd3d04b-a50e-4a30-b7f1-b54798ba433c"
      },
      "source": [
        "pca.components_"
      ],
      "execution_count": null,
      "outputs": [
        {
          "output_type": "execute_result",
          "data": {
            "text/plain": [
              "array([[-5.15527124e-02,  5.03177522e-02,  3.42819534e-01,\n",
              "        -2.18163925e-02,  3.50635149e-02, -2.22444613e-02,\n",
              "         4.61028616e-03,  3.23987880e-02,  6.15676941e-02,\n",
              "         2.15462377e-02,  8.04582363e-02,  7.69918245e-03,\n",
              "        -3.25868626e-02, -1.88112809e-02,  2.54863227e-02,\n",
              "         7.20567738e-03,  3.20077935e-01,  2.39332682e-01,\n",
              "         2.65627898e-02,  1.54884649e-02, -2.67283613e-02,\n",
              "        -8.71616345e-02,  6.15922705e-02, -3.14481209e-02,\n",
              "        -1.18408890e-01, -4.88264090e-02, -1.72737867e-02,\n",
              "         1.00929742e-02,  3.79466997e-02,  4.82912414e-01,\n",
              "        -2.22234796e-03,  1.51185949e-01,  2.56679330e-01,\n",
              "         3.03750772e-02,  1.49033667e-01,  5.67103222e-01,\n",
              "        -2.92858172e-02, -2.24572425e-02,  3.22818479e-02],\n",
              "       [ 1.04991442e-01,  4.52197816e-02, -5.05383143e-01,\n",
              "        -5.04451290e-02,  5.10919261e-02, -4.84501470e-02,\n",
              "         3.97123625e-02, -1.08465157e-01, -5.81333795e-02,\n",
              "        -4.45591415e-03,  5.70784252e-01, -2.76384323e-02,\n",
              "        -6.19752217e-02, -4.23987750e-02,  5.78001656e-02,\n",
              "         1.30213735e-02,  3.54577241e-01,  3.34860720e-01,\n",
              "         1.84840474e-01,  7.63355368e-02, -5.26705837e-02,\n",
              "        -1.03585764e-01, -2.93494008e-02, -5.48910099e-02,\n",
              "        -3.43154412e-02, -4.34367093e-02,  1.02209447e-02,\n",
              "         7.25390631e-03,  5.30708282e-02, -5.34949904e-02,\n",
              "        -4.12818419e-02,  6.90053965e-03,  9.71917878e-02,\n",
              "         4.06221299e-02,  7.31879268e-02, -1.88332648e-01,\n",
              "        -5.05463615e-02, -7.57362991e-02,  7.39988829e-02],\n",
              "       [-1.80575338e-02,  6.00419830e-03,  4.10646571e-02,\n",
              "         7.68012689e-02, -8.58883304e-02,  6.74768942e-02,\n",
              "        -3.96874696e-02, -2.36127724e-02, -1.16901982e-01,\n",
              "         8.84152328e-02, -5.35468383e-01,  2.48501883e-02,\n",
              "        -1.94686672e-02,  7.43360764e-02, -7.94957051e-02,\n",
              "        -1.28183969e-02,  5.81649627e-01,  2.17041899e-01,\n",
              "         1.17077798e-01,  3.50121791e-01,  7.82013356e-02,\n",
              "         1.64024288e-02,  1.32355073e-02,  7.18789447e-02,\n",
              "        -1.22663605e-01,  8.95450811e-03, -7.68496671e-02,\n",
              "         3.74740285e-02, -7.59986146e-02, -1.94273847e-01,\n",
              "         8.19284418e-02, -1.87470339e-02, -1.54596253e-02,\n",
              "        -6.85827355e-02, -2.24479707e-02, -1.78710319e-01,\n",
              "        -1.00332677e-02,  7.57146179e-02, -8.42408514e-02],\n",
              "       [ 9.50091407e-02,  1.14301710e-01, -5.35064768e-01,\n",
              "         3.31285565e-02, -5.62288204e-04,  2.45447786e-02,\n",
              "         6.47064919e-02, -9.83273664e-02, -1.48641827e-01,\n",
              "        -4.84093609e-02, -4.34871585e-01,  2.80519846e-02,\n",
              "         5.93234324e-02,  8.39881353e-04, -3.02487177e-02,\n",
              "         2.02110796e-02, -3.42781916e-01,  1.97804402e-01,\n",
              "        -1.02438316e-02, -1.35389233e-03,  3.08249474e-02,\n",
              "        -2.16530787e-01,  3.48850871e-03,  9.54914716e-03,\n",
              "        -8.33180932e-02,  6.79508130e-02, -4.84537712e-02,\n",
              "         2.81453037e-02, -2.90555594e-02,  4.50372362e-01,\n",
              "         3.13377657e-02,  8.27878538e-02,  1.27233668e-01,\n",
              "         1.35807608e-02,  8.10707058e-02, -1.27951935e-04,\n",
              "         4.43943851e-02,  1.62071565e-02, -2.84924228e-02],\n",
              "       [ 8.19852415e-02, -7.12860078e-02,  2.16940449e-01,\n",
              "        -6.89079113e-02,  2.79666899e-02, -5.85054542e-02,\n",
              "        -8.20565249e-03,  1.39093572e-01,  2.08831641e-01,\n",
              "        -2.87093262e-01, -1.65367771e-01, -3.54180395e-02,\n",
              "        -3.07552452e-02, -6.71279399e-02,  7.63047523e-02,\n",
              "         9.22031260e-03, -2.00241364e-01,  7.21796513e-01,\n",
              "         1.42921791e-01, -2.11063632e-01, -6.96105740e-02,\n",
              "         8.20160540e-02, -1.26584282e-01, -5.58852895e-02,\n",
              "         9.72874034e-02, -4.59444592e-02,  3.86347523e-02,\n",
              "        -7.99138811e-02,  3.55001693e-02, -1.24009607e-01,\n",
              "        -4.12582761e-02, -8.41059176e-02, -8.84140518e-02,\n",
              "         5.31940453e-02, -1.14996402e-01, -9.64973080e-02,\n",
              "        -2.47670771e-02, -7.79488871e-02,  7.24615325e-02],\n",
              "       [-4.64368668e-03, -7.61146561e-02,  1.50113636e-01,\n",
              "         1.75935950e-01, -1.65042524e-01,  1.56070851e-01,\n",
              "        -2.67438813e-02,  4.12644425e-03, -4.59100708e-02,\n",
              "        -4.94401830e-01,  3.31272550e-01,  7.17935869e-02,\n",
              "         1.06191952e-01,  1.89582934e-01, -1.81576523e-01,\n",
              "         4.21397077e-02, -1.27367378e-01,  7.37210671e-02,\n",
              "         1.07590756e-01,  2.28882136e-01,  1.76761301e-01,\n",
              "         3.89733369e-03,  1.45198976e-01,  1.57799901e-01,\n",
              "        -1.19600807e-01,  7.15400884e-02, -1.77421785e-01,\n",
              "         4.87626070e-02, -1.67478401e-01,  1.94025055e-01,\n",
              "         1.59427462e-01,  2.68029116e-02, -4.25253459e-02,\n",
              "        -8.15148522e-02, -1.68826234e-01, -1.28274328e-01,\n",
              "         9.47366893e-02,  1.95269992e-01, -1.90996834e-01],\n",
              "       [-3.18399110e-01,  7.12272187e-02, -1.89397409e-01,\n",
              "         8.89172570e-02, -2.40155770e-02,  8.01447077e-02,\n",
              "         2.29529394e-02,  4.80141337e-02,  5.80216378e-02,\n",
              "         8.78498473e-02,  6.94181984e-02,  6.45259474e-02,\n",
              "         1.77799331e-02,  6.48917863e-02, -1.06616903e-01,\n",
              "        -1.08209900e-02, -2.40440286e-01,  2.65843069e-01,\n",
              "        -1.65082258e-01,  1.25559481e-01,  9.22426721e-02,\n",
              "        -2.67538351e-02,  1.02289268e-01,  8.08611029e-02,\n",
              "        -2.22248518e-02,  7.40722843e-02, -5.56382433e-03,\n",
              "         5.96575074e-02, -5.39635840e-02, -5.58957762e-01,\n",
              "         5.88851618e-02,  1.45688913e-01,  1.66938825e-01,\n",
              "        -2.46467914e-02,  1.36206379e-01,  4.35680331e-01,\n",
              "         2.12766461e-02,  8.01307182e-02, -1.13159712e-01],\n",
              "       [-3.98768461e-02,  1.58757984e-01,  2.01591392e-01,\n",
              "         7.27074103e-02, -1.48011750e-02,  6.64901482e-02,\n",
              "         1.27465075e-02,  1.21013038e-01,  2.56575944e-01,\n",
              "         5.59384494e-01,  1.68880764e-01,  6.27783964e-02,\n",
              "         8.74041638e-02,  5.41912329e-02, -7.62013601e-02,\n",
              "         4.46228573e-03, -1.47397541e-01,  2.27349529e-01,\n",
              "        -1.40304117e-01,  1.11660225e-01,  7.29923103e-02,\n",
              "        -1.04448492e-01, -1.43512310e-01,  5.53552567e-02,\n",
              "        -7.31638945e-02,  7.90243640e-02,  4.28242152e-02,\n",
              "         8.14274102e-02, -1.93539515e-02,  2.00971283e-01,\n",
              "         5.97822858e-02, -4.14246620e-02, -1.87268257e-01,\n",
              "        -3.44856001e-02,  2.98107432e-01, -3.54577375e-01,\n",
              "         7.89772132e-02,  6.30546549e-02, -8.70700159e-02],\n",
              "       [ 4.57046260e-01,  7.38540709e-02,  5.49240974e-02,\n",
              "         6.68032843e-03, -4.22096515e-03,  5.34185316e-03,\n",
              "         1.31729538e-02,  4.50001200e-02,  5.36799507e-02,\n",
              "         1.27021665e-01,  2.40824862e-03, -1.68347362e-02,\n",
              "        -7.51280305e-02, -2.47966866e-02,  1.18617734e-02,\n",
              "         5.11181950e-02, -2.66610011e-01, -1.28059535e-01,\n",
              "         6.06664081e-01,  4.00710607e-01,  6.40655304e-03,\n",
              "         1.69931895e-02, -1.34710404e-01,  4.60930157e-03,\n",
              "        -5.98080930e-02,  6.26969395e-03,  2.51879038e-02,\n",
              "        -2.50862329e-02, -3.96694447e-02, -1.18311967e-01,\n",
              "        -6.87508352e-03, -7.58722786e-02, -4.73549301e-02,\n",
              "         2.98502492e-02,  1.19343495e-01,  2.61054098e-01,\n",
              "        -6.36877675e-02, -2.94602816e-02,  2.71405728e-02],\n",
              "       [-9.23800281e-02,  3.27026597e-02,  2.94193437e-01,\n",
              "        -1.04600248e-02,  4.19134694e-02, -4.59281656e-03,\n",
              "         2.01168479e-03, -1.75264393e-01, -4.60452205e-01,\n",
              "         2.71121069e-01,  4.71591641e-02,  5.29121123e-02,\n",
              "        -1.37433997e-01,  2.20243780e-03,  8.49378157e-03,\n",
              "        -2.64332885e-02, -2.37400100e-01,  9.87356213e-02,\n",
              "         1.97675442e-01, -4.42148503e-02, -8.12815573e-03,\n",
              "         7.01932633e-02,  1.94329875e-01, -2.01343397e-03,\n",
              "         1.33145808e-02, -3.89245821e-02,  5.48109012e-02,\n",
              "         2.92548250e-02,  3.18752721e-02, -4.01188679e-02,\n",
              "         2.76929082e-02,  1.72122188e-01,  4.73446010e-01,\n",
              "         1.60642684e-01, -1.65389383e-01, -2.83525620e-01,\n",
              "        -1.19137534e-01,  1.81921332e-02,  1.82958377e-02],\n",
              "       [ 6.31715156e-02,  1.61383491e-01,  1.28604641e-01,\n",
              "        -2.28677612e-02,  1.81793988e-02, -2.00846981e-02,\n",
              "         7.62997950e-03,  1.32985502e-02,  1.25491001e-01,\n",
              "        -3.94773401e-01, -7.90555316e-02,  1.08930931e-02,\n",
              "        -1.39970785e-01, -6.31172802e-02,  3.20938720e-02,\n",
              "        -6.99208149e-02, -1.44827872e-02, -1.40497454e-01,\n",
              "        -6.82157006e-02,  2.08197688e-02, -2.56656804e-02,\n",
              "        -5.51049271e-02,  1.84324739e-01, -2.78444569e-02,\n",
              "        -1.16741655e-01, -2.89199176e-02, -4.48445687e-02,\n",
              "        -8.03240526e-02, -1.58446129e-02, -1.34863683e-01,\n",
              "        -1.65782047e-03,  2.13630209e-01,  1.43002078e-01,\n",
              "         1.27312337e-01,  6.77602879e-01, -2.77860554e-01,\n",
              "        -1.09628270e-01, -8.86628916e-02,  3.31187930e-02],\n",
              "       [-4.80641043e-01,  1.41415396e-03, -1.62126639e-01,\n",
              "        -2.79243570e-02,  4.62185750e-02, -2.58768675e-02,\n",
              "        -3.93733126e-03,  2.75570830e-01,  5.06666907e-01,\n",
              "        -1.61160227e-02, -7.33198464e-02, -1.48502159e-02,\n",
              "        -1.82490091e-01, -2.50264044e-02,  1.59443829e-02,\n",
              "         3.06506873e-02, -2.26255295e-02, -1.48751514e-01,\n",
              "         2.78853927e-01,  2.27019020e-01, -2.91481214e-02,\n",
              "        -3.54770137e-02,  1.26839178e-01, -2.56497929e-02,\n",
              "         5.30282039e-02, -9.21283913e-03,  9.15804589e-02,\n",
              "         3.60448153e-02,  4.03818353e-02,  1.55012060e-01,\n",
              "        -4.77207951e-02,  8.84020658e-02,  1.54900695e-01,\n",
              "         1.06389095e-01, -2.53919908e-01, -1.52951004e-01,\n",
              "        -1.45917979e-01, -4.30980399e-02,  3.15756902e-03],\n",
              "       [-1.67317109e-01, -8.13761779e-02,  8.17818595e-02,\n",
              "        -9.64423057e-02,  8.54301397e-02, -8.59747777e-02,\n",
              "         1.27545971e-02, -1.16478448e-01, -2.39455469e-01,\n",
              "        -1.68285969e-01,  2.75350784e-02, -2.78895420e-02,\n",
              "         1.41034790e-02, -1.10544993e-01,  9.07776382e-02,\n",
              "         1.35168192e-01, -1.18398603e-01,  7.45033218e-02,\n",
              "        -3.40361143e-01,  6.67456063e-01, -9.55358308e-02,\n",
              "         6.58223069e-02, -1.90363331e-01, -7.81156764e-02,\n",
              "         1.75878940e-01, -3.75237542e-02,  1.82755815e-01,\n",
              "         2.46048200e-02,  1.31692760e-01,  9.22963571e-02,\n",
              "        -8.57270344e-02, -3.14157288e-02, -1.19972720e-01,\n",
              "         1.47598841e-01,  2.75116694e-02,  5.56610409e-05,\n",
              "        -9.61542883e-03, -9.39067442e-02,  1.08375806e-01],\n",
              "       [ 5.05570655e-01, -1.55412669e-01, -3.14212453e-02,\n",
              "        -9.93114166e-03,  5.37891761e-03, -1.09747398e-02,\n",
              "        -1.05406641e-01,  1.96040313e-01,  2.71401355e-01,\n",
              "         8.04473976e-02,  2.68736281e-03, -7.36180749e-02,\n",
              "         1.94219772e-01, -2.97332791e-02,  1.96353669e-02,\n",
              "        -7.03906355e-02,  7.50611689e-03, -7.24411483e-03,\n",
              "        -3.74596442e-01,  1.95572409e-01, -7.31274507e-03,\n",
              "         2.67750214e-02,  7.88883334e-02, -5.13123859e-03,\n",
              "        -1.05312708e-01, -6.23924784e-02,  2.30865607e-02,\n",
              "        -1.13625482e-01, -2.53775469e-02, -6.88627930e-02,\n",
              "        -3.96982456e-03,  1.87046794e-01,  4.14685006e-01,\n",
              "         1.05051341e-01, -2.68733214e-01, -7.89559320e-02,\n",
              "         1.53397942e-01, -1.47210663e-02,  1.58159563e-02],\n",
              "       [ 9.72904859e-02, -1.92947616e-01, -9.33688241e-02,\n",
              "        -1.12959218e-02, -5.13021452e-02, -1.25400460e-02,\n",
              "         6.68106152e-02,  2.73224906e-02, -1.31779835e-02,\n",
              "         1.64380099e-01, -5.99059891e-03, -5.38619342e-02,\n",
              "         4.24585118e-03, -7.89721172e-02,  1.45517816e-02,\n",
              "        -5.95739091e-02, -1.61965041e-02,  1.29381217e-01,\n",
              "         1.32123016e-02,  8.28618738e-02, -1.23774205e-02,\n",
              "         3.09811662e-01,  7.71500697e-01,  1.13758955e-02,\n",
              "         2.15934335e-01,  2.30735028e-02,  5.40986860e-02,\n",
              "        -8.41320073e-02, -4.29602793e-02,  1.19680382e-01,\n",
              "        -5.71546577e-02, -3.38556264e-02, -2.86942274e-01,\n",
              "        -1.58327970e-02,  1.24055643e-01,  4.87933028e-02,\n",
              "         1.63688556e-02, -4.67381914e-02,  1.53709072e-02],\n",
              "       [ 2.33242105e-01,  5.73109387e-02, -3.11805567e-02,\n",
              "         6.95067207e-02, -2.11539017e-02,  6.99583554e-02,\n",
              "        -1.83862193e-02,  1.15356963e-01, -3.23146328e-02,\n",
              "         3.34193389e-02,  2.86557190e-02,  5.58255420e-02,\n",
              "        -6.03978495e-01,  1.38313166e-01, -5.27848946e-02,\n",
              "         1.12774591e-01, -4.21205755e-03,  4.25919229e-02,\n",
              "        -3.12733780e-01, -2.86728059e-02,  7.38430658e-02,\n",
              "        -7.66751424e-02,  2.40695088e-02,  5.15564011e-02,\n",
              "        -8.43362123e-02,  6.58942332e-02, -2.92272012e-02,\n",
              "         5.57093499e-02, -8.40140168e-02,  2.51508544e-02,\n",
              "         2.68971227e-02,  1.18096124e-02, -2.05545246e-01,\n",
              "         1.84083601e-01, -1.73569867e-01,  6.61858503e-02,\n",
              "        -5.08420280e-01,  5.81919448e-02,  2.20800405e-02],\n",
              "       [ 1.13545434e-01,  5.86332767e-01,  1.16026810e-01,\n",
              "        -1.45720486e-02,  1.81154678e-01, -6.81498327e-03,\n",
              "         1.17733231e-01, -1.79628392e-01,  8.67336938e-02,\n",
              "        -9.96689338e-02, -1.82289204e-02,  1.13644936e-02,\n",
              "         1.11058158e-01, -1.11928435e-01,  2.09317240e-02,\n",
              "         1.73187784e-01,  3.05346778e-02, -3.97000397e-03,\n",
              "        -3.11849388e-02,  1.63051813e-03, -1.54610736e-02,\n",
              "        -2.40146750e-01,  3.23881526e-01, -4.24826394e-02,\n",
              "        -1.40893646e-01, -5.41082190e-02,  2.73487910e-01,\n",
              "         2.22491277e-01,  1.42254849e-01, -1.12878599e-01,\n",
              "         2.10814246e-02,  1.22771505e-02, -1.78384403e-01,\n",
              "        -1.68205807e-02, -2.77626542e-01,  8.59982624e-03,\n",
              "         1.34523608e-01, -3.55978792e-02, -4.04822168e-02],\n",
              "       [-1.14858557e-01, -5.73245193e-02, -1.75539614e-02,\n",
              "        -1.78452364e-03, -6.15165728e-02, -8.75214128e-03,\n",
              "        -2.78668979e-02, -6.23790732e-02, -2.63240142e-02,\n",
              "         7.14511422e-02, -4.60862362e-03, -1.46827020e-01,\n",
              "         1.87575031e-01,  5.93247658e-02, -1.20761014e-02,\n",
              "         1.58147992e-02,  3.02728848e-02, -1.10024540e-02,\n",
              "         9.30429420e-02, -7.47011416e-02, -1.13758450e-03,\n",
              "        -6.64982782e-02, -1.09323176e-02, -3.14140415e-03,\n",
              "        -2.12125993e-01, -7.06919644e-02, -1.19413729e-01,\n",
              "        -1.28268639e-01, -9.44345016e-02, -3.85644892e-02,\n",
              "         4.39469161e-02,  1.74831543e-01, -2.94838254e-01,\n",
              "         8.07784600e-01, -3.87226076e-02,  5.29312925e-02,\n",
              "         1.44607299e-01,  6.82580454e-03,  7.89247662e-03],\n",
              "       [-1.32062304e-01,  1.49353752e-01,  4.26763330e-02,\n",
              "        -8.95627351e-02, -2.11488014e-01, -7.89701302e-02,\n",
              "        -1.30305968e-01,  1.01960424e-01, -8.57211380e-02,\n",
              "         9.96501485e-02,  3.76254082e-02,  2.46040924e-02,\n",
              "         1.73821465e-02, -2.27552592e-01,  9.11522410e-02,\n",
              "         3.04954782e-01, -9.04967266e-02,  1.03342558e-02,\n",
              "        -6.13020463e-02,  7.99250546e-02, -9.31100656e-02,\n",
              "        -1.71135421e-01,  1.25640936e-01, -1.00650435e-01,\n",
              "        -2.12410003e-01, -6.83375033e-02, -5.06862576e-01,\n",
              "        -3.55588629e-01, -1.20286605e-01, -4.42265538e-02,\n",
              "         2.27713763e-02, -1.22243804e-01, -2.50224677e-02,\n",
              "        -2.07064404e-01, -1.06068677e-01, -1.70627941e-02,\n",
              "        -2.18927492e-02, -2.79457425e-01,  1.35723691e-01],\n",
              "       [ 1.15349403e-02,  9.84330622e-02, -5.13260432e-02,\n",
              "        -2.86962860e-02, -6.67898362e-02, -2.36435553e-02,\n",
              "        -1.86600603e-01, -8.11882662e-02,  9.38143540e-02,\n",
              "        -5.19582487e-03, -3.25739387e-02, -3.01517149e-02,\n",
              "         3.82760320e-02,  3.08357002e-01,  1.83991357e-02,\n",
              "         6.77040617e-01,  4.29036651e-02, -6.05839282e-03,\n",
              "        -1.28576002e-02, -8.41028513e-02, -2.15515617e-02,\n",
              "         2.08153732e-01,  5.01293375e-02, -5.17970476e-03,\n",
              "         8.31057280e-02, -1.73662461e-02,  1.53689625e-01,\n",
              "        -1.13938042e-01, -6.25536545e-02,  1.55549908e-02,\n",
              "        -1.05585912e-01, -3.00516475e-01,  2.32793331e-01,\n",
              "         1.23136679e-01,  1.48547149e-01, -8.42489701e-03,\n",
              "         4.92228576e-02,  2.74630291e-01,  3.05631440e-03]])"
            ]
          },
          "metadata": {
            "tags": []
          },
          "execution_count": 36
        }
      ]
    },
    {
      "cell_type": "code",
      "metadata": {
        "colab": {
          "base_uri": "https://localhost:8080/"
        },
        "id": "7b6bbKezgp-E",
        "outputId": "19456913-9349-4ae9-8ba1-884ea63ca108"
      },
      "source": [
        "pca = PCA(random_state=7)\n",
        "pca.fit(X_train)\n",
        "X_train_99 = pca.transform(X_train)\n",
        "X_test_99 = pca.transform(X_test)\n",
        "print(X_train_99.shape)\n",
        "X_train_99[:5]"
      ],
      "execution_count": null,
      "outputs": [
        {
          "output_type": "stream",
          "text": [
            "(211, 39)\n"
          ],
          "name": "stdout"
        },
        {
          "output_type": "execute_result",
          "data": {
            "text/plain": [
              "array([[-9.19265008e-01,  3.95683526e-01, -4.07331779e-01,\n",
              "         1.51788612e-01, -2.25555681e-01,  3.13449965e-02,\n",
              "         1.41272322e-01, -5.39821498e-02, -2.79054205e-01,\n",
              "        -7.97411606e-02, -2.04559862e-01,  1.53637507e-02,\n",
              "         1.90334961e-01, -3.62284760e-01, -2.94533735e-01,\n",
              "        -1.29918573e-01,  1.92912934e-01,  5.84791528e-02,\n",
              "         4.46558278e-02, -1.89156269e-01,  8.94686714e-02,\n",
              "        -9.58637676e-02, -2.64633030e-02,  7.01951340e-02,\n",
              "        -7.01423466e-02,  2.05874240e-03, -2.56507787e-02,\n",
              "        -3.63599991e-02, -4.02356361e-02,  9.98720506e-02,\n",
              "        -8.02626452e-02, -3.41116106e-02, -5.04999494e-02,\n",
              "        -4.90711163e-02,  1.16332449e-02,  4.54550736e-02,\n",
              "        -8.98896141e-03, -5.25320955e-03, -4.08774514e-03],\n",
              "       [-6.62621250e-01, -6.11454779e-01,  2.87867861e-01,\n",
              "        -2.51841675e-01,  2.91109473e-01, -5.46937948e-01,\n",
              "        -2.98869279e-01,  4.81512300e-01,  7.09232978e-01,\n",
              "         2.44492729e-01, -4.18786701e-01,  3.95220592e-01,\n",
              "        -4.77809874e-01, -1.89675473e-01,  5.26930790e-02,\n",
              "        -4.57914379e-01, -8.71206226e-02,  1.13729755e-01,\n",
              "        -2.67071975e-02,  4.36138547e-02, -3.18878629e-02,\n",
              "         2.68144890e-01, -1.00378243e-01, -6.87252638e-02,\n",
              "        -3.51710603e-02, -5.09713837e-02, -5.49927596e-02,\n",
              "         2.31432828e-02, -2.61181887e-03, -3.49713762e-02,\n",
              "         5.17964011e-02, -2.43890930e-02, -4.92463305e-02,\n",
              "        -7.06487642e-03,  5.46839383e-03, -1.16857114e-02,\n",
              "         5.61752029e-03, -5.02722023e-03,  1.57044663e-03],\n",
              "       [ 2.87940320e-01,  1.74396371e-02, -4.62938927e-01,\n",
              "        -3.58953296e-01,  7.82313000e-01, -3.43366689e-03,\n",
              "         5.88988541e-01,  5.20475312e-02,  1.48059234e-01,\n",
              "        -1.37824471e-01, -6.86729137e-02, -2.89432918e-01,\n",
              "         1.25949733e-01, -7.77766374e-02,  5.81129673e-01,\n",
              "         1.54236410e-01,  3.05515997e-01, -1.78956349e-01,\n",
              "        -1.63483658e-01, -7.23657789e-02,  1.90357884e-01,\n",
              "        -6.22802906e-02, -4.14461277e-02,  1.15487823e-02,\n",
              "        -1.31049754e-01,  1.08939416e-01, -7.18165086e-02,\n",
              "         1.06862863e-01,  1.44264467e-01, -4.85143091e-02,\n",
              "        -3.97285309e-02,  1.01339095e-01, -8.46149763e-02,\n",
              "         5.95333355e-02,  8.89254064e-03,  2.78799612e-03,\n",
              "         3.91855911e-03,  3.36333444e-04, -3.22911853e-04],\n",
              "       [-9.11293591e-01, -1.39666770e-01,  1.36729672e-01,\n",
              "         6.18333157e-01, -9.67929325e-02, -1.82489938e-01,\n",
              "        -2.10164689e-02, -4.83006464e-01, -1.19682183e-01,\n",
              "         1.24194511e-01,  1.32661135e-02, -1.43567535e-01,\n",
              "        -1.27550375e-01,  3.09845129e-01,  2.01886369e-01,\n",
              "        -2.54327823e-01,  1.62971744e-01, -2.76691115e-01,\n",
              "         2.57237699e-02,  8.23267925e-02,  2.08403959e-01,\n",
              "        -2.78702973e-02, -3.86416145e-02,  7.78304267e-03,\n",
              "         5.17617200e-04,  2.43754380e-01, -8.14038110e-02,\n",
              "         1.43343868e-01,  1.71223531e-02, -1.59067856e-02,\n",
              "         3.62483837e-02,  4.88548745e-02,  4.43047226e-02,\n",
              "        -6.98573599e-02, -1.04052843e-03, -1.14827753e-02,\n",
              "        -4.10686516e-04, -3.09710488e-03,  2.81622895e-04],\n",
              "       [-2.94836553e-01,  7.18942435e-01, -1.21778568e-01,\n",
              "         7.77482660e-01, -4.68146823e-01,  6.46658419e-01,\n",
              "        -5.79284830e-01,  2.40664251e-01,  1.02614595e+00,\n",
              "        -1.53716625e-03, -2.21075557e-02,  3.25961508e-01,\n",
              "         5.31942413e-01, -3.08856181e-01, -5.14951736e-02,\n",
              "        -9.68900576e-02,  4.08192585e-01,  5.01715992e-01,\n",
              "         2.11885791e-01,  7.25517338e-01,  1.97917300e-01,\n",
              "         8.11646619e-03,  2.10020978e-01,  5.38923385e-02,\n",
              "        -1.01214008e-01, -1.05545112e-01,  1.33702471e-01,\n",
              "         8.69277872e-02,  4.32400361e-03,  5.35708970e-02,\n",
              "        -2.35808813e-02, -4.46340994e-02, -1.68356906e-02,\n",
              "        -2.10567867e-02,  3.79881542e-03, -5.36640025e-03,\n",
              "         7.08620365e-03,  2.99982754e-04, -1.23003833e-03]])"
            ]
          },
          "metadata": {
            "tags": []
          },
          "execution_count": 53
        }
      ]
    },
    {
      "cell_type": "code",
      "metadata": {
        "id": "frJ6JSG0ayDH"
      },
      "source": [
        "\"\"\"\n",
        "\n",
        "RFE  reccursive feature elimination\n",
        "\n",
        "Lasso and Ridge regression\n",
        "\"\"\""
      ],
      "execution_count": null,
      "outputs": []
    },
    {
      "cell_type": "code",
      "metadata": {
        "id": "UHAkwkkGJ9xQ"
      },
      "source": [
        "# Separate Input features X and Class variable Y\n",
        "X = df.iloc[:,:-1]\n",
        "Y = df.iloc[:,-1]"
      ],
      "execution_count": null,
      "outputs": []
    },
    {
      "cell_type": "code",
      "metadata": {
        "id": "in7QHnhpJyoa"
      },
      "source": [
        "from sklearn.model_selection import train_test_split\n",
        "X_train, X_test, y_train, y_test = train_test_split(X, Y, \\\n",
        "                                                    test_size=0.30, random_state=7)"
      ],
      "execution_count": null,
      "outputs": []
    },
    {
      "cell_type": "markdown",
      "metadata": {
        "id": "DWqrMnzmJQdf"
      },
      "source": [
        "# LASSO (L1)\n",
        "#\"Least Absolute Shrinkage and Selection Operator\"\n",
        "\n",
        "COntrols high value of coefficients\n",
        "\n",
        "It results in 0 coefficient for those features which are not important"
      ]
    },
    {
      "cell_type": "code",
      "metadata": {
        "colab": {
          "base_uri": "https://localhost:8080/"
        },
        "id": "zVLlzBtXPKdq",
        "outputId": "be067d7a-2499-4ba7-84dd-c7cae505ecca"
      },
      "source": [
        "X_train.shape"
      ],
      "execution_count": null,
      "outputs": [
        {
          "output_type": "execute_result",
          "data": {
            "text/plain": [
              "(197, 39)"
            ]
          },
          "metadata": {
            "tags": []
          },
          "execution_count": 59
        }
      ]
    },
    {
      "cell_type": "code",
      "metadata": {
        "colab": {
          "base_uri": "https://localhost:8080/"
        },
        "id": "yNxDadakGGK_",
        "outputId": "f8ee7ffb-5439-4f3c-c9cc-8de7d614346c"
      },
      "source": [
        "from sklearn.linear_model import Lasso\n",
        "lasso = Lasso(alpha=.01)\n",
        "lasso.fit(X_train, y_train)\n",
        "lasso.coef_"
      ],
      "execution_count": null,
      "outputs": [
        {
          "output_type": "execute_result",
          "data": {
            "text/plain": [
              "array([ 0.        ,  0.        ,  0.11465978,  0.        , -0.        ,\n",
              "        0.        ,  0.        , -0.        , -0.        , -0.        ,\n",
              "        0.01855337,  0.        ,  0.        , -0.        , -0.        ,\n",
              "       -0.03066738,  0.        ,  0.        , -0.03977729, -0.        ,\n",
              "        0.        , -0.        ,  0.18881929,  0.        , -0.35334449,\n",
              "        0.        , -0.        ,  0.        , -0.        ,  0.16354999,\n",
              "        0.        ,  0.01082045,  0.0437792 , -0.        ,  0.41749142,\n",
              "        0.23032557,  0.        ,  0.        , -0.0915163 ])"
            ]
          },
          "metadata": {
            "tags": []
          },
          "execution_count": 58
        }
      ]
    },
    {
      "cell_type": "code",
      "metadata": {
        "colab": {
          "base_uri": "https://localhost:8080/"
        },
        "id": "NQdXNveKPQIF",
        "outputId": "6469c443-545a-46d9-8feb-1cc6ed369e74"
      },
      "source": [
        "len(lasso.coef_[lasso.coef_==0])"
      ],
      "execution_count": null,
      "outputs": [
        {
          "output_type": "execute_result",
          "data": {
            "text/plain": [
              "27"
            ]
          },
          "metadata": {
            "tags": []
          },
          "execution_count": 60
        }
      ]
    },
    {
      "cell_type": "code",
      "metadata": {
        "colab": {
          "base_uri": "https://localhost:8080/"
        },
        "id": "dDSqTubRPTFd",
        "outputId": "061fdfe6-2290-48b3-ee5a-e745c413ebb6"
      },
      "source": [
        "len(lasso.coef_[abs(lasso.coef_)>0])"
      ],
      "execution_count": null,
      "outputs": [
        {
          "output_type": "execute_result",
          "data": {
            "text/plain": [
              "12"
            ]
          },
          "metadata": {
            "tags": []
          },
          "execution_count": 62
        }
      ]
    },
    {
      "cell_type": "code",
      "metadata": {
        "colab": {
          "base_uri": "https://localhost:8080/"
        },
        "id": "DEz-Ih-eP-Dk",
        "outputId": "91233867-3f41-4dbb-8a6f-8e07c3233d21"
      },
      "source": [
        "abs(lasso.coef_)>0"
      ],
      "execution_count": null,
      "outputs": [
        {
          "output_type": "execute_result",
          "data": {
            "text/plain": [
              "array([False, False,  True, False, False, False, False, False, False,\n",
              "       False,  True, False, False, False, False,  True, False, False,\n",
              "        True, False, False, False,  True, False,  True, False, False,\n",
              "       False, False,  True, False,  True,  True, False,  True,  True,\n",
              "       False, False,  True])"
            ]
          },
          "metadata": {
            "tags": []
          },
          "execution_count": 65
        }
      ]
    },
    {
      "cell_type": "code",
      "metadata": {
        "colab": {
          "base_uri": "https://localhost:8080/"
        },
        "id": "9jrDQPSaPwY1",
        "outputId": "6e54190b-1fe5-4d0c-8960-2ea8862105d4"
      },
      "source": [
        "# Selected Columns\n",
        "X.columns[abs(lasso.coef_)>0]"
      ],
      "execution_count": null,
      "outputs": [
        {
          "output_type": "execute_result",
          "data": {
            "text/plain": [
              "Index(['V4', 'V18', 'V23', 'V26', 'V30', 'V32', 'V38', 'V40', 'V41', 'V44',\n",
              "       'V51', 'V57'],\n",
              "      dtype='object')"
            ]
          },
          "metadata": {
            "tags": []
          },
          "execution_count": 68
        }
      ]
    },
    {
      "cell_type": "markdown",
      "metadata": {
        "id": "_n0tJd8SJry3"
      },
      "source": [
        "# Ridge (L2)\n",
        "\n",
        "RIDGE is not used for feature selection but it is used to reduce complexity of the model and to reduce overfitting\n",
        "\n",
        "- Specially RIDGE is used when we have already selected IMP features and want to reduce the complexity of the model"
      ]
    },
    {
      "cell_type": "code",
      "metadata": {
        "colab": {
          "base_uri": "https://localhost:8080/",
          "height": 225
        },
        "id": "VX6OEc8vIeFA",
        "outputId": "9363a21e-eb44-4c11-91fe-d3be6bca72cd"
      },
      "source": [
        "# Penalty is Sum of squares of coefficient\n",
        "from sklearn.linear_model import Ridge\n",
        "ridge = Ridge(alpha=1000)\n",
        "ridge.fit(X_train,y_train)\n",
        "ridge.coef_"
      ],
      "execution_count": null,
      "outputs": [
        {
          "output_type": "execute_result",
          "data": {
            "text/plain": [
              "array([-1.76566554e-05,  4.66893489e-03,  1.42341207e-02,  5.39116272e-04,\n",
              "        1.80410583e-03,  1.05237600e-04,  1.34633765e-03,  1.08260759e-03,\n",
              "        8.99309253e-04,  5.10211204e-04,  1.17744635e-03,  7.44967705e-04,\n",
              "        2.19539394e-03,  1.95941354e-03,  2.33557231e-04, -1.16682447e-03,\n",
              "       -1.63000647e-03, -3.11052696e-03,  6.44764175e-03,  5.72378340e-03,\n",
              "       -2.44527484e-03, -7.69879252e-05,  1.54740896e-03, -4.49160069e-03,\n",
              "        7.01891454e-03,  1.02021123e-03, -7.42037350e-03, -6.04498034e-04,\n",
              "       -1.95149587e-03,  1.33901327e-03,  1.31317139e-03, -1.03598738e-03,\n",
              "        1.53544570e-02,  2.20015137e-03,  6.58726724e-03,  8.04340087e-03,\n",
              "        1.34303201e-03,  1.01357313e-03,  1.29627140e-02, -5.58446252e-04,\n",
              "        2.05539583e-02,  1.09496555e-03,  6.04872949e-04, -2.73712734e-04,\n",
              "       -2.17715773e-03])"
            ]
          },
          "metadata": {
            "tags": []
          },
          "execution_count": 18
        }
      ]
    },
    {
      "cell_type": "markdown",
      "metadata": {
        "id": "kJNBBtt36GVr"
      },
      "source": [
        "# RFE  (Recursive Feature Elimination)"
      ]
    },
    {
      "cell_type": "code",
      "metadata": {
        "id": "ZqkKOZHWVQEH"
      },
      "source": [
        "from sklearn.feature_selection import RFE"
      ],
      "execution_count": null,
      "outputs": []
    },
    {
      "cell_type": "code",
      "metadata": {
        "id": "QQc2bLCc6GVt"
      },
      "source": [
        "from sklearn.tree import DecisionTreeClassifier"
      ],
      "execution_count": null,
      "outputs": []
    },
    {
      "cell_type": "code",
      "metadata": {
        "id": "C-51IM-y6GVu"
      },
      "source": [
        "model_dt = DecisionTreeClassifier()"
      ],
      "execution_count": null,
      "outputs": []
    },
    {
      "cell_type": "code",
      "metadata": {
        "id": "zircomeK6GVu"
      },
      "source": [
        "rfe = RFE(estimator=model_dt, n_features_to_select=1, step=1)"
      ],
      "execution_count": null,
      "outputs": []
    },
    {
      "cell_type": "code",
      "metadata": {
        "colab": {
          "base_uri": "https://localhost:8080/"
        },
        "id": "ZNJB66vQ6xgp",
        "outputId": "2ba048e5-74b9-45c8-c323-794158552151"
      },
      "source": [
        "y_train.head()"
      ],
      "execution_count": null,
      "outputs": [
        {
          "output_type": "execute_result",
          "data": {
            "text/plain": [
              "168    1.0\n",
              "8      1.0\n",
              "28     0.0\n",
              "27     0.0\n",
              "52     1.0\n",
              "Name: V58, dtype: float64"
            ]
          },
          "metadata": {
            "tags": []
          },
          "execution_count": 9
        }
      ]
    },
    {
      "cell_type": "code",
      "metadata": {
        "colab": {
          "base_uri": "https://localhost:8080/"
        },
        "id": "32iESTM66GVv",
        "outputId": "6609a554-dc33-47e5-e6be-756492d0ce9e"
      },
      "source": [
        "rfe.fit(X_train,y_train)"
      ],
      "execution_count": null,
      "outputs": [
        {
          "output_type": "execute_result",
          "data": {
            "text/plain": [
              "RFE(estimator=DecisionTreeClassifier(ccp_alpha=0.0, class_weight=None,\n",
              "                                     criterion='gini', max_depth=None,\n",
              "                                     max_features=None, max_leaf_nodes=None,\n",
              "                                     min_impurity_decrease=0.0,\n",
              "                                     min_impurity_split=None,\n",
              "                                     min_samples_leaf=1, min_samples_split=2,\n",
              "                                     min_weight_fraction_leaf=0.0,\n",
              "                                     presort='deprecated', random_state=None,\n",
              "                                     splitter='best'),\n",
              "    n_features_to_select=1, step=1, verbose=0)"
            ]
          },
          "metadata": {
            "tags": []
          },
          "execution_count": 10
        }
      ]
    },
    {
      "cell_type": "code",
      "metadata": {
        "colab": {
          "base_uri": "https://localhost:8080/"
        },
        "id": "-OjsBF3O6GVx",
        "outputId": "83fb8779-4d04-409f-8e53-30a7c93f13cc"
      },
      "source": [
        "rfe.ranking_"
      ],
      "execution_count": null,
      "outputs": [
        {
          "output_type": "execute_result",
          "data": {
            "text/plain": [
              "array([38, 13,  8,  3,  9, 19,  6, 18, 16, 21, 24, 35, 29, 23, 28, 27, 30,\n",
              "       32, 34, 39, 37,  2,  4, 12, 15, 20, 22, 11, 10, 25, 14, 17, 26,  1,\n",
              "        7,  5, 31, 33, 36])"
            ]
          },
          "metadata": {
            "tags": []
          },
          "execution_count": 11
        }
      ]
    },
    {
      "cell_type": "code",
      "metadata": {
        "id": "eNjRHUkQ6GVx",
        "outputId": "72d10820-5865-4ecd-b25a-0dbea85c6dd1"
      },
      "source": [
        "X.columns"
      ],
      "execution_count": null,
      "outputs": [
        {
          "output_type": "execute_result",
          "data": {
            "text/plain": [
              "Index(['V1', 'V3', 'V4', 'V8', 'V9', 'V10', 'V11', 'V12', 'V13', 'V14', 'V15',\n",
              "       'V16', 'V18', 'V19', 'V20', 'V21', 'V22', 'V23', 'V24', 'V25', 'V26',\n",
              "       'V27', 'V28', 'V29', 'V30', 'V31', 'V32', 'V33', 'V34', 'V35', 'V36',\n",
              "       'V37', 'V38', 'V39', 'V40', 'V41', 'V42', 'V43', 'V44', 'V50', 'V51',\n",
              "       'V54', 'V55', 'V56', 'V57'],\n",
              "      dtype='object')"
            ]
          },
          "metadata": {
            "tags": []
          },
          "execution_count": 18
        }
      ]
    },
    {
      "cell_type": "code",
      "metadata": {
        "id": "KSnNKpc66GVy",
        "outputId": "16209b28-36b0-478a-dd89-3d7a02605be0"
      },
      "source": [
        "for rank, col in zip(rfe.ranking_,X.columns):\n",
        "    print(rank, col)"
      ],
      "execution_count": null,
      "outputs": [
        {
          "output_type": "stream",
          "text": [
            "6 V1\n",
            "18 V3\n",
            "24 V4\n",
            "23 V8\n",
            "3 V9\n",
            "4 V10\n",
            "19 V11\n",
            "1 V12\n",
            "26 V13\n",
            "28 V14\n",
            "29 V15\n",
            "31 V16\n",
            "30 V18\n",
            "16 V19\n",
            "41 V20\n",
            "13 V21\n",
            "32 V22\n",
            "34 V23\n",
            "35 V24\n",
            "38 V25\n",
            "42 V26\n",
            "44 V27\n",
            "45 V28\n",
            "14 V29\n",
            "11 V30\n",
            "27 V31\n",
            "8 V32\n",
            "10 V33\n",
            "12 V34\n",
            "5 V35\n",
            "17 V36\n",
            "20 V37\n",
            "21 V38\n",
            "25 V39\n",
            "2 V40\n",
            "7 V41\n",
            "22 V42\n",
            "15 V43\n",
            "9 V44\n",
            "33 V50\n",
            "36 V51\n",
            "37 V54\n",
            "39 V55\n",
            "40 V56\n",
            "43 V57\n"
          ],
          "name": "stdout"
        }
      ]
    },
    {
      "cell_type": "markdown",
      "metadata": {
        "id": "AGloBntO6GV4"
      },
      "source": [
        "# Gini Index Based Feature Selection"
      ]
    },
    {
      "cell_type": "code",
      "metadata": {
        "id": "7229Md4s6GV5",
        "outputId": "acebaaa8-280c-4f61-c9c7-249afc93d41c"
      },
      "source": [
        "model_dt = DecisionTreeClassifier()\n",
        "model_dt.fit(X_train,Y_train)"
      ],
      "execution_count": null,
      "outputs": [
        {
          "output_type": "execute_result",
          "data": {
            "text/plain": [
              "DecisionTreeClassifier(ccp_alpha=0.0, class_weight=None, criterion='gini',\n",
              "                       max_depth=None, max_features=None, max_leaf_nodes=None,\n",
              "                       min_impurity_decrease=0.0, min_impurity_split=None,\n",
              "                       min_samples_leaf=1, min_samples_split=2,\n",
              "                       min_weight_fraction_leaf=0.0, presort='deprecated',\n",
              "                       random_state=None, splitter='best')"
            ]
          },
          "metadata": {
            "tags": []
          },
          "execution_count": 20
        }
      ]
    },
    {
      "cell_type": "code",
      "metadata": {
        "id": "JemGDras6GV6",
        "outputId": "979a0886-92f5-4054-c6be-88cff2cec2ae"
      },
      "source": [
        "model_dt.feature_importances_"
      ],
      "execution_count": null,
      "outputs": [
        {
          "output_type": "execute_result",
          "data": {
            "text/plain": [
              "array([0.06268554, 0.02275341, 0.        , 0.        , 0.26685315,\n",
              "       0.02275341, 0.        , 0.04075882, 0.        , 0.01422088,\n",
              "       0.        , 0.        , 0.        , 0.02528157, 0.        ,\n",
              "       0.01659103, 0.        , 0.        , 0.        , 0.        ,\n",
              "       0.        , 0.        , 0.        , 0.03739198, 0.0240066 ,\n",
              "       0.01264079, 0.06651663, 0.01828399, 0.03996817, 0.03871241,\n",
              "       0.0404582 , 0.        , 0.        , 0.        , 0.14353428,\n",
              "       0.04266265, 0.        , 0.00540395, 0.04627068, 0.        ,\n",
              "       0.        , 0.        , 0.01225184, 0.        , 0.        ])"
            ]
          },
          "metadata": {
            "tags": []
          },
          "execution_count": 22
        }
      ]
    },
    {
      "cell_type": "code",
      "metadata": {
        "id": "jYdjpMkw6GV6",
        "outputId": "ac5c01df-31fe-477c-d962-75f4b02098db"
      },
      "source": [
        "m = max(model_dt.feature_importances_)\n",
        "for imp, col in zip(model_dt.feature_importances_,X.columns):\n",
        "    print(col, imp/m*100)"
      ],
      "execution_count": null,
      "outputs": [
        {
          "output_type": "stream",
          "text": [
            "V1 13.064502647792917\n",
            "V3 20.265270017731343\n",
            "V4 16.88150721885093\n",
            "V8 0.0\n",
            "V9 100.0\n",
            "V10 0.0\n",
            "V11 0.0\n",
            "V12 21.322474243566045\n",
            "V13 0.0\n",
            "V14 0.0\n",
            "V15 0.0\n",
            "V16 0.0\n",
            "V18 0.0\n",
            "V19 0.0\n",
            "V20 0.0\n",
            "V21 32.2977790989168\n",
            "V22 0.0\n",
            "V23 0.0\n",
            "V24 0.0\n",
            "V25 6.459555819783358\n",
            "V26 0.0\n",
            "V27 0.0\n",
            "V28 0.0\n",
            "V29 33.0166392570339\n",
            "V30 0.0\n",
            "V31 22.63043500978851\n",
            "V32 20.456225589396084\n",
            "V33 0.0\n",
            "V34 0.0\n",
            "V35 23.57536311942563\n",
            "V36 8.741130432242521\n",
            "V37 0.0\n",
            "V38 0.0\n",
            "V39 0.0\n",
            "V40 57.82903256105818\n",
            "V41 22.82705043830988\n",
            "V42 0.0\n",
            "V43 30.684009211301465\n",
            "V44 20.882281668846183\n",
            "V50 0.0\n",
            "V51 39.0498767430519\n",
            "V54 0.0\n",
            "V55 0.0\n",
            "V56 4.689524210851107\n",
            "V57 0.0\n"
          ],
          "name": "stdout"
        }
      ]
    },
    {
      "cell_type": "markdown",
      "metadata": {
        "id": "lkHjksmn6GV8"
      },
      "source": [
        "# Entropy Based Feature Selection"
      ]
    },
    {
      "cell_type": "code",
      "metadata": {
        "id": "nzPR5she6GV9",
        "outputId": "00a8bad8-c3b7-4db5-fdba-0eae4a7b9e01"
      },
      "source": [
        "model_dt = DecisionTreeClassifier(criterion = 'entropy')\n",
        "model_dt.fit(X_train,Y_train)"
      ],
      "execution_count": null,
      "outputs": [
        {
          "output_type": "execute_result",
          "data": {
            "text/plain": [
              "DecisionTreeClassifier(ccp_alpha=0.0, class_weight=None, criterion='entropy',\n",
              "                       max_depth=None, max_features=None, max_leaf_nodes=None,\n",
              "                       min_impurity_decrease=0.0, min_impurity_split=None,\n",
              "                       min_samples_leaf=1, min_samples_split=2,\n",
              "                       min_weight_fraction_leaf=0.0, presort='deprecated',\n",
              "                       random_state=None, splitter='best')"
            ]
          },
          "metadata": {
            "tags": []
          },
          "execution_count": 27
        }
      ]
    },
    {
      "cell_type": "code",
      "metadata": {
        "id": "5g81E-q-6GV-",
        "outputId": "570e382b-e35d-4bfb-8dd9-9d596abb000f"
      },
      "source": [
        "model_dt.feature_importances_"
      ],
      "execution_count": null,
      "outputs": [
        {
          "output_type": "execute_result",
          "data": {
            "text/plain": [
              "array([0.0264104 , 0.04096703, 0.03412662, 0.        , 0.20215389,\n",
              "       0.        , 0.        , 0.04310421, 0.        , 0.        ,\n",
              "       0.        , 0.        , 0.        , 0.        , 0.        ,\n",
              "       0.06529122, 0.        , 0.        , 0.        , 0.01305824,\n",
              "       0.        , 0.        , 0.        , 0.06674442, 0.        ,\n",
              "       0.0457483 , 0.04135305, 0.        , 0.        , 0.04765851,\n",
              "       0.01767053, 0.        , 0.        , 0.        , 0.11690364,\n",
              "       0.04614577, 0.        , 0.06202892, 0.04221434, 0.        ,\n",
              "       0.07894084, 0.        , 0.        , 0.00948006, 0.        ])"
            ]
          },
          "metadata": {
            "tags": []
          },
          "execution_count": 28
        }
      ]
    },
    {
      "cell_type": "code",
      "metadata": {
        "id": "1LSQZTaW6GWA",
        "outputId": "11c29a87-6515-4c68-83c4-30828489ae2a"
      },
      "source": [
        "m = max(model_dt.feature_importances_)\n",
        "for imp, col in zip(model_dt.feature_importances_,X.columns):\n",
        "    print(col, imp/m*100)"
      ],
      "execution_count": null,
      "outputs": [
        {
          "output_type": "stream",
          "text": [
            "V1 13.064502647792917\n",
            "V3 20.265270017731343\n",
            "V4 16.88150721885093\n",
            "V8 0.0\n",
            "V9 100.0\n",
            "V10 0.0\n",
            "V11 0.0\n",
            "V12 21.322474243566045\n",
            "V13 0.0\n",
            "V14 0.0\n",
            "V15 0.0\n",
            "V16 0.0\n",
            "V18 0.0\n",
            "V19 0.0\n",
            "V20 0.0\n",
            "V21 32.2977790989168\n",
            "V22 0.0\n",
            "V23 0.0\n",
            "V24 0.0\n",
            "V25 6.459555819783358\n",
            "V26 0.0\n",
            "V27 0.0\n",
            "V28 0.0\n",
            "V29 33.0166392570339\n",
            "V30 0.0\n",
            "V31 22.63043500978851\n",
            "V32 20.456225589396084\n",
            "V33 0.0\n",
            "V34 0.0\n",
            "V35 23.57536311942563\n",
            "V36 8.741130432242521\n",
            "V37 0.0\n",
            "V38 0.0\n",
            "V39 0.0\n",
            "V40 57.82903256105818\n",
            "V41 22.82705043830988\n",
            "V42 0.0\n",
            "V43 30.684009211301465\n",
            "V44 20.882281668846183\n",
            "V50 0.0\n",
            "V51 39.0498767430519\n",
            "V54 0.0\n",
            "V55 0.0\n",
            "V56 4.689524210851107\n",
            "V57 0.0\n"
          ],
          "name": "stdout"
        }
      ]
    },
    {
      "cell_type": "code",
      "metadata": {
        "id": "bIezXqPS6GWB"
      },
      "source": [
        ""
      ],
      "execution_count": null,
      "outputs": []
    }
  ]
}