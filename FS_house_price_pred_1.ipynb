{
  "nbformat": 4,
  "nbformat_minor": 0,
  "metadata": {
    "kernelspec": {
      "display_name": "Python 3",
      "language": "python",
      "name": "python3"
    },
    "language_info": {
      "codemirror_mode": {
        "name": "ipython",
        "version": 3
      },
      "file_extension": ".py",
      "mimetype": "text/x-python",
      "name": "python",
      "nbconvert_exporter": "python",
      "pygments_lexer": "ipython3",
      "version": "3.7.6"
    },
    "colab": {
      "name": "FS_house_price_pred_1.ipynb",
      "provenance": [],
      "include_colab_link": true
    }
  },
  "cells": [
    {
      "cell_type": "markdown",
      "metadata": {
        "id": "view-in-github",
        "colab_type": "text"
      },
      "source": [
        "<a href=\"https://colab.research.google.com/github/Pradeepjha88/Cardiac_attack_prediction/blob/master/FS_house_price_pred_1.ipynb\" target=\"_parent\"><img src=\"https://colab.research.google.com/assets/colab-badge.svg\" alt=\"Open In Colab\"/></a>"
      ]
    },
    {
      "cell_type": "code",
      "metadata": {
        "id": "nIMRvtm0bDK7"
      },
      "source": [
        "import pandas as pd\n",
        "import math\n",
        "import numpy as np\n",
        "import matplotlib.pyplot as plt\n",
        "from datetime import datetime"
      ],
      "execution_count": null,
      "outputs": []
    },
    {
      "cell_type": "code",
      "metadata": {
        "id": "xZvoDQNcbDLA"
      },
      "source": [
        "df = pd.read_csv(\"data/train.csv\")"
      ],
      "execution_count": null,
      "outputs": []
    },
    {
      "cell_type": "code",
      "metadata": {
        "id": "MkCMHmCCbDLA",
        "outputId": "8675a6f3-3a10-4576-a576-4d491d95d2a6"
      },
      "source": [
        "df.describe()\n",
        "#to show and analyse data"
      ],
      "execution_count": null,
      "outputs": [
        {
          "output_type": "execute_result",
          "data": {
            "text/html": [
              "<div>\n",
              "<style scoped>\n",
              "    .dataframe tbody tr th:only-of-type {\n",
              "        vertical-align: middle;\n",
              "    }\n",
              "\n",
              "    .dataframe tbody tr th {\n",
              "        vertical-align: top;\n",
              "    }\n",
              "\n",
              "    .dataframe thead th {\n",
              "        text-align: right;\n",
              "    }\n",
              "</style>\n",
              "<table border=\"1\" class=\"dataframe\">\n",
              "  <thead>\n",
              "    <tr style=\"text-align: right;\">\n",
              "      <th></th>\n",
              "      <th>id</th>\n",
              "      <th>price</th>\n",
              "      <th>bedrooms</th>\n",
              "      <th>sqft_living</th>\n",
              "      <th>sqft_lot</th>\n",
              "      <th>floors</th>\n",
              "      <th>waterfront</th>\n",
              "      <th>condition</th>\n",
              "      <th>grade</th>\n",
              "      <th>sqft_above</th>\n",
              "      <th>sqft_basement</th>\n",
              "      <th>yr_built</th>\n",
              "      <th>yr_renovated</th>\n",
              "      <th>zipcode</th>\n",
              "      <th>lat</th>\n",
              "      <th>long</th>\n",
              "      <th>sqft_living15</th>\n",
              "      <th>sqft_lot15</th>\n",
              "    </tr>\n",
              "  </thead>\n",
              "  <tbody>\n",
              "    <tr>\n",
              "      <th>count</th>\n",
              "      <td>1.721000e+04</td>\n",
              "      <td>1.721000e+04</td>\n",
              "      <td>17210.000000</td>\n",
              "      <td>17210.000000</td>\n",
              "      <td>1.721000e+04</td>\n",
              "      <td>17210.000000</td>\n",
              "      <td>17210.000000</td>\n",
              "      <td>17210.000000</td>\n",
              "      <td>17210.000000</td>\n",
              "      <td>17210.000000</td>\n",
              "      <td>17210.000000</td>\n",
              "      <td>17210.000000</td>\n",
              "      <td>17210.000000</td>\n",
              "      <td>17210.000000</td>\n",
              "      <td>17210.000000</td>\n",
              "      <td>17210.000000</td>\n",
              "      <td>17210.000000</td>\n",
              "      <td>17210.000000</td>\n",
              "    </tr>\n",
              "    <tr>\n",
              "      <th>mean</th>\n",
              "      <td>4.584539e+09</td>\n",
              "      <td>5.391069e+05</td>\n",
              "      <td>3.373213</td>\n",
              "      <td>2080.172051</td>\n",
              "      <td>1.513545e+04</td>\n",
              "      <td>1.498605</td>\n",
              "      <td>0.008077</td>\n",
              "      <td>3.409587</td>\n",
              "      <td>7.661941</td>\n",
              "      <td>1788.108077</td>\n",
              "      <td>292.063974</td>\n",
              "      <td>1971.285880</td>\n",
              "      <td>84.305985</td>\n",
              "      <td>98077.903661</td>\n",
              "      <td>47.559731</td>\n",
              "      <td>-122.213991</td>\n",
              "      <td>1987.480244</td>\n",
              "      <td>12785.612028</td>\n",
              "    </tr>\n",
              "    <tr>\n",
              "      <th>std</th>\n",
              "      <td>2.874471e+09</td>\n",
              "      <td>3.674218e+05</td>\n",
              "      <td>0.927616</td>\n",
              "      <td>917.995097</td>\n",
              "      <td>4.260361e+04</td>\n",
              "      <td>0.542192</td>\n",
              "      <td>0.089509</td>\n",
              "      <td>0.646909</td>\n",
              "      <td>1.170044</td>\n",
              "      <td>824.994890</td>\n",
              "      <td>443.397892</td>\n",
              "      <td>29.378191</td>\n",
              "      <td>401.454725</td>\n",
              "      <td>53.554500</td>\n",
              "      <td>0.138973</td>\n",
              "      <td>0.140486</td>\n",
              "      <td>684.866281</td>\n",
              "      <td>27294.470122</td>\n",
              "    </tr>\n",
              "    <tr>\n",
              "      <th>min</th>\n",
              "      <td>1.000102e+06</td>\n",
              "      <td>7.800000e+04</td>\n",
              "      <td>1.000000</td>\n",
              "      <td>370.000000</td>\n",
              "      <td>5.200000e+02</td>\n",
              "      <td>1.000000</td>\n",
              "      <td>0.000000</td>\n",
              "      <td>1.000000</td>\n",
              "      <td>3.000000</td>\n",
              "      <td>370.000000</td>\n",
              "      <td>0.000000</td>\n",
              "      <td>1900.000000</td>\n",
              "      <td>0.000000</td>\n",
              "      <td>98001.000000</td>\n",
              "      <td>47.155900</td>\n",
              "      <td>-122.519000</td>\n",
              "      <td>399.000000</td>\n",
              "      <td>659.000000</td>\n",
              "    </tr>\n",
              "    <tr>\n",
              "      <th>25%</th>\n",
              "      <td>2.125570e+09</td>\n",
              "      <td>3.200000e+05</td>\n",
              "      <td>3.000000</td>\n",
              "      <td>1420.000000</td>\n",
              "      <td>5.034000e+03</td>\n",
              "      <td>1.000000</td>\n",
              "      <td>0.000000</td>\n",
              "      <td>3.000000</td>\n",
              "      <td>7.000000</td>\n",
              "      <td>1190.000000</td>\n",
              "      <td>0.000000</td>\n",
              "      <td>1952.000000</td>\n",
              "      <td>0.000000</td>\n",
              "      <td>98033.000000</td>\n",
              "      <td>47.468925</td>\n",
              "      <td>-122.328000</td>\n",
              "      <td>1490.000000</td>\n",
              "      <td>5100.000000</td>\n",
              "    </tr>\n",
              "    <tr>\n",
              "      <th>50%</th>\n",
              "      <td>3.904980e+09</td>\n",
              "      <td>4.500000e+05</td>\n",
              "      <td>3.000000</td>\n",
              "      <td>1910.000000</td>\n",
              "      <td>7.620000e+03</td>\n",
              "      <td>1.500000</td>\n",
              "      <td>0.000000</td>\n",
              "      <td>3.000000</td>\n",
              "      <td>7.000000</td>\n",
              "      <td>1560.000000</td>\n",
              "      <td>0.000000</td>\n",
              "      <td>1975.000000</td>\n",
              "      <td>0.000000</td>\n",
              "      <td>98065.000000</td>\n",
              "      <td>47.571900</td>\n",
              "      <td>-122.230000</td>\n",
              "      <td>1840.000000</td>\n",
              "      <td>7620.000000</td>\n",
              "    </tr>\n",
              "    <tr>\n",
              "      <th>75%</th>\n",
              "      <td>7.308600e+09</td>\n",
              "      <td>6.400000e+05</td>\n",
              "      <td>4.000000</td>\n",
              "      <td>2550.000000</td>\n",
              "      <td>1.070075e+04</td>\n",
              "      <td>2.000000</td>\n",
              "      <td>0.000000</td>\n",
              "      <td>4.000000</td>\n",
              "      <td>8.000000</td>\n",
              "      <td>2210.000000</td>\n",
              "      <td>560.000000</td>\n",
              "      <td>1997.000000</td>\n",
              "      <td>0.000000</td>\n",
              "      <td>98118.000000</td>\n",
              "      <td>47.678175</td>\n",
              "      <td>-122.125000</td>\n",
              "      <td>2368.250000</td>\n",
              "      <td>10092.000000</td>\n",
              "    </tr>\n",
              "    <tr>\n",
              "      <th>max</th>\n",
              "      <td>9.900000e+09</td>\n",
              "      <td>7.700000e+06</td>\n",
              "      <td>33.000000</td>\n",
              "      <td>13540.000000</td>\n",
              "      <td>1.651359e+06</td>\n",
              "      <td>3.500000</td>\n",
              "      <td>1.000000</td>\n",
              "      <td>5.000000</td>\n",
              "      <td>13.000000</td>\n",
              "      <td>9410.000000</td>\n",
              "      <td>4820.000000</td>\n",
              "      <td>2015.000000</td>\n",
              "      <td>2015.000000</td>\n",
              "      <td>98199.000000</td>\n",
              "      <td>47.777600</td>\n",
              "      <td>-121.315000</td>\n",
              "      <td>6210.000000</td>\n",
              "      <td>871200.000000</td>\n",
              "    </tr>\n",
              "  </tbody>\n",
              "</table>\n",
              "</div>"
            ],
            "text/plain": [
              "                 id         price      bedrooms   sqft_living      sqft_lot  \\\n",
              "count  1.721000e+04  1.721000e+04  17210.000000  17210.000000  1.721000e+04   \n",
              "mean   4.584539e+09  5.391069e+05      3.373213   2080.172051  1.513545e+04   \n",
              "std    2.874471e+09  3.674218e+05      0.927616    917.995097  4.260361e+04   \n",
              "min    1.000102e+06  7.800000e+04      1.000000    370.000000  5.200000e+02   \n",
              "25%    2.125570e+09  3.200000e+05      3.000000   1420.000000  5.034000e+03   \n",
              "50%    3.904980e+09  4.500000e+05      3.000000   1910.000000  7.620000e+03   \n",
              "75%    7.308600e+09  6.400000e+05      4.000000   2550.000000  1.070075e+04   \n",
              "max    9.900000e+09  7.700000e+06     33.000000  13540.000000  1.651359e+06   \n",
              "\n",
              "             floors    waterfront     condition         grade    sqft_above  \\\n",
              "count  17210.000000  17210.000000  17210.000000  17210.000000  17210.000000   \n",
              "mean       1.498605      0.008077      3.409587      7.661941   1788.108077   \n",
              "std        0.542192      0.089509      0.646909      1.170044    824.994890   \n",
              "min        1.000000      0.000000      1.000000      3.000000    370.000000   \n",
              "25%        1.000000      0.000000      3.000000      7.000000   1190.000000   \n",
              "50%        1.500000      0.000000      3.000000      7.000000   1560.000000   \n",
              "75%        2.000000      0.000000      4.000000      8.000000   2210.000000   \n",
              "max        3.500000      1.000000      5.000000     13.000000   9410.000000   \n",
              "\n",
              "       sqft_basement      yr_built  yr_renovated       zipcode           lat  \\\n",
              "count   17210.000000  17210.000000  17210.000000  17210.000000  17210.000000   \n",
              "mean      292.063974   1971.285880     84.305985  98077.903661     47.559731   \n",
              "std       443.397892     29.378191    401.454725     53.554500      0.138973   \n",
              "min         0.000000   1900.000000      0.000000  98001.000000     47.155900   \n",
              "25%         0.000000   1952.000000      0.000000  98033.000000     47.468925   \n",
              "50%         0.000000   1975.000000      0.000000  98065.000000     47.571900   \n",
              "75%       560.000000   1997.000000      0.000000  98118.000000     47.678175   \n",
              "max      4820.000000   2015.000000   2015.000000  98199.000000     47.777600   \n",
              "\n",
              "               long  sqft_living15     sqft_lot15  \n",
              "count  17210.000000   17210.000000   17210.000000  \n",
              "mean    -122.213991    1987.480244   12785.612028  \n",
              "std        0.140486     684.866281   27294.470122  \n",
              "min     -122.519000     399.000000     659.000000  \n",
              "25%     -122.328000    1490.000000    5100.000000  \n",
              "50%     -122.230000    1840.000000    7620.000000  \n",
              "75%     -122.125000    2368.250000   10092.000000  \n",
              "max     -121.315000    6210.000000  871200.000000  "
            ]
          },
          "metadata": {
            "tags": []
          },
          "execution_count": 3
        }
      ]
    },
    {
      "cell_type": "code",
      "metadata": {
        "id": "piNkAin7bDLF"
      },
      "source": [
        "#New features that we can introduce:::::>\n",
        "\n",
        "\n",
        "###Age of renovation\n",
        "#Age of home\n",
        "#Month of sell(Festivity)\n",
        "#year of sell\n",
        "#increase or decrease in sqft living and lot after renovation\n",
        "#distance from center of city\n",
        "#Percentage of living from the lot=====> Privacy Index\n",
        "#avg area per room\n",
        "#price / sqft_living , price / sqft_lot \n",
        "#price / bedroom\n",
        "#avg area per floor\n",
        "#terrace ==> if 0.5 floor\n",
        "#bedroom per / floor --> round it off\n",
        "#convert zipcodes based on frequency of occurrence :: frequency encoding\n",
        "#"
      ],
      "execution_count": null,
      "outputs": []
    },
    {
      "cell_type": "code",
      "metadata": {
        "id": "Pbo6gjDVbDLG"
      },
      "source": [
        "df = df.drop(['yr_renovated'],axis=1)"
      ],
      "execution_count": null,
      "outputs": []
    },
    {
      "cell_type": "code",
      "metadata": {
        "id": "aW9SQofpbDLH"
      },
      "source": [
        "df['log_price'] = np.log(df['price'])"
      ],
      "execution_count": null,
      "outputs": []
    },
    {
      "cell_type": "code",
      "metadata": {
        "id": "qSezzMGrbDLH"
      },
      "source": [
        "df = df.drop(['price'],axis=1)"
      ],
      "execution_count": null,
      "outputs": []
    },
    {
      "cell_type": "code",
      "metadata": {
        "id": "EqLMstJZbDLI",
        "outputId": "8abfb4c7-f15e-49d2-a696-d23b387b097a"
      },
      "source": [
        "df.dtypes"
      ],
      "execution_count": null,
      "outputs": [
        {
          "output_type": "execute_result",
          "data": {
            "text/plain": [
              "id                 int64\n",
              "date              object\n",
              "bedrooms           int64\n",
              "sqft_living        int64\n",
              "sqft_lot           int64\n",
              "floors           float64\n",
              "waterfront         int64\n",
              "condition          int64\n",
              "grade              int64\n",
              "sqft_above         int64\n",
              "sqft_basement      int64\n",
              "yr_built           int64\n",
              "zipcode            int64\n",
              "lat              float64\n",
              "long             float64\n",
              "sqft_living15      int64\n",
              "sqft_lot15         int64\n",
              "log_price        float64\n",
              "dtype: object"
            ]
          },
          "metadata": {
            "tags": []
          },
          "execution_count": 10
        }
      ]
    },
    {
      "cell_type": "code",
      "metadata": {
        "id": "E5GpfJ-CbDLI",
        "outputId": "e5bf5f64-21c9-45d5-c9bc-6d3cf0b649aa"
      },
      "source": [
        "datestring='10/13/2014'\n",
        "dt = datetime.strptime(datestring, '%m/%d/%Y')\n",
        "print(dt.year, dt.month, dt.day)"
      ],
      "execution_count": null,
      "outputs": [
        {
          "output_type": "stream",
          "text": [
            "2014 10 13\n"
          ],
          "name": "stdout"
        }
      ]
    },
    {
      "cell_type": "code",
      "metadata": {
        "id": "rQV4jo_FbDLJ",
        "outputId": "62441d69-5389-4e2f-a479-7d9739db250f"
      },
      "source": [
        "pd.to_datetime(df['date'],format='%m/%d/%Y')\n",
        "df['yr_sell'] = pd.DatetimeIndex(df['date']).year\n",
        "df['m_sell'] = pd.DatetimeIndex(df['date']).month\n",
        "print(df[['yr_sell','m_sell']].head())"
      ],
      "execution_count": null,
      "outputs": [
        {
          "output_type": "stream",
          "text": [
            "   yr_sell  m_sell\n",
            "0     2014      10\n",
            "1     2015       4\n",
            "2     2014       5\n",
            "3     2014       9\n",
            "4     2014       7\n"
          ],
          "name": "stdout"
        }
      ]
    },
    {
      "cell_type": "code",
      "metadata": {
        "id": "mbCfQlSabDLK",
        "outputId": "0220cfd4-55fa-43ed-da54-dcbf8bff4a0a"
      },
      "source": [
        "df['Age_of_Home']=df['yr_sell']-df['yr_built']\n",
        "print(df['Age_of_Home'].head())"
      ],
      "execution_count": null,
      "outputs": [
        {
          "output_type": "stream",
          "text": [
            "0    114\n",
            "1      4\n",
            "2     -1\n",
            "3     84\n",
            "4     16\n",
            "Name: Age_of_Home, dtype: int64\n"
          ],
          "name": "stdout"
        }
      ]
    },
    {
      "cell_type": "code",
      "metadata": {
        "id": "D5VElAoQbDLK",
        "outputId": "721722e9-323c-4e4b-f105-4f71ebd066be"
      },
      "source": [
        "print(df[df['Age_of_Home']<0])\n",
        "#these are problematic houses as the year built is after year sold"
      ],
      "execution_count": null,
      "outputs": [
        {
          "output_type": "stream",
          "text": [
            "              id        date  bedrooms  sqft_living  sqft_lot  floors  \\\n",
            "2     6169901185   5/20/2014         5         4460      2975     3.0   \n",
            "35    5694500840  11/25/2014         2         1650       960     3.0   \n",
            "277   2770601530   8/26/2014         2         1570      1269     2.0   \n",
            "1326  1257201420    7/9/2014         4         3730      4560     2.0   \n",
            "2946  9126100346   6/17/2014         3         1380      3600     3.0   \n",
            "5254  9520900210  12/31/2014         5         2730      6401     2.0   \n",
            "6827  1832100030   6/25/2014         4         3570      8250     2.0   \n",
            "7845  3076500830  10/29/2014         1          710      6000     1.5   \n",
            "9650  9310300160   8/28/2014         5         2990      9240     2.0   \n",
            "\n",
            "      waterfront  condition  grade  sqft_above  ...  yr_built  zipcode  \\\n",
            "2              0          3     10        3280  ...      2015    98119   \n",
            "35             0          3      8        1350  ...      2015    98103   \n",
            "277            0          3      9        1280  ...      2015    98199   \n",
            "1326           0          3      9        2760  ...      2015    98103   \n",
            "2946           0          3      8        1380  ...      2015    98122   \n",
            "5254           0          3      8        2730  ...      2015    98072   \n",
            "6827           0          3     10        2860  ...      2015    98040   \n",
            "7845           0          3      6         710  ...      2015    98144   \n",
            "9650           0          3      8        2990  ...      2015    98133   \n",
            "\n",
            "          lat     long  sqft_living15  sqft_lot15  log_price  yr_sell  m_sell  \\\n",
            "2     47.6313 -122.370           2490        4231  13.102161     2014       5   \n",
            "35    47.6611 -122.346           1650        3000  13.233905     2014      11   \n",
            "277   47.6514 -122.385           1570        6000  13.122363     2014       8   \n",
            "1326  47.6725 -122.330           1800        4560  13.296317     2014       7   \n",
            "2946  47.6074 -122.305           1480        3600  12.765688     2014       6   \n",
            "5254  47.7685 -122.160           2520        6126  13.328214     2014      12   \n",
            "6827  47.5784 -122.226           2230       10000  13.300218     2014       6   \n",
            "7845  47.5756 -122.316           1440        4800  12.861505     2014      10   \n",
            "9650  47.7384 -122.348           1970       18110  12.785491     2014       8   \n",
            "\n",
            "      Age_of_Home  \n",
            "2              -1  \n",
            "35             -1  \n",
            "277            -1  \n",
            "1326           -1  \n",
            "2946           -1  \n",
            "5254           -1  \n",
            "6827           -1  \n",
            "7845           -1  \n",
            "9650           -1  \n",
            "\n",
            "[9 rows x 21 columns]\n"
          ],
          "name": "stdout"
        }
      ]
    },
    {
      "cell_type": "markdown",
      "metadata": {
        "id": "GpqZ_uqIbDLL"
      },
      "source": [
        "The next 4 cells are not to be considered, as this was done before realising that year of renovation is a wrong column"
      ]
    },
    {
      "cell_type": "code",
      "metadata": {
        "id": "wYsVQhuPbDLM"
      },
      "source": [
        "df.loc[df['yr_sell']>=2015, 'sqft_living_sell'] = df.loc[df['yr_sell']>=2015,'sqft_living15']\n",
        "df.loc[df['yr_sell']<2015,'sqft_living_sell'] = df.loc[df['yr_sell']<2015,'sqft_living']\n",
        "df.loc[df['yr_sell']>=2015,'sqft_lot_sell'] = df.loc[df['yr_sell']>=2015,'sqft_lot15']\n",
        "df.loc[df['yr_sell']<2015,'sqft_lot_sell'] = df.loc[df['yr_sell']<2015,'sqft_lot']"
      ],
      "execution_count": null,
      "outputs": []
    },
    {
      "cell_type": "code",
      "metadata": {
        "id": "NYJWlQ6VbDLN"
      },
      "source": [
        "df = df.drop(['sqft_living15','sqft_living','sqft_lot15','sqft_lot'],axis=1)"
      ],
      "execution_count": null,
      "outputs": []
    },
    {
      "cell_type": "code",
      "metadata": {
        "id": "Lg29bMJdbDLN",
        "outputId": "549d7eb4-2d50-4481-9e88-5ac9faaa58ba"
      },
      "source": [
        "df['Percentage_used']=df['sqft_living_sell']/df['sqft_lot_sell']*100\n",
        "# print(df['Percentage_used'])\n",
        "print(df[df['Percentage_used']>100].head())\n",
        "print(df[df['Percentage_used']>100].shape)\n",
        "#655 columns have more sqft_living than sqft_lot"
      ],
      "execution_count": null,
      "outputs": [
        {
          "output_type": "stream",
          "text": [
            "           id        date  bedrooms  floors  waterfront  condition  grade  \\\n",
            "0  9828702895  10/22/2014         4     1.5           0          3      7   \n",
            "1  2559950110   4/22/2015         2     3.0           0          3     11   \n",
            "2  6169901185   5/20/2014         5     3.0           0          3     10   \n",
            "3  3667500015   9/25/2014         4     2.5           0          3      9   \n",
            "4  5167000140   7/11/2014         3     2.0           0          3     11   \n",
            "\n",
            "   sqft_above  sqft_basement  yr_built  zipcode      lat     long  log_price  \\\n",
            "0        2420              0      1900    98112  47.6209 -122.302  13.458836   \n",
            "1        1910            560      2011    98112  47.6182 -122.312  14.022525   \n",
            "2        3280           1180      2015    98119  47.6313 -122.370  13.102161   \n",
            "3        2670           1010      1930    98112  47.6192 -122.307  13.554146   \n",
            "4        2280           1420      1998    98033  47.6653 -122.205  14.207553   \n",
            "\n",
            "   yr_sell  m_sell  Age_of_Home  sqft_living_sell  sqft_lot_sell  \\\n",
            "0     2014      10          114            2420.0          520.0   \n",
            "1     2015       4            4            2440.0         1229.0   \n",
            "2     2014       5           -1            4460.0         2975.0   \n",
            "3     2014       9           84            3680.0         2242.0   \n",
            "4     2014       7           16            3700.0         2264.0   \n",
            "\n",
            "   Percentage_used  \n",
            "0       465.384615  \n",
            "1       198.535395  \n",
            "2       149.915966  \n",
            "3       164.139161  \n",
            "4       163.427562  \n",
            "(601, 20)\n"
          ],
          "name": "stdout"
        }
      ]
    },
    {
      "cell_type": "code",
      "metadata": {
        "id": "KCF5NIddbDLO",
        "outputId": "2d60da5b-74e2-4447-eaec-8d39d0fb23ea"
      },
      "source": [
        "df['log_price'].describe() \n",
        "#to analyse the max price"
      ],
      "execution_count": null,
      "outputs": [
        {
          "output_type": "execute_result",
          "data": {
            "text/plain": [
              "count    17210.000000\n",
              "mean        13.044580\n",
              "std          0.528797\n",
              "min         11.264464\n",
              "25%         12.676076\n",
              "50%         13.017003\n",
              "75%         13.369223\n",
              "max         15.856731\n",
              "Name: log_price, dtype: float64"
            ]
          },
          "metadata": {
            "tags": []
          },
          "execution_count": 19
        }
      ]
    },
    {
      "cell_type": "code",
      "metadata": {
        "id": "_-vTgoKmbDLP",
        "outputId": "1a95e83a-100c-4c0d-9fda-4ad4787887d6"
      },
      "source": [
        "#to find the position of the most expensive house\n",
        "b=df[df['log_price']==df['log_price'].max()]\n",
        "b[['long','lat']]"
      ],
      "execution_count": null,
      "outputs": [
        {
          "output_type": "execute_result",
          "data": {
            "text/html": [
              "<div>\n",
              "<style scoped>\n",
              "    .dataframe tbody tr th:only-of-type {\n",
              "        vertical-align: middle;\n",
              "    }\n",
              "\n",
              "    .dataframe tbody tr th {\n",
              "        vertical-align: top;\n",
              "    }\n",
              "\n",
              "    .dataframe thead th {\n",
              "        text-align: right;\n",
              "    }\n",
              "</style>\n",
              "<table border=\"1\" class=\"dataframe\">\n",
              "  <thead>\n",
              "    <tr style=\"text-align: right;\">\n",
              "      <th></th>\n",
              "      <th>long</th>\n",
              "      <th>lat</th>\n",
              "    </tr>\n",
              "  </thead>\n",
              "  <tbody>\n",
              "    <tr>\n",
              "      <th>15154</th>\n",
              "      <td>-122.323</td>\n",
              "      <td>47.6298</td>\n",
              "    </tr>\n",
              "  </tbody>\n",
              "</table>\n",
              "</div>"
            ],
            "text/plain": [
              "          long      lat\n",
              "15154 -122.323  47.6298"
            ]
          },
          "metadata": {
            "tags": []
          },
          "execution_count": 23
        }
      ]
    },
    {
      "cell_type": "code",
      "metadata": {
        "id": "VBOVwsogbDLQ",
        "outputId": "fec5ad92-d495-4d2d-8e17-60b8760a4c65"
      },
      "source": [
        "df.shape"
      ],
      "execution_count": null,
      "outputs": [
        {
          "output_type": "execute_result",
          "data": {
            "text/plain": [
              "(17210, 20)"
            ]
          },
          "metadata": {
            "tags": []
          },
          "execution_count": 15
        }
      ]
    },
    {
      "cell_type": "code",
      "metadata": {
        "id": "YpWe97mmbDLR",
        "outputId": "0a75765e-f5b4-4aab-f768-afbfc9d25c47"
      },
      "source": [
        "df.columns"
      ],
      "execution_count": null,
      "outputs": [
        {
          "output_type": "execute_result",
          "data": {
            "text/plain": [
              "Index(['id', 'date', 'price', 'bedrooms', 'floors', 'waterfront', 'condition',\n",
              "       'grade', 'sqft_above', 'sqft_basement', 'yr_built', 'zipcode', 'lat',\n",
              "       'long', 'yr_sell', 'm_sell', 'Age_of_Home', 'sqft_living_sell',\n",
              "       'sqft_lot_sell', 'Percentage_used'],\n",
              "      dtype='object')"
            ]
          },
          "metadata": {
            "tags": []
          },
          "execution_count": 16
        }
      ]
    },
    {
      "cell_type": "code",
      "metadata": {
        "id": "mfrEbJWhbDLR",
        "outputId": "a40a75f4-dff3-4348-8ad7-74e65b91a049"
      },
      "source": [
        "df.head()"
      ],
      "execution_count": null,
      "outputs": [
        {
          "output_type": "execute_result",
          "data": {
            "text/html": [
              "<div>\n",
              "<style scoped>\n",
              "    .dataframe tbody tr th:only-of-type {\n",
              "        vertical-align: middle;\n",
              "    }\n",
              "\n",
              "    .dataframe tbody tr th {\n",
              "        vertical-align: top;\n",
              "    }\n",
              "\n",
              "    .dataframe thead th {\n",
              "        text-align: right;\n",
              "    }\n",
              "</style>\n",
              "<table border=\"1\" class=\"dataframe\">\n",
              "  <thead>\n",
              "    <tr style=\"text-align: right;\">\n",
              "      <th></th>\n",
              "      <th>id</th>\n",
              "      <th>date</th>\n",
              "      <th>price</th>\n",
              "      <th>bedrooms</th>\n",
              "      <th>floors</th>\n",
              "      <th>waterfront</th>\n",
              "      <th>condition</th>\n",
              "      <th>grade</th>\n",
              "      <th>sqft_above</th>\n",
              "      <th>sqft_basement</th>\n",
              "      <th>yr_built</th>\n",
              "      <th>zipcode</th>\n",
              "      <th>lat</th>\n",
              "      <th>long</th>\n",
              "      <th>yr_sell</th>\n",
              "      <th>m_sell</th>\n",
              "      <th>Age_of_Home</th>\n",
              "      <th>sqft_living_sell</th>\n",
              "      <th>sqft_lot_sell</th>\n",
              "      <th>Percentage_used</th>\n",
              "    </tr>\n",
              "  </thead>\n",
              "  <tbody>\n",
              "    <tr>\n",
              "      <th>0</th>\n",
              "      <td>9828702895</td>\n",
              "      <td>10/22/2014</td>\n",
              "      <td>700000</td>\n",
              "      <td>4</td>\n",
              "      <td>1.5</td>\n",
              "      <td>0</td>\n",
              "      <td>3</td>\n",
              "      <td>7</td>\n",
              "      <td>2420</td>\n",
              "      <td>0</td>\n",
              "      <td>1900</td>\n",
              "      <td>98112</td>\n",
              "      <td>47.6209</td>\n",
              "      <td>-122.302</td>\n",
              "      <td>2014</td>\n",
              "      <td>10</td>\n",
              "      <td>114</td>\n",
              "      <td>2420.0</td>\n",
              "      <td>520.0</td>\n",
              "      <td>465.384615</td>\n",
              "    </tr>\n",
              "    <tr>\n",
              "      <th>1</th>\n",
              "      <td>2559950110</td>\n",
              "      <td>4/22/2015</td>\n",
              "      <td>1230000</td>\n",
              "      <td>2</td>\n",
              "      <td>3.0</td>\n",
              "      <td>0</td>\n",
              "      <td>3</td>\n",
              "      <td>11</td>\n",
              "      <td>1910</td>\n",
              "      <td>560</td>\n",
              "      <td>2011</td>\n",
              "      <td>98112</td>\n",
              "      <td>47.6182</td>\n",
              "      <td>-122.312</td>\n",
              "      <td>2015</td>\n",
              "      <td>4</td>\n",
              "      <td>4</td>\n",
              "      <td>2440.0</td>\n",
              "      <td>1229.0</td>\n",
              "      <td>198.535395</td>\n",
              "    </tr>\n",
              "    <tr>\n",
              "      <th>2</th>\n",
              "      <td>6169901185</td>\n",
              "      <td>5/20/2014</td>\n",
              "      <td>490000</td>\n",
              "      <td>5</td>\n",
              "      <td>3.0</td>\n",
              "      <td>0</td>\n",
              "      <td>3</td>\n",
              "      <td>10</td>\n",
              "      <td>3280</td>\n",
              "      <td>1180</td>\n",
              "      <td>2015</td>\n",
              "      <td>98119</td>\n",
              "      <td>47.6313</td>\n",
              "      <td>-122.370</td>\n",
              "      <td>2014</td>\n",
              "      <td>5</td>\n",
              "      <td>-1</td>\n",
              "      <td>4460.0</td>\n",
              "      <td>2975.0</td>\n",
              "      <td>149.915966</td>\n",
              "    </tr>\n",
              "    <tr>\n",
              "      <th>3</th>\n",
              "      <td>3667500015</td>\n",
              "      <td>9/25/2014</td>\n",
              "      <td>770000</td>\n",
              "      <td>4</td>\n",
              "      <td>2.5</td>\n",
              "      <td>0</td>\n",
              "      <td>3</td>\n",
              "      <td>9</td>\n",
              "      <td>2670</td>\n",
              "      <td>1010</td>\n",
              "      <td>1930</td>\n",
              "      <td>98112</td>\n",
              "      <td>47.6192</td>\n",
              "      <td>-122.307</td>\n",
              "      <td>2014</td>\n",
              "      <td>9</td>\n",
              "      <td>84</td>\n",
              "      <td>3680.0</td>\n",
              "      <td>2242.0</td>\n",
              "      <td>164.139161</td>\n",
              "    </tr>\n",
              "    <tr>\n",
              "      <th>4</th>\n",
              "      <td>5167000140</td>\n",
              "      <td>7/11/2014</td>\n",
              "      <td>1480000</td>\n",
              "      <td>3</td>\n",
              "      <td>2.0</td>\n",
              "      <td>0</td>\n",
              "      <td>3</td>\n",
              "      <td>11</td>\n",
              "      <td>2280</td>\n",
              "      <td>1420</td>\n",
              "      <td>1998</td>\n",
              "      <td>98033</td>\n",
              "      <td>47.6653</td>\n",
              "      <td>-122.205</td>\n",
              "      <td>2014</td>\n",
              "      <td>7</td>\n",
              "      <td>16</td>\n",
              "      <td>3700.0</td>\n",
              "      <td>2264.0</td>\n",
              "      <td>163.427562</td>\n",
              "    </tr>\n",
              "  </tbody>\n",
              "</table>\n",
              "</div>"
            ],
            "text/plain": [
              "           id        date    price  bedrooms  floors  waterfront  condition  \\\n",
              "0  9828702895  10/22/2014   700000         4     1.5           0          3   \n",
              "1  2559950110   4/22/2015  1230000         2     3.0           0          3   \n",
              "2  6169901185   5/20/2014   490000         5     3.0           0          3   \n",
              "3  3667500015   9/25/2014   770000         4     2.5           0          3   \n",
              "4  5167000140   7/11/2014  1480000         3     2.0           0          3   \n",
              "\n",
              "   grade  sqft_above  sqft_basement  yr_built  zipcode      lat     long  \\\n",
              "0      7        2420              0      1900    98112  47.6209 -122.302   \n",
              "1     11        1910            560      2011    98112  47.6182 -122.312   \n",
              "2     10        3280           1180      2015    98119  47.6313 -122.370   \n",
              "3      9        2670           1010      1930    98112  47.6192 -122.307   \n",
              "4     11        2280           1420      1998    98033  47.6653 -122.205   \n",
              "\n",
              "   yr_sell  m_sell  Age_of_Home  sqft_living_sell  sqft_lot_sell  \\\n",
              "0     2014      10          114            2420.0          520.0   \n",
              "1     2015       4            4            2440.0         1229.0   \n",
              "2     2014       5           -1            4460.0         2975.0   \n",
              "3     2014       9           84            3680.0         2242.0   \n",
              "4     2014       7           16            3700.0         2264.0   \n",
              "\n",
              "   Percentage_used  \n",
              "0       465.384615  \n",
              "1       198.535395  \n",
              "2       149.915966  \n",
              "3       164.139161  \n",
              "4       163.427562  "
            ]
          },
          "metadata": {
            "tags": []
          },
          "execution_count": 17
        }
      ]
    },
    {
      "cell_type": "code",
      "metadata": {
        "id": "teqhFwXYbDLS"
      },
      "source": [
        "#so now we have the latitude and longitude of the most expensive house\n",
        "#aim to find all the distances(in km) between the most expensive house and all the houses\n",
        "def dist(lat1,long1):\n",
        "    R = 6373.0 #Radius of earth\n",
        "    lat1 = np.deg2rad(lat1)\n",
        "    lon1 = np.deg2rad(long1)\n",
        "    lat2 = np.deg2rad(47.6298)\n",
        "    lon2 = np.deg2rad(-122.323)\n",
        "    dlon = lon2 - lon1\n",
        "    dlat = lat2 - lat1\n",
        "    a = np.sin(dlat / 2)**2 + np.cos(lat1) * np.cos(lat2) * np.sin(dlon / 2)**2\n",
        "    c = 2 * np.arctan2(np.sqrt(a), np.sqrt(1 - a))\n",
        "    d = R * c\n",
        "    return(d)\n",
        "\n",
        "Distance = dist(df['lat'], df['long'])\n",
        "\n",
        "df['Distance']= Distance"
      ],
      "execution_count": null,
      "outputs": []
    },
    {
      "cell_type": "code",
      "metadata": {
        "id": "d9jxO7vubDLT",
        "outputId": "6a22dfd0-cf45-4d3c-bb5e-999c11115a9c"
      },
      "source": [
        "df.drop(df[df['Age_of_Home']<0].index, inplace=True)\n",
        "print(df[df['Age_of_Home']<0].shape)\n",
        "#To remove the 9 rows which have yr build after yr sold\n"
      ],
      "execution_count": null,
      "outputs": [
        {
          "output_type": "stream",
          "text": [
            "(0, 21)\n"
          ],
          "name": "stdout"
        }
      ]
    },
    {
      "cell_type": "code",
      "metadata": {
        "id": "OlTFPoEobDLU"
      },
      "source": [
        "def drop_improper_yr_sold(df):\n",
        "    df.drop(df[df['Age_of_Home']<0].index, inplace=True)\n",
        "    print(df[df['Age_of_Home']<0].shape)\n",
        "    return df"
      ],
      "execution_count": null,
      "outputs": []
    },
    {
      "cell_type": "code",
      "metadata": {
        "id": "qbStbp_fbDLU",
        "outputId": "01a588bb-15aa-488b-a272-1796e23df598"
      },
      "source": [
        "df.head()"
      ],
      "execution_count": null,
      "outputs": [
        {
          "output_type": "execute_result",
          "data": {
            "text/html": [
              "<div>\n",
              "<style scoped>\n",
              "    .dataframe tbody tr th:only-of-type {\n",
              "        vertical-align: middle;\n",
              "    }\n",
              "\n",
              "    .dataframe tbody tr th {\n",
              "        vertical-align: top;\n",
              "    }\n",
              "\n",
              "    .dataframe thead th {\n",
              "        text-align: right;\n",
              "    }\n",
              "</style>\n",
              "<table border=\"1\" class=\"dataframe\">\n",
              "  <thead>\n",
              "    <tr style=\"text-align: right;\">\n",
              "      <th></th>\n",
              "      <th>id</th>\n",
              "      <th>date</th>\n",
              "      <th>price</th>\n",
              "      <th>bedrooms</th>\n",
              "      <th>floors</th>\n",
              "      <th>waterfront</th>\n",
              "      <th>condition</th>\n",
              "      <th>grade</th>\n",
              "      <th>sqft_above</th>\n",
              "      <th>sqft_basement</th>\n",
              "      <th>...</th>\n",
              "      <th>zipcode</th>\n",
              "      <th>lat</th>\n",
              "      <th>long</th>\n",
              "      <th>yr_sell</th>\n",
              "      <th>m_sell</th>\n",
              "      <th>Age_of_Home</th>\n",
              "      <th>sqft_living_sell</th>\n",
              "      <th>sqft_lot_sell</th>\n",
              "      <th>Percentage_used</th>\n",
              "      <th>Distance</th>\n",
              "    </tr>\n",
              "  </thead>\n",
              "  <tbody>\n",
              "    <tr>\n",
              "      <th>0</th>\n",
              "      <td>9828702895</td>\n",
              "      <td>10/22/2014</td>\n",
              "      <td>700000</td>\n",
              "      <td>4</td>\n",
              "      <td>1.5</td>\n",
              "      <td>0</td>\n",
              "      <td>3</td>\n",
              "      <td>7</td>\n",
              "      <td>2420</td>\n",
              "      <td>0</td>\n",
              "      <td>...</td>\n",
              "      <td>98112</td>\n",
              "      <td>47.6209</td>\n",
              "      <td>-122.302</td>\n",
              "      <td>2014</td>\n",
              "      <td>10</td>\n",
              "      <td>114</td>\n",
              "      <td>2420.0</td>\n",
              "      <td>520.0</td>\n",
              "      <td>465.384615</td>\n",
              "      <td>1.859672</td>\n",
              "    </tr>\n",
              "    <tr>\n",
              "      <th>1</th>\n",
              "      <td>2559950110</td>\n",
              "      <td>4/22/2015</td>\n",
              "      <td>1230000</td>\n",
              "      <td>2</td>\n",
              "      <td>3.0</td>\n",
              "      <td>0</td>\n",
              "      <td>3</td>\n",
              "      <td>11</td>\n",
              "      <td>1910</td>\n",
              "      <td>560</td>\n",
              "      <td>...</td>\n",
              "      <td>98112</td>\n",
              "      <td>47.6182</td>\n",
              "      <td>-122.312</td>\n",
              "      <td>2015</td>\n",
              "      <td>4</td>\n",
              "      <td>4</td>\n",
              "      <td>2440.0</td>\n",
              "      <td>1229.0</td>\n",
              "      <td>198.535395</td>\n",
              "      <td>1.531285</td>\n",
              "    </tr>\n",
              "    <tr>\n",
              "      <th>3</th>\n",
              "      <td>3667500015</td>\n",
              "      <td>9/25/2014</td>\n",
              "      <td>770000</td>\n",
              "      <td>4</td>\n",
              "      <td>2.5</td>\n",
              "      <td>0</td>\n",
              "      <td>3</td>\n",
              "      <td>9</td>\n",
              "      <td>2670</td>\n",
              "      <td>1010</td>\n",
              "      <td>...</td>\n",
              "      <td>98112</td>\n",
              "      <td>47.6192</td>\n",
              "      <td>-122.307</td>\n",
              "      <td>2014</td>\n",
              "      <td>9</td>\n",
              "      <td>84</td>\n",
              "      <td>3680.0</td>\n",
              "      <td>2242.0</td>\n",
              "      <td>164.139161</td>\n",
              "      <td>1.681926</td>\n",
              "    </tr>\n",
              "    <tr>\n",
              "      <th>4</th>\n",
              "      <td>5167000140</td>\n",
              "      <td>7/11/2014</td>\n",
              "      <td>1480000</td>\n",
              "      <td>3</td>\n",
              "      <td>2.0</td>\n",
              "      <td>0</td>\n",
              "      <td>3</td>\n",
              "      <td>11</td>\n",
              "      <td>2280</td>\n",
              "      <td>1420</td>\n",
              "      <td>...</td>\n",
              "      <td>98033</td>\n",
              "      <td>47.6653</td>\n",
              "      <td>-122.205</td>\n",
              "      <td>2014</td>\n",
              "      <td>7</td>\n",
              "      <td>16</td>\n",
              "      <td>3700.0</td>\n",
              "      <td>2264.0</td>\n",
              "      <td>163.427562</td>\n",
              "      <td>9.683869</td>\n",
              "    </tr>\n",
              "    <tr>\n",
              "      <th>5</th>\n",
              "      <td>9544700500</td>\n",
              "      <td>5/8/2014</td>\n",
              "      <td>785000</td>\n",
              "      <td>3</td>\n",
              "      <td>2.0</td>\n",
              "      <td>0</td>\n",
              "      <td>3</td>\n",
              "      <td>9</td>\n",
              "      <td>3010</td>\n",
              "      <td>0</td>\n",
              "      <td>...</td>\n",
              "      <td>98075</td>\n",
              "      <td>47.5836</td>\n",
              "      <td>-121.994</td>\n",
              "      <td>2014</td>\n",
              "      <td>5</td>\n",
              "      <td>3</td>\n",
              "      <td>3010.0</td>\n",
              "      <td>1842.0</td>\n",
              "      <td>163.409338</td>\n",
              "      <td>25.202130</td>\n",
              "    </tr>\n",
              "  </tbody>\n",
              "</table>\n",
              "<p>5 rows × 21 columns</p>\n",
              "</div>"
            ],
            "text/plain": [
              "           id        date    price  bedrooms  floors  waterfront  condition  \\\n",
              "0  9828702895  10/22/2014   700000         4     1.5           0          3   \n",
              "1  2559950110   4/22/2015  1230000         2     3.0           0          3   \n",
              "3  3667500015   9/25/2014   770000         4     2.5           0          3   \n",
              "4  5167000140   7/11/2014  1480000         3     2.0           0          3   \n",
              "5  9544700500    5/8/2014   785000         3     2.0           0          3   \n",
              "\n",
              "   grade  sqft_above  sqft_basement  ...  zipcode      lat     long  yr_sell  \\\n",
              "0      7        2420              0  ...    98112  47.6209 -122.302     2014   \n",
              "1     11        1910            560  ...    98112  47.6182 -122.312     2015   \n",
              "3      9        2670           1010  ...    98112  47.6192 -122.307     2014   \n",
              "4     11        2280           1420  ...    98033  47.6653 -122.205     2014   \n",
              "5      9        3010              0  ...    98075  47.5836 -121.994     2014   \n",
              "\n",
              "   m_sell  Age_of_Home  sqft_living_sell  sqft_lot_sell  Percentage_used  \\\n",
              "0      10          114            2420.0          520.0       465.384615   \n",
              "1       4            4            2440.0         1229.0       198.535395   \n",
              "3       9           84            3680.0         2242.0       164.139161   \n",
              "4       7           16            3700.0         2264.0       163.427562   \n",
              "5       5            3            3010.0         1842.0       163.409338   \n",
              "\n",
              "    Distance  \n",
              "0   1.859672  \n",
              "1   1.531285  \n",
              "3   1.681926  \n",
              "4   9.683869  \n",
              "5  25.202130  \n",
              "\n",
              "[5 rows x 21 columns]"
            ]
          },
          "metadata": {
            "tags": []
          },
          "execution_count": 20
        }
      ]
    },
    {
      "cell_type": "code",
      "metadata": {
        "id": "VaUwhlnBbDLV",
        "outputId": "4369e1b3-6726-4c8b-992f-8c4bd0bf230d"
      },
      "source": [
        "df.corr().head()"
      ],
      "execution_count": null,
      "outputs": [
        {
          "output_type": "execute_result",
          "data": {
            "text/html": [
              "<div>\n",
              "<style scoped>\n",
              "    .dataframe tbody tr th:only-of-type {\n",
              "        vertical-align: middle;\n",
              "    }\n",
              "\n",
              "    .dataframe tbody tr th {\n",
              "        vertical-align: top;\n",
              "    }\n",
              "\n",
              "    .dataframe thead th {\n",
              "        text-align: right;\n",
              "    }\n",
              "</style>\n",
              "<table border=\"1\" class=\"dataframe\">\n",
              "  <thead>\n",
              "    <tr style=\"text-align: right;\">\n",
              "      <th></th>\n",
              "      <th>id</th>\n",
              "      <th>price</th>\n",
              "      <th>bedrooms</th>\n",
              "      <th>floors</th>\n",
              "      <th>waterfront</th>\n",
              "      <th>condition</th>\n",
              "      <th>grade</th>\n",
              "      <th>sqft_above</th>\n",
              "      <th>sqft_basement</th>\n",
              "      <th>yr_built</th>\n",
              "      <th>zipcode</th>\n",
              "      <th>lat</th>\n",
              "      <th>long</th>\n",
              "      <th>yr_sell</th>\n",
              "      <th>m_sell</th>\n",
              "      <th>Age_of_Home</th>\n",
              "      <th>sqft_living_sell</th>\n",
              "      <th>sqft_lot_sell</th>\n",
              "      <th>Percentage_used</th>\n",
              "      <th>Distance</th>\n",
              "    </tr>\n",
              "  </thead>\n",
              "  <tbody>\n",
              "    <tr>\n",
              "      <th>id</th>\n",
              "      <td>1.000000</td>\n",
              "      <td>-0.022739</td>\n",
              "      <td>0.001181</td>\n",
              "      <td>0.016783</td>\n",
              "      <td>-0.007897</td>\n",
              "      <td>-0.025301</td>\n",
              "      <td>0.005104</td>\n",
              "      <td>-0.010693</td>\n",
              "      <td>-0.003908</td>\n",
              "      <td>0.024120</td>\n",
              "      <td>-0.015051</td>\n",
              "      <td>-0.004903</td>\n",
              "      <td>0.026569</td>\n",
              "      <td>0.007532</td>\n",
              "      <td>-0.007698</td>\n",
              "      <td>-0.024002</td>\n",
              "      <td>-0.011472</td>\n",
              "      <td>-0.134000</td>\n",
              "      <td>0.088279</td>\n",
              "      <td>0.011578</td>\n",
              "    </tr>\n",
              "    <tr>\n",
              "      <th>price</th>\n",
              "      <td>-0.022739</td>\n",
              "      <td>1.000000</td>\n",
              "      <td>0.305626</td>\n",
              "      <td>0.258460</td>\n",
              "      <td>0.266807</td>\n",
              "      <td>0.035738</td>\n",
              "      <td>0.672325</td>\n",
              "      <td>0.605912</td>\n",
              "      <td>0.328029</td>\n",
              "      <td>0.053810</td>\n",
              "      <td>-0.052470</td>\n",
              "      <td>0.307886</td>\n",
              "      <td>0.017660</td>\n",
              "      <td>0.005141</td>\n",
              "      <td>-0.010281</td>\n",
              "      <td>-0.053731</td>\n",
              "      <td>0.674655</td>\n",
              "      <td>0.081224</td>\n",
              "      <td>0.105824</td>\n",
              "      <td>-0.323487</td>\n",
              "    </tr>\n",
              "    <tr>\n",
              "      <th>bedrooms</th>\n",
              "      <td>0.001181</td>\n",
              "      <td>0.305626</td>\n",
              "      <td>1.000000</td>\n",
              "      <td>0.173096</td>\n",
              "      <td>-0.013916</td>\n",
              "      <td>0.026405</td>\n",
              "      <td>0.350691</td>\n",
              "      <td>0.478500</td>\n",
              "      <td>0.297422</td>\n",
              "      <td>0.148213</td>\n",
              "      <td>-0.154664</td>\n",
              "      <td>-0.007931</td>\n",
              "      <td>0.133293</td>\n",
              "      <td>-0.007840</td>\n",
              "      <td>-0.004518</td>\n",
              "      <td>-0.148345</td>\n",
              "      <td>0.522689</td>\n",
              "      <td>0.031495</td>\n",
              "      <td>-0.003274</td>\n",
              "      <td>0.046416</td>\n",
              "    </tr>\n",
              "    <tr>\n",
              "      <th>floors</th>\n",
              "      <td>0.016783</td>\n",
              "      <td>0.258460</td>\n",
              "      <td>0.173096</td>\n",
              "      <td>1.000000</td>\n",
              "      <td>0.027262</td>\n",
              "      <td>-0.262543</td>\n",
              "      <td>0.453807</td>\n",
              "      <td>0.518583</td>\n",
              "      <td>-0.246554</td>\n",
              "      <td>0.488797</td>\n",
              "      <td>-0.053669</td>\n",
              "      <td>0.056833</td>\n",
              "      <td>0.116654</td>\n",
              "      <td>-0.010648</td>\n",
              "      <td>0.002739</td>\n",
              "      <td>-0.488994</td>\n",
              "      <td>0.324276</td>\n",
              "      <td>-0.008006</td>\n",
              "      <td>0.536185</td>\n",
              "      <td>-0.021745</td>\n",
              "    </tr>\n",
              "    <tr>\n",
              "      <th>waterfront</th>\n",
              "      <td>-0.007897</td>\n",
              "      <td>0.266807</td>\n",
              "      <td>-0.013916</td>\n",
              "      <td>0.027262</td>\n",
              "      <td>1.000000</td>\n",
              "      <td>0.021114</td>\n",
              "      <td>0.087725</td>\n",
              "      <td>0.073615</td>\n",
              "      <td>0.080811</td>\n",
              "      <td>-0.023936</td>\n",
              "      <td>0.027672</td>\n",
              "      <td>-0.015161</td>\n",
              "      <td>-0.042818</td>\n",
              "      <td>0.001327</td>\n",
              "      <td>0.004143</td>\n",
              "      <td>0.023959</td>\n",
              "      <td>0.105545</td>\n",
              "      <td>0.022359</td>\n",
              "      <td>-0.034788</td>\n",
              "      <td>-0.006083</td>\n",
              "    </tr>\n",
              "  </tbody>\n",
              "</table>\n",
              "</div>"
            ],
            "text/plain": [
              "                  id     price  bedrooms    floors  waterfront  condition  \\\n",
              "id          1.000000 -0.022739  0.001181  0.016783   -0.007897  -0.025301   \n",
              "price      -0.022739  1.000000  0.305626  0.258460    0.266807   0.035738   \n",
              "bedrooms    0.001181  0.305626  1.000000  0.173096   -0.013916   0.026405   \n",
              "floors      0.016783  0.258460  0.173096  1.000000    0.027262  -0.262543   \n",
              "waterfront -0.007897  0.266807 -0.013916  0.027262    1.000000   0.021114   \n",
              "\n",
              "               grade  sqft_above  sqft_basement  yr_built   zipcode       lat  \\\n",
              "id          0.005104   -0.010693      -0.003908  0.024120 -0.015051 -0.004903   \n",
              "price       0.672325    0.605912       0.328029  0.053810 -0.052470  0.307886   \n",
              "bedrooms    0.350691    0.478500       0.297422  0.148213 -0.154664 -0.007931   \n",
              "floors      0.453807    0.518583      -0.246554  0.488797 -0.053669  0.056833   \n",
              "waterfront  0.087725    0.073615       0.080811 -0.023936  0.027672 -0.015161   \n",
              "\n",
              "                long   yr_sell    m_sell  Age_of_Home  sqft_living_sell  \\\n",
              "id          0.026569  0.007532 -0.007698    -0.024002         -0.011472   \n",
              "price       0.017660  0.005141 -0.010281    -0.053731          0.674655   \n",
              "bedrooms    0.133293 -0.007840 -0.004518    -0.148345          0.522689   \n",
              "floors      0.116654 -0.010648  0.002739    -0.488994          0.324276   \n",
              "waterfront -0.042818  0.001327  0.004143     0.023959          0.105545   \n",
              "\n",
              "            sqft_lot_sell  Percentage_used  Distance  \n",
              "id              -0.134000         0.088279  0.011578  \n",
              "price            0.081224         0.105824 -0.323487  \n",
              "bedrooms         0.031495        -0.003274  0.046416  \n",
              "floors          -0.008006         0.536185 -0.021745  \n",
              "waterfront       0.022359        -0.034788 -0.006083  "
            ]
          },
          "metadata": {
            "tags": []
          },
          "execution_count": 21
        }
      ]
    },
    {
      "cell_type": "code",
      "metadata": {
        "id": "890i8V40bDLV",
        "outputId": "682ae161-2d3a-4fd4-a7ee-d4f8f5b7e839"
      },
      "source": [
        "plt.matshow(df.corr())"
      ],
      "execution_count": null,
      "outputs": [
        {
          "output_type": "execute_result",
          "data": {
            "text/plain": [
              "<matplotlib.image.AxesImage at 0x7f6ecd58f240>"
            ]
          },
          "metadata": {
            "tags": []
          },
          "execution_count": 22
        },
        {
          "output_type": "display_data",
          "data": {
            "image/png": "[encoded data removed]",
            "text/plain": [
              "<Figure size 288x288 with 1 Axes>"
            ]
          },
          "metadata": {
            "tags": [],
            "needs_background": "light"
          }
        }
      ]
    },
    {
      "cell_type": "code",
      "metadata": {
        "id": "b6tpHN1ybDLV",
        "outputId": "5075568f-750a-4cec-8fe2-7f768c4a233e"
      },
      "source": [
        "d={}\n",
        "for i in range(1,13,1):\n",
        "    d[i]=df[df['m_sell']==i].shape[0]\n",
        "print(d)\n",
        "#month wise distribution of house sold\n",
        "#seattle has snowfall in nov,dec,jan,feb\n",
        "#m_sell here has one to 12 values which represents an ordinal variable. \n",
        "#In future we can have Onehotencoding"
      ],
      "execution_count": null,
      "outputs": [
        {
          "output_type": "stream",
          "text": [
            "{1: 769, 2: 967, 3: 1476, 4: 1736, 5: 1895, 6: 1747, 7: 1802, 8: 1563, 9: 1439, 10: 1522, 11: 1117, 12: 1168}\n"
          ],
          "name": "stdout"
        }
      ]
    },
    {
      "cell_type": "code",
      "metadata": {
        "id": "FnPyWYsobDLW",
        "outputId": "e1198384-d2d4-4a25-9c1e-92f00bf2523b"
      },
      "source": [
        "plt.scatter(df['condition'], df['grade'])"
      ],
      "execution_count": null,
      "outputs": [
        {
          "output_type": "execute_result",
          "data": {
            "text/plain": [
              "<matplotlib.collections.PathCollection at 0x7f6ecd512940>"
            ]
          },
          "metadata": {
            "tags": []
          },
          "execution_count": 24
        },
        {
          "output_type": "display_data",
          "data": {
            "image/png": "[encoded data removed]",
            "text/plain": [
              "<Figure size 432x288 with 1 Axes>"
            ]
          },
          "metadata": {
            "tags": [],
            "needs_background": "light"
          }
        }
      ]
    },
    {
      "cell_type": "code",
      "metadata": {
        "id": "5Xw52E1ObDLX",
        "outputId": "3076261c-5c88-4ba2-83e7-15fa4676b2d2"
      },
      "source": [
        "df.corr()['price'].sort_values(ascending=False)"
      ],
      "execution_count": null,
      "outputs": [
        {
          "output_type": "execute_result",
          "data": {
            "text/plain": [
              "price               1.000000\n",
              "sqft_living_sell    0.674655\n",
              "grade               0.672325\n",
              "sqft_above          0.605912\n",
              "sqft_basement       0.328029\n",
              "lat                 0.307886\n",
              "bedrooms            0.305626\n",
              "waterfront          0.266807\n",
              "floors              0.258460\n",
              "Percentage_used     0.105824\n",
              "sqft_lot_sell       0.081224\n",
              "yr_built            0.053810\n",
              "condition           0.035738\n",
              "long                0.017660\n",
              "yr_sell             0.005141\n",
              "m_sell             -0.010281\n",
              "id                 -0.022739\n",
              "zipcode            -0.052470\n",
              "Age_of_Home        -0.053731\n",
              "Distance           -0.323487\n",
              "Name: price, dtype: float64"
            ]
          },
          "metadata": {
            "tags": []
          },
          "execution_count": 25
        }
      ]
    },
    {
      "cell_type": "code",
      "metadata": {
        "id": "jyrWBK2nbDLX"
      },
      "source": [
        "#so we should to take some particular features accordingg to correaltion\n",
        "#So we see max and min and generally "
      ],
      "execution_count": null,
      "outputs": []
    },
    {
      "cell_type": "code",
      "metadata": {
        "id": "_zfSKvTVbDLY",
        "outputId": "393fce03-58c7-4bd8-8bc3-22f3dc0f7e93"
      },
      "source": [
        "plt.scatter(df['grade'], df['log_price'])"
      ],
      "execution_count": null,
      "outputs": [
        {
          "output_type": "execute_result",
          "data": {
            "text/plain": [
              "<matplotlib.collections.PathCollection at 0x7f7df1596ac8>"
            ]
          },
          "metadata": {
            "tags": []
          },
          "execution_count": 30
        },
        {
          "output_type": "display_data",
          "data": {
            "image/png": "[encoded data removed]",
            "text/plain": [
              "<Figure size 432x288 with 1 Axes>"
            ]
          },
          "metadata": {
            "tags": [],
            "needs_background": "light"
          }
        }
      ]
    },
    {
      "cell_type": "code",
      "metadata": {
        "id": "lGDmFvIxbDLY",
        "outputId": "98bf7035-bc12-4272-8e89-5373a3afabd7"
      },
      "source": [
        "plt.scatter(df['waterfront'], df['log_price'])"
      ],
      "execution_count": null,
      "outputs": [
        {
          "output_type": "execute_result",
          "data": {
            "text/plain": [
              "<matplotlib.collections.PathCollection at 0x7f7df15bfda0>"
            ]
          },
          "metadata": {
            "tags": []
          },
          "execution_count": 29
        },
        {
          "output_type": "display_data",
          "data": {
            "image/png": "[encoded data removed]",
            "text/plain": [
              "<Figure size 432x288 with 1 Axes>"
            ]
          },
          "metadata": {
            "tags": [],
            "needs_background": "light"
          }
        }
      ]
    },
    {
      "cell_type": "code",
      "metadata": {
        "id": "aEsOVPEWbDLb",
        "outputId": "7d8d8f6f-ac63-472d-b2fd-4d835761cb46"
      },
      "source": [
        "plt.scatter(df['sqft_living_sell'], df['log_price'])"
      ],
      "execution_count": null,
      "outputs": [
        {
          "output_type": "execute_result",
          "data": {
            "text/plain": [
              "<matplotlib.collections.PathCollection at 0x7f7df1652d30>"
            ]
          },
          "metadata": {
            "tags": []
          },
          "execution_count": 28
        },
        {
          "output_type": "display_data",
          "data": {
            "image/png": "[encoded data removed]",
            "text/plain": [
              "<Figure size 432x288 with 1 Axes>"
            ]
          },
          "metadata": {
            "tags": [],
            "needs_background": "light"
          }
        }
      ]
    },
    {
      "cell_type": "code",
      "metadata": {
        "id": "qkYIrHCkbDLb",
        "outputId": "0539e9aa-ec27-42a5-b17f-d8019ad1c181"
      },
      "source": [
        "df['log_price'].hist()"
      ],
      "execution_count": null,
      "outputs": [
        {
          "output_type": "execute_result",
          "data": {
            "text/plain": [
              "<matplotlib.axes._subplots.AxesSubplot at 0x7f7df1839c88>"
            ]
          },
          "metadata": {
            "tags": []
          },
          "execution_count": 27
        },
        {
          "output_type": "display_data",
          "data": {
            "image/png": "[encoded data removed]",
            "text/plain": [
              "<Figure size 432x288 with 1 Axes>"
            ]
          },
          "metadata": {
            "tags": [],
            "needs_background": "light"
          }
        }
      ]
    },
    {
      "cell_type": "code",
      "metadata": {
        "id": "wgUWQyX-bDLc",
        "outputId": "3cde3585-5b84-427c-d385-a87072c83fbf"
      },
      "source": [
        "df['sqft_living_sell'].hist()"
      ],
      "execution_count": null,
      "outputs": [
        {
          "output_type": "execute_result",
          "data": {
            "text/plain": [
              "<matplotlib.axes._subplots.AxesSubplot at 0x7f7df15b0eb8>"
            ]
          },
          "metadata": {
            "tags": []
          },
          "execution_count": 32
        },
        {
          "output_type": "display_data",
          "data": {
            "image/png": "[encoded data removed]",
            "text/plain": [
              "<Figure size 432x288 with 1 Axes>"
            ]
          },
          "metadata": {
            "tags": [],
            "needs_background": "light"
          }
        }
      ]
    },
    {
      "cell_type": "code",
      "metadata": {
        "id": "_0lYoI6tbDLc",
        "outputId": "6c128d80-dc4e-4659-ab43-16471dbb5471"
      },
      "source": [
        "df[df['sqft_living_sell'] < 5000]['sqft_living_sell'].hist()"
      ],
      "execution_count": null,
      "outputs": [
        {
          "output_type": "execute_result",
          "data": {
            "text/plain": [
              "<matplotlib.axes._subplots.AxesSubplot at 0x7f7df156acc0>"
            ]
          },
          "metadata": {
            "tags": []
          },
          "execution_count": 33
        },
        {
          "output_type": "display_data",
          "data": {
            "image/png": "[encoded data removed]",
            "text/plain": [
              "<Figure size 432x288 with 1 Axes>"
            ]
          },
          "metadata": {
            "tags": [],
            "needs_background": "light"
          }
        }
      ]
    },
    {
      "cell_type": "code",
      "metadata": {
        "id": "PsDNXm0vbDLc",
        "outputId": "fbb7bff2-e6b9-4ef6-b7fc-7c01840871ec"
      },
      "source": [
        "df[df['sqft_living_sell'] < 5000]['log_price'].hist()"
      ],
      "execution_count": null,
      "outputs": [
        {
          "output_type": "execute_result",
          "data": {
            "text/plain": [
              "<matplotlib.axes._subplots.AxesSubplot at 0x7f7df153c6d8>"
            ]
          },
          "metadata": {
            "tags": []
          },
          "execution_count": 34
        },
        {
          "output_type": "display_data",
          "data": {
            "image/png": "[encoded data removed]",
            "text/plain": [
              "<Figure size 432x288 with 1 Axes>"
            ]
          },
          "metadata": {
            "tags": [],
            "needs_background": "light"
          }
        }
      ]
    },
    {
      "cell_type": "code",
      "metadata": {
        "id": "99OjwGSQbDLd",
        "outputId": "eaa46676-49aa-478f-a535-6eecd233c5a9"
      },
      "source": [
        "df[df['sqft_living_sell']>=5000].shape[0]"
      ],
      "execution_count": null,
      "outputs": [
        {
          "output_type": "execute_result",
          "data": {
            "text/plain": [
              "132"
            ]
          },
          "metadata": {
            "tags": []
          },
          "execution_count": 35
        }
      ]
    },
    {
      "cell_type": "markdown",
      "metadata": {
        "id": "rtXeV-wlbDLd"
      },
      "source": [
        "Removing Outliers based on sqft_living"
      ]
    },
    {
      "cell_type": "code",
      "metadata": {
        "id": "gyCc9GZrbDLd"
      },
      "source": [
        "df1 = df[df['sqft_living_sell']<=4000]"
      ],
      "execution_count": null,
      "outputs": []
    },
    {
      "cell_type": "code",
      "metadata": {
        "id": "i4B7WbISbDLe",
        "outputId": "cf8255b4-f5de-4266-e054-4c72bbffb1d1"
      },
      "source": [
        "df1.corr()['log_price'].sort_values(ascending=False)"
      ],
      "execution_count": null,
      "outputs": [
        {
          "output_type": "execute_result",
          "data": {
            "text/plain": [
              "log_price           1.000000\n",
              "grade               0.661264\n",
              "sqft_living_sell    0.622141\n",
              "sqft_above          0.540870\n",
              "lat                 0.470397\n",
              "bedrooms            0.304119\n",
              "floors              0.288814\n",
              "sqft_basement       0.271819\n",
              "Percentage_used     0.179906\n",
              "waterfront          0.151937\n",
              "sqft_lot_sell       0.071137\n",
              "yr_built            0.054492\n",
              "condition           0.044673\n",
              "yr_sell             0.031770\n",
              "long                0.030444\n",
              "id                  0.004213\n",
              "zipcode            -0.011053\n",
              "m_sell             -0.034434\n",
              "Age_of_Home        -0.053995\n",
              "Distance           -0.422821\n",
              "Name: log_price, dtype: float64"
            ]
          },
          "metadata": {
            "tags": []
          },
          "execution_count": 37
        }
      ]
    },
    {
      "cell_type": "code",
      "metadata": {
        "id": "WDm0brWhbDLe",
        "outputId": "74782fa6-0c7b-4728-f1e5-69d6082be66d"
      },
      "source": [
        "df['Distance'].hist()"
      ],
      "execution_count": null,
      "outputs": [
        {
          "output_type": "execute_result",
          "data": {
            "text/plain": [
              "<matplotlib.axes._subplots.AxesSubplot at 0x7f7df13fcc18>"
            ]
          },
          "metadata": {
            "tags": []
          },
          "execution_count": 38
        },
        {
          "output_type": "display_data",
          "data": {
            "image/png": "[encoded data removed]",
            "text/plain": [
              "<Figure size 432x288 with 1 Axes>"
            ]
          },
          "metadata": {
            "tags": [],
            "needs_background": "light"
          }
        }
      ]
    },
    {
      "cell_type": "code",
      "metadata": {
        "id": "ZRLB4ag3bDLe",
        "outputId": "6885983d-c193-45f1-c9d9-b55a219c0d71"
      },
      "source": [
        "df2 = df[df['Distance']<=40]\n",
        "df2.corr()['price'].sort_values(ascending=False)"
      ],
      "execution_count": null,
      "outputs": [
        {
          "output_type": "error",
          "ename": "KeyError",
          "evalue": "'price'",
          "traceback": [
            "\u001b[0;31m---------------------------------------------------------------------------\u001b[0m",
            "\u001b[0;31mKeyError\u001b[0m                                  Traceback (most recent call last)",
            "\u001b[0;32m~/anaconda3/lib/python3.7/site-packages/pandas/core/indexes/base.py\u001b[0m in \u001b[0;36mget_loc\u001b[0;34m(self, key, method, tolerance)\u001b[0m\n\u001b[1;32m   2656\u001b[0m             \u001b[0;32mtry\u001b[0m\u001b[0;34m:\u001b[0m\u001b[0;34m\u001b[0m\u001b[0;34m\u001b[0m\u001b[0m\n\u001b[0;32m-> 2657\u001b[0;31m                 \u001b[0;32mreturn\u001b[0m \u001b[0mself\u001b[0m\u001b[0;34m.\u001b[0m\u001b[0m_engine\u001b[0m\u001b[0;34m.\u001b[0m\u001b[0mget_loc\u001b[0m\u001b[0;34m(\u001b[0m\u001b[0mkey\u001b[0m\u001b[0;34m)\u001b[0m\u001b[0;34m\u001b[0m\u001b[0;34m\u001b[0m\u001b[0m\n\u001b[0m\u001b[1;32m   2658\u001b[0m             \u001b[0;32mexcept\u001b[0m \u001b[0mKeyError\u001b[0m\u001b[0;34m:\u001b[0m\u001b[0;34m\u001b[0m\u001b[0;34m\u001b[0m\u001b[0m\n",
            "\u001b[0;32mpandas/_libs/index.pyx\u001b[0m in \u001b[0;36mpandas._libs.index.IndexEngine.get_loc\u001b[0;34m()\u001b[0m\n",
            "\u001b[0;32mpandas/_libs/index.pyx\u001b[0m in \u001b[0;36mpandas._libs.index.IndexEngine.get_loc\u001b[0;34m()\u001b[0m\n",
            "\u001b[0;32mpandas/_libs/hashtable_class_helper.pxi\u001b[0m in \u001b[0;36mpandas._libs.hashtable.PyObjectHashTable.get_item\u001b[0;34m()\u001b[0m\n",
            "\u001b[0;32mpandas/_libs/hashtable_class_helper.pxi\u001b[0m in \u001b[0;36mpandas._libs.hashtable.PyObjectHashTable.get_item\u001b[0;34m()\u001b[0m\n",
            "\u001b[0;31mKeyError\u001b[0m: 'price'",
            "\nDuring handling of the above exception, another exception occurred:\n",
            "\u001b[0;31mKeyError\u001b[0m                                  Traceback (most recent call last)",
            "\u001b[0;32m<ipython-input-40-7beee6ae1526>\u001b[0m in \u001b[0;36m<module>\u001b[0;34m\u001b[0m\n\u001b[1;32m      1\u001b[0m \u001b[0mdf2\u001b[0m \u001b[0;34m=\u001b[0m \u001b[0mdf\u001b[0m\u001b[0;34m[\u001b[0m\u001b[0mdf\u001b[0m\u001b[0;34m[\u001b[0m\u001b[0;34m'Distance'\u001b[0m\u001b[0;34m]\u001b[0m\u001b[0;34m<=\u001b[0m\u001b[0;36m40\u001b[0m\u001b[0;34m]\u001b[0m\u001b[0;34m\u001b[0m\u001b[0;34m\u001b[0m\u001b[0m\n\u001b[0;32m----> 2\u001b[0;31m \u001b[0mdf2\u001b[0m\u001b[0;34m.\u001b[0m\u001b[0mcorr\u001b[0m\u001b[0;34m(\u001b[0m\u001b[0;34m)\u001b[0m\u001b[0;34m[\u001b[0m\u001b[0;34m'price'\u001b[0m\u001b[0;34m]\u001b[0m\u001b[0;34m.\u001b[0m\u001b[0msort_values\u001b[0m\u001b[0;34m(\u001b[0m\u001b[0mascending\u001b[0m\u001b[0;34m=\u001b[0m\u001b[0;32mFalse\u001b[0m\u001b[0;34m)\u001b[0m\u001b[0;34m\u001b[0m\u001b[0;34m\u001b[0m\u001b[0m\n\u001b[0m",
            "\u001b[0;32m~/anaconda3/lib/python3.7/site-packages/pandas/core/frame.py\u001b[0m in \u001b[0;36m__getitem__\u001b[0;34m(self, key)\u001b[0m\n\u001b[1;32m   2925\u001b[0m             \u001b[0;32mif\u001b[0m \u001b[0mself\u001b[0m\u001b[0;34m.\u001b[0m\u001b[0mcolumns\u001b[0m\u001b[0;34m.\u001b[0m\u001b[0mnlevels\u001b[0m \u001b[0;34m>\u001b[0m \u001b[0;36m1\u001b[0m\u001b[0;34m:\u001b[0m\u001b[0;34m\u001b[0m\u001b[0;34m\u001b[0m\u001b[0m\n\u001b[1;32m   2926\u001b[0m                 \u001b[0;32mreturn\u001b[0m \u001b[0mself\u001b[0m\u001b[0;34m.\u001b[0m\u001b[0m_getitem_multilevel\u001b[0m\u001b[0;34m(\u001b[0m\u001b[0mkey\u001b[0m\u001b[0;34m)\u001b[0m\u001b[0;34m\u001b[0m\u001b[0;34m\u001b[0m\u001b[0m\n\u001b[0;32m-> 2927\u001b[0;31m             \u001b[0mindexer\u001b[0m \u001b[0;34m=\u001b[0m \u001b[0mself\u001b[0m\u001b[0;34m.\u001b[0m\u001b[0mcolumns\u001b[0m\u001b[0;34m.\u001b[0m\u001b[0mget_loc\u001b[0m\u001b[0;34m(\u001b[0m\u001b[0mkey\u001b[0m\u001b[0;34m)\u001b[0m\u001b[0;34m\u001b[0m\u001b[0;34m\u001b[0m\u001b[0m\n\u001b[0m\u001b[1;32m   2928\u001b[0m             \u001b[0;32mif\u001b[0m \u001b[0mis_integer\u001b[0m\u001b[0;34m(\u001b[0m\u001b[0mindexer\u001b[0m\u001b[0;34m)\u001b[0m\u001b[0;34m:\u001b[0m\u001b[0;34m\u001b[0m\u001b[0;34m\u001b[0m\u001b[0m\n\u001b[1;32m   2929\u001b[0m                 \u001b[0mindexer\u001b[0m \u001b[0;34m=\u001b[0m \u001b[0;34m[\u001b[0m\u001b[0mindexer\u001b[0m\u001b[0;34m]\u001b[0m\u001b[0;34m\u001b[0m\u001b[0;34m\u001b[0m\u001b[0m\n",
            "\u001b[0;32m~/anaconda3/lib/python3.7/site-packages/pandas/core/indexes/base.py\u001b[0m in \u001b[0;36mget_loc\u001b[0;34m(self, key, method, tolerance)\u001b[0m\n\u001b[1;32m   2657\u001b[0m                 \u001b[0;32mreturn\u001b[0m \u001b[0mself\u001b[0m\u001b[0;34m.\u001b[0m\u001b[0m_engine\u001b[0m\u001b[0;34m.\u001b[0m\u001b[0mget_loc\u001b[0m\u001b[0;34m(\u001b[0m\u001b[0mkey\u001b[0m\u001b[0;34m)\u001b[0m\u001b[0;34m\u001b[0m\u001b[0;34m\u001b[0m\u001b[0m\n\u001b[1;32m   2658\u001b[0m             \u001b[0;32mexcept\u001b[0m \u001b[0mKeyError\u001b[0m\u001b[0;34m:\u001b[0m\u001b[0;34m\u001b[0m\u001b[0;34m\u001b[0m\u001b[0m\n\u001b[0;32m-> 2659\u001b[0;31m                 \u001b[0;32mreturn\u001b[0m \u001b[0mself\u001b[0m\u001b[0;34m.\u001b[0m\u001b[0m_engine\u001b[0m\u001b[0;34m.\u001b[0m\u001b[0mget_loc\u001b[0m\u001b[0;34m(\u001b[0m\u001b[0mself\u001b[0m\u001b[0;34m.\u001b[0m\u001b[0m_maybe_cast_indexer\u001b[0m\u001b[0;34m(\u001b[0m\u001b[0mkey\u001b[0m\u001b[0;34m)\u001b[0m\u001b[0;34m)\u001b[0m\u001b[0;34m\u001b[0m\u001b[0;34m\u001b[0m\u001b[0m\n\u001b[0m\u001b[1;32m   2660\u001b[0m         \u001b[0mindexer\u001b[0m \u001b[0;34m=\u001b[0m \u001b[0mself\u001b[0m\u001b[0;34m.\u001b[0m\u001b[0mget_indexer\u001b[0m\u001b[0;34m(\u001b[0m\u001b[0;34m[\u001b[0m\u001b[0mkey\u001b[0m\u001b[0;34m]\u001b[0m\u001b[0;34m,\u001b[0m \u001b[0mmethod\u001b[0m\u001b[0;34m=\u001b[0m\u001b[0mmethod\u001b[0m\u001b[0;34m,\u001b[0m \u001b[0mtolerance\u001b[0m\u001b[0;34m=\u001b[0m\u001b[0mtolerance\u001b[0m\u001b[0;34m)\u001b[0m\u001b[0;34m\u001b[0m\u001b[0;34m\u001b[0m\u001b[0m\n\u001b[1;32m   2661\u001b[0m         \u001b[0;32mif\u001b[0m \u001b[0mindexer\u001b[0m\u001b[0;34m.\u001b[0m\u001b[0mndim\u001b[0m \u001b[0;34m>\u001b[0m \u001b[0;36m1\u001b[0m \u001b[0;32mor\u001b[0m \u001b[0mindexer\u001b[0m\u001b[0;34m.\u001b[0m\u001b[0msize\u001b[0m \u001b[0;34m>\u001b[0m \u001b[0;36m1\u001b[0m\u001b[0;34m:\u001b[0m\u001b[0;34m\u001b[0m\u001b[0;34m\u001b[0m\u001b[0m\n",
            "\u001b[0;32mpandas/_libs/index.pyx\u001b[0m in \u001b[0;36mpandas._libs.index.IndexEngine.get_loc\u001b[0;34m()\u001b[0m\n",
            "\u001b[0;32mpandas/_libs/index.pyx\u001b[0m in \u001b[0;36mpandas._libs.index.IndexEngine.get_loc\u001b[0;34m()\u001b[0m\n",
            "\u001b[0;32mpandas/_libs/hashtable_class_helper.pxi\u001b[0m in \u001b[0;36mpandas._libs.hashtable.PyObjectHashTable.get_item\u001b[0;34m()\u001b[0m\n",
            "\u001b[0;32mpandas/_libs/hashtable_class_helper.pxi\u001b[0m in \u001b[0;36mpandas._libs.hashtable.PyObjectHashTable.get_item\u001b[0;34m()\u001b[0m\n",
            "\u001b[0;31mKeyError\u001b[0m: 'price'"
          ]
        }
      ]
    },
    {
      "cell_type": "code",
      "metadata": {
        "id": "cXXRyJWibDLf"
      },
      "source": [
        ""
      ],
      "execution_count": null,
      "outputs": []
    },
    {
      "cell_type": "code",
      "metadata": {
        "id": "Mjm8wDNwbDLf"
      },
      "source": [
        ""
      ],
      "execution_count": null,
      "outputs": []
    },
    {
      "cell_type": "code",
      "metadata": {
        "id": "ySOoeNecbDLf"
      },
      "source": [
        ""
      ],
      "execution_count": null,
      "outputs": []
    },
    {
      "cell_type": "code",
      "metadata": {
        "id": "h3Houj-_bDLf"
      },
      "source": [
        "# We tried to remove the outliers but there is no significant change"
      ],
      "execution_count": null,
      "outputs": []
    },
    {
      "cell_type": "code",
      "metadata": {
        "id": "de-qUSYTbDLg"
      },
      "source": [
        "import matplotlib.pyplot as plt\n",
        "import numpy as np\n",
        "from sklearn import linear_model\n",
        "from sklearn.metrics import mean_squared_error"
      ],
      "execution_count": null,
      "outputs": []
    },
    {
      "cell_type": "code",
      "metadata": {
        "id": "ZUkGHEzSbDLg"
      },
      "source": [
        "#First Approach\n",
        "#Regression on most correlated features with price\n",
        "#1(a)abs value of corr > 0.5\n",
        "#1(b)abs value of corr > 0.3\n",
        "#1(c)All columns except id,date,zipcode,lat,long"
      ],
      "execution_count": null,
      "outputs": []
    },
    {
      "cell_type": "markdown",
      "metadata": {
        "id": "A237vq0pbDLg"
      },
      "source": [
        "#1(a)"
      ]
    },
    {
      "cell_type": "code",
      "metadata": {
        "id": "rPrp-7wwbDLh",
        "outputId": "19787d0f-bf40-40c5-cc15-5b968c2cce65"
      },
      "source": [
        "df_1a=df[['price','sqft_living_sell','grade','sqft_above']]\n",
        "df_1a.head()"
      ],
      "execution_count": null,
      "outputs": [
        {
          "output_type": "execute_result",
          "data": {
            "text/html": [
              "<div>\n",
              "<style scoped>\n",
              "    .dataframe tbody tr th:only-of-type {\n",
              "        vertical-align: middle;\n",
              "    }\n",
              "\n",
              "    .dataframe tbody tr th {\n",
              "        vertical-align: top;\n",
              "    }\n",
              "\n",
              "    .dataframe thead th {\n",
              "        text-align: right;\n",
              "    }\n",
              "</style>\n",
              "<table border=\"1\" class=\"dataframe\">\n",
              "  <thead>\n",
              "    <tr style=\"text-align: right;\">\n",
              "      <th></th>\n",
              "      <th>price</th>\n",
              "      <th>sqft_living_sell</th>\n",
              "      <th>grade</th>\n",
              "      <th>sqft_above</th>\n",
              "    </tr>\n",
              "  </thead>\n",
              "  <tbody>\n",
              "    <tr>\n",
              "      <th>0</th>\n",
              "      <td>700000</td>\n",
              "      <td>2420.0</td>\n",
              "      <td>7</td>\n",
              "      <td>2420</td>\n",
              "    </tr>\n",
              "    <tr>\n",
              "      <th>1</th>\n",
              "      <td>1230000</td>\n",
              "      <td>2440.0</td>\n",
              "      <td>11</td>\n",
              "      <td>1910</td>\n",
              "    </tr>\n",
              "    <tr>\n",
              "      <th>3</th>\n",
              "      <td>770000</td>\n",
              "      <td>3680.0</td>\n",
              "      <td>9</td>\n",
              "      <td>2670</td>\n",
              "    </tr>\n",
              "    <tr>\n",
              "      <th>4</th>\n",
              "      <td>1480000</td>\n",
              "      <td>3700.0</td>\n",
              "      <td>11</td>\n",
              "      <td>2280</td>\n",
              "    </tr>\n",
              "    <tr>\n",
              "      <th>5</th>\n",
              "      <td>785000</td>\n",
              "      <td>3010.0</td>\n",
              "      <td>9</td>\n",
              "      <td>3010</td>\n",
              "    </tr>\n",
              "  </tbody>\n",
              "</table>\n",
              "</div>"
            ],
            "text/plain": [
              "     price  sqft_living_sell  grade  sqft_above\n",
              "0   700000            2420.0      7        2420\n",
              "1  1230000            2440.0     11        1910\n",
              "3   770000            3680.0      9        2670\n",
              "4  1480000            3700.0     11        2280\n",
              "5   785000            3010.0      9        3010"
            ]
          },
          "metadata": {
            "tags": []
          },
          "execution_count": 37
        }
      ]
    },
    {
      "cell_type": "code",
      "metadata": {
        "id": "9QI9LLGtbDLh"
      },
      "source": [
        "X=df_1a.iloc[:,1:]\n",
        "Y=df_1a.iloc[:,0:1]"
      ],
      "execution_count": null,
      "outputs": []
    },
    {
      "cell_type": "code",
      "metadata": {
        "id": "y3QRZgO-bDLh"
      },
      "source": [
        "from sklearn.model_selection import\\\n",
        "train_test_split\n",
        "# Split Training and Testing Data\n",
        "X_train,X_test,Y_train,Y_test = \\\n",
        "train_test_split(X,Y,test_size = 0.25,\\\n",
        "                 random_state=1)"
      ],
      "execution_count": null,
      "outputs": []
    },
    {
      "cell_type": "code",
      "metadata": {
        "id": "iE_rr61ubDLi"
      },
      "source": [
        "regr = linear_model.LinearRegression()"
      ],
      "execution_count": null,
      "outputs": []
    },
    {
      "cell_type": "code",
      "metadata": {
        "id": "ez3hjt1dbDLi",
        "outputId": "1afce926-a62f-48d0-b91b-9ebd62b89e86"
      },
      "source": [
        "regr.fit(X_train,Y_train)"
      ],
      "execution_count": null,
      "outputs": [
        {
          "output_type": "execute_result",
          "data": {
            "text/plain": [
              "LinearRegression(copy_X=True, fit_intercept=True, n_jobs=None, normalize=False)"
            ]
          },
          "metadata": {
            "tags": []
          },
          "execution_count": 41
        }
      ]
    },
    {
      "cell_type": "code",
      "metadata": {
        "id": "bgft0ToEbDLi"
      },
      "source": [
        "Y_pred = regr.predict(X_test)"
      ],
      "execution_count": null,
      "outputs": []
    },
    {
      "cell_type": "code",
      "metadata": {
        "id": "y6w_YDtcbDLi",
        "outputId": "b8a054f0-2821-47c8-b182-74908979f16d"
      },
      "source": [
        "Y_pred.shape"
      ],
      "execution_count": null,
      "outputs": [
        {
          "output_type": "execute_result",
          "data": {
            "text/plain": [
              "(4301, 1)"
            ]
          },
          "metadata": {
            "tags": []
          },
          "execution_count": 43
        }
      ]
    },
    {
      "cell_type": "code",
      "metadata": {
        "id": "3JBf5ChZbDLj",
        "outputId": "2c02a8cf-afb3-45b9-803f-42d72b503908"
      },
      "source": [
        "print('Coefficients: \\n', regr.coef_)\n",
        "mse=mean_squared_error(Y_test, Y_pred)\n",
        "print('Mean Squared Error',mse)\n",
        "print('Root Mean Square Error',mse**0.5)"
      ],
      "execution_count": null,
      "outputs": [
        {
          "output_type": "stream",
          "text": [
            "Coefficients: \n",
            " [[ 1.77774217e+02  1.21851514e+05 -1.26371459e+01]]\n",
            "Mean Squared Error 58432120093.578705\n",
            "Root Mean Square Error 241727.36728301723\n"
          ],
          "name": "stdout"
        }
      ]
    },
    {
      "cell_type": "code",
      "metadata": {
        "id": "rzNZkh8mbDLj"
      },
      "source": [
        ""
      ],
      "execution_count": null,
      "outputs": []
    },
    {
      "cell_type": "code",
      "metadata": {
        "id": "FYJ5vcq6bDLj"
      },
      "source": [
        ""
      ],
      "execution_count": null,
      "outputs": []
    },
    {
      "cell_type": "code",
      "metadata": {
        "id": "_T3QhZZubDLj"
      },
      "source": [
        "#1(b)"
      ],
      "execution_count": null,
      "outputs": []
    },
    {
      "cell_type": "code",
      "metadata": {
        "id": "8cw7aMpdbDLk",
        "outputId": "5d99006a-0c62-4f30-f884-d002c51fa245"
      },
      "source": [
        "df_1b=df[['price','sqft_living_sell','grade','sqft_above','sqft_basement','bedrooms','Distance']]\n",
        "df_1b.head()"
      ],
      "execution_count": null,
      "outputs": [
        {
          "output_type": "execute_result",
          "data": {
            "text/html": [
              "<div>\n",
              "<style scoped>\n",
              "    .dataframe tbody tr th:only-of-type {\n",
              "        vertical-align: middle;\n",
              "    }\n",
              "\n",
              "    .dataframe tbody tr th {\n",
              "        vertical-align: top;\n",
              "    }\n",
              "\n",
              "    .dataframe thead th {\n",
              "        text-align: right;\n",
              "    }\n",
              "</style>\n",
              "<table border=\"1\" class=\"dataframe\">\n",
              "  <thead>\n",
              "    <tr style=\"text-align: right;\">\n",
              "      <th></th>\n",
              "      <th>price</th>\n",
              "      <th>sqft_living_sell</th>\n",
              "      <th>grade</th>\n",
              "      <th>sqft_above</th>\n",
              "      <th>sqft_basement</th>\n",
              "      <th>bedrooms</th>\n",
              "      <th>Distance</th>\n",
              "    </tr>\n",
              "  </thead>\n",
              "  <tbody>\n",
              "    <tr>\n",
              "      <th>0</th>\n",
              "      <td>700000</td>\n",
              "      <td>2420.0</td>\n",
              "      <td>7</td>\n",
              "      <td>2420</td>\n",
              "      <td>0</td>\n",
              "      <td>4</td>\n",
              "      <td>1.859672</td>\n",
              "    </tr>\n",
              "    <tr>\n",
              "      <th>1</th>\n",
              "      <td>1230000</td>\n",
              "      <td>2440.0</td>\n",
              "      <td>11</td>\n",
              "      <td>1910</td>\n",
              "      <td>560</td>\n",
              "      <td>2</td>\n",
              "      <td>1.531285</td>\n",
              "    </tr>\n",
              "    <tr>\n",
              "      <th>3</th>\n",
              "      <td>770000</td>\n",
              "      <td>3680.0</td>\n",
              "      <td>9</td>\n",
              "      <td>2670</td>\n",
              "      <td>1010</td>\n",
              "      <td>4</td>\n",
              "      <td>1.681926</td>\n",
              "    </tr>\n",
              "    <tr>\n",
              "      <th>4</th>\n",
              "      <td>1480000</td>\n",
              "      <td>3700.0</td>\n",
              "      <td>11</td>\n",
              "      <td>2280</td>\n",
              "      <td>1420</td>\n",
              "      <td>3</td>\n",
              "      <td>9.683869</td>\n",
              "    </tr>\n",
              "    <tr>\n",
              "      <th>5</th>\n",
              "      <td>785000</td>\n",
              "      <td>3010.0</td>\n",
              "      <td>9</td>\n",
              "      <td>3010</td>\n",
              "      <td>0</td>\n",
              "      <td>3</td>\n",
              "      <td>25.202130</td>\n",
              "    </tr>\n",
              "  </tbody>\n",
              "</table>\n",
              "</div>"
            ],
            "text/plain": [
              "     price  sqft_living_sell  grade  sqft_above  sqft_basement  bedrooms  \\\n",
              "0   700000            2420.0      7        2420              0         4   \n",
              "1  1230000            2440.0     11        1910            560         2   \n",
              "3   770000            3680.0      9        2670           1010         4   \n",
              "4  1480000            3700.0     11        2280           1420         3   \n",
              "5   785000            3010.0      9        3010              0         3   \n",
              "\n",
              "    Distance  \n",
              "0   1.859672  \n",
              "1   1.531285  \n",
              "3   1.681926  \n",
              "4   9.683869  \n",
              "5  25.202130  "
            ]
          },
          "metadata": {
            "tags": []
          },
          "execution_count": 45
        }
      ]
    },
    {
      "cell_type": "code",
      "metadata": {
        "id": "NEe0DQFcbDLk"
      },
      "source": [
        "X=df_1b.iloc[:,1:]\n",
        "Y=df_1b.iloc[:,0:1]"
      ],
      "execution_count": null,
      "outputs": []
    },
    {
      "cell_type": "code",
      "metadata": {
        "id": "XrPvEwzybDLk"
      },
      "source": [
        "from sklearn.model_selection import\\\n",
        "train_test_split\n",
        "# Split Training and Testing Data\n",
        "X_train,X_test,Y_train,Y_test = \\\n",
        "train_test_split(X,Y,test_size = 0.25,\\\n",
        "                 random_state=1)"
      ],
      "execution_count": null,
      "outputs": []
    },
    {
      "cell_type": "code",
      "metadata": {
        "id": "5KGVv88XbDLk"
      },
      "source": [
        "regr = linear_model.LinearRegression()"
      ],
      "execution_count": null,
      "outputs": []
    },
    {
      "cell_type": "code",
      "metadata": {
        "id": "bgsOjXd0bDLl",
        "outputId": "26b14e37-95f8-4c5c-9ad8-5a7866ce4280"
      },
      "source": [
        "regr.fit(X_train,Y_train)"
      ],
      "execution_count": null,
      "outputs": [
        {
          "output_type": "execute_result",
          "data": {
            "text/plain": [
              "LinearRegression(copy_X=True, fit_intercept=True, n_jobs=None, normalize=False)"
            ]
          },
          "metadata": {
            "tags": []
          },
          "execution_count": 49
        }
      ]
    },
    {
      "cell_type": "code",
      "metadata": {
        "id": "zfhTMcpQbDLl"
      },
      "source": [
        "Y_pred = regr.predict(X_test)"
      ],
      "execution_count": null,
      "outputs": []
    },
    {
      "cell_type": "code",
      "metadata": {
        "id": "ULEkIB2WbDLl",
        "outputId": "8e048761-cc2d-4249-8bc8-4c2f24240c11"
      },
      "source": [
        "Y_pred.shape"
      ],
      "execution_count": null,
      "outputs": [
        {
          "output_type": "execute_result",
          "data": {
            "text/plain": [
              "(4301, 1)"
            ]
          },
          "metadata": {
            "tags": []
          },
          "execution_count": 51
        }
      ]
    },
    {
      "cell_type": "code",
      "metadata": {
        "id": "6GRkKY0hbDLl",
        "outputId": "5df940cd-73a0-4d3c-8eb8-6ce1aca2d7f5"
      },
      "source": [
        "print('Coefficients: \\n', regr.coef_)\n",
        "mse=mean_squared_error(Y_test, Y_pred)\n",
        "print('Mean Squared Error',mse)\n",
        "print('Root Mean Square Error',mse**0.5)"
      ],
      "execution_count": null,
      "outputs": [
        {
          "output_type": "stream",
          "text": [
            "Coefficients: \n",
            " [[ 3.29479607e+01  7.26549474e+04  2.17850373e+02  2.09794782e+02\n",
            "  -4.21583608e+04 -1.10852004e+04]]\n",
            "Mean Squared Error 41676208923.64903\n",
            "Root Mean Square Error 204147.51755446117\n"
          ],
          "name": "stdout"
        }
      ]
    },
    {
      "cell_type": "code",
      "metadata": {
        "id": "tAAMzo4pbDLm"
      },
      "source": [
        "#1(c)"
      ],
      "execution_count": null,
      "outputs": []
    },
    {
      "cell_type": "code",
      "metadata": {
        "id": "PWy_CPmtbDLm"
      },
      "source": [
        "df_1c=df.drop(['zipcode','lat','long','id','date','m_sell','yr_sell'],axis=1)"
      ],
      "execution_count": null,
      "outputs": []
    },
    {
      "cell_type": "code",
      "metadata": {
        "id": "UQAfAeR1bDLm"
      },
      "source": [
        "X=df_1c.iloc[:,1:]\n",
        "Y=df_1c.iloc[:,0:1]"
      ],
      "execution_count": null,
      "outputs": []
    },
    {
      "cell_type": "code",
      "metadata": {
        "id": "mOvltT_jbDLm"
      },
      "source": [
        "from sklearn.model_selection import\\\n",
        "train_test_split\n",
        "# Split Training and Testing Data\n",
        "X_train,X_test,Y_train,Y_test = \\\n",
        "train_test_split(X,Y,test_size = 0.25,\\\n",
        "                 random_state=1)"
      ],
      "execution_count": null,
      "outputs": []
    },
    {
      "cell_type": "code",
      "metadata": {
        "id": "OQ9hUSVsbDLn"
      },
      "source": [
        "regr = linear_model.LinearRegression()"
      ],
      "execution_count": null,
      "outputs": []
    },
    {
      "cell_type": "code",
      "metadata": {
        "scrolled": false,
        "id": "Wu21B1ExbDLn",
        "outputId": "f29067b7-76ee-400c-f2ad-ddf6345db8ba"
      },
      "source": [
        "regr.fit(X_train,Y_train)"
      ],
      "execution_count": null,
      "outputs": [
        {
          "output_type": "execute_result",
          "data": {
            "text/plain": [
              "LinearRegression(copy_X=True, fit_intercept=True, n_jobs=None, normalize=False)"
            ]
          },
          "metadata": {
            "tags": []
          },
          "execution_count": 58
        }
      ]
    },
    {
      "cell_type": "code",
      "metadata": {
        "id": "JzswrggEbDLn"
      },
      "source": [
        "Y_pred = regr.predict(X_test)"
      ],
      "execution_count": null,
      "outputs": []
    },
    {
      "cell_type": "code",
      "metadata": {
        "id": "4bq6EEu1bDLn",
        "outputId": "cb8d63f2-02ee-48eb-a823-2d971a083bbf"
      },
      "source": [
        "Y_pred.shape"
      ],
      "execution_count": null,
      "outputs": [
        {
          "output_type": "execute_result",
          "data": {
            "text/plain": [
              "(4301, 1)"
            ]
          },
          "metadata": {
            "tags": []
          },
          "execution_count": 60
        }
      ]
    },
    {
      "cell_type": "code",
      "metadata": {
        "id": "qVX98_NzbDLs",
        "outputId": "75d63dd1-2472-4630-cf41-c2c6af51a636"
      },
      "source": [
        "print('Coefficients: \\n', regr.coef_)\n",
        "mse=mean_squared_error(Y_test, Y_pred)\n",
        "print('Mean Squared Error',mse)\n",
        "print('Root Mean Square Error',mse**0.5)"
      ],
      "execution_count": null,
      "outputs": [
        {
          "output_type": "stream",
          "text": [
            "Coefficients: \n",
            " [[-3.43677781e+04 -1.78067771e+04  7.11116041e+05  3.57826409e+04\n",
            "   9.44793656e+04  2.10056300e+02  1.61551150e+02  3.52722791e+04\n",
            "   3.65612495e+04  3.33912496e+01  1.92707350e-01 -1.68171799e+02\n",
            "  -1.03132779e+04]]\n",
            "Mean Squared Error 34381404385.67273\n",
            "Root Mean Square Error 185422.23271677195\n"
          ],
          "name": "stdout"
        }
      ]
    },
    {
      "cell_type": "code",
      "metadata": {
        "id": "O4IPSiszbDLs"
      },
      "source": [
        "df_1d=df_1c"
      ],
      "execution_count": null,
      "outputs": []
    },
    {
      "cell_type": "code",
      "metadata": {
        "id": "aMGdx10bbDLt"
      },
      "source": [
        "X=df_1d.iloc[:,1:]\n",
        "Y=df_1d.iloc[:,0:1]"
      ],
      "execution_count": null,
      "outputs": []
    },
    {
      "cell_type": "code",
      "metadata": {
        "id": "9UYAhyG7bDLt"
      },
      "source": [
        "from sklearn.model_selection import train_test_split\n",
        "# Split Training and Testing Data\n",
        "X_train,X_test,Y_train,Y_test = train_test_split(X,Y,test_size = 0.25,random_state=1)"
      ],
      "execution_count": null,
      "outputs": []
    },
    {
      "cell_type": "code",
      "metadata": {
        "id": "NBS0w3o0bDLt"
      },
      "source": [
        "from sklearn.feature_selection import RFE\n",
        "regr = linear_model.LinearRegression()"
      ],
      "execution_count": null,
      "outputs": []
    },
    {
      "cell_type": "code",
      "metadata": {
        "id": "xrSH5K0lbDLu"
      },
      "source": [
        "rfe = RFE(estimator=regr,n_features_to_select=(X_train.shape[1]-1))"
      ],
      "execution_count": null,
      "outputs": []
    },
    {
      "cell_type": "code",
      "metadata": {
        "id": "Ho3UYKRhbDLu"
      },
      "source": [
        "Y_train = np.array(Y_train)"
      ],
      "execution_count": null,
      "outputs": []
    },
    {
      "cell_type": "code",
      "metadata": {
        "id": "Pv0PUKWJbDLu",
        "outputId": "b9983987-6227-41d9-dd0a-964eb3284be7"
      },
      "source": [
        "model = rfe.fit(X_train, Y_train)"
      ],
      "execution_count": null,
      "outputs": [
        {
          "output_type": "stream",
          "text": [
            "/home/shantanu/anaconda3/lib/python3.7/site-packages/sklearn/utils/validation.py:724: DataConversionWarning: A column-vector y was passed when a 1d array was expected. Please change the shape of y to (n_samples, ), for example using ravel().\n",
            "  y = column_or_1d(y, warn=True)\n"
          ],
          "name": "stderr"
        }
      ]
    },
    {
      "cell_type": "code",
      "metadata": {
        "id": "l1Y86e5NbDLv",
        "outputId": "a80f5aaa-203c-4b38-d398-1db47cb505ec"
      },
      "source": [
        "rfe.n_features_"
      ],
      "execution_count": null,
      "outputs": [
        {
          "output_type": "execute_result",
          "data": {
            "text/plain": [
              "12"
            ]
          },
          "metadata": {
            "tags": []
          },
          "execution_count": 123
        }
      ]
    },
    {
      "cell_type": "code",
      "metadata": {
        "id": "bMu5Ufr5bDLw",
        "outputId": "768efbe9-9aa6-4a66-dbaf-2a1676ad0f8e"
      },
      "source": [
        "rfe.ranking_"
      ],
      "execution_count": null,
      "outputs": [
        {
          "output_type": "execute_result",
          "data": {
            "text/plain": [
              "array([1, 1, 1, 1, 1, 1, 1, 1, 1, 1, 2, 1, 1])"
            ]
          },
          "metadata": {
            "tags": []
          },
          "execution_count": 124
        }
      ]
    },
    {
      "cell_type": "code",
      "metadata": {
        "id": "VUa0ITC6bDLx",
        "outputId": "4c1b013d-1b70-4d84-f9ce-340869e12fcb"
      },
      "source": [
        "rfe.support_"
      ],
      "execution_count": null,
      "outputs": [
        {
          "output_type": "execute_result",
          "data": {
            "text/plain": [
              "array([ True,  True,  True,  True,  True,  True,  True,  True,  True,\n",
              "        True, False,  True,  True])"
            ]
          },
          "metadata": {
            "tags": []
          },
          "execution_count": 125
        }
      ]
    },
    {
      "cell_type": "code",
      "metadata": {
        "id": "7PzC8md6bDLx",
        "outputId": "05cfe2d3-7338-4af5-fa8e-ec6806e0a5d5"
      },
      "source": [
        "X.shape"
      ],
      "execution_count": null,
      "outputs": [
        {
          "output_type": "execute_result",
          "data": {
            "text/plain": [
              "(17201, 13)"
            ]
          },
          "metadata": {
            "tags": []
          },
          "execution_count": 126
        }
      ]
    },
    {
      "cell_type": "code",
      "metadata": {
        "id": "bnzcb_MxbDLy",
        "outputId": "19a32fe7-e9c7-4667-ac6a-140776e10ecd"
      },
      "source": [
        "X.columns"
      ],
      "execution_count": null,
      "outputs": [
        {
          "output_type": "execute_result",
          "data": {
            "text/plain": [
              "Index(['bedrooms', 'floors', 'waterfront', 'condition', 'grade', 'sqft_above',\n",
              "       'sqft_basement', 'yr_built', 'Age_of_Home', 'sqft_living_sell',\n",
              "       'sqft_lot_sell', 'Percentage_used', 'Distance'],\n",
              "      dtype='object')"
            ]
          },
          "metadata": {
            "tags": []
          },
          "execution_count": 127
        }
      ]
    },
    {
      "cell_type": "code",
      "metadata": {
        "id": "in-tJh5BbDLy",
        "outputId": "6ec100ad-eb81-45cb-ca8f-9288db299200"
      },
      "source": [
        "X_train.columns[rfe.support_]"
      ],
      "execution_count": null,
      "outputs": [
        {
          "output_type": "execute_result",
          "data": {
            "text/plain": [
              "Index(['bedrooms', 'floors', 'waterfront', 'condition', 'grade', 'sqft_above',\n",
              "       'sqft_basement', 'yr_built', 'Age_of_Home', 'sqft_living_sell',\n",
              "       'Percentage_used', 'Distance'],\n",
              "      dtype='object')"
            ]
          },
          "metadata": {
            "tags": []
          },
          "execution_count": 128
        }
      ]
    },
    {
      "cell_type": "code",
      "metadata": {
        "id": "ZEAmP_J0bDLz",
        "outputId": "936b0e56-957e-4086-c688-9e6222861302"
      },
      "source": [
        "df_1d=df[['price','bedrooms', 'floors', 'waterfront', 'condition', 'grade', 'sqft_above',\n",
        "       'sqft_basement', 'yr_built', 'Age_of_Home', 'sqft_living_sell',\n",
        "       'Percentage_used', 'Distance']]\n",
        "df_1d.head()"
      ],
      "execution_count": null,
      "outputs": [
        {
          "output_type": "execute_result",
          "data": {
            "text/html": [
              "<div>\n",
              "<style scoped>\n",
              "    .dataframe tbody tr th:only-of-type {\n",
              "        vertical-align: middle;\n",
              "    }\n",
              "\n",
              "    .dataframe tbody tr th {\n",
              "        vertical-align: top;\n",
              "    }\n",
              "\n",
              "    .dataframe thead th {\n",
              "        text-align: right;\n",
              "    }\n",
              "</style>\n",
              "<table border=\"1\" class=\"dataframe\">\n",
              "  <thead>\n",
              "    <tr style=\"text-align: right;\">\n",
              "      <th></th>\n",
              "      <th>price</th>\n",
              "      <th>bedrooms</th>\n",
              "      <th>floors</th>\n",
              "      <th>waterfront</th>\n",
              "      <th>condition</th>\n",
              "      <th>grade</th>\n",
              "      <th>sqft_above</th>\n",
              "      <th>sqft_basement</th>\n",
              "      <th>yr_built</th>\n",
              "      <th>Age_of_Home</th>\n",
              "      <th>sqft_living_sell</th>\n",
              "      <th>Percentage_used</th>\n",
              "      <th>Distance</th>\n",
              "    </tr>\n",
              "  </thead>\n",
              "  <tbody>\n",
              "    <tr>\n",
              "      <th>0</th>\n",
              "      <td>700000</td>\n",
              "      <td>4</td>\n",
              "      <td>1.5</td>\n",
              "      <td>0</td>\n",
              "      <td>3</td>\n",
              "      <td>7</td>\n",
              "      <td>2420</td>\n",
              "      <td>0</td>\n",
              "      <td>1900</td>\n",
              "      <td>114</td>\n",
              "      <td>2420.0</td>\n",
              "      <td>465.384615</td>\n",
              "      <td>1.859672</td>\n",
              "    </tr>\n",
              "    <tr>\n",
              "      <th>1</th>\n",
              "      <td>1230000</td>\n",
              "      <td>2</td>\n",
              "      <td>3.0</td>\n",
              "      <td>0</td>\n",
              "      <td>3</td>\n",
              "      <td>11</td>\n",
              "      <td>1910</td>\n",
              "      <td>560</td>\n",
              "      <td>2011</td>\n",
              "      <td>4</td>\n",
              "      <td>2440.0</td>\n",
              "      <td>198.535395</td>\n",
              "      <td>1.531285</td>\n",
              "    </tr>\n",
              "    <tr>\n",
              "      <th>3</th>\n",
              "      <td>770000</td>\n",
              "      <td>4</td>\n",
              "      <td>2.5</td>\n",
              "      <td>0</td>\n",
              "      <td>3</td>\n",
              "      <td>9</td>\n",
              "      <td>2670</td>\n",
              "      <td>1010</td>\n",
              "      <td>1930</td>\n",
              "      <td>84</td>\n",
              "      <td>3680.0</td>\n",
              "      <td>164.139161</td>\n",
              "      <td>1.681926</td>\n",
              "    </tr>\n",
              "    <tr>\n",
              "      <th>4</th>\n",
              "      <td>1480000</td>\n",
              "      <td>3</td>\n",
              "      <td>2.0</td>\n",
              "      <td>0</td>\n",
              "      <td>3</td>\n",
              "      <td>11</td>\n",
              "      <td>2280</td>\n",
              "      <td>1420</td>\n",
              "      <td>1998</td>\n",
              "      <td>16</td>\n",
              "      <td>3700.0</td>\n",
              "      <td>163.427562</td>\n",
              "      <td>9.683869</td>\n",
              "    </tr>\n",
              "    <tr>\n",
              "      <th>5</th>\n",
              "      <td>785000</td>\n",
              "      <td>3</td>\n",
              "      <td>2.0</td>\n",
              "      <td>0</td>\n",
              "      <td>3</td>\n",
              "      <td>9</td>\n",
              "      <td>3010</td>\n",
              "      <td>0</td>\n",
              "      <td>2011</td>\n",
              "      <td>3</td>\n",
              "      <td>3010.0</td>\n",
              "      <td>163.409338</td>\n",
              "      <td>25.202130</td>\n",
              "    </tr>\n",
              "  </tbody>\n",
              "</table>\n",
              "</div>"
            ],
            "text/plain": [
              "     price  bedrooms  floors  waterfront  condition  grade  sqft_above  \\\n",
              "0   700000         4     1.5           0          3      7        2420   \n",
              "1  1230000         2     3.0           0          3     11        1910   \n",
              "3   770000         4     2.5           0          3      9        2670   \n",
              "4  1480000         3     2.0           0          3     11        2280   \n",
              "5   785000         3     2.0           0          3      9        3010   \n",
              "\n",
              "   sqft_basement  yr_built  Age_of_Home  sqft_living_sell  Percentage_used  \\\n",
              "0              0      1900          114            2420.0       465.384615   \n",
              "1            560      2011            4            2440.0       198.535395   \n",
              "3           1010      1930           84            3680.0       164.139161   \n",
              "4           1420      1998           16            3700.0       163.427562   \n",
              "5              0      2011            3            3010.0       163.409338   \n",
              "\n",
              "    Distance  \n",
              "0   1.859672  \n",
              "1   1.531285  \n",
              "3   1.681926  \n",
              "4   9.683869  \n",
              "5  25.202130  "
            ]
          },
          "metadata": {
            "tags": []
          },
          "execution_count": 129
        }
      ]
    },
    {
      "cell_type": "code",
      "metadata": {
        "id": "A7kfYQnQbDL0"
      },
      "source": [
        "X=df_1d.iloc[:,1:]\n",
        "Y=df_1d.iloc[:,0:1]"
      ],
      "execution_count": null,
      "outputs": []
    },
    {
      "cell_type": "code",
      "metadata": {
        "id": "FgQX09M5bDL0"
      },
      "source": [
        "from sklearn.model_selection import train_test_split\n",
        "# Split Training and Testing Data\n",
        "X_train,X_test,Y_train,Y_test = train_test_split(X,Y,test_size = 0.25,random_state=1)"
      ],
      "execution_count": null,
      "outputs": []
    },
    {
      "cell_type": "code",
      "metadata": {
        "id": "iCdtgv42bDL0"
      },
      "source": [
        "from sklearn.feature_selection import RFE\n",
        "regr = linear_model.LinearRegression()"
      ],
      "execution_count": null,
      "outputs": []
    },
    {
      "cell_type": "code",
      "metadata": {
        "id": "cL-x5G3gbDL0",
        "outputId": "4d437763-915f-4ad6-ecb8-9cf9c159c3d3"
      },
      "source": [
        "regr.fit(X_train,Y_train)"
      ],
      "execution_count": null,
      "outputs": [
        {
          "output_type": "execute_result",
          "data": {
            "text/plain": [
              "LinearRegression(copy_X=True, fit_intercept=True, n_jobs=None, normalize=False)"
            ]
          },
          "metadata": {
            "tags": []
          },
          "execution_count": 133
        }
      ]
    },
    {
      "cell_type": "code",
      "metadata": {
        "id": "kwRxzKNUbDL1"
      },
      "source": [
        "Y_pred = regr.predict(X_test)"
      ],
      "execution_count": null,
      "outputs": []
    },
    {
      "cell_type": "code",
      "metadata": {
        "id": "qN5AALb1bDL1",
        "outputId": "d20faf79-d625-4a8b-cc89-e5a43c74b391"
      },
      "source": [
        "Y_pred.shape"
      ],
      "execution_count": null,
      "outputs": [
        {
          "output_type": "execute_result",
          "data": {
            "text/plain": [
              "(4301, 1)"
            ]
          },
          "metadata": {
            "tags": []
          },
          "execution_count": 135
        }
      ]
    },
    {
      "cell_type": "code",
      "metadata": {
        "id": "EIXrHW9xbDL1",
        "outputId": "df94d3d3-e74c-4350-cf46-b69c04afffcd"
      },
      "source": [
        "print('Coefficients: \\n', regr.coef_)\n",
        "mse=mean_squared_error(Y_test, Y_pred)\n",
        "print('Mean Squared Error',mse)\n",
        "print('Root Mean Square Error',mse**0.5)"
      ],
      "execution_count": null,
      "outputs": [
        {
          "output_type": "stream",
          "text": [
            "Coefficients: \n",
            " [[-3.52844526e+04 -1.61187104e+04  7.09467305e+05  3.56562537e+04\n",
            "   9.44381671e+04  2.10746217e+02  1.63034775e+02  3.48015051e+04\n",
            "   3.60982137e+04  3.43689250e+01 -2.47736034e+02 -1.02152245e+04]]\n",
            "Mean Squared Error 34464719218.50502\n",
            "Root Mean Square Error 185646.75924589962\n"
          ],
          "name": "stdout"
        }
      ]
    },
    {
      "cell_type": "code",
      "metadata": {
        "id": "uA4i07R1bDL2"
      },
      "source": [
        "#Second Approach\n",
        "#We will find out principle components using known variables\n",
        "#2(a)Principle component analysis\n",
        "#2(b)Indepent component analysis"
      ],
      "execution_count": null,
      "outputs": []
    },
    {
      "cell_type": "code",
      "metadata": {
        "id": "U66aULmLbDL2"
      },
      "source": [
        "a=2\n",
        "print(a)"
      ],
      "execution_count": null,
      "outputs": []
    },
    {
      "cell_type": "code",
      "metadata": {
        "id": "uWD_tNxWbDL2"
      },
      "source": [
        ""
      ],
      "execution_count": null,
      "outputs": []
    },
    {
      "cell_type": "code",
      "metadata": {
        "id": "bSMJx3YRbDL2"
      },
      "source": [
        ""
      ],
      "execution_count": null,
      "outputs": []
    },
    {
      "cell_type": "code",
      "metadata": {
        "id": "unVEWyggbDL2"
      },
      "source": [
        ""
      ],
      "execution_count": null,
      "outputs": []
    },
    {
      "cell_type": "code",
      "metadata": {
        "id": "j3UPC8NFbDL3"
      },
      "source": [
        ""
      ],
      "execution_count": null,
      "outputs": []
    }
  ]
}