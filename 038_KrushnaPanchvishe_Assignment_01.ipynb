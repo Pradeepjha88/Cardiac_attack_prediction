{
  "nbformat": 4,
  "nbformat_minor": 0,
  "metadata": {
    "colab": {
      "name": "038_KrushnaPanchvishe_Assignment_01.ipynb",
      "provenance": [],
      "collapsed_sections": [],
      "include_colab_link": true
    },
    "kernelspec": {
      "name": "python3",
      "display_name": "Python 3"
    },
    "language_info": {
      "name": "python"
    }
  },
  "cells": [
    {
      "cell_type": "markdown",
      "metadata": {
        "id": "view-in-github",
        "colab_type": "text"
      },
      "source": [
        "<a href=\"https://colab.research.google.com/github/Pradeepjha88/Cardiac_attack_prediction/blob/master/038_KrushnaPanchvishe_Assignment_01.ipynb\" target=\"_parent\"><img src=\"https://colab.research.google.com/assets/colab-badge.svg\" alt=\"Open In Colab\"/></a>"
      ]
    },
    {
      "cell_type": "code",
      "metadata": {
        "id": "fuLPQMVTrCbo"
      },
      "source": [
        "import pandas as pd\n",
        "df = pd.read_csv(\"/content/train_XnW6LSF.csv\")"
      ],
      "execution_count": null,
      "outputs": []
    },
    {
      "cell_type": "markdown",
      "metadata": {
        "id": "NoKj0vgNr3_l"
      },
      "source": [
        "Q1. Find all statistics using describe function on following\n",
        "\n",
        "A. Records of every item:: describe various statistics about every item type record\n",
        "\n",
        "B. Records of every Outlet_Location_Type:: describe various statistics about every Outlet_Location_Type  record\n",
        "\n",
        "Q2. Analyze location type wise Dairy prodcuct sales\n",
        "\n",
        "Q3. Which outlets are oldest ? arrange outlets as per their age of establishment.\n",
        "\n",
        "Q4. Which high size outlets outlets are having minimum low fat / LF products? Is there any small size outlet close to such these values of stocks for low fat / LF?\n",
        "\n",
        "Q5. Find the items which have MRP higher then 200 and count how many of them are low fat / LF , reg fat / reg\n",
        "\n",
        "\n",
        "Q6. Find the outlets with highest sales in Tier 2. Also find similar outlets in Tier 3 locations ?\n",
        "# New Section"
      ]
    },
    {
      "cell_type": "code",
      "metadata": {
        "colab": {
          "base_uri": "https://localhost:8080/",
          "height": 309
        },
        "id": "dT3DWBtIsAH3",
        "outputId": "598827cf-b7ac-4758-fa06-f8890fce7db0"
      },
      "source": [
        "df.head()"
      ],
      "execution_count": null,
      "outputs": [
        {
          "output_type": "execute_result",
          "data": {
            "text/html": [
              "<div>\n",
              "<style scoped>\n",
              "    .dataframe tbody tr th:only-of-type {\n",
              "        vertical-align: middle;\n",
              "    }\n",
              "\n",
              "    .dataframe tbody tr th {\n",
              "        vertical-align: top;\n",
              "    }\n",
              "\n",
              "    .dataframe thead th {\n",
              "        text-align: right;\n",
              "    }\n",
              "</style>\n",
              "<table border=\"1\" class=\"dataframe\">\n",
              "  <thead>\n",
              "    <tr style=\"text-align: right;\">\n",
              "      <th></th>\n",
              "      <th>Item_Identifier</th>\n",
              "      <th>Item_Weight</th>\n",
              "      <th>Item_Fat_Content</th>\n",
              "      <th>Item_Visibility</th>\n",
              "      <th>Item_Type</th>\n",
              "      <th>Item_MRP</th>\n",
              "      <th>Outlet_Identifier</th>\n",
              "      <th>Outlet_Establishment_Year</th>\n",
              "      <th>Outlet_Size</th>\n",
              "      <th>Outlet_Location_Type</th>\n",
              "      <th>Outlet_Type</th>\n",
              "      <th>Item_Outlet_Sales</th>\n",
              "    </tr>\n",
              "  </thead>\n",
              "  <tbody>\n",
              "    <tr>\n",
              "      <th>0</th>\n",
              "      <td>FDA15</td>\n",
              "      <td>9.30</td>\n",
              "      <td>Low Fat</td>\n",
              "      <td>0.016047</td>\n",
              "      <td>Dairy</td>\n",
              "      <td>249.8092</td>\n",
              "      <td>OUT049</td>\n",
              "      <td>1999</td>\n",
              "      <td>Medium</td>\n",
              "      <td>Tier 1</td>\n",
              "      <td>Supermarket Type1</td>\n",
              "      <td>3735.1380</td>\n",
              "    </tr>\n",
              "    <tr>\n",
              "      <th>1</th>\n",
              "      <td>DRC01</td>\n",
              "      <td>5.92</td>\n",
              "      <td>Regular</td>\n",
              "      <td>0.019278</td>\n",
              "      <td>Soft Drinks</td>\n",
              "      <td>48.2692</td>\n",
              "      <td>OUT018</td>\n",
              "      <td>2009</td>\n",
              "      <td>Medium</td>\n",
              "      <td>Tier 3</td>\n",
              "      <td>Supermarket Type2</td>\n",
              "      <td>443.4228</td>\n",
              "    </tr>\n",
              "    <tr>\n",
              "      <th>2</th>\n",
              "      <td>FDN15</td>\n",
              "      <td>17.50</td>\n",
              "      <td>Low Fat</td>\n",
              "      <td>0.016760</td>\n",
              "      <td>Meat</td>\n",
              "      <td>141.6180</td>\n",
              "      <td>OUT049</td>\n",
              "      <td>1999</td>\n",
              "      <td>Medium</td>\n",
              "      <td>Tier 1</td>\n",
              "      <td>Supermarket Type1</td>\n",
              "      <td>2097.2700</td>\n",
              "    </tr>\n",
              "    <tr>\n",
              "      <th>3</th>\n",
              "      <td>FDX07</td>\n",
              "      <td>19.20</td>\n",
              "      <td>Regular</td>\n",
              "      <td>0.000000</td>\n",
              "      <td>Fruits and Vegetables</td>\n",
              "      <td>182.0950</td>\n",
              "      <td>OUT010</td>\n",
              "      <td>1998</td>\n",
              "      <td>NaN</td>\n",
              "      <td>Tier 3</td>\n",
              "      <td>Grocery Store</td>\n",
              "      <td>732.3800</td>\n",
              "    </tr>\n",
              "    <tr>\n",
              "      <th>4</th>\n",
              "      <td>NCD19</td>\n",
              "      <td>8.93</td>\n",
              "      <td>Low Fat</td>\n",
              "      <td>0.000000</td>\n",
              "      <td>Household</td>\n",
              "      <td>53.8614</td>\n",
              "      <td>OUT013</td>\n",
              "      <td>1987</td>\n",
              "      <td>High</td>\n",
              "      <td>Tier 3</td>\n",
              "      <td>Supermarket Type1</td>\n",
              "      <td>994.7052</td>\n",
              "    </tr>\n",
              "  </tbody>\n",
              "</table>\n",
              "</div>"
            ],
            "text/plain": [
              "  Item_Identifier  Item_Weight  ...        Outlet_Type  Item_Outlet_Sales\n",
              "0           FDA15         9.30  ...  Supermarket Type1          3735.1380\n",
              "1           DRC01         5.92  ...  Supermarket Type2           443.4228\n",
              "2           FDN15        17.50  ...  Supermarket Type1          2097.2700\n",
              "3           FDX07        19.20  ...      Grocery Store           732.3800\n",
              "4           NCD19         8.93  ...  Supermarket Type1           994.7052\n",
              "\n",
              "[5 rows x 12 columns]"
            ]
          },
          "metadata": {
            "tags": []
          },
          "execution_count": 47
        }
      ]
    },
    {
      "cell_type": "code",
      "metadata": {
        "colab": {
          "base_uri": "https://localhost:8080/"
        },
        "id": "-VJtr_OVsmf4",
        "outputId": "1519a5c1-cf48-4437-8b09-8b3f243ca11b"
      },
      "source": [
        "df.info()"
      ],
      "execution_count": null,
      "outputs": [
        {
          "output_type": "stream",
          "text": [
            "<class 'pandas.core.frame.DataFrame'>\n",
            "RangeIndex: 8523 entries, 0 to 8522\n",
            "Data columns (total 12 columns):\n",
            " #   Column                     Non-Null Count  Dtype  \n",
            "---  ------                     --------------  -----  \n",
            " 0   Item_Identifier            8523 non-null   object \n",
            " 1   Item_Weight                7060 non-null   float64\n",
            " 2   Item_Fat_Content           8523 non-null   object \n",
            " 3   Item_Visibility            8523 non-null   float64\n",
            " 4   Item_Type                  8523 non-null   object \n",
            " 5   Item_MRP                   8523 non-null   float64\n",
            " 6   Outlet_Identifier          8523 non-null   object \n",
            " 7   Outlet_Establishment_Year  8523 non-null   int64  \n",
            " 8   Outlet_Size                6113 non-null   object \n",
            " 9   Outlet_Location_Type       8523 non-null   object \n",
            " 10  Outlet_Type                8523 non-null   object \n",
            " 11  Item_Outlet_Sales          8523 non-null   float64\n",
            "dtypes: float64(4), int64(1), object(7)\n",
            "memory usage: 799.2+ KB\n"
          ],
          "name": "stdout"
        }
      ]
    },
    {
      "cell_type": "code",
      "metadata": {
        "colab": {
          "base_uri": "https://localhost:8080/"
        },
        "id": "TEE80uL3uGdY",
        "outputId": "381b9f08-d93b-49d9-bc23-b1c2762bacf4"
      },
      "source": [
        "df.isnull().sum()"
      ],
      "execution_count": null,
      "outputs": [
        {
          "output_type": "execute_result",
          "data": {
            "text/plain": [
              "Item_Identifier                 0\n",
              "Item_Weight                  1463\n",
              "Item_Fat_Content                0\n",
              "Item_Visibility                 0\n",
              "Item_Type                       0\n",
              "Item_MRP                        0\n",
              "Outlet_Identifier               0\n",
              "Outlet_Establishment_Year       0\n",
              "Outlet_Size                  2410\n",
              "Outlet_Location_Type            0\n",
              "Outlet_Type                     0\n",
              "Item_Outlet_Sales               0\n",
              "dtype: int64"
            ]
          },
          "metadata": {
            "tags": []
          },
          "execution_count": 49
        }
      ]
    },
    {
      "cell_type": "code",
      "metadata": {
        "colab": {
          "base_uri": "https://localhost:8080/"
        },
        "id": "2S7lPVLzySK0",
        "outputId": "7864d34f-d82c-4c84-dfd2-19d14324187d"
      },
      "source": [
        "#df['Item_Identifier'].describe()\n",
        "#df['Item_Weight'].describe()\n",
        "#df['Item_Fat_Content'].value_counts()\n",
        "#df['Item_Visibility'].describe()\n",
        "#df['Item_Type'].value_counts()\n",
        "#df['Item_MRP'].describe()\n",
        "df['Outlet_Identifier'].value_counts()\n",
        "#df['Outlet_Establishment_Year'].describe()\n",
        "#df['Outlet_Size'].value_counts()\n",
        "#df['Outlet_Location_Type'].value_counts()\n",
        "#df['Item_Outlet_Sales'].value_counts()\n",
        "df['Outlet_Type'].value_counts()"
      ],
      "execution_count": null,
      "outputs": [
        {
          "output_type": "execute_result",
          "data": {
            "text/plain": [
              "Supermarket Type1    5577\n",
              "Grocery Store        1083\n",
              "Supermarket Type3     935\n",
              "Supermarket Type2     928\n",
              "Name: Outlet_Type, dtype: int64"
            ]
          },
          "metadata": {
            "tags": []
          },
          "execution_count": 50
        }
      ]
    },
    {
      "cell_type": "markdown",
      "metadata": {
        "id": "RhEN5TYatWjp"
      },
      "source": [
        "#Q1. Find all statistics using describe function on following\n",
        "\n",
        "A. Records of every item:: describe various statistics about every item type record\n",
        "\n",
        "B. Records of every Outlet_Location_Type:: describe various statistics about every Outlet_Location_Type record"
      ]
    },
    {
      "cell_type": "code",
      "metadata": {
        "colab": {
          "base_uri": "https://localhost:8080/",
          "height": 576
        },
        "id": "rXE9fEQotWQ_",
        "outputId": "b1801c88-a5b9-4c51-ac45-4a64d4ad72e5"
      },
      "source": [
        "#A. Records of every item:: describe various statistics about every item type record\n",
        "#df['Item_Identifier'].describe()                  #using describe() will get count of items/unique_item_count and the item with high freq\n",
        "#df['Item_Identifier'].value_counts()              #using value_counts() will get freq of each item in ascending=False, sort=True of count \n",
        "#df.groupby(['Item_Type'])['Item_Identifier'].value_counts()\n",
        "df.groupby(['Item_Type'])['Item_Identifier'].describe()  "
      ],
      "execution_count": null,
      "outputs": [
        {
          "output_type": "execute_result",
          "data": {
            "text/html": [
              "<div>\n",
              "<style scoped>\n",
              "    .dataframe tbody tr th:only-of-type {\n",
              "        vertical-align: middle;\n",
              "    }\n",
              "\n",
              "    .dataframe tbody tr th {\n",
              "        vertical-align: top;\n",
              "    }\n",
              "\n",
              "    .dataframe thead th {\n",
              "        text-align: right;\n",
              "    }\n",
              "</style>\n",
              "<table border=\"1\" class=\"dataframe\">\n",
              "  <thead>\n",
              "    <tr style=\"text-align: right;\">\n",
              "      <th></th>\n",
              "      <th>count</th>\n",
              "      <th>unique</th>\n",
              "      <th>top</th>\n",
              "      <th>freq</th>\n",
              "    </tr>\n",
              "    <tr>\n",
              "      <th>Item_Type</th>\n",
              "      <th></th>\n",
              "      <th></th>\n",
              "      <th></th>\n",
              "      <th></th>\n",
              "    </tr>\n",
              "  </thead>\n",
              "  <tbody>\n",
              "    <tr>\n",
              "      <th>Baking Goods</th>\n",
              "      <td>648</td>\n",
              "      <td>119</td>\n",
              "      <td>FDV60</td>\n",
              "      <td>9</td>\n",
              "    </tr>\n",
              "    <tr>\n",
              "      <th>Breads</th>\n",
              "      <td>251</td>\n",
              "      <td>45</td>\n",
              "      <td>FDR23</td>\n",
              "      <td>8</td>\n",
              "    </tr>\n",
              "    <tr>\n",
              "      <th>Breakfast</th>\n",
              "      <td>110</td>\n",
              "      <td>20</td>\n",
              "      <td>FDO37</td>\n",
              "      <td>8</td>\n",
              "    </tr>\n",
              "    <tr>\n",
              "      <th>Canned</th>\n",
              "      <td>649</td>\n",
              "      <td>120</td>\n",
              "      <td>FDW13</td>\n",
              "      <td>10</td>\n",
              "    </tr>\n",
              "    <tr>\n",
              "      <th>Dairy</th>\n",
              "      <td>682</td>\n",
              "      <td>125</td>\n",
              "      <td>FDW26</td>\n",
              "      <td>9</td>\n",
              "    </tr>\n",
              "    <tr>\n",
              "      <th>Frozen Foods</th>\n",
              "      <td>856</td>\n",
              "      <td>155</td>\n",
              "      <td>FDX04</td>\n",
              "      <td>9</td>\n",
              "    </tr>\n",
              "    <tr>\n",
              "      <th>Fruits and Vegetables</th>\n",
              "      <td>1232</td>\n",
              "      <td>220</td>\n",
              "      <td>FDX20</td>\n",
              "      <td>9</td>\n",
              "    </tr>\n",
              "    <tr>\n",
              "      <th>Hard Drinks</th>\n",
              "      <td>214</td>\n",
              "      <td>40</td>\n",
              "      <td>DRN47</td>\n",
              "      <td>9</td>\n",
              "    </tr>\n",
              "    <tr>\n",
              "      <th>Health and Hygiene</th>\n",
              "      <td>520</td>\n",
              "      <td>95</td>\n",
              "      <td>NCL53</td>\n",
              "      <td>8</td>\n",
              "    </tr>\n",
              "    <tr>\n",
              "      <th>Household</th>\n",
              "      <td>910</td>\n",
              "      <td>170</td>\n",
              "      <td>NCJ30</td>\n",
              "      <td>9</td>\n",
              "    </tr>\n",
              "    <tr>\n",
              "      <th>Meat</th>\n",
              "      <td>425</td>\n",
              "      <td>80</td>\n",
              "      <td>FDY03</td>\n",
              "      <td>8</td>\n",
              "    </tr>\n",
              "    <tr>\n",
              "      <th>Others</th>\n",
              "      <td>169</td>\n",
              "      <td>30</td>\n",
              "      <td>NCL31</td>\n",
              "      <td>9</td>\n",
              "    </tr>\n",
              "    <tr>\n",
              "      <th>Seafood</th>\n",
              "      <td>64</td>\n",
              "      <td>10</td>\n",
              "      <td>FDG33</td>\n",
              "      <td>10</td>\n",
              "    </tr>\n",
              "    <tr>\n",
              "      <th>Snack Foods</th>\n",
              "      <td>1200</td>\n",
              "      <td>220</td>\n",
              "      <td>FDV09</td>\n",
              "      <td>8</td>\n",
              "    </tr>\n",
              "    <tr>\n",
              "      <th>Soft Drinks</th>\n",
              "      <td>445</td>\n",
              "      <td>80</td>\n",
              "      <td>DRE49</td>\n",
              "      <td>9</td>\n",
              "    </tr>\n",
              "    <tr>\n",
              "      <th>Starchy Foods</th>\n",
              "      <td>148</td>\n",
              "      <td>30</td>\n",
              "      <td>FDE11</td>\n",
              "      <td>8</td>\n",
              "    </tr>\n",
              "  </tbody>\n",
              "</table>\n",
              "</div>"
            ],
            "text/plain": [
              "                      count unique    top freq\n",
              "Item_Type                                     \n",
              "Baking Goods            648    119  FDV60    9\n",
              "Breads                  251     45  FDR23    8\n",
              "Breakfast               110     20  FDO37    8\n",
              "Canned                  649    120  FDW13   10\n",
              "Dairy                   682    125  FDW26    9\n",
              "Frozen Foods            856    155  FDX04    9\n",
              "Fruits and Vegetables  1232    220  FDX20    9\n",
              "Hard Drinks             214     40  DRN47    9\n",
              "Health and Hygiene      520     95  NCL53    8\n",
              "Household               910    170  NCJ30    9\n",
              "Meat                    425     80  FDY03    8\n",
              "Others                  169     30  NCL31    9\n",
              "Seafood                  64     10  FDG33   10\n",
              "Snack Foods            1200    220  FDV09    8\n",
              "Soft Drinks             445     80  DRE49    9\n",
              "Starchy Foods           148     30  FDE11    8"
            ]
          },
          "metadata": {
            "tags": []
          },
          "execution_count": 51
        }
      ]
    },
    {
      "cell_type": "code",
      "metadata": {
        "colab": {
          "base_uri": "https://localhost:8080/",
          "height": 173
        },
        "id": "2XALhC9b0Cj_",
        "outputId": "ed7de9c5-be68-4f96-f347-e11e07ec26fa"
      },
      "source": [
        "#B. Records of every Outlet_Location_Type:: describe various statistics about every Outlet_Location_Type record\n",
        "df.groupby(['Outlet_Location_Type'])['Outlet_Identifier'].describe()"
      ],
      "execution_count": null,
      "outputs": [
        {
          "output_type": "execute_result",
          "data": {
            "text/html": [
              "<div>\n",
              "<style scoped>\n",
              "    .dataframe tbody tr th:only-of-type {\n",
              "        vertical-align: middle;\n",
              "    }\n",
              "\n",
              "    .dataframe tbody tr th {\n",
              "        vertical-align: top;\n",
              "    }\n",
              "\n",
              "    .dataframe thead th {\n",
              "        text-align: right;\n",
              "    }\n",
              "</style>\n",
              "<table border=\"1\" class=\"dataframe\">\n",
              "  <thead>\n",
              "    <tr style=\"text-align: right;\">\n",
              "      <th></th>\n",
              "      <th>count</th>\n",
              "      <th>unique</th>\n",
              "      <th>top</th>\n",
              "      <th>freq</th>\n",
              "    </tr>\n",
              "    <tr>\n",
              "      <th>Outlet_Location_Type</th>\n",
              "      <th></th>\n",
              "      <th></th>\n",
              "      <th></th>\n",
              "      <th></th>\n",
              "    </tr>\n",
              "  </thead>\n",
              "  <tbody>\n",
              "    <tr>\n",
              "      <th>Tier 1</th>\n",
              "      <td>2388</td>\n",
              "      <td>3</td>\n",
              "      <td>OUT049</td>\n",
              "      <td>930</td>\n",
              "    </tr>\n",
              "    <tr>\n",
              "      <th>Tier 2</th>\n",
              "      <td>2785</td>\n",
              "      <td>3</td>\n",
              "      <td>OUT035</td>\n",
              "      <td>930</td>\n",
              "    </tr>\n",
              "    <tr>\n",
              "      <th>Tier 3</th>\n",
              "      <td>3350</td>\n",
              "      <td>4</td>\n",
              "      <td>OUT027</td>\n",
              "      <td>935</td>\n",
              "    </tr>\n",
              "  </tbody>\n",
              "</table>\n",
              "</div>"
            ],
            "text/plain": [
              "                     count unique     top freq\n",
              "Outlet_Location_Type                          \n",
              "Tier 1                2388      3  OUT049  930\n",
              "Tier 2                2785      3  OUT035  930\n",
              "Tier 3                3350      4  OUT027  935"
            ]
          },
          "metadata": {
            "tags": []
          },
          "execution_count": 52
        }
      ]
    },
    {
      "cell_type": "markdown",
      "metadata": {
        "id": "QFv_iduf2QQB"
      },
      "source": [
        "# Q2. Analyze location type wise Dairy prodcuct sales"
      ]
    },
    {
      "cell_type": "code",
      "metadata": {
        "colab": {
          "base_uri": "https://localhost:8080/",
          "height": 390
        },
        "id": "AGtjoA7nznQ3",
        "outputId": "e0e911e6-af4a-4609-c606-27ff5f0955d5"
      },
      "source": [
        "# Shows the total sum of the sales ..\n",
        "df.loc[(df['Item_Type']=='Dairy')].groupby(['Outlet_Location_Type','Outlet_Establishment_Year'])['Item_Outlet_Sales'].sum()\n",
        "#Shows the description ...\n",
        "df.loc[(df['Item_Type']=='Dairy')].groupby(['Outlet_Location_Type','Outlet_Establishment_Year'])['Item_Outlet_Sales'].describe()\n"
      ],
      "execution_count": null,
      "outputs": [
        {
          "output_type": "execute_result",
          "data": {
            "text/html": [
              "<div>\n",
              "<style scoped>\n",
              "    .dataframe tbody tr th:only-of-type {\n",
              "        vertical-align: middle;\n",
              "    }\n",
              "\n",
              "    .dataframe tbody tr th {\n",
              "        vertical-align: top;\n",
              "    }\n",
              "\n",
              "    .dataframe thead th {\n",
              "        text-align: right;\n",
              "    }\n",
              "</style>\n",
              "<table border=\"1\" class=\"dataframe\">\n",
              "  <thead>\n",
              "    <tr style=\"text-align: right;\">\n",
              "      <th></th>\n",
              "      <th></th>\n",
              "      <th>count</th>\n",
              "      <th>mean</th>\n",
              "      <th>std</th>\n",
              "      <th>min</th>\n",
              "      <th>25%</th>\n",
              "      <th>50%</th>\n",
              "      <th>75%</th>\n",
              "      <th>max</th>\n",
              "    </tr>\n",
              "    <tr>\n",
              "      <th>Outlet_Location_Type</th>\n",
              "      <th>Outlet_Establishment_Year</th>\n",
              "      <th></th>\n",
              "      <th></th>\n",
              "      <th></th>\n",
              "      <th></th>\n",
              "      <th></th>\n",
              "      <th></th>\n",
              "      <th></th>\n",
              "      <th></th>\n",
              "    </tr>\n",
              "  </thead>\n",
              "  <tbody>\n",
              "    <tr>\n",
              "      <th rowspan=\"3\" valign=\"top\">Tier 1</th>\n",
              "      <th>1985</th>\n",
              "      <td>49.0</td>\n",
              "      <td>329.475886</td>\n",
              "      <td>243.391452</td>\n",
              "      <td>40.6138</td>\n",
              "      <td>141.81540</td>\n",
              "      <td>262.9910</td>\n",
              "      <td>469.38900</td>\n",
              "      <td>975.3970</td>\n",
              "    </tr>\n",
              "    <tr>\n",
              "      <th>1997</th>\n",
              "      <td>78.0</td>\n",
              "      <td>2244.693485</td>\n",
              "      <td>1587.949681</td>\n",
              "      <td>236.3590</td>\n",
              "      <td>1031.32420</td>\n",
              "      <td>1600.9161</td>\n",
              "      <td>3275.73600</td>\n",
              "      <td>7833.8028</td>\n",
              "    </tr>\n",
              "    <tr>\n",
              "      <th>1999</th>\n",
              "      <td>78.0</td>\n",
              "      <td>2303.599713</td>\n",
              "      <td>1404.915157</td>\n",
              "      <td>243.6828</td>\n",
              "      <td>1158.49200</td>\n",
              "      <td>1953.4572</td>\n",
              "      <td>3334.65930</td>\n",
              "      <td>7646.0472</td>\n",
              "    </tr>\n",
              "    <tr>\n",
              "      <th rowspan=\"3\" valign=\"top\">Tier 2</th>\n",
              "      <th>2002</th>\n",
              "      <td>69.0</td>\n",
              "      <td>2241.304733</td>\n",
              "      <td>1660.885704</td>\n",
              "      <td>181.0976</td>\n",
              "      <td>958.75200</td>\n",
              "      <td>1606.5754</td>\n",
              "      <td>3361.62420</td>\n",
              "      <td>8323.8316</td>\n",
              "    </tr>\n",
              "    <tr>\n",
              "      <th>2004</th>\n",
              "      <td>71.0</td>\n",
              "      <td>2606.588245</td>\n",
              "      <td>1865.875971</td>\n",
              "      <td>279.6360</td>\n",
              "      <td>1203.43350</td>\n",
              "      <td>2061.3168</td>\n",
              "      <td>3793.72840</td>\n",
              "      <td>8479.6288</td>\n",
              "    </tr>\n",
              "    <tr>\n",
              "      <th>2007</th>\n",
              "      <td>74.0</td>\n",
              "      <td>2512.909146</td>\n",
              "      <td>1959.760691</td>\n",
              "      <td>438.0964</td>\n",
              "      <td>1200.10450</td>\n",
              "      <td>1912.8434</td>\n",
              "      <td>3259.09100</td>\n",
              "      <td>9664.7528</td>\n",
              "    </tr>\n",
              "    <tr>\n",
              "      <th rowspan=\"4\" valign=\"top\">Tier 3</th>\n",
              "      <th>1985</th>\n",
              "      <td>67.0</td>\n",
              "      <td>3915.182245</td>\n",
              "      <td>2426.277137</td>\n",
              "      <td>905.4880</td>\n",
              "      <td>1943.80310</td>\n",
              "      <td>3435.5280</td>\n",
              "      <td>5462.22320</td>\n",
              "      <td>10236.6750</td>\n",
              "    </tr>\n",
              "    <tr>\n",
              "      <th>1987</th>\n",
              "      <td>80.0</td>\n",
              "      <td>2453.181713</td>\n",
              "      <td>1820.130710</td>\n",
              "      <td>149.8050</td>\n",
              "      <td>1100.73385</td>\n",
              "      <td>2066.3103</td>\n",
              "      <td>3196.67225</td>\n",
              "      <td>10256.6490</td>\n",
              "    </tr>\n",
              "    <tr>\n",
              "      <th>1998</th>\n",
              "      <td>43.0</td>\n",
              "      <td>355.986228</td>\n",
              "      <td>270.394859</td>\n",
              "      <td>47.2718</td>\n",
              "      <td>171.11060</td>\n",
              "      <td>264.9884</td>\n",
              "      <td>529.31100</td>\n",
              "      <td>1314.9550</td>\n",
              "    </tr>\n",
              "    <tr>\n",
              "      <th>2009</th>\n",
              "      <td>73.0</td>\n",
              "      <td>2083.981362</td>\n",
              "      <td>1509.288944</td>\n",
              "      <td>105.8622</td>\n",
              "      <td>959.41780</td>\n",
              "      <td>1571.2880</td>\n",
              "      <td>2731.11160</td>\n",
              "      <td>6275.1650</td>\n",
              "    </tr>\n",
              "  </tbody>\n",
              "</table>\n",
              "</div>"
            ],
            "text/plain": [
              "                                                count  ...         max\n",
              "Outlet_Location_Type Outlet_Establishment_Year         ...            \n",
              "Tier 1               1985                        49.0  ...    975.3970\n",
              "                     1997                        78.0  ...   7833.8028\n",
              "                     1999                        78.0  ...   7646.0472\n",
              "Tier 2               2002                        69.0  ...   8323.8316\n",
              "                     2004                        71.0  ...   8479.6288\n",
              "                     2007                        74.0  ...   9664.7528\n",
              "Tier 3               1985                        67.0  ...  10236.6750\n",
              "                     1987                        80.0  ...  10256.6490\n",
              "                     1998                        43.0  ...   1314.9550\n",
              "                     2009                        73.0  ...   6275.1650\n",
              "\n",
              "[10 rows x 8 columns]"
            ]
          },
          "metadata": {
            "tags": []
          },
          "execution_count": 53
        }
      ]
    },
    {
      "cell_type": "markdown",
      "metadata": {
        "id": "AUFP3hUJ4dTg"
      },
      "source": [
        "# Q3. Which outlets are oldest ? arrange outlets as per their age of establishment."
      ]
    },
    {
      "cell_type": "code",
      "metadata": {
        "colab": {
          "base_uri": "https://localhost:8080/",
          "height": 609
        },
        "id": "wjFJtu1BukB9",
        "outputId": "4b29b667-e936-4312-c11a-f37b0786bd48"
      },
      "source": [
        "# First I sorted the df by 'Outlet_Establishment_Year' then put the condition for 'Outlet_Establishment_Year'==1985\n",
        "df.loc[(df['Outlet_Establishment_Year']==1985)].sort_values(['Outlet_Establishment_Year'],axis=0,ascending=True)\n"
      ],
      "execution_count": null,
      "outputs": [
        {
          "output_type": "execute_result",
          "data": {
            "text/html": [
              "<div>\n",
              "<style scoped>\n",
              "    .dataframe tbody tr th:only-of-type {\n",
              "        vertical-align: middle;\n",
              "    }\n",
              "\n",
              "    .dataframe tbody tr th {\n",
              "        vertical-align: top;\n",
              "    }\n",
              "\n",
              "    .dataframe thead th {\n",
              "        text-align: right;\n",
              "    }\n",
              "</style>\n",
              "<table border=\"1\" class=\"dataframe\">\n",
              "  <thead>\n",
              "    <tr style=\"text-align: right;\">\n",
              "      <th></th>\n",
              "      <th>Item_Identifier</th>\n",
              "      <th>Item_Weight</th>\n",
              "      <th>Item_Fat_Content</th>\n",
              "      <th>Item_Visibility</th>\n",
              "      <th>Item_Type</th>\n",
              "      <th>Item_MRP</th>\n",
              "      <th>Outlet_Identifier</th>\n",
              "      <th>Outlet_Establishment_Year</th>\n",
              "      <th>Outlet_Size</th>\n",
              "      <th>Outlet_Location_Type</th>\n",
              "      <th>Outlet_Type</th>\n",
              "      <th>Item_Outlet_Sales</th>\n",
              "    </tr>\n",
              "  </thead>\n",
              "  <tbody>\n",
              "    <tr>\n",
              "      <th>7</th>\n",
              "      <td>FDP10</td>\n",
              "      <td>NaN</td>\n",
              "      <td>Low Fat</td>\n",
              "      <td>0.127470</td>\n",
              "      <td>Snack Foods</td>\n",
              "      <td>107.7622</td>\n",
              "      <td>OUT027</td>\n",
              "      <td>1985</td>\n",
              "      <td>Medium</td>\n",
              "      <td>Tier 3</td>\n",
              "      <td>Supermarket Type3</td>\n",
              "      <td>4022.7636</td>\n",
              "    </tr>\n",
              "    <tr>\n",
              "      <th>5859</th>\n",
              "      <td>FDK51</td>\n",
              "      <td>NaN</td>\n",
              "      <td>Low Fat</td>\n",
              "      <td>0.005210</td>\n",
              "      <td>Dairy</td>\n",
              "      <td>265.2884</td>\n",
              "      <td>OUT027</td>\n",
              "      <td>1985</td>\n",
              "      <td>Medium</td>\n",
              "      <td>Tier 3</td>\n",
              "      <td>Supermarket Type3</td>\n",
              "      <td>3179.8608</td>\n",
              "    </tr>\n",
              "    <tr>\n",
              "      <th>5857</th>\n",
              "      <td>FDB04</td>\n",
              "      <td>NaN</td>\n",
              "      <td>Regular</td>\n",
              "      <td>0.062920</td>\n",
              "      <td>Dairy</td>\n",
              "      <td>88.9856</td>\n",
              "      <td>OUT027</td>\n",
              "      <td>1985</td>\n",
              "      <td>Medium</td>\n",
              "      <td>Tier 3</td>\n",
              "      <td>Supermarket Type3</td>\n",
              "      <td>3515.4240</td>\n",
              "    </tr>\n",
              "    <tr>\n",
              "      <th>5854</th>\n",
              "      <td>FDH56</td>\n",
              "      <td>NaN</td>\n",
              "      <td>Regular</td>\n",
              "      <td>0.111736</td>\n",
              "      <td>Fruits and Vegetables</td>\n",
              "      <td>115.9492</td>\n",
              "      <td>OUT019</td>\n",
              "      <td>1985</td>\n",
              "      <td>Small</td>\n",
              "      <td>Tier 1</td>\n",
              "      <td>Grocery Store</td>\n",
              "      <td>115.8492</td>\n",
              "    </tr>\n",
              "    <tr>\n",
              "      <th>5853</th>\n",
              "      <td>NCT06</td>\n",
              "      <td>NaN</td>\n",
              "      <td>Low Fat</td>\n",
              "      <td>0.067824</td>\n",
              "      <td>Household</td>\n",
              "      <td>167.7842</td>\n",
              "      <td>OUT019</td>\n",
              "      <td>1985</td>\n",
              "      <td>Small</td>\n",
              "      <td>Tier 1</td>\n",
              "      <td>Grocery Store</td>\n",
              "      <td>165.7842</td>\n",
              "    </tr>\n",
              "    <tr>\n",
              "      <th>...</th>\n",
              "      <td>...</td>\n",
              "      <td>...</td>\n",
              "      <td>...</td>\n",
              "      <td>...</td>\n",
              "      <td>...</td>\n",
              "      <td>...</td>\n",
              "      <td>...</td>\n",
              "      <td>...</td>\n",
              "      <td>...</td>\n",
              "      <td>...</td>\n",
              "      <td>...</td>\n",
              "      <td>...</td>\n",
              "    </tr>\n",
              "    <tr>\n",
              "      <th>2920</th>\n",
              "      <td>FDS09</td>\n",
              "      <td>NaN</td>\n",
              "      <td>Regular</td>\n",
              "      <td>0.080696</td>\n",
              "      <td>Snack Foods</td>\n",
              "      <td>51.3008</td>\n",
              "      <td>OUT027</td>\n",
              "      <td>1985</td>\n",
              "      <td>Medium</td>\n",
              "      <td>Tier 3</td>\n",
              "      <td>Supermarket Type3</td>\n",
              "      <td>759.0120</td>\n",
              "    </tr>\n",
              "    <tr>\n",
              "      <th>2912</th>\n",
              "      <td>FDJ14</td>\n",
              "      <td>NaN</td>\n",
              "      <td>Regular</td>\n",
              "      <td>0.000000</td>\n",
              "      <td>Canned</td>\n",
              "      <td>78.8960</td>\n",
              "      <td>OUT019</td>\n",
              "      <td>1985</td>\n",
              "      <td>Small</td>\n",
              "      <td>Tier 1</td>\n",
              "      <td>Grocery Store</td>\n",
              "      <td>399.4800</td>\n",
              "    </tr>\n",
              "    <tr>\n",
              "      <th>2901</th>\n",
              "      <td>FDV08</td>\n",
              "      <td>NaN</td>\n",
              "      <td>Low Fat</td>\n",
              "      <td>0.028456</td>\n",
              "      <td>Fruits and Vegetables</td>\n",
              "      <td>43.5454</td>\n",
              "      <td>OUT027</td>\n",
              "      <td>1985</td>\n",
              "      <td>Medium</td>\n",
              "      <td>Tier 3</td>\n",
              "      <td>Supermarket Type3</td>\n",
              "      <td>755.0172</td>\n",
              "    </tr>\n",
              "    <tr>\n",
              "      <th>2895</th>\n",
              "      <td>FDM27</td>\n",
              "      <td>NaN</td>\n",
              "      <td>Regular</td>\n",
              "      <td>0.277459</td>\n",
              "      <td>Meat</td>\n",
              "      <td>156.3946</td>\n",
              "      <td>OUT019</td>\n",
              "      <td>1985</td>\n",
              "      <td>Small</td>\n",
              "      <td>Tier 1</td>\n",
              "      <td>Grocery Store</td>\n",
              "      <td>473.3838</td>\n",
              "    </tr>\n",
              "    <tr>\n",
              "      <th>8504</th>\n",
              "      <td>NCN18</td>\n",
              "      <td>NaN</td>\n",
              "      <td>Low Fat</td>\n",
              "      <td>0.124111</td>\n",
              "      <td>Household</td>\n",
              "      <td>111.7544</td>\n",
              "      <td>OUT027</td>\n",
              "      <td>1985</td>\n",
              "      <td>Medium</td>\n",
              "      <td>Tier 3</td>\n",
              "      <td>Supermarket Type3</td>\n",
              "      <td>4138.6128</td>\n",
              "    </tr>\n",
              "  </tbody>\n",
              "</table>\n",
              "<p>1463 rows × 12 columns</p>\n",
              "</div>"
            ],
            "text/plain": [
              "     Item_Identifier  Item_Weight  ...        Outlet_Type  Item_Outlet_Sales\n",
              "7              FDP10          NaN  ...  Supermarket Type3          4022.7636\n",
              "5859           FDK51          NaN  ...  Supermarket Type3          3179.8608\n",
              "5857           FDB04          NaN  ...  Supermarket Type3          3515.4240\n",
              "5854           FDH56          NaN  ...      Grocery Store           115.8492\n",
              "5853           NCT06          NaN  ...      Grocery Store           165.7842\n",
              "...              ...          ...  ...                ...                ...\n",
              "2920           FDS09          NaN  ...  Supermarket Type3           759.0120\n",
              "2912           FDJ14          NaN  ...      Grocery Store           399.4800\n",
              "2901           FDV08          NaN  ...  Supermarket Type3           755.0172\n",
              "2895           FDM27          NaN  ...      Grocery Store           473.3838\n",
              "8504           NCN18          NaN  ...  Supermarket Type3          4138.6128\n",
              "\n",
              "[1463 rows x 12 columns]"
            ]
          },
          "metadata": {
            "tags": []
          },
          "execution_count": 54
        }
      ]
    },
    {
      "cell_type": "markdown",
      "metadata": {
        "id": "a5oSR0OM6esS"
      },
      "source": [
        "# Q4. Which high size outlets outlets are having minimum low fat / LF products? Is there any small size outlet close to such these values of stocks for low fat / LF?"
      ]
    },
    {
      "cell_type": "code",
      "metadata": {
        "colab": {
          "base_uri": "https://localhost:8080/"
        },
        "id": "DRzufZDXg325",
        "outputId": "1e540e43-f0b2-42d3-cb18-37b399d59063"
      },
      "source": [
        "df['Item_Fat_Content'].replace({'low fat':'Low Fat','LF':'Low Fat','reg':'Regular'},inplace=True)\n",
        "df_high_LF = df.loc[(df['Outlet_Size']=='High') & (df['Item_Fat_Content']=='Low Fat')]\n",
        "df_high_LF.groupby(['Outlet_Size','Outlet_Identifier'])['Item_Fat_Content'].min()   \n",
        "# their is only one high size outlet having low fat products available "
      ],
      "execution_count": null,
      "outputs": [
        {
          "output_type": "execute_result",
          "data": {
            "text/plain": [
              "Outlet_Size  Outlet_Identifier\n",
              "High         OUT013               Low Fat\n",
              "Name: Item_Fat_Content, dtype: object"
            ]
          },
          "metadata": {
            "tags": []
          },
          "execution_count": 55
        }
      ]
    },
    {
      "cell_type": "code",
      "metadata": {
        "colab": {
          "base_uri": "https://localhost:8080/"
        },
        "id": "5qeuwiILnNmQ",
        "outputId": "fb4da352-1e77-4396-e491-14a9c02d7914"
      },
      "source": [
        "df['Item_Fat_Content'].value_counts()"
      ],
      "execution_count": null,
      "outputs": [
        {
          "output_type": "execute_result",
          "data": {
            "text/plain": [
              "Low Fat    5517\n",
              "Regular    3006\n",
              "Name: Item_Fat_Content, dtype: int64"
            ]
          },
          "metadata": {
            "tags": []
          },
          "execution_count": 56
        }
      ]
    },
    {
      "cell_type": "code",
      "metadata": {
        "colab": {
          "base_uri": "https://localhost:8080/"
        },
        "id": "iYtZQ0a2oDyz",
        "outputId": "cadabf01-184d-467a-e597-ec60b9ec6fe2"
      },
      "source": [
        "# Small Size Outlet close to the high size Outlet whose is having low fat stock value close to High size Outlet\n",
        "df_small_LF = df.loc[(df['Outlet_Size']=='Small') & (df['Item_Fat_Content']=='Low Fat')]\n",
        "df_find_range = df_small_LF.groupby(['Outlet_Size','Outlet_Identifier'])['Item_Fat_Content'].value_counts()\n",
        "df_find_range.between(596,636,inclusive=True)"
      ],
      "execution_count": null,
      "outputs": [
        {
          "output_type": "execute_result",
          "data": {
            "text/plain": [
              "Outlet_Size  Outlet_Identifier  Item_Fat_Content\n",
              "Small        OUT019             Low Fat             False\n",
              "             OUT035             Low Fat              True\n",
              "             OUT046             Low Fat              True\n",
              "Name: Item_Fat_Content, dtype: bool"
            ]
          },
          "metadata": {
            "tags": []
          },
          "execution_count": 57
        }
      ]
    },
    {
      "cell_type": "markdown",
      "metadata": {
        "id": "ml7qst2NFAGn"
      },
      "source": [
        "#Q5. Find the items which have MRP higher then 200 and count how many of them are low fat / LF , reg fat / reg\n"
      ]
    },
    {
      "cell_type": "code",
      "metadata": {
        "id": "Turjx25H6a8r",
        "colab": {
          "base_uri": "https://localhost:8080/"
        },
        "outputId": "eb0c5261-affe-4163-bc97-bbd74ad5b255"
      },
      "source": [
        "df.loc[df['Item_MRP']>200].groupby(['Item_Fat_Content'])['Item_Identifier'].count()"
      ],
      "execution_count": null,
      "outputs": [
        {
          "output_type": "execute_result",
          "data": {
            "text/plain": [
              "Item_Fat_Content\n",
              "Low Fat    933\n",
              "Regular    507\n",
              "Name: Item_Identifier, dtype: int64"
            ]
          },
          "metadata": {
            "tags": []
          },
          "execution_count": 58
        }
      ]
    },
    {
      "cell_type": "markdown",
      "metadata": {
        "id": "corbhRP44K3g"
      },
      "source": [
        "#Q6. Find the outlets with highest sales in Tier 2. Also find similar outlets in Tier 3 locations ?"
      ]
    },
    {
      "cell_type": "code",
      "metadata": {
        "id": "Zqk8gceStaE6",
        "colab": {
          "base_uri": "https://localhost:8080/"
        },
        "outputId": "bb0db0dc-2cf3-4ffc-e6f6-5a150b292f6e"
      },
      "source": [
        "#df.loc[df['Outlet_Location_Type']=='Tier 2'].groupby((df['Outlet_Identifier']))['Item_Outlet_Sales'].max()\n",
        "#df.loc[df['Outlet_Location_Type']=='Tier 3'].groupby((df['Outlet_Identifier']))['Item_Outlet_Sales'].max()\n",
        "df.loc[(df['Outlet_Location_Type'].str.contains('Tier 2|Tier 3'))].groupby(['Outlet_Location_Type','Outlet_Establishment_Year','Outlet_Identifier'])['Item_Outlet_Sales'].max()\n",
        "#means the Tier 1 having max_sales in remaining years "
      ],
      "execution_count": null,
      "outputs": [
        {
          "output_type": "execute_result",
          "data": {
            "text/plain": [
              "Outlet_Location_Type  Outlet_Establishment_Year  Outlet_Identifier\n",
              "Tier 2                2002                       OUT045                8994.9580\n",
              "                      2004                       OUT035                8479.6288\n",
              "                      2007                       OUT017                9664.7528\n",
              "Tier 3                1985                       OUT027               13086.9648\n",
              "                      1987                       OUT013               10256.6490\n",
              "                      1998                       OUT010                1775.6886\n",
              "                      2009                       OUT018                6768.5228\n",
              "Name: Item_Outlet_Sales, dtype: float64"
            ]
          },
          "metadata": {
            "tags": []
          },
          "execution_count": 59
        }
      ]
    }
  ]
}